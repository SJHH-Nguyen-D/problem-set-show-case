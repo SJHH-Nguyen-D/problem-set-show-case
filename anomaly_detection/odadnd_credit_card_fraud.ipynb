{
  "nbformat": 4,
  "nbformat_minor": 0,
  "metadata": {
    "colab": {
      "name": "odadnd_credit_card_fraud.ipynb",
      "provenance": [],
      "collapsed_sections": [],
      "toc_visible": true
    },
    "kernelspec": {
      "name": "python3",
      "display_name": "Python 3"
    },
    "accelerator": "GPU"
  },
  "cells": [
    {
      "cell_type": "markdown",
      "metadata": {
        "id": "DpIzfDd29r7X",
        "colab_type": "text"
      },
      "source": [
        "# Credit Card Fraud Detection"
      ]
    },
    {
      "cell_type": "markdown",
      "metadata": {
        "id": "Y50dwIWg9svk",
        "colab_type": "text"
      },
      "source": [
        "## About\n",
        "\n",
        "Credit card fraud detection is a real world problem that is plaguing the nations. It is an anomaly detection problem due to the Poisson distributed positive cases. Fraud doesn't happen every day, but when it does happen, we want to capture it and predict, given the types of patterns that we can detect, which accounts will likely experience an instance of fraudulent activity.\n",
        "\n",
        "Being able to work with fraud detection gives us insight into working with all sorts of anomaly detection type problems in the feature, even outside this particular domain."
      ]
    },
    {
      "cell_type": "markdown",
      "metadata": {
        "id": "W2cZ-3Ok9uOR",
        "colab_type": "text"
      },
      "source": [
        "## The Dataset\n",
        "\n",
        "The dataset was retrieved from data world, which retrieved it from a Kaggle competitition. It's a flat datset and not necessarily considered big data, however, it will serve its purpose here. \n",
        "\n",
        "The attributes for the dataset, for the most part, were stripped so we don't really have a human readable understanding of what the attributes mean, but from what I can tell, the values for each of these anonymized attributes are normalized values.\n",
        "\n",
        "Our target is a boolean, indicating whether or not the account has experienced fraudulent activity or not.\n"
      ]
    },
    {
      "cell_type": "markdown",
      "metadata": {
        "id": "EfJWGiKZkUIF",
        "colab_type": "text"
      },
      "source": [
        "## Download External Dependencies"
      ]
    },
    {
      "cell_type": "code",
      "metadata": {
        "id": "fuw0XkOykbGQ",
        "colab_type": "code",
        "outputId": "801e6b80-c388-47c2-d5c5-f1a7cbc9b86d",
        "colab": {
          "base_uri": "https://localhost:8080/",
          "height": 194
        }
      },
      "source": [
        "!pip install pyod -qq\n",
        "!pip install imbalance-learn -qq\n",
        "!pip install keras -qq\n",
        "!pip install --upgrade tensorflow -qq"
      ],
      "execution_count": 0,
      "outputs": [
        {
          "output_type": "stream",
          "text": [
            "\u001b[?25l\r\u001b[K     |███▉                            | 10kB 26.0MB/s eta 0:00:01\r\u001b[K     |███████▋                        | 20kB 3.1MB/s eta 0:00:01\r\u001b[K     |███████████▍                    | 30kB 4.5MB/s eta 0:00:01\r\u001b[K     |███████████████▎                | 40kB 2.9MB/s eta 0:00:01\r\u001b[K     |███████████████████             | 51kB 3.6MB/s eta 0:00:01\r\u001b[K     |██████████████████████▉         | 61kB 4.3MB/s eta 0:00:01\r\u001b[K     |██████████████████████████▋     | 71kB 4.9MB/s eta 0:00:01\r\u001b[K     |██████████████████████████████▌ | 81kB 5.6MB/s eta 0:00:01\r\u001b[K     |████████████████████████████████| 92kB 4.4MB/s \n",
            "\u001b[?25h  Building wheel for pyod (setup.py) ... \u001b[?25l\u001b[?25hdone\n",
            "\u001b[31mERROR: Could not find a version that satisfies the requirement imbalance-learn (from versions: none)\u001b[0m\n",
            "\u001b[31mERROR: No matching distribution found for imbalance-learn\u001b[0m\n",
            "\u001b[K     |████████████████████████████████| 86.3MB 126kB/s \n",
            "\u001b[K     |████████████████████████████████| 3.8MB 43.9MB/s \n",
            "\u001b[K     |████████████████████████████████| 450kB 51.1MB/s \n",
            "\u001b[K     |████████████████████████████████| 81kB 12.5MB/s \n",
            "\u001b[31mERROR: tensorboard 2.0.2 has requirement grpcio>=1.24.3, but you'll have grpcio 1.15.0 which is incompatible.\u001b[0m\n",
            "\u001b[31mERROR: google-colab 1.0.0 has requirement google-auth~=1.4.0, but you'll have google-auth 1.7.1 which is incompatible.\u001b[0m\n",
            "\u001b[?25h"
          ],
          "name": "stdout"
        }
      ]
    },
    {
      "cell_type": "markdown",
      "metadata": {
        "id": "G76WeA6e_TcL",
        "colab_type": "text"
      },
      "source": [
        "## Load Dependencies"
      ]
    },
    {
      "cell_type": "code",
      "metadata": {
        "id": "jXsfd3ow_Vuz",
        "colab_type": "code",
        "colab": {}
      },
      "source": [
        "# Accessory modules\n",
        "from collections import Counter\n",
        "from inspect import signature\n",
        "import pandas as pd\n",
        "import numpy as np\n",
        "import os\n",
        "import pprint\n",
        "pp = pprint.PrettyPrinter(indent=4)\n",
        "from google.colab import drive\n",
        "import pandas_profiling\n",
        "from timeit import default_timer\n",
        "import warnings\n",
        "warnings.filterwarnings(\"ignore\")\n",
        "import tempfile\n",
        "\n",
        "# Scikit-learn Modules\n",
        "from sklearn.metrics import (precision_score, confusion_matrix, recall_score, accuracy_score, \n",
        "                             balanced_accuracy_score,roc_auc_score, classification_report, confusion_matrix, \n",
        "                             r2_score, f1_score, roc_curve, precision_recall_curve, average_precision_score)\n",
        "from sklearn.model_selection import train_test_split, GridSearchCV\n",
        "from sklearn.linear_model import SGDClassifier\n",
        "from sklearn.preprocessing import StandardScaler\n",
        "\n",
        "# PyOD modules\n",
        "from pyod.models.lof import LOF\n",
        "from pyod.models.pca import PCA\n",
        "from pyod.models.iforest import IForest\n",
        "from pyod.models.ocsvm import OCSVM\n",
        "\n",
        "# Keras Modules\n",
        "from tensorflow import keras\n",
        "from tensorflow.keras.metrics import (TruePositives, FalsePositives, TrueNegatives, \n",
        "                                      FalseNegatives, BinaryAccuracy, Precision, Recall, AUC)\n",
        "from tensorflow.keras.models import Model, Sequential\n",
        "from tensorflow.keras.layers import (Dense, Input, Conv2D, MaxPooling2D, UpSampling2D, \n",
        "                          BatchNormalization, Dropout)\n",
        "from tensorflow.keras import backend as K\n",
        "from tensorflow.keras.callbacks import EarlyStopping\n",
        "from tensorflow.keras.optimizers import Adam\n",
        "from tensorflow.keras.losses import BinaryCrossentropy\n",
        "from tensorflow.keras.initializers import Constant\n",
        "from tensorflow import data\n",
        "\n",
        "# Plotting modules\n",
        "import matplotlib.pyplot as plt \n",
        "import seaborn as sns\n",
        "%matplotlib inline\n",
        "import matplotlib as mpl\n",
        "mpl.rcParams['figure.figsize'] = (12, 10)\n",
        "colors = plt.rcParams['axes.prop_cycle'].by_key()['color']"
      ],
      "execution_count": 0,
      "outputs": []
    },
    {
      "cell_type": "markdown",
      "metadata": {
        "id": "m1j1p9T_nxNo",
        "colab_type": "text"
      },
      "source": [
        "## Constants"
      ]
    },
    {
      "cell_type": "code",
      "metadata": {
        "id": "-Mnb8BeknzQt",
        "colab_type": "code",
        "colab": {}
      },
      "source": [
        "DRIVENAME = \"/content/drive/\"\n",
        "# FILENAME = \"/content/drive/My Drive/problem_set_challenges_for_job_postings/scaled_and_processed_cc.csv\"\n",
        "FILENAME = \"/content/drive/My Drive/problem_set_challenges_for_job_postings/cc.csv\"\n",
        "FILEURL = 'https://storage.googleapis.com/download.tensorflow.org/data/creditcard.csv'\n",
        "\n",
        "METRICS = [\n",
        "      TruePositives(name='tp'),\n",
        "      FalsePositives(name='fp'),\n",
        "      TrueNegatives(name='tn'),\n",
        "      FalseNegatives(name='fn'), \n",
        "      BinaryAccuracy(name='accuracy'),\n",
        "      Precision(name='precision'),\n",
        "      Recall(name='recall'),\n",
        "      AUC(name='auc'),\n",
        "]"
      ],
      "execution_count": 0,
      "outputs": []
    },
    {
      "cell_type": "markdown",
      "metadata": {
        "id": "WE7Y6nIOcHS4",
        "colab_type": "text"
      },
      "source": [
        "## Functions"
      ]
    },
    {
      "cell_type": "code",
      "metadata": {
        "id": "LnP_cQLzuUTU",
        "colab_type": "code",
        "colab": {}
      },
      "source": [
        "def mount_drive(drivename):\n",
        "    from google.colab import drive\n",
        "    drive.mount(drivename)\n",
        "\n",
        "\n",
        "def load_csv_file(path):\n",
        "    dataframe = pd.read_csv(FILENAME)\n",
        "    if isinstance(dataframe[\"Unnamed: 0\"], pd.Series):\n",
        "        dataframe = dataframe.drop('Unnamed: 0', inplace=False, axis=1)\n",
        "    return dataframe\n",
        "\n",
        "\n",
        "def drop_features(dataframe, cols):\n",
        "    for col in cols:\n",
        "        dataframe.drop(col, axis=1, inplace=True)\n",
        "    return dataframe\n",
        "\n",
        "\n",
        "def rename_target(dataframe, label):\n",
        "    return dataframe.rename({label: \"target\"}, axis=1, inplace=False)\n",
        "\n",
        "\n",
        "def remap_boolean(dataframe, label):\n",
        "    return dataframe[label].replace({False:0, True:1}, inplace=False)\n",
        "\n",
        "\n",
        "def scale_feature(dataframe, label):\n",
        "    eps = 0.001\n",
        "    # if you want to standardize it use the code that is commented out\n",
        "    # dataframe[label].apply(lambda x: (x-dataframe[label].mean())/dataframe[label].std())\n",
        "    return dataframe[label].apply(lambda x: np.log(x.pop(label)+eps))\n",
        "\n",
        "\n",
        "def preprocess(dataframe, cols_to_drop, cols_to_remap, cols_scale):\n",
        "    start_time = default_timer()\n",
        "    dataframe = drop_features(dataframe, cols_to_drop)\n",
        "    dataframe = rename_target(dataframe, \"class\")\n",
        "    dataframe[cols_to_remap] = remap_boolean(dataframe, cols_to_remap)\n",
        "    dataframe[cols_scale] = scale_feature(dataframe, cols_scale)\n",
        "    end_time = default_timer()\n",
        "    print(f\"Processing completed. Elapsed time: {end_time-start_time}\")\n",
        "    return dataframe\n",
        "\n",
        "def split_dataset(df):\n",
        "    # Use a utility from sklearn to split and shuffle our dataset.\n",
        "    seed = 42\n",
        "    test_size=0.3\n",
        "    train_df, test_df = train_test_split(df, test_size=test_size, random_state=seed)\n",
        "    train_df, val_df = train_test_split(train_df, test_size=test_size, random_state=seed)\n",
        "\n",
        "    # Form np arrays of labels and features.\n",
        "    y_train = np.array(train_df.pop('Class'))\n",
        "    bool_y_train = y_train != 0\n",
        "    y_val = np.array(val_df.pop('Class'))\n",
        "    y_test = np.array(test_df.pop('Class'))\n",
        "\n",
        "    X_train = np.array(train_df)\n",
        "    X_val = np.array(val_df)\n",
        "    X_test = np.array(test_df)\n",
        "    return (X_train, y_train), (X_val, y_val), (X_test, y_test)\n",
        "\n",
        "\n",
        "def split_data_into_feature_and_target(data, target_label=\"target\"):\n",
        "    \"\"\" Splits the dataframe into features and target\n",
        "    :param data: is dataframe with last column on right as target\n",
        "    \"\"\"\n",
        "    X = data.loc[:, data.columns != target_label].values\n",
        "    y = data[target_label].values\n",
        "    return X, y\n",
        "\n",
        "def standardize_data(train_features, val_features, test_features):\n",
        "    scaler = StandardScaler()\n",
        "    train_features = scaler.fit_transform(train_features)\n",
        "\n",
        "    val_features = scaler.transform(val_features)\n",
        "    test_features = scaler.transform(test_features)\n",
        "\n",
        "    train_features = np.clip(train_features, -5, 5)\n",
        "    val_features = np.clip(val_features, -5, 5)\n",
        "    test_features = np.clip(test_features, -5, 5)\n",
        "\n",
        "    print('Training features shape:', train_features.shape)\n",
        "    print('Validation features shape:', val_features.shape)\n",
        "    print('Test features shape:', test_features.shape)\n",
        "\n",
        "    return train_features, val_features, test_features\n",
        "\n",
        "\n",
        "\n",
        "def plot_pca(X, y, list_n_pca_components):\n",
        "    \"\"\" plots a PCA plot... borrowed code that I want to touch as little as possible \"\"\"\n",
        "    from sklearn.decomposition import PCA\n",
        "    from sklearn.pipeline import Pipeline\n",
        "    from sklearn.model_selection import GridSearchCV\n",
        "    from sklearn.linear_model import SGDClassifier\n",
        "    from timeit import default_timer\n",
        "\n",
        "    logistic = SGDClassifier(loss='log', penalty='l2', early_stopping=True,\n",
        "                            max_iter=100, tol=1e-5, random_state=0)\n",
        "    pca = PCA()\n",
        "    pipe = Pipeline(steps=[('pca', pca), ('logistic', logistic)])\n",
        "\n",
        "    # Parameters of pipelines can be set using ‘__’ separated parameter names:\n",
        "    param_grid = {\n",
        "        'pca__n_components': list_n_pca_components,\n",
        "        'logistic__alpha': np.logspace(-4, 4, 5),\n",
        "    }\n",
        "\n",
        "    start_time = default_timer()\n",
        "    search = GridSearchCV(pipe, param_grid, iid=False, cv=10)\n",
        "    search.fit(X, y)\n",
        "    print(\"Best parameter (CV score=%0.3f):\" % search.best_score_)\n",
        "    print(search.best_params_)\n",
        "\n",
        "    # Plot the PCA spectrum\n",
        "    pca.fit(X)\n",
        "    end_time = default_timer()\n",
        "    print(\"Elapsed time to fit: {}s\".format(end_time - start_time))\n",
        "    fig, (ax0, ax1) = plt.subplots(nrows=2, sharex=True, figsize=(6, 6))\n",
        "    ax0.plot(pca.explained_variance_ratio_, linewidth=2)\n",
        "    ax0.set_ylabel('PCA explained variance')\n",
        "\n",
        "    ax0.axvline(search.best_estimator_.named_steps['pca'].n_components,\n",
        "                linestyle=':', label='n_components chosen')\n",
        "    ax0.legend(prop=dict(size=12))\n",
        "\n",
        "    # For each number of components, find the best classifier results\n",
        "    results = pd.DataFrame(search.cv_results_)\n",
        "    components_col = 'param_pca__n_components'\n",
        "    best_clfs = results.groupby(components_col).apply(\n",
        "        lambda g: g.nlargest(1, 'mean_test_score'))\n",
        "\n",
        "    best_clfs.plot(x=components_col, y='mean_test_score', yerr='std_test_score',\n",
        "                legend=False, ax=ax1)\n",
        "    ax1.set_ylabel('Classification accuracy (val)')\n",
        "    ax1.set_xlabel('n_components')\n",
        "\n",
        "    plt.tight_layout()\n",
        "    plt.show()\n",
        "\n",
        "\n",
        "def extract_pc_into_df(data, n_pca_components):\n",
        "    from sklearn.linear_model import SGDClassifier\n",
        "    from sklearn.decomposition import PCA\n",
        "\n",
        "    X, y = split_data_into_feature_and_target(data)\n",
        "\n",
        "    logistic = SGDClassifier(loss='log', penalty='l2', early_stopping=True,\n",
        "                         max_iter=10000, tol=1e-5, random_state=0, alpha=0.0001)\n",
        "    \n",
        "    pca = PCA(n_components=n_pca_components)\n",
        "    principal_components = pca.fit_transform(X, y)\n",
        "\n",
        "    princ_comp_names = [f\"pc{a}\" for a in range(1, 12)]\n",
        "    dataframe = pd.DataFrame(principal_components, columns=princ_comp_names)\n",
        "    dataframe['target'] = data['target'].values\n",
        "\n",
        "    return dataframe\n",
        "\n",
        "\n",
        "def normality_of_distribution_test(feature, significance_level=0.05):\n",
        "    from scipy.stats import normaltest\n",
        "    test_normality = normaltest(feature, axis=0, nan_policy='propagate')\n",
        "    if test_normality[1]<significance_level:\n",
        "        print(\"This feature is normally distributed about the mean\")\n",
        "    else:\n",
        "        print(\"This feature is NOT normally distributed about the mean\")\n",
        "\n",
        "\n",
        "def fit_simple_model(data, model_type):\n",
        "    from timeit import default_timer\n",
        "    X, y = split_data_into_feature_and_target(data)\n",
        "    X_train, X_test, y_train, y_test = train_test_split(X, y, test_size=0.4, random_state=42)\n",
        "    if model_type == \"naive bayes\":\n",
        "        from sklearn.naive_bayes import GaussianNB\n",
        "        model = GaussianNB()\n",
        "    else:\n",
        "        raise ValueError(\"Please select a valid model_type value\")\n",
        "    \n",
        "    start_time = default_timer()\n",
        "    fitted_model = model.fit(X_train, y_train)\n",
        "    y_pred = model.predict(X_test)\n",
        "    end_time = default_timer()\n",
        "    elapsed_time = end_time - start_time\n",
        "    print(f\"Model fitting and prediction complete.\\nElapsed Time: {elapsed_time}s\")\n",
        "    return (X_train, X_test, y_train, y_test, y_pred), fitted_model, elapsed_time\n",
        "\n",
        "\n",
        "def make_model(train_features, metrics = METRICS, output_bias=None):\n",
        "    \"\"\" simple neural network model to classify anomalous vs nominal cases \"\"\"\n",
        "    if output_bias is not None:\n",
        "        output_bias = Constant(output_bias)\n",
        "    \n",
        "    model = Sequential([\n",
        "        Dense(16, activation='relu', input_shape=(train_features.shape[-1],)),\n",
        "        Dropout(0.5),\n",
        "        Dense(1, activation='sigmoid',bias_initializer=output_bias),\n",
        "    ])\n",
        "\n",
        "    model.compile(\n",
        "        optimizer=Adam(lr=1e-3),\n",
        "        loss=BinaryCrossentropy(),\n",
        "        metrics=metrics)\n",
        "\n",
        "    return model\n",
        "\n",
        "\n",
        "def plot_loss(history, label, n):\n",
        "  # Use a log scale to show the wide range of values.\n",
        "  plt.semilogy(history.epoch,  history.history['loss'],\n",
        "               color=colors[n], label='Train '+label)\n",
        "  plt.semilogy(history.epoch,  history.history['val_loss'],\n",
        "          color=colors[n], label='Val '+label,\n",
        "          linestyle=\"--\")\n",
        "  plt.xlabel('Epoch')\n",
        "  plt.ylabel('Loss')\n",
        "  \n",
        "  plt.legend()\n",
        "\n",
        "def plot_metrics(history):\n",
        "  metrics =  ['loss', 'auc', 'precision', 'recall', \"fn\"]\n",
        "  for n, metric in enumerate(metrics):\n",
        "    name = metric.replace(\"_\",\" \").capitalize()\n",
        "    plt.subplot(3,2,n+1)\n",
        "    plt.plot(history.epoch,  history.history[metric], color=colors[0], label='Train')\n",
        "    plt.plot(history.epoch, history.history['val_'+metric],\n",
        "             color=colors[1], linestyle=\"--\", label='Val')\n",
        "    plt.xlabel('Epoch')\n",
        "    plt.ylabel(name)\n",
        "    if metric == 'loss':\n",
        "      plt.ylim([0, plt.ylim()[1]])\n",
        "    elif metric == 'auc':\n",
        "      plt.ylim([0.8,1])\n",
        "    else:\n",
        "      plt.ylim([0,1])\n",
        "\n",
        "    plt.legend()\n",
        "\n",
        "\n",
        "def plot_cm(labels, predictions, p=0.5):\n",
        "  cm = confusion_matrix(labels, predictions > p)\n",
        "  fig, ax = plt.subplots(figsize=(15,15))\n",
        "  sns.heatmap(cm, annot=True, fmt=\"d\", ax=ax)\n",
        "  plt.title('Confusion matrix @{:.2f}'.format(p))\n",
        "  plt.ylabel('Actual label')\n",
        "  plt.xlabel('Predicted label')\n",
        "\n",
        "  print('Legitimate Transactions Detected (True Negatives): ', cm[0][0])\n",
        "  print('Legitimate Transactions Incorrectly Detected (False Positives): ', cm[0][1])\n",
        "  print('Fraudulent Transactions Missed (False Negatives): ', cm[1][0])\n",
        "  print('Fraudulent Transactions Detected (True Positives): ', cm[1][1])\n",
        "  print('Total Fraudulent Transactions: ', np.sum(cm[1]))\n",
        "\n",
        "\n",
        "def plot_roc_curve(name, labels, predictions, **kwargs):\n",
        "  fp, tp, _ = roc_curve(labels, predictions)\n",
        "\n",
        "  plt.plot(100*fp, 100*tp, label=name, linewidth=2, **kwargs)\n",
        "  plt.xlabel('False positives [%]')\n",
        "  plt.ylabel('True positives [%]')\n",
        "  plt.xlim([-0.5,20])\n",
        "  plt.ylim([80,100.5])\n",
        "  plt.grid(True)\n",
        "  ax = plt.gca()\n",
        "  ax.set_aspect('equal')\n",
        "\n",
        "\n",
        "def fit_get_predictions_with_CV(data, model_name, param_search_space):\n",
        "    \"\"\" Uses the GridSearchCV to fit specified model. \n",
        "    param_search_space must be compatible with models passed in \"\"\"\n",
        "    from timeit import default_timer\n",
        "\n",
        "    X, y = split_data_into_feature_and_target(data)\n",
        "    X_train, X_test, y_train, y_test = train_test_split(X, y, test_size=0.3, random_state=42)\n",
        "\n",
        "    if model_name == \"RFC\":\n",
        "        from sklearn.ensemble import RandomForestClassifier\n",
        "        estimator = RandomForestClassifier()\n",
        "    \n",
        "    elif model_name == \"logistic regression\":\n",
        "        from sklearn.linear_model import LogisticRegression\n",
        "        estimator = LogisticRegression(class_weight=\"balanced\", verbose=0, random_state=42, \n",
        "                                       max_iter=100, solver=\"saga\", warm_start=False, n_jobs=-1, \n",
        "                                       l1_ratio=1)\n",
        "        \n",
        "    elif model_name == \"naive bayes\":\n",
        "        from sklearn.naive_bayes import GaussianNB\n",
        "        estimator = GaussianNB()\n",
        "\n",
        "    elif model_name == \"KNN\":\n",
        "        from sklearn.neighbors import KNeighborsClassifier\n",
        "        estimator = KNeighborsClassifier()\n",
        "    \n",
        "    else:\n",
        "        raise ValueError(\"Please enter a valid model_name string value\")\n",
        "\n",
        "    start_time = default_timer()\n",
        "    gscv = GridSearchCV(estimator, param_search_space, cv=10, error_score=\"raise\")\n",
        "    fitted_model = gscv.fit(X_train, y_train)\n",
        "    y_pred = gscv.predict(X_test)\n",
        "    end_time = default_timer()\n",
        "    elapsed_time = end_time - start_time\n",
        "    print(f\"Training, Validation and Testing are complete.\\nElapsed Time: {elapsed_time}s\")\n",
        "    return (X_train, X_test, y_train, y_test, y_pred), fitted_model, elapsed_time\n",
        "\n",
        "\n",
        "\n",
        "def fit_predict_score_outlier_detection_models(model_type, X_train, X_test, y_train, y_test):\n",
        "    \"\"\" fits a specified model within the allowable options \"\"\"\n",
        "\n",
        "    supervised = True\n",
        "    if model_type == \"iforest\":\n",
        "        from pyod.models.iforest import IForest\n",
        "        model = IForest(contamination=0.1, n_estimators=100, max_samples='auto', \n",
        "                        max_features=1.0, bootstrap=False, n_jobs=1, behaviour='old', \n",
        "                        random_state=42, verbose=0)\n",
        "\n",
        "    elif model_type == \"knn\":\n",
        "        from pyod.models.knn import KNN\n",
        "        model = KNN(contamination=0.1, n_neighbors=5, method='largest', radius=1.0, \n",
        "                    algorithm='auto', leaf_size=30, metric='minkowski', \n",
        "                    p=2, metric_params=None, n_jobs=1)\n",
        "    \n",
        "    elif model_type == \"ocsvm\":\n",
        "        \"\"\" can be supervised or unsupervised \"\"\"\n",
        "        from pyod.models.ocsvm import OCSVM\n",
        "        model = OCSVM(kernel='rbf', degree=3, gamma='auto', coef0=0.0, tol=0.001, nu=0.5,\n",
        "                      shrinking=True, cache_size=200, verbose=False, max_iter=-1, \n",
        "                      contamination=0.1)\n",
        "\n",
        "    elif model_type == \"lof\":\n",
        "        \"\"\" unsupervised method \"\"\"\n",
        "        from pyod.models.lof import LOF\n",
        "        model = LOF()\n",
        "\n",
        "    else:\n",
        "        raise ValueError(\"Please pass in an accepted model.\")\n",
        "    \n",
        "    if supervised:\n",
        "        model.fit(X=X_train, y=y_train)\n",
        "        test_anomaly_scores = model.decision_function(X_test)\n",
        "        training_anomaly_scores = model.decision_scores_\n",
        "        y_pred = model.fit_predict(X_test)\n",
        "        y_pred_probs = model.predict_proba(X_test)\n",
        "\n",
        "    else:\n",
        "        model.fit(X_train)\n",
        "        generated_train_labels = model.labels_ # 0: inlier; 1: outlier\n",
        "        training_anomaly_scores = model.decision_scores_\n",
        "        test_anomaly_scores = model.decision_function(X_train)\n",
        "        outlier_prediction = model.predict(X_test)\n",
        "\n",
        "    return (y_pred, y_pred_probs), (training_anomaly_scores, test_anomaly_scores), model\n",
        "\n",
        "\n",
        "\n",
        "def conf_mat_parser(confusion_matrix):\n",
        "    \"\"\" parse a confusion matrix into its components \"\"\"\"\"\"\"\"\"\"\"\n",
        "    TN, FN, FP, TP = [i for j in confusion_matrix for i in j]\n",
        "    return TN, FN, FP, TP\n",
        "\n",
        "\n",
        "def detailed_confusion_matrix(y_test, y_pred):\n",
        "    \"\"\" prints out confusion matrix with more labeling and detail \"\"\"\n",
        "\n",
        "    TN, FP, FN, TP = conf_mat_parser(confusion_matrix(y_test, y_pred))\n",
        "    sensitivity = (TP/(TP+FN))\n",
        "    specificity = (TN/(TN+FP))\n",
        "    precision = (TP / (TP+FP))\n",
        "\n",
        "    print(\"                           *Fraudulent Cases are considered Positive Cases\")\n",
        "    print(\"============================================================================================\")\n",
        "    print(\"######################### Predicted Non-Fraudulent ### | ### Predicted Fraudulent ##########\")\n",
        "    print(\"\\n\")\n",
        "    print(f\"Actually Non-Fraudulent | TN = {TN}                   | FP = {FP}\")\n",
        "    print(\"\\n\")\n",
        "    print(f\"Actually Fraudulent     | FN = {FN}                       | TP = {TP} \")\n",
        "    print(\"\\n\")\n",
        "    print(f\"Specificity: {sensitivity}\")\n",
        "    print(f\"Sensitivity (aka. Recall): {specificity}\")\n",
        "\n",
        "\n",
        "def report_performance_scores(model, y_test, y_pred, train_time):\n",
        "    \"\"\" prints out some of the useful performance metrics of our model as well as returns a dataframe containing those metrics \"\"\"\n",
        "    from sklearn.metrics import (classification_report, confusion_matrix, \n",
        "                                 recall_score, precision_score, roc_auc_score,\n",
        "                                 accuracy_score, r2_score, f1_score\n",
        "                                 )\n",
        "    dataframe = pd.DataFrame({\"id\":[\"000\"], \n",
        "        \"best_parameters\":f\"{model.get_params}\", \n",
        "        \"accuracy\":[accuracy_score(y_test, y_pred)], \n",
        "        \"precision\":[precision_score(y_test, y_pred)], \n",
        "        \"recall\":[recall_score(y_test, y_pred)], \n",
        "        \"roc_auc\":[roc_auc_score(y_test, y_pred)], \n",
        "        \"r2_score\":[r2_score(y_test, y_pred)],\n",
        "        \"f1-score\": [f1_score(y_test, y_pred)],\n",
        "        \"train_time(s)\":f\"{train_time}\"\n",
        "        })\n",
        "    \n",
        "    pp.pprint(classification_report(y_test, y_pred))\n",
        "    print(\"\\n\")\n",
        "    print(f\"ROC Score: {roc_auc_score(y_test, y_pred)}\")\n",
        "    print(\"\\n\")\n",
        "    detailed_confusion_matrix(y_test, y_pred)\n",
        "    return dataframe\n",
        "\n",
        "\n",
        "def perform_mannwhitneyutest(training_anomaly_scores, test_anomaly_scores, significance_level=0.05):\n",
        "    \"\"\" non-parametric version of the t-test for checking if the means betwen two different populations are significantly different \"\"\"\n",
        "    from scipy.stats import mannwhitneyu \n",
        "    result = mannwhitneyu(test_anomaly_scores, training_anomaly_scores)\n",
        "    if result[1] < significance_level:\n",
        "        print(\"We reject the null hypothesis and conclude that the mean measurements between the two groups are statistically significantly different.\")\n",
        "    else:\n",
        "        print(\"We fail reject the null hypothesis and conclude that the mean measurements between the two groups are statistically NOT significantly different.\")\n",
        "\n",
        "\n",
        "def get_max_probas(y_pred_probs):\n",
        "    \"\"\" get array of target probabilities and return an array of \n",
        "    prediicted max probabilities for a binary class problem \"\"\"\n",
        "    df = pd.DataFrame(y_pred_probs)\n",
        "    df['max'] = df.max(axis=1)\n",
        "    y_pred_probs_max = df['max'].values\n",
        "    return y_pred_probs_max\n",
        "\n",
        "\n",
        "def predict_max_prob(model, X_test):\n",
        "    y_pred_probs = model.predict_proba(X_test)\n",
        "    y_pred_probs_max = get_max_probas(y_pred_probs)\n",
        "    return y_pred_probs_max\n",
        "\n",
        "\n",
        "def plot_roc(y_test, y_pred_probs, n_classes=2):\n",
        "    \"\"\" make sure that y_pred are probabilities \"\"\"\n",
        "    from sklearn.metrics import roc_curve, auc\n",
        "\n",
        "\n",
        "    fpr = dict()\n",
        "    tpr = dict()\n",
        "    roc_auc = dict()\n",
        "    for i in range(n_classes):\n",
        "        fpr[i], tpr[i], _ = roc_curve(y_test, y_pred_probs)\n",
        "        roc_auc[i] = auc(fpr[i], tpr[i])\n",
        "\n",
        "    # Compute micro-average ROC curve and ROC area\n",
        "    fpr[\"micro\"], tpr[\"micro\"], _ = roc_curve(y_test.ravel(), y_pred_probs.ravel())\n",
        "    roc_auc[\"micro\"] = auc(fpr[\"micro\"], tpr[\"micro\"])\n",
        "\n",
        "    fig, ax = plt.subplots(figsize=(10, 10))\n",
        "    lw = 2\n",
        "    plt.plot(fpr[1], tpr[1], color='darkorange',\n",
        "            lw=lw, label='ROC curve (area = %0.2f)' % roc_auc[1])\n",
        "    plt.plot([0, 1], [0, 1], color='navy', lw=lw, linestyle='--')\n",
        "    plt.xlim([0.0, 1.0])\n",
        "    plt.ylim([0.0, 1.05])\n",
        "    plt.xlabel('False Positive Rate')\n",
        "    plt.ylabel('True Positive Rate')\n",
        "    plt.title('Receiver Operator Characteristic Curve')\n",
        "    plt.legend(loc=\"lower right\")\n",
        "    plt.show()\n",
        "\n",
        "\n",
        "def plot_prc(y_test, y_pred_probs, y_pred):\n",
        "    \n",
        "    average_precision = average_precision_score(y_test, y_pred)\n",
        "    precision, recall, _ = precision_recall_curve(y_test, y_pred_probs)\n",
        "\n",
        "    # In matplotlib < 1.5, plt.fill_between does not have a 'step' argument\n",
        "    step_kwargs = ({'step': 'post'}\n",
        "                if 'step' in signature(plt.fill_between).parameters\n",
        "                else {})\n",
        "    fig, ax = plt.subplots(figsize=(10, 10))\n",
        "    plt.step(recall, precision, color='b', alpha=0.2,\n",
        "            where='post')\n",
        "    plt.fill_between(recall, precision, alpha=0.2, color='b', **step_kwargs)\n",
        "\n",
        "    plt.xlabel('Recall')\n",
        "    plt.ylabel('Precision')\n",
        "    plt.ylim([0.0, 1.05])\n",
        "    plt.xlim([0.0, 1.0])\n",
        "    plt.title('2-class Precision-Recall curve: AP={0:0.2f}'.format(\n",
        "            average_precision))\n",
        "\n",
        "\n",
        "def plot_anomaly_score_dists(train_anomaly_scores, test_anomaly_scores):\n",
        "    fig, (ax1, ax2) = plt.subplots(nrows=1, ncols=2, figsize=(20, 10))\n",
        "\n",
        "    plt.suptitle(\"Distribution of Anomaly Scores for Training and Testing Sets\", fontsize=20)\n",
        "\n",
        "    sns.distplot(test_anomaly_scores, ax=ax1)\n",
        "    ax1.set_xlabel(\"Training Anomaly Scores\")\n",
        "    ax1.set_xlim(min(train_anomaly_scores), train_anomaly_scores.std()*10)\n",
        "\n",
        "    sns.distplot(test_anomaly_scores, ax=ax2)\n",
        "    ax2.set_xlabel(\"Test Anomaly Scores\")\n",
        "    ax2.set_xlim(min(test_anomaly_scores), test_anomaly_scores.std()*10)\n",
        "\n",
        "    plt.show()\n",
        "\n",
        "\n",
        "\n",
        "def sample_for_test_set(dataframe, target=\"target\", fraction=0.3, include_minority=True):\n",
        "    \"\"\" resample dataframe \"\"\"\n",
        "    if include_minority:\n",
        "        test_samples_all_nonfraud_df = pd.DataFrame(dataframe.sample(frac=0.3, replace=False), columns=dataframe.columns).reset_index()                         \n",
        "        X_test = test_samples_all_nonfraud_df.iloc[:, 1:-1].values # if \"index\" is the first column\n",
        "        y_test = test_samples_all_nonfraud_df.loc[:, target].values\n",
        "\n",
        "    else:\n",
        "        test_samples_all_nonfraud_df = pd.DataFrame(dataframe.loc[dataframe[target] == 0, :].sample(frac=0.3, replace=False), \n",
        "                                                columns=dataframe.columns).reset_index()\n",
        "        X_test = test_samples_all_nonfraud_df.iloc[:, 1:-1].values # if \"index\" is the first column\n",
        "        y_test = test_samples_all_nonfraud_df.loc[:, target].values\n",
        "\n",
        "    return X_test, y_test\n",
        "\n",
        "\n",
        "def appropriate_df_sampler(dataframe, target='target'):\n",
        "    \"\"\" heuristic type sampling with first selecting out the nominal vs the anomalous cases \"\"\"\n",
        "    fraudulent_data = dataframe.loc[dataframe[target] == 1, :]\n",
        "    nominal_data = dataframe.loc[dataframe[target] == 0, :]\n",
        "\n",
        "    training_set = (nominal_data.sample(frac=0.8, random_state=42)\n",
        "                    .append(fraudulent_data.sample(frac=0.2, random_state=42))).reset_index()\n",
        "\n",
        "    validation_set = (nominal_data.sample(frac=0.2, random_state=59)\n",
        "                    .append(fraudulent_data.sample(frac=0.2, random_state=59))).reset_index()\n",
        "\n",
        "    test_set = fraudulent_data.sample(frac=0.2, random_state=123).reset_index()\n",
        "\n",
        "    X_train, y_train = training_set.iloc[:, :-1].values, training_set.iloc[:, -1].values\n",
        "    X_val, y_val = validation_set.iloc[:, :-1].values, validation_set.iloc[:, -1].values\n",
        "    X_test, _test = test_set.iloc[:, :-1].values, test_set.iloc[:, -1].values\n",
        "\n",
        "    return (X_train, y_train), (X_val, y_val), (X_test, _test)\n",
        "    "
      ],
      "execution_count": 0,
      "outputs": []
    },
    {
      "cell_type": "markdown",
      "metadata": {
        "id": "8nGKK0k09wRB",
        "colab_type": "text"
      },
      "source": [
        "## Load Dataset"
      ]
    },
    {
      "cell_type": "code",
      "metadata": {
        "id": "oKBv-EDXcHHy",
        "colab_type": "code",
        "outputId": "ed19fe28-9017-476c-cc41-9e6d6e2ebfe2",
        "colab": {
          "base_uri": "https://localhost:8080/",
          "height": 306
        }
      },
      "source": [
        "mount_drive(DRIVENAME)\n",
        "eps = 0.001\n",
        "from tensorflow.keras import utils\n",
        "file = utils\n",
        "df = pd.read_csv(FILEURL)\n",
        "df.drop(\"Time\", axis=1, inplace=True)\n",
        "df['log_amount'] = np.log(df.pop(\"Amount\")+eps)\n",
        "df.head()"
      ],
      "execution_count": 0,
      "outputs": [
        {
          "output_type": "stream",
          "text": [
            "Go to this URL in a browser: https://accounts.google.com/o/oauth2/auth?client_id=947318989803-6bn6qk8qdgf4n4g3pfee6491hc0brc4i.apps.googleusercontent.com&redirect_uri=urn%3aietf%3awg%3aoauth%3a2.0%3aoob&response_type=code&scope=email%20https%3a%2f%2fwww.googleapis.com%2fauth%2fdocs.test%20https%3a%2f%2fwww.googleapis.com%2fauth%2fdrive%20https%3a%2f%2fwww.googleapis.com%2fauth%2fdrive.photos.readonly%20https%3a%2f%2fwww.googleapis.com%2fauth%2fpeopleapi.readonly\n",
            "\n",
            "Enter your authorization code:\n",
            "··········\n",
            "Mounted at /content/drive/\n"
          ],
          "name": "stdout"
        },
        {
          "output_type": "execute_result",
          "data": {
            "text/html": [
              "<div>\n",
              "<style scoped>\n",
              "    .dataframe tbody tr th:only-of-type {\n",
              "        vertical-align: middle;\n",
              "    }\n",
              "\n",
              "    .dataframe tbody tr th {\n",
              "        vertical-align: top;\n",
              "    }\n",
              "\n",
              "    .dataframe thead th {\n",
              "        text-align: right;\n",
              "    }\n",
              "</style>\n",
              "<table border=\"1\" class=\"dataframe\">\n",
              "  <thead>\n",
              "    <tr style=\"text-align: right;\">\n",
              "      <th></th>\n",
              "      <th>V1</th>\n",
              "      <th>V2</th>\n",
              "      <th>V3</th>\n",
              "      <th>V4</th>\n",
              "      <th>V5</th>\n",
              "      <th>V6</th>\n",
              "      <th>V7</th>\n",
              "      <th>V8</th>\n",
              "      <th>V9</th>\n",
              "      <th>V10</th>\n",
              "      <th>V11</th>\n",
              "      <th>V12</th>\n",
              "      <th>V13</th>\n",
              "      <th>V14</th>\n",
              "      <th>V15</th>\n",
              "      <th>V16</th>\n",
              "      <th>V17</th>\n",
              "      <th>V18</th>\n",
              "      <th>V19</th>\n",
              "      <th>V20</th>\n",
              "      <th>V21</th>\n",
              "      <th>V22</th>\n",
              "      <th>V23</th>\n",
              "      <th>V24</th>\n",
              "      <th>V25</th>\n",
              "      <th>V26</th>\n",
              "      <th>V27</th>\n",
              "      <th>V28</th>\n",
              "      <th>Class</th>\n",
              "      <th>log_amount</th>\n",
              "    </tr>\n",
              "  </thead>\n",
              "  <tbody>\n",
              "    <tr>\n",
              "      <th>0</th>\n",
              "      <td>-1.359807</td>\n",
              "      <td>-0.072781</td>\n",
              "      <td>2.536347</td>\n",
              "      <td>1.378155</td>\n",
              "      <td>-0.338321</td>\n",
              "      <td>0.462388</td>\n",
              "      <td>0.239599</td>\n",
              "      <td>0.098698</td>\n",
              "      <td>0.363787</td>\n",
              "      <td>0.090794</td>\n",
              "      <td>-0.551600</td>\n",
              "      <td>-0.617801</td>\n",
              "      <td>-0.991390</td>\n",
              "      <td>-0.311169</td>\n",
              "      <td>1.468177</td>\n",
              "      <td>-0.470401</td>\n",
              "      <td>0.207971</td>\n",
              "      <td>0.025791</td>\n",
              "      <td>0.403993</td>\n",
              "      <td>0.251412</td>\n",
              "      <td>-0.018307</td>\n",
              "      <td>0.277838</td>\n",
              "      <td>-0.110474</td>\n",
              "      <td>0.066928</td>\n",
              "      <td>0.128539</td>\n",
              "      <td>-0.189115</td>\n",
              "      <td>0.133558</td>\n",
              "      <td>-0.021053</td>\n",
              "      <td>0</td>\n",
              "      <td>5.008105</td>\n",
              "    </tr>\n",
              "    <tr>\n",
              "      <th>1</th>\n",
              "      <td>1.191857</td>\n",
              "      <td>0.266151</td>\n",
              "      <td>0.166480</td>\n",
              "      <td>0.448154</td>\n",
              "      <td>0.060018</td>\n",
              "      <td>-0.082361</td>\n",
              "      <td>-0.078803</td>\n",
              "      <td>0.085102</td>\n",
              "      <td>-0.255425</td>\n",
              "      <td>-0.166974</td>\n",
              "      <td>1.612727</td>\n",
              "      <td>1.065235</td>\n",
              "      <td>0.489095</td>\n",
              "      <td>-0.143772</td>\n",
              "      <td>0.635558</td>\n",
              "      <td>0.463917</td>\n",
              "      <td>-0.114805</td>\n",
              "      <td>-0.183361</td>\n",
              "      <td>-0.145783</td>\n",
              "      <td>-0.069083</td>\n",
              "      <td>-0.225775</td>\n",
              "      <td>-0.638672</td>\n",
              "      <td>0.101288</td>\n",
              "      <td>-0.339846</td>\n",
              "      <td>0.167170</td>\n",
              "      <td>0.125895</td>\n",
              "      <td>-0.008983</td>\n",
              "      <td>0.014724</td>\n",
              "      <td>0</td>\n",
              "      <td>0.989913</td>\n",
              "    </tr>\n",
              "    <tr>\n",
              "      <th>2</th>\n",
              "      <td>-1.358354</td>\n",
              "      <td>-1.340163</td>\n",
              "      <td>1.773209</td>\n",
              "      <td>0.379780</td>\n",
              "      <td>-0.503198</td>\n",
              "      <td>1.800499</td>\n",
              "      <td>0.791461</td>\n",
              "      <td>0.247676</td>\n",
              "      <td>-1.514654</td>\n",
              "      <td>0.207643</td>\n",
              "      <td>0.624501</td>\n",
              "      <td>0.066084</td>\n",
              "      <td>0.717293</td>\n",
              "      <td>-0.165946</td>\n",
              "      <td>2.345865</td>\n",
              "      <td>-2.890083</td>\n",
              "      <td>1.109969</td>\n",
              "      <td>-0.121359</td>\n",
              "      <td>-2.261857</td>\n",
              "      <td>0.524980</td>\n",
              "      <td>0.247998</td>\n",
              "      <td>0.771679</td>\n",
              "      <td>0.909412</td>\n",
              "      <td>-0.689281</td>\n",
              "      <td>-0.327642</td>\n",
              "      <td>-0.139097</td>\n",
              "      <td>-0.055353</td>\n",
              "      <td>-0.059752</td>\n",
              "      <td>0</td>\n",
              "      <td>5.936641</td>\n",
              "    </tr>\n",
              "    <tr>\n",
              "      <th>3</th>\n",
              "      <td>-0.966272</td>\n",
              "      <td>-0.185226</td>\n",
              "      <td>1.792993</td>\n",
              "      <td>-0.863291</td>\n",
              "      <td>-0.010309</td>\n",
              "      <td>1.247203</td>\n",
              "      <td>0.237609</td>\n",
              "      <td>0.377436</td>\n",
              "      <td>-1.387024</td>\n",
              "      <td>-0.054952</td>\n",
              "      <td>-0.226487</td>\n",
              "      <td>0.178228</td>\n",
              "      <td>0.507757</td>\n",
              "      <td>-0.287924</td>\n",
              "      <td>-0.631418</td>\n",
              "      <td>-1.059647</td>\n",
              "      <td>-0.684093</td>\n",
              "      <td>1.965775</td>\n",
              "      <td>-1.232622</td>\n",
              "      <td>-0.208038</td>\n",
              "      <td>-0.108300</td>\n",
              "      <td>0.005274</td>\n",
              "      <td>-0.190321</td>\n",
              "      <td>-1.175575</td>\n",
              "      <td>0.647376</td>\n",
              "      <td>-0.221929</td>\n",
              "      <td>0.062723</td>\n",
              "      <td>0.061458</td>\n",
              "      <td>0</td>\n",
              "      <td>4.816249</td>\n",
              "    </tr>\n",
              "    <tr>\n",
              "      <th>4</th>\n",
              "      <td>-1.158233</td>\n",
              "      <td>0.877737</td>\n",
              "      <td>1.548718</td>\n",
              "      <td>0.403034</td>\n",
              "      <td>-0.407193</td>\n",
              "      <td>0.095921</td>\n",
              "      <td>0.592941</td>\n",
              "      <td>-0.270533</td>\n",
              "      <td>0.817739</td>\n",
              "      <td>0.753074</td>\n",
              "      <td>-0.822843</td>\n",
              "      <td>0.538196</td>\n",
              "      <td>1.345852</td>\n",
              "      <td>-1.119670</td>\n",
              "      <td>0.175121</td>\n",
              "      <td>-0.451449</td>\n",
              "      <td>-0.237033</td>\n",
              "      <td>-0.038195</td>\n",
              "      <td>0.803487</td>\n",
              "      <td>0.408542</td>\n",
              "      <td>-0.009431</td>\n",
              "      <td>0.798278</td>\n",
              "      <td>-0.137458</td>\n",
              "      <td>0.141267</td>\n",
              "      <td>-0.206010</td>\n",
              "      <td>0.502292</td>\n",
              "      <td>0.219422</td>\n",
              "      <td>0.215153</td>\n",
              "      <td>0</td>\n",
              "      <td>4.248367</td>\n",
              "    </tr>\n",
              "  </tbody>\n",
              "</table>\n",
              "</div>"
            ],
            "text/plain": [
              "         V1        V2        V3  ...       V28  Class  log_amount\n",
              "0 -1.359807 -0.072781  2.536347  ... -0.021053      0    5.008105\n",
              "1  1.191857  0.266151  0.166480  ...  0.014724      0    0.989913\n",
              "2 -1.358354 -1.340163  1.773209  ... -0.059752      0    5.936641\n",
              "3 -0.966272 -0.185226  1.792993  ...  0.061458      0    4.816249\n",
              "4 -1.158233  0.877737  1.548718  ...  0.215153      0    4.248367\n",
              "\n",
              "[5 rows x 30 columns]"
            ]
          },
          "metadata": {
            "tags": []
          },
          "execution_count": 5
        }
      ]
    },
    {
      "cell_type": "markdown",
      "metadata": {
        "id": "BA5tqekq9wvz",
        "colab_type": "text"
      },
      "source": [
        "## Dataset Profiling and Preliminary EDA"
      ]
    },
    {
      "cell_type": "code",
      "metadata": {
        "id": "2dS95AYBcUzz",
        "colab_type": "code",
        "colab": {}
      },
      "source": [
        "# report = pandas_profiling.ProfileReport(df)\n",
        "# report"
      ],
      "execution_count": 0,
      "outputs": []
    },
    {
      "cell_type": "markdown",
      "metadata": {
        "id": "kBEBOsUuqHRS",
        "colab_type": "text"
      },
      "source": [
        "## Preprocessing"
      ]
    },
    {
      "cell_type": "code",
      "metadata": {
        "id": "yJhhKLyOAr7t",
        "colab_type": "code",
        "colab": {}
      },
      "source": [
        "# FILENAME = \"/content/drive/My Drive/problem_set_challenges_for_job_postings/cc.csv\"\n",
        "# df = preprocess(dataframe=df, cols_to_drop=[\"column_a\", \"time\"], cols_to_remap=\"target\", cols_scale=\"amount\" )\n",
        "# df.to_csv(\"scaled_and_processed_cc.csv\")"
      ],
      "execution_count": 0,
      "outputs": []
    },
    {
      "cell_type": "markdown",
      "metadata": {
        "id": "8U4fM-f71n9y",
        "colab_type": "text"
      },
      "source": [
        "## More EDA"
      ]
    },
    {
      "cell_type": "code",
      "metadata": {
        "id": "Dscc20_t96HT",
        "colab_type": "code",
        "outputId": "d2dcee3f-05ca-4822-9321-f062a567846f",
        "colab": {
          "base_uri": "https://localhost:8080/",
          "height": 605
        }
      },
      "source": [
        "%matplotlib inline\n",
        "\n",
        "fig, ax = plt.subplots(figsize=(10, 10))\n",
        "plt.xlim(df['log_amount'].min(), df['log_amount'].std()*4)\n",
        "sns.distplot(df['log_amount'])\n",
        "plt.show()"
      ],
      "execution_count": 0,
      "outputs": [
        {
          "output_type": "display_data",
          "data": {
            "image/png": "[encoded data removed]",
            "text/plain": [
              "<Figure size 720x720 with 1 Axes>"
            ]
          },
          "metadata": {
            "tags": []
          }
        }
      ]
    },
    {
      "cell_type": "code",
      "metadata": {
        "id": "FLnO6GtfBj6H",
        "colab_type": "code",
        "outputId": "d1a31ac3-96a4-48ce-bd01-671ccc6b54d4",
        "colab": {
          "base_uri": "https://localhost:8080/",
          "height": 915
        }
      },
      "source": [
        "fig, ax = plt.subplots(figsize=(15, 15))\n",
        "corr = df.corr()\n",
        "sns.heatmap(corr, annot=False)\n",
        "plt.show()"
      ],
      "execution_count": 0,
      "outputs": [
        {
          "output_type": "display_data",
          "data": {
            "image/png": "[encoded data removed]",
            "text/plain": [
              "<Figure size 1080x1080 with 2 Axes>"
            ]
          },
          "metadata": {
            "tags": []
          }
        }
      ]
    },
    {
      "cell_type": "markdown",
      "metadata": {
        "id": "4xyM2tjwCSuR",
        "colab_type": "text"
      },
      "source": [
        "It's hard to tell what I am looking at from this heatmap, save for the fact that the amount of money withdrawn and the target have a higher degree correlation between the first 10-ish features. \n",
        "\n",
        "Feature 2 is significantly negatively correlated to the amount of money draw. We don't have the feature names, but we can probably deduce that Feature 2 might represent a deposit into the account."
      ]
    },
    {
      "cell_type": "markdown",
      "metadata": {
        "id": "4ec-zC01EGjG",
        "colab_type": "text"
      },
      "source": [
        "Is feature 2 normaly distributed? Lets plot and do statistical checks"
      ]
    },
    {
      "cell_type": "code",
      "metadata": {
        "id": "o7of-KyuDpOw",
        "colab_type": "code",
        "outputId": "ab323f5c-6a3d-4acb-f65a-32eb1dde8bbc",
        "colab": {
          "base_uri": "https://localhost:8080/",
          "height": 623
        }
      },
      "source": [
        "fig, ax = plt.subplots(figsize=(10, 10))\n",
        "plt.xlim(df.V2.std()*-4, df.V2.std()*4)\n",
        "sns.distplot(df.V2)"
      ],
      "execution_count": 0,
      "outputs": [
        {
          "output_type": "execute_result",
          "data": {
            "text/plain": [
              "<matplotlib.axes._subplots.AxesSubplot at 0x7f04dd387b38>"
            ]
          },
          "metadata": {
            "tags": []
          },
          "execution_count": 10
        },
        {
          "output_type": "display_data",
          "data": {
            "image/png": "[encoded data removed]",
            "text/plain": [
              "<Figure size 720x720 with 1 Axes>"
            ]
          },
          "metadata": {
            "tags": []
          }
        }
      ]
    },
    {
      "cell_type": "code",
      "metadata": {
        "id": "3Vpuc4OuJ9UV",
        "colab_type": "code",
        "outputId": "efeaf9e8-3c1e-4bba-d23c-dfd7c9daa21b",
        "colab": {
          "base_uri": "https://localhost:8080/",
          "height": 1000
        }
      },
      "source": [
        "fig, ax = plt.subplots(figsize=(15, 15))\n",
        "df.hist(ax=ax)"
      ],
      "execution_count": 0,
      "outputs": [
        {
          "output_type": "execute_result",
          "data": {
            "text/plain": [
              "array([[<matplotlib.axes._subplots.AxesSubplot object at 0x7f04d751c438>,\n",
              "        <matplotlib.axes._subplots.AxesSubplot object at 0x7f04d2fa07f0>,\n",
              "        <matplotlib.axes._subplots.AxesSubplot object at 0x7f04d2fd3da0>,\n",
              "        <matplotlib.axes._subplots.AxesSubplot object at 0x7f04d2f8e390>,\n",
              "        <matplotlib.axes._subplots.AxesSubplot object at 0x7f04d3059e80>],\n",
              "       [<matplotlib.axes._subplots.AxesSubplot object at 0x7f04d2ef3710>,\n",
              "        <matplotlib.axes._subplots.AxesSubplot object at 0x7f04d2ea5cc0>,\n",
              "        <matplotlib.axes._subplots.AxesSubplot object at 0x7f04d2e642e8>,\n",
              "        <matplotlib.axes._subplots.AxesSubplot object at 0x7f04d2e64320>,\n",
              "        <matplotlib.axes._subplots.AxesSubplot object at 0x7f04d2e46e10>],\n",
              "       [<matplotlib.axes._subplots.AxesSubplot object at 0x7f04d2e05400>,\n",
              "        <matplotlib.axes._subplots.AxesSubplot object at 0x7f04d2db39b0>,\n",
              "        <matplotlib.axes._subplots.AxesSubplot object at 0x7f04d2d66f60>,\n",
              "        <matplotlib.axes._subplots.AxesSubplot object at 0x7f04d2d23550>,\n",
              "        <matplotlib.axes._subplots.AxesSubplot object at 0x7f04d2d53b00>],\n",
              "       [<matplotlib.axes._subplots.AxesSubplot object at 0x7f04d2d130f0>,\n",
              "        <matplotlib.axes._subplots.AxesSubplot object at 0x7f04d2cc36a0>,\n",
              "        <matplotlib.axes._subplots.AxesSubplot object at 0x7f04d2c75c50>,\n",
              "        <matplotlib.axes._subplots.AxesSubplot object at 0x7f04d2c32240>,\n",
              "        <matplotlib.axes._subplots.AxesSubplot object at 0x7f04d2be27f0>],\n",
              "       [<matplotlib.axes._subplots.AxesSubplot object at 0x7f04d2c14da0>,\n",
              "        <matplotlib.axes._subplots.AxesSubplot object at 0x7f04d2bd1390>,\n",
              "        <matplotlib.axes._subplots.AxesSubplot object at 0x7f04d2b80940>,\n",
              "        <matplotlib.axes._subplots.AxesSubplot object at 0x7f04d2b35ef0>,\n",
              "        <matplotlib.axes._subplots.AxesSubplot object at 0x7f04d2af34e0>],\n",
              "       [<matplotlib.axes._subplots.AxesSubplot object at 0x7f04d2aa2a90>,\n",
              "        <matplotlib.axes._subplots.AxesSubplot object at 0x7f04d2a63080>,\n",
              "        <matplotlib.axes._subplots.AxesSubplot object at 0x7f04d2a93630>,\n",
              "        <matplotlib.axes._subplots.AxesSubplot object at 0x7f04d2a43be0>,\n",
              "        <matplotlib.axes._subplots.AxesSubplot object at 0x7f04d2a021d0>]],\n",
              "      dtype=object)"
            ]
          },
          "metadata": {
            "tags": []
          },
          "execution_count": 11
        },
        {
          "output_type": "display_data",
          "data": {
            "image/png": "[encoded data removed]",
            "text/plain": [
              "<Figure size 1080x1080 with 30 Axes>"
            ]
          },
          "metadata": {
            "tags": []
          }
        }
      ]
    },
    {
      "cell_type": "markdown",
      "metadata": {
        "id": "mkc9aiuGpvF2",
        "colab_type": "text"
      },
      "source": [
        "### Test for normality of distribution\n",
        "\n",
        "V2 is a feature of particular interest after what we see from the heatmap. Let's test the normality of its distribution to see what ideas we can have about this particular feature."
      ]
    },
    {
      "cell_type": "code",
      "metadata": {
        "id": "JpYdq4LLENLr",
        "colab_type": "code",
        "outputId": "9f46b4de-d347-4f7b-a8e2-096e3e4d81a6",
        "colab": {
          "base_uri": "https://localhost:8080/",
          "height": 34
        }
      },
      "source": [
        "normality_of_distribution_test(df.V2)"
      ],
      "execution_count": 0,
      "outputs": [
        {
          "output_type": "stream",
          "text": [
            "This feature is normally distributed about the mean\n"
          ],
          "name": "stdout"
        }
      ]
    },
    {
      "cell_type": "markdown",
      "metadata": {
        "id": "yzBSuF5O_0aG",
        "colab_type": "text"
      },
      "source": [
        "## Split Data into Features and Target"
      ]
    },
    {
      "cell_type": "code",
      "metadata": {
        "id": "cfYJ2sMc_8CI",
        "colab_type": "code",
        "colab": {}
      },
      "source": [
        "(X_train, y_train), (X_val, y_val), (X_test, y_test) = split_dataset(df)\n",
        "bool_train_labels = y_train != 0"
      ],
      "execution_count": 0,
      "outputs": []
    },
    {
      "cell_type": "code",
      "metadata": {
        "id": "9IsZa02_MIki",
        "colab_type": "code",
        "outputId": "570792c8-932e-4903-be6b-fe6c9912a9ae",
        "colab": {
          "base_uri": "https://localhost:8080/",
          "height": 70
        }
      },
      "source": [
        "X_train, X_val, X_test = standardize_data(X_train, X_val, X_test)"
      ],
      "execution_count": 0,
      "outputs": [
        {
          "output_type": "stream",
          "text": [
            "Training features shape: (139554, 29)\n",
            "Validation features shape: (59810, 29)\n",
            "Test features shape: (85443, 29)\n"
          ],
          "name": "stdout"
        }
      ]
    },
    {
      "cell_type": "markdown",
      "metadata": {
        "id": "ntYZmIu8NVoN",
        "colab_type": "text"
      },
      "source": [
        "## Dimensionality Reduction/Feature Extraction with PCA"
      ]
    },
    {
      "cell_type": "code",
      "metadata": {
        "id": "_Ttwiy3lNyN6",
        "colab_type": "code",
        "outputId": "700f255c-703a-40c8-adfa-5a7d3195db10",
        "colab": {
          "base_uri": "https://localhost:8080/",
          "height": 494
        }
      },
      "source": [
        "plot_pca(X_train, y_train, [9])"
      ],
      "execution_count": 0,
      "outputs": [
        {
          "output_type": "stream",
          "text": [
            "Best parameter (CV score=0.999):\n",
            "{'logistic__alpha': 0.0001, 'pca__n_components': 9}\n",
            "Elapsed time to fit: 60.35021881199998s\n"
          ],
          "name": "stdout"
        },
        {
          "output_type": "display_data",
          "data": {
            "image/png": "[encoded data removed]",
            "text/plain": [
              "<Figure size 432x432 with 2 Axes>"
            ]
          },
          "metadata": {
            "tags": []
          }
        }
      ]
    },
    {
      "cell_type": "markdown",
      "metadata": {
        "id": "IWBJSpzrOFrA",
        "colab_type": "text"
      },
      "source": [
        "Next compare the distributions of the positive and negative examples over a few features. Good questions to ask yourself at this point are:\n",
        "\n",
        "* Do these distributions make sense?\n",
        "    * Yes. You've normalized the input and these are mostly concentrated in the +/- 2 range.\n",
        "\n",
        "* Can you see the difference between the ditributions?\n",
        "    * Yes the positive examples (fraudulent) contain a much higher rate of extreme values."
      ]
    },
    {
      "cell_type": "code",
      "metadata": {
        "id": "LrhZT0HROFCd",
        "colab_type": "code",
        "outputId": "2c71f778-3dab-47ff-caec-72a6c6885862",
        "colab": {
          "base_uri": "https://localhost:8080/",
          "height": 868
        }
      },
      "source": [
        "pos_df = pd.DataFrame(X_train[ bool_train_labels], columns = df.columns[df.columns != \"Class\"])\n",
        "neg_df = pd.DataFrame(X_train[~bool_train_labels], columns = df.columns[df.columns != \"Class\"])\n",
        "\n",
        "sns.jointplot(pos_df['V5'], pos_df['V6'],\n",
        "              kind='hex', xlim = (-5,5), ylim = (-5,5))\n",
        "plt.suptitle(\"Positive distribution\")\n",
        "\n",
        "sns.jointplot(neg_df['V5'], neg_df['V6'],\n",
        "              kind='hex', xlim = (-5,5), ylim = (-5,5))\n",
        "_ = plt.suptitle(\"Negative distribution\")"
      ],
      "execution_count": 0,
      "outputs": [
        {
          "output_type": "display_data",
          "data": {
            "image/png": "[encoded data removed]",
            "text/plain": [
              "<Figure size 432x432 with 3 Axes>"
            ]
          },
          "metadata": {
            "tags": []
          }
        },
        {
          "output_type": "display_data",
          "data": {
            "image/png": "[encoded data removed]",
            "text/plain": [
              "<Figure size 432x432 with 3 Axes>"
            ]
          },
          "metadata": {
            "tags": []
          }
        }
      ]
    },
    {
      "cell_type": "markdown",
      "metadata": {
        "id": "fTSGqJeHPqzS",
        "colab_type": "text"
      },
      "source": [
        "Create a version of the dataset using features extracted with PCA"
      ]
    },
    {
      "cell_type": "code",
      "metadata": {
        "id": "VyZoCUMWZCTc",
        "colab_type": "code",
        "colab": {}
      },
      "source": [
        "# principalDf = extract_pc_into_df(df, n_pca_components=11)\n",
        "# principalDf.head()"
      ],
      "execution_count": 0,
      "outputs": []
    },
    {
      "cell_type": "markdown",
      "metadata": {
        "id": "gYbw4ZribKmy",
        "colab_type": "text"
      },
      "source": [
        "## Training and Performing Inference with NN"
      ]
    },
    {
      "cell_type": "code",
      "metadata": {
        "id": "Zv_aGlQ2SD95",
        "colab_type": "code",
        "outputId": "b83ebde8-ebc1-4a89-a265-2b80675e34f1",
        "colab": {
          "base_uri": "https://localhost:8080/",
          "height": 265
        }
      },
      "source": [
        "EPOCHS = 100\n",
        "BATCH_SIZE = 2048\n",
        "\n",
        "early_stopping = EarlyStopping(\n",
        "    monitor='val_auc', \n",
        "    verbose=1,\n",
        "    patience=10,\n",
        "    mode='max',\n",
        "    restore_best_weights=True)\n",
        "\n",
        "model = make_model(train_features=X_train)\n",
        "model.summary()"
      ],
      "execution_count": 0,
      "outputs": [
        {
          "output_type": "stream",
          "text": [
            "Model: \"sequential\"\n",
            "_________________________________________________________________\n",
            "Layer (type)                 Output Shape              Param #   \n",
            "=================================================================\n",
            "dense (Dense)                (None, 16)                480       \n",
            "_________________________________________________________________\n",
            "dropout (Dropout)            (None, 16)                0         \n",
            "_________________________________________________________________\n",
            "dense_1 (Dense)              (None, 1)                 17        \n",
            "=================================================================\n",
            "Total params: 497\n",
            "Trainable params: 497\n",
            "Non-trainable params: 0\n",
            "_________________________________________________________________\n"
          ],
          "name": "stdout"
        }
      ]
    },
    {
      "cell_type": "code",
      "metadata": {
        "id": "5bSW2WSXgBqJ",
        "colab_type": "code",
        "outputId": "35c49802-a828-42bc-a1c2-38d148cc3d01",
        "colab": {
          "base_uri": "https://localhost:8080/",
          "height": 194
        }
      },
      "source": [
        "model.predict(X_train[:10])"
      ],
      "execution_count": 0,
      "outputs": [
        {
          "output_type": "execute_result",
          "data": {
            "text/plain": [
              "array([[0.21653068],\n",
              "       [0.49520814],\n",
              "       [0.4552667 ],\n",
              "       [0.2780272 ],\n",
              "       [0.34347802],\n",
              "       [0.44016248],\n",
              "       [0.7568342 ],\n",
              "       [0.3537642 ],\n",
              "       [0.45300838],\n",
              "       [0.6732037 ]], dtype=float32)"
            ]
          },
          "metadata": {
            "tags": []
          },
          "execution_count": 19
        }
      ]
    },
    {
      "cell_type": "code",
      "metadata": {
        "id": "4T8ji_BVgUBX",
        "colab_type": "code",
        "outputId": "32112936-8f21-49a5-880a-1f3acc1718d7",
        "colab": {
          "base_uri": "https://localhost:8080/",
          "height": 34
        }
      },
      "source": [
        "results = model.evaluate(X_train, y_train, batch_size=BATCH_SIZE, verbose=0)\n",
        "print(\"Loss: {:0.4f}\".format(results[0]))"
      ],
      "execution_count": 0,
      "outputs": [
        {
          "output_type": "stream",
          "text": [
            "Loss: 0.5719\n"
          ],
          "name": "stdout"
        }
      ]
    },
    {
      "cell_type": "markdown",
      "metadata": {
        "id": "sHsKcqU6hcjl",
        "colab_type": "text"
      },
      "source": [
        "We can initialize better with a informedly chosen bias due to our imbalanced dataset.\n",
        "\n",
        "Correct bias section can be formed as follows:\n",
        "\n",
        "* p_0 = pos/(pos + neg) = 1/(1+e^{-b_0})\n",
        "* b_0 = -log_e(1/p_0 - 1)\n",
        "* b_0 = log_e(pos/neg)"
      ]
    },
    {
      "cell_type": "code",
      "metadata": {
        "id": "CF6TZANTjt5_",
        "colab_type": "code",
        "outputId": "aabd93d3-fb9c-4741-919e-f62f068d4faf",
        "colab": {
          "base_uri": "https://localhost:8080/",
          "height": 34
        }
      },
      "source": [
        "neg = df['Class'].value_counts()[0]\n",
        "pos = df['Class'].value_counts()[1]\n",
        "\n",
        "initial_bias = np.log([pos/neg])\n",
        "initial_bias"
      ],
      "execution_count": 0,
      "outputs": [
        {
          "output_type": "execute_result",
          "data": {
            "text/plain": [
              "array([-6.35935934])"
            ]
          },
          "metadata": {
            "tags": []
          },
          "execution_count": 21
        }
      ]
    },
    {
      "cell_type": "code",
      "metadata": {
        "id": "1gmBAGJjlFkW",
        "colab_type": "code",
        "outputId": "293e6d6b-5ead-4f7d-f95a-d15edfda5aef",
        "colab": {
          "base_uri": "https://localhost:8080/",
          "height": 194
        }
      },
      "source": [
        "# we now predict with this initial calculated bias as opposed to the default np.log(2)\n",
        "model = make_model(train_features=X_train, output_bias = initial_bias)\n",
        "model.predict(X_train[:10])"
      ],
      "execution_count": 0,
      "outputs": [
        {
          "output_type": "execute_result",
          "data": {
            "text/plain": [
              "array([[0.00796592],\n",
              "       [0.00131047],\n",
              "       [0.01232171],\n",
              "       [0.00216526],\n",
              "       [0.0034394 ],\n",
              "       [0.01466218],\n",
              "       [0.00417864],\n",
              "       [0.00274858],\n",
              "       [0.00297559],\n",
              "       [0.00972891]], dtype=float32)"
            ]
          },
          "metadata": {
            "tags": []
          },
          "execution_count": 22
        }
      ]
    },
    {
      "cell_type": "code",
      "metadata": {
        "id": "DJnKsCZxlTYL",
        "colab_type": "code",
        "outputId": "f66f0bdc-d992-453c-9344-f8c56c799760",
        "colab": {
          "base_uri": "https://localhost:8080/",
          "height": 34
        }
      },
      "source": [
        "results = model.evaluate(X_train, y_train, batch_size=BATCH_SIZE, verbose=0)\n",
        "print(\"Loss: {:0.4f}\".format(results[0]))"
      ],
      "execution_count": 0,
      "outputs": [
        {
          "output_type": "stream",
          "text": [
            "Loss: 0.0116\n"
          ],
          "name": "stdout"
        }
      ]
    },
    {
      "cell_type": "markdown",
      "metadata": {
        "id": "lp6q7fv-pDLp",
        "colab_type": "text"
      },
      "source": [
        "This initial loss is about 50 times less than if would have been with naive initilization.\n",
        "\n",
        "This way the model doesn't need to spend the first few epochs just learning that positive examples are unlikely. This also makes it easier to read plots of the loss during training."
      ]
    },
    {
      "cell_type": "code",
      "metadata": {
        "id": "wVojibJqpOgY",
        "colab_type": "code",
        "colab": {}
      },
      "source": [
        "initial_weights = os.path.join(tempfile.mkdtemp(),'initial_weights')\n",
        "model.save_weights(initial_weights)"
      ],
      "execution_count": 0,
      "outputs": []
    },
    {
      "cell_type": "markdown",
      "metadata": {
        "id": "3D8BVKM-ptui",
        "colab_type": "text"
      },
      "source": [
        "Confirm that the careful selection of the training bias is beneficial to the training of the model"
      ]
    },
    {
      "cell_type": "code",
      "metadata": {
        "id": "QWZAyGBMp1ow",
        "colab_type": "code",
        "colab": {}
      },
      "source": [
        "model = make_model(train_features=X_train)\n",
        "model.load_weights(initial_weights)\n",
        "model.layers[-1].bias.assign([0.0])\n",
        "zero_bias_history = model.fit(\n",
        "    X_train,\n",
        "    y_train,\n",
        "    batch_size=BATCH_SIZE,\n",
        "    epochs=20,\n",
        "    validation_data=(X_val, y_val), \n",
        "    verbose=0)"
      ],
      "execution_count": 0,
      "outputs": []
    },
    {
      "cell_type": "code",
      "metadata": {
        "id": "32raSTYDp24J",
        "colab_type": "code",
        "colab": {}
      },
      "source": [
        "model = make_model(train_features=X_train)\n",
        "model.load_weights(initial_weights)\n",
        "careful_bias_history = model.fit(\n",
        "    X_train,\n",
        "    y_train,\n",
        "    batch_size=BATCH_SIZE,\n",
        "    epochs=20,\n",
        "    validation_data=(X_val, y_val), \n",
        "    verbose=0)"
      ],
      "execution_count": 0,
      "outputs": []
    },
    {
      "cell_type": "code",
      "metadata": {
        "id": "mwZz8VPVp3Na",
        "colab_type": "code",
        "outputId": "3351a5ef-2430-40aa-b204-b07a488a963a",
        "colab": {
          "base_uri": "https://localhost:8080/",
          "height": 278
        }
      },
      "source": [
        "plot_loss(zero_bias_history, \"Zero Bias\", 0)\n",
        "plot_loss(careful_bias_history, \"Careful Bias\", 1)"
      ],
      "execution_count": 0,
      "outputs": [
        {
          "output_type": "display_data",
          "data": {
            "image/png": "[encoded data removed]",
            "text/plain": [
              "<Figure size 432x288 with 1 Axes>"
            ]
          },
          "metadata": {
            "tags": []
          }
        }
      ]
    },
    {
      "cell_type": "markdown",
      "metadata": {
        "id": "E4VSE0McrXzv",
        "colab_type": "text"
      },
      "source": [
        "It's clear from this plot that using an informed selected bias is better than using a naive strategy due to the class imbalance in this dataset."
      ]
    },
    {
      "cell_type": "code",
      "metadata": {
        "id": "U07nvon-rPht",
        "colab_type": "code",
        "outputId": "a23157fb-b56d-4b8c-97b1-c6eca3e2f7fa",
        "colab": {
          "base_uri": "https://localhost:8080/",
          "height": 587
        }
      },
      "source": [
        "early_stopping=EarlyStopping()\n",
        "\n",
        "model = make_model(train_features=X_train)\n",
        "model.load_weights(initial_weights)\n",
        "baseline_history = model.fit(\n",
        "    X_train,\n",
        "    y_train,\n",
        "    batch_size=BATCH_SIZE,\n",
        "    epochs=EPOCHS,\n",
        "    callbacks = [early_stopping],\n",
        "    validation_data=(X_val, y_val))"
      ],
      "execution_count": 0,
      "outputs": [
        {
          "output_type": "stream",
          "text": [
            "Train on 139554 samples, validate on 59810 samples\n",
            "Epoch 1/100\n",
            "139554/139554 [==============================] - 3s 20us/sample - loss: 0.0139 - tp: 92.0000 - fp: 189.0000 - tn: 139107.0000 - fn: 166.0000 - accuracy: 0.9975 - precision: 0.3274 - recall: 0.3566 - auc: 0.8343 - val_loss: 0.0063 - val_tp: 35.0000 - val_fp: 11.0000 - val_tn: 59701.0000 - val_fn: 63.0000 - val_accuracy: 0.9988 - val_precision: 0.7609 - val_recall: 0.3571 - val_auc: 0.9339\n",
            "Epoch 2/100\n",
            "139554/139554 [==============================] - 1s 5us/sample - loss: 0.0090 - tp: 98.0000 - fp: 39.0000 - tn: 139257.0000 - fn: 160.0000 - accuracy: 0.9986 - precision: 0.7153 - recall: 0.3798 - auc: 0.8755 - val_loss: 0.0053 - val_tp: 55.0000 - val_fp: 11.0000 - val_tn: 59701.0000 - val_fn: 43.0000 - val_accuracy: 0.9991 - val_precision: 0.8333 - val_recall: 0.5612 - val_auc: 0.9369\n",
            "Epoch 3/100\n",
            "139554/139554 [==============================] - 1s 5us/sample - loss: 0.0078 - tp: 121.0000 - fp: 34.0000 - tn: 139262.0000 - fn: 137.0000 - accuracy: 0.9988 - precision: 0.7806 - recall: 0.4690 - auc: 0.8867 - val_loss: 0.0049 - val_tp: 59.0000 - val_fp: 13.0000 - val_tn: 59699.0000 - val_fn: 39.0000 - val_accuracy: 0.9991 - val_precision: 0.8194 - val_recall: 0.6020 - val_auc: 0.9326\n",
            "Epoch 4/100\n",
            "139554/139554 [==============================] - 1s 5us/sample - loss: 0.0071 - tp: 122.0000 - fp: 21.0000 - tn: 139275.0000 - fn: 136.0000 - accuracy: 0.9989 - precision: 0.8531 - recall: 0.4729 - auc: 0.8994 - val_loss: 0.0046 - val_tp: 61.0000 - val_fp: 14.0000 - val_tn: 59698.0000 - val_fn: 37.0000 - val_accuracy: 0.9991 - val_precision: 0.8133 - val_recall: 0.6224 - val_auc: 0.9329\n",
            "Epoch 5/100\n",
            "139554/139554 [==============================] - 1s 6us/sample - loss: 0.0060 - tp: 142.0000 - fp: 20.0000 - tn: 139276.0000 - fn: 116.0000 - accuracy: 0.9990 - precision: 0.8765 - recall: 0.5504 - auc: 0.9035 - val_loss: 0.0044 - val_tp: 65.0000 - val_fp: 14.0000 - val_tn: 59698.0000 - val_fn: 33.0000 - val_accuracy: 0.9992 - val_precision: 0.8228 - val_recall: 0.6633 - val_auc: 0.9330\n",
            "Epoch 6/100\n",
            "139554/139554 [==============================] - 1s 5us/sample - loss: 0.0057 - tp: 150.0000 - fp: 21.0000 - tn: 139275.0000 - fn: 108.0000 - accuracy: 0.9991 - precision: 0.8772 - recall: 0.5814 - auc: 0.9306 - val_loss: 0.0042 - val_tp: 66.0000 - val_fp: 15.0000 - val_tn: 59697.0000 - val_fn: 32.0000 - val_accuracy: 0.9992 - val_precision: 0.8148 - val_recall: 0.6735 - val_auc: 0.9279\n",
            "Epoch 7/100\n",
            "139554/139554 [==============================] - 1s 5us/sample - loss: 0.0054 - tp: 146.0000 - fp: 18.0000 - tn: 139278.0000 - fn: 112.0000 - accuracy: 0.9991 - precision: 0.8902 - recall: 0.5659 - auc: 0.9177 - val_loss: 0.0041 - val_tp: 71.0000 - val_fp: 15.0000 - val_tn: 59697.0000 - val_fn: 27.0000 - val_accuracy: 0.9993 - val_precision: 0.8256 - val_recall: 0.7245 - val_auc: 0.9280\n",
            "Epoch 8/100\n",
            "139554/139554 [==============================] - 1s 5us/sample - loss: 0.0052 - tp: 160.0000 - fp: 23.0000 - tn: 139273.0000 - fn: 98.0000 - accuracy: 0.9991 - precision: 0.8743 - recall: 0.6202 - auc: 0.9258 - val_loss: 0.0039 - val_tp: 72.0000 - val_fp: 15.0000 - val_tn: 59697.0000 - val_fn: 26.0000 - val_accuracy: 0.9993 - val_precision: 0.8276 - val_recall: 0.7347 - val_auc: 0.9280\n",
            "Epoch 9/100\n",
            "139554/139554 [==============================] - 1s 5us/sample - loss: 0.0050 - tp: 154.0000 - fp: 19.0000 - tn: 139277.0000 - fn: 104.0000 - accuracy: 0.9991 - precision: 0.8902 - recall: 0.5969 - auc: 0.9262 - val_loss: 0.0038 - val_tp: 72.0000 - val_fp: 15.0000 - val_tn: 59697.0000 - val_fn: 26.0000 - val_accuracy: 0.9993 - val_precision: 0.8276 - val_recall: 0.7347 - val_auc: 0.9280\n",
            "Epoch 10/100\n",
            "139554/139554 [==============================] - 1s 6us/sample - loss: 0.0049 - tp: 158.0000 - fp: 19.0000 - tn: 139277.0000 - fn: 100.0000 - accuracy: 0.9991 - precision: 0.8927 - recall: 0.6124 - auc: 0.9244 - val_loss: 0.0037 - val_tp: 72.0000 - val_fp: 15.0000 - val_tn: 59697.0000 - val_fn: 26.0000 - val_accuracy: 0.9993 - val_precision: 0.8276 - val_recall: 0.7347 - val_auc: 0.9280\n",
            "Epoch 11/100\n",
            "139554/139554 [==============================] - 1s 6us/sample - loss: 0.0048 - tp: 150.0000 - fp: 18.0000 - tn: 139278.0000 - fn: 108.0000 - accuracy: 0.9991 - precision: 0.8929 - recall: 0.5814 - auc: 0.9284 - val_loss: 0.0037 - val_tp: 74.0000 - val_fp: 15.0000 - val_tn: 59697.0000 - val_fn: 24.0000 - val_accuracy: 0.9993 - val_precision: 0.8315 - val_recall: 0.7551 - val_auc: 0.9280\n",
            "Epoch 12/100\n",
            "139554/139554 [==============================] - 1s 5us/sample - loss: 0.0047 - tp: 162.0000 - fp: 22.0000 - tn: 139274.0000 - fn: 96.0000 - accuracy: 0.9992 - precision: 0.8804 - recall: 0.6279 - auc: 0.9188 - val_loss: 0.0036 - val_tp: 75.0000 - val_fp: 15.0000 - val_tn: 59697.0000 - val_fn: 23.0000 - val_accuracy: 0.9994 - val_precision: 0.8333 - val_recall: 0.7653 - val_auc: 0.9280\n",
            "Epoch 13/100\n",
            "139554/139554 [==============================] - 1s 5us/sample - loss: 0.0046 - tp: 158.0000 - fp: 24.0000 - tn: 139272.0000 - fn: 100.0000 - accuracy: 0.9991 - precision: 0.8681 - recall: 0.6124 - auc: 0.9307 - val_loss: 0.0034 - val_tp: 75.0000 - val_fp: 15.0000 - val_tn: 59697.0000 - val_fn: 23.0000 - val_accuracy: 0.9994 - val_precision: 0.8333 - val_recall: 0.7653 - val_auc: 0.9280\n",
            "Epoch 14/100\n",
            "139554/139554 [==============================] - 1s 5us/sample - loss: 0.0046 - tp: 157.0000 - fp: 23.0000 - tn: 139273.0000 - fn: 101.0000 - accuracy: 0.9991 - precision: 0.8722 - recall: 0.6085 - auc: 0.9229 - val_loss: 0.0033 - val_tp: 75.0000 - val_fp: 15.0000 - val_tn: 59697.0000 - val_fn: 23.0000 - val_accuracy: 0.9994 - val_precision: 0.8333 - val_recall: 0.7653 - val_auc: 0.9280\n",
            "Epoch 15/100\n",
            "139554/139554 [==============================] - 1s 5us/sample - loss: 0.0047 - tp: 151.0000 - fp: 16.0000 - tn: 139280.0000 - fn: 107.0000 - accuracy: 0.9991 - precision: 0.9042 - recall: 0.5853 - auc: 0.9171 - val_loss: 0.0034 - val_tp: 77.0000 - val_fp: 15.0000 - val_tn: 59697.0000 - val_fn: 21.0000 - val_accuracy: 0.9994 - val_precision: 0.8370 - val_recall: 0.7857 - val_auc: 0.9280\n"
          ],
          "name": "stdout"
        }
      ]
    },
    {
      "cell_type": "code",
      "metadata": {
        "id": "yDJlUwA_s9jl",
        "colab_type": "code",
        "outputId": "996ae20a-83ae-4269-f0df-ff18363a52ad",
        "colab": {
          "base_uri": "https://localhost:8080/",
          "height": 283
        }
      },
      "source": [
        "plot_metrics(baseline_history)"
      ],
      "execution_count": 0,
      "outputs": [
        {
          "output_type": "display_data",
          "data": {
            "image/png": "[encoded data removed]",
            "text/plain": [
              "<Figure size 432x288 with 5 Axes>"
            ]
          },
          "metadata": {
            "tags": []
          }
        }
      ]
    },
    {
      "cell_type": "code",
      "metadata": {
        "id": "Vb4EBpvpxUr7",
        "colab_type": "code",
        "colab": {}
      },
      "source": [
        "train_predictions_baseline = model.predict(X_train, batch_size=BATCH_SIZE)\n",
        "test_predictions_baseline = model.predict(X_test, batch_size=BATCH_SIZE)"
      ],
      "execution_count": 0,
      "outputs": []
    },
    {
      "cell_type": "code",
      "metadata": {
        "id": "PZTlPBS_xYVa",
        "colab_type": "code",
        "outputId": "769b5e26-8245-4b9d-be3d-d00fa7358ac0",
        "colab": {
          "base_uri": "https://localhost:8080/",
          "height": 616
        }
      },
      "source": [
        "baseline_results = model.evaluate(X_test, y_test,\n",
        "                                  batch_size=BATCH_SIZE, verbose=0)\n",
        "for name, value in zip(model.metrics_names, baseline_results):\n",
        "  print(name, ': ', value)\n",
        "print()\n",
        "\n",
        "plot_cm(y_test, test_predictions_baseline)"
      ],
      "execution_count": 0,
      "outputs": [
        {
          "output_type": "stream",
          "text": [
            "loss :  0.00292835691467649\n",
            "tp :  106.0\n",
            "fp :  17.0\n",
            "tn :  85290.0\n",
            "fn :  30.0\n",
            "accuracy :  0.9994499\n",
            "precision :  0.86178863\n",
            "recall :  0.7794118\n",
            "auc :  0.9444605\n",
            "\n",
            "Legitimate Transactions Detected (True Negatives):  85290\n",
            "Legitimate Transactions Incorrectly Detected (False Positives):  17\n",
            "Fraudulent Transactions Missed (False Negatives):  30\n",
            "Fraudulent Transactions Detected (True Positives):  106\n",
            "Total Fraudulent Transactions:  136\n"
          ],
          "name": "stdout"
        },
        {
          "output_type": "display_data",
          "data": {
            "image/png": "[encoded data removed]",
            "text/plain": [
              "<Figure size 360x360 with 2 Axes>"
            ]
          },
          "metadata": {
            "tags": []
          }
        }
      ]
    },
    {
      "cell_type": "code",
      "metadata": {
        "id": "EcN6c0Bdy_EM",
        "colab_type": "code",
        "outputId": "705ce58b-6297-4ff2-e1ce-f21335481f30",
        "colab": {
          "base_uri": "https://localhost:8080/",
          "height": 296
        }
      },
      "source": [
        "plot_roc_curve(\"Train Baseline\", y_train, train_predictions_baseline, color=colors[0])\n",
        "plot_roc_curve(\"Test Baseline\", y_test, test_predictions_baseline, color=colors[1], linestyle=\"--\")\n",
        "plt.legend(loc='lower right')"
      ],
      "execution_count": 0,
      "outputs": [
        {
          "output_type": "execute_result",
          "data": {
            "text/plain": [
              "<matplotlib.legend.Legend at 0x7f04c2735cf8>"
            ]
          },
          "metadata": {
            "tags": []
          },
          "execution_count": 32
        },
        {
          "output_type": "display_data",
          "data": {
            "image/png": "[encoded data removed]",
            "text/plain": [
              "<Figure size 432x288 with 1 Axes>"
            ]
          },
          "metadata": {
            "tags": []
          }
        }
      ]
    },
    {
      "cell_type": "markdown",
      "metadata": {
        "id": "7oAoMs6P7Uj_",
        "colab_type": "text"
      },
      "source": [
        "This is good however, want our model to learn from the positive cases more, due in part by the scarcity of the fraudulent cases. We would then have to pass in the desired scaling for how we want to weight our class predictions in order to adjust for incorrect predictions of the fraudulent class examples.\n",
        "\n",
        "A good scaling in this case would be to scale total/2 for each case."
      ]
    },
    {
      "cell_type": "code",
      "metadata": {
        "id": "Ammj74UR5gaD",
        "colab_type": "code",
        "outputId": "439325db-5ce2-4bb8-9f19-a4e06b0a16c1",
        "colab": {
          "base_uri": "https://localhost:8080/",
          "height": 52
        }
      },
      "source": [
        "# Scaling by total/2 helps keep the loss to a similar magnitude.\n",
        "# The sum of the weights of all examples stays the same.\n",
        "weight_for_0 = (1 / neg) * ((df.shape[0])/2.0)\n",
        "weight_for_1 = (1 / pos) * ((df.shape[0])/2.0)\n",
        "\n",
        "class_weight = {0: weight_for_0, 1: weight_for_1}\n",
        "\n",
        "print('Weight for class 0: {:.2f}'.format(weight_for_0))\n",
        "print('Weight for class 1: {:.2f}'.format(weight_for_1))"
      ],
      "execution_count": 0,
      "outputs": [
        {
          "output_type": "stream",
          "text": [
            "Weight for class 0: 0.50\n",
            "Weight for class 1: 289.44\n"
          ],
          "name": "stdout"
        }
      ]
    },
    {
      "cell_type": "markdown",
      "metadata": {
        "id": "PtCVPpKt8kl4",
        "colab_type": "text"
      },
      "source": [
        "## Re-Training with adjusted class weights\n",
        "\n",
        "Now we train the model with the adjust class weights to see if there is lift in AUC and Recall for the model.\n",
        "\n",
        "Note: Using class_weights changes the range of the loss. This may affect the stability of the training depending on the optimizer. Optimizers whose step size is dependent on the magnitude of the gradient, like optimizers.SGD, may fail. The optimizer used here, optimizers.Adam, is unaffected by the scaling change. Also note that because of the weighting, the total losses are not comparable between the two models."
      ]
    },
    {
      "cell_type": "code",
      "metadata": {
        "id": "opzT9Wvb8W15",
        "colab_type": "code",
        "outputId": "669c7e43-7278-40c1-886c-4a3f26ad2a42",
        "colab": {
          "base_uri": "https://localhost:8080/",
          "height": 978
        }
      },
      "source": [
        "weighted_model = make_model(train_features=X_train)\n",
        "weighted_model.load_weights(initial_weights)\n",
        "\n",
        "weighted_history = weighted_model.fit(\n",
        "    X_train,\n",
        "    y_train,\n",
        "    batch_size=BATCH_SIZE,\n",
        "    epochs=EPOCHS,\n",
        "    callbacks = [early_stopping],\n",
        "    validation_data=(X_val, y_val),\n",
        "    # The class weights go here\n",
        "    class_weight=class_weight) "
      ],
      "execution_count": 0,
      "outputs": [
        {
          "output_type": "stream",
          "text": [
            "Train on 139554 samples, validate on 59810 samples\n",
            "Epoch 1/100\n",
            "139554/139554 [==============================] - 2s 18us/sample - loss: 1.1144 - tp: 128.0000 - fp: 776.0000 - tn: 138520.0000 - fn: 130.0000 - accuracy: 0.9935 - precision: 0.1416 - recall: 0.4961 - auc: 0.8661 - val_loss: 0.4211 - val_tp: 73.0000 - val_fp: 142.0000 - val_tn: 59570.0000 - val_fn: 25.0000 - val_accuracy: 0.9972 - val_precision: 0.3395 - val_recall: 0.7449 - val_auc: 0.9513\n",
            "Epoch 2/100\n",
            "139554/139554 [==============================] - 1s 5us/sample - loss: 0.6458 - tp: 172.0000 - fp: 1411.0000 - tn: 137885.0000 - fn: 86.0000 - accuracy: 0.9893 - precision: 0.1087 - recall: 0.6667 - auc: 0.9286 - val_loss: 0.3151 - val_tp: 83.0000 - val_fp: 281.0000 - val_tn: 59431.0000 - val_fn: 15.0000 - val_accuracy: 0.9951 - val_precision: 0.2280 - val_recall: 0.8469 - val_auc: 0.9517\n",
            "Epoch 3/100\n",
            "139554/139554 [==============================] - 1s 5us/sample - loss: 0.5420 - tp: 189.0000 - fp: 2140.0000 - tn: 137156.0000 - fn: 69.0000 - accuracy: 0.9842 - precision: 0.0812 - recall: 0.7326 - auc: 0.9236 - val_loss: 0.2798 - val_tp: 84.0000 - val_fp: 471.0000 - val_tn: 59241.0000 - val_fn: 14.0000 - val_accuracy: 0.9919 - val_precision: 0.1514 - val_recall: 0.8571 - val_auc: 0.9561\n",
            "Epoch 4/100\n",
            "139554/139554 [==============================] - 1s 5us/sample - loss: 0.3840 - tp: 202.0000 - fp: 2905.0000 - tn: 136391.0000 - fn: 56.0000 - accuracy: 0.9788 - precision: 0.0650 - recall: 0.7829 - auc: 0.9498 - val_loss: 0.2610 - val_tp: 85.0000 - val_fp: 790.0000 - val_tn: 58922.0000 - val_fn: 13.0000 - val_accuracy: 0.9866 - val_precision: 0.0971 - val_recall: 0.8673 - val_auc: 0.9566\n",
            "Epoch 5/100\n",
            "139554/139554 [==============================] - 1s 5us/sample - loss: 0.4085 - tp: 213.0000 - fp: 3686.0000 - tn: 135610.0000 - fn: 45.0000 - accuracy: 0.9733 - precision: 0.0546 - recall: 0.8256 - auc: 0.9322 - val_loss: 0.2512 - val_tp: 85.0000 - val_fp: 927.0000 - val_tn: 58785.0000 - val_fn: 13.0000 - val_accuracy: 0.9843 - val_precision: 0.0840 - val_recall: 0.8673 - val_auc: 0.9631\n",
            "Epoch 6/100\n",
            "139554/139554 [==============================] - 1s 5us/sample - loss: 0.3411 - tp: 218.0000 - fp: 4222.0000 - tn: 135074.0000 - fn: 40.0000 - accuracy: 0.9695 - precision: 0.0491 - recall: 0.8450 - auc: 0.9494 - val_loss: 0.2438 - val_tp: 86.0000 - val_fp: 1088.0000 - val_tn: 58624.0000 - val_fn: 12.0000 - val_accuracy: 0.9816 - val_precision: 0.0733 - val_recall: 0.8776 - val_auc: 0.9632\n",
            "Epoch 7/100\n",
            "139554/139554 [==============================] - 1s 5us/sample - loss: 0.3186 - tp: 223.0000 - fp: 4595.0000 - tn: 134701.0000 - fn: 35.0000 - accuracy: 0.9668 - precision: 0.0463 - recall: 0.8643 - auc: 0.9534 - val_loss: 0.2389 - val_tp: 86.0000 - val_fp: 1176.0000 - val_tn: 58536.0000 - val_fn: 12.0000 - val_accuracy: 0.9801 - val_precision: 0.0681 - val_recall: 0.8776 - val_auc: 0.9639\n",
            "Epoch 8/100\n",
            "139554/139554 [==============================] - 1s 5us/sample - loss: 0.3081 - tp: 225.0000 - fp: 5041.0000 - tn: 134255.0000 - fn: 33.0000 - accuracy: 0.9636 - precision: 0.0427 - recall: 0.8721 - auc: 0.9546 - val_loss: 0.2344 - val_tp: 86.0000 - val_fp: 1306.0000 - val_tn: 58406.0000 - val_fn: 12.0000 - val_accuracy: 0.9780 - val_precision: 0.0618 - val_recall: 0.8776 - val_auc: 0.9668\n",
            "Epoch 9/100\n",
            "139554/139554 [==============================] - 1s 5us/sample - loss: 0.2841 - tp: 225.0000 - fp: 5197.0000 - tn: 134099.0000 - fn: 33.0000 - accuracy: 0.9625 - precision: 0.0415 - recall: 0.8721 - auc: 0.9602 - val_loss: 0.2298 - val_tp: 86.0000 - val_fp: 1341.0000 - val_tn: 58371.0000 - val_fn: 12.0000 - val_accuracy: 0.9774 - val_precision: 0.0603 - val_recall: 0.8776 - val_auc: 0.9659\n",
            "Epoch 10/100\n",
            "139554/139554 [==============================] - 1s 6us/sample - loss: 0.2782 - tp: 228.0000 - fp: 5486.0000 - tn: 133810.0000 - fn: 30.0000 - accuracy: 0.9605 - precision: 0.0399 - recall: 0.8837 - auc: 0.9567 - val_loss: 0.2268 - val_tp: 86.0000 - val_fp: 1334.0000 - val_tn: 58378.0000 - val_fn: 12.0000 - val_accuracy: 0.9775 - val_precision: 0.0606 - val_recall: 0.8776 - val_auc: 0.9688\n",
            "Epoch 11/100\n",
            "139554/139554 [==============================] - 1s 5us/sample - loss: 0.2806 - tp: 228.0000 - fp: 5256.0000 - tn: 134040.0000 - fn: 30.0000 - accuracy: 0.9621 - precision: 0.0416 - recall: 0.8837 - auc: 0.9583 - val_loss: 0.2230 - val_tp: 86.0000 - val_fp: 1294.0000 - val_tn: 58418.0000 - val_fn: 12.0000 - val_accuracy: 0.9782 - val_precision: 0.0623 - val_recall: 0.8776 - val_auc: 0.9703\n",
            "Epoch 12/100\n",
            "139554/139554 [==============================] - 1s 5us/sample - loss: 0.3140 - tp: 219.0000 - fp: 5372.0000 - tn: 133924.0000 - fn: 39.0000 - accuracy: 0.9612 - precision: 0.0392 - recall: 0.8488 - auc: 0.9548 - val_loss: 0.2205 - val_tp: 87.0000 - val_fp: 1403.0000 - val_tn: 58309.0000 - val_fn: 11.0000 - val_accuracy: 0.9764 - val_precision: 0.0584 - val_recall: 0.8878 - val_auc: 0.9703\n",
            "Epoch 13/100\n",
            "139554/139554 [==============================] - 1s 5us/sample - loss: 0.2595 - tp: 228.0000 - fp: 5825.0000 - tn: 133471.0000 - fn: 30.0000 - accuracy: 0.9580 - precision: 0.0377 - recall: 0.8837 - auc: 0.9673 - val_loss: 0.2167 - val_tp: 87.0000 - val_fp: 1438.0000 - val_tn: 58274.0000 - val_fn: 11.0000 - val_accuracy: 0.9758 - val_precision: 0.0570 - val_recall: 0.8878 - val_auc: 0.9708\n",
            "Epoch 14/100\n",
            "139554/139554 [==============================] - 1s 5us/sample - loss: 0.2804 - tp: 228.0000 - fp: 5676.0000 - tn: 133620.0000 - fn: 30.0000 - accuracy: 0.9591 - precision: 0.0386 - recall: 0.8837 - auc: 0.9585 - val_loss: 0.2137 - val_tp: 87.0000 - val_fp: 1381.0000 - val_tn: 58331.0000 - val_fn: 11.0000 - val_accuracy: 0.9767 - val_precision: 0.0593 - val_recall: 0.8878 - val_auc: 0.9718\n",
            "Epoch 15/100\n",
            "139554/139554 [==============================] - 1s 5us/sample - loss: 0.2916 - tp: 226.0000 - fp: 5727.0000 - tn: 133569.0000 - fn: 32.0000 - accuracy: 0.9587 - precision: 0.0380 - recall: 0.8760 - auc: 0.9582 - val_loss: 0.2110 - val_tp: 87.0000 - val_fp: 1394.0000 - val_tn: 58318.0000 - val_fn: 11.0000 - val_accuracy: 0.9765 - val_precision: 0.0587 - val_recall: 0.8878 - val_auc: 0.9729\n",
            "Epoch 16/100\n",
            "139554/139554 [==============================] - 1s 5us/sample - loss: 0.2585 - tp: 232.0000 - fp: 5567.0000 - tn: 133729.0000 - fn: 26.0000 - accuracy: 0.9599 - precision: 0.0400 - recall: 0.8992 - auc: 0.9638 - val_loss: 0.2093 - val_tp: 87.0000 - val_fp: 1392.0000 - val_tn: 58320.0000 - val_fn: 11.0000 - val_accuracy: 0.9765 - val_precision: 0.0588 - val_recall: 0.8878 - val_auc: 0.9732\n",
            "Epoch 17/100\n",
            "139554/139554 [==============================] - 1s 5us/sample - loss: 0.2247 - tp: 232.0000 - fp: 5740.0000 - tn: 133556.0000 - fn: 26.0000 - accuracy: 0.9587 - precision: 0.0388 - recall: 0.8992 - auc: 0.9706 - val_loss: 0.2080 - val_tp: 87.0000 - val_fp: 1397.0000 - val_tn: 58315.0000 - val_fn: 11.0000 - val_accuracy: 0.9765 - val_precision: 0.0586 - val_recall: 0.8878 - val_auc: 0.9737\n",
            "Epoch 18/100\n",
            "139554/139554 [==============================] - 1s 5us/sample - loss: 0.2403 - tp: 230.0000 - fp: 5487.0000 - tn: 133809.0000 - fn: 28.0000 - accuracy: 0.9605 - precision: 0.0402 - recall: 0.8915 - auc: 0.9699 - val_loss: 0.2066 - val_tp: 87.0000 - val_fp: 1389.0000 - val_tn: 58323.0000 - val_fn: 11.0000 - val_accuracy: 0.9766 - val_precision: 0.0589 - val_recall: 0.8878 - val_auc: 0.9737\n",
            "Epoch 19/100\n",
            "139554/139554 [==============================] - 1s 5us/sample - loss: 0.2176 - tp: 235.0000 - fp: 5579.0000 - tn: 133717.0000 - fn: 23.0000 - accuracy: 0.9599 - precision: 0.0404 - recall: 0.9109 - auc: 0.9706 - val_loss: 0.2041 - val_tp: 87.0000 - val_fp: 1372.0000 - val_tn: 58340.0000 - val_fn: 11.0000 - val_accuracy: 0.9769 - val_precision: 0.0596 - val_recall: 0.8878 - val_auc: 0.9741\n",
            "Epoch 20/100\n",
            "139554/139554 [==============================] - 1s 5us/sample - loss: 0.2290 - tp: 227.0000 - fp: 5598.0000 - tn: 133698.0000 - fn: 31.0000 - accuracy: 0.9597 - precision: 0.0390 - recall: 0.8798 - auc: 0.9725 - val_loss: 0.2038 - val_tp: 87.0000 - val_fp: 1405.0000 - val_tn: 58307.0000 - val_fn: 11.0000 - val_accuracy: 0.9763 - val_precision: 0.0583 - val_recall: 0.8878 - val_auc: 0.9735\n",
            "Epoch 21/100\n",
            "139554/139554 [==============================] - 1s 5us/sample - loss: 0.1998 - tp: 235.0000 - fp: 5449.0000 - tn: 133847.0000 - fn: 23.0000 - accuracy: 0.9608 - precision: 0.0413 - recall: 0.9109 - auc: 0.9743 - val_loss: 0.2020 - val_tp: 87.0000 - val_fp: 1292.0000 - val_tn: 58420.0000 - val_fn: 11.0000 - val_accuracy: 0.9782 - val_precision: 0.0631 - val_recall: 0.8878 - val_auc: 0.9747\n",
            "Epoch 22/100\n",
            "139554/139554 [==============================] - 1s 5us/sample - loss: 0.2127 - tp: 229.0000 - fp: 5261.0000 - tn: 134035.0000 - fn: 29.0000 - accuracy: 0.9621 - precision: 0.0417 - recall: 0.8876 - auc: 0.9737 - val_loss: 0.2003 - val_tp: 87.0000 - val_fp: 1261.0000 - val_tn: 58451.0000 - val_fn: 11.0000 - val_accuracy: 0.9787 - val_precision: 0.0645 - val_recall: 0.8878 - val_auc: 0.9750\n",
            "Epoch 23/100\n",
            "139554/139554 [==============================] - 1s 5us/sample - loss: 0.2273 - tp: 233.0000 - fp: 5180.0000 - tn: 134116.0000 - fn: 25.0000 - accuracy: 0.9627 - precision: 0.0430 - recall: 0.9031 - auc: 0.9701 - val_loss: 0.1979 - val_tp: 87.0000 - val_fp: 1214.0000 - val_tn: 58498.0000 - val_fn: 11.0000 - val_accuracy: 0.9795 - val_precision: 0.0669 - val_recall: 0.8878 - val_auc: 0.9755\n",
            "Epoch 24/100\n",
            "139554/139554 [==============================] - 1s 5us/sample - loss: 0.2340 - tp: 227.0000 - fp: 5151.0000 - tn: 134145.0000 - fn: 31.0000 - accuracy: 0.9629 - precision: 0.0422 - recall: 0.8798 - auc: 0.9714 - val_loss: 0.1959 - val_tp: 87.0000 - val_fp: 1240.0000 - val_tn: 58472.0000 - val_fn: 11.0000 - val_accuracy: 0.9791 - val_precision: 0.0656 - val_recall: 0.8878 - val_auc: 0.9779\n",
            "Epoch 25/100\n",
            "139554/139554 [==============================] - 1s 5us/sample - loss: 0.2424 - tp: 232.0000 - fp: 5514.0000 - tn: 133782.0000 - fn: 26.0000 - accuracy: 0.9603 - precision: 0.0404 - recall: 0.8992 - auc: 0.9669 - val_loss: 0.1946 - val_tp: 87.0000 - val_fp: 1301.0000 - val_tn: 58411.0000 - val_fn: 11.0000 - val_accuracy: 0.9781 - val_precision: 0.0627 - val_recall: 0.8878 - val_auc: 0.9774\n",
            "Epoch 26/100\n",
            "139554/139554 [==============================] - 1s 5us/sample - loss: 0.2069 - tp: 238.0000 - fp: 5295.0000 - tn: 134001.0000 - fn: 20.0000 - accuracy: 0.9619 - precision: 0.0430 - recall: 0.9225 - auc: 0.9735 - val_loss: 0.1951 - val_tp: 87.0000 - val_fp: 1262.0000 - val_tn: 58450.0000 - val_fn: 11.0000 - val_accuracy: 0.9787 - val_precision: 0.0645 - val_recall: 0.8878 - val_auc: 0.9783\n"
          ],
          "name": "stdout"
        }
      ]
    },
    {
      "cell_type": "code",
      "metadata": {
        "id": "aYF2JC7m93Mk",
        "colab_type": "code",
        "outputId": "9b51c623-08d8-4c39-e5d4-0b7548272e7e",
        "colab": {
          "base_uri": "https://localhost:8080/",
          "height": 881
        }
      },
      "source": [
        "fig, ax = plt.subplots(figsize=(15, 15))\n",
        "plot_metrics(weighted_history)"
      ],
      "execution_count": 0,
      "outputs": [
        {
          "output_type": "display_data",
          "data": {
            "image/png": "[encoded data removed]",
            "text/plain": [
              "<Figure size 1080x1080 with 5 Axes>"
            ]
          },
          "metadata": {
            "tags": []
          }
        }
      ]
    },
    {
      "cell_type": "code",
      "metadata": {
        "id": "qlW0L6e6AyE6",
        "colab_type": "code",
        "colab": {}
      },
      "source": [
        "train_predictions_weighted = weighted_model.predict(X_train, batch_size=BATCH_SIZE)\n",
        "test_predictions_weighted = weighted_model.predict(X_test, batch_size=BATCH_SIZE)"
      ],
      "execution_count": 0,
      "outputs": []
    },
    {
      "cell_type": "code",
      "metadata": {
        "id": "VUtbPTljAy-W",
        "colab_type": "code",
        "outputId": "0c7c2173-dbec-46df-f511-f5250921a422",
        "colab": {
          "base_uri": "https://localhost:8080/",
          "height": 1000
        }
      },
      "source": [
        "weighted_results = weighted_model.evaluate(X_test, y_test,\n",
        "                                           batch_size=BATCH_SIZE, verbose=0)\n",
        "for name, value in zip(weighted_model.metrics_names, weighted_results):\n",
        "  print(name, ': ', value)\n",
        "print()\n",
        "\n",
        "plot_cm(y_test, test_predictions_weighted)"
      ],
      "execution_count": 0,
      "outputs": [
        {
          "output_type": "stream",
          "text": [
            "loss :  0.09007471328493964\n",
            "tp :  124.0\n",
            "fp :  1774.0\n",
            "tn :  83533.0\n",
            "fn :  12.0\n",
            "accuracy :  0.9790972\n",
            "precision :  0.06533193\n",
            "recall :  0.9117647\n",
            "auc :  0.9804997\n",
            "\n",
            "Legitimate Transactions Detected (True Negatives):  83533\n",
            "Legitimate Transactions Incorrectly Detected (False Positives):  1774\n",
            "Fraudulent Transactions Missed (False Negatives):  12\n",
            "Fraudulent Transactions Detected (True Positives):  124\n",
            "Total Fraudulent Transactions:  136\n"
          ],
          "name": "stdout"
        },
        {
          "output_type": "display_data",
          "data": {
            "image/png": "[encoded data removed]",
            "text/plain": [
              "<Figure size 1080x1080 with 2 Axes>"
            ]
          },
          "metadata": {
            "tags": []
          }
        }
      ]
    },
    {
      "cell_type": "markdown",
      "metadata": {
        "id": "VR_8d2qrAxg-",
        "colab_type": "text"
      },
      "source": [
        "## Using Oversampling with Manual sample generation\n",
        "\n",
        "Resample and append newly selected samples to old samples and shuffle indices."
      ]
    },
    {
      "cell_type": "code",
      "metadata": {
        "id": "da3aZ6Al_lhv",
        "colab_type": "code",
        "colab": {}
      },
      "source": [
        "fraudulent_features = X_train[bool_train_labels]\n",
        "nominal_features = X_train[~bool_train_labels]\n",
        "\n",
        "fraudulent_labels = y_train[bool_train_labels]\n",
        "nominal_labels = y_train[~bool_train_labels]"
      ],
      "execution_count": 0,
      "outputs": []
    },
    {
      "cell_type": "code",
      "metadata": {
        "id": "NjH7x0sDNbyE",
        "colab_type": "code",
        "colab": {}
      },
      "source": [
        "BUFFER_SIZE = 100000\n",
        "\n",
        "def make_ds(features, labels):\n",
        "  ds = data.Dataset.from_tensor_slices((features, labels))#.cache()\n",
        "  ds = ds.shuffle(BUFFER_SIZE).repeat()\n",
        "  return ds\n",
        "\n",
        "pos_ds = make_ds(fraudulent_features, fraudulent_labels)\n",
        "neg_ds = make_ds(nominal_features, nominal_labels)"
      ],
      "execution_count": 0,
      "outputs": []
    },
    {
      "cell_type": "markdown",
      "metadata": {
        "id": "bypSG7Glm8xJ",
        "colab_type": "text"
      },
      "source": [
        "Take a look at two examples that were generated and its labels from the positive class"
      ]
    },
    {
      "cell_type": "code",
      "metadata": {
        "id": "d4wfh-ZxN3x0",
        "colab_type": "code",
        "outputId": "aaf7e8ae-f331-4a9f-fc2e-be5a327a4f29",
        "colab": {
          "base_uri": "https://localhost:8080/",
          "height": 301
        }
      },
      "source": [
        "for features, label in pos_ds.take(2):\n",
        "  print(\"Features:\\n\", features.numpy())\n",
        "  print()\n",
        "  print(\"Label: \", label.numpy())"
      ],
      "execution_count": 0,
      "outputs": [
        {
          "output_type": "stream",
          "text": [
            "Features:\n",
            " [-4.05303615  3.26724862 -5.          5.         -5.         -1.77259486\n",
            " -5.          4.33981849 -5.         -5.          5.         -5.\n",
            "  0.88964669 -5.          1.09468019 -5.         -5.         -5.\n",
            "  4.24228468  0.83086824  3.54427218  1.28339961  0.05108858  1.05520695\n",
            "  0.69531167  0.91618726  2.70852067  0.62140433 -1.24420498]\n",
            "\n",
            "Label:  1\n",
            "Features:\n",
            " [-0.73511114 -0.48805125  0.74169272  0.27826632 -0.20250226 -0.0401024\n",
            "  1.05305033  0.16863141 -0.49897823 -0.65623926  1.24566205  0.02771726\n",
            " -1.53151454  0.75560892  0.18011748  0.39817171 -0.66572399  0.2542924\n",
            " -1.40291242  0.81570039  0.45165621  0.02359624  1.33471809  0.19313272\n",
            "  0.30160371 -1.28490813 -0.2950715   0.10641004  1.44957744]\n",
            "\n",
            "Label:  1\n"
          ],
          "name": "stdout"
        }
      ]
    },
    {
      "cell_type": "code",
      "metadata": {
        "id": "KuKHcoFTPBkc",
        "colab_type": "code",
        "colab": {}
      },
      "source": [
        "resampled_ds = data.experimental.sample_from_datasets([pos_ds, neg_ds], weights=[0.5, 0.5])\n",
        "resampled_ds = resampled_ds.batch(BATCH_SIZE).prefetch(2)"
      ],
      "execution_count": 0,
      "outputs": []
    },
    {
      "cell_type": "code",
      "metadata": {
        "id": "yx93X-4TPC2B",
        "colab_type": "code",
        "outputId": "f50c95c3-c8cb-458e-d62c-0d4ff7519bcc",
        "colab": {
          "base_uri": "https://localhost:8080/",
          "height": 34
        }
      },
      "source": [
        "for features, label in resampled_ds.take(1):\n",
        "  print(label.numpy().mean())"
      ],
      "execution_count": 0,
      "outputs": [
        {
          "output_type": "stream",
          "text": [
            "0.49951171875\n"
          ],
          "name": "stdout"
        }
      ]
    },
    {
      "cell_type": "markdown",
      "metadata": {
        "id": "4dB7XiKUS7oJ",
        "colab_type": "text"
      },
      "source": [
        "To use this dataset, you'll need the number of steps per epoch.\n",
        "\n",
        "The definition of \"epoch\" in this case is less clear. Say it's the number of batches required to see each negative example once:"
      ]
    },
    {
      "cell_type": "code",
      "metadata": {
        "id": "bZAhRq79PCmL",
        "colab_type": "code",
        "outputId": "38a415c0-3d27-4284-9f8c-988adaf66e8c",
        "colab": {
          "base_uri": "https://localhost:8080/",
          "height": 34
        }
      },
      "source": [
        "resampled_steps_per_epoch = np.ceil(2.0*neg/BATCH_SIZE)\n",
        "resampled_steps_per_epoch"
      ],
      "execution_count": 0,
      "outputs": [
        {
          "output_type": "execute_result",
          "data": {
            "text/plain": [
              "278.0"
            ]
          },
          "metadata": {
            "tags": []
          },
          "execution_count": 59
        }
      ]
    },
    {
      "cell_type": "code",
      "metadata": {
        "id": "Jt7Rz8EvUJZ8",
        "colab_type": "code",
        "outputId": "4bbbf9dd-982b-40bf-fcfe-ec8de5e5f5ac",
        "colab": {
          "base_uri": "https://localhost:8080/",
          "height": 605
        }
      },
      "source": [
        "# instead of using the class weights , train the model witht he resampled data instead\n",
        "resampled_model = make_model(X_train)\n",
        "resampled_model.load_weights(initial_weights)\n",
        "\n",
        "# Reset the bias to zero, since this dataset is balanced.\n",
        "output_layer = resampled_model.layers[-1]\n",
        "output_layer.bias.assign([0])\n",
        "\n",
        "val_ds = data.Dataset.from_tensor_slices((X_val, y_val)).cache()\n",
        "val_ds = val_ds.batch(BATCH_SIZE).prefetch(2)\n",
        "print(val_ds)\n",
        "\n",
        "resampled_history = resampled_model.fit(\n",
        "    resampled_ds,\n",
        "    epochs=EPOCHS,\n",
        "    steps_per_epoch=resampled_steps_per_epoch,\n",
        "    callbacks = [early_stopping],\n",
        "    validation_data=val_ds)"
      ],
      "execution_count": 0,
      "outputs": [
        {
          "output_type": "stream",
          "text": [
            "<PrefetchDataset shapes: ((None, 29), (None,)), types: (tf.float64, tf.int64)>\n",
            "Train for 278.0 steps, validate for 30 steps\n",
            "Epoch 1/100\n",
            "278/278 [==============================] - 10s 36ms/step - loss: 0.3755 - tp: 265272.0000 - fp: 88275.0000 - tn: 196303.0000 - fn: 19494.0000 - accuracy: 0.8107 - precision: 0.7503 - recall: 0.9315 - auc: 0.9424 - val_loss: 0.2323 - val_tp: 87.0000 - val_fp: 1833.0000 - val_tn: 57879.0000 - val_fn: 11.0000 - val_accuracy: 0.9692 - val_precision: 0.0453 - val_recall: 0.8878 - val_auc: 0.9766\n",
            "Epoch 2/100\n",
            "278/278 [==============================] - 8s 27ms/step - loss: 0.1911 - tp: 266536.0000 - fp: 19278.0000 - tn: 265230.0000 - fn: 18300.0000 - accuracy: 0.9340 - precision: 0.9326 - recall: 0.9358 - auc: 0.9793 - val_loss: 0.1290 - val_tp: 85.0000 - val_fp: 1280.0000 - val_tn: 58432.0000 - val_fn: 13.0000 - val_accuracy: 0.9784 - val_precision: 0.0623 - val_recall: 0.8673 - val_auc: 0.9780\n",
            "Epoch 3/100\n",
            "278/278 [==============================] - 8s 28ms/step - loss: 0.1498 - tp: 268801.0000 - fp: 12191.0000 - tn: 272611.0000 - fn: 15741.0000 - accuracy: 0.9509 - precision: 0.9566 - recall: 0.9447 - auc: 0.9877 - val_loss: 0.0920 - val_tp: 85.0000 - val_fp: 1109.0000 - val_tn: 58603.0000 - val_fn: 13.0000 - val_accuracy: 0.9812 - val_precision: 0.0712 - val_recall: 0.8673 - val_auc: 0.9750\n",
            "Epoch 4/100\n",
            "278/278 [==============================] - 8s 28ms/step - loss: 0.1286 - tp: 269795.0000 - fp: 9928.0000 - tn: 274920.0000 - fn: 14701.0000 - accuracy: 0.9567 - precision: 0.9645 - recall: 0.9483 - auc: 0.9912 - val_loss: 0.0761 - val_tp: 85.0000 - val_fp: 1021.0000 - val_tn: 58691.0000 - val_fn: 13.0000 - val_accuracy: 0.9827 - val_precision: 0.0769 - val_recall: 0.8673 - val_auc: 0.9710\n",
            "Epoch 5/100\n",
            "278/278 [==============================] - 8s 27ms/step - loss: 0.1159 - tp: 271168.0000 - fp: 9065.0000 - tn: 275690.0000 - fn: 13421.0000 - accuracy: 0.9605 - precision: 0.9677 - recall: 0.9528 - auc: 0.9931 - val_loss: 0.0669 - val_tp: 85.0000 - val_fp: 981.0000 - val_tn: 58731.0000 - val_fn: 13.0000 - val_accuracy: 0.9834 - val_precision: 0.0797 - val_recall: 0.8673 - val_auc: 0.9671\n",
            "Epoch 6/100\n",
            "278/278 [==============================] - 8s 28ms/step - loss: 0.1066 - tp: 271778.0000 - fp: 8448.0000 - tn: 276516.0000 - fn: 12602.0000 - accuracy: 0.9630 - precision: 0.9699 - recall: 0.9557 - auc: 0.9943 - val_loss: 0.0614 - val_tp: 85.0000 - val_fp: 941.0000 - val_tn: 58771.0000 - val_fn: 13.0000 - val_accuracy: 0.9840 - val_precision: 0.0828 - val_recall: 0.8673 - val_auc: 0.9594\n",
            "Epoch 7/100\n",
            "278/278 [==============================] - 8s 27ms/step - loss: 0.1003 - tp: 272067.0000 - fp: 8067.0000 - tn: 276846.0000 - fn: 12364.0000 - accuracy: 0.9641 - precision: 0.9712 - recall: 0.9565 - auc: 0.9950 - val_loss: 0.0566 - val_tp: 85.0000 - val_fp: 906.0000 - val_tn: 58806.0000 - val_fn: 13.0000 - val_accuracy: 0.9846 - val_precision: 0.0858 - val_recall: 0.8673 - val_auc: 0.9565\n",
            "Epoch 8/100\n",
            "278/278 [==============================] - 8s 27ms/step - loss: 0.0961 - tp: 272069.0000 - fp: 7742.0000 - tn: 277132.0000 - fn: 12401.0000 - accuracy: 0.9646 - precision: 0.9723 - recall: 0.9564 - auc: 0.9955 - val_loss: 0.0524 - val_tp: 84.0000 - val_fp: 858.0000 - val_tn: 58854.0000 - val_fn: 14.0000 - val_accuracy: 0.9854 - val_precision: 0.0892 - val_recall: 0.8571 - val_auc: 0.9545\n",
            "Epoch 9/100\n",
            "278/278 [==============================] - 7s 27ms/step - loss: 0.0915 - tp: 272470.0000 - fp: 7468.0000 - tn: 277348.0000 - fn: 12058.0000 - accuracy: 0.9657 - precision: 0.9733 - recall: 0.9576 - auc: 0.9959 - val_loss: 0.0492 - val_tp: 84.0000 - val_fp: 817.0000 - val_tn: 58895.0000 - val_fn: 14.0000 - val_accuracy: 0.9861 - val_precision: 0.0932 - val_recall: 0.8571 - val_auc: 0.9519\n",
            "Epoch 10/100\n",
            "278/278 [==============================] - 7s 27ms/step - loss: 0.0883 - tp: 272503.0000 - fp: 7214.0000 - tn: 277786.0000 - fn: 11841.0000 - accuracy: 0.9665 - precision: 0.9742 - recall: 0.9584 - auc: 0.9961 - val_loss: 0.0473 - val_tp: 84.0000 - val_fp: 805.0000 - val_tn: 58907.0000 - val_fn: 14.0000 - val_accuracy: 0.9863 - val_precision: 0.0945 - val_recall: 0.8571 - val_auc: 0.9490\n",
            "Epoch 11/100\n",
            "278/278 [==============================] - 8s 28ms/step - loss: 0.0844 - tp: 272452.0000 - fp: 6973.0000 - tn: 278342.0000 - fn: 11577.0000 - accuracy: 0.9674 - precision: 0.9750 - recall: 0.9592 - auc: 0.9964 - val_loss: 0.0429 - val_tp: 84.0000 - val_fp: 682.0000 - val_tn: 59030.0000 - val_fn: 14.0000 - val_accuracy: 0.9884 - val_precision: 0.1097 - val_recall: 0.8571 - val_auc: 0.9498\n",
            "Epoch 12/100\n",
            "278/278 [==============================] - 8s 28ms/step - loss: 0.0821 - tp: 272922.0000 - fp: 6630.0000 - tn: 278571.0000 - fn: 11221.0000 - accuracy: 0.9686 - precision: 0.9763 - recall: 0.9605 - auc: 0.9966 - val_loss: 0.0419 - val_tp: 84.0000 - val_fp: 694.0000 - val_tn: 59018.0000 - val_fn: 14.0000 - val_accuracy: 0.9882 - val_precision: 0.1080 - val_recall: 0.8571 - val_auc: 0.9507\n",
            "Epoch 13/100\n",
            "278/278 [==============================] - 8s 27ms/step - loss: 0.0800 - tp: 273520.0000 - fp: 6535.0000 - tn: 278246.0000 - fn: 11043.0000 - accuracy: 0.9691 - precision: 0.9767 - recall: 0.9612 - auc: 0.9967 - val_loss: 0.0394 - val_tp: 84.0000 - val_fp: 641.0000 - val_tn: 59071.0000 - val_fn: 14.0000 - val_accuracy: 0.9890 - val_precision: 0.1159 - val_recall: 0.8571 - val_auc: 0.9516\n",
            "Epoch 14/100\n",
            "278/278 [==============================] - 7s 27ms/step - loss: 0.0789 - tp: 273668.0000 - fp: 6553.0000 - tn: 277982.0000 - fn: 11141.0000 - accuracy: 0.9689 - precision: 0.9766 - recall: 0.9609 - auc: 0.9967 - val_loss: 0.0387 - val_tp: 84.0000 - val_fp: 640.0000 - val_tn: 59072.0000 - val_fn: 14.0000 - val_accuracy: 0.9891 - val_precision: 0.1160 - val_recall: 0.8571 - val_auc: 0.9477\n",
            "Epoch 15/100\n",
            "278/278 [==============================] - 7s 27ms/step - loss: 0.0764 - tp: 272943.0000 - fp: 6306.0000 - tn: 279098.0000 - fn: 10997.0000 - accuracy: 0.9696 - precision: 0.9774 - recall: 0.9613 - auc: 0.9968 - val_loss: 0.0390 - val_tp: 84.0000 - val_fp: 644.0000 - val_tn: 59068.0000 - val_fn: 14.0000 - val_accuracy: 0.9890 - val_precision: 0.1154 - val_recall: 0.8571 - val_auc: 0.9483\n"
          ],
          "name": "stdout"
        }
      ]
    },
    {
      "cell_type": "markdown",
      "metadata": {
        "id": "IrZ7rL37Y0Ex",
        "colab_type": "text"
      },
      "source": [
        "If the training process were considering the whole dataset on each gradient update, this oversampling would be basically identical to the class weighting.\n",
        "\n",
        "But when training the model batch-wise, as you did here, the oversampled data provides a smoother gradient signal: Instead of each positive example being shown in one batch with a large weight, they're shown in many different batches each time with a small weight.\n",
        "\n",
        "This smoother gradient signal makes it easier to train the model.\n",
        "\n",
        "Check training history\n",
        "Note that the distributions of metrics will be different here, because the training data has a totally different distribution from the validation and test data."
      ]
    },
    {
      "cell_type": "code",
      "metadata": {
        "id": "n88vcx7BVYvG",
        "colab_type": "code",
        "outputId": "c8ed8588-acd8-4351-9099-a07fc57037b2",
        "colab": {
          "base_uri": "https://localhost:8080/",
          "height": 610
        }
      },
      "source": [
        "plot_metrics(resampled_history )"
      ],
      "execution_count": 0,
      "outputs": [
        {
          "output_type": "display_data",
          "data": {
            "image/png": "[encoded data removed]",
            "text/plain": [
              "<Figure size 864x720 with 5 Axes>"
            ]
          },
          "metadata": {
            "tags": []
          }
        }
      ]
    },
    {
      "cell_type": "markdown",
      "metadata": {
        "id": "i0vjRf-5aB30",
        "colab_type": "text"
      },
      "source": [
        "Re-train\n",
        "Because training is easier on the balanced data, the above training procedure may overfit quickly.\n",
        "\n",
        "So break up the epochs to give the callbacks.EarlyStopping finer control over when to stop training."
      ]
    },
    {
      "cell_type": "code",
      "metadata": {
        "id": "xbL8uvQvaDM6",
        "colab_type": "code",
        "colab": {}
      },
      "source": [
        "resampled_model = make_model(X_train)\n",
        "resampled_model.load_weights(initial_weights)\n",
        "\n",
        "# Reset the bias to zero, since this dataset is balanced.\n",
        "output_layer = resampled_model.layers[-1] \n",
        "output_layer.bias.assign([0]) # seting the vias value of the last layer to 0\n",
        "\n",
        "resampled_history = resampled_model.fit(\n",
        "    resampled_ds,\n",
        "    # These are not real epochs\n",
        "    steps_per_epoch = 20, # resampled_steps_per_epoch\n",
        "    epochs=10*EPOCHS,\n",
        "    callbacks = [early_stopping],\n",
        "    validation_data=(val_ds))"
      ],
      "execution_count": 0,
      "outputs": []
    },
    {
      "cell_type": "code",
      "metadata": {
        "id": "_Ox63WgibPfs",
        "colab_type": "code",
        "outputId": "b6f7d31f-51c2-4a52-cbe3-3f2eb84e8f37",
        "colab": {
          "base_uri": "https://localhost:8080/",
          "height": 610
        }
      },
      "source": [
        "plot_metrics(resampled_history)"
      ],
      "execution_count": 0,
      "outputs": [
        {
          "output_type": "display_data",
          "data": {
            "image/png": "[encoded data removed]",
            "text/plain": [
              "<Figure size 864x720 with 5 Axes>"
            ]
          },
          "metadata": {
            "tags": []
          }
        }
      ]
    },
    {
      "cell_type": "markdown",
      "metadata": {
        "id": "RtK7unrzciZy",
        "colab_type": "text"
      },
      "source": [
        "Look at the other evaluation metrics using the test set"
      ]
    },
    {
      "cell_type": "code",
      "metadata": {
        "id": "nvddm2HVcbHU",
        "colab_type": "code",
        "colab": {}
      },
      "source": [
        "train_predictions_resampled = resampled_model.predict(X_train, batch_size=BATCH_SIZE)\n",
        "test_predictions_resampled = resampled_model.predict(X_test, batch_size=BATCH_SIZE)"
      ],
      "execution_count": 0,
      "outputs": []
    },
    {
      "cell_type": "code",
      "metadata": {
        "id": "CX7hZo_3cfCQ",
        "colab_type": "code",
        "outputId": "c0cbbfe6-1864-4602-9765-bf4dc19a72ba",
        "colab": {
          "base_uri": "https://localhost:8080/",
          "height": 1000
        }
      },
      "source": [
        "resampled_results = resampled_model.evaluate(X_test, y_test,\n",
        "                                             batch_size=BATCH_SIZE, verbose=0)\n",
        "for name, value in zip(resampled_model.metrics_names, resampled_results):\n",
        "  print(name, ': ', value)\n",
        "print()\n",
        "\n",
        "plot_cm(y_test, test_predictions_resampled)"
      ],
      "execution_count": 0,
      "outputs": [
        {
          "output_type": "stream",
          "text": [
            "loss :  0.06172486593406156\n",
            "tp :  125.0\n",
            "fp :  1307.0\n",
            "tn :  84000.0\n",
            "fn :  11.0\n",
            "accuracy :  0.9845745\n",
            "precision :  0.0872905\n",
            "recall :  0.9191176\n",
            "auc :  0.97379535\n",
            "\n",
            "Legitimate Transactions Detected (True Negatives):  84000\n",
            "Legitimate Transactions Incorrectly Detected (False Positives):  1307\n",
            "Fraudulent Transactions Missed (False Negatives):  11\n",
            "Fraudulent Transactions Detected (True Positives):  125\n",
            "Total Fraudulent Transactions:  136\n"
          ],
          "name": "stdout"
        },
        {
          "output_type": "display_data",
          "data": {
            "image/png": "[encoded data removed]",
            "text/plain": [
              "<Figure size 1080x1080 with 2 Axes>"
            ]
          },
          "metadata": {
            "tags": []
          }
        }
      ]
    },
    {
      "cell_type": "markdown",
      "metadata": {
        "id": "1w_TPEo3Q7rt",
        "colab_type": "text"
      },
      "source": [
        "## Novelty Detection with Classic Machine Learning\n",
        "Given the extremely imbalanced class distribution in the data set, a novelty detection or anomaly detection problem can be framed and appropriate methods can be used in lieu of a classification problem. \n",
        "\n",
        "Therefore, the traditional use of the train_test_split module is probably inappropriate in this case and specifically training on \n",
        "\n",
        "Train the data on only nominal cases (with one anomalous case, just so the model doesnt break) and then test on anomalous cases to see how well we do in an semi-supervised learning approach"
      ]
    },
    {
      "cell_type": "markdown",
      "metadata": {
        "id": "krAkOejx_QIK",
        "colab_type": "text"
      },
      "source": [
        "### Using train test split with IFOREST"
      ]
    },
    {
      "cell_type": "code",
      "metadata": {
        "id": "tJe7xKs09SDA",
        "colab_type": "code",
        "colab": {}
      },
      "source": [
        "X, y = split_data_into_feature_and_target(principalDf)\n",
        "\n",
        "X_train, X_test, y_train, y_test = train_test_split(X, y, test_size=0.4, random_state=42)\n",
        "\n",
        "predictions, anomaly_scores, model = fit_predict_score_outlier_detection_models(\"iforest\", X_train, X_train, y_train, y_test)"
      ],
      "execution_count": 0,
      "outputs": []
    },
    {
      "cell_type": "code",
      "metadata": {
        "colab_type": "code",
        "id": "97tMa-aofsUL",
        "colab": {}
      },
      "source": [
        "plot_anomaly_score_dists(anomaly_scores[0], anomaly_scores[1])"
      ],
      "execution_count": 0,
      "outputs": []
    },
    {
      "cell_type": "code",
      "metadata": {
        "id": "pfHGLw-L9us2",
        "colab_type": "code",
        "colab": {}
      },
      "source": [
        "print(pd.Series(anomaly_scores[0]).describe())\n",
        "print(f\"med: {np.median(anomaly_scores[0])}\")"
      ],
      "execution_count": 0,
      "outputs": []
    },
    {
      "cell_type": "code",
      "metadata": {
        "id": "L401PVJi-ZbY",
        "colab_type": "code",
        "colab": {}
      },
      "source": [
        "print(pd.Series(anomaly_scores[1]).describe())\n",
        "print(f\"med: {np.median(anomaly_scores[1])}\")"
      ],
      "execution_count": 0,
      "outputs": []
    },
    {
      "cell_type": "code",
      "metadata": {
        "id": "YGpKVJWI9fMi",
        "colab_type": "code",
        "colab": {}
      },
      "source": [
        "plot_roc(y_test, get_max_probas(model.predict_proba(X_test)))"
      ],
      "execution_count": 0,
      "outputs": []
    },
    {
      "cell_type": "code",
      "metadata": {
        "id": "v8qVzaUt9l5j",
        "colab_type": "code",
        "colab": {}
      },
      "source": [
        "plot_prc(y_test, get_max_probas(model.predict_proba(X_test)), model.predict(X_test))"
      ],
      "execution_count": 0,
      "outputs": []
    },
    {
      "cell_type": "markdown",
      "metadata": {
        "id": "7WtuyUoU_6Ie",
        "colab_type": "text"
      },
      "source": [
        "## Conclusion of Train_test_split for Outlier/Anomaly/Novelty Detection with IFOREST\n",
        "\n",
        "We see that the decision function has not learned from enough fradulent samples due this random sample partitioning method. A more heuristic approach should be pursued when approaching an anomaly detection/novelty detection problem."
      ]
    },
    {
      "cell_type": "markdown",
      "metadata": {
        "id": "1FGeCWTMC7wl",
        "colab_type": "text"
      },
      "source": [
        "## Using alternative data partitioning with IFOREST"
      ]
    },
    {
      "cell_type": "code",
      "metadata": {
        "id": "BFaxOzFxQ7DW",
        "colab_type": "code",
        "colab": {}
      },
      "source": [
        "training_data = principalDf.loc[principalDf[\"target\"] == 0, :]\n",
        "training_data = training_data.append(principalDf.iloc[6329, :])\n",
        "X_train = training_data.iloc[:, :-1].values\n",
        "y_train = training_data.iloc[:, -1].values"
      ],
      "execution_count": 0,
      "outputs": []
    },
    {
      "cell_type": "code",
      "metadata": {
        "id": "khtrm2GIUeox",
        "colab_type": "code",
        "colab": {}
      },
      "source": [
        "test_data = principalDf.loc[principalDf.target==1, :]\n",
        "X_test = test_data.iloc[:, :-1].values\n",
        "y_test = test_data.iloc[:, -1].values"
      ],
      "execution_count": 0,
      "outputs": []
    },
    {
      "cell_type": "code",
      "metadata": {
        "id": "i9Al4xlKVagH",
        "colab_type": "code",
        "colab": {}
      },
      "source": [
        "predictions, anomaly_scores, model = fit_predict_score_outlier_detection_models(\"iforest\", X_train, X_train, y_train, y_test)"
      ],
      "execution_count": 0,
      "outputs": []
    },
    {
      "cell_type": "code",
      "metadata": {
        "id": "8roIrFqzvtJ4",
        "colab_type": "code",
        "colab": {}
      },
      "source": [
        "score = model.fit_predict_score(X_train, y_train, scoring='roc_auc_score')\n",
        "score"
      ],
      "execution_count": 0,
      "outputs": []
    },
    {
      "cell_type": "code",
      "metadata": {
        "id": "MxrnhNJQkRgd",
        "colab_type": "code",
        "colab": {}
      },
      "source": [
        "plot_anomaly_score_dists(anomaly_scores[0], anomaly_scores[1])"
      ],
      "execution_count": 0,
      "outputs": []
    },
    {
      "cell_type": "code",
      "metadata": {
        "id": "ssE9nJCNmk5W",
        "colab_type": "code",
        "colab": {}
      },
      "source": [
        "print(pd.Series(anomaly_scores[0]).describe())\n",
        "print(f\"med: {np.median(anomaly_scores[0])}\")"
      ],
      "execution_count": 0,
      "outputs": []
    },
    {
      "cell_type": "markdown",
      "metadata": {
        "id": "xZmCYZkwD9wL",
        "colab_type": "text"
      },
      "source": [
        "Comment: there is a clear flip in the distribution in the distribution of anomaly values produced by the Isolation forest when comparing the fradulent cases vs the nominal cases. "
      ]
    },
    {
      "cell_type": "code",
      "metadata": {
        "id": "jS8OLuX7meaB",
        "colab_type": "code",
        "colab": {}
      },
      "source": [
        "print(pd.Series(anomaly_scores[1]).describe())\n",
        "print(f\"med: {np.median([1])}\")"
      ],
      "execution_count": 0,
      "outputs": []
    },
    {
      "cell_type": "code",
      "metadata": {
        "id": "Q1wgni_V___Z",
        "colab_type": "code",
        "colab": {}
      },
      "source": [
        "detailed_confusion_matrix(y_test, model.predict(X_test))"
      ],
      "execution_count": 0,
      "outputs": []
    },
    {
      "cell_type": "code",
      "metadata": {
        "id": "ocukpAymmMAK",
        "colab_type": "code",
        "colab": {}
      },
      "source": [
        "perform_mannwhitneyutest(anomaly_scores[0], anomaly_scores[1])"
      ],
      "execution_count": 0,
      "outputs": []
    },
    {
      "cell_type": "code",
      "metadata": {
        "id": "TZVILLnOhrWC",
        "colab_type": "code",
        "colab": {}
      },
      "source": [
        "plot_roc(y_test, get_max_probas(model.predict_proba(X_test)))"
      ],
      "execution_count": 0,
      "outputs": []
    },
    {
      "cell_type": "markdown",
      "metadata": {
        "id": "T1PrhP5CHGty",
        "colab_type": "text"
      },
      "source": [
        "This probably occured because I only included 1 fraudulent case in the training dataset..."
      ]
    },
    {
      "cell_type": "code",
      "metadata": {
        "id": "Mx3C_n1SkG1o",
        "colab_type": "code",
        "colab": {}
      },
      "source": [
        "plot_prc(y_test, get_max_probas(model.predict_proba(X_test)), model.predict(X_test))"
      ],
      "execution_count": 0,
      "outputs": []
    },
    {
      "cell_type": "markdown",
      "metadata": {
        "id": "Xdqg4Z0PHQG4",
        "colab_type": "text"
      },
      "source": [
        "Same as above."
      ]
    },
    {
      "cell_type": "markdown",
      "metadata": {
        "id": "B-66GbRQJIkX",
        "colab_type": "text"
      },
      "source": [
        "## Alternate sampling strategy with IForest\n",
        "\n",
        "Another sampling strategy to partition the number  of fraudulent cases I employ is split it as such:\n",
        "\n",
        "* 60% fraudulent data for training\n",
        "* 20% fraudulent data for validation\n",
        "* 20% fraudulent data for testing (test set will comprise only of the fraudulent cases)"
      ]
    },
    {
      "cell_type": "code",
      "metadata": {
        "id": "bdAhnJmNQxji",
        "colab_type": "code",
        "colab": {}
      },
      "source": [
        "(X_train, y_train), (X_val, y_val), (X_test, y_test) = appropriate_df_sampler(principalDf)"
      ],
      "execution_count": 0,
      "outputs": []
    },
    {
      "cell_type": "code",
      "metadata": {
        "id": "9QELgdOFJ6kB",
        "colab_type": "code",
        "colab": {}
      },
      "source": [
        "predictions, anomaly_scores, model = fit_predict_score_outlier_detection_models(\"iforest\", X_train, X_val, y_train, y_val)"
      ],
      "execution_count": 0,
      "outputs": []
    },
    {
      "cell_type": "code",
      "metadata": {
        "id": "b6SkXaBccVyG",
        "colab_type": "code",
        "colab": {}
      },
      "source": [
        "plot_anomaly_score_dists(anomaly_scores[0], anomaly_scores[1])"
      ],
      "execution_count": 0,
      "outputs": []
    },
    {
      "cell_type": "code",
      "metadata": {
        "id": "ThwwBtKynogN",
        "colab_type": "code",
        "colab": {}
      },
      "source": [
        "perform_mannwhitneyutest(anomaly_scores[0], anomaly_scores[1])"
      ],
      "execution_count": 0,
      "outputs": []
    },
    {
      "cell_type": "code",
      "metadata": {
        "id": "GKIsz9Dpgfou",
        "colab_type": "code",
        "colab": {}
      },
      "source": [
        "plot_roc(y_val, get_max_probas(predictions[1]))"
      ],
      "execution_count": 0,
      "outputs": []
    },
    {
      "cell_type": "code",
      "metadata": {
        "id": "tVT75UCkquwQ",
        "colab_type": "code",
        "colab": {}
      },
      "source": [
        "y_pred = model.predict(X_test)\n",
        "plot_roc(y_test, get_max_probas(model.predict_proba(X_test)))"
      ],
      "execution_count": 0,
      "outputs": []
    },
    {
      "cell_type": "code",
      "metadata": {
        "id": "tVvX2gupq7VX",
        "colab_type": "code",
        "colab": {}
      },
      "source": [
        "plot_prc(y_test, get_max_probas(model.predict_proba(X_test)), y_pred)"
      ],
      "execution_count": 0,
      "outputs": []
    },
    {
      "cell_type": "code",
      "metadata": {
        "id": "db-WbTRmrcaA",
        "colab_type": "code",
        "colab": {}
      },
      "source": [
        "detailed_confusion_matrix(y_test, y_pred)"
      ],
      "execution_count": 0,
      "outputs": []
    },
    {
      "cell_type": "markdown",
      "metadata": {
        "id": "tnSIpih_sDj1",
        "colab_type": "text"
      },
      "source": [
        "## Conclusion of Alternate Sampling Strategy\n",
        "\n",
        "Using Isolation forest with an appropriate method of data partitioning the results in a fantastic precision score , in the case where we perform feature extraction with PCA before hand."
      ]
    },
    {
      "cell_type": "markdown",
      "metadata": {
        "id": "0HaFf9aSGOQJ",
        "colab_type": "text"
      },
      "source": [
        "## Alternative Sampling Strategy with IFOREST and original dataset\n",
        "\n",
        "Repeat the above again except with the original dataset\n",
        "\n",
        "* 60% fraudulent data for training\n",
        "* 20% fraudulent data for validation\n",
        "* 20% fraudulent data for testing (test set will comprise only of the fraudulent cases)"
      ]
    },
    {
      "cell_type": "code",
      "metadata": {
        "colab_type": "code",
        "id": "9UlRtDrYGgHH",
        "colab": {}
      },
      "source": [
        "(X_train, y_train), (X_val, y_val), (X_test, y_test) = appropriate_df_sampler(df)"
      ],
      "execution_count": 0,
      "outputs": []
    },
    {
      "cell_type": "code",
      "metadata": {
        "colab_type": "code",
        "id": "AayuetC6GgHN",
        "colab": {}
      },
      "source": [
        "predictions, anomaly_scores, model = fit_predict_score_outlier_detection_models(\"iforest\", X_train, X_val, y_train, y_val)"
      ],
      "execution_count": 0,
      "outputs": []
    },
    {
      "cell_type": "code",
      "metadata": {
        "colab_type": "code",
        "id": "6jUZKtY4GgHU",
        "colab": {}
      },
      "source": [
        "plot_anomaly_score_dists(anomaly_scores[0], anomaly_scores[1])"
      ],
      "execution_count": 0,
      "outputs": []
    },
    {
      "cell_type": "code",
      "metadata": {
        "colab_type": "code",
        "id": "pE0Irq7IGgHc",
        "colab": {}
      },
      "source": [
        "perform_mannwhitneyutest(anomaly_scores[0], anomaly_scores[1])"
      ],
      "execution_count": 0,
      "outputs": []
    },
    {
      "cell_type": "code",
      "metadata": {
        "colab_type": "code",
        "id": "cFRfRyd8GgHh",
        "colab": {}
      },
      "source": [
        "plot_roc(y_val, get_max_probas(predictions[1]))"
      ],
      "execution_count": 0,
      "outputs": []
    },
    {
      "cell_type": "code",
      "metadata": {
        "colab_type": "code",
        "id": "V8zlkUgyGgHm",
        "colab": {}
      },
      "source": [
        "y_pred = model.predict(X_test)\n",
        "plot_roc(y_test, get_max_probas(model.predict_proba(X_test)))"
      ],
      "execution_count": 0,
      "outputs": []
    },
    {
      "cell_type": "code",
      "metadata": {
        "colab_type": "code",
        "id": "sMPwikLkGgHw",
        "colab": {}
      },
      "source": [
        "plot_prc(y_test, get_max_probas(model.predict_proba(X_test)), y_pred)"
      ],
      "execution_count": 0,
      "outputs": []
    },
    {
      "cell_type": "code",
      "metadata": {
        "colab_type": "code",
        "id": "cQuMW6uwGgH1",
        "colab": {}
      },
      "source": [
        "detailed_confusion_matrix(y_test, y_pred)"
      ],
      "execution_count": 0,
      "outputs": []
    },
    {
      "cell_type": "markdown",
      "metadata": {
        "id": "QA3SQHR2Gz4y",
        "colab_type": "text"
      },
      "source": [
        "### Conclusion of IForest with alterative sampling with original dataset\n",
        "\n",
        "We get even slightly better precision results when we apply isolation forest to the original dataset, when compared to the pca-reduced dataset."
      ]
    },
    {
      "cell_type": "markdown",
      "metadata": {
        "id": "4Vyv6QSyC-az",
        "colab_type": "text"
      },
      "source": [
        "## Addressing Class Imbalance - Down Sampling Majority Class\n",
        "\n",
        "Another approach to addressing the problem of class imbalance is with down-sampling the majority class. This is something we've done before in a few other problems, and it might not be an option in all the cases. In this case, however, I think we have enough data points in total, and enough cases of the majority class we can down sample from. \n",
        "\n",
        "Keep in mind, we want to downsample to include the most influential and representative samples to learn from from the majority negative class. We will be making use of the SMOTE python library and its methods to select an approprirate down-sampling strategy for our problem"
      ]
    },
    {
      "cell_type": "code",
      "metadata": {
        "colab_type": "code",
        "id": "27FDKrCnS-ZQ",
        "colab": {}
      },
      "source": [
        "# only non-fraudulent cases for this test\n",
        "X_test, y_test = sample_for_test_set(principalDf, include_minority=False)"
      ],
      "execution_count": 0,
      "outputs": []
    },
    {
      "cell_type": "code",
      "metadata": {
        "colab_type": "code",
        "id": "9hEUHn4CS-ZX",
        "colab": {}
      },
      "source": [
        "y_pred = fitted_model.predict(X_test)\n",
        "y_pred_probs_max = get_max_probas(fitted_model.predict_proba(X_test))"
      ],
      "execution_count": 0,
      "outputs": []
    },
    {
      "cell_type": "code",
      "metadata": {
        "colab_type": "code",
        "id": "6Sp5-lAIS-Za",
        "colab": {}
      },
      "source": [
        "y_pred = pd.Series(y_pred)\n",
        "y_pred.value_counts()"
      ],
      "execution_count": 0,
      "outputs": []
    },
    {
      "cell_type": "code",
      "metadata": {
        "id": "-DNpHOjLTSrA",
        "colab_type": "code",
        "colab": {}
      },
      "source": [
        "detailed_confusion_matrix(y_test, y_pred)"
      ],
      "execution_count": 0,
      "outputs": []
    },
    {
      "cell_type": "code",
      "metadata": {
        "id": "CrZpVZmZoHLQ",
        "colab_type": "code",
        "colab": {}
      },
      "source": [
        "plot_roc(y_test, y_pred_probs_max)"
      ],
      "execution_count": 0,
      "outputs": []
    },
    {
      "cell_type": "code",
      "metadata": {
        "id": "aqVoQWcPVc-l",
        "colab_type": "code",
        "colab": {}
      },
      "source": [
        "print(f\"{1753/(1753+83541)} %\")"
      ],
      "execution_count": 0,
      "outputs": []
    },
    {
      "cell_type": "markdown",
      "metadata": {
        "id": "pqUhr1wbVCKS",
        "colab_type": "text"
      },
      "source": [
        "There were no fraudulent cases in this step, however, there alarm in the model went off in the cases of 1753 cases, with this type of naive sampling in this instance. This model therefore would cause unncessary harm and arm in its clients 2% of the time, which is too shockingly high of a number. This needs to be lowered because the harm and alarm of false positive cases can be enough for your clients to end their relationship with you."
      ]
    },
    {
      "cell_type": "code",
      "metadata": {
        "colab_type": "code",
        "id": "uWKh_DpfS-Zc",
        "colab": {}
      },
      "source": [
        "plot_roc(y_test, y_pred)"
      ],
      "execution_count": 0,
      "outputs": []
    },
    {
      "cell_type": "markdown",
      "metadata": {
        "id": "W7OipSgA8wIY",
        "colab_type": "text"
      },
      "source": [
        "## Undersampling of the Majority Class with OneSidedSelection\n",
        "\n",
        "In the contrary, OneSidedSelection will use TomekLinks to remove noisy samples [KM1997]. In addition, the 1 nearest neighbor rule is applied to all samples and the one which are misclassified will be added to the set C. No iteration on the set S will take place."
      ]
    },
    {
      "cell_type": "code",
      "metadata": {
        "id": "UO_MQkXu9IOT",
        "colab_type": "code",
        "colab": {}
      },
      "source": [
        "from imblearn.under_sampling import OneSidedSelection\n",
        "oss = OneSidedSelection(random_state=0)\n",
        "X_resampled, y_resampled = oss.fit_resample(X, y)\n",
        "print(sorted(Counter(y_resampled).items()))"
      ],
      "execution_count": 0,
      "outputs": []
    },
    {
      "cell_type": "code",
      "metadata": {
        "id": "GHHF_90w9I7Y",
        "colab_type": "code",
        "colab": {}
      },
      "source": [
        "OSS_df = pd.DataFrame(np.c_[X_resampled, y_resampled], columns=principalDf.columns)"
      ],
      "execution_count": 0,
      "outputs": []
    },
    {
      "cell_type": "code",
      "metadata": {
        "id": "Av2hTIIg9JTm",
        "colab_type": "code",
        "colab": {}
      },
      "source": [
        "param_grid = {\n",
        "    \"n_neighbors\":[3, 4, 5]\n",
        "}\n",
        "\n",
        "knn_data_bundle, fitted_model, elapsed_time = fit_get_predictions_with_CV(OSS_df, \"KNN\", param_grid)\n",
        "\n",
        "y_pred = knn_data_bundle[4]\n",
        "y_test = knn_data_bundle[3]"
      ],
      "execution_count": 0,
      "outputs": []
    },
    {
      "cell_type": "code",
      "metadata": {
        "id": "pcex1k7u9K9h",
        "colab_type": "code",
        "colab": {}
      },
      "source": [
        "report_df = report_performance_scores(fitted_model, y_test, y_pred, elapsed_time)\n",
        "report_df.head()"
      ],
      "execution_count": 0,
      "outputs": []
    },
    {
      "cell_type": "code",
      "metadata": {
        "id": "JX9d_rGy9Lb0",
        "colab_type": "code",
        "colab": {}
      },
      "source": [
        "plot_roc(y_test, y_pred)"
      ],
      "execution_count": 0,
      "outputs": []
    },
    {
      "cell_type": "markdown",
      "metadata": {
        "id": "CMhnoBct9MTY",
        "colab_type": "text"
      },
      "source": [
        "This method seems like a more balanced approach to undersampling the minority case. We see that we've kept the same number of majority cases somehow, but achieved much better performance with this type of sampling strategy. I've not read in depth about how the sampling strategy employed but I think it will be important to know how it is done. Something about Tomek links."
      ]
    },
    {
      "cell_type": "markdown",
      "metadata": {
        "id": "DP9r4U6lOiwO",
        "colab_type": "text"
      },
      "source": [
        "## Test Modeling against Test dataset (previous majority down sampling)\n",
        "\n",
        "Create a test data set by resampling a portion of the non-fraud cases and make that the entire test dataset."
      ]
    },
    {
      "cell_type": "code",
      "metadata": {
        "id": "zs7Ip-4yxQ6y",
        "colab_type": "code",
        "colab": {}
      },
      "source": [
        "# only non-fraudulent cases for this test\n",
        "X_test, y_test = sample_for_test_set(principalDf, include_minority=False)"
      ],
      "execution_count": 0,
      "outputs": []
    },
    {
      "cell_type": "code",
      "metadata": {
        "id": "FGuPKBi7OJbE",
        "colab_type": "code",
        "colab": {}
      },
      "source": [
        "y_pred = fitted_model.predict(X_test)"
      ],
      "execution_count": 0,
      "outputs": []
    },
    {
      "cell_type": "code",
      "metadata": {
        "id": "dk4BQUTfe_Pj",
        "colab_type": "code",
        "colab": {}
      },
      "source": [
        "y_pred = pd.Series(y_pred)\n",
        "y_pred.value_counts()"
      ],
      "execution_count": 0,
      "outputs": []
    },
    {
      "cell_type": "code",
      "metadata": {
        "id": "iW2dBSJ2P6ar",
        "colab_type": "code",
        "colab": {}
      },
      "source": [
        "plot_roc(y_test, y_pred)"
      ],
      "execution_count": 0,
      "outputs": []
    },
    {
      "cell_type": "code",
      "metadata": {
        "colab_type": "code",
        "id": "jHEES27c_TdN",
        "colab": {}
      },
      "source": [
        "# Include minority cases in the sampling\n",
        "X_test, y_test = sample_for_test_set(principalDf, fraction=0.5, include_minority=True)"
      ],
      "execution_count": 0,
      "outputs": []
    },
    {
      "cell_type": "code",
      "metadata": {
        "colab_type": "code",
        "id": "44gFrzbn_TdU",
        "colab": {}
      },
      "source": [
        "y_pred_probs = fitted_model.predict_proba(X_test)\n",
        "y_pred = fitted_model.predict(X_test)"
      ],
      "execution_count": 0,
      "outputs": []
    },
    {
      "cell_type": "code",
      "metadata": {
        "colab_type": "code",
        "id": "2BqBjWxV_TdW",
        "colab": {}
      },
      "source": [
        "y_pred = pd.Series(y_pred)\n",
        "y_pred.value_counts()"
      ],
      "execution_count": 0,
      "outputs": []
    },
    {
      "cell_type": "code",
      "metadata": {
        "id": "cfSz9rmm_0sr",
        "colab_type": "code",
        "colab": {}
      },
      "source": [
        "report = report_performance_scores(fitted_model, y_test, y_pred, elapsed_time)\n",
        "report.head()"
      ],
      "execution_count": 0,
      "outputs": []
    },
    {
      "cell_type": "code",
      "metadata": {
        "id": "1SYOTwZBgDUE",
        "colab_type": "code",
        "colab": {}
      },
      "source": [
        "y_pred = fitted_model.predict(X_test)\n",
        "y_pred_probs = fitted_model.predict_proba(X_test)\n",
        "y_pred_probs_max = get_max_probas(y_pred_probs)"
      ],
      "execution_count": 0,
      "outputs": []
    },
    {
      "cell_type": "code",
      "metadata": {
        "id": "MzSRU8xRhsHT",
        "colab_type": "code",
        "colab": {}
      },
      "source": [
        "plot_roc(y_test, y_pred_probs_max)"
      ],
      "execution_count": 0,
      "outputs": []
    },
    {
      "cell_type": "code",
      "metadata": {
        "id": "K1HHhv5SBmCB",
        "colab_type": "code",
        "colab": {}
      },
      "source": [
        "detailed_confusion_matrix(y_test, y_pred)"
      ],
      "execution_count": 0,
      "outputs": []
    },
    {
      "cell_type": "markdown",
      "metadata": {
        "id": "w9YtyQCx74U3",
        "colab_type": "text"
      },
      "source": [
        "# Conclusion of Down Sampling Strategy\n",
        "\n",
        "Using the OneSideSelection down sampling strategy, fitting a model to this dataset, and then testing on a purely majority-class dataset yields positive expected values (i.e., almost 0 fraudulent cases predicted), meaning that the decision function has learned of some of the patterns for fraudulent activity.\n",
        "\n",
        "Having a higher Sensitivity score here is important because we want to capture as much of the fraudulent activity as possible, while mitigating the number of missed-detections and the number of false-alarms. In this case, there were 30 missed fraudulent cases that went under the radar and 5 false alarms for the 124 pings for frauduldent activity.\n",
        "\n",
        "This is a start but this is certainly not good enough. We need to get that False-Positive rate/Missed-Fraudulent number as low as possible."
      ]
    },
    {
      "cell_type": "markdown",
      "metadata": {
        "id": "i6C6ybFg0F-F",
        "colab_type": "text"
      },
      "source": [
        "### Over sampling of the Minority Class\n",
        "\n",
        "We over sample the minority class to have more examples to learn from, but rather than just randomly doing it, there are some technicality to the approaches that we can choose. I'll go through training a decision function with resampling using two powerful methods offered by the imbalanced-learn library:\n",
        "\n",
        "1) SMOTE - Synthetic Minority Oversampling Technique\n",
        "\n",
        "2) ADASYN - Adaptive Synthetic sampling\n",
        "\n",
        "These two oversampling approaches use methods of interpolation to generate synthetic samples as opposed to the type of sampling done with Random over sampling, which duplicates examples.\n",
        "\n",
        "Formula for SMOTE sample generation:\n",
        "\n",
        "![Formula for SMOTE sample generation](https://imbalanced-learn.readthedocs.io/en/stable/_images/math/7d17f8d1d74c655eb15821661276d94c82d0e5b4.png)\n",
        "\n",
        "Lambda is a value between 0 and 1 and a sample is interpolated along the line between Xi and Xzi.\n",
        "\n",
        "<br>\n",
        "\n",
        "![Sampling](https://imbalanced-learn.readthedocs.io/en/stable/_images/sphx_glr_plot_illustration_generation_sample_0011.png)\n",
        "\n"
      ]
    },
    {
      "cell_type": "code",
      "metadata": {
        "id": "cAGhw1fM0FHq",
        "colab_type": "code",
        "colab": {}
      },
      "source": [
        "from imblearn.over_sampling import SMOTE\n",
        "X_resampled, y_resampled = SMOTE().fit_resample(X, y)\n",
        "print(sorted(Counter(y_resampled).items()))"
      ],
      "execution_count": 0,
      "outputs": []
    },
    {
      "cell_type": "code",
      "metadata": {
        "colab_type": "code",
        "id": "vz4bVsdHJUMn",
        "colab": {}
      },
      "source": [
        "smote_df = pd.DataFrame(np.c_[X_resampled, y_resampled], columns=principalDf.columns)"
      ],
      "execution_count": 0,
      "outputs": []
    },
    {
      "cell_type": "code",
      "metadata": {
        "colab_type": "code",
        "id": "_jFdktwFJUMt",
        "colab": {}
      },
      "source": [
        "param_grid = {\n",
        "    \"n_neighbors\":[3, 4, 5]\n",
        "}\n",
        "\n",
        "knn_data_bundle, fitted_model, elapsed_time = fit_get_predictions_with_CV(smote_df, \"KNN\", param_grid)\n",
        "\n",
        "y_pred = knn_data_bundle[4]\n",
        "y_test = knn_data_bundle[3]"
      ],
      "execution_count": 0,
      "outputs": []
    },
    {
      "cell_type": "code",
      "metadata": {
        "colab_type": "code",
        "id": "lSZL9E0MJUMw",
        "colab": {}
      },
      "source": [
        "report_df = report_performance_scores(fitted_model, y_test, y_pred, elapsed_time)\n",
        "report_df.head()"
      ],
      "execution_count": 0,
      "outputs": []
    },
    {
      "cell_type": "code",
      "metadata": {
        "id": "E5iri_NloyRg",
        "colab_type": "code",
        "colab": {}
      },
      "source": [
        "X_train, X_test, y_train, y_test = train_test_split(X_resampled, y_resampled, train_size=0.3, random_state=42)\n",
        "y_pred_probs = fitted_model.predict_proba(X_test)\n",
        "y_pred_probs_max = get_max_probas(y_pred_probs)"
      ],
      "execution_count": 0,
      "outputs": []
    },
    {
      "cell_type": "code",
      "metadata": {
        "colab_type": "code",
        "id": "QcIsZCM9JUMy",
        "colab": {}
      },
      "source": [
        "plot_roc(y_test, y_pred_probs_max)"
      ],
      "execution_count": 0,
      "outputs": []
    }
  ]
}