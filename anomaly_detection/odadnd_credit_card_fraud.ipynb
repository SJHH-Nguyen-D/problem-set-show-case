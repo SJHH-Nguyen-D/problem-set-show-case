{
  "nbformat": 4,
  "nbformat_minor": 0,
  "metadata": {
    "colab": {
      "name": "odadnd_credit_card_fraud.ipynb",
      "provenance": [],
      "collapsed_sections": [],
      "toc_visible": true
    },
    "kernelspec": {
      "name": "python3",
      "display_name": "Python 3"
    },
    "accelerator": "GPU"
  },
  "cells": [
    {
      "cell_type": "markdown",
      "metadata": {
        "id": "DpIzfDd29r7X",
        "colab_type": "text"
      },
      "source": [
        "# Credit Card Fraud Detection"
      ]
    },
    {
      "cell_type": "markdown",
      "metadata": {
        "id": "Y50dwIWg9svk",
        "colab_type": "text"
      },
      "source": [
        "## About\n",
        "\n",
        "Credit card fraud detection is a real world problem that is plaguing the nations. It is an anomaly detection problem due to the Poisson distributed positive cases. Fraud doesn't happen every day, but when it does happen, we want to capture it and predict, given the types of patterns that we can detect, which accounts will likely experience an instance of fraudulent activity.\n",
        "\n",
        "Being able to work with fraud detection gives us insight into working with all sorts of anomaly detection type problems in the feature, even outside this particular domain."
      ]
    },
    {
      "cell_type": "markdown",
      "metadata": {
        "id": "W2cZ-3Ok9uOR",
        "colab_type": "text"
      },
      "source": [
        "## The Dataset\n",
        "\n",
        "The dataset was retrieved from data world, which retrieved it from a Kaggle competitition. It's a flat datset and not necessarily considered big data, however, it will serve its purpose here. \n",
        "\n",
        "The attributes for the dataset, for the most part, were stripped so we don't really have a human readable understanding of what the attributes mean, but from what I can tell, the values for each of these anonymized attributes are normalized values.\n",
        "\n",
        "Our target is a boolean, indicating whether or not the account has experienced fraudulent activity or not.\n"
      ]
    },
    {
      "cell_type": "markdown",
      "metadata": {
        "id": "EfJWGiKZkUIF",
        "colab_type": "text"
      },
      "source": [
        "## Download External Dependencies"
      ]
    },
    {
      "cell_type": "code",
      "metadata": {
        "id": "fuw0XkOykbGQ",
        "colab_type": "code",
        "outputId": "649b5014-f42d-49fa-c18b-6c1000026c5d",
        "colab": {
          "base_uri": "https://localhost:8080/",
          "height": 461
        }
      },
      "source": [
        "!pip install pyod\n",
        "!pip install imbalance-learn"
      ],
      "execution_count": 1,
      "outputs": [
        {
          "output_type": "stream",
          "text": [
            "Collecting pyod\n",
            "\u001b[?25l  Downloading https://files.pythonhosted.org/packages/f9/40/2bffcde2edbbea4e8ae50a868684fd285d746401bd8051732d3a6d6111c4/pyod-0.7.5.tar.gz (86kB)\n",
            "\r\u001b[K     |███▉                            | 10kB 26.5MB/s eta 0:00:01\r\u001b[K     |███████▋                        | 20kB 4.0MB/s eta 0:00:01\r\u001b[K     |███████████▍                    | 30kB 5.8MB/s eta 0:00:01\r\u001b[K     |███████████████▎                | 40kB 7.5MB/s eta 0:00:01\r\u001b[K     |███████████████████             | 51kB 4.8MB/s eta 0:00:01\r\u001b[K     |██████████████████████▉         | 61kB 5.6MB/s eta 0:00:01\r\u001b[K     |██████████████████████████▋     | 71kB 6.4MB/s eta 0:00:01\r\u001b[K     |██████████████████████████████▌ | 81kB 7.2MB/s eta 0:00:01\r\u001b[K     |████████████████████████████████| 92kB 4.0MB/s \n",
            "\u001b[?25hRequirement already satisfied: joblib in /usr/local/lib/python3.6/dist-packages (from pyod) (0.14.0)\n",
            "Requirement already satisfied: matplotlib in /usr/local/lib/python3.6/dist-packages (from pyod) (3.1.1)\n",
            "Requirement already satisfied: numpy>=1.13 in /usr/local/lib/python3.6/dist-packages (from pyod) (1.17.4)\n",
            "Requirement already satisfied: numba>=0.35 in /usr/local/lib/python3.6/dist-packages (from pyod) (0.40.1)\n",
            "Requirement already satisfied: scipy>=0.19.1 in /usr/local/lib/python3.6/dist-packages (from pyod) (1.3.2)\n",
            "Requirement already satisfied: scikit_learn>=0.19.1 in /usr/local/lib/python3.6/dist-packages (from pyod) (0.21.3)\n",
            "Requirement already satisfied: six in /usr/local/lib/python3.6/dist-packages (from pyod) (1.12.0)\n",
            "Requirement already satisfied: kiwisolver>=1.0.1 in /usr/local/lib/python3.6/dist-packages (from matplotlib->pyod) (1.1.0)\n",
            "Requirement already satisfied: cycler>=0.10 in /usr/local/lib/python3.6/dist-packages (from matplotlib->pyod) (0.10.0)\n",
            "Requirement already satisfied: python-dateutil>=2.1 in /usr/local/lib/python3.6/dist-packages (from matplotlib->pyod) (2.6.1)\n",
            "Requirement already satisfied: pyparsing!=2.0.4,!=2.1.2,!=2.1.6,>=2.0.1 in /usr/local/lib/python3.6/dist-packages (from matplotlib->pyod) (2.4.5)\n",
            "Requirement already satisfied: llvmlite>=0.25.0dev0 in /usr/local/lib/python3.6/dist-packages (from numba>=0.35->pyod) (0.30.0)\n",
            "Requirement already satisfied: setuptools in /usr/local/lib/python3.6/dist-packages (from kiwisolver>=1.0.1->matplotlib->pyod) (41.6.0)\n",
            "Building wheels for collected packages: pyod\n",
            "  Building wheel for pyod (setup.py) ... \u001b[?25l\u001b[?25hdone\n",
            "  Created wheel for pyod: filename=pyod-0.7.5-cp36-none-any.whl size=96597 sha256=ab14b4a9d755c5ef417857b58523d12b3580b3fa466ac7651785ffbb3c309a3c\n",
            "  Stored in directory: /root/.cache/pip/wheels/35/bc/f4/2cef321eac851ba02f533e3921b296bb4ce4998c8a4c9a8d6e\n",
            "Successfully built pyod\n",
            "Installing collected packages: pyod\n",
            "Successfully installed pyod-0.7.5\n",
            "\u001b[31mERROR: Could not find a version that satisfies the requirement imbalance-learn (from versions: none)\u001b[0m\n",
            "\u001b[31mERROR: No matching distribution found for imbalance-learn\u001b[0m\n"
          ],
          "name": "stdout"
        }
      ]
    },
    {
      "cell_type": "markdown",
      "metadata": {
        "id": "G76WeA6e_TcL",
        "colab_type": "text"
      },
      "source": [
        "## Load Dependencies"
      ]
    },
    {
      "cell_type": "code",
      "metadata": {
        "id": "jXsfd3ow_Vuz",
        "colab_type": "code",
        "colab": {}
      },
      "source": [
        "import matplotlib.pyplot as plt \n",
        "import seaborn as sns\n",
        "from collections import Counter\n",
        "from inspect import signature\n",
        "%matplotlib inline\n",
        "import pandas as pd\n",
        "import numpy as np\n",
        "import pprint\n",
        "pp = pprint.PrettyPrinter(indent=4)\n",
        "\n",
        "from google.colab import drive\n",
        "import pandas_profiling\n",
        "from timeit import default_timer\n",
        "from sklearn.metrics import (precision_score, confusion_matrix, recall_score, accuracy_score, \n",
        "                             balanced_accuracy_score,roc_auc_score, classification_report, confusion_matrix, \n",
        "                             r2_score, f1_score, roc_curve, precision_recall_curve, average_precision_score)\n",
        "from sklearn.model_selection import train_test_split, GridSearchCV\n",
        "import warnings\n",
        "warnings.filterwarnings(\"ignore\")\n",
        "from sklearn.linear_model import SGDClassifier"
      ],
      "execution_count": 0,
      "outputs": []
    },
    {
      "cell_type": "markdown",
      "metadata": {
        "id": "m1j1p9T_nxNo",
        "colab_type": "text"
      },
      "source": [
        "## Constants"
      ]
    },
    {
      "cell_type": "code",
      "metadata": {
        "id": "-Mnb8BeknzQt",
        "colab_type": "code",
        "colab": {}
      },
      "source": [
        "DRIVENAME = \"/content/drive/\"\n",
        "FILENAME = \"/content/drive/My Drive/problem_set_challenges_for_job_postings/scaled_and_processed_cc.csv\""
      ],
      "execution_count": 0,
      "outputs": []
    },
    {
      "cell_type": "markdown",
      "metadata": {
        "id": "WE7Y6nIOcHS4",
        "colab_type": "text"
      },
      "source": [
        "## Functions"
      ]
    },
    {
      "cell_type": "code",
      "metadata": {
        "id": "LnP_cQLzuUTU",
        "colab_type": "code",
        "colab": {}
      },
      "source": [
        "def mount_drive(drivename):\n",
        "    from google.colab import drive\n",
        "    drive.mount(drivename)\n",
        "\n",
        "\n",
        "def load_csv_file(path):\n",
        "    dataframe = pd.read_csv(FILENAME)\n",
        "    if isinstance(dataframe[\"Unnamed: 0\"], pd.Series):\n",
        "        dataframe = dataframe.drop('Unnamed: 0', inplace=False, axis=1)\n",
        "    return dataframe\n",
        "\n",
        "\n",
        "def drop_features(dataframe, cols):\n",
        "    for col in cols:\n",
        "        dataframe.drop(col, axis=1, inplace=True)\n",
        "    return dataframe\n",
        "\n",
        "\n",
        "def rename_target(dataframe, label):\n",
        "    return dataframe.rename({label: \"target\"}, axis=1, inplace=False)\n",
        "\n",
        "\n",
        "def remap_boolean(dataframe, label):\n",
        "    return dataframe[label].replace({False:0, True:1}, inplace=False)\n",
        "\n",
        "\n",
        "def scale_feature(dataframe, label):\n",
        "    return dataframe[label].apply(lambda x: (x-dataframe[label].mean())/dataframe[label].std())\n",
        "\n",
        "\n",
        "def preprocess(dataframe, cols_to_drop, cols_to_remap, cols_scale):\n",
        "    start_time = default_timer()\n",
        "    dataframe = drop_features(dataframe, cols_to_drop)\n",
        "    dataframe = rename_target(dataframe, \"class\")\n",
        "    dataframe[cols_to_remap] = remap_boolean(dataframe, cols_to_remap)\n",
        "    dataframe[cols_scale] = scale_feature(dataframe, cols_scale)\n",
        "    end_time = default_timer()\n",
        "    print(f\"Processing completed. Elapsed time: {end_time-start_time}\")\n",
        "    return dataframe\n",
        "\n",
        "\n",
        "def split_data_into_feature_and_target(data, target_label=\"target\"):\n",
        "    \"\"\" Splits the dataframe into features and target\n",
        "    :param data: is dataframe with last column on right as target\n",
        "    \"\"\"\n",
        "    X = data.loc[:, data.columns != target_label].values\n",
        "    y = data[target_label].values\n",
        "    return X, y\n",
        "\n",
        "\n",
        "def plot_pca(X, y, list_n_pca_components):\n",
        "    \"\"\" plots a PCA plot... borrowed code that I want to touch as little as possible \"\"\"\n",
        "    from sklearn.decomposition import PCA\n",
        "    from sklearn.pipeline import Pipeline\n",
        "    from sklearn.model_selection import GridSearchCV\n",
        "    from sklearn.linear_model import SGDClassifier\n",
        "    from timeit import default_timer\n",
        "\n",
        "    logistic = SGDClassifier(loss='log', penalty='l2', early_stopping=True,\n",
        "                            max_iter=100, tol=1e-5, random_state=0)\n",
        "    pca = PCA()\n",
        "    pipe = Pipeline(steps=[('pca', pca), ('logistic', logistic)])\n",
        "\n",
        "    # Parameters of pipelines can be set using ‘__’ separated parameter names:\n",
        "    param_grid = {\n",
        "        'pca__n_components': list_n_pca_components,\n",
        "        'logistic__alpha': np.logspace(-4, 4, 5),\n",
        "    }\n",
        "\n",
        "    start_time = default_timer()\n",
        "    search = GridSearchCV(pipe, param_grid, iid=False, cv=10)\n",
        "    search.fit(X, y)\n",
        "    print(\"Best parameter (CV score=%0.3f):\" % search.best_score_)\n",
        "    print(search.best_params_)\n",
        "\n",
        "    # Plot the PCA spectrum\n",
        "    pca.fit(X)\n",
        "    end_time = default_timer()\n",
        "    print(\"Elapsed time to fit: {}s\".format(end_time - start_time))\n",
        "    fig, (ax0, ax1) = plt.subplots(nrows=2, sharex=True, figsize=(6, 6))\n",
        "    ax0.plot(pca.explained_variance_ratio_, linewidth=2)\n",
        "    ax0.set_ylabel('PCA explained variance')\n",
        "\n",
        "    ax0.axvline(search.best_estimator_.named_steps['pca'].n_components,\n",
        "                linestyle=':', label='n_components chosen')\n",
        "    ax0.legend(prop=dict(size=12))\n",
        "\n",
        "    # For each number of components, find the best classifier results\n",
        "    results = pd.DataFrame(search.cv_results_)\n",
        "    components_col = 'param_pca__n_components'\n",
        "    best_clfs = results.groupby(components_col).apply(\n",
        "        lambda g: g.nlargest(1, 'mean_test_score'))\n",
        "\n",
        "    best_clfs.plot(x=components_col, y='mean_test_score', yerr='std_test_score',\n",
        "                legend=False, ax=ax1)\n",
        "    ax1.set_ylabel('Classification accuracy (val)')\n",
        "    ax1.set_xlabel('n_components')\n",
        "\n",
        "    plt.tight_layout()\n",
        "    plt.show()\n",
        "\n",
        "\n",
        "def extract_pc_into_df(data, n_pca_components):\n",
        "    from sklearn.linear_model import SGDClassifier\n",
        "    from sklearn.decomposition import PCA\n",
        "\n",
        "    X, y = split_data_into_feature_and_target(data)\n",
        "\n",
        "    logistic = SGDClassifier(loss='log', penalty='l2', early_stopping=True,\n",
        "                         max_iter=10000, tol=1e-5, random_state=0, alpha=0.0001)\n",
        "    \n",
        "    pca = PCA(n_components=n_pca_components)\n",
        "    principal_components = pca.fit_transform(X, y)\n",
        "\n",
        "    princ_comp_names = [f\"pc{a}\" for a in range(1, 12)]\n",
        "    dataframe = pd.DataFrame(principal_components, columns=princ_comp_names)\n",
        "    dataframe['target'] = data['target'].values\n",
        "\n",
        "    return dataframe\n",
        "\n",
        "\n",
        "def normality_of_distribution_test(feature, significance_level=0.05):\n",
        "    from scipy.stats import normaltest\n",
        "    test_normality = normaltest(feature, axis=0, nan_policy='propagate')\n",
        "    if test_normality[1]<significance_level:\n",
        "        print(\"This feature is normally distributed about the mean\")\n",
        "    else:\n",
        "        print(\"This feature is NOT normally distributed about the mean\")\n",
        "\n",
        "\n",
        "def fit_simple_model(data, model_type):\n",
        "    from timeit import default_timer\n",
        "    X, y = split_data_into_feature_and_target(data)\n",
        "    X_train, X_test, y_train, y_test = train_test_split(X, y, test_size=0.4, random_state=42)\n",
        "    if model_type == \"naive bayes\":\n",
        "        from sklearn.naive_bayes import GaussianNB\n",
        "        model = GaussianNB()\n",
        "    else:\n",
        "        raise ValueError(\"Please select a valid model_type value\")\n",
        "    \n",
        "    start_time = default_timer()\n",
        "    fitted_model = model.fit(X_train, y_train)\n",
        "    y_pred = model.predict(X_test)\n",
        "    end_time = default_timer()\n",
        "    elapsed_time = end_time - start_time\n",
        "    print(f\"Model fitting and prediction complete.\\nElapsed Time: {elapsed_time}s\")\n",
        "    return (X_train, X_test, y_train, y_test, y_pred), fitted_model, elapsed_time\n",
        "\n",
        "\n",
        "def fit_get_predictions_with_CV(data, model_name, param_search_space):\n",
        "    \"\"\" Uses the GridSearchCV to fit specified model. \n",
        "    param_search_space must be compatible with models passed in \"\"\"\n",
        "    from timeit import default_timer\n",
        "\n",
        "    X, y = split_data_into_feature_and_target(data)\n",
        "    X_train, X_test, y_train, y_test = train_test_split(X, y, test_size=0.3, random_state=42)\n",
        "\n",
        "    if model_name == \"RFC\":\n",
        "        from sklearn.ensemble import RandomForestClassifier\n",
        "        estimator = RandomForestClassifier()\n",
        "    \n",
        "    elif model_name == \"logistic regression\":\n",
        "        from sklearn.linear_model import LogisticRegression\n",
        "        estimator = LogisticRegression(class_weight=\"balanced\", verbose=0, random_state=42, \n",
        "                                       max_iter=100, solver=\"saga\", warm_start=False, n_jobs=-1, \n",
        "                                       l1_ratio=1)\n",
        "        \n",
        "    elif model_name == \"naive bayes\":\n",
        "        from sklearn.naive_bayes import GaussianNB\n",
        "        estimator = GaussianNB()\n",
        "\n",
        "    elif model_name == \"KNN\":\n",
        "        from sklearn.neighbors import KNeighborsClassifier\n",
        "        estimator = KNeighborsClassifier()\n",
        "    \n",
        "    else:\n",
        "        raise ValueError(\"Please enter a valid model_name string value\")\n",
        "\n",
        "    start_time = default_timer()\n",
        "    gscv = GridSearchCV(estimator, param_search_space, cv=10, error_score=\"raise\")\n",
        "    fitted_model = gscv.fit(X_train, y_train)\n",
        "    y_pred = gscv.predict(X_test)\n",
        "    end_time = default_timer()\n",
        "    elapsed_time = end_time - start_time\n",
        "    print(f\"Training, Validation and Testing are complete.\\nElapsed Time: {elapsed_time}s\")\n",
        "    return (X_train, X_test, y_train, y_test, y_pred), fitted_model, elapsed_time\n",
        "\n",
        "\n",
        "def conf_mat_parser(confusion_matrix):\n",
        "    \"\"\" parse a confusion matrix into its components \"\"\"\"\"\"\"\"\"\"\"\n",
        "    TN, FN, FP, TP = [i for j in confusion_matrix for i in j]\n",
        "    return TN, FN, FP, TP\n",
        "\n",
        "\n",
        "def detailed_confusion_matrix(y_test, y_pred):\n",
        "    \"\"\" prints out confusion matrix with more labeling and detail \"\"\"\n",
        "\n",
        "    TN, FP, FN, TP = conf_mat_parser(confusion_matrix(y_test, y_pred))\n",
        "    sensitivity = (TP/(TP+FN))\n",
        "    specificity = (TN/(TN+FP))\n",
        "    precision = (TP / (TP+FP))\n",
        "\n",
        "    print(\"                           *Fraudulent Cases are considered Positive Cases\")\n",
        "    print(\"============================================================================================\")\n",
        "    print(\"######################### Predicted Non-Fraudulent ### | ### Predicted Fraudulent ##########\")\n",
        "    print(\"\\n\")\n",
        "    print(f\"Actually Non-Fraudulent | TN = {TN}                   | FP = {FP}\")\n",
        "    print(\"\\n\")\n",
        "    print(f\"Actually Fraudulent     | FN = {FN}                       | TP = {TP} \")\n",
        "    print(\"\\n\")\n",
        "    print(f\"Specificity: {sensitivity}\")\n",
        "    print(f\"Sensitivity (aka. Recall): {specificity}\")\n",
        "\n",
        "\n",
        "def report_performance_scores(model, y_test, y_pred, train_time):\n",
        "    \"\"\" prints out some of the useful performance metrics of our model as well as returns a dataframe containing those metrics \"\"\"\n",
        "    from sklearn.metrics import (classification_report, confusion_matrix, \n",
        "                                 recall_score, precision_score, roc_auc_score,\n",
        "                                 accuracy_score, r2_score, f1_score\n",
        "                                 )\n",
        "    dataframe = pd.DataFrame({\"id\":[\"000\"], \n",
        "        \"best_parameters\":f\"{model.get_params}\", \n",
        "        \"accuracy\":[accuracy_score(y_test, y_pred)], \n",
        "        \"precision\":[precision_score(y_test, y_pred)], \n",
        "        \"recall\":[recall_score(y_test, y_pred)], \n",
        "        \"roc_auc\":[roc_auc_score(y_test, y_pred)], \n",
        "        \"r2_score\":[r2_score(y_test, y_pred)],\n",
        "        \"f1-score\": [f1_score(y_test, y_pred)],\n",
        "        \"train_time(s)\":f\"{train_time}\"\n",
        "        })\n",
        "    \n",
        "    pp.pprint(classification_report(y_test, y_pred))\n",
        "    print(\"\\n\")\n",
        "    print(f\"ROC Score: {roc_auc_score(y_test, y_pred)}\")\n",
        "    print(\"\\n\")\n",
        "    detailed_confusion_matrix(y_test, y_pred)\n",
        "    return dataframe\n",
        "\n",
        "\n",
        "def perform_mannwhitneyutest(training_anomaly_scores, test_anomaly_scores, significance_level=0.05):\n",
        "    \"\"\" non-parametric version of the t-test for checking if the means betwen two different populations are significantly different \"\"\"\n",
        "    from scipy.stats import mannwhitneyu \n",
        "    result = mannwhitneyu(test_anomaly_scores, training_anomaly_scores)\n",
        "    if result[1] < significance_level:\n",
        "        print(\"We reject the null hypothesis and conclude that the mean measurements between the two groups are statistically significantly different.\")\n",
        "    else:\n",
        "        print(\"We faile reject the null hypothesis and conclude that the mean measurements between the two groups are statistically NOT significantly different.\")\n",
        "\n",
        "\n",
        "def get_max_probas(y_pred_probs):\n",
        "    \"\"\" get array of target probabilities and return an array of \n",
        "    prediicted max probabilities for a binary class problem \"\"\"\n",
        "    df = pd.DataFrame(y_pred_probs)\n",
        "    df['max'] = df.max(axis=1)\n",
        "    y_pred_probs_max = df['max'].values\n",
        "    return y_pred_probs_max\n",
        "\n",
        "\n",
        "def predict_max_prob(model, X_test):\n",
        "    y_pred_probs = model.predict_proba(X_test)\n",
        "    y_pred_probs_max = get_max_probas(y_pred_probs)\n",
        "    return y_pred_probs_max\n",
        "\n",
        "\n",
        "def plot_roc(y_test, y_pred_probs, n_classes=2):\n",
        "    \"\"\" make sure that y_pred are probabilities \"\"\"\n",
        "    from sklearn.metrics import roc_curve, auc\n",
        "\n",
        "\n",
        "    fpr = dict()\n",
        "    tpr = dict()\n",
        "    roc_auc = dict()\n",
        "    for i in range(n_classes):\n",
        "        fpr[i], tpr[i], _ = roc_curve(y_test, y_pred_probs)\n",
        "        roc_auc[i] = auc(fpr[i], tpr[i])\n",
        "\n",
        "    # Compute micro-average ROC curve and ROC area\n",
        "    fpr[\"micro\"], tpr[\"micro\"], _ = roc_curve(y_test.ravel(), y_pred_probs.ravel())\n",
        "    roc_auc[\"micro\"] = auc(fpr[\"micro\"], tpr[\"micro\"])\n",
        "\n",
        "    plt.figure()\n",
        "    lw = 2\n",
        "    plt.plot(fpr[0], tpr[0], color='darkorange',\n",
        "            lw=lw, label='ROC curve (area = %0.2f)' % roc_auc[0])\n",
        "    plt.plot([0, 1], [0, 1], color='navy', lw=lw, linestyle='--')\n",
        "    plt.xlim([0.0, 1.0])\n",
        "    plt.ylim([0.0, 1.05])\n",
        "    plt.xlabel('False Positive Rate')\n",
        "    plt.ylabel('True Positive Rate')\n",
        "    plt.title('Receiver Operator Characteristic Curve')\n",
        "    plt.legend(loc=\"lower right\")\n",
        "    plt.show()\n",
        "\n",
        "\n",
        "def plot_prc(y_test, y_pred_probs, y_pred):\n",
        "    \n",
        "    average_precision = average_precision_score(y_test, y_pred)\n",
        "    precision, recall, _ = precision_recall_curve(y_test, y_pred_probs)\n",
        "\n",
        "    # In matplotlib < 1.5, plt.fill_between does not have a 'step' argument\n",
        "    step_kwargs = ({'step': 'post'}\n",
        "                if 'step' in signature(plt.fill_between).parameters\n",
        "                else {})\n",
        "    plt.step(recall, precision, color='b', alpha=0.2,\n",
        "            where='post')\n",
        "    plt.fill_between(recall, precision, alpha=0.2, color='b', **step_kwargs)\n",
        "\n",
        "    plt.xlabel('Recall')\n",
        "    plt.ylabel('Precision')\n",
        "    plt.ylim([0.0, 1.05])\n",
        "    plt.xlim([0.0, 1.0])\n",
        "    plt.title('2-class Precision-Recall curve: AP={0:0.2f}'.format(\n",
        "            average_precision))\n",
        "    \n",
        "\n",
        "def sample_for_test_set(dataframe, target=\"target\", fraction=0.3, include_minority=True):\n",
        "    \"\"\" resample dataframe \"\"\"\n",
        "    if include_minority:\n",
        "        test_samples_all_nonfraud_df = pd.DataFrame(dataframe.sample(frac=0.3, replace=False), columns=dataframe.columns).reset_index()                         \n",
        "        X_test = test_samples_all_nonfraud_df.iloc[:, 1:-1].values # if \"index\" is the first column\n",
        "        y_test = test_samples_all_nonfraud_df.loc[:, target].values\n",
        "\n",
        "    else:\n",
        "        test_samples_all_nonfraud_df = pd.DataFrame(dataframe.loc[dataframe[target] == 0, :].sample(frac=0.3, replace=False), \n",
        "                                                columns=dataframe.columns).reset_index()\n",
        "        X_test = test_samples_all_nonfraud_df.iloc[:, 1:-1].values # if \"index\" is the first column\n",
        "        y_test = test_samples_all_nonfraud_df.loc[:, target].values\n",
        "\n",
        "    return X_test, y_test\n",
        "\n",
        "\n",
        "def  get_outlier_scores(X_train, X_test):\n",
        "    \"\"\" returns outlier test scores for anomalous data points \"\"\"\n",
        "    from pyod.models.knn import KNN\n",
        "    clf = KNN()\n",
        "    clf.fit(X_train)\n",
        "\n",
        "    # get outlier scores\n",
        "    y_train_scores = clf.decision_scores_  # raw outlier scores\n",
        "    y_test_scores = clf.decision_function(X_test)  # outlier scores\n",
        "\n",
        "    return y_test_scores, y_train_scores "
      ],
      "execution_count": 0,
      "outputs": []
    },
    {
      "cell_type": "markdown",
      "metadata": {
        "id": "8nGKK0k09wRB",
        "colab_type": "text"
      },
      "source": [
        "## Load Dataset"
      ]
    },
    {
      "cell_type": "code",
      "metadata": {
        "id": "oKBv-EDXcHHy",
        "colab_type": "code",
        "outputId": "a2bfc08b-eb88-44fd-b86c-de9f85c851e1",
        "colab": {
          "base_uri": "https://localhost:8080/",
          "height": 306
        }
      },
      "source": [
        "mount_drive(DRIVENAME)\n",
        "df = load_csv_file(FILENAME)\n",
        "df.head()"
      ],
      "execution_count": 5,
      "outputs": [
        {
          "output_type": "stream",
          "text": [
            "Go to this URL in a browser: https://accounts.google.com/o/oauth2/auth?client_id=947318989803-6bn6qk8qdgf4n4g3pfee6491hc0brc4i.apps.googleusercontent.com&redirect_uri=urn%3aietf%3awg%3aoauth%3a2.0%3aoob&response_type=code&scope=email%20https%3a%2f%2fwww.googleapis.com%2fauth%2fdocs.test%20https%3a%2f%2fwww.googleapis.com%2fauth%2fdrive%20https%3a%2f%2fwww.googleapis.com%2fauth%2fdrive.photos.readonly%20https%3a%2f%2fwww.googleapis.com%2fauth%2fpeopleapi.readonly\n",
            "\n",
            "Enter your authorization code:\n",
            "··········\n",
            "Mounted at /content/drive/\n"
          ],
          "name": "stdout"
        },
        {
          "output_type": "execute_result",
          "data": {
            "text/html": [
              "<div>\n",
              "<style scoped>\n",
              "    .dataframe tbody tr th:only-of-type {\n",
              "        vertical-align: middle;\n",
              "    }\n",
              "\n",
              "    .dataframe tbody tr th {\n",
              "        vertical-align: top;\n",
              "    }\n",
              "\n",
              "    .dataframe thead th {\n",
              "        text-align: right;\n",
              "    }\n",
              "</style>\n",
              "<table border=\"1\" class=\"dataframe\">\n",
              "  <thead>\n",
              "    <tr style=\"text-align: right;\">\n",
              "      <th></th>\n",
              "      <th>v1</th>\n",
              "      <th>v2</th>\n",
              "      <th>v3</th>\n",
              "      <th>v4</th>\n",
              "      <th>v5</th>\n",
              "      <th>v6</th>\n",
              "      <th>v7</th>\n",
              "      <th>v8</th>\n",
              "      <th>v9</th>\n",
              "      <th>v10</th>\n",
              "      <th>v11</th>\n",
              "      <th>v12</th>\n",
              "      <th>v13</th>\n",
              "      <th>v14</th>\n",
              "      <th>v15</th>\n",
              "      <th>v16</th>\n",
              "      <th>v17</th>\n",
              "      <th>v18</th>\n",
              "      <th>v19</th>\n",
              "      <th>v20</th>\n",
              "      <th>v21</th>\n",
              "      <th>v22</th>\n",
              "      <th>v23</th>\n",
              "      <th>v24</th>\n",
              "      <th>v25</th>\n",
              "      <th>v26</th>\n",
              "      <th>v27</th>\n",
              "      <th>v28</th>\n",
              "      <th>amount</th>\n",
              "      <th>target</th>\n",
              "    </tr>\n",
              "  </thead>\n",
              "  <tbody>\n",
              "    <tr>\n",
              "      <th>0</th>\n",
              "      <td>-1.359807</td>\n",
              "      <td>-0.072781</td>\n",
              "      <td>2.536347</td>\n",
              "      <td>1.378155</td>\n",
              "      <td>-0.338321</td>\n",
              "      <td>0.462388</td>\n",
              "      <td>0.239599</td>\n",
              "      <td>0.098698</td>\n",
              "      <td>0.363787</td>\n",
              "      <td>0.090794</td>\n",
              "      <td>-0.551600</td>\n",
              "      <td>-0.617801</td>\n",
              "      <td>-0.991390</td>\n",
              "      <td>-0.311169</td>\n",
              "      <td>1.468177</td>\n",
              "      <td>-0.470401</td>\n",
              "      <td>0.207971</td>\n",
              "      <td>0.025791</td>\n",
              "      <td>0.403993</td>\n",
              "      <td>0.251412</td>\n",
              "      <td>-0.018307</td>\n",
              "      <td>0.277838</td>\n",
              "      <td>-0.110474</td>\n",
              "      <td>0.066928</td>\n",
              "      <td>0.128539</td>\n",
              "      <td>-0.189115</td>\n",
              "      <td>0.133558</td>\n",
              "      <td>-0.021053</td>\n",
              "      <td>0.244964</td>\n",
              "      <td>0</td>\n",
              "    </tr>\n",
              "    <tr>\n",
              "      <th>1</th>\n",
              "      <td>1.191857</td>\n",
              "      <td>0.266151</td>\n",
              "      <td>0.166480</td>\n",
              "      <td>0.448154</td>\n",
              "      <td>0.060018</td>\n",
              "      <td>-0.082361</td>\n",
              "      <td>-0.078803</td>\n",
              "      <td>0.085102</td>\n",
              "      <td>-0.255425</td>\n",
              "      <td>-0.166974</td>\n",
              "      <td>1.612727</td>\n",
              "      <td>1.065235</td>\n",
              "      <td>0.489095</td>\n",
              "      <td>-0.143772</td>\n",
              "      <td>0.635558</td>\n",
              "      <td>0.463917</td>\n",
              "      <td>-0.114805</td>\n",
              "      <td>-0.183361</td>\n",
              "      <td>-0.145783</td>\n",
              "      <td>-0.069083</td>\n",
              "      <td>-0.225775</td>\n",
              "      <td>-0.638672</td>\n",
              "      <td>0.101288</td>\n",
              "      <td>-0.339846</td>\n",
              "      <td>0.167170</td>\n",
              "      <td>0.125895</td>\n",
              "      <td>-0.008983</td>\n",
              "      <td>0.014724</td>\n",
              "      <td>-0.342474</td>\n",
              "      <td>0</td>\n",
              "    </tr>\n",
              "    <tr>\n",
              "      <th>2</th>\n",
              "      <td>-1.358354</td>\n",
              "      <td>-1.340163</td>\n",
              "      <td>1.773209</td>\n",
              "      <td>0.379780</td>\n",
              "      <td>-0.503198</td>\n",
              "      <td>1.800499</td>\n",
              "      <td>0.791461</td>\n",
              "      <td>0.247676</td>\n",
              "      <td>-1.514654</td>\n",
              "      <td>0.207643</td>\n",
              "      <td>0.624501</td>\n",
              "      <td>0.066084</td>\n",
              "      <td>0.717293</td>\n",
              "      <td>-0.165946</td>\n",
              "      <td>2.345865</td>\n",
              "      <td>-2.890083</td>\n",
              "      <td>1.109969</td>\n",
              "      <td>-0.121359</td>\n",
              "      <td>-2.261857</td>\n",
              "      <td>0.524980</td>\n",
              "      <td>0.247998</td>\n",
              "      <td>0.771679</td>\n",
              "      <td>0.909412</td>\n",
              "      <td>-0.689281</td>\n",
              "      <td>-0.327642</td>\n",
              "      <td>-0.139097</td>\n",
              "      <td>-0.055353</td>\n",
              "      <td>-0.059752</td>\n",
              "      <td>1.160684</td>\n",
              "      <td>0</td>\n",
              "    </tr>\n",
              "    <tr>\n",
              "      <th>3</th>\n",
              "      <td>-0.966272</td>\n",
              "      <td>-0.185226</td>\n",
              "      <td>1.792993</td>\n",
              "      <td>-0.863291</td>\n",
              "      <td>-0.010309</td>\n",
              "      <td>1.247203</td>\n",
              "      <td>0.237609</td>\n",
              "      <td>0.377436</td>\n",
              "      <td>-1.387024</td>\n",
              "      <td>-0.054952</td>\n",
              "      <td>-0.226487</td>\n",
              "      <td>0.178228</td>\n",
              "      <td>0.507757</td>\n",
              "      <td>-0.287924</td>\n",
              "      <td>-0.631418</td>\n",
              "      <td>-1.059647</td>\n",
              "      <td>-0.684093</td>\n",
              "      <td>1.965775</td>\n",
              "      <td>-1.232622</td>\n",
              "      <td>-0.208038</td>\n",
              "      <td>-0.108300</td>\n",
              "      <td>0.005274</td>\n",
              "      <td>-0.190321</td>\n",
              "      <td>-1.175575</td>\n",
              "      <td>0.647376</td>\n",
              "      <td>-0.221929</td>\n",
              "      <td>0.062723</td>\n",
              "      <td>0.061458</td>\n",
              "      <td>0.140534</td>\n",
              "      <td>0</td>\n",
              "    </tr>\n",
              "    <tr>\n",
              "      <th>4</th>\n",
              "      <td>-1.158233</td>\n",
              "      <td>0.877737</td>\n",
              "      <td>1.548718</td>\n",
              "      <td>0.403034</td>\n",
              "      <td>-0.407193</td>\n",
              "      <td>0.095921</td>\n",
              "      <td>0.592941</td>\n",
              "      <td>-0.270533</td>\n",
              "      <td>0.817739</td>\n",
              "      <td>0.753074</td>\n",
              "      <td>-0.822843</td>\n",
              "      <td>0.538196</td>\n",
              "      <td>1.345852</td>\n",
              "      <td>-1.119670</td>\n",
              "      <td>0.175121</td>\n",
              "      <td>-0.451449</td>\n",
              "      <td>-0.237033</td>\n",
              "      <td>-0.038195</td>\n",
              "      <td>0.803487</td>\n",
              "      <td>0.408542</td>\n",
              "      <td>-0.009431</td>\n",
              "      <td>0.798278</td>\n",
              "      <td>-0.137458</td>\n",
              "      <td>0.141267</td>\n",
              "      <td>-0.206010</td>\n",
              "      <td>0.502292</td>\n",
              "      <td>0.219422</td>\n",
              "      <td>0.215153</td>\n",
              "      <td>-0.073403</td>\n",
              "      <td>0</td>\n",
              "    </tr>\n",
              "  </tbody>\n",
              "</table>\n",
              "</div>"
            ],
            "text/plain": [
              "         v1        v2        v3        v4  ...       v27       v28    amount  target\n",
              "0 -1.359807 -0.072781  2.536347  1.378155  ...  0.133558 -0.021053  0.244964       0\n",
              "1  1.191857  0.266151  0.166480  0.448154  ... -0.008983  0.014724 -0.342474       0\n",
              "2 -1.358354 -1.340163  1.773209  0.379780  ... -0.055353 -0.059752  1.160684       0\n",
              "3 -0.966272 -0.185226  1.792993 -0.863291  ...  0.062723  0.061458  0.140534       0\n",
              "4 -1.158233  0.877737  1.548718  0.403034  ...  0.219422  0.215153 -0.073403       0\n",
              "\n",
              "[5 rows x 30 columns]"
            ]
          },
          "metadata": {
            "tags": []
          },
          "execution_count": 5
        }
      ]
    },
    {
      "cell_type": "markdown",
      "metadata": {
        "id": "BA5tqekq9wvz",
        "colab_type": "text"
      },
      "source": [
        "## Dataset Profiling and Preliminary EDA"
      ]
    },
    {
      "cell_type": "code",
      "metadata": {
        "id": "2dS95AYBcUzz",
        "colab_type": "code",
        "colab": {}
      },
      "source": [
        "# report = pandas_profiling.ProfileReport(df)\n",
        "# report"
      ],
      "execution_count": 0,
      "outputs": []
    },
    {
      "cell_type": "markdown",
      "metadata": {
        "id": "kBEBOsUuqHRS",
        "colab_type": "text"
      },
      "source": [
        "## Preprocessing"
      ]
    },
    {
      "cell_type": "code",
      "metadata": {
        "id": "yJhhKLyOAr7t",
        "colab_type": "code",
        "colab": {}
      },
      "source": [
        "# FILENAME = \"/content/drive/My Drive/problem_set_challenges_for_job_postings/cc.csv\"\n",
        "# df = preprocess(dataframe=df, cols_to_drop=[\"column_a\", \"time\"], cols_to_remap=\"target\", cols_scale=\"amount\" )\n",
        "# df.to_csv(\"scaled_and_processed_cc.csv\")"
      ],
      "execution_count": 0,
      "outputs": []
    },
    {
      "cell_type": "markdown",
      "metadata": {
        "id": "8U4fM-f71n9y",
        "colab_type": "text"
      },
      "source": [
        "## More EDA"
      ]
    },
    {
      "cell_type": "code",
      "metadata": {
        "id": "Dscc20_t96HT",
        "colab_type": "code",
        "colab": {}
      },
      "source": [
        "fig, ax = plt.subplots(figsize=(10, 10))\n",
        "plt.xlim(df['amount'].min(), df['amount'].std()*4)\n",
        "sns.distplot(df['amount'])\n",
        "plt.show()"
      ],
      "execution_count": 0,
      "outputs": []
    },
    {
      "cell_type": "code",
      "metadata": {
        "id": "FLnO6GtfBj6H",
        "colab_type": "code",
        "colab": {}
      },
      "source": [
        "fig, ax = plt.subplots(figsize=(15, 15))\n",
        "corr = df.corr()\n",
        "sns.heatmap(corr, annot=False)\n",
        "plt.show()"
      ],
      "execution_count": 0,
      "outputs": []
    },
    {
      "cell_type": "markdown",
      "metadata": {
        "id": "4xyM2tjwCSuR",
        "colab_type": "text"
      },
      "source": [
        "It's hard to tell what I am looking at from this heatmap, save for the fact that the amount of money withdrawn and the target have a higher degree correlation between the first 10-ish features. \n",
        "\n",
        "Feature 2 is significantly negatively correlated to the amount of money draw. We don't have the feature names, but we can probably deduce that Feature 2 might represent a deposit into the account."
      ]
    },
    {
      "cell_type": "markdown",
      "metadata": {
        "id": "4ec-zC01EGjG",
        "colab_type": "text"
      },
      "source": [
        "Is feature 2 normaly distributed? Lets plot and do statistical checks"
      ]
    },
    {
      "cell_type": "code",
      "metadata": {
        "id": "o7of-KyuDpOw",
        "colab_type": "code",
        "outputId": "bd894715-922e-4490-82ae-33368f36bb00",
        "colab": {
          "base_uri": "https://localhost:8080/",
          "height": 34
        }
      },
      "source": [
        "fig, ax = plt.subplots(figsize=(10, 10))\n",
        "plt.xlim(df.v2.std()*-4, df.v2.std()*4)\n",
        "sns.distplot(df.v2)"
      ],
      "execution_count": 10,
      "outputs": [
        {
          "output_type": "execute_result",
          "data": {
            "text/plain": [
              "<matplotlib.axes._subplots.AxesSubplot at 0x7f65eb8df748>"
            ]
          },
          "metadata": {
            "tags": []
          },
          "execution_count": 10
        }
      ]
    },
    {
      "cell_type": "markdown",
      "metadata": {
        "id": "mkc9aiuGpvF2",
        "colab_type": "text"
      },
      "source": [
        "### Test for normality of distribution\n",
        "\n",
        "V2 is a feature of particular interest after what we see from the heatmap. Let's test the normality of its distribution to see what ideas we can have about this particular feature."
      ]
    },
    {
      "cell_type": "code",
      "metadata": {
        "id": "JpYdq4LLENLr",
        "colab_type": "code",
        "outputId": "217cf96d-d473-44a8-b9a2-c1419222f48d",
        "colab": {
          "base_uri": "https://localhost:8080/",
          "height": 34
        }
      },
      "source": [
        "normality_of_distribution_test(df.v2)"
      ],
      "execution_count": 11,
      "outputs": [
        {
          "output_type": "stream",
          "text": [
            "This feature is normally distributed about the mean\n"
          ],
          "name": "stdout"
        }
      ]
    },
    {
      "cell_type": "markdown",
      "metadata": {
        "id": "yzBSuF5O_0aG",
        "colab_type": "text"
      },
      "source": [
        "## Split Data into Features and Target"
      ]
    },
    {
      "cell_type": "code",
      "metadata": {
        "id": "cfYJ2sMc_8CI",
        "colab_type": "code",
        "colab": {}
      },
      "source": [
        "X, y = split_data_into_feature_and_target(df)"
      ],
      "execution_count": 0,
      "outputs": []
    },
    {
      "cell_type": "markdown",
      "metadata": {
        "id": "ntYZmIu8NVoN",
        "colab_type": "text"
      },
      "source": [
        "## Dimensionality Reduction/Feature Extraction with PCA"
      ]
    },
    {
      "cell_type": "code",
      "metadata": {
        "id": "_Ttwiy3lNyN6",
        "colab_type": "code",
        "outputId": "8ded890b-44b6-478f-e9c8-37c1414b0022",
        "colab": {
          "base_uri": "https://localhost:8080/",
          "height": 70
        }
      },
      "source": [
        "plot_pca(X, y, [9])"
      ],
      "execution_count": 13,
      "outputs": [
        {
          "output_type": "stream",
          "text": [
            "Best parameter (CV score=0.999):\n",
            "{'logistic__alpha': 0.0001, 'pca__n_components': 9}\n",
            "Elapsed time to fit: 111.49731716500003s\n"
          ],
          "name": "stdout"
        }
      ]
    },
    {
      "cell_type": "code",
      "metadata": {
        "id": "VyZoCUMWZCTc",
        "colab_type": "code",
        "outputId": "7c907c0d-d1ca-42fc-c637-3e64781c51e9",
        "colab": {
          "base_uri": "https://localhost:8080/",
          "height": 197
        }
      },
      "source": [
        "principalDf = extract_pc_into_df(df, n_pca_components=11)\n",
        "principalDf.head()"
      ],
      "execution_count": 14,
      "outputs": [
        {
          "output_type": "execute_result",
          "data": {
            "text/html": [
              "<div>\n",
              "<style scoped>\n",
              "    .dataframe tbody tr th:only-of-type {\n",
              "        vertical-align: middle;\n",
              "    }\n",
              "\n",
              "    .dataframe tbody tr th {\n",
              "        vertical-align: top;\n",
              "    }\n",
              "\n",
              "    .dataframe thead th {\n",
              "        text-align: right;\n",
              "    }\n",
              "</style>\n",
              "<table border=\"1\" class=\"dataframe\">\n",
              "  <thead>\n",
              "    <tr style=\"text-align: right;\">\n",
              "      <th></th>\n",
              "      <th>pc1</th>\n",
              "      <th>pc2</th>\n",
              "      <th>pc3</th>\n",
              "      <th>pc4</th>\n",
              "      <th>pc5</th>\n",
              "      <th>pc6</th>\n",
              "      <th>pc7</th>\n",
              "      <th>pc8</th>\n",
              "      <th>pc9</th>\n",
              "      <th>pc10</th>\n",
              "      <th>pc11</th>\n",
              "      <th>target</th>\n",
              "    </tr>\n",
              "  </thead>\n",
              "  <tbody>\n",
              "    <tr>\n",
              "      <th>0</th>\n",
              "      <td>1.322332</td>\n",
              "      <td>-0.389117</td>\n",
              "      <td>-2.210660</td>\n",
              "      <td>1.726562</td>\n",
              "      <td>-0.839472</td>\n",
              "      <td>0.369528</td>\n",
              "      <td>0.067989</td>\n",
              "      <td>-0.140152</td>\n",
              "      <td>0.379765</td>\n",
              "      <td>-0.048637</td>\n",
              "      <td>-0.549493</td>\n",
              "      <td>0</td>\n",
              "    </tr>\n",
              "    <tr>\n",
              "      <th>1</th>\n",
              "      <td>-1.269691</td>\n",
              "      <td>-0.079025</td>\n",
              "      <td>-0.070287</td>\n",
              "      <td>0.245597</td>\n",
              "      <td>-0.403616</td>\n",
              "      <td>-0.066219</td>\n",
              "      <td>-0.028120</td>\n",
              "      <td>-0.065613</td>\n",
              "      <td>-0.275168</td>\n",
              "      <td>0.132686</td>\n",
              "      <td>1.601334</td>\n",
              "      <td>0</td>\n",
              "    </tr>\n",
              "    <tr>\n",
              "      <th>2</th>\n",
              "      <td>1.834504</td>\n",
              "      <td>1.341409</td>\n",
              "      <td>-1.644263</td>\n",
              "      <td>1.415720</td>\n",
              "      <td>0.199945</td>\n",
              "      <td>1.618960</td>\n",
              "      <td>0.189125</td>\n",
              "      <td>-0.378921</td>\n",
              "      <td>-1.401024</td>\n",
              "      <td>-0.501664</td>\n",
              "      <td>0.635762</td>\n",
              "      <td>0</td>\n",
              "    </tr>\n",
              "    <tr>\n",
              "      <th>3</th>\n",
              "      <td>0.947094</td>\n",
              "      <td>-0.208125</td>\n",
              "      <td>-1.669605</td>\n",
              "      <td>0.412559</td>\n",
              "      <td>1.020169</td>\n",
              "      <td>1.280021</td>\n",
              "      <td>0.020353</td>\n",
              "      <td>-0.403549</td>\n",
              "      <td>-1.348597</td>\n",
              "      <td>-0.165941</td>\n",
              "      <td>-0.206219</td>\n",
              "      <td>0</td>\n",
              "    </tr>\n",
              "    <tr>\n",
              "      <th>4</th>\n",
              "      <td>0.936984</td>\n",
              "      <td>-1.140952</td>\n",
              "      <td>-1.091564</td>\n",
              "      <td>1.232160</td>\n",
              "      <td>0.027633</td>\n",
              "      <td>0.098863</td>\n",
              "      <td>0.508372</td>\n",
              "      <td>0.175703</td>\n",
              "      <td>0.927640</td>\n",
              "      <td>-0.652677</td>\n",
              "      <td>-0.835605</td>\n",
              "      <td>0</td>\n",
              "    </tr>\n",
              "  </tbody>\n",
              "</table>\n",
              "</div>"
            ],
            "text/plain": [
              "        pc1       pc2       pc3       pc4  ...       pc9      pc10      pc11  target\n",
              "0  1.322332 -0.389117 -2.210660  1.726562  ...  0.379765 -0.048637 -0.549493       0\n",
              "1 -1.269691 -0.079025 -0.070287  0.245597  ... -0.275168  0.132686  1.601334       0\n",
              "2  1.834504  1.341409 -1.644263  1.415720  ... -1.401024 -0.501664  0.635762       0\n",
              "3  0.947094 -0.208125 -1.669605  0.412559  ... -1.348597 -0.165941 -0.206219       0\n",
              "4  0.936984 -1.140952 -1.091564  1.232160  ...  0.927640 -0.652677 -0.835605       0\n",
              "\n",
              "[5 rows x 12 columns]"
            ]
          },
          "metadata": {
            "tags": []
          },
          "execution_count": 14
        }
      ]
    },
    {
      "cell_type": "markdown",
      "metadata": {
        "id": "1w_TPEo3Q7rt",
        "colab_type": "text"
      },
      "source": [
        "## Novelty Detection\n",
        "Given the extremely imbalanced class distribution in the data set, a novelty detection or anomaly detection problem can be framed and appropriate methods can be used in lieu of a classification problem. \n",
        "\n",
        "Therefore, the traditional use of the train_test_split module is probably inappropriate in this case and specifically training on \n",
        "\n",
        "Train the data on only nominal cases (with one anomalous case, just so the model doesnt break) and then test on anomalous cases to see how well we do in an semi-supervised learning approach"
      ]
    },
    {
      "cell_type": "markdown",
      "metadata": {
        "id": "krAkOejx_QIK",
        "colab_type": "text"
      },
      "source": [
        "### An Example of incorrect partitioning with train_test split"
      ]
    },
    {
      "cell_type": "code",
      "metadata": {
        "id": "tJe7xKs09SDA",
        "colab_type": "code",
        "outputId": "b05eeda3-03d4-4070-8b02-401777333fef",
        "colab": {
          "base_uri": "https://localhost:8080/",
          "height": 52
        }
      },
      "source": [
        "from pyod.models.lof import LOF\n",
        "from pyod.models.pca import PCA\n",
        "from pyod.models.iforest import IForest\n",
        "X, y = split_data_into_feature_and_target(principalDf)\n",
        "\n",
        "X_train, X_test, y_train, y_test = train_test_split(X, y, test_size=0.4, random_state=42)\n",
        "\n",
        "model = IForest(contamination=(sum(y_train)/y_train.shape[0]), \n",
        "                n_estimators=100, max_samples='auto', max_features=1.0, \n",
        "                bootstrap=False, n_jobs=1, behaviour='old', \n",
        "                random_state=None, verbose=0)\n",
        "\n",
        "model.fit(X=X_train, y=y_train)\n",
        "test_anomaly_scores = model.decision_function(X_test)\n",
        "training_anomaly_scores = model.decision_scores_\n",
        "y_pred = model.fit_predict(X_test)\n",
        "y_pred_probs = model.predict_proba(X_test)\n",
        "\n",
        "score = model.fit_predict_score(X_train, y_train, scoring='roc_auc_score')\n",
        "print(score)"
      ],
      "execution_count": 16,
      "outputs": [
        {
          "output_type": "stream",
          "text": [
            "roc_auc_score: 0.9233402576035754\n",
            "0.9233402576035754\n"
          ],
          "name": "stdout"
        }
      ]
    },
    {
      "cell_type": "code",
      "metadata": {
        "id": "RsxUIOgp9bib",
        "colab_type": "code",
        "outputId": "e03270ce-1164-4484-b442-667b8545fed9",
        "colab": {
          "base_uri": "https://localhost:8080/",
          "height": 34
        }
      },
      "source": [
        "plt.xlim(training_anomaly_scores.min(), training_anomaly_scores.std()*2)\n",
        "sns.distplot(training_anomaly_scores)"
      ],
      "execution_count": 17,
      "outputs": [
        {
          "output_type": "execute_result",
          "data": {
            "text/plain": [
              "<matplotlib.axes._subplots.AxesSubplot at 0x7f65e8b2d940>"
            ]
          },
          "metadata": {
            "tags": []
          },
          "execution_count": 17
        }
      ]
    },
    {
      "cell_type": "code",
      "metadata": {
        "id": "pfHGLw-L9us2",
        "colab_type": "code",
        "outputId": "839652e3-f2bd-4dc8-92ce-7303bc3d4710",
        "colab": {
          "base_uri": "https://localhost:8080/",
          "height": 194
        }
      },
      "source": [
        "print(pd.Series(training_anomaly_scores).describe())\n",
        "print(np.median(training_anomaly_scores))"
      ],
      "execution_count": 18,
      "outputs": [
        {
          "output_type": "stream",
          "text": [
            "count    170884.000000\n",
            "mean         -0.091648\n",
            "std           0.054960\n",
            "min          -0.156476\n",
            "25%          -0.128576\n",
            "50%          -0.108496\n",
            "75%          -0.071260\n",
            "max           0.295578\n",
            "dtype: float64\n",
            "-0.10849573993603029\n"
          ],
          "name": "stdout"
        }
      ]
    },
    {
      "cell_type": "code",
      "metadata": {
        "id": "_cCOeNp79UrS",
        "colab_type": "code",
        "outputId": "6c2e4a85-21f7-4b51-c63a-021f8d756157",
        "colab": {
          "base_uri": "https://localhost:8080/",
          "height": 34
        }
      },
      "source": [
        "plt.xlim(test_anomaly_scores.min(), test_anomaly_scores.std()*2)\n",
        "sns.distplot(test_anomaly_scores)"
      ],
      "execution_count": 19,
      "outputs": [
        {
          "output_type": "execute_result",
          "data": {
            "text/plain": [
              "<matplotlib.axes._subplots.AxesSubplot at 0x7f65e8b2d940>"
            ]
          },
          "metadata": {
            "tags": []
          },
          "execution_count": 19
        }
      ]
    },
    {
      "cell_type": "code",
      "metadata": {
        "id": "L401PVJi-ZbY",
        "colab_type": "code",
        "outputId": "b55d8b1d-1f0c-4b14-b4d4-311e3229aaee",
        "colab": {
          "base_uri": "https://localhost:8080/",
          "height": 194
        }
      },
      "source": [
        "print(pd.Series(test_anomaly_scores).describe())\n",
        "print(np.median(test_anomaly_scores))"
      ],
      "execution_count": 20,
      "outputs": [
        {
          "output_type": "stream",
          "text": [
            "count    113923.000000\n",
            "mean         -0.091527\n",
            "std           0.055091\n",
            "min          -0.155938\n",
            "25%          -0.128445\n",
            "50%          -0.108472\n",
            "75%          -0.071135\n",
            "max           0.298274\n",
            "dtype: float64\n",
            "-0.10847210794413825\n"
          ],
          "name": "stdout"
        }
      ]
    },
    {
      "cell_type": "code",
      "metadata": {
        "id": "YGpKVJWI9fMi",
        "colab_type": "code",
        "colab": {}
      },
      "source": [
        "plot_roc(y_test, get_max_probas(y_pred_probs))"
      ],
      "execution_count": 0,
      "outputs": []
    },
    {
      "cell_type": "code",
      "metadata": {
        "id": "v8qVzaUt9l5j",
        "colab_type": "code",
        "colab": {}
      },
      "source": [
        "plot_prc(y_test, get_max_probas(y_pred), y_pred)"
      ],
      "execution_count": 0,
      "outputs": []
    },
    {
      "cell_type": "markdown",
      "metadata": {
        "id": "7WtuyUoU_6Ie",
        "colab_type": "text"
      },
      "source": [
        "## Conclusion of Train_test_split for Outlier/Anomaly/Novelty Dection\n",
        "\n",
        "We see that the decision function has not learned from enough fradulent samples due this random sample partitioning method. A more heuristic approach should be pursued when approaching an anomaly detection/novelty detection problem."
      ]
    },
    {
      "cell_type": "markdown",
      "metadata": {
        "id": "1FGeCWTMC7wl",
        "colab_type": "text"
      },
      "source": [
        "## More appropriate selection of dataset partitioning"
      ]
    },
    {
      "cell_type": "code",
      "metadata": {
        "id": "BFaxOzFxQ7DW",
        "colab_type": "code",
        "colab": {}
      },
      "source": [
        "training_data = principalDf.loc[principalDf[\"target\"] == 0, :]\n",
        "training_data = training_data.append(principalDf.iloc[6329, :])\n",
        "X_train = training_data.iloc[:, :-1].values\n",
        "y_train = training_data.iloc[:, -1].values"
      ],
      "execution_count": 0,
      "outputs": []
    },
    {
      "cell_type": "code",
      "metadata": {
        "id": "khtrm2GIUeox",
        "colab_type": "code",
        "colab": {}
      },
      "source": [
        "test_data = principalDf.loc[principalDf.target==1, :]\n",
        "X_test = test_data.iloc[:, :-1].values\n",
        "y_test = test_data.iloc[:, -1].values"
      ],
      "execution_count": 0,
      "outputs": []
    },
    {
      "cell_type": "code",
      "metadata": {
        "id": "i9Al4xlKVagH",
        "colab_type": "code",
        "colab": {}
      },
      "source": [
        "model = IForest(contamination=(sum(y_train)/y_train.shape[0]), n_estimators=100, max_samples='auto', \n",
        "                max_features=1.0, bootstrap=False, n_jobs=1, behaviour='old', random_state=None, verbose=0)\n",
        "\n",
        "model.fit(X=X_train, y=y_train)\n",
        "test_anomaly_scores = model.decision_function(X_test)\n",
        "training_anomaly_scores = model.decision_scores_\n",
        "y_pred = model.fit_predict(X_test)\n",
        "y_pred_probs = model.predict_proba(X_test)"
      ],
      "execution_count": 0,
      "outputs": []
    },
    {
      "cell_type": "code",
      "metadata": {
        "id": "8roIrFqzvtJ4",
        "colab_type": "code",
        "outputId": "06cb15ce-c334-4aa9-f893-bbcca5bb9554",
        "colab": {
          "base_uri": "https://localhost:8080/",
          "height": 52
        }
      },
      "source": [
        "score = model.fit_predict_score(X_train, y_train, scoring='roc_auc_score')\n",
        "score"
      ],
      "execution_count": 26,
      "outputs": [
        {
          "output_type": "stream",
          "text": [
            "roc_auc_score: 0.9820445632485096\n"
          ],
          "name": "stdout"
        },
        {
          "output_type": "execute_result",
          "data": {
            "text/plain": [
              "0.9820445632485096"
            ]
          },
          "metadata": {
            "tags": []
          },
          "execution_count": 26
        }
      ]
    },
    {
      "cell_type": "code",
      "metadata": {
        "id": "MxrnhNJQkRgd",
        "colab_type": "code",
        "outputId": "cb1b3b5d-f077-438b-9d15-d4c0efe079bd",
        "colab": {
          "base_uri": "https://localhost:8080/",
          "height": 34
        }
      },
      "source": [
        "fig, ax = plt.subplots(figsize=(10, 10))\n",
        "plt.xlim(min(training_anomaly_scores), training_anomaly_scores.std()*6)\n",
        "sns.distplot(training_anomaly_scores)"
      ],
      "execution_count": 27,
      "outputs": [
        {
          "output_type": "execute_result",
          "data": {
            "text/plain": [
              "<matplotlib.axes._subplots.AxesSubplot at 0x7f65e2e1a668>"
            ]
          },
          "metadata": {
            "tags": []
          },
          "execution_count": 27
        }
      ]
    },
    {
      "cell_type": "code",
      "metadata": {
        "id": "ssE9nJCNmk5W",
        "colab_type": "code",
        "outputId": "377d0269-14b6-4fe7-9734-620299f330e2",
        "colab": {
          "base_uri": "https://localhost:8080/",
          "height": 176
        }
      },
      "source": [
        "pd.Series(training_anomaly_scores).describe()"
      ],
      "execution_count": 28,
      "outputs": [
        {
          "output_type": "execute_result",
          "data": {
            "text/plain": [
              "count    284316.000000\n",
              "mean         -0.089673\n",
              "std           0.054187\n",
              "min          -0.154594\n",
              "25%          -0.126583\n",
              "50%          -0.105174\n",
              "75%          -0.069850\n",
              "max           0.288611\n",
              "dtype: float64"
            ]
          },
          "metadata": {
            "tags": []
          },
          "execution_count": 28
        }
      ]
    },
    {
      "cell_type": "code",
      "metadata": {
        "id": "NXqAgv8Yna57",
        "colab_type": "code",
        "outputId": "aa416287-a029-421c-d9fe-f37312b68441",
        "colab": {
          "base_uri": "https://localhost:8080/",
          "height": 34
        }
      },
      "source": [
        "np.median(training_anomaly_scores)"
      ],
      "execution_count": 29,
      "outputs": [
        {
          "output_type": "execute_result",
          "data": {
            "text/plain": [
              "-0.10517410235439209"
            ]
          },
          "metadata": {
            "tags": []
          },
          "execution_count": 29
        }
      ]
    },
    {
      "cell_type": "code",
      "metadata": {
        "id": "YE9tXMPOkX-o",
        "colab_type": "code",
        "outputId": "081248e4-cf88-49eb-d766-662f8def30e7",
        "colab": {
          "base_uri": "https://localhost:8080/",
          "height": 34
        }
      },
      "source": [
        "fig, ax = plt.subplots(figsize=(10, 10))\n",
        "sns.distplot(test_anomaly_scores)"
      ],
      "execution_count": 30,
      "outputs": [
        {
          "output_type": "execute_result",
          "data": {
            "text/plain": [
              "<matplotlib.axes._subplots.AxesSubplot at 0x7f65e2d08898>"
            ]
          },
          "metadata": {
            "tags": []
          },
          "execution_count": 30
        }
      ]
    },
    {
      "cell_type": "markdown",
      "metadata": {
        "id": "xZmCYZkwD9wL",
        "colab_type": "text"
      },
      "source": [
        "Comment: there is a clear flip in the distribution in the distribution of anomaly values produced by the Isolation forest when comparing the fradulent cases vs the nominal cases. "
      ]
    },
    {
      "cell_type": "code",
      "metadata": {
        "id": "jS8OLuX7meaB",
        "colab_type": "code",
        "outputId": "d940054b-915a-4ac8-f90d-35dfd0d54657",
        "colab": {
          "base_uri": "https://localhost:8080/",
          "height": 176
        }
      },
      "source": [
        "pd.Series(test_anomaly_scores).describe()"
      ],
      "execution_count": 31,
      "outputs": [
        {
          "output_type": "execute_result",
          "data": {
            "text/plain": [
              "count    492.000000\n",
              "mean       0.103832\n",
              "std        0.103491\n",
              "min       -0.145564\n",
              "25%        0.042235\n",
              "50%        0.108970\n",
              "75%        0.189742\n",
              "max        0.261741\n",
              "dtype: float64"
            ]
          },
          "metadata": {
            "tags": []
          },
          "execution_count": 31
        }
      ]
    },
    {
      "cell_type": "code",
      "metadata": {
        "id": "IrWKiSasnTro",
        "colab_type": "code",
        "outputId": "943c0e35-7712-420e-e6b8-dc7bdaecf6d7",
        "colab": {
          "base_uri": "https://localhost:8080/",
          "height": 34
        }
      },
      "source": [
        "np.median(test_anomaly_scores)"
      ],
      "execution_count": 32,
      "outputs": [
        {
          "output_type": "execute_result",
          "data": {
            "text/plain": [
              "0.10897037851418123"
            ]
          },
          "metadata": {
            "tags": []
          },
          "execution_count": 32
        }
      ]
    },
    {
      "cell_type": "code",
      "metadata": {
        "id": "ocukpAymmMAK",
        "colab_type": "code",
        "outputId": "134e04b1-1b3b-44ee-d099-7520412fd80f",
        "colab": {
          "base_uri": "https://localhost:8080/",
          "height": 34
        }
      },
      "source": [
        "perform_mannwhitneyutest(training_anomaly_scores, test_anomaly_scores)"
      ],
      "execution_count": 33,
      "outputs": [
        {
          "output_type": "stream",
          "text": [
            "We reject the null hypothesis and conclude that the mean measurements between the two groups are statistically significantly different.\n"
          ],
          "name": "stdout"
        }
      ]
    },
    {
      "cell_type": "code",
      "metadata": {
        "id": "57gxeaSszHWh",
        "colab_type": "code",
        "outputId": "fe7a969e-f59f-42a0-f48e-c7aa2451c74a",
        "colab": {
          "base_uri": "https://localhost:8080/",
          "height": 70
        }
      },
      "source": [
        "eff = pd.DataFrame(np.c_[y_test, y_pred], columns=[\"real value\", \"predicted value\"])\n",
        "eff[\"predicted value\"].value_counts()"
      ],
      "execution_count": 34,
      "outputs": [
        {
          "output_type": "execute_result",
          "data": {
            "text/plain": [
              "0    491\n",
              "1      1\n",
              "Name: predicted value, dtype: int64"
            ]
          },
          "metadata": {
            "tags": []
          },
          "execution_count": 34
        }
      ]
    },
    {
      "cell_type": "code",
      "metadata": {
        "id": "TZVILLnOhrWC",
        "colab_type": "code",
        "outputId": "b339fb81-863d-4d6c-ac40-c8b2383167bb",
        "colab": {
          "base_uri": "https://localhost:8080/",
          "height": 294
        }
      },
      "source": [
        "%matplotlib inline\n",
        "plot_roc(y_test, get_max_probas(y_pred_probs))"
      ],
      "execution_count": 35,
      "outputs": [
        {
          "output_type": "display_data",
          "data": {
            "image/png": "[encoded data removed]",
            "text/plain": [
              "<Figure size 432x288 with 1 Axes>"
            ]
          },
          "metadata": {
            "tags": []
          }
        }
      ]
    },
    {
      "cell_type": "markdown",
      "metadata": {
        "id": "T1PrhP5CHGty",
        "colab_type": "text"
      },
      "source": [
        "This probably occured because I only included 1 fraudulent case in the training dataset..."
      ]
    },
    {
      "cell_type": "code",
      "metadata": {
        "id": "Mx3C_n1SkG1o",
        "colab_type": "code",
        "outputId": "cb83cffe-da1d-46cd-d8f8-944dc8cf075f",
        "colab": {
          "base_uri": "https://localhost:8080/",
          "height": 294
        }
      },
      "source": [
        "plot_prc(y_test, get_max_probas(y_pred_probs), y_pred)"
      ],
      "execution_count": 36,
      "outputs": [
        {
          "output_type": "display_data",
          "data": {
            "image/png": "[encoded data removed]",
            "text/plain": [
              "<Figure size 432x288 with 1 Axes>"
            ]
          },
          "metadata": {
            "tags": []
          }
        }
      ]
    },
    {
      "cell_type": "markdown",
      "metadata": {
        "id": "Xdqg4Z0PHQG4",
        "colab_type": "text"
      },
      "source": [
        "Same as above."
      ]
    },
    {
      "cell_type": "markdown",
      "metadata": {
        "id": "7Bj4bp5DlVPR",
        "colab_type": "text"
      },
      "source": [
        "## Conclusion on Using PCA for Unsupervised Novelty Detection\n",
        "\n",
        "What's interesting here is that the anomaly scores for the training set (essentially all nominal cases) include max values much higher if not double that of the test set (all anomalous cases). The assumptions in the observations however are true - that he anomaly scores of the fraud cases in the test set are on average 5-fold higher than that of the training/nominal cases (mean, median, mode, standard deviation). This was also varified with the Mann-Whitney U test."
      ]
    },
    {
      "cell_type": "markdown",
      "metadata": {
        "id": "4Vyv6QSyC-az",
        "colab_type": "text"
      },
      "source": [
        "## Addressing Class Imbalance - Down Sampling Majority Class\n",
        "\n",
        "Another approach to addressing the problem of class imbalance is with down-sampling the majority class. This is something we've done before in a few other problems, and it might not be an option in all the cases. In this case, however, I think we have enough data points in total, and enough cases of the majority class we can down sample from. \n",
        "\n",
        "Keep in mind, we want to downsample to include the most influential and representative samples to learn from from the majority negative class. We will be making use of the SMOTE python library and its methods to select an approprirate down-sampling strategy for our problem"
      ]
    },
    {
      "cell_type": "markdown",
      "metadata": {
        "id": "G04s5TKAzOln",
        "colab_type": "text"
      },
      "source": [
        "### Under Sampling of the Majority Class Naively\n",
        "\n",
        "This approach reducees the number of majority cases in the dataset to help the decision function learn less about the signals from the majority case and more from that of the minority case. \n",
        "\n",
        "Depending on how many minority cases you actually have, this might be a terrible idea, in the most extreme of cases, but we will never know unless we learn and try."
      ]
    },
    {
      "cell_type": "code",
      "metadata": {
        "id": "Zy4xcLzGzSXV",
        "colab_type": "code",
        "colab": {}
      },
      "source": [
        "from imblearn.under_sampling import RandomUnderSampler\n",
        "rus = RandomUnderSampler(random_state=0, replacement=True)\n",
        "X_resampled, y_resampled = rus.fit_resample(X, y)\n",
        "print(sorted(Counter(y_resampled).items()))"
      ],
      "execution_count": 0,
      "outputs": []
    },
    {
      "cell_type": "code",
      "metadata": {
        "id": "XicoWO5B3rnv",
        "colab_type": "code",
        "colab": {}
      },
      "source": [
        "KMUS_df = pd.DataFrame(np.c_[X_resampled, y_resampled], columns=principalDf.columns)"
      ],
      "execution_count": 0,
      "outputs": []
    },
    {
      "cell_type": "code",
      "metadata": {
        "id": "d9cm42qc3eVQ",
        "colab_type": "code",
        "colab": {}
      },
      "source": [
        "param_grid = {\n",
        "    \"n_neighbors\":[3, 4, 5]\n",
        "}\n",
        "\n",
        "knn_data_bundle, fitted_model, elapsed_time = fit_get_predictions_with_CV(KMUS_df, \"KNN\", param_grid)\n",
        "\n",
        "y_pred = knn_data_bundle[4]\n",
        "y_test = knn_data_bundle[3]"
      ],
      "execution_count": 0,
      "outputs": []
    },
    {
      "cell_type": "code",
      "metadata": {
        "id": "PFca12TW3iyt",
        "colab_type": "code",
        "colab": {}
      },
      "source": [
        "fitted_model.best_params_"
      ],
      "execution_count": 0,
      "outputs": []
    },
    {
      "cell_type": "code",
      "metadata": {
        "id": "OkErp4eF3edo",
        "colab_type": "code",
        "colab": {}
      },
      "source": [
        "report_df = report_performance_scores(fitted_model, y_test, y_pred, elapsed_time)\n",
        "report_df.head()"
      ],
      "execution_count": 0,
      "outputs": []
    },
    {
      "cell_type": "code",
      "metadata": {
        "id": "3D5_YGA2kSrO",
        "colab_type": "code",
        "colab": {}
      },
      "source": [
        "X_train, X_test, y_train, y_test = train_test_split(X_resampled, y_resampled, test_size=0.3, random_state=42)\n",
        "y_pred_probs = fitted_model.predict_proba(X_test)\n",
        "y_pred_probs_max = get_max_probas(y_pred_probs)"
      ],
      "execution_count": 0,
      "outputs": []
    },
    {
      "cell_type": "code",
      "metadata": {
        "id": "f4sjFjww3ekS",
        "colab_type": "code",
        "colab": {}
      },
      "source": [
        "plot_roc(y_test, get_max_probs(y_pred))"
      ],
      "execution_count": 0,
      "outputs": []
    },
    {
      "cell_type": "markdown",
      "metadata": {
        "id": "kES7HV3z8RRn",
        "colab_type": "text"
      },
      "source": [
        "When we plot the probabilities on the ROC curbe, we get a crappy model. When we plot the class predictions themselves, we get something that looks more awesome but incorrect.\n",
        "\n",
        "We can test this model against randomly sampled non-fraud cases and see how well this model performs."
      ]
    },
    {
      "cell_type": "code",
      "metadata": {
        "colab_type": "code",
        "id": "27FDKrCnS-ZQ",
        "colab": {}
      },
      "source": [
        "# only non-fraudulent cases for this test\n",
        "X_test, y_test = sample_for_test_set(principalDf, include_minority=False)"
      ],
      "execution_count": 0,
      "outputs": []
    },
    {
      "cell_type": "code",
      "metadata": {
        "colab_type": "code",
        "id": "9hEUHn4CS-ZX",
        "colab": {}
      },
      "source": [
        "y_pred = fitted_model.predict(X_test)\n",
        "y_pred_probs = fitted_model.predict_proba(X_test)\n",
        "y_pred_probs_max = get_max_probas(y_pred_probs)"
      ],
      "execution_count": 0,
      "outputs": []
    },
    {
      "cell_type": "code",
      "metadata": {
        "colab_type": "code",
        "id": "6Sp5-lAIS-Za",
        "colab": {}
      },
      "source": [
        "y_pred = pd.Series(y_pred)\n",
        "y_pred.value_counts()"
      ],
      "execution_count": 0,
      "outputs": []
    },
    {
      "cell_type": "code",
      "metadata": {
        "id": "-DNpHOjLTSrA",
        "colab_type": "code",
        "colab": {}
      },
      "source": [
        "detailed_confusion_matrix(y_test, y_pred)"
      ],
      "execution_count": 0,
      "outputs": []
    },
    {
      "cell_type": "code",
      "metadata": {
        "id": "CrZpVZmZoHLQ",
        "colab_type": "code",
        "colab": {}
      },
      "source": [
        "plot_roc(y_test, y_pred_probs_max)"
      ],
      "execution_count": 0,
      "outputs": []
    },
    {
      "cell_type": "code",
      "metadata": {
        "id": "aqVoQWcPVc-l",
        "colab_type": "code",
        "colab": {}
      },
      "source": [
        "print(f\"{1753/(1753+83541)} %\")"
      ],
      "execution_count": 0,
      "outputs": []
    },
    {
      "cell_type": "markdown",
      "metadata": {
        "id": "pqUhr1wbVCKS",
        "colab_type": "text"
      },
      "source": [
        "There were no fraudulent cases in this step, however, there alarm in the model went off in the cases of 1753 cases, with this type of naive sampling in this instance. This model therefore would cause unncessary harm and arm in its clients 2% of the time, which is too shockingly high of a number. This needs to be lowered because the harm and alarm of false positive cases can be enough for your clients to end their relationship with you."
      ]
    },
    {
      "cell_type": "code",
      "metadata": {
        "colab_type": "code",
        "id": "uWKh_DpfS-Zc",
        "colab": {}
      },
      "source": [
        "plot_roc(y_test, y_pred)"
      ],
      "execution_count": 0,
      "outputs": []
    },
    {
      "cell_type": "markdown",
      "metadata": {
        "id": "k_2bVffTAQSq",
        "colab_type": "text"
      },
      "source": [
        "### Undersampling of majority class with a meta-estimator\n",
        "\n",
        "With an instance hardness threshold approach, we can use a meta-estimator in the form of a logistic regressor, to filter out noisy examples that do not reach a probability threshold for inclusion in the dataset. This method employs cross validation as well"
      ]
    },
    {
      "cell_type": "code",
      "metadata": {
        "id": "6tuUnhzbAUYs",
        "colab_type": "code",
        "colab": {}
      },
      "source": [
        "from sklearn.linear_model import LogisticRegression\n",
        "from imblearn.under_sampling import InstanceHardnessThreshold\n",
        "from collections import Counter\n",
        "iht = InstanceHardnessThreshold(random_state=0,\n",
        "                                estimator=LogisticRegression(\n",
        "                                    solver='lbfgs', multi_class='auto'))\n",
        "X_resampled, y_resampled = iht.fit_resample(X, y)\n",
        "print(sorted(Counter(y_resampled).items()))"
      ],
      "execution_count": 0,
      "outputs": []
    },
    {
      "cell_type": "code",
      "metadata": {
        "colab_type": "code",
        "id": "sAs_F3wlAqVg",
        "colab": {}
      },
      "source": [
        "IHTUS_df = pd.DataFrame(np.c_[X_resampled, y_resampled], columns=principalDf.columns)"
      ],
      "execution_count": 0,
      "outputs": []
    },
    {
      "cell_type": "code",
      "metadata": {
        "colab_type": "code",
        "id": "meAeZJWDAqVl",
        "colab": {}
      },
      "source": [
        "param_grid = {\n",
        "    \"n_neighbors\":[3, 4, 5]\n",
        "}\n",
        "\n",
        "knn_data_bundle, fitted_model, elapsed_time = fit_get_predictions_with_CV(IHTUS_df, \"KNN\", param_grid)\n",
        "\n",
        "y_pred = knn_data_bundle[4]\n",
        "y_test = knn_data_bundle[3]"
      ],
      "execution_count": 0,
      "outputs": []
    },
    {
      "cell_type": "code",
      "metadata": {
        "colab_type": "code",
        "id": "GMWQHUw6AqVn",
        "colab": {}
      },
      "source": [
        "report_df = report_performance_scores(fitted_model, y_test, y_pred, elapsed_time)\n",
        "report_df.head()"
      ],
      "execution_count": 0,
      "outputs": []
    },
    {
      "cell_type": "code",
      "metadata": {
        "colab_type": "code",
        "id": "EIDDNqLAAqVo",
        "colab": {}
      },
      "source": [
        "plot_roc(y_test, y_pred)"
      ],
      "execution_count": 0,
      "outputs": []
    },
    {
      "cell_type": "markdown",
      "metadata": {
        "id": "Ucw-ZBVQA7BM",
        "colab_type": "text"
      },
      "source": [
        "As we can see, running this sampling method out of the box gives us perfect scores across the board.... WOOHOO! We don't want to be using this type of resampling method because of overfitting, if you cannot tell by the sarcasm. And even if we did, we would have to employ a much more stringent regularization mechanism.\n",
        "\n",
        "Now we generate samples to test against. Again, no fraudulent cases in this sampling."
      ]
    },
    {
      "cell_type": "code",
      "metadata": {
        "id": "HJvaLWOQW7UM",
        "colab_type": "code",
        "colab": {}
      },
      "source": [
        "X_test, y_test = sample_for_test_set(principalDf, include_minority=True)"
      ],
      "execution_count": 0,
      "outputs": []
    },
    {
      "cell_type": "code",
      "metadata": {
        "id": "s6Qc4eRlXTnC",
        "colab_type": "code",
        "colab": {}
      },
      "source": [
        "y_pred = fitted_model.predict(X_test)"
      ],
      "execution_count": 0,
      "outputs": []
    },
    {
      "cell_type": "code",
      "metadata": {
        "id": "QUhzXJ8XXUx_",
        "colab_type": "code",
        "colab": {}
      },
      "source": [
        "detailed_confusion_matrix(y_test, y_pred)"
      ],
      "execution_count": 0,
      "outputs": []
    },
    {
      "cell_type": "markdown",
      "metadata": {
        "id": "jMwQ6cU6X591",
        "colab_type": "text"
      },
      "source": [
        "From the examples that we have above, in general, it seems like undersampling the majority class and castrating essentially the entire dataset (70%), this decision function was not able to learn from enough non-fraud examples and pings for a lot of non-fraud cases as fraud cases. This sampling method seems to probably be the most detrimental to this model, in anycase.\n",
        "\n",
        "**VERDICT**: we do not use undersampling of the majority with a meta-estimator."
      ]
    },
    {
      "cell_type": "markdown",
      "metadata": {
        "id": "W7OipSgA8wIY",
        "colab_type": "text"
      },
      "source": [
        "## Undersampling of the Majority Class with OneSidedSelection\n",
        "\n",
        "In the contrary, OneSidedSelection will use TomekLinks to remove noisy samples [KM1997]. In addition, the 1 nearest neighbor rule is applied to all samples and the one which are misclassified will be added to the set C. No iteration on the set S will take place."
      ]
    },
    {
      "cell_type": "code",
      "metadata": {
        "id": "UO_MQkXu9IOT",
        "colab_type": "code",
        "colab": {}
      },
      "source": [
        "from imblearn.under_sampling import OneSidedSelection\n",
        "oss = OneSidedSelection(random_state=0)\n",
        "X_resampled, y_resampled = oss.fit_resample(X, y)\n",
        "print(sorted(Counter(y_resampled).items()))"
      ],
      "execution_count": 0,
      "outputs": []
    },
    {
      "cell_type": "code",
      "metadata": {
        "id": "GHHF_90w9I7Y",
        "colab_type": "code",
        "colab": {}
      },
      "source": [
        "OSS_df = pd.DataFrame(np.c_[X_resampled, y_resampled], columns=principalDf.columns)"
      ],
      "execution_count": 0,
      "outputs": []
    },
    {
      "cell_type": "code",
      "metadata": {
        "id": "Av2hTIIg9JTm",
        "colab_type": "code",
        "colab": {}
      },
      "source": [
        "param_grid = {\n",
        "    \"n_neighbors\":[3, 4, 5]\n",
        "}\n",
        "\n",
        "knn_data_bundle, fitted_model, elapsed_time = fit_get_predictions_with_CV(OSS_df, \"KNN\", param_grid)\n",
        "\n",
        "y_pred = knn_data_bundle[4]\n",
        "y_test = knn_data_bundle[3]"
      ],
      "execution_count": 0,
      "outputs": []
    },
    {
      "cell_type": "code",
      "metadata": {
        "id": "pcex1k7u9K9h",
        "colab_type": "code",
        "colab": {}
      },
      "source": [
        "report_df = report_performance_scores(fitted_model, y_test, y_pred, elapsed_time)\n",
        "report_df.head()"
      ],
      "execution_count": 0,
      "outputs": []
    },
    {
      "cell_type": "code",
      "metadata": {
        "id": "JX9d_rGy9Lb0",
        "colab_type": "code",
        "colab": {}
      },
      "source": [
        "plot_roc(y_test, y_pred)"
      ],
      "execution_count": 0,
      "outputs": []
    },
    {
      "cell_type": "markdown",
      "metadata": {
        "id": "CMhnoBct9MTY",
        "colab_type": "text"
      },
      "source": [
        "This method seems like a more balanced approach to undersampling the minority case. We see that we've kept the same number of majority cases somehow, but achieved much better performance with this type of sampling strategy. I've not read in depth about how the sampling strategy employed but I think it will be important to know how it is done. Something about Tomek links."
      ]
    },
    {
      "cell_type": "markdown",
      "metadata": {
        "id": "DP9r4U6lOiwO",
        "colab_type": "text"
      },
      "source": [
        "## Test Modeling against Test dataset (previous majority down sampling)\n",
        "\n",
        "Create a test data set by resampling a portion of the non-fraud cases and make that the entire test dataset."
      ]
    },
    {
      "cell_type": "code",
      "metadata": {
        "id": "zs7Ip-4yxQ6y",
        "colab_type": "code",
        "colab": {}
      },
      "source": [
        "# only non-fraudulent cases for this test\n",
        "X_test, y_test = sample_for_test_set(principalDf, include_minority=False)"
      ],
      "execution_count": 0,
      "outputs": []
    },
    {
      "cell_type": "code",
      "metadata": {
        "id": "FGuPKBi7OJbE",
        "colab_type": "code",
        "colab": {}
      },
      "source": [
        "y_pred = fitted_model.predict(X_test)"
      ],
      "execution_count": 0,
      "outputs": []
    },
    {
      "cell_type": "code",
      "metadata": {
        "id": "dk4BQUTfe_Pj",
        "colab_type": "code",
        "colab": {}
      },
      "source": [
        "y_pred = pd.Series(y_pred)\n",
        "y_pred.value_counts()"
      ],
      "execution_count": 0,
      "outputs": []
    },
    {
      "cell_type": "code",
      "metadata": {
        "id": "iW2dBSJ2P6ar",
        "colab_type": "code",
        "colab": {}
      },
      "source": [
        "plot_roc(y_test, y_pred)"
      ],
      "execution_count": 0,
      "outputs": []
    },
    {
      "cell_type": "code",
      "metadata": {
        "colab_type": "code",
        "id": "jHEES27c_TdN",
        "colab": {}
      },
      "source": [
        "# Include minority cases in the sampling\n",
        "X_test, y_test = sample_for_test_set(principalDf, fraction=0.5, include_minority=True)"
      ],
      "execution_count": 0,
      "outputs": []
    },
    {
      "cell_type": "code",
      "metadata": {
        "colab_type": "code",
        "id": "44gFrzbn_TdU",
        "colab": {}
      },
      "source": [
        "y_pred_probs = fitted_model.predict_proba(X_test)\n",
        "y_pred = fitted_model.predict(X_test)"
      ],
      "execution_count": 0,
      "outputs": []
    },
    {
      "cell_type": "code",
      "metadata": {
        "colab_type": "code",
        "id": "2BqBjWxV_TdW",
        "colab": {}
      },
      "source": [
        "y_pred = pd.Series(y_pred)\n",
        "y_pred.value_counts()"
      ],
      "execution_count": 0,
      "outputs": []
    },
    {
      "cell_type": "code",
      "metadata": {
        "id": "cfSz9rmm_0sr",
        "colab_type": "code",
        "colab": {}
      },
      "source": [
        "report = report_performance_scores(fitted_model, y_test, y_pred, elapsed_time)\n",
        "report.head()"
      ],
      "execution_count": 0,
      "outputs": []
    },
    {
      "cell_type": "code",
      "metadata": {
        "id": "1SYOTwZBgDUE",
        "colab_type": "code",
        "colab": {}
      },
      "source": [
        "y_pred = fitted_model.predict(X_test)\n",
        "y_pred_probs = fitted_model.predict_proba(X_test)\n",
        "y_pred_probs_max = get_max_probas(y_pred_probs)"
      ],
      "execution_count": 0,
      "outputs": []
    },
    {
      "cell_type": "code",
      "metadata": {
        "id": "MzSRU8xRhsHT",
        "colab_type": "code",
        "colab": {}
      },
      "source": [
        "plot_roc(y_test, y_pred_probs_max)"
      ],
      "execution_count": 0,
      "outputs": []
    },
    {
      "cell_type": "code",
      "metadata": {
        "id": "K1HHhv5SBmCB",
        "colab_type": "code",
        "colab": {}
      },
      "source": [
        "detailed_confusion_matrix(y_test, y_pred)"
      ],
      "execution_count": 0,
      "outputs": []
    },
    {
      "cell_type": "markdown",
      "metadata": {
        "id": "w9YtyQCx74U3",
        "colab_type": "text"
      },
      "source": [
        "# Conclusion of Down Sampling Strategy\n",
        "\n",
        "Using the OneSideSelection down sampling strategy, fitting a model to this dataset, and then testing on a purely majority-class dataset yields positive expected values (i.e., almost 0 fraudulent cases predicted), meaning that the decision function has learned of some of the patterns for fraudulent activity.\n",
        "\n",
        "Having a higher Sensitivity score here is important because we want to capture as much of the fraudulent activity as possible, while mitigating the number of missed-detections and the number of false-alarms. In this case, there were 30 missed fraudulent cases that went under the radar and 5 false alarms for the 124 pings for frauduldent activity.\n",
        "\n",
        "This is a start but this is certainly not good enough. We need to get that False-Positive rate/Missed-Fraudulent number as low as possible."
      ]
    },
    {
      "cell_type": "markdown",
      "metadata": {
        "id": "i6C6ybFg0F-F",
        "colab_type": "text"
      },
      "source": [
        "### Over sampling of the Minority Class\n",
        "\n",
        "We over sample the minority class to have more examples to learn from, but rather than just randomly doing it, there are some technicality to the approaches that we can choose. I'll go through training a decision function with resampling using two powerful methods offered by the imbalanced-learn library:\n",
        "\n",
        "1) SMOTE - Synthetic Minority Oversampling Technique\n",
        "\n",
        "2) ADASYN - Adaptive Synthetic sampling\n",
        "\n",
        "These two oversampling approaches use methods of interpolation to generate synthetic samples as opposed to the type of sampling done with Random over sampling, which duplicates examples.\n",
        "\n",
        "Formula for SMOTE sample generation:\n",
        "\n",
        "![Formula for SMOTE sample generation](https://imbalanced-learn.readthedocs.io/en/stable/_images/math/7d17f8d1d74c655eb15821661276d94c82d0e5b4.png)\n",
        "\n",
        "Lambda is a value between 0 and 1 and a sample is interpolated along the line between Xi and Xzi.\n",
        "\n",
        "<br>\n",
        "\n",
        "![Sampling](https://imbalanced-learn.readthedocs.io/en/stable/_images/sphx_glr_plot_illustration_generation_sample_0011.png)\n",
        "\n"
      ]
    },
    {
      "cell_type": "code",
      "metadata": {
        "id": "cAGhw1fM0FHq",
        "colab_type": "code",
        "colab": {}
      },
      "source": [
        "from imblearn.over_sampling import SMOTE\n",
        "X_resampled, y_resampled = SMOTE().fit_resample(X, y)\n",
        "print(sorted(Counter(y_resampled).items()))"
      ],
      "execution_count": 0,
      "outputs": []
    },
    {
      "cell_type": "code",
      "metadata": {
        "colab_type": "code",
        "id": "vz4bVsdHJUMn",
        "colab": {}
      },
      "source": [
        "smote_df = pd.DataFrame(np.c_[X_resampled, y_resampled], columns=principalDf.columns)"
      ],
      "execution_count": 0,
      "outputs": []
    },
    {
      "cell_type": "code",
      "metadata": {
        "colab_type": "code",
        "id": "_jFdktwFJUMt",
        "colab": {}
      },
      "source": [
        "param_grid = {\n",
        "    \"n_neighbors\":[3, 4, 5]\n",
        "}\n",
        "\n",
        "knn_data_bundle, fitted_model, elapsed_time = fit_get_predictions_with_CV(smote_df, \"KNN\", param_grid)\n",
        "\n",
        "y_pred = knn_data_bundle[4]\n",
        "y_test = knn_data_bundle[3]"
      ],
      "execution_count": 0,
      "outputs": []
    },
    {
      "cell_type": "code",
      "metadata": {
        "colab_type": "code",
        "id": "lSZL9E0MJUMw",
        "colab": {}
      },
      "source": [
        "report_df = report_performance_scores(fitted_model, y_test, y_pred, elapsed_time)\n",
        "report_df.head()"
      ],
      "execution_count": 0,
      "outputs": []
    },
    {
      "cell_type": "code",
      "metadata": {
        "id": "E5iri_NloyRg",
        "colab_type": "code",
        "colab": {}
      },
      "source": [
        "X_train, X_test, y_train, y_test = train_test_split(X_resampled, y_resampled, train_size=0.3, random_state=42)\n",
        "y_pred_probs = fitted_model.predict_proba(X_test)\n",
        "y_pred_probs_max = get_max_probas(y_pred_probs)"
      ],
      "execution_count": 0,
      "outputs": []
    },
    {
      "cell_type": "code",
      "metadata": {
        "colab_type": "code",
        "id": "QcIsZCM9JUMy",
        "colab": {}
      },
      "source": [
        "plot_roc(y_test, y_pred_probs_max)"
      ],
      "execution_count": 0,
      "outputs": []
    },
    {
      "cell_type": "code",
      "metadata": {
        "id": "4T94pt7AI7jg",
        "colab_type": "code",
        "colab": {}
      },
      "source": [
        "from imblearn.over_sampling import ADASYN\n",
        "\n",
        "X_resampled, y_resampled = ADASYN().fit_resample(X, y)\n",
        "print(sorted(Counter(y_resampled).items()))"
      ],
      "execution_count": 0,
      "outputs": []
    },
    {
      "cell_type": "code",
      "metadata": {
        "colab_type": "code",
        "id": "PCZjcsIXJVIw",
        "colab": {}
      },
      "source": [
        "adasyn_df = pd.DataFrame(np.c_[X_resampled, y_resampled], columns=principalDf.columns)"
      ],
      "execution_count": 0,
      "outputs": []
    },
    {
      "cell_type": "code",
      "metadata": {
        "colab_type": "code",
        "id": "Rj4xfgrPJVI1",
        "colab": {}
      },
      "source": [
        "param_grid = {\n",
        "    \"n_neighbors\":[3, 4, 5]\n",
        "}\n",
        "\n",
        "knn_data_bundle, fitted_model, elapsed_time = fit_get_predictions_with_CV(adasyn_df, \"KNN\", param_grid)\n",
        "\n",
        "y_pred = knn_data_bundle[4]\n",
        "y_test = knn_data_bundle[3]"
      ],
      "execution_count": 0,
      "outputs": []
    },
    {
      "cell_type": "code",
      "metadata": {
        "colab_type": "code",
        "id": "c7SeWTlNJVI3",
        "colab": {}
      },
      "source": [
        "report_df = report_performance_scores(fitted_model, y_test, y_pred, elapsed_time)\n",
        "report_df.head()"
      ],
      "execution_count": 0,
      "outputs": []
    },
    {
      "cell_type": "code",
      "metadata": {
        "colab_type": "code",
        "id": "r-Ui_D6iJVI4",
        "colab": {}
      },
      "source": [
        "plot_roc(y_test, y_pred)"
      ],
      "execution_count": 0,
      "outputs": []
    },
    {
      "cell_type": "markdown",
      "metadata": {
        "id": "LMxiHe6ONbbN",
        "colab_type": "text"
      },
      "source": [
        "### Outlier and Novelty Detection"
      ]
    },
    {
      "cell_type": "code",
      "metadata": {
        "id": "admdSB6ZHpuU",
        "colab_type": "code",
        "colab": {}
      },
      "source": [
        "!pip install pyod"
      ],
      "execution_count": 0,
      "outputs": []
    },
    {
      "cell_type": "code",
      "metadata": {
        "id": "iCaH7PdeG9j8",
        "colab_type": "code",
        "colab": {}
      },
      "source": [
        "# we can do some unsupervised learning targetted around and outlier detection"
      ],
      "execution_count": 0,
      "outputs": []
    },
    {
      "cell_type": "markdown",
      "metadata": {
        "id": "v7YSYxFbxMIu",
        "colab_type": "text"
      },
      "source": [
        "## Explainablility of the Features for the Predicted Values using LIME"
      ]
    }
  ]
}