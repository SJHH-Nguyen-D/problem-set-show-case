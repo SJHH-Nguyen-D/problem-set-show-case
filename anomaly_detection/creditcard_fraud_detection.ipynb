{
  "nbformat": 4,
  "nbformat_minor": 0,
  "metadata": {
    "colab": {
      "name": "creditcard_fraud_detection.ipynb",
      "provenance": [],
      "collapsed_sections": []
    },
    "kernelspec": {
      "name": "python3",
      "display_name": "Python 3"
    },
    "accelerator": "GPU"
  },
  "cells": [
    {
      "cell_type": "markdown",
      "metadata": {
        "id": "DpIzfDd29r7X",
        "colab_type": "text"
      },
      "source": [
        "# Credit Card Fraud Detection"
      ]
    },
    {
      "cell_type": "markdown",
      "metadata": {
        "id": "Y50dwIWg9svk",
        "colab_type": "text"
      },
      "source": [
        "## About\n",
        "\n",
        "Credit card fraud detection is a real world problem that is plaguing the nations. It is an anomaly detection problem due to the Poisson distributed positive cases. Fraud doesn't happen every day, but when it does happen, we want to capture it and predict, given the types of patterns that we can detect, which accounts will likely experience an instance of fraudulent activity.\n",
        "\n",
        "Being able to work with fraud detection gives us insight into working with all sorts of anomaly detection type problems in the feature, even outside this particular domain."
      ]
    },
    {
      "cell_type": "markdown",
      "metadata": {
        "id": "W2cZ-3Ok9uOR",
        "colab_type": "text"
      },
      "source": [
        "## The Dataset\n",
        "\n",
        "The dataset was retrieved from data world, which retrieved it from a Kaggle competitition. It's a flat datset and not necessarily considered big data, however, it will serve its purpose here. \n",
        "\n",
        "The attributes for the dataset, for the most part, were stripped so we don't really have a human readable understanding of what the attributes mean, but from what I can tell, the values for each of these anonymized attributes are normalized values.\n",
        "\n",
        "Our target is a boolean, indicating whether or not the account has experienced fraudulent activity or not.\n"
      ]
    },
    {
      "cell_type": "markdown",
      "metadata": {
        "id": "EfJWGiKZkUIF",
        "colab_type": "text"
      },
      "source": [
        "## Download External Dependencies"
      ]
    },
    {
      "cell_type": "code",
      "metadata": {
        "id": "fuw0XkOykbGQ",
        "colab_type": "code",
        "outputId": "f3024d00-300e-4129-f38b-3a02c1f6f521",
        "colab": {
          "base_uri": "https://localhost:8080/",
          "height": 451
        }
      },
      "source": [
        "!pip install pyod\n",
        "!pip install imbalance-learn"
      ],
      "execution_count": 0,
      "outputs": [
        {
          "output_type": "stream",
          "text": [
            "Collecting pyod\n",
            "\u001b[?25l  Downloading https://files.pythonhosted.org/packages/f9/40/2bffcde2edbbea4e8ae50a868684fd285d746401bd8051732d3a6d6111c4/pyod-0.7.5.tar.gz (86kB)\n",
            "\r\u001b[K     |███▉                            | 10kB 14.0MB/s eta 0:00:01\r\u001b[K     |███████▋                        | 20kB 2.3MB/s eta 0:00:01\r\u001b[K     |███████████▍                    | 30kB 3.3MB/s eta 0:00:01\r\u001b[K     |███████████████▎                | 40kB 2.2MB/s eta 0:00:01\r\u001b[K     |███████████████████             | 51kB 2.7MB/s eta 0:00:01\r\u001b[K     |██████████████████████▉         | 61kB 3.2MB/s eta 0:00:01\r\u001b[K     |██████████████████████████▋     | 71kB 3.7MB/s eta 0:00:01\r\u001b[K     |██████████████████████████████▌ | 81kB 4.1MB/s eta 0:00:01\r\u001b[K     |████████████████████████████████| 92kB 3.1MB/s \n",
            "\u001b[?25hRequirement already satisfied: joblib in /usr/local/lib/python3.6/dist-packages (from pyod) (0.14.0)\n",
            "Requirement already satisfied: matplotlib in /usr/local/lib/python3.6/dist-packages (from pyod) (3.1.1)\n",
            "Requirement already satisfied: numpy>=1.13 in /usr/local/lib/python3.6/dist-packages (from pyod) (1.17.4)\n",
            "Requirement already satisfied: numba>=0.35 in /usr/local/lib/python3.6/dist-packages (from pyod) (0.40.1)\n",
            "Requirement already satisfied: scipy>=0.19.1 in /usr/local/lib/python3.6/dist-packages (from pyod) (1.3.2)\n",
            "Requirement already satisfied: scikit_learn>=0.19.1 in /usr/local/lib/python3.6/dist-packages (from pyod) (0.21.3)\n",
            "Requirement already satisfied: six in /usr/local/lib/python3.6/dist-packages (from pyod) (1.12.0)\n",
            "Requirement already satisfied: cycler>=0.10 in /usr/local/lib/python3.6/dist-packages (from matplotlib->pyod) (0.10.0)\n",
            "Requirement already satisfied: pyparsing!=2.0.4,!=2.1.2,!=2.1.6,>=2.0.1 in /usr/local/lib/python3.6/dist-packages (from matplotlib->pyod) (2.4.5)\n",
            "Requirement already satisfied: python-dateutil>=2.1 in /usr/local/lib/python3.6/dist-packages (from matplotlib->pyod) (2.6.1)\n",
            "Requirement already satisfied: kiwisolver>=1.0.1 in /usr/local/lib/python3.6/dist-packages (from matplotlib->pyod) (1.1.0)\n",
            "Requirement already satisfied: llvmlite>=0.25.0dev0 in /usr/local/lib/python3.6/dist-packages (from numba>=0.35->pyod) (0.30.0)\n",
            "Requirement already satisfied: setuptools in /usr/local/lib/python3.6/dist-packages (from kiwisolver>=1.0.1->matplotlib->pyod) (41.6.0)\n",
            "Building wheels for collected packages: pyod\n",
            "  Building wheel for pyod (setup.py) ... \u001b[?25l\u001b[?25hdone\n",
            "  Created wheel for pyod: filename=pyod-0.7.5-cp36-none-any.whl size=96597 sha256=329b41a995acb4f35e31a47727e10ac9acd0c4e21ee5c7eadef928d6e93f32c5\n",
            "  Stored in directory: /root/.cache/pip/wheels/35/bc/f4/2cef321eac851ba02f533e3921b296bb4ce4998c8a4c9a8d6e\n",
            "Successfully built pyod\n",
            "Installing collected packages: pyod\n",
            "Successfully installed pyod-0.7.5\n",
            "\u001b[31mERROR: Could not find a version that satisfies the requirement imbalance-learn (from versions: none)\u001b[0m\n",
            "\u001b[31mERROR: No matching distribution found for imbalance-learn\u001b[0m\n"
          ],
          "name": "stdout"
        }
      ]
    },
    {
      "cell_type": "markdown",
      "metadata": {
        "id": "G76WeA6e_TcL",
        "colab_type": "text"
      },
      "source": [
        "## Load Dependencies"
      ]
    },
    {
      "cell_type": "code",
      "metadata": {
        "id": "jXsfd3ow_Vuz",
        "colab_type": "code",
        "colab": {}
      },
      "source": [
        "import matplotlib.pyplot as plt \n",
        "import seaborn as sns\n",
        "from collections import Counter\n",
        "from inspect import signature\n",
        "%matplotlib inline\n",
        "import pandas as pd\n",
        "import numpy as np\n",
        "import pprint\n",
        "pp = pprint.PrettyPrinter(indent=4)\n",
        "\n",
        "from google.colab import drive\n",
        "import pandas_profiling\n",
        "from timeit import default_timer\n",
        "from sklearn.metrics import (precision_score, confusion_matrix, recall_score, accuracy_score, \n",
        "                             balanced_accuracy_score,roc_auc_score, classification_report, confusion_matrix, \n",
        "                             r2_score, f1_score, roc_curve, precision_recall_curve, average_precision_score)\n",
        "from sklearn.model_selection import train_test_split, GridSearchCV\n",
        "import warnings\n",
        "warnings.filterwarnings(\"ignore\")\n",
        "from sklearn.linear_model import SGDClassifier"
      ],
      "execution_count": 0,
      "outputs": []
    },
    {
      "cell_type": "markdown",
      "metadata": {
        "id": "m1j1p9T_nxNo",
        "colab_type": "text"
      },
      "source": [
        "## Constants"
      ]
    },
    {
      "cell_type": "code",
      "metadata": {
        "id": "-Mnb8BeknzQt",
        "colab_type": "code",
        "colab": {}
      },
      "source": [
        "DRIVENAME = \"/content/drive/\"\n",
        "FILENAME = \"/content/drive/My Drive/problem_set_challenges_for_job_postings/scaled_and_processed_cc.csv\""
      ],
      "execution_count": 0,
      "outputs": []
    },
    {
      "cell_type": "markdown",
      "metadata": {
        "id": "WE7Y6nIOcHS4",
        "colab_type": "text"
      },
      "source": [
        "## Functions"
      ]
    },
    {
      "cell_type": "code",
      "metadata": {
        "id": "LnP_cQLzuUTU",
        "colab_type": "code",
        "colab": {}
      },
      "source": [
        "def mount_drive(drivename):\n",
        "    from google.colab import drive\n",
        "    drive.mount(drivename)\n",
        "\n",
        "\n",
        "def load_csv_file(path):\n",
        "    dataframe = pd.read_csv(FILENAME)\n",
        "    if isinstance(dataframe[\"Unnamed: 0\"], pd.Series):\n",
        "        dataframe = dataframe.drop('Unnamed: 0', inplace=False, axis=1)\n",
        "    return dataframe\n",
        "\n",
        "\n",
        "def drop_features(dataframe, cols):\n",
        "    for col in cols:\n",
        "        dataframe.drop(col, axis=1, inplace=True)\n",
        "    return dataframe\n",
        "\n",
        "\n",
        "def rename_target(dataframe, label):\n",
        "    return dataframe.rename({label: \"target\"}, axis=1, inplace=False)\n",
        "\n",
        "\n",
        "def remap_boolean(dataframe, label):\n",
        "    return dataframe[label].replace({False:0, True:1}, inplace=False)\n",
        "\n",
        "\n",
        "def scale_feature(dataframe, label):\n",
        "    return dataframe[label].apply(lambda x: (x-dataframe[label].mean())/dataframe[label].std())\n",
        "\n",
        "\n",
        "def preprocess(dataframe, cols_to_drop, cols_to_remap, cols_scale):\n",
        "    start_time = default_timer()\n",
        "    dataframe = drop_features(dataframe, cols_to_drop)\n",
        "    dataframe = rename_target(dataframe, \"class\")\n",
        "    dataframe[cols_to_remap] = remap_boolean(dataframe, cols_to_remap)\n",
        "    dataframe[cols_scale] = scale_feature(dataframe, cols_scale)\n",
        "    end_time = default_timer()\n",
        "    print(f\"Processing completed. Elapsed time: {end_time-start_time}\")\n",
        "    return dataframe\n",
        "\n",
        "\n",
        "def split_data_into_feature_and_target(data, target_label=\"target\"):\n",
        "    \"\"\" Splits the dataframe into features and target\n",
        "    :param data: is dataframe with last column on right as target\n",
        "    \"\"\"\n",
        "    X = data.loc[:, data.columns != target_label].values\n",
        "    y = data[target_label].values\n",
        "    return X, y\n",
        "\n",
        "\n",
        "def plot_pca(X, y, list_n_pca_components):\n",
        "    \"\"\" plots a PCA plot... borrowed code that I want to touch as little as possible \"\"\"\n",
        "    from sklearn.decomposition import PCA\n",
        "    from sklearn.pipeline import Pipeline\n",
        "    from sklearn.model_selection import GridSearchCV\n",
        "    from sklearn.linear_model import SGDClassifier\n",
        "    from timeit import default_timer\n",
        "\n",
        "    logistic = SGDClassifier(loss='log', penalty='l2', early_stopping=True,\n",
        "                            max_iter=100, tol=1e-5, random_state=0)\n",
        "    pca = PCA()\n",
        "    pipe = Pipeline(steps=[('pca', pca), ('logistic', logistic)])\n",
        "\n",
        "    # Parameters of pipelines can be set using ‘__’ separated parameter names:\n",
        "    param_grid = {\n",
        "        'pca__n_components': list_n_pca_components,\n",
        "        'logistic__alpha': np.logspace(-4, 4, 5),\n",
        "    }\n",
        "\n",
        "    start_time = default_timer()\n",
        "    search = GridSearchCV(pipe, param_grid, iid=False, cv=10)\n",
        "    search.fit(X, y)\n",
        "    print(\"Best parameter (CV score=%0.3f):\" % search.best_score_)\n",
        "    print(search.best_params_)\n",
        "\n",
        "    # Plot the PCA spectrum\n",
        "    pca.fit(X)\n",
        "    end_time = default_timer()\n",
        "    print(\"Elapsed time to fit: {}s\".format(end_time - start_time))\n",
        "    fig, (ax0, ax1) = plt.subplots(nrows=2, sharex=True, figsize=(6, 6))\n",
        "    ax0.plot(pca.explained_variance_ratio_, linewidth=2)\n",
        "    ax0.set_ylabel('PCA explained variance')\n",
        "\n",
        "    ax0.axvline(search.best_estimator_.named_steps['pca'].n_components,\n",
        "                linestyle=':', label='n_components chosen')\n",
        "    ax0.legend(prop=dict(size=12))\n",
        "\n",
        "    # For each number of components, find the best classifier results\n",
        "    results = pd.DataFrame(search.cv_results_)\n",
        "    components_col = 'param_pca__n_components'\n",
        "    best_clfs = results.groupby(components_col).apply(\n",
        "        lambda g: g.nlargest(1, 'mean_test_score'))\n",
        "\n",
        "    best_clfs.plot(x=components_col, y='mean_test_score', yerr='std_test_score',\n",
        "                legend=False, ax=ax1)\n",
        "    ax1.set_ylabel('Classification accuracy (val)')\n",
        "    ax1.set_xlabel('n_components')\n",
        "\n",
        "    plt.tight_layout()\n",
        "    plt.show()\n",
        "\n",
        "\n",
        "def extract_pc_into_df(data, n_pca_components):\n",
        "    from sklearn.linear_model import SGDClassifier\n",
        "    from sklearn.decomposition import PCA\n",
        "\n",
        "    X, y = split_data_into_feature_and_target(data)\n",
        "\n",
        "    logistic = SGDClassifier(loss='log', penalty='l2', early_stopping=True,\n",
        "                         max_iter=10000, tol=1e-5, random_state=0, alpha=0.0001)\n",
        "    \n",
        "    pca = PCA(n_components=n_pca_components)\n",
        "    principal_components = pca.fit_transform(X, y)\n",
        "\n",
        "    princ_comp_names = [f\"pc{a}\" for a in range(1, 12)]\n",
        "    dataframe = pd.DataFrame(principal_components, columns=princ_comp_names)\n",
        "    dataframe['target'] = data['target'].values\n",
        "\n",
        "    return dataframe\n",
        "\n",
        "\n",
        "def normality_of_distribution_test(feature, significance_level=0.05):\n",
        "    from scipy.stats import normaltest\n",
        "    test_normality = normaltest(feature, axis=0, nan_policy='propagate')\n",
        "    if test_normality[1]<significance_level:\n",
        "        print(\"This feature is normally distributed about the mean\")\n",
        "    else:\n",
        "        print(\"This feature is NOT normally distributed about the mean\")\n",
        "\n",
        "\n",
        "def fit_simple_model(data, model_type):\n",
        "    from timeit import default_timer\n",
        "    X, y = split_data_into_feature_and_target(data)\n",
        "    X_train, X_test, y_train, y_test = train_test_split(X, y, test_size=0.4, random_state=42)\n",
        "    if model_type == \"naive bayes\":\n",
        "        from sklearn.naive_bayes import GaussianNB\n",
        "        model = GaussianNB()\n",
        "    else:\n",
        "        raise ValueError(\"Please select a valid model_type value\")\n",
        "    \n",
        "    start_time = default_timer()\n",
        "    fitted_model = model.fit(X_train, y_train)\n",
        "    y_pred = model.predict(X_test)\n",
        "    end_time = default_timer()\n",
        "    elapsed_time = end_time - start_time\n",
        "    print(f\"Model fitting and prediction complete.\\nElapsed Time: {elapsed_time}s\")\n",
        "    return (X_train, X_test, y_train, y_test, y_pred), fitted_model, elapsed_time\n",
        "\n",
        "\n",
        "def fit_get_predictions_with_CV(data, model_name, param_search_space):\n",
        "    \"\"\" Uses the GridSearchCV to fit specified model. \n",
        "    param_search_space must be compatible with models passed in \"\"\"\n",
        "    from timeit import default_timer\n",
        "\n",
        "    X, y = split_data_into_feature_and_target(data)\n",
        "    X_train, X_test, y_train, y_test = train_test_split(X, y, test_size=0.3, random_state=42)\n",
        "\n",
        "    if model_name == \"RFC\":\n",
        "        from sklearn.ensemble import RandomForestClassifier\n",
        "        estimator = RandomForestClassifier()\n",
        "    \n",
        "    elif model_name == \"logistic regression\":\n",
        "        from sklearn.linear_model import LogisticRegression\n",
        "        estimator = LogisticRegression(class_weight=\"balanced\", verbose=0, random_state=42, \n",
        "                                       max_iter=100, solver=\"saga\", warm_start=False, n_jobs=-1, \n",
        "                                       l1_ratio=1)\n",
        "        \n",
        "    elif model_name == \"naive bayes\":\n",
        "        from sklearn.naive_bayes import GaussianNB\n",
        "        estimator = GaussianNB()\n",
        "\n",
        "    elif model_name == \"KNN\":\n",
        "        from sklearn.neighbors import KNeighborsClassifier\n",
        "        estimator = KNeighborsClassifier()\n",
        "    \n",
        "    else:\n",
        "        raise ValueError(\"Please enter a valid model_name string value\")\n",
        "\n",
        "    start_time = default_timer()\n",
        "    gscv = GridSearchCV(estimator, param_search_space, cv=10, error_score=\"raise\")\n",
        "    fitted_model = gscv.fit(X_train, y_train)\n",
        "    y_pred = gscv.predict(X_test)\n",
        "    end_time = default_timer()\n",
        "    elapsed_time = end_time - start_time\n",
        "    print(f\"Training, Validation and Testing are complete.\\nElapsed Time: {elapsed_time}s\")\n",
        "    return (X_train, X_test, y_train, y_test, y_pred), fitted_model, elapsed_time\n",
        "\n",
        "\n",
        "def conf_mat_parser(confusion_matrix):\n",
        "    \"\"\" parse a confusion matrix into its components \"\"\"\"\"\"\"\"\"\"\"\n",
        "    TN, FN, FP, TP = [i for j in confusion_matrix for i in j]\n",
        "    return TN, FN, FP, TP\n",
        "\n",
        "\n",
        "def detailed_confusion_matrix(y_test, y_pred):\n",
        "    \"\"\" prints out confusion matrix with more labeling and detail \"\"\"\n",
        "\n",
        "    TN, FP, FN, TP = conf_mat_parser(confusion_matrix(y_test, y_pred))\n",
        "    sensitivity = (TP/(TP+FN))\n",
        "    specificity = (TN/(TN+FP))\n",
        "    precision = (TP / (TP+FP))\n",
        "\n",
        "    print(\"                           *Fraudulent Cases are considered Positive Cases\")\n",
        "    print(\"============================================================================================\")\n",
        "    print(\"######################### Predicted Non-Fraudulent ### | ### Predicted Fraudulent ##########\")\n",
        "    print(\"\\n\")\n",
        "    print(f\"Actually Non-Fraudulent | TN = {TN}                   | FP = {FP}\")\n",
        "    print(\"\\n\")\n",
        "    print(f\"Actually Fraudulent     | FN = {FN}                       | TP = {TP} \")\n",
        "    print(\"\\n\")\n",
        "    print(f\"Specificity: {sensitivity}\")\n",
        "    print(f\"Sensitivity (aka. Recall): {specificity}\")\n",
        "\n",
        "\n",
        "def report_performance_scores(model, y_test, y_pred, train_time):\n",
        "    \"\"\" prints out some of the useful performance metrics of our model as well as returns a dataframe containing those metrics \"\"\"\n",
        "    from sklearn.metrics import (classification_report, confusion_matrix, \n",
        "                                 recall_score, precision_score, roc_auc_score,\n",
        "                                 accuracy_score, r2_score, f1_score\n",
        "                                 )\n",
        "    dataframe = pd.DataFrame({\"id\":[\"000\"], \n",
        "        \"best_parameters\":f\"{model.get_params}\", \n",
        "        \"accuracy\":[accuracy_score(y_test, y_pred)], \n",
        "        \"precision\":[precision_score(y_test, y_pred)], \n",
        "        \"recall\":[recall_score(y_test, y_pred)], \n",
        "        \"roc_auc\":[roc_auc_score(y_test, y_pred)], \n",
        "        \"r2_score\":[r2_score(y_test, y_pred)],\n",
        "        \"f1-score\": [f1_score(y_test, y_pred)],\n",
        "        \"train_time(s)\":f\"{train_time}\"\n",
        "        })\n",
        "    \n",
        "    pp.pprint(classification_report(y_test, y_pred))\n",
        "    print(\"\\n\")\n",
        "    print(f\"ROC Score: {roc_auc_score(y_test, y_pred)}\")\n",
        "    print(\"\\n\")\n",
        "    detailed_confusion_matrix(y_test, y_pred)\n",
        "    return dataframe\n",
        "\n",
        "def get_max_probas(y_pred_probs):\n",
        "    \"\"\" get array of target probabilities and return an array of \n",
        "    prediicted max probabilities for a binary class problem \"\"\"\n",
        "    df = pd.DataFrame(y_pred_probs)\n",
        "    df['max'] = df.max(axis=1)\n",
        "    y_pred_probs_max = df['max'].values\n",
        "    return y_pred_probs_max\n",
        "\n",
        "def predict_max_prob(model, X_test):\n",
        "    y_pred_probs = model.predict_proba(X_test)\n",
        "    y_pred_probs_max = get_max_probas(y_pred_probs)\n",
        "    return y_pred_probs_max\n",
        "\n",
        "def plot_roc(y_test, y_pred_probs, n_classes=2):\n",
        "    \"\"\" make sure that y_pred are probabilities \"\"\"\n",
        "    from sklearn.metrics import roc_curve, auc\n",
        "\n",
        "\n",
        "    fpr = dict()\n",
        "    tpr = dict()\n",
        "    roc_auc = dict()\n",
        "    for i in range(n_classes):\n",
        "        fpr[i], tpr[i], _ = roc_curve(y_test, y_pred_probs)\n",
        "        roc_auc[i] = auc(fpr[i], tpr[i])\n",
        "\n",
        "    # Compute micro-average ROC curve and ROC area\n",
        "    fpr[\"micro\"], tpr[\"micro\"], _ = roc_curve(y_test.ravel(), y_pred_probs.ravel())\n",
        "    roc_auc[\"micro\"] = auc(fpr[\"micro\"], tpr[\"micro\"])\n",
        "\n",
        "    plt.figure()\n",
        "    lw = 2\n",
        "    plt.plot(fpr[0], tpr[0], color='darkorange',\n",
        "            lw=lw, label='ROC curve (area = %0.2f)' % roc_auc[0])\n",
        "    plt.plot([0, 1], [0, 1], color='navy', lw=lw, linestyle='--')\n",
        "    plt.xlim([0.0, 1.0])\n",
        "    plt.ylim([0.0, 1.05])\n",
        "    plt.xlabel('False Positive Rate')\n",
        "    plt.ylabel('True Positive Rate')\n",
        "    plt.title('Receiver Operator Characteristic Curve')\n",
        "    plt.legend(loc=\"lower right\")\n",
        "    plt.show()\n",
        "\n",
        "\n",
        "def plot_prc(y_test, y_pred_probs, y_pred):\n",
        "    \n",
        "    average_precision = average_precision_score(y_test, y_pred)\n",
        "    precision, recall, _ = precision_recall_curve(y_test, y_pred_probs)\n",
        "\n",
        "    # In matplotlib < 1.5, plt.fill_between does not have a 'step' argument\n",
        "    step_kwargs = ({'step': 'post'}\n",
        "                if 'step' in signature(plt.fill_between).parameters\n",
        "                else {})\n",
        "    plt.step(recall, precision, color='b', alpha=0.2,\n",
        "            where='post')\n",
        "    plt.fill_between(recall, precision, alpha=0.2, color='b', **step_kwargs)\n",
        "\n",
        "    plt.xlabel('Recall')\n",
        "    plt.ylabel('Precision')\n",
        "    plt.ylim([0.0, 1.05])\n",
        "    plt.xlim([0.0, 1.0])\n",
        "    plt.title('2-class Precision-Recall curve: AP={0:0.2f}'.format(\n",
        "            average_precision))\n",
        "    \n",
        "\n",
        "def sample_for_test_set(dataframe, target=\"target\", fraction=0.3, include_minority=True):\n",
        "    \"\"\" resample dataframe \"\"\"\n",
        "    if include_minority:\n",
        "        test_samples_all_nonfraud_df = pd.DataFrame(dataframe.sample(frac=0.3, replace=False), columns=dataframe.columns).reset_index()                         \n",
        "        X_test = test_samples_all_nonfraud_df.iloc[:, 1:-1].values # if \"index\" is the first column\n",
        "        y_test = test_samples_all_nonfraud_df.loc[:, target].values\n",
        "\n",
        "    else:\n",
        "        test_samples_all_nonfraud_df = pd.DataFrame(dataframe.loc[dataframe[target] == 0, :].sample(frac=0.3, replace=False), \n",
        "                                                columns=dataframe.columns).reset_index()\n",
        "        X_test = test_samples_all_nonfraud_df.iloc[:, 1:-1].values # if \"index\" is the first column\n",
        "        y_test = test_samples_all_nonfraud_df.loc[:, target].values\n",
        "\n",
        "    return X_test, y_test\n",
        "\n",
        "\n",
        "def  get_outlier_scores(X_train, X_test):\n",
        "    \"\"\" returns outlier test scores for anomalous data points \"\"\"\n",
        "    from pyod.models.knn import KNN\n",
        "    clf = KNN()\n",
        "    clf.fit(X_train)\n",
        "\n",
        "    # get outlier scores\n",
        "    y_train_scores = clf.decision_scores_  # raw outlier scores\n",
        "    y_test_scores = clf.decision_function(X_test)  # outlier scores\n",
        "\n",
        "    return y_test_scores, y_train_scores "
      ],
      "execution_count": 0,
      "outputs": []
    },
    {
      "cell_type": "markdown",
      "metadata": {
        "id": "8nGKK0k09wRB",
        "colab_type": "text"
      },
      "source": [
        "## Load Dataset"
      ]
    },
    {
      "cell_type": "code",
      "metadata": {
        "id": "oKBv-EDXcHHy",
        "colab_type": "code",
        "outputId": "399803dd-cdb7-4fe8-8d3d-1fff2b940b2a",
        "colab": {
          "base_uri": "https://localhost:8080/",
          "height": 309
        }
      },
      "source": [
        "mount_drive(DRIVENAME)\n",
        "df = load_csv_file(FILENAME)\n",
        "df.head()"
      ],
      "execution_count": 0,
      "outputs": [
        {
          "output_type": "stream",
          "text": [
            "Go to this URL in a browser: https://accounts.google.com/o/oauth2/auth?client_id=947318989803-6bn6qk8qdgf4n4g3pfee6491hc0brc4i.apps.googleusercontent.com&redirect_uri=urn%3aietf%3awg%3aoauth%3a2.0%3aoob&response_type=code&scope=email%20https%3a%2f%2fwww.googleapis.com%2fauth%2fdocs.test%20https%3a%2f%2fwww.googleapis.com%2fauth%2fdrive%20https%3a%2f%2fwww.googleapis.com%2fauth%2fdrive.photos.readonly%20https%3a%2f%2fwww.googleapis.com%2fauth%2fpeopleapi.readonly\n",
            "\n",
            "Enter your authorization code:\n",
            "··········\n",
            "Mounted at /content/drive/\n"
          ],
          "name": "stdout"
        },
        {
          "output_type": "execute_result",
          "data": {
            "text/html": [
              "<div>\n",
              "<style scoped>\n",
              "    .dataframe tbody tr th:only-of-type {\n",
              "        vertical-align: middle;\n",
              "    }\n",
              "\n",
              "    .dataframe tbody tr th {\n",
              "        vertical-align: top;\n",
              "    }\n",
              "\n",
              "    .dataframe thead th {\n",
              "        text-align: right;\n",
              "    }\n",
              "</style>\n",
              "<table border=\"1\" class=\"dataframe\">\n",
              "  <thead>\n",
              "    <tr style=\"text-align: right;\">\n",
              "      <th></th>\n",
              "      <th>v1</th>\n",
              "      <th>v2</th>\n",
              "      <th>v3</th>\n",
              "      <th>v4</th>\n",
              "      <th>v5</th>\n",
              "      <th>v6</th>\n",
              "      <th>v7</th>\n",
              "      <th>v8</th>\n",
              "      <th>v9</th>\n",
              "      <th>v10</th>\n",
              "      <th>v11</th>\n",
              "      <th>v12</th>\n",
              "      <th>v13</th>\n",
              "      <th>v14</th>\n",
              "      <th>v15</th>\n",
              "      <th>v16</th>\n",
              "      <th>v17</th>\n",
              "      <th>v18</th>\n",
              "      <th>v19</th>\n",
              "      <th>v20</th>\n",
              "      <th>v21</th>\n",
              "      <th>v22</th>\n",
              "      <th>v23</th>\n",
              "      <th>v24</th>\n",
              "      <th>v25</th>\n",
              "      <th>v26</th>\n",
              "      <th>v27</th>\n",
              "      <th>v28</th>\n",
              "      <th>amount</th>\n",
              "      <th>target</th>\n",
              "    </tr>\n",
              "  </thead>\n",
              "  <tbody>\n",
              "    <tr>\n",
              "      <th>0</th>\n",
              "      <td>-1.359807</td>\n",
              "      <td>-0.072781</td>\n",
              "      <td>2.536347</td>\n",
              "      <td>1.378155</td>\n",
              "      <td>-0.338321</td>\n",
              "      <td>0.462388</td>\n",
              "      <td>0.239599</td>\n",
              "      <td>0.098698</td>\n",
              "      <td>0.363787</td>\n",
              "      <td>0.090794</td>\n",
              "      <td>-0.551600</td>\n",
              "      <td>-0.617801</td>\n",
              "      <td>-0.991390</td>\n",
              "      <td>-0.311169</td>\n",
              "      <td>1.468177</td>\n",
              "      <td>-0.470401</td>\n",
              "      <td>0.207971</td>\n",
              "      <td>0.025791</td>\n",
              "      <td>0.403993</td>\n",
              "      <td>0.251412</td>\n",
              "      <td>-0.018307</td>\n",
              "      <td>0.277838</td>\n",
              "      <td>-0.110474</td>\n",
              "      <td>0.066928</td>\n",
              "      <td>0.128539</td>\n",
              "      <td>-0.189115</td>\n",
              "      <td>0.133558</td>\n",
              "      <td>-0.021053</td>\n",
              "      <td>0.244964</td>\n",
              "      <td>0</td>\n",
              "    </tr>\n",
              "    <tr>\n",
              "      <th>1</th>\n",
              "      <td>1.191857</td>\n",
              "      <td>0.266151</td>\n",
              "      <td>0.166480</td>\n",
              "      <td>0.448154</td>\n",
              "      <td>0.060018</td>\n",
              "      <td>-0.082361</td>\n",
              "      <td>-0.078803</td>\n",
              "      <td>0.085102</td>\n",
              "      <td>-0.255425</td>\n",
              "      <td>-0.166974</td>\n",
              "      <td>1.612727</td>\n",
              "      <td>1.065235</td>\n",
              "      <td>0.489095</td>\n",
              "      <td>-0.143772</td>\n",
              "      <td>0.635558</td>\n",
              "      <td>0.463917</td>\n",
              "      <td>-0.114805</td>\n",
              "      <td>-0.183361</td>\n",
              "      <td>-0.145783</td>\n",
              "      <td>-0.069083</td>\n",
              "      <td>-0.225775</td>\n",
              "      <td>-0.638672</td>\n",
              "      <td>0.101288</td>\n",
              "      <td>-0.339846</td>\n",
              "      <td>0.167170</td>\n",
              "      <td>0.125895</td>\n",
              "      <td>-0.008983</td>\n",
              "      <td>0.014724</td>\n",
              "      <td>-0.342474</td>\n",
              "      <td>0</td>\n",
              "    </tr>\n",
              "    <tr>\n",
              "      <th>2</th>\n",
              "      <td>-1.358354</td>\n",
              "      <td>-1.340163</td>\n",
              "      <td>1.773209</td>\n",
              "      <td>0.379780</td>\n",
              "      <td>-0.503198</td>\n",
              "      <td>1.800499</td>\n",
              "      <td>0.791461</td>\n",
              "      <td>0.247676</td>\n",
              "      <td>-1.514654</td>\n",
              "      <td>0.207643</td>\n",
              "      <td>0.624501</td>\n",
              "      <td>0.066084</td>\n",
              "      <td>0.717293</td>\n",
              "      <td>-0.165946</td>\n",
              "      <td>2.345865</td>\n",
              "      <td>-2.890083</td>\n",
              "      <td>1.109969</td>\n",
              "      <td>-0.121359</td>\n",
              "      <td>-2.261857</td>\n",
              "      <td>0.524980</td>\n",
              "      <td>0.247998</td>\n",
              "      <td>0.771679</td>\n",
              "      <td>0.909412</td>\n",
              "      <td>-0.689281</td>\n",
              "      <td>-0.327642</td>\n",
              "      <td>-0.139097</td>\n",
              "      <td>-0.055353</td>\n",
              "      <td>-0.059752</td>\n",
              "      <td>1.160684</td>\n",
              "      <td>0</td>\n",
              "    </tr>\n",
              "    <tr>\n",
              "      <th>3</th>\n",
              "      <td>-0.966272</td>\n",
              "      <td>-0.185226</td>\n",
              "      <td>1.792993</td>\n",
              "      <td>-0.863291</td>\n",
              "      <td>-0.010309</td>\n",
              "      <td>1.247203</td>\n",
              "      <td>0.237609</td>\n",
              "      <td>0.377436</td>\n",
              "      <td>-1.387024</td>\n",
              "      <td>-0.054952</td>\n",
              "      <td>-0.226487</td>\n",
              "      <td>0.178228</td>\n",
              "      <td>0.507757</td>\n",
              "      <td>-0.287924</td>\n",
              "      <td>-0.631418</td>\n",
              "      <td>-1.059647</td>\n",
              "      <td>-0.684093</td>\n",
              "      <td>1.965775</td>\n",
              "      <td>-1.232622</td>\n",
              "      <td>-0.208038</td>\n",
              "      <td>-0.108300</td>\n",
              "      <td>0.005274</td>\n",
              "      <td>-0.190321</td>\n",
              "      <td>-1.175575</td>\n",
              "      <td>0.647376</td>\n",
              "      <td>-0.221929</td>\n",
              "      <td>0.062723</td>\n",
              "      <td>0.061458</td>\n",
              "      <td>0.140534</td>\n",
              "      <td>0</td>\n",
              "    </tr>\n",
              "    <tr>\n",
              "      <th>4</th>\n",
              "      <td>-1.158233</td>\n",
              "      <td>0.877737</td>\n",
              "      <td>1.548718</td>\n",
              "      <td>0.403034</td>\n",
              "      <td>-0.407193</td>\n",
              "      <td>0.095921</td>\n",
              "      <td>0.592941</td>\n",
              "      <td>-0.270533</td>\n",
              "      <td>0.817739</td>\n",
              "      <td>0.753074</td>\n",
              "      <td>-0.822843</td>\n",
              "      <td>0.538196</td>\n",
              "      <td>1.345852</td>\n",
              "      <td>-1.119670</td>\n",
              "      <td>0.175121</td>\n",
              "      <td>-0.451449</td>\n",
              "      <td>-0.237033</td>\n",
              "      <td>-0.038195</td>\n",
              "      <td>0.803487</td>\n",
              "      <td>0.408542</td>\n",
              "      <td>-0.009431</td>\n",
              "      <td>0.798278</td>\n",
              "      <td>-0.137458</td>\n",
              "      <td>0.141267</td>\n",
              "      <td>-0.206010</td>\n",
              "      <td>0.502292</td>\n",
              "      <td>0.219422</td>\n",
              "      <td>0.215153</td>\n",
              "      <td>-0.073403</td>\n",
              "      <td>0</td>\n",
              "    </tr>\n",
              "  </tbody>\n",
              "</table>\n",
              "</div>"
            ],
            "text/plain": [
              "         v1        v2        v3        v4  ...       v27       v28    amount  target\n",
              "0 -1.359807 -0.072781  2.536347  1.378155  ...  0.133558 -0.021053  0.244964       0\n",
              "1  1.191857  0.266151  0.166480  0.448154  ... -0.008983  0.014724 -0.342474       0\n",
              "2 -1.358354 -1.340163  1.773209  0.379780  ... -0.055353 -0.059752  1.160684       0\n",
              "3 -0.966272 -0.185226  1.792993 -0.863291  ...  0.062723  0.061458  0.140534       0\n",
              "4 -1.158233  0.877737  1.548718  0.403034  ...  0.219422  0.215153 -0.073403       0\n",
              "\n",
              "[5 rows x 30 columns]"
            ]
          },
          "metadata": {
            "tags": []
          },
          "execution_count": 6
        }
      ]
    },
    {
      "cell_type": "markdown",
      "metadata": {
        "id": "BA5tqekq9wvz",
        "colab_type": "text"
      },
      "source": [
        "## Dataset Profiling and Preliminary EDA"
      ]
    },
    {
      "cell_type": "code",
      "metadata": {
        "id": "2dS95AYBcUzz",
        "colab_type": "code",
        "colab": {}
      },
      "source": [
        "# report = pandas_profiling.ProfileReport(df)\n",
        "# report"
      ],
      "execution_count": 0,
      "outputs": []
    },
    {
      "cell_type": "markdown",
      "metadata": {
        "id": "kBEBOsUuqHRS",
        "colab_type": "text"
      },
      "source": [
        "## Preprocessing"
      ]
    },
    {
      "cell_type": "code",
      "metadata": {
        "id": "yJhhKLyOAr7t",
        "colab_type": "code",
        "colab": {}
      },
      "source": [
        "# FILENAME = \"/content/drive/My Drive/problem_set_challenges_for_job_postings/cc.csv\"\n",
        "# df = preprocess(dataframe=df, cols_to_drop=[\"column_a\", \"time\"], cols_to_remap=\"target\", cols_scale=\"amount\" )\n",
        "# df.to_csv(\"scaled_and_processed_cc.csv\")"
      ],
      "execution_count": 0,
      "outputs": []
    },
    {
      "cell_type": "markdown",
      "metadata": {
        "id": "8U4fM-f71n9y",
        "colab_type": "text"
      },
      "source": [
        "## More EDA"
      ]
    },
    {
      "cell_type": "code",
      "metadata": {
        "id": "Dscc20_t96HT",
        "colab_type": "code",
        "colab": {}
      },
      "source": [
        "fig, ax = plt.subplots(figsize=(10, 10))\n",
        "plt.xlim(df['amount'].min(), df['amount'].std()*4)\n",
        "sns.distplot(df['amount'])\n",
        "plt.show()"
      ],
      "execution_count": 0,
      "outputs": []
    },
    {
      "cell_type": "code",
      "metadata": {
        "id": "FLnO6GtfBj6H",
        "colab_type": "code",
        "colab": {}
      },
      "source": [
        "fig, ax = plt.subplots(figsize=(15, 15))\n",
        "corr = df.corr()\n",
        "sns.heatmap(corr, annot=False)\n",
        "plt.show()"
      ],
      "execution_count": 0,
      "outputs": []
    },
    {
      "cell_type": "markdown",
      "metadata": {
        "id": "4xyM2tjwCSuR",
        "colab_type": "text"
      },
      "source": [
        "It's hard to tell what I am looking at from this heatmap, save for the fact that the amount of money withdrawn and the target have a higher degree correlation between the first 10-ish features. \n",
        "\n",
        "Feature 2 is significantly negatively correlated to the amount of money draw. We don't have the feature names, but we can probably deduce that Feature 2 might represent a deposit into the account."
      ]
    },
    {
      "cell_type": "markdown",
      "metadata": {
        "id": "4ec-zC01EGjG",
        "colab_type": "text"
      },
      "source": [
        "Is feature 2 normaly distributed? Lets plot and do statistical checks"
      ]
    },
    {
      "cell_type": "code",
      "metadata": {
        "id": "o7of-KyuDpOw",
        "colab_type": "code",
        "outputId": "1773eebd-ce14-4ad7-87ed-874341cf08ec",
        "colab": {
          "base_uri": "https://localhost:8080/",
          "height": 35
        }
      },
      "source": [
        "fig, ax = plt.subplots(figsize=(10, 10))\n",
        "plt.xlim(df.v2.std()*-4, df.v2.std()*4)\n",
        "sns.distplot(df.v2)"
      ],
      "execution_count": 0,
      "outputs": [
        {
          "output_type": "execute_result",
          "data": {
            "text/plain": [
              "<matplotlib.axes._subplots.AxesSubplot at 0x7fdced013128>"
            ]
          },
          "metadata": {
            "tags": []
          },
          "execution_count": 11
        }
      ]
    },
    {
      "cell_type": "markdown",
      "metadata": {
        "id": "mkc9aiuGpvF2",
        "colab_type": "text"
      },
      "source": [
        "### Test for normality of distribution\n",
        "\n",
        "V2 is a feature of particular interest after what we see from the heatmap. Let's test the normality of its distribution to see what ideas we can have about this particular feature."
      ]
    },
    {
      "cell_type": "code",
      "metadata": {
        "id": "JpYdq4LLENLr",
        "colab_type": "code",
        "outputId": "da856155-bda6-487a-d007-07da7717d2d6",
        "colab": {
          "base_uri": "https://localhost:8080/",
          "height": 35
        }
      },
      "source": [
        "normality_of_distribution_test(df.v2)"
      ],
      "execution_count": 0,
      "outputs": [
        {
          "output_type": "stream",
          "text": [
            "This feature is normally distributed about the mean\n"
          ],
          "name": "stdout"
        }
      ]
    },
    {
      "cell_type": "markdown",
      "metadata": {
        "id": "yzBSuF5O_0aG",
        "colab_type": "text"
      },
      "source": [
        "## Split Data into Features and Target"
      ]
    },
    {
      "cell_type": "code",
      "metadata": {
        "id": "cfYJ2sMc_8CI",
        "colab_type": "code",
        "colab": {}
      },
      "source": [
        "X, y = split_data_into_feature_and_target(df)"
      ],
      "execution_count": 0,
      "outputs": []
    },
    {
      "cell_type": "markdown",
      "metadata": {
        "id": "mKC6kwhj9xMl",
        "colab_type": "text"
      },
      "source": [
        "## Unsupervised Modeling\n",
        "\n",
        "We use PCA for dimensionality reduction and feature extraction for our supervised learning step"
      ]
    },
    {
      "cell_type": "markdown",
      "metadata": {
        "id": "ntYZmIu8NVoN",
        "colab_type": "text"
      },
      "source": [
        "### Dimensionality Reduction with PCA"
      ]
    },
    {
      "cell_type": "code",
      "metadata": {
        "id": "_Ttwiy3lNyN6",
        "colab_type": "code",
        "colab": {}
      },
      "source": [
        "plot_pca(X, y, [9])"
      ],
      "execution_count": 0,
      "outputs": []
    },
    {
      "cell_type": "code",
      "metadata": {
        "id": "VyZoCUMWZCTc",
        "colab_type": "code",
        "outputId": "cb7cc3b3-fa84-4f59-9b3a-16b2c41744aa",
        "colab": {
          "base_uri": "https://localhost:8080/",
          "height": 202
        }
      },
      "source": [
        "principalDf = extract_pc_into_df(df, n_pca_components=11)\n",
        "principalDf.head()"
      ],
      "execution_count": 0,
      "outputs": [
        {
          "output_type": "execute_result",
          "data": {
            "text/html": [
              "<div>\n",
              "<style scoped>\n",
              "    .dataframe tbody tr th:only-of-type {\n",
              "        vertical-align: middle;\n",
              "    }\n",
              "\n",
              "    .dataframe tbody tr th {\n",
              "        vertical-align: top;\n",
              "    }\n",
              "\n",
              "    .dataframe thead th {\n",
              "        text-align: right;\n",
              "    }\n",
              "</style>\n",
              "<table border=\"1\" class=\"dataframe\">\n",
              "  <thead>\n",
              "    <tr style=\"text-align: right;\">\n",
              "      <th></th>\n",
              "      <th>pc1</th>\n",
              "      <th>pc2</th>\n",
              "      <th>pc3</th>\n",
              "      <th>pc4</th>\n",
              "      <th>pc5</th>\n",
              "      <th>pc6</th>\n",
              "      <th>pc7</th>\n",
              "      <th>pc8</th>\n",
              "      <th>pc9</th>\n",
              "      <th>pc10</th>\n",
              "      <th>pc11</th>\n",
              "      <th>target</th>\n",
              "    </tr>\n",
              "  </thead>\n",
              "  <tbody>\n",
              "    <tr>\n",
              "      <th>0</th>\n",
              "      <td>1.322401</td>\n",
              "      <td>-0.388902</td>\n",
              "      <td>-2.209446</td>\n",
              "      <td>1.727114</td>\n",
              "      <td>-0.837196</td>\n",
              "      <td>0.368741</td>\n",
              "      <td>0.073220</td>\n",
              "      <td>-0.132561</td>\n",
              "      <td>0.360428</td>\n",
              "      <td>-0.060624</td>\n",
              "      <td>-0.529071</td>\n",
              "      <td>0</td>\n",
              "    </tr>\n",
              "    <tr>\n",
              "      <th>1</th>\n",
              "      <td>-1.269736</td>\n",
              "      <td>-0.079240</td>\n",
              "      <td>-0.071238</td>\n",
              "      <td>0.244765</td>\n",
              "      <td>-0.407077</td>\n",
              "      <td>-0.065674</td>\n",
              "      <td>-0.034935</td>\n",
              "      <td>-0.075120</td>\n",
              "      <td>-0.253738</td>\n",
              "      <td>0.135053</td>\n",
              "      <td>1.593863</td>\n",
              "      <td>0</td>\n",
              "    </tr>\n",
              "    <tr>\n",
              "      <th>2</th>\n",
              "      <td>1.834880</td>\n",
              "      <td>1.341730</td>\n",
              "      <td>-1.640509</td>\n",
              "      <td>1.415124</td>\n",
              "      <td>0.197907</td>\n",
              "      <td>1.618024</td>\n",
              "      <td>0.184344</td>\n",
              "      <td>-0.377856</td>\n",
              "      <td>-1.417148</td>\n",
              "      <td>-0.551126</td>\n",
              "      <td>0.648942</td>\n",
              "      <td>0</td>\n",
              "    </tr>\n",
              "    <tr>\n",
              "      <th>3</th>\n",
              "      <td>0.946921</td>\n",
              "      <td>-0.208061</td>\n",
              "      <td>-1.670090</td>\n",
              "      <td>0.410543</td>\n",
              "      <td>1.014579</td>\n",
              "      <td>1.278502</td>\n",
              "      <td>0.004763</td>\n",
              "      <td>-0.415563</td>\n",
              "      <td>-1.355535</td>\n",
              "      <td>-0.141167</td>\n",
              "      <td>-0.248315</td>\n",
              "      <td>0</td>\n",
              "    </tr>\n",
              "    <tr>\n",
              "      <th>4</th>\n",
              "      <td>0.937218</td>\n",
              "      <td>-1.140723</td>\n",
              "      <td>-1.089430</td>\n",
              "      <td>1.233821</td>\n",
              "      <td>0.033563</td>\n",
              "      <td>0.098605</td>\n",
              "      <td>0.523948</td>\n",
              "      <td>0.191991</td>\n",
              "      <td>0.903166</td>\n",
              "      <td>-0.693751</td>\n",
              "      <td>-0.755650</td>\n",
              "      <td>0</td>\n",
              "    </tr>\n",
              "  </tbody>\n",
              "</table>\n",
              "</div>"
            ],
            "text/plain": [
              "        pc1       pc2       pc3       pc4  ...       pc9      pc10      pc11  target\n",
              "0  1.322401 -0.388902 -2.209446  1.727114  ...  0.360428 -0.060624 -0.529071       0\n",
              "1 -1.269736 -0.079240 -0.071238  0.244765  ... -0.253738  0.135053  1.593863       0\n",
              "2  1.834880  1.341730 -1.640509  1.415124  ... -1.417148 -0.551126  0.648942       0\n",
              "3  0.946921 -0.208061 -1.670090  0.410543  ... -1.355535 -0.141167 -0.248315       0\n",
              "4  0.937218 -1.140723 -1.089430  1.233821  ...  0.903166 -0.693751 -0.755650       0\n",
              "\n",
              "[5 rows x 12 columns]"
            ]
          },
          "metadata": {
            "tags": []
          },
          "execution_count": 16
        }
      ]
    },
    {
      "cell_type": "markdown",
      "metadata": {
        "id": "k2pGySib4uEL",
        "colab_type": "text"
      },
      "source": [
        "## Split Data"
      ]
    },
    {
      "cell_type": "code",
      "metadata": {
        "id": "Ts5Uh3EYkT8d",
        "colab_type": "code",
        "colab": {}
      },
      "source": [
        "X, y = split_data_into_feature_and_target(principalDf)\n",
        "\n",
        "X_train, X_test, y_train, y_test = train_test_split(X, y, test_size=0.4, random_state=42)"
      ],
      "execution_count": 0,
      "outputs": []
    },
    {
      "cell_type": "markdown",
      "metadata": {
        "id": "RI9YgOAkk4q7",
        "colab_type": "text"
      },
      "source": [
        "## Outlier Detection"
      ]
    },
    {
      "cell_type": "code",
      "metadata": {
        "id": "7_rBBY3xk7qS",
        "colab_type": "code",
        "outputId": "82e86fd1-687f-41c4-c8ed-f0c2a9cf3c01",
        "colab": {
          "base_uri": "https://localhost:8080/",
          "height": 52
        }
      },
      "source": [
        "outlier_scores, raw_outlier_scores = get_outlier_scores(X_train, X_test)\n",
        "outlier_scores"
      ],
      "execution_count": 0,
      "outputs": [
        {
          "output_type": "execute_result",
          "data": {
            "text/plain": [
              "array([8.09596566, 1.50634787, 0.29899099, ..., 0.76172016, 0.97642111,\n",
              "       0.19545223])"
            ]
          },
          "metadata": {
            "tags": []
          },
          "execution_count": 21
        }
      ]
    },
    {
      "cell_type": "markdown",
      "metadata": {
        "id": "MTOzJu5YrK3o",
        "colab_type": "text"
      },
      "source": [
        "### Use XGDOutlierDetection Supervised Outlier detection algorithm"
      ]
    },
    {
      "cell_type": "code",
      "metadata": {
        "id": "GbTM0Z_qrF9e",
        "colab_type": "code",
        "outputId": "7f0be643-de00-4750-ebbf-9e82cbb826eb",
        "colab": {
          "base_uri": "https://localhost:8080/",
          "height": 322
        }
      },
      "source": [
        "from pyod.models.xgbod import XGBOD\n",
        "from pyod.models.pca import PCA\n",
        "\n",
        "clf = XGBOD(estimator_list=[PCA], standardization_flag_list=None, max_depth=3, \n",
        "            learning_rate=0.1, n_estimators=100, silent=True, objective='binary:logistic', \n",
        "            booster='gbtree', n_jobs=1, nthread=None, gamma=0, min_child_weight=1, max_delta_step=0, \n",
        "            subsample=1, colsample_bytree=1, colsample_bylevel=1, reg_alpha=0, \n",
        "            reg_lambda=1, scale_pos_weight=1, base_score=0.5, random_state=0, missing=None)\n",
        "\n",
        "y_scores = clf.fit(X_train, y_train)"
      ],
      "execution_count": 0,
      "outputs": [
        {
          "output_type": "error",
          "ename": "TypeError",
          "evalue": "ignored",
          "traceback": [
            "\u001b[0;31m---------------------------------------------------------------------------\u001b[0m",
            "\u001b[0;31mTypeError\u001b[0m                                 Traceback (most recent call last)",
            "\u001b[0;32m<ipython-input-82-9b6095f6422e>\u001b[0m in \u001b[0;36m<module>\u001b[0;34m()\u001b[0m\n\u001b[1;32m      8\u001b[0m             reg_lambda=1, scale_pos_weight=1, base_score=0.5, random_state=0, missing=None)\n\u001b[1;32m      9\u001b[0m \u001b[0;34m\u001b[0m\u001b[0m\n\u001b[0;32m---> 10\u001b[0;31m \u001b[0my_scores\u001b[0m \u001b[0;34m=\u001b[0m \u001b[0mclf\u001b[0m\u001b[0;34m.\u001b[0m\u001b[0mfit\u001b[0m\u001b[0;34m(\u001b[0m\u001b[0mX_train\u001b[0m\u001b[0;34m,\u001b[0m \u001b[0my_train\u001b[0m\u001b[0;34m)\u001b[0m\u001b[0;34m\u001b[0m\u001b[0;34m\u001b[0m\u001b[0m\n\u001b[0m",
            "\u001b[0;32m/usr/local/lib/python3.6/dist-packages/pyod/models/xgbod.py\u001b[0m in \u001b[0;36mfit\u001b[0;34m(self, X, y)\u001b[0m\n\u001b[1;32m    303\u001b[0m         \u001b[0;32mfor\u001b[0m \u001b[0mind\u001b[0m\u001b[0;34m,\u001b[0m \u001b[0mestimator\u001b[0m \u001b[0;32min\u001b[0m \u001b[0menumerate\u001b[0m\u001b[0;34m(\u001b[0m\u001b[0mself\u001b[0m\u001b[0;34m.\u001b[0m\u001b[0mestimator_list\u001b[0m\u001b[0;34m)\u001b[0m\u001b[0;34m:\u001b[0m\u001b[0;34m\u001b[0m\u001b[0;34m\u001b[0m\u001b[0m\n\u001b[1;32m    304\u001b[0m             \u001b[0;32mif\u001b[0m \u001b[0mself\u001b[0m\u001b[0;34m.\u001b[0m\u001b[0mstandardization_flag_list\u001b[0m\u001b[0;34m[\u001b[0m\u001b[0mind\u001b[0m\u001b[0;34m]\u001b[0m\u001b[0;34m:\u001b[0m\u001b[0;34m\u001b[0m\u001b[0;34m\u001b[0m\u001b[0m\n\u001b[0;32m--> 305\u001b[0;31m                 \u001b[0mestimator\u001b[0m\u001b[0;34m.\u001b[0m\u001b[0mfit\u001b[0m\u001b[0;34m(\u001b[0m\u001b[0mX_norm\u001b[0m\u001b[0;34m)\u001b[0m\u001b[0;34m\u001b[0m\u001b[0;34m\u001b[0m\u001b[0m\n\u001b[0m\u001b[1;32m    306\u001b[0m                 \u001b[0mself\u001b[0m\u001b[0;34m.\u001b[0m\u001b[0mX_train_add_\u001b[0m\u001b[0;34m[\u001b[0m\u001b[0;34m:\u001b[0m\u001b[0;34m,\u001b[0m \u001b[0mind\u001b[0m\u001b[0;34m]\u001b[0m \u001b[0;34m=\u001b[0m \u001b[0mestimator\u001b[0m\u001b[0;34m.\u001b[0m\u001b[0mdecision_scores_\u001b[0m\u001b[0;34m\u001b[0m\u001b[0;34m\u001b[0m\u001b[0m\n\u001b[1;32m    307\u001b[0m \u001b[0;34m\u001b[0m\u001b[0m\n",
            "\u001b[0;31mTypeError\u001b[0m: fit() missing 1 required positional argument: 'X'"
          ]
        }
      ]
    },
    {
      "cell_type": "code",
      "metadata": {
        "id": "0TBYfPhKFSOx",
        "colab_type": "code",
        "outputId": "a4fb7f69-0008-4ec2-972e-398c4d64b306",
        "colab": {
          "base_uri": "https://localhost:8080/",
          "height": 166
        }
      },
      "source": [
        "clf.decision_scores_"
      ],
      "execution_count": 0,
      "outputs": [
        {
          "output_type": "error",
          "ename": "AttributeError",
          "evalue": "ignored",
          "traceback": [
            "\u001b[0;31m---------------------------------------------------------------------------\u001b[0m",
            "\u001b[0;31mAttributeError\u001b[0m                            Traceback (most recent call last)",
            "\u001b[0;32m<ipython-input-81-cadbaf75f271>\u001b[0m in \u001b[0;36m<module>\u001b[0;34m()\u001b[0m\n\u001b[0;32m----> 1\u001b[0;31m \u001b[0mclf\u001b[0m\u001b[0;34m.\u001b[0m\u001b[0mdecision_scores_\u001b[0m\u001b[0;34m\u001b[0m\u001b[0;34m\u001b[0m\u001b[0m\n\u001b[0m",
            "\u001b[0;31mAttributeError\u001b[0m: 'XGBOD' object has no attribute 'decision_scores_'"
          ]
        }
      ]
    },
    {
      "cell_type": "markdown",
      "metadata": {
        "id": "Jd0OfxS3XmZK",
        "colab_type": "text"
      },
      "source": [
        "## Supervised Learning"
      ]
    },
    {
      "cell_type": "markdown",
      "metadata": {
        "id": "aLFvhpyG-soN",
        "colab_type": "text"
      },
      "source": [
        "## XGBoost\n",
        "\n",
        "Can classify, feature selection, and feature importance"
      ]
    },
    {
      "cell_type": "code",
      "metadata": {
        "id": "WHOWWjels3D-",
        "colab_type": "code",
        "colab": {}
      },
      "source": [
        "import xgboost as xgb\n",
        "\n",
        "train_data = xgb.DMatrix(X_train, label=y_train)\n",
        "params = {'max_depth': 5}\n",
        "bst = xgb.train(params, train_data, num_boost_round=1)"
      ],
      "execution_count": 0,
      "outputs": []
    },
    {
      "cell_type": "code",
      "metadata": {
        "id": "rP5r4OsXs9OY",
        "colab_type": "code",
        "outputId": "1556fb67-f421-4f6f-89d5-50eeac26f05b",
        "colab": {
          "base_uri": "https://localhost:8080/",
          "height": 104
        }
      },
      "source": [
        "for importance_type in ('weight', 'gain', 'cover', 'total_gain', 'total_cover'):\n",
        "    print('%s: ' % importance_type, bst.get_score(importance_type=importance_type))"
      ],
      "execution_count": 0,
      "outputs": [
        {
          "output_type": "stream",
          "text": [
            "weight:  {'f9': 6, 'f10': 3, 'f8': 2, 'f4': 3, 'f5': 1, 'f6': 2, 'f0': 3}\n",
            "gain:  {'f9': 23.2203260225, 'f10': 13.456764233333336, 'f8': 1.41529751, 'f4': 1.9947334916666666, 'f5': 1.22209167, 'f6': 3.573228595, 'f0': 1.0808457343333335}\n",
            "cover:  {'f9': 85332.83333333333, 'f10': 57033.333333333336, 'f8': 84996.0, 'f4': 209.0, 'f5': 196.0, 'f6': 62.0, 'f0': 61.333333333333336}\n",
            "total_gain:  {'f9': 139.321956135, 'f10': 40.37029270000001, 'f8': 2.83059502, 'f4': 5.984200475, 'f5': 1.22209167, 'f6': 7.14645719, 'f0': 3.2425372030000004}\n",
            "total_cover:  {'f9': 511997.0, 'f10': 171100.0, 'f8': 169992.0, 'f4': 627.0, 'f5': 196.0, 'f6': 124.0, 'f0': 184.0}\n"
          ],
          "name": "stdout"
        }
      ]
    },
    {
      "cell_type": "code",
      "metadata": {
        "id": "357ZMs3jtETL",
        "colab_type": "code",
        "outputId": "045cdb7f-e6b4-42dc-91bf-33de4a598bdd",
        "colab": {
          "base_uri": "https://localhost:8080/",
          "height": 680
        }
      },
      "source": [
        "xgb.to_graphviz(bst, num_trees=0)"
      ],
      "execution_count": 0,
      "outputs": [
        {
          "output_type": "execute_result",
          "data": {
            "text/plain": [
              "<graphviz.dot.Digraph at 0x7fdcdb5f2668>"
            ],
            "image/svg+xml": "<?xml version=\"1.0\" encoding=\"UTF-8\" standalone=\"no\"?>\n<!DOCTYPE svg PUBLIC \"-//W3C//DTD SVG 1.1//EN\"\n \"http://www.w3.org/Graphics/SVG/1.1/DTD/svg11.dtd\">\n<!-- Generated by graphviz version 2.40.1 (20161225.0304)\n -->\n<!-- Title: %3 Pages: 1 -->\n<svg width=\"2949pt\" height=\"479pt\"\n viewBox=\"0.00 0.00 2949.09 479.00\" xmlns=\"http://www.w3.org/2000/svg\" xmlns:xlink=\"http://www.w3.org/1999/xlink\">\n<g id=\"graph0\" class=\"graph\" transform=\"scale(1 1) rotate(0) translate(4 475)\">\n<title>%3</title>\n<polygon fill=\"#ffffff\" stroke=\"transparent\" points=\"-4,4 -4,-475 2945.0865,-475 2945.0865,4 -4,4\"/>\n<!-- 0 -->\n<g id=\"node1\" class=\"node\">\n<title>0</title>\n<ellipse fill=\"none\" stroke=\"#000000\" cx=\"1945.1926\" cy=\"-453\" rx=\"70.3881\" ry=\"18\"/>\n<text text-anchor=\"middle\" x=\"1945.1926\" y=\"-449.3\" font-family=\"Times,serif\" font-size=\"14.00\" fill=\"#000000\">f9&lt;4.28046131</text>\n</g>\n<!-- 1 -->\n<g id=\"node2\" class=\"node\">\n<title>1</title>\n<ellipse fill=\"none\" stroke=\"#000000\" cx=\"1751.1926\" cy=\"-366\" rx=\"75.2868\" ry=\"18\"/>\n<text text-anchor=\"middle\" x=\"1751.1926\" y=\"-362.3\" font-family=\"Times,serif\" font-size=\"14.00\" fill=\"#000000\">f10&lt;3.25273633</text>\n</g>\n<!-- 0&#45;&gt;1 -->\n<g id=\"edge1\" class=\"edge\">\n<title>0&#45;&gt;1</title>\n<path fill=\"none\" stroke=\"#0000ff\" d=\"M1910.0607,-437.245C1878.1225,-422.9222 1830.8262,-401.712 1796.1434,-386.1583\"/>\n<polygon fill=\"#0000ff\" stroke=\"#0000ff\" points=\"1797.2755,-382.8302 1786.7188,-381.9318 1794.4111,-389.2174 1797.2755,-382.8302\"/>\n<text text-anchor=\"middle\" x=\"1895.6926\" y=\"-405.8\" font-family=\"Times,serif\" font-size=\"14.00\" fill=\"#000000\">yes, missing</text>\n</g>\n<!-- 2 -->\n<g id=\"node3\" class=\"node\">\n<title>2</title>\n<ellipse fill=\"none\" stroke=\"#000000\" cx=\"2222.1926\" cy=\"-366\" rx=\"70.3881\" ry=\"18\"/>\n<text text-anchor=\"middle\" x=\"2222.1926\" y=\"-362.3\" font-family=\"Times,serif\" font-size=\"14.00\" fill=\"#000000\">f10&lt;1.5985558</text>\n</g>\n<!-- 0&#45;&gt;2 -->\n<g id=\"edge2\" class=\"edge\">\n<title>0&#45;&gt;2</title>\n<path fill=\"none\" stroke=\"#ff0000\" d=\"M1989.6975,-439.0219C2038.2589,-423.7698 2116.0109,-399.3495 2168.068,-382.9994\"/>\n<polygon fill=\"#ff0000\" stroke=\"#ff0000\" points=\"2169.3065,-386.2791 2177.7982,-379.9434 2167.2089,-379.6007 2169.3065,-386.2791\"/>\n<text text-anchor=\"middle\" x=\"2109.1926\" y=\"-405.8\" font-family=\"Times,serif\" font-size=\"14.00\" fill=\"#000000\">no</text>\n</g>\n<!-- 3 -->\n<g id=\"node4\" class=\"node\">\n<title>3</title>\n<ellipse fill=\"none\" stroke=\"#000000\" cx=\"1110.1926\" cy=\"-279\" rx=\"69.5877\" ry=\"18\"/>\n<text text-anchor=\"middle\" x=\"1110.1926\" y=\"-275.3\" font-family=\"Times,serif\" font-size=\"14.00\" fill=\"#000000\">f9&lt;3.00711632</text>\n</g>\n<!-- 1&#45;&gt;3 -->\n<g id=\"edge3\" class=\"edge\">\n<title>1&#45;&gt;3</title>\n<path fill=\"none\" stroke=\"#0000ff\" d=\"M1685.6067,-357.0983C1564.7231,-340.6913 1307.6867,-305.805 1182.1727,-288.7695\"/>\n<polygon fill=\"#0000ff\" stroke=\"#0000ff\" points=\"1182.2848,-285.2527 1171.9049,-287.3759 1181.3433,-292.1891 1182.2848,-285.2527\"/>\n<text text-anchor=\"middle\" x=\"1504.6926\" y=\"-318.8\" font-family=\"Times,serif\" font-size=\"14.00\" fill=\"#000000\">yes, missing</text>\n</g>\n<!-- 4 -->\n<g id=\"node5\" class=\"node\">\n<title>4</title>\n<ellipse fill=\"none\" stroke=\"#000000\" cx=\"1751.1926\" cy=\"-279\" rx=\"70.3881\" ry=\"18\"/>\n<text text-anchor=\"middle\" x=\"1751.1926\" y=\"-275.3\" font-family=\"Times,serif\" font-size=\"14.00\" fill=\"#000000\">f9&lt;1.99150801</text>\n</g>\n<!-- 1&#45;&gt;4 -->\n<g id=\"edge4\" class=\"edge\">\n<title>1&#45;&gt;4</title>\n<path fill=\"none\" stroke=\"#ff0000\" d=\"M1751.1926,-347.9735C1751.1926,-336.1918 1751.1926,-320.5607 1751.1926,-307.1581\"/>\n<polygon fill=\"#ff0000\" stroke=\"#ff0000\" points=\"1754.6927,-307.0033 1751.1926,-297.0034 1747.6927,-307.0034 1754.6927,-307.0033\"/>\n<text text-anchor=\"middle\" x=\"1759.1926\" y=\"-318.8\" font-family=\"Times,serif\" font-size=\"14.00\" fill=\"#000000\">no</text>\n</g>\n<!-- 5 -->\n<g id=\"node32\" class=\"node\">\n<title>5</title>\n<ellipse fill=\"none\" stroke=\"#000000\" cx=\"2222.1926\" cy=\"-279\" rx=\"83.3857\" ry=\"18\"/>\n<text text-anchor=\"middle\" x=\"2222.1926\" y=\"-275.3\" font-family=\"Times,serif\" font-size=\"14.00\" fill=\"#000000\">leaf=&#45;0.145588234</text>\n</g>\n<!-- 2&#45;&gt;5 -->\n<g id=\"edge31\" class=\"edge\">\n<title>2&#45;&gt;5</title>\n<path fill=\"none\" stroke=\"#0000ff\" d=\"M2222.1926,-347.9735C2222.1926,-336.1918 2222.1926,-320.5607 2222.1926,-307.1581\"/>\n<polygon fill=\"#0000ff\" stroke=\"#0000ff\" points=\"2225.6927,-307.0033 2222.1926,-297.0034 2218.6927,-307.0034 2225.6927,-307.0033\"/>\n<text text-anchor=\"middle\" x=\"2257.6926\" y=\"-318.8\" font-family=\"Times,serif\" font-size=\"14.00\" fill=\"#000000\">yes, missing</text>\n</g>\n<!-- 6 -->\n<g id=\"node33\" class=\"node\">\n<title>6</title>\n<ellipse fill=\"none\" stroke=\"#000000\" cx=\"2434.1926\" cy=\"-279\" rx=\"73.387\" ry=\"18\"/>\n<text text-anchor=\"middle\" x=\"2434.1926\" y=\"-275.3\" font-family=\"Times,serif\" font-size=\"14.00\" fill=\"#000000\">f8&lt;&#45;5.09626865</text>\n</g>\n<!-- 2&#45;&gt;6 -->\n<g id=\"edge32\" class=\"edge\">\n<title>2&#45;&gt;6</title>\n<path fill=\"none\" stroke=\"#ff0000\" d=\"M2259.606,-350.6464C2295.1107,-336.0761 2348.6066,-314.1226 2387.0193,-298.3588\"/>\n<polygon fill=\"#ff0000\" stroke=\"#ff0000\" points=\"2388.5177,-301.5273 2396.4402,-294.4927 2385.8601,-295.0514 2388.5177,-301.5273\"/>\n<text text-anchor=\"middle\" x=\"2349.1926\" y=\"-318.8\" font-family=\"Times,serif\" font-size=\"14.00\" fill=\"#000000\">no</text>\n</g>\n<!-- 7 -->\n<g id=\"node6\" class=\"node\">\n<title>7</title>\n<ellipse fill=\"none\" stroke=\"#000000\" cx=\"552.1926\" cy=\"-192\" rx=\"65.7887\" ry=\"18\"/>\n<text text-anchor=\"middle\" x=\"552.1926\" y=\"-188.3\" font-family=\"Times,serif\" font-size=\"14.00\" fill=\"#000000\">f9&lt;2.5035634</text>\n</g>\n<!-- 3&#45;&gt;7 -->\n<g id=\"edge5\" class=\"edge\">\n<title>3&#45;&gt;7</title>\n<path fill=\"none\" stroke=\"#0000ff\" d=\"M1050.4768,-269.6895C945.6473,-253.3451 729.2421,-219.6045 619.3643,-202.473\"/>\n<polygon fill=\"#0000ff\" stroke=\"#0000ff\" points=\"619.8115,-199.0005 609.3917,-200.9181 618.7331,-205.917 619.8115,-199.0005\"/>\n<text text-anchor=\"middle\" x=\"900.6926\" y=\"-231.8\" font-family=\"Times,serif\" font-size=\"14.00\" fill=\"#000000\">yes, missing</text>\n</g>\n<!-- 8 -->\n<g id=\"node7\" class=\"node\">\n<title>8</title>\n<ellipse fill=\"none\" stroke=\"#000000\" cx=\"1110.1926\" cy=\"-192\" rx=\"75.2868\" ry=\"18\"/>\n<text text-anchor=\"middle\" x=\"1110.1926\" y=\"-188.3\" font-family=\"Times,serif\" font-size=\"14.00\" fill=\"#000000\">f10&lt;1.88647234</text>\n</g>\n<!-- 3&#45;&gt;8 -->\n<g id=\"edge6\" class=\"edge\">\n<title>3&#45;&gt;8</title>\n<path fill=\"none\" stroke=\"#ff0000\" d=\"M1110.1926,-260.9735C1110.1926,-249.1918 1110.1926,-233.5607 1110.1926,-220.1581\"/>\n<polygon fill=\"#ff0000\" stroke=\"#ff0000\" points=\"1113.6927,-220.0033 1110.1926,-210.0034 1106.6927,-220.0034 1113.6927,-220.0033\"/>\n<text text-anchor=\"middle\" x=\"1118.1926\" y=\"-231.8\" font-family=\"Times,serif\" font-size=\"14.00\" fill=\"#000000\">no</text>\n</g>\n<!-- 9 -->\n<g id=\"node20\" class=\"node\">\n<title>9</title>\n<ellipse fill=\"none\" stroke=\"#000000\" cx=\"1689.1926\" cy=\"-192\" rx=\"73.387\" ry=\"18\"/>\n<text text-anchor=\"middle\" x=\"1689.1926\" y=\"-188.3\" font-family=\"Times,serif\" font-size=\"14.00\" fill=\"#000000\">f6&lt;&#45;1.98968399</text>\n</g>\n<!-- 4&#45;&gt;9 -->\n<g id=\"edge19\" class=\"edge\">\n<title>4&#45;&gt;9</title>\n<path fill=\"none\" stroke=\"#0000ff\" d=\"M1738.3462,-260.9735C1729.5343,-248.6085 1717.7009,-232.0036 1707.853,-218.1847\"/>\n<polygon fill=\"#0000ff\" stroke=\"#0000ff\" points=\"1710.6765,-216.1158 1702.0226,-210.0034 1704.9759,-220.1783 1710.6765,-216.1158\"/>\n<text text-anchor=\"middle\" x=\"1759.6926\" y=\"-231.8\" font-family=\"Times,serif\" font-size=\"14.00\" fill=\"#000000\">yes, missing</text>\n</g>\n<!-- 10 -->\n<g id=\"node21\" class=\"node\">\n<title>10</title>\n<ellipse fill=\"none\" stroke=\"#000000\" cx=\"1957.1926\" cy=\"-192\" rx=\"77.1866\" ry=\"18\"/>\n<text text-anchor=\"middle\" x=\"1957.1926\" y=\"-188.3\" font-family=\"Times,serif\" font-size=\"14.00\" fill=\"#000000\">f4&lt;&#45;0.767711401</text>\n</g>\n<!-- 4&#45;&gt;10 -->\n<g id=\"edge20\" class=\"edge\">\n<title>4&#45;&gt;10</title>\n<path fill=\"none\" stroke=\"#ff0000\" d=\"M1788.0213,-263.4461C1822.1227,-249.0441 1873.0059,-227.5546 1910.059,-211.9059\"/>\n<polygon fill=\"#ff0000\" stroke=\"#ff0000\" points=\"1911.7888,-214.9748 1919.6392,-207.8599 1909.0654,-208.5263 1911.7888,-214.9748\"/>\n<text text-anchor=\"middle\" x=\"1875.1926\" y=\"-231.8\" font-family=\"Times,serif\" font-size=\"14.00\" fill=\"#000000\">no</text>\n</g>\n<!-- 13 -->\n<g id=\"node8\" class=\"node\">\n<title>13</title>\n<ellipse fill=\"none\" stroke=\"#000000\" cx=\"267.1926\" cy=\"-105\" rx=\"73.387\" ry=\"18\"/>\n<text text-anchor=\"middle\" x=\"267.1926\" y=\"-101.3\" font-family=\"Times,serif\" font-size=\"14.00\" fill=\"#000000\">f8&lt;&#45;3.37847042</text>\n</g>\n<!-- 7&#45;&gt;13 -->\n<g id=\"edge7\" class=\"edge\">\n<title>7&#45;&gt;13</title>\n<path fill=\"none\" stroke=\"#0000ff\" d=\"M508.286,-178.5969C458.6022,-163.4303 377.5551,-138.6896 323.3171,-122.1327\"/>\n<polygon fill=\"#0000ff\" stroke=\"#0000ff\" points=\"324.1015,-118.7128 313.5153,-119.1406 322.0577,-125.4078 324.1015,-118.7128\"/>\n<text text-anchor=\"middle\" x=\"462.6926\" y=\"-144.8\" font-family=\"Times,serif\" font-size=\"14.00\" fill=\"#000000\">yes, missing</text>\n</g>\n<!-- 14 -->\n<g id=\"node9\" class=\"node\">\n<title>14</title>\n<ellipse fill=\"none\" stroke=\"#000000\" cx=\"552.1926\" cy=\"-105\" rx=\"73.387\" ry=\"18\"/>\n<text text-anchor=\"middle\" x=\"552.1926\" y=\"-101.3\" font-family=\"Times,serif\" font-size=\"14.00\" fill=\"#000000\">f4&lt;&#45;1.51001906</text>\n</g>\n<!-- 7&#45;&gt;14 -->\n<g id=\"edge8\" class=\"edge\">\n<title>7&#45;&gt;14</title>\n<path fill=\"none\" stroke=\"#ff0000\" d=\"M552.1926,-173.9735C552.1926,-162.1918 552.1926,-146.5607 552.1926,-133.1581\"/>\n<polygon fill=\"#ff0000\" stroke=\"#ff0000\" points=\"555.6927,-133.0033 552.1926,-123.0034 548.6927,-133.0034 555.6927,-133.0033\"/>\n<text text-anchor=\"middle\" x=\"560.1926\" y=\"-144.8\" font-family=\"Times,serif\" font-size=\"14.00\" fill=\"#000000\">no</text>\n</g>\n<!-- 15 -->\n<g id=\"node14\" class=\"node\">\n<title>15</title>\n<ellipse fill=\"none\" stroke=\"#000000\" cx=\"1019.1926\" cy=\"-105\" rx=\"73.387\" ry=\"18\"/>\n<text text-anchor=\"middle\" x=\"1019.1926\" y=\"-101.3\" font-family=\"Times,serif\" font-size=\"14.00\" fill=\"#000000\">f5&lt;&#45;3.34446931</text>\n</g>\n<!-- 8&#45;&gt;15 -->\n<g id=\"edge13\" class=\"edge\">\n<title>8&#45;&gt;15</title>\n<path fill=\"none\" stroke=\"#0000ff\" d=\"M1091.7774,-174.3943C1078.3329,-161.5407 1059.9278,-143.9446 1045.0155,-129.6878\"/>\n<polygon fill=\"#0000ff\" stroke=\"#0000ff\" points=\"1047.2273,-126.9602 1037.5804,-122.5796 1042.39,-132.0199 1047.2273,-126.9602\"/>\n<text text-anchor=\"middle\" x=\"1105.6926\" y=\"-144.8\" font-family=\"Times,serif\" font-size=\"14.00\" fill=\"#000000\">yes, missing</text>\n</g>\n<!-- 16 -->\n<g id=\"node15\" class=\"node\">\n<title>16</title>\n<ellipse fill=\"none\" stroke=\"#000000\" cx=\"1201.1926\" cy=\"-105\" rx=\"77.9862\" ry=\"18\"/>\n<text text-anchor=\"middle\" x=\"1201.1926\" y=\"-101.3\" font-family=\"Times,serif\" font-size=\"14.00\" fill=\"#000000\">f6&lt;&#45;0.573223233</text>\n</g>\n<!-- 8&#45;&gt;16 -->\n<g id=\"edge14\" class=\"edge\">\n<title>8&#45;&gt;16</title>\n<path fill=\"none\" stroke=\"#ff0000\" d=\"M1128.6078,-174.3943C1142.0524,-161.5407 1160.4575,-143.9446 1175.3698,-129.6878\"/>\n<polygon fill=\"#ff0000\" stroke=\"#ff0000\" points=\"1177.9953,-132.0199 1182.8048,-122.5796 1173.158,-126.9602 1177.9953,-132.0199\"/>\n<text text-anchor=\"middle\" x=\"1169.1926\" y=\"-144.8\" font-family=\"Times,serif\" font-size=\"14.00\" fill=\"#000000\">no</text>\n</g>\n<!-- 25 -->\n<g id=\"node10\" class=\"node\">\n<title>25</title>\n<ellipse fill=\"none\" stroke=\"#000000\" cx=\"83.1926\" cy=\"-18\" rx=\"83.3857\" ry=\"18\"/>\n<text text-anchor=\"middle\" x=\"83.1926\" y=\"-14.3\" font-family=\"Times,serif\" font-size=\"14.00\" fill=\"#000000\">leaf=&#45;0.109615386</text>\n</g>\n<!-- 13&#45;&gt;25 -->\n<g id=\"edge9\" class=\"edge\">\n<title>13&#45;&gt;25</title>\n<path fill=\"none\" stroke=\"#0000ff\" d=\"M233.0148,-88.8399C203.124,-74.7067 159.5386,-54.0984 127.0761,-38.7492\"/>\n<polygon fill=\"#0000ff\" stroke=\"#0000ff\" points=\"128.3482,-35.4793 117.8117,-34.3688 125.356,-41.8075 128.3482,-35.4793\"/>\n<text text-anchor=\"middle\" x=\"222.6926\" y=\"-57.8\" font-family=\"Times,serif\" font-size=\"14.00\" fill=\"#000000\">yes, missing</text>\n</g>\n<!-- 26 -->\n<g id=\"node11\" class=\"node\">\n<title>26</title>\n<ellipse fill=\"none\" stroke=\"#000000\" cx=\"267.1926\" cy=\"-18\" rx=\"83.3857\" ry=\"18\"/>\n<text text-anchor=\"middle\" x=\"267.1926\" y=\"-14.3\" font-family=\"Times,serif\" font-size=\"14.00\" fill=\"#000000\">leaf=&#45;0.149880737</text>\n</g>\n<!-- 13&#45;&gt;26 -->\n<g id=\"edge10\" class=\"edge\">\n<title>13&#45;&gt;26</title>\n<path fill=\"none\" stroke=\"#ff0000\" d=\"M267.1926,-86.9735C267.1926,-75.1918 267.1926,-59.5607 267.1926,-46.1581\"/>\n<polygon fill=\"#ff0000\" stroke=\"#ff0000\" points=\"270.6927,-46.0033 267.1926,-36.0034 263.6927,-46.0034 270.6927,-46.0033\"/>\n<text text-anchor=\"middle\" x=\"275.1926\" y=\"-57.8\" font-family=\"Times,serif\" font-size=\"14.00\" fill=\"#000000\">no</text>\n</g>\n<!-- 27 -->\n<g id=\"node12\" class=\"node\">\n<title>27</title>\n<ellipse fill=\"none\" stroke=\"#000000\" cx=\"457.1926\" cy=\"-18\" rx=\"88.2844\" ry=\"18\"/>\n<text text-anchor=\"middle\" x=\"457.1926\" y=\"-14.3\" font-family=\"Times,serif\" font-size=\"14.00\" fill=\"#000000\">leaf=&#45;0.0187500007</text>\n</g>\n<!-- 14&#45;&gt;27 -->\n<g id=\"edge11\" class=\"edge\">\n<title>14&#45;&gt;27</title>\n<path fill=\"none\" stroke=\"#0000ff\" d=\"M532.968,-87.3943C518.9324,-74.5407 499.7183,-56.9446 484.1505,-42.6878\"/>\n<polygon fill=\"#0000ff\" stroke=\"#0000ff\" points=\"486.1273,-39.7522 476.3887,-35.5796 481.3997,-44.9145 486.1273,-39.7522\"/>\n<text text-anchor=\"middle\" x=\"546.6926\" y=\"-57.8\" font-family=\"Times,serif\" font-size=\"14.00\" fill=\"#000000\">yes, missing</text>\n</g>\n<!-- 28 -->\n<g id=\"node13\" class=\"node\">\n<title>28</title>\n<ellipse fill=\"none\" stroke=\"#000000\" cx=\"647.1926\" cy=\"-18\" rx=\"83.3857\" ry=\"18\"/>\n<text text-anchor=\"middle\" x=\"647.1926\" y=\"-14.3\" font-family=\"Times,serif\" font-size=\"14.00\" fill=\"#000000\">leaf=&#45;0.146555319</text>\n</g>\n<!-- 14&#45;&gt;28 -->\n<g id=\"edge12\" class=\"edge\">\n<title>14&#45;&gt;28</title>\n<path fill=\"none\" stroke=\"#ff0000\" d=\"M571.4173,-87.3943C585.4528,-74.5407 604.6669,-56.9446 620.2347,-42.6878\"/>\n<polygon fill=\"#ff0000\" stroke=\"#ff0000\" points=\"622.9856,-44.9145 627.9965,-35.5796 618.2579,-39.7522 622.9856,-44.9145\"/>\n<text text-anchor=\"middle\" x=\"614.1926\" y=\"-57.8\" font-family=\"Times,serif\" font-size=\"14.00\" fill=\"#000000\">no</text>\n</g>\n<!-- 29 -->\n<g id=\"node16\" class=\"node\">\n<title>29</title>\n<ellipse fill=\"none\" stroke=\"#000000\" cx=\"833.1926\" cy=\"-18\" rx=\"85.2851\" ry=\"18\"/>\n<text text-anchor=\"middle\" x=\"833.1926\" y=\"-14.3\" font-family=\"Times,serif\" font-size=\"14.00\" fill=\"#000000\">leaf=0.0375000015</text>\n</g>\n<!-- 15&#45;&gt;29 -->\n<g id=\"edge15\" class=\"edge\">\n<title>15&#45;&gt;29</title>\n<path fill=\"none\" stroke=\"#0000ff\" d=\"M985.0774,-89.0429C954.914,-74.9342 910.7114,-54.2588 877.7602,-38.8461\"/>\n<polygon fill=\"#0000ff\" stroke=\"#0000ff\" points=\"878.8964,-35.5137 868.3554,-34.4471 875.9306,-41.8544 878.8964,-35.5137\"/>\n<text text-anchor=\"middle\" x=\"973.6926\" y=\"-57.8\" font-family=\"Times,serif\" font-size=\"14.00\" fill=\"#000000\">yes, missing</text>\n</g>\n<!-- 30 -->\n<g id=\"node17\" class=\"node\">\n<title>30</title>\n<ellipse fill=\"none\" stroke=\"#000000\" cx=\"1019.1926\" cy=\"-18\" rx=\"83.3857\" ry=\"18\"/>\n<text text-anchor=\"middle\" x=\"1019.1926\" y=\"-14.3\" font-family=\"Times,serif\" font-size=\"14.00\" fill=\"#000000\">leaf=&#45;0.144587636</text>\n</g>\n<!-- 15&#45;&gt;30 -->\n<g id=\"edge16\" class=\"edge\">\n<title>15&#45;&gt;30</title>\n<path fill=\"none\" stroke=\"#ff0000\" d=\"M1019.1926,-86.9735C1019.1926,-75.1918 1019.1926,-59.5607 1019.1926,-46.1581\"/>\n<polygon fill=\"#ff0000\" stroke=\"#ff0000\" points=\"1022.6927,-46.0033 1019.1926,-36.0034 1015.6927,-46.0034 1022.6927,-46.0033\"/>\n<text text-anchor=\"middle\" x=\"1027.1926\" y=\"-57.8\" font-family=\"Times,serif\" font-size=\"14.00\" fill=\"#000000\">no</text>\n</g>\n<!-- 31 -->\n<g id=\"node18\" class=\"node\">\n<title>31</title>\n<ellipse fill=\"none\" stroke=\"#000000\" cx=\"1201.1926\" cy=\"-18\" rx=\"80.6858\" ry=\"18\"/>\n<text text-anchor=\"middle\" x=\"1201.1926\" y=\"-14.3\" font-family=\"Times,serif\" font-size=\"14.00\" fill=\"#000000\">leaf=0.121875003</text>\n</g>\n<!-- 16&#45;&gt;31 -->\n<g id=\"edge17\" class=\"edge\">\n<title>16&#45;&gt;31</title>\n<path fill=\"none\" stroke=\"#0000ff\" d=\"M1201.1926,-86.9735C1201.1926,-75.1918 1201.1926,-59.5607 1201.1926,-46.1581\"/>\n<polygon fill=\"#0000ff\" stroke=\"#0000ff\" points=\"1204.6927,-46.0033 1201.1926,-36.0034 1197.6927,-46.0034 1204.6927,-46.0033\"/>\n<text text-anchor=\"middle\" x=\"1236.6926\" y=\"-57.8\" font-family=\"Times,serif\" font-size=\"14.00\" fill=\"#000000\">yes, missing</text>\n</g>\n<!-- 32 -->\n<g id=\"node19\" class=\"node\">\n<title>32</title>\n<ellipse fill=\"none\" stroke=\"#000000\" cx=\"1354.1926\" cy=\"-18\" rx=\"53.8905\" ry=\"18\"/>\n<text text-anchor=\"middle\" x=\"1354.1926\" y=\"-14.3\" font-family=\"Times,serif\" font-size=\"14.00\" fill=\"#000000\">leaf=&#45;0.125</text>\n</g>\n<!-- 16&#45;&gt;32 -->\n<g id=\"edge18\" class=\"edge\">\n<title>16&#45;&gt;32</title>\n<path fill=\"none\" stroke=\"#ff0000\" d=\"M1237.164,-88.91C1249.6981,-82.9961 1263.7366,-76.0214 1276.1926,-69 1291.833,-60.1836 1308.57,-49.4277 1322.5142,-40.0704\"/>\n<polygon fill=\"#ff0000\" stroke=\"#ff0000\" points=\"1324.4861,-42.9621 1330.8008,-34.4547 1320.5591,-37.1674 1324.4861,-42.9621\"/>\n<text text-anchor=\"middle\" x=\"1309.1926\" y=\"-57.8\" font-family=\"Times,serif\" font-size=\"14.00\" fill=\"#000000\">no</text>\n</g>\n<!-- 17 -->\n<g id=\"node22\" class=\"node\">\n<title>17</title>\n<ellipse fill=\"none\" stroke=\"#000000\" cx=\"1546.1926\" cy=\"-105\" rx=\"51.1914\" ry=\"18\"/>\n<text text-anchor=\"middle\" x=\"1546.1926\" y=\"-101.3\" font-family=\"Times,serif\" font-size=\"14.00\" fill=\"#000000\">leaf=0.125</text>\n</g>\n<!-- 9&#45;&gt;17 -->\n<g id=\"edge21\" class=\"edge\">\n<title>9&#45;&gt;17</title>\n<path fill=\"none\" stroke=\"#0000ff\" d=\"M1652.5778,-176.1802C1640.1194,-170.3409 1626.2926,-163.344 1614.1926,-156 1600.4579,-147.6638 1586.1063,-137.1936 1574.1468,-127.9125\"/>\n<polygon fill=\"#0000ff\" stroke=\"#0000ff\" points=\"1576.3068,-125.1586 1566.2862,-121.7178 1571.9741,-130.6565 1576.3068,-125.1586\"/>\n<text text-anchor=\"middle\" x=\"1649.6926\" y=\"-144.8\" font-family=\"Times,serif\" font-size=\"14.00\" fill=\"#000000\">yes, missing</text>\n</g>\n<!-- 18 -->\n<g id=\"node23\" class=\"node\">\n<title>18</title>\n<ellipse fill=\"none\" stroke=\"#000000\" cx=\"1689.1926\" cy=\"-105\" rx=\"73.387\" ry=\"18\"/>\n<text text-anchor=\"middle\" x=\"1689.1926\" y=\"-101.3\" font-family=\"Times,serif\" font-size=\"14.00\" fill=\"#000000\">f0&lt;&#45;1.42291737</text>\n</g>\n<!-- 9&#45;&gt;18 -->\n<g id=\"edge22\" class=\"edge\">\n<title>9&#45;&gt;18</title>\n<path fill=\"none\" stroke=\"#ff0000\" d=\"M1689.1926,-173.9735C1689.1926,-162.1918 1689.1926,-146.5607 1689.1926,-133.1581\"/>\n<polygon fill=\"#ff0000\" stroke=\"#ff0000\" points=\"1692.6927,-133.0033 1689.1926,-123.0034 1685.6927,-133.0034 1692.6927,-133.0033\"/>\n<text text-anchor=\"middle\" x=\"1697.1926\" y=\"-144.8\" font-family=\"Times,serif\" font-size=\"14.00\" fill=\"#000000\">no</text>\n</g>\n<!-- 19 -->\n<g id=\"node26\" class=\"node\">\n<title>19</title>\n<ellipse fill=\"none\" stroke=\"#000000\" cx=\"1957.1926\" cy=\"-105\" rx=\"70.3881\" ry=\"18\"/>\n<text text-anchor=\"middle\" x=\"1957.1926\" y=\"-101.3\" font-family=\"Times,serif\" font-size=\"14.00\" fill=\"#000000\">f9&lt;4.07427788</text>\n</g>\n<!-- 10&#45;&gt;19 -->\n<g id=\"edge25\" class=\"edge\">\n<title>10&#45;&gt;19</title>\n<path fill=\"none\" stroke=\"#0000ff\" d=\"M1957.1926,-173.9735C1957.1926,-162.1918 1957.1926,-146.5607 1957.1926,-133.1581\"/>\n<polygon fill=\"#0000ff\" stroke=\"#0000ff\" points=\"1960.6927,-133.0033 1957.1926,-123.0034 1953.6927,-133.0034 1960.6927,-133.0033\"/>\n<text text-anchor=\"middle\" x=\"1992.6926\" y=\"-144.8\" font-family=\"Times,serif\" font-size=\"14.00\" fill=\"#000000\">yes, missing</text>\n</g>\n<!-- 20 -->\n<g id=\"node27\" class=\"node\">\n<title>20</title>\n<ellipse fill=\"none\" stroke=\"#000000\" cx=\"2201.1926\" cy=\"-105\" rx=\"70.3881\" ry=\"18\"/>\n<text text-anchor=\"middle\" x=\"2201.1926\" y=\"-101.3\" font-family=\"Times,serif\" font-size=\"14.00\" fill=\"#000000\">f0&lt;1.19824529</text>\n</g>\n<!-- 10&#45;&gt;20 -->\n<g id=\"edge26\" class=\"edge\">\n<title>10&#45;&gt;20</title>\n<path fill=\"none\" stroke=\"#ff0000\" d=\"M1999.6942,-176.8458C2041.6717,-161.8784 2105.8901,-138.9808 2150.5037,-123.0735\"/>\n<polygon fill=\"#ff0000\" stroke=\"#ff0000\" points=\"2151.7474,-126.346 2159.9911,-119.6907 2149.3964,-119.7525 2151.7474,-126.346\"/>\n<text text-anchor=\"middle\" x=\"2102.1926\" y=\"-144.8\" font-family=\"Times,serif\" font-size=\"14.00\" fill=\"#000000\">no</text>\n</g>\n<!-- 33 -->\n<g id=\"node24\" class=\"node\">\n<title>33</title>\n<ellipse fill=\"none\" stroke=\"#000000\" cx=\"1507.1926\" cy=\"-18\" rx=\"80.6858\" ry=\"18\"/>\n<text text-anchor=\"middle\" x=\"1507.1926\" y=\"-14.3\" font-family=\"Times,serif\" font-size=\"14.00\" fill=\"#000000\">leaf=0.075000003</text>\n</g>\n<!-- 18&#45;&gt;33 -->\n<g id=\"edge23\" class=\"edge\">\n<title>18&#45;&gt;33</title>\n<path fill=\"none\" stroke=\"#0000ff\" d=\"M1655.3863,-88.8399C1625.8204,-74.7067 1582.7087,-54.0984 1550.5991,-38.7492\"/>\n<polygon fill=\"#0000ff\" stroke=\"#0000ff\" points=\"1551.9671,-35.5239 1541.4354,-34.3688 1548.9481,-41.8394 1551.9671,-35.5239\"/>\n<text text-anchor=\"middle\" x=\"1644.6926\" y=\"-57.8\" font-family=\"Times,serif\" font-size=\"14.00\" fill=\"#000000\">yes, missing</text>\n</g>\n<!-- 34 -->\n<g id=\"node25\" class=\"node\">\n<title>34</title>\n<ellipse fill=\"none\" stroke=\"#000000\" cx=\"1689.1926\" cy=\"-18\" rx=\"83.3857\" ry=\"18\"/>\n<text text-anchor=\"middle\" x=\"1689.1926\" y=\"-14.3\" font-family=\"Times,serif\" font-size=\"14.00\" fill=\"#000000\">leaf=&#45;0.142424256</text>\n</g>\n<!-- 18&#45;&gt;34 -->\n<g id=\"edge24\" class=\"edge\">\n<title>18&#45;&gt;34</title>\n<path fill=\"none\" stroke=\"#ff0000\" d=\"M1689.1926,-86.9735C1689.1926,-75.1918 1689.1926,-59.5607 1689.1926,-46.1581\"/>\n<polygon fill=\"#ff0000\" stroke=\"#ff0000\" points=\"1692.6927,-46.0033 1689.1926,-36.0034 1685.6927,-46.0034 1692.6927,-46.0033\"/>\n<text text-anchor=\"middle\" x=\"1697.1926\" y=\"-57.8\" font-family=\"Times,serif\" font-size=\"14.00\" fill=\"#000000\">no</text>\n</g>\n<!-- 35 -->\n<g id=\"node28\" class=\"node\">\n<title>35</title>\n<ellipse fill=\"none\" stroke=\"#000000\" cx=\"1871.1926\" cy=\"-18\" rx=\"80.6858\" ry=\"18\"/>\n<text text-anchor=\"middle\" x=\"1871.1926\" y=\"-14.3\" font-family=\"Times,serif\" font-size=\"14.00\" fill=\"#000000\">leaf=0.145312503</text>\n</g>\n<!-- 19&#45;&gt;35 -->\n<g id=\"edge27\" class=\"edge\">\n<title>19&#45;&gt;35</title>\n<path fill=\"none\" stroke=\"#0000ff\" d=\"M1939.7892,-87.3943C1927.2,-74.6586 1910.0083,-57.2671 1895.9853,-43.081\"/>\n<polygon fill=\"#0000ff\" stroke=\"#0000ff\" points=\"1898.0894,-40.2309 1888.5701,-35.5796 1893.1111,-45.152 1898.0894,-40.2309\"/>\n<text text-anchor=\"middle\" x=\"1955.6926\" y=\"-57.8\" font-family=\"Times,serif\" font-size=\"14.00\" fill=\"#000000\">yes, missing</text>\n</g>\n<!-- 36 -->\n<g id=\"node29\" class=\"node\">\n<title>36</title>\n<ellipse fill=\"none\" stroke=\"#000000\" cx=\"2055.1926\" cy=\"-18\" rx=\"85.2851\" ry=\"18\"/>\n<text text-anchor=\"middle\" x=\"2055.1926\" y=\"-14.3\" font-family=\"Times,serif\" font-size=\"14.00\" fill=\"#000000\">leaf=0.0375000015</text>\n</g>\n<!-- 19&#45;&gt;36 -->\n<g id=\"edge28\" class=\"edge\">\n<title>19&#45;&gt;36</title>\n<path fill=\"none\" stroke=\"#ff0000\" d=\"M1977.0244,-87.3943C1991.636,-74.4228 2011.6881,-56.6213 2027.8244,-42.2962\"/>\n<polygon fill=\"#ff0000\" stroke=\"#ff0000\" points=\"2030.2356,-44.8359 2035.3903,-35.5796 2025.5884,-39.6011 2030.2356,-44.8359\"/>\n<text text-anchor=\"middle\" x=\"2020.1926\" y=\"-57.8\" font-family=\"Times,serif\" font-size=\"14.00\" fill=\"#000000\">no</text>\n</g>\n<!-- 37 -->\n<g id=\"node30\" class=\"node\">\n<title>37</title>\n<ellipse fill=\"none\" stroke=\"#000000\" cx=\"2241.1926\" cy=\"-18\" rx=\"83.3857\" ry=\"18\"/>\n<text text-anchor=\"middle\" x=\"2241.1926\" y=\"-14.3\" font-family=\"Times,serif\" font-size=\"14.00\" fill=\"#000000\">leaf=&#45;0.100000009</text>\n</g>\n<!-- 20&#45;&gt;37 -->\n<g id=\"edge29\" class=\"edge\">\n<title>20&#45;&gt;37</title>\n<path fill=\"none\" stroke=\"#0000ff\" d=\"M2209.4806,-86.9735C2215.0048,-74.9585 2222.3696,-58.9401 2228.6112,-45.3646\"/>\n<polygon fill=\"#0000ff\" stroke=\"#0000ff\" points=\"2231.9178,-46.5512 2232.9152,-36.0034 2225.5578,-43.627 2231.9178,-46.5512\"/>\n<text text-anchor=\"middle\" x=\"2259.6926\" y=\"-57.8\" font-family=\"Times,serif\" font-size=\"14.00\" fill=\"#000000\">yes, missing</text>\n</g>\n<!-- 38 -->\n<g id=\"node31\" class=\"node\">\n<title>38</title>\n<ellipse fill=\"none\" stroke=\"#000000\" cx=\"2423.1926\" cy=\"-18\" rx=\"80.6858\" ry=\"18\"/>\n<text text-anchor=\"middle\" x=\"2423.1926\" y=\"-14.3\" font-family=\"Times,serif\" font-size=\"14.00\" fill=\"#000000\">leaf=0.100000009</text>\n</g>\n<!-- 20&#45;&gt;38 -->\n<g id=\"edge30\" class=\"edge\">\n<title>20&#45;&gt;38</title>\n<path fill=\"none\" stroke=\"#ff0000\" d=\"M2242.3299,-90.2837C2259.9051,-83.8943 2280.6119,-76.2308 2299.1926,-69 2324.7409,-59.0577 2353.0265,-47.4693 2376.1235,-37.8537\"/>\n<polygon fill=\"#ff0000\" stroke=\"#ff0000\" points=\"2377.4738,-41.0828 2385.3541,-34.001 2374.7775,-34.6229 2377.4738,-41.0828\"/>\n<text text-anchor=\"middle\" x=\"2345.1926\" y=\"-57.8\" font-family=\"Times,serif\" font-size=\"14.00\" fill=\"#000000\">no</text>\n</g>\n<!-- 11 -->\n<g id=\"node34\" class=\"node\">\n<title>11</title>\n<ellipse fill=\"none\" stroke=\"#000000\" cx=\"2434.1926\" cy=\"-192\" rx=\"70.3881\" ry=\"18\"/>\n<text text-anchor=\"middle\" x=\"2434.1926\" y=\"-188.3\" font-family=\"Times,serif\" font-size=\"14.00\" fill=\"#000000\">f0&lt;28.5844822</text>\n</g>\n<!-- 6&#45;&gt;11 -->\n<g id=\"edge33\" class=\"edge\">\n<title>6&#45;&gt;11</title>\n<path fill=\"none\" stroke=\"#0000ff\" d=\"M2434.1926,-260.9735C2434.1926,-249.1918 2434.1926,-233.5607 2434.1926,-220.1581\"/>\n<polygon fill=\"#0000ff\" stroke=\"#0000ff\" points=\"2437.6927,-220.0033 2434.1926,-210.0034 2430.6927,-220.0034 2437.6927,-220.0033\"/>\n<text text-anchor=\"middle\" x=\"2469.6926\" y=\"-231.8\" font-family=\"Times,serif\" font-size=\"14.00\" fill=\"#000000\">yes, missing</text>\n</g>\n<!-- 12 -->\n<g id=\"node35\" class=\"node\">\n<title>12</title>\n<ellipse fill=\"none\" stroke=\"#000000\" cx=\"2719.1926\" cy=\"-192\" rx=\"70.3881\" ry=\"18\"/>\n<text text-anchor=\"middle\" x=\"2719.1926\" y=\"-188.3\" font-family=\"Times,serif\" font-size=\"14.00\" fill=\"#000000\">f9&lt;9.95458698</text>\n</g>\n<!-- 6&#45;&gt;12 -->\n<g id=\"edge34\" class=\"edge\">\n<title>6&#45;&gt;12</title>\n<path fill=\"none\" stroke=\"#ff0000\" d=\"M2480.2995,-264.9253C2530.4285,-249.6227 2610.5176,-225.1745 2663.9666,-208.8585\"/>\n<polygon fill=\"#ff0000\" stroke=\"#ff0000\" points=\"2665.081,-212.1778 2673.6234,-205.9106 2663.0372,-205.4828 2665.081,-212.1778\"/>\n<text text-anchor=\"middle\" x=\"2602.1926\" y=\"-231.8\" font-family=\"Times,serif\" font-size=\"14.00\" fill=\"#000000\">no</text>\n</g>\n<!-- 21 -->\n<g id=\"node36\" class=\"node\">\n<title>21</title>\n<ellipse fill=\"none\" stroke=\"#000000\" cx=\"2370.1926\" cy=\"-105\" rx=\"80.6858\" ry=\"18\"/>\n<text text-anchor=\"middle\" x=\"2370.1926\" y=\"-101.3\" font-family=\"Times,serif\" font-size=\"14.00\" fill=\"#000000\">leaf=0.148125008</text>\n</g>\n<!-- 11&#45;&gt;21 -->\n<g id=\"edge35\" class=\"edge\">\n<title>11&#45;&gt;21</title>\n<path fill=\"none\" stroke=\"#0000ff\" d=\"M2420.9318,-173.9735C2411.8357,-161.6085 2399.6205,-145.0036 2389.4549,-131.1847\"/>\n<polygon fill=\"#0000ff\" stroke=\"#0000ff\" points=\"2392.1815,-128.9846 2383.4365,-123.0034 2386.5429,-133.1326 2392.1815,-128.9846\"/>\n<text text-anchor=\"middle\" x=\"2441.6926\" y=\"-144.8\" font-family=\"Times,serif\" font-size=\"14.00\" fill=\"#000000\">yes, missing</text>\n</g>\n<!-- 22 -->\n<g id=\"node37\" class=\"node\">\n<title>22</title>\n<ellipse fill=\"none\" stroke=\"#000000\" cx=\"2552.1926\" cy=\"-105\" rx=\"83.3857\" ry=\"18\"/>\n<text text-anchor=\"middle\" x=\"2552.1926\" y=\"-101.3\" font-family=\"Times,serif\" font-size=\"14.00\" fill=\"#000000\">leaf=&#45;0.100000009</text>\n</g>\n<!-- 11&#45;&gt;22 -->\n<g id=\"edge36\" class=\"edge\">\n<title>11&#45;&gt;22</title>\n<path fill=\"none\" stroke=\"#ff0000\" d=\"M2457.5056,-174.8116C2475.4892,-161.5525 2500.5584,-143.0693 2520.3843,-128.4519\"/>\n<polygon fill=\"#ff0000\" stroke=\"#ff0000\" points=\"2522.5523,-131.2019 2528.5242,-122.4505 2518.3983,-125.5677 2522.5523,-131.2019\"/>\n<text text-anchor=\"middle\" x=\"2509.1926\" y=\"-144.8\" font-family=\"Times,serif\" font-size=\"14.00\" fill=\"#000000\">no</text>\n</g>\n<!-- 23 -->\n<g id=\"node38\" class=\"node\">\n<title>23</title>\n<ellipse fill=\"none\" stroke=\"#000000\" cx=\"2719.1926\" cy=\"-105\" rx=\"65.7887\" ry=\"18\"/>\n<text text-anchor=\"middle\" x=\"2719.1926\" y=\"-101.3\" font-family=\"Times,serif\" font-size=\"14.00\" fill=\"#000000\">f4&lt;1.1386224</text>\n</g>\n<!-- 12&#45;&gt;23 -->\n<g id=\"edge37\" class=\"edge\">\n<title>12&#45;&gt;23</title>\n<path fill=\"none\" stroke=\"#0000ff\" d=\"M2719.1926,-173.9735C2719.1926,-162.1918 2719.1926,-146.5607 2719.1926,-133.1581\"/>\n<polygon fill=\"#0000ff\" stroke=\"#0000ff\" points=\"2722.6927,-133.0033 2719.1926,-123.0034 2715.6927,-133.0034 2722.6927,-133.0033\"/>\n<text text-anchor=\"middle\" x=\"2754.6926\" y=\"-144.8\" font-family=\"Times,serif\" font-size=\"14.00\" fill=\"#000000\">yes, missing</text>\n</g>\n<!-- 24 -->\n<g id=\"node39\" class=\"node\">\n<title>24</title>\n<ellipse fill=\"none\" stroke=\"#000000\" cx=\"2872.1926\" cy=\"-105\" rx=\"68.7879\" ry=\"18\"/>\n<text text-anchor=\"middle\" x=\"2872.1926\" y=\"-101.3\" font-family=\"Times,serif\" font-size=\"14.00\" fill=\"#000000\">leaf=&#45;0.140625</text>\n</g>\n<!-- 12&#45;&gt;24 -->\n<g id=\"edge38\" class=\"edge\">\n<title>12&#45;&gt;24</title>\n<path fill=\"none\" stroke=\"#ff0000\" d=\"M2754.4063,-176.2672C2767.1303,-170.2778 2781.4849,-163.1633 2794.1926,-156 2809.4542,-147.3971 2825.76,-136.9476 2839.4963,-127.7527\"/>\n<polygon fill=\"#ff0000\" stroke=\"#ff0000\" points=\"2841.7925,-130.425 2848.1151,-121.9235 2837.8709,-124.6267 2841.7925,-130.425\"/>\n<text text-anchor=\"middle\" x=\"2827.1926\" y=\"-144.8\" font-family=\"Times,serif\" font-size=\"14.00\" fill=\"#000000\">no</text>\n</g>\n<!-- 39 -->\n<g id=\"node40\" class=\"node\">\n<title>39</title>\n<ellipse fill=\"none\" stroke=\"#000000\" cx=\"2641.1926\" cy=\"-18\" rx=\"79.8859\" ry=\"18\"/>\n<text text-anchor=\"middle\" x=\"2641.1926\" y=\"-14.3\" font-family=\"Times,serif\" font-size=\"14.00\" fill=\"#000000\">leaf=0.110344835</text>\n</g>\n<!-- 23&#45;&gt;39 -->\n<g id=\"edge39\" class=\"edge\">\n<title>23&#45;&gt;39</title>\n<path fill=\"none\" stroke=\"#0000ff\" d=\"M2703.4082,-87.3943C2692.0651,-74.7424 2676.6026,-57.4957 2663.9304,-43.3614\"/>\n<polygon fill=\"#0000ff\" stroke=\"#0000ff\" points=\"2666.5028,-40.9875 2657.2213,-35.8782 2661.2908,-45.6603 2666.5028,-40.9875\"/>\n<text text-anchor=\"middle\" x=\"2720.6926\" y=\"-57.8\" font-family=\"Times,serif\" font-size=\"14.00\" fill=\"#000000\">yes, missing</text>\n</g>\n<!-- 40 -->\n<g id=\"node41\" class=\"node\">\n<title>40</title>\n<ellipse fill=\"none\" stroke=\"#000000\" cx=\"2822.1926\" cy=\"-18\" rx=\"83.3857\" ry=\"18\"/>\n<text text-anchor=\"middle\" x=\"2822.1926\" y=\"-14.3\" font-family=\"Times,serif\" font-size=\"14.00\" fill=\"#000000\">leaf=&#45;0.100000009</text>\n</g>\n<!-- 23&#45;&gt;40 -->\n<g id=\"edge40\" class=\"edge\">\n<title>23&#45;&gt;40</title>\n<path fill=\"none\" stroke=\"#ff0000\" d=\"M2739.5421,-87.8116C2754.9593,-74.7893 2776.3425,-56.7277 2793.4963,-42.2386\"/>\n<polygon fill=\"#ff0000\" stroke=\"#ff0000\" points=\"2796.1518,-44.5771 2801.5329,-35.4505 2791.6349,-39.2295 2796.1518,-44.5771\"/>\n<text text-anchor=\"middle\" x=\"2785.1926\" y=\"-57.8\" font-family=\"Times,serif\" font-size=\"14.00\" fill=\"#000000\">no</text>\n</g>\n</g>\n</svg>\n"
          },
          "metadata": {
            "tags": []
          },
          "execution_count": 29
        }
      ]
    },
    {
      "cell_type": "markdown",
      "metadata": {
        "id": "QNnoY2TxvOVi",
        "colab_type": "text"
      },
      "source": [
        "Features 8, 9, 10 seem to be contributing the most gain according to this XGBoost Model of the principal components. Let's try just working with these three features and the target."
      ]
    },
    {
      "cell_type": "code",
      "metadata": {
        "id": "kgjWBAInvNih",
        "colab_type": "code",
        "colab": {}
      },
      "source": [
        "shorter_df = principalDf.iloc[:, -4:]\n",
        "X, y = split_data_into_feature_and_target(shorter_df)\n",
        "X_train, X_test, y_train, y_test = train_test_split(X, y, test_size=0.3)"
      ],
      "execution_count": 0,
      "outputs": []
    },
    {
      "cell_type": "markdown",
      "metadata": {
        "id": "caZEa92Y42b3",
        "colab_type": "text"
      },
      "source": [
        "### Stochastic Gradient Descent (OOTB)"
      ]
    },
    {
      "cell_type": "code",
      "metadata": {
        "id": "Xfsqq5JDm1cp",
        "colab_type": "code",
        "outputId": "5020a910-aa01-4c5d-9c81-7ea03f0fdae9",
        "colab": {
          "base_uri": "https://localhost:8080/",
          "height": 173
        }
      },
      "source": [
        "from sklearn.linear_model import SGDClassifier\n",
        "\n",
        "model = SGDClassifier(loss='log', penalty='l2', early_stopping=True,\n",
        "                         max_iter=10000, tol=1e-5, random_state=0, alpha=0.0001)\n",
        "\n",
        "model.fit(X_train, y_train)\n",
        "y_pred = model.predict(X_test)\n",
        "pp = pprint.PrettyPrinter(indent=4)\n",
        "pp.pprint(classification_report(y_test, y_pred))\n",
        "print(f\"ROC Score: {roc_auc_score(y_test, y_pred)}\")"
      ],
      "execution_count": 0,
      "outputs": [
        {
          "output_type": "stream",
          "text": [
            "('              precision    recall  f1-score   support\\n'\n",
            " '\\n'\n",
            " '           0       1.00      1.00      1.00     85299\\n'\n",
            " '           1       0.84      0.48      0.61       144\\n'\n",
            " '\\n'\n",
            " '    accuracy                           1.00     85443\\n'\n",
            " '   macro avg       0.92      0.74      0.81     85443\\n'\n",
            " 'weighted avg       1.00      1.00      1.00     85443\\n')\n",
            "ROC Score: 0.7395071307987198\n"
          ],
          "name": "stdout"
        }
      ]
    },
    {
      "cell_type": "code",
      "metadata": {
        "id": "QLQ6b1_5z6BG",
        "colab_type": "code",
        "outputId": "a785e833-7708-4b82-d423-bd3e4096ff5a",
        "colab": {
          "base_uri": "https://localhost:8080/",
          "height": 243
        }
      },
      "source": [
        "detailed_confusion_matrix(y_test, y_pred)"
      ],
      "execution_count": 0,
      "outputs": [
        {
          "output_type": "stream",
          "text": [
            "                           *Fraudulent Cases are considered Positive Cases\n",
            "============================================================================================\n",
            "######################### Predicted Non-Fraudulent ### | ### Predicted Fraudulent ##########\n",
            "\n",
            "\n",
            "Actually Non-Fraudulent | TN = 85286                   | FP = 13\n",
            "\n",
            "\n",
            "Actually Fraudulent     | FN = 75                       | TP = 69 \n",
            "\n",
            "\n",
            "Specificity: 0.4791666666666667\n",
            "Sensitivity (aka. Recall): 0.9998475949307729\n"
          ],
          "name": "stdout"
        }
      ]
    },
    {
      "cell_type": "code",
      "metadata": {
        "id": "_dSjFxNxuH3T",
        "colab_type": "code",
        "outputId": "9d43105e-2e85-4a37-cad4-b83c177ead78",
        "colab": {
          "base_uri": "https://localhost:8080/",
          "height": 295
        }
      },
      "source": [
        "plot_roc(y_test, predict_max_prob(model, X_test))"
      ],
      "execution_count": 0,
      "outputs": [
        {
          "output_type": "display_data",
          "data": {
            "image/png": "[encoded data removed]",
            "text/plain": [
              "<Figure size 432x288 with 1 Axes>"
            ]
          },
          "metadata": {
            "tags": []
          }
        }
      ]
    },
    {
      "cell_type": "code",
      "metadata": {
        "id": "zgZvt2Tg6CME",
        "colab_type": "code",
        "outputId": "1bcec1bf-c98f-4ac5-f313-f4bdd00cea99",
        "colab": {
          "base_uri": "https://localhost:8080/",
          "height": 295
        }
      },
      "source": [
        "plot_prc(y_test, predict_max_prob(model, X_test), y_pred)"
      ],
      "execution_count": 0,
      "outputs": [
        {
          "output_type": "display_data",
          "data": {
            "image/png": "[encoded data removed]",
            "text/plain": [
              "<Figure size 432x288 with 1 Axes>"
            ]
          },
          "metadata": {
            "tags": []
          }
        }
      ]
    },
    {
      "cell_type": "markdown",
      "metadata": {
        "id": "pRGjI7H8uJOw",
        "colab_type": "text"
      },
      "source": [
        "This plot ROC curve is very telling, due to the class imbalance problem inherent to anomaly detection."
      ]
    },
    {
      "cell_type": "markdown",
      "metadata": {
        "id": "vC87fUHeXpdA",
        "colab_type": "text"
      },
      "source": [
        "### Logistic Regressor"
      ]
    },
    {
      "cell_type": "code",
      "metadata": {
        "id": "StC-BixaVSnL",
        "colab_type": "code",
        "colab": {}
      },
      "source": [
        "param_grid = {\n",
        "    \"penalty\": [\"l1\", \"l2\", \"elasticnet\"],\n",
        "    \"C\": [0.1, 0.2, 0.4, 0.6, 1.0]\n",
        "}\n",
        "\n",
        "data_blob, fitted_model, elapsed_time = fit_get_predictions_with_CV(data=principalDf, \n",
        "                                                                    model_name=\"logistic regression\", \n",
        "                                                                    param_search_space=param_grid)\n",
        "\n",
        "y_pred = data_blob[4]\n",
        "y_test = data_blob[3]"
      ],
      "execution_count": 0,
      "outputs": []
    },
    {
      "cell_type": "code",
      "metadata": {
        "id": "48m7XqUR3KBx",
        "colab_type": "code",
        "colab": {}
      },
      "source": [
        "report_df = report_performance_scores(fitted_model, y_test, y_pred, elapsed_time)\n",
        "report_df.head()"
      ],
      "execution_count": 0,
      "outputs": []
    },
    {
      "cell_type": "code",
      "metadata": {
        "id": "k5HeBAABXHOv",
        "colab_type": "code",
        "outputId": "ee03b053-7309-4fe3-bd0d-49bc298fcf6c",
        "colab": {
          "base_uri": "https://localhost:8080/",
          "height": 166
        }
      },
      "source": [
        "plot_roc(y_test, predicted_max_prob(fitted_model, X_test))"
      ],
      "execution_count": 0,
      "outputs": [
        {
          "output_type": "error",
          "ename": "NameError",
          "evalue": "ignored",
          "traceback": [
            "\u001b[0;31m---------------------------------------------------------------------------\u001b[0m",
            "\u001b[0;31mNameError\u001b[0m                                 Traceback (most recent call last)",
            "\u001b[0;32m<ipython-input-47-383d1ea02db0>\u001b[0m in \u001b[0;36m<module>\u001b[0;34m()\u001b[0m\n\u001b[0;32m----> 1\u001b[0;31m \u001b[0mplot_roc\u001b[0m\u001b[0;34m(\u001b[0m\u001b[0my_test\u001b[0m\u001b[0;34m,\u001b[0m \u001b[0mpredicted_max_prob\u001b[0m\u001b[0;34m(\u001b[0m\u001b[0mfitted_model\u001b[0m\u001b[0;34m,\u001b[0m \u001b[0mX_test\u001b[0m\u001b[0;34m)\u001b[0m\u001b[0;34m)\u001b[0m\u001b[0;34m\u001b[0m\u001b[0;34m\u001b[0m\u001b[0m\n\u001b[0m",
            "\u001b[0;31mNameError\u001b[0m: name 'predicted_max_prob' is not defined"
          ]
        }
      ]
    },
    {
      "cell_type": "code",
      "metadata": {
        "id": "vSn49DvK5BQs",
        "colab_type": "code",
        "colab": {}
      },
      "source": [
        "plot_prc(y_test, predicted_max_prob(fitted_model, X_test))"
      ],
      "execution_count": 0,
      "outputs": []
    },
    {
      "cell_type": "markdown",
      "metadata": {
        "id": "I6xp1PryYqgC",
        "colab_type": "text"
      },
      "source": [
        "### Naive Bayes"
      ]
    },
    {
      "cell_type": "code",
      "metadata": {
        "id": "-vaMPml_Ysdj",
        "colab_type": "code",
        "outputId": "54df04dd-3db6-41f8-9d9d-e713bb137a76",
        "colab": {
          "base_uri": "https://localhost:8080/",
          "height": 52
        }
      },
      "source": [
        "naive_bayes_data_bundle, fitted_model, elapsed_time = fit_simple_model(principalDf, \"naive bayes\")\n",
        "\n",
        "y_pred = naive_bayes_data_bundle[4]\n",
        "y_test = naive_bayes_data_bundle[3]"
      ],
      "execution_count": 0,
      "outputs": [
        {
          "output_type": "stream",
          "text": [
            "Model fitting and prediction complete.\n",
            "Elapsed Time: 0.06951685300009558s\n"
          ],
          "name": "stdout"
        }
      ]
    },
    {
      "cell_type": "code",
      "metadata": {
        "id": "OVILKFw3iF6X",
        "colab_type": "code",
        "colab": {}
      },
      "source": [
        "y_pred_probs = fitted_model.predict_proba(X_test)\n",
        "y_pred_probs_max = get_max_probas(y_pred_probs)"
      ],
      "execution_count": 0,
      "outputs": []
    },
    {
      "cell_type": "code",
      "metadata": {
        "id": "70qysuMPY3WT",
        "colab_type": "code",
        "outputId": "4dc823f4-787d-4290-97f5-8e8c094b066b",
        "colab": {
          "base_uri": "https://localhost:8080/",
          "height": 690
        }
      },
      "source": [
        "plot_roc(y_test, y_pred_probs_max)"
      ],
      "execution_count": 0,
      "outputs": [
        {
          "output_type": "error",
          "ename": "ValueError",
          "evalue": "ignored",
          "traceback": [
            "\u001b[0;31m---------------------------------------------------------------------------\u001b[0m",
            "\u001b[0;31mValueError\u001b[0m                                Traceback (most recent call last)",
            "\u001b[0;32m<ipython-input-354-73bf67ff7477>\u001b[0m in \u001b[0;36m<module>\u001b[0;34m()\u001b[0m\n\u001b[0;32m----> 1\u001b[0;31m \u001b[0mplot_roc\u001b[0m\u001b[0;34m(\u001b[0m\u001b[0my_test\u001b[0m\u001b[0;34m,\u001b[0m \u001b[0my_pred_probs_max\u001b[0m\u001b[0;34m)\u001b[0m\u001b[0;34m\u001b[0m\u001b[0;34m\u001b[0m\u001b[0m\n\u001b[0m",
            "\u001b[0;32m<ipython-input-296-5be297c1e4ae>\u001b[0m in \u001b[0;36mplot_roc\u001b[0;34m(y_test, y_pred, n_classes)\u001b[0m\n\u001b[1;32m    244\u001b[0m     \u001b[0mroc_auc\u001b[0m \u001b[0;34m=\u001b[0m \u001b[0mdict\u001b[0m\u001b[0;34m(\u001b[0m\u001b[0;34m)\u001b[0m\u001b[0;34m\u001b[0m\u001b[0;34m\u001b[0m\u001b[0m\n\u001b[1;32m    245\u001b[0m     \u001b[0;32mfor\u001b[0m \u001b[0mi\u001b[0m \u001b[0;32min\u001b[0m \u001b[0mrange\u001b[0m\u001b[0;34m(\u001b[0m\u001b[0mn_classes\u001b[0m\u001b[0;34m)\u001b[0m\u001b[0;34m:\u001b[0m\u001b[0;34m\u001b[0m\u001b[0;34m\u001b[0m\u001b[0m\n\u001b[0;32m--> 246\u001b[0;31m         \u001b[0mfpr\u001b[0m\u001b[0;34m[\u001b[0m\u001b[0mi\u001b[0m\u001b[0;34m]\u001b[0m\u001b[0;34m,\u001b[0m \u001b[0mtpr\u001b[0m\u001b[0;34m[\u001b[0m\u001b[0mi\u001b[0m\u001b[0;34m]\u001b[0m\u001b[0;34m,\u001b[0m \u001b[0m_\u001b[0m \u001b[0;34m=\u001b[0m \u001b[0mroc_curve\u001b[0m\u001b[0;34m(\u001b[0m\u001b[0my_test\u001b[0m\u001b[0;34m,\u001b[0m \u001b[0my_pred\u001b[0m\u001b[0;34m)\u001b[0m\u001b[0;34m\u001b[0m\u001b[0;34m\u001b[0m\u001b[0m\n\u001b[0m\u001b[1;32m    247\u001b[0m         \u001b[0mroc_auc\u001b[0m\u001b[0;34m[\u001b[0m\u001b[0mi\u001b[0m\u001b[0;34m]\u001b[0m \u001b[0;34m=\u001b[0m \u001b[0mauc\u001b[0m\u001b[0;34m(\u001b[0m\u001b[0mfpr\u001b[0m\u001b[0;34m[\u001b[0m\u001b[0mi\u001b[0m\u001b[0;34m]\u001b[0m\u001b[0;34m,\u001b[0m \u001b[0mtpr\u001b[0m\u001b[0;34m[\u001b[0m\u001b[0mi\u001b[0m\u001b[0;34m]\u001b[0m\u001b[0;34m)\u001b[0m\u001b[0;34m\u001b[0m\u001b[0;34m\u001b[0m\u001b[0m\n\u001b[1;32m    248\u001b[0m \u001b[0;34m\u001b[0m\u001b[0m\n",
            "\u001b[0;32m/usr/local/lib/python3.6/dist-packages/sklearn/metrics/ranking.py\u001b[0m in \u001b[0;36mroc_curve\u001b[0;34m(y_true, y_score, pos_label, sample_weight, drop_intermediate)\u001b[0m\n\u001b[1;32m    620\u001b[0m     \"\"\"\n\u001b[1;32m    621\u001b[0m     fps, tps, thresholds = _binary_clf_curve(\n\u001b[0;32m--> 622\u001b[0;31m         y_true, y_score, pos_label=pos_label, sample_weight=sample_weight)\n\u001b[0m\u001b[1;32m    623\u001b[0m \u001b[0;34m\u001b[0m\u001b[0m\n\u001b[1;32m    624\u001b[0m     \u001b[0;31m# Attempt to drop thresholds corresponding to points in between and\u001b[0m\u001b[0;34m\u001b[0m\u001b[0;34m\u001b[0m\u001b[0;34m\u001b[0m\u001b[0m\n",
            "\u001b[0;32m/usr/local/lib/python3.6/dist-packages/sklearn/metrics/ranking.py\u001b[0m in \u001b[0;36m_binary_clf_curve\u001b[0;34m(y_true, y_score, pos_label, sample_weight)\u001b[0m\n\u001b[1;32m    396\u001b[0m         \u001b[0;32mraise\u001b[0m \u001b[0mValueError\u001b[0m\u001b[0;34m(\u001b[0m\u001b[0;34m\"{0} format is not supported\"\u001b[0m\u001b[0;34m.\u001b[0m\u001b[0mformat\u001b[0m\u001b[0;34m(\u001b[0m\u001b[0my_type\u001b[0m\u001b[0;34m)\u001b[0m\u001b[0;34m)\u001b[0m\u001b[0;34m\u001b[0m\u001b[0;34m\u001b[0m\u001b[0m\n\u001b[1;32m    397\u001b[0m \u001b[0;34m\u001b[0m\u001b[0m\n\u001b[0;32m--> 398\u001b[0;31m     \u001b[0mcheck_consistent_length\u001b[0m\u001b[0;34m(\u001b[0m\u001b[0my_true\u001b[0m\u001b[0;34m,\u001b[0m \u001b[0my_score\u001b[0m\u001b[0;34m,\u001b[0m \u001b[0msample_weight\u001b[0m\u001b[0;34m)\u001b[0m\u001b[0;34m\u001b[0m\u001b[0;34m\u001b[0m\u001b[0m\n\u001b[0m\u001b[1;32m    399\u001b[0m     \u001b[0my_true\u001b[0m \u001b[0;34m=\u001b[0m \u001b[0mcolumn_or_1d\u001b[0m\u001b[0;34m(\u001b[0m\u001b[0my_true\u001b[0m\u001b[0;34m)\u001b[0m\u001b[0;34m\u001b[0m\u001b[0;34m\u001b[0m\u001b[0m\n\u001b[1;32m    400\u001b[0m     \u001b[0my_score\u001b[0m \u001b[0;34m=\u001b[0m \u001b[0mcolumn_or_1d\u001b[0m\u001b[0;34m(\u001b[0m\u001b[0my_score\u001b[0m\u001b[0;34m)\u001b[0m\u001b[0;34m\u001b[0m\u001b[0;34m\u001b[0m\u001b[0m\n",
            "\u001b[0;32m/usr/local/lib/python3.6/dist-packages/sklearn/utils/validation.py\u001b[0m in \u001b[0;36mcheck_consistent_length\u001b[0;34m(*arrays)\u001b[0m\n\u001b[1;32m    203\u001b[0m     \u001b[0;32mif\u001b[0m \u001b[0mlen\u001b[0m\u001b[0;34m(\u001b[0m\u001b[0muniques\u001b[0m\u001b[0;34m)\u001b[0m \u001b[0;34m>\u001b[0m \u001b[0;36m1\u001b[0m\u001b[0;34m:\u001b[0m\u001b[0;34m\u001b[0m\u001b[0;34m\u001b[0m\u001b[0m\n\u001b[1;32m    204\u001b[0m         raise ValueError(\"Found input variables with inconsistent numbers of\"\n\u001b[0;32m--> 205\u001b[0;31m                          \" samples: %r\" % [int(l) for l in lengths])\n\u001b[0m\u001b[1;32m    206\u001b[0m \u001b[0;34m\u001b[0m\u001b[0m\n\u001b[1;32m    207\u001b[0m \u001b[0;34m\u001b[0m\u001b[0m\n",
            "\u001b[0;31mValueError\u001b[0m: Found input variables with inconsistent numbers of samples: [113923, 85442]"
          ]
        }
      ]
    },
    {
      "cell_type": "code",
      "metadata": {
        "id": "jzxHLT6xc-TI",
        "colab_type": "code",
        "outputId": "8164f7ce-6e09-49b7-f689-ec072f1ca299",
        "colab": {
          "base_uri": "https://localhost:8080/",
          "height": 301
        }
      },
      "source": [
        "pp.pprint(classification_report(y_test, y_pred))\n",
        "print(\"\\n\")\n",
        "print(f\"ROC Score: {roc_auc_score(y_test, y_pred)}\")\n",
        "print(\"Confusion matrix\\n{}\".format(confusion_matrix(y_test, y_pred)))\n",
        "print(f\"Recall: {recall_score(y_test, y_pred)}\")\n",
        "print(f\"Precision score: {precision_score(y_test, y_pred)}\")\n"
      ],
      "execution_count": 0,
      "outputs": [
        {
          "output_type": "stream",
          "text": [
            "('              precision    recall  f1-score   support\\n'\n",
            " '\\n'\n",
            " '           0       1.00      0.98      0.99    113732\\n'\n",
            " '           1       0.06      0.72      0.11       191\\n'\n",
            " '\\n'\n",
            " '    accuracy                           0.98    113923\\n'\n",
            " '   macro avg       0.53      0.85      0.55    113923\\n'\n",
            " 'weighted avg       1.00      0.98      0.99    113923\\n')\n",
            "\n",
            "\n",
            "ROC Score: 0.8490152425938227\n",
            "Confusion matrix\n",
            "[[111543   2189]\n",
            " [    54    137]]\n",
            "Recall: 0.7172774869109948\n",
            "Precision score: 0.0588993981083405\n"
          ],
          "name": "stdout"
        }
      ]
    },
    {
      "cell_type": "markdown",
      "metadata": {
        "id": "0dCpzIpzdaXB",
        "colab_type": "text"
      },
      "source": [
        "Due to the class imbalances, the Naive Bayes classifier has a terrible time with retrieving higher precision and true positive rates, which is the key to a successful anomaly detection machine."
      ]
    },
    {
      "cell_type": "markdown",
      "metadata": {
        "id": "3vk_5ffaNSL1",
        "colab_type": "text"
      },
      "source": [
        "### Random Forest Classifier"
      ]
    },
    {
      "cell_type": "code",
      "metadata": {
        "id": "JAMuU96UubHr",
        "colab_type": "code",
        "outputId": "effccaf6-665d-4b42-d60b-728becb4ca4a",
        "colab": {
          "base_uri": "https://localhost:8080/",
          "height": 52
        }
      },
      "source": [
        "param_grid = {\"n_estimators\": [40, 45, 50],\n",
        "              \"max_depth\": [5], \n",
        "              \"min_samples_leaf\": [3, 4, 5]}\n",
        "\n",
        "random_forest_data_bundle, fitted_model, elapsed_time = fit_get_predictions_with_CV(principalDf, \"RFC\", param_grid)\n",
        "\n",
        "y_pred = random_forest_data_bundle[4]\n",
        "y_test = random_forest_data_bundle[3]"
      ],
      "execution_count": 0,
      "outputs": [
        {
          "output_type": "stream",
          "text": [
            "Training, Validation and Testing are complete.\n",
            "Elapsed Time: 1336.8516822379988s\n"
          ],
          "name": "stdout"
        }
      ]
    },
    {
      "cell_type": "code",
      "metadata": {
        "id": "qeaWDYXFMe1P",
        "colab_type": "code",
        "outputId": "54e725bb-7e9d-4ed0-f4ae-d786a055e99a",
        "colab": {
          "base_uri": "https://localhost:8080/",
          "height": 362
        }
      },
      "source": [
        "report_df = report_performance_scores(fitted_model, y_test, y_pred, elapsed_time)\n",
        "report_df.head()"
      ],
      "execution_count": 0,
      "outputs": [
        {
          "output_type": "stream",
          "text": [
            "('              precision    recall  f1-score   support\\n'\n",
            " '\\n'\n",
            " '           0       1.00      1.00      1.00     85307\\n'\n",
            " '           1       0.89      0.57      0.70       136\\n'\n",
            " '\\n'\n",
            " '    accuracy                           1.00     85443\\n'\n",
            " '   macro avg       0.94      0.79      0.85     85443\\n'\n",
            " 'weighted avg       1.00      1.00      1.00     85443\\n')\n",
            "\n",
            "\n",
            "ROC Score: 0.7867060940451063\n",
            "Confusion matrix\n",
            "[[85297    10]\n",
            " [   58    78]]\n",
            "Recall: 0.5735294117647058\n",
            "Precision score: 0.8863636363636364\n"
          ],
          "name": "stdout"
        },
        {
          "output_type": "execute_result",
          "data": {
            "text/html": [
              "<div>\n",
              "<style scoped>\n",
              "    .dataframe tbody tr th:only-of-type {\n",
              "        vertical-align: middle;\n",
              "    }\n",
              "\n",
              "    .dataframe tbody tr th {\n",
              "        vertical-align: top;\n",
              "    }\n",
              "\n",
              "    .dataframe thead th {\n",
              "        text-align: right;\n",
              "    }\n",
              "</style>\n",
              "<table border=\"1\" class=\"dataframe\">\n",
              "  <thead>\n",
              "    <tr style=\"text-align: right;\">\n",
              "      <th></th>\n",
              "      <th>id</th>\n",
              "      <th>best_parameters</th>\n",
              "      <th>accuracy</th>\n",
              "      <th>precision</th>\n",
              "      <th>recall</th>\n",
              "      <th>roc_auc</th>\n",
              "      <th>r2_score</th>\n",
              "      <th>train_time(s)</th>\n",
              "    </tr>\n",
              "  </thead>\n",
              "  <tbody>\n",
              "    <tr>\n",
              "      <th>0</th>\n",
              "      <td>000</td>\n",
              "      <td>&lt;bound method BaseEstimator.get_params of Grid...</td>\n",
              "      <td>0.999204</td>\n",
              "      <td>0.886364</td>\n",
              "      <td>0.573529</td>\n",
              "      <td>0.786706</td>\n",
              "      <td>0.499203</td>\n",
              "      <td>1336.8516822379988</td>\n",
              "    </tr>\n",
              "  </tbody>\n",
              "</table>\n",
              "</div>"
            ],
            "text/plain": [
              "    id  ...       train_time(s)\n",
              "0  000  ...  1336.8516822379988\n",
              "\n",
              "[1 rows x 8 columns]"
            ]
          },
          "metadata": {
            "tags": []
          },
          "execution_count": 59
        }
      ]
    },
    {
      "cell_type": "code",
      "metadata": {
        "id": "JskUiuBuBKiJ",
        "colab_type": "code",
        "outputId": "2a95927b-fb9d-4728-e52a-95227a86fb0a",
        "colab": {
          "base_uri": "https://localhost:8080/",
          "height": 294
        }
      },
      "source": [
        "plot_roc(y_test, y_pred)"
      ],
      "execution_count": 0,
      "outputs": [
        {
          "output_type": "display_data",
          "data": {
            "image/png": "[encoded data removed]",
            "text/plain": [
              "<Figure size 432x288 with 1 Axes>"
            ]
          },
          "metadata": {
            "tags": []
          }
        }
      ]
    },
    {
      "cell_type": "markdown",
      "metadata": {
        "id": "ZkxzJ6-yvxS_",
        "colab_type": "text"
      },
      "source": [
        "### Nearest Neighbors"
      ]
    },
    {
      "cell_type": "code",
      "metadata": {
        "id": "dwgeu1MevuhT",
        "colab_type": "code",
        "outputId": "9524974b-2686-46b4-a262-0499a8bde50b",
        "colab": {
          "base_uri": "https://localhost:8080/",
          "height": 52
        }
      },
      "source": [
        "param_grid = {\n",
        "    \"n_neighbors\":[5, 6, 7]\n",
        "}\n",
        "\n",
        "knn_data_bundle, fitted_model, elapsed_time = fit_get_predictions_with_CV(shorter_df, \"KNN\", param_grid)\n",
        "\n",
        "y_pred = knn_data_bundle[4]\n",
        "y_test = knn_data_bundle[3]"
      ],
      "execution_count": 0,
      "outputs": [
        {
          "output_type": "stream",
          "text": [
            "Training, Validation and Testing are complete.\n",
            "Elapsed Time: 30.145930512000632s\n"
          ],
          "name": "stdout"
        }
      ]
    },
    {
      "cell_type": "code",
      "metadata": {
        "id": "OHAlSKBJT38m",
        "colab_type": "code",
        "outputId": "00b69270-b6f9-4206-a148-d2673776fccf",
        "colab": {
          "base_uri": "https://localhost:8080/",
          "height": 530
        }
      },
      "source": [
        "report_df = report_performance_scores(fitted_model, y_test, y_pred, elapsed_time)\n",
        "report_df.head()"
      ],
      "execution_count": 0,
      "outputs": [
        {
          "output_type": "stream",
          "text": [
            "('              precision    recall  f1-score   support\\n'\n",
            " '\\n'\n",
            " '           0       1.00      1.00      1.00     85307\\n'\n",
            " '           1       0.94      0.75      0.83       136\\n'\n",
            " '\\n'\n",
            " '    accuracy                           1.00     85443\\n'\n",
            " '   macro avg       0.97      0.87      0.92     85443\\n'\n",
            " 'weighted avg       1.00      1.00      1.00     85443\\n')\n",
            "\n",
            "\n",
            "ROC Score: 0.8749589717139273\n",
            "\n",
            "\n",
            "                           *Fraudulent Cases are considered Positive Cases\n",
            "============================================================================================\n",
            "######################### Predicted Non-Fraudulent ### | ### Predicted Fraudulent ##########\n",
            "\n",
            "\n",
            "Actually Non-Fraudulent | TN = 85300                   | FP = 7\n",
            "\n",
            "\n",
            "Actually Fraudulent     | FN = 34                       | TP = 102 \n",
            "\n",
            "\n",
            "Specificity: 0.75\n",
            "Sensitivity (aka. Recall): 0.9999179434278547\n"
          ],
          "name": "stdout"
        },
        {
          "output_type": "execute_result",
          "data": {
            "text/html": [
              "<div>\n",
              "<style scoped>\n",
              "    .dataframe tbody tr th:only-of-type {\n",
              "        vertical-align: middle;\n",
              "    }\n",
              "\n",
              "    .dataframe tbody tr th {\n",
              "        vertical-align: top;\n",
              "    }\n",
              "\n",
              "    .dataframe thead th {\n",
              "        text-align: right;\n",
              "    }\n",
              "</style>\n",
              "<table border=\"1\" class=\"dataframe\">\n",
              "  <thead>\n",
              "    <tr style=\"text-align: right;\">\n",
              "      <th></th>\n",
              "      <th>id</th>\n",
              "      <th>best_parameters</th>\n",
              "      <th>accuracy</th>\n",
              "      <th>precision</th>\n",
              "      <th>recall</th>\n",
              "      <th>roc_auc</th>\n",
              "      <th>r2_score</th>\n",
              "      <th>f1-score</th>\n",
              "      <th>train_time(s)</th>\n",
              "    </tr>\n",
              "  </thead>\n",
              "  <tbody>\n",
              "    <tr>\n",
              "      <th>0</th>\n",
              "      <td>000</td>\n",
              "      <td>&lt;bound method BaseEstimator.get_params of Grid...</td>\n",
              "      <td>0.99952</td>\n",
              "      <td>0.93578</td>\n",
              "      <td>0.75</td>\n",
              "      <td>0.874959</td>\n",
              "      <td>0.698049</td>\n",
              "      <td>0.832653</td>\n",
              "      <td>30.145930512000632</td>\n",
              "    </tr>\n",
              "  </tbody>\n",
              "</table>\n",
              "</div>"
            ],
            "text/plain": [
              "    id  ...       train_time(s)\n",
              "0  000  ...  30.145930512000632\n",
              "\n",
              "[1 rows x 9 columns]"
            ]
          },
          "metadata": {
            "tags": []
          },
          "execution_count": 76
        }
      ]
    },
    {
      "cell_type": "code",
      "metadata": {
        "id": "dTmvptJ-zaTU",
        "colab_type": "code",
        "outputId": "2af056a7-b50d-4a60-f34d-9e95d3953d43",
        "colab": {
          "base_uri": "https://localhost:8080/",
          "height": 295
        }
      },
      "source": [
        "plot_roc(y_test, predict_max_prob(fitted_model, X_test))"
      ],
      "execution_count": 0,
      "outputs": [
        {
          "output_type": "display_data",
          "data": {
            "image/png": "[encoded data removed]",
            "text/plain": [
              "<Figure size 432x288 with 1 Axes>"
            ]
          },
          "metadata": {
            "tags": []
          }
        }
      ]
    },
    {
      "cell_type": "code",
      "metadata": {
        "id": "L1to7UEw74-L",
        "colab_type": "code",
        "outputId": "cb3b1d14-7255-48c4-9e01-467b8c8e4a8f",
        "colab": {
          "base_uri": "https://localhost:8080/",
          "height": 295
        }
      },
      "source": [
        "plot_prc(y_test, \n",
        "         predict_max_prob(fitted_model, X_test), \n",
        "         y_pred)"
      ],
      "execution_count": 0,
      "outputs": [
        {
          "output_type": "display_data",
          "data": {
            "image/png": "[encoded data removed]",
            "text/plain": [
              "<Figure size 432x288 with 1 Axes>"
            ]
          },
          "metadata": {
            "tags": []
          }
        }
      ]
    },
    {
      "cell_type": "markdown",
      "metadata": {
        "id": "3hCcXN9oqgrI",
        "colab_type": "text"
      },
      "source": [
        "## Notes\n",
        "\n",
        "From all these simple models, we can see the same shape over and over again, which indicates a major class imbalance, that is, a very large majority of the cases are the non-fraudulent cases (as expected, vs. fraudlent ones). As we can see, we have an almost perfect accuracy score here and our area under the ROC curve score is good. These are good starts for predictive modeling, however, I think we need to lift our \"recall\" score, which is probably one of the most important metric here (along side specificity) as those metrics constitute how good we are at detecting the minority fraudulent cases. Again, this is nothing new. Just hammering the same intuition we've seen and experienced time and time again.\n",
        "\n",
        "Therefore we have to take a different approach to the problem. We will go at it in two approaches here:\n",
        "\n",
        "1) Outlier Detection/Anomaly detection\n",
        "\n",
        "2) and Undersampling of the majority class/oversampling of the minority class "
      ]
    },
    {
      "cell_type": "markdown",
      "metadata": {
        "id": "4Vyv6QSyC-az",
        "colab_type": "text"
      },
      "source": [
        "## Addressing Class Imbalance - Down Sampling Majority Class\n",
        "\n",
        "Another approach to addressing the problem of class imbalance is with down-sampling the majority class. This is something we've done before in a few other problems, and it might not be an option in all the cases. In this case, however, I think we have enough data points in total, and enough cases of the majority class we can down sample from. \n",
        "\n",
        "Keep in mind, we want to downsample to include the most influential and representative samples to learn from from the majority negative class. We will be making use of the SMOTE python library and its methods to select an approprirate down-sampling strategy for our problem"
      ]
    },
    {
      "cell_type": "markdown",
      "metadata": {
        "id": "qR7Q5TxfvI9D",
        "colab_type": "text"
      },
      "source": [
        "### Naive Random Over-resampling of the minority class\n",
        "\n",
        "One of the easiest strategies, albeit, one of the most naive strategies of over sampling is using random sampling of the minority class to have higher representation in the dataset.\n",
        "\n",
        "To resample, resampling objects often provide samples of the form:\n",
        "\n",
        "estimator = obj.fit(data, targets)\n",
        "\n",
        "data_resampled, targets_resampled = obj.fit_resample(data, targets)"
      ]
    },
    {
      "cell_type": "code",
      "metadata": {
        "id": "my6NPNMKaVFb",
        "colab_type": "code",
        "outputId": "cc4d3087-3e93-4f37-98a1-fdabb74f2fde",
        "colab": {
          "base_uri": "https://localhost:8080/",
          "height": 34
        }
      },
      "source": [
        "from imblearn.over_sampling import RandomOverSampler\n",
        "from collections import Counter\n",
        "\n",
        "ros = RandomOverSampler(random_state=0)\n",
        "X_resampled, y_resampled = ros.fit_resample(X, y)\n",
        "\n",
        "print(sorted(Counter(y_resampled).items()))"
      ],
      "execution_count": 0,
      "outputs": [
        {
          "output_type": "stream",
          "text": [
            "[(0, 284315), (1, 284315)]\n"
          ],
          "name": "stdout"
        }
      ]
    },
    {
      "cell_type": "code",
      "metadata": {
        "id": "yW1oqwZtwIzb",
        "colab_type": "code",
        "outputId": "d4142209-1285-457f-b10a-4b6063644872",
        "colab": {
          "base_uri": "https://localhost:8080/",
          "height": 70
        }
      },
      "source": [
        "ROS_df = pd.DataFrame(np.c_[X_resampled, y_resampled], columns=principalDf.columns)"
      ],
      "execution_count": 0,
      "outputs": [
        {
          "output_type": "execute_result",
          "data": {
            "text/plain": [
              "1.0    284315\n",
              "0.0    284315\n",
              "Name: target, dtype: int64"
            ]
          },
          "metadata": {
            "tags": []
          },
          "execution_count": 77
        }
      ]
    },
    {
      "cell_type": "markdown",
      "metadata": {
        "id": "VgPSkqn8wk7U",
        "colab_type": "text"
      },
      "source": [
        "We fit a simple Naive Bayes model with some parameter searching to see how well the model fits to a perfectly balanced, over sampled dataset. We expect much much beter recall and higher F1-scores and higher recall."
      ]
    },
    {
      "cell_type": "code",
      "metadata": {
        "id": "9cL3JfUPaYq5",
        "colab_type": "code",
        "outputId": "760caa16-4505-4b71-9175-ffd616a906d2",
        "colab": {
          "base_uri": "https://localhost:8080/",
          "height": 52
        }
      },
      "source": [
        "param_grid = {\n",
        "    \"n_neighbors\":[5, 6, 7]\n",
        "}\n",
        "\n",
        "knn_data_bundle, fitted_model, elapsed_time = fit_get_predictions_with_CV(ROS_df, \"KNN\", param_grid)\n",
        "\n",
        "y_pred = knn_data_bundle[4]\n",
        "y_test = knn_data_bundle[3]"
      ],
      "execution_count": 0,
      "outputs": [
        {
          "output_type": "stream",
          "text": [
            "Training, Validation and Testing are complete.\n",
            "Elapsed Time: 265.90498992500034s\n"
          ],
          "name": "stdout"
        }
      ]
    },
    {
      "cell_type": "code",
      "metadata": {
        "id": "IFxgYKzxwfPJ",
        "colab_type": "code",
        "outputId": "4bc0abf9-5d1f-4eb8-8757-c06e33f7911f",
        "colab": {
          "base_uri": "https://localhost:8080/",
          "height": 362
        }
      },
      "source": [
        "report_df = report_performance_scores(fitted_model, y_test, y_pred, elapsed_time)\n",
        "report_df.head()"
      ],
      "execution_count": 0,
      "outputs": [
        {
          "output_type": "stream",
          "text": [
            "('              precision    recall  f1-score   support\\n'\n",
            " '\\n'\n",
            " '         0.0       1.00      1.00      1.00     85149\\n'\n",
            " '         1.0       1.00      1.00      1.00     85440\\n'\n",
            " '\\n'\n",
            " '    accuracy                           1.00    170589\\n'\n",
            " '   macro avg       1.00      1.00      1.00    170589\\n'\n",
            " 'weighted avg       1.00      1.00      1.00    170589\\n')\n",
            "\n",
            "\n",
            "ROC Score: 0.9995126190560076\n",
            "Confusion matrix\n",
            "[[85066    83]\n",
            " [    0 85440]]\n",
            "Recall: 1.0\n",
            "Precision score: 0.9990295008360324\n"
          ],
          "name": "stdout"
        },
        {
          "output_type": "execute_result",
          "data": {
            "text/html": [
              "<div>\n",
              "<style scoped>\n",
              "    .dataframe tbody tr th:only-of-type {\n",
              "        vertical-align: middle;\n",
              "    }\n",
              "\n",
              "    .dataframe tbody tr th {\n",
              "        vertical-align: top;\n",
              "    }\n",
              "\n",
              "    .dataframe thead th {\n",
              "        text-align: right;\n",
              "    }\n",
              "</style>\n",
              "<table border=\"1\" class=\"dataframe\">\n",
              "  <thead>\n",
              "    <tr style=\"text-align: right;\">\n",
              "      <th></th>\n",
              "      <th>id</th>\n",
              "      <th>best_parameters</th>\n",
              "      <th>accuracy</th>\n",
              "      <th>precision</th>\n",
              "      <th>recall</th>\n",
              "      <th>roc_auc</th>\n",
              "      <th>r2_score</th>\n",
              "      <th>f1-score</th>\n",
              "      <th>train_time(s)</th>\n",
              "    </tr>\n",
              "  </thead>\n",
              "  <tbody>\n",
              "    <tr>\n",
              "      <th>0</th>\n",
              "      <td>000</td>\n",
              "      <td>&lt;bound method BaseEstimator.get_params of Grid...</td>\n",
              "      <td>0.999513</td>\n",
              "      <td>0.99903</td>\n",
              "      <td>1.0</td>\n",
              "      <td>0.999513</td>\n",
              "      <td>0.998054</td>\n",
              "      <td>0.999515</td>\n",
              "      <td>265.90498992500034</td>\n",
              "    </tr>\n",
              "  </tbody>\n",
              "</table>\n",
              "</div>"
            ],
            "text/plain": [
              "    id  ...       train_time(s)\n",
              "0  000  ...  265.90498992500034\n",
              "\n",
              "[1 rows x 9 columns]"
            ]
          },
          "metadata": {
            "tags": []
          },
          "execution_count": 79
        }
      ]
    },
    {
      "cell_type": "code",
      "metadata": {
        "id": "TaArM4Xoxzwf",
        "colab_type": "code",
        "outputId": "42cb146e-c65f-4081-ca05-88da390d7e49",
        "colab": {
          "base_uri": "https://localhost:8080/",
          "height": 34
        }
      },
      "source": [
        "fitted_model.best_params_"
      ],
      "execution_count": 0,
      "outputs": [
        {
          "output_type": "execute_result",
          "data": {
            "text/plain": [
              "{'n_neighbors': 5}"
            ]
          },
          "metadata": {
            "tags": []
          },
          "execution_count": 83
        }
      ]
    },
    {
      "cell_type": "code",
      "metadata": {
        "id": "3mc3D13_wfSk",
        "colab_type": "code",
        "outputId": "c616be19-3973-41d5-b16f-9e254e9cc28c",
        "colab": {
          "base_uri": "https://localhost:8080/",
          "height": 294
        }
      },
      "source": [
        "plot_roc(y_test, y_pred)"
      ],
      "execution_count": 0,
      "outputs": [
        {
          "output_type": "display_data",
          "data": {
            "image/png": "[encoded data removed]",
            "text/plain": [
              "<Figure size 432x288 with 1 Axes>"
            ]
          },
          "metadata": {
            "tags": []
          }
        }
      ]
    },
    {
      "cell_type": "markdown",
      "metadata": {
        "id": "Xlf4AmC8y6jx",
        "colab_type": "text"
      },
      "source": [
        "Verdict: Don't randomly and naively over sample! There is clearly an over fitted model. I wish that big number was a good sign in this case, but clearly, there needs to be some balanced thats struck and this ain't it chief."
      ]
    },
    {
      "cell_type": "markdown",
      "metadata": {
        "id": "G04s5TKAzOln",
        "colab_type": "text"
      },
      "source": [
        "### Under Sampling of the Majority Class Naively\n",
        "\n",
        "This approach reducees the number of majority cases in the dataset to help the decision function learn less about the signals from the majority case and more from that of the minority case. \n",
        "\n",
        "Depending on how many minority cases you actually have, this might be a terrible idea, in the most extreme of cases, but we will never know unless we learn and try."
      ]
    },
    {
      "cell_type": "code",
      "metadata": {
        "id": "Zy4xcLzGzSXV",
        "colab_type": "code",
        "outputId": "2ff52346-ffff-438b-b80e-befc39e90e9c",
        "colab": {
          "base_uri": "https://localhost:8080/",
          "height": 34
        }
      },
      "source": [
        "from imblearn.under_sampling import RandomUnderSampler\n",
        "rus = RandomUnderSampler(random_state=0, replacement=True)\n",
        "X_resampled, y_resampled = rus.fit_resample(X, y)\n",
        "print(sorted(Counter(y_resampled).items()))"
      ],
      "execution_count": 0,
      "outputs": [
        {
          "output_type": "stream",
          "text": [
            "[(0, 492), (1, 492)]\n"
          ],
          "name": "stdout"
        }
      ]
    },
    {
      "cell_type": "code",
      "metadata": {
        "id": "XicoWO5B3rnv",
        "colab_type": "code",
        "colab": {}
      },
      "source": [
        "KMUS_df = pd.DataFrame(np.c_[X_resampled, y_resampled], columns=principalDf.columns)"
      ],
      "execution_count": 0,
      "outputs": []
    },
    {
      "cell_type": "code",
      "metadata": {
        "id": "d9cm42qc3eVQ",
        "colab_type": "code",
        "outputId": "23ee6878-d27b-4fdd-c229-d228997754b4",
        "colab": {
          "base_uri": "https://localhost:8080/",
          "height": 52
        }
      },
      "source": [
        "param_grid = {\n",
        "    \"n_neighbors\":[3, 4, 5]\n",
        "}\n",
        "\n",
        "knn_data_bundle, fitted_model, elapsed_time = fit_get_predictions_with_CV(KMUS_df, \"KNN\", param_grid)\n",
        "\n",
        "y_pred = knn_data_bundle[4]\n",
        "y_test = knn_data_bundle[3]"
      ],
      "execution_count": 0,
      "outputs": [
        {
          "output_type": "stream",
          "text": [
            "Training, Validation and Testing are complete.\n",
            "Elapsed Time: 0.13857404900045367s\n"
          ],
          "name": "stdout"
        }
      ]
    },
    {
      "cell_type": "code",
      "metadata": {
        "id": "PFca12TW3iyt",
        "colab_type": "code",
        "outputId": "d234451b-d309-4eae-c917-a8ba7a0f9d25",
        "colab": {
          "base_uri": "https://localhost:8080/",
          "height": 34
        }
      },
      "source": [
        "fitted_model.best_params_"
      ],
      "execution_count": 0,
      "outputs": [
        {
          "output_type": "execute_result",
          "data": {
            "text/plain": [
              "{'n_neighbors': 4}"
            ]
          },
          "metadata": {
            "tags": []
          },
          "execution_count": 359
        }
      ]
    },
    {
      "cell_type": "code",
      "metadata": {
        "id": "OkErp4eF3edo",
        "colab_type": "code",
        "outputId": "14840204-e721-46a1-f48b-a5fc44e3b9f5",
        "colab": {
          "base_uri": "https://localhost:8080/",
          "height": 540
        }
      },
      "source": [
        "report_df = report_performance_scores(fitted_model, y_test, y_pred, elapsed_time)\n",
        "report_df.head()"
      ],
      "execution_count": 0,
      "outputs": [
        {
          "output_type": "stream",
          "text": [
            "('              precision    recall  f1-score   support\\n'\n",
            " '\\n'\n",
            " '         0.0       0.89      0.96      0.93       150\\n'\n",
            " '         1.0       0.96      0.88      0.92       146\\n'\n",
            " '\\n'\n",
            " '    accuracy                           0.92       296\\n'\n",
            " '   macro avg       0.92      0.92      0.92       296\\n'\n",
            " 'weighted avg       0.92      0.92      0.92       296\\n')\n",
            "\n",
            "\n",
            "ROC Score: 0.9217808219178082\n",
            "\n",
            "\n",
            "                           *Fraudulent Cases are considered Positive Cases\n",
            "============================================================================================\n",
            "######################### Predicted Non-Fraudulent ### | ### Predicted Fraudulent ##########\n",
            "\n",
            "\n",
            "Actually Non-Fraudulent | TN = 144                   | FP = 6\n",
            "\n",
            "\n",
            "Actually Fraudulent     | FN = 17                       | TP = 129 \n",
            "\n",
            "\n",
            "Specificity: 0.8835616438356164\n",
            "Sensitivity (aka. Recall): 0.96\n"
          ],
          "name": "stdout"
        },
        {
          "output_type": "execute_result",
          "data": {
            "text/html": [
              "<div>\n",
              "<style scoped>\n",
              "    .dataframe tbody tr th:only-of-type {\n",
              "        vertical-align: middle;\n",
              "    }\n",
              "\n",
              "    .dataframe tbody tr th {\n",
              "        vertical-align: top;\n",
              "    }\n",
              "\n",
              "    .dataframe thead th {\n",
              "        text-align: right;\n",
              "    }\n",
              "</style>\n",
              "<table border=\"1\" class=\"dataframe\">\n",
              "  <thead>\n",
              "    <tr style=\"text-align: right;\">\n",
              "      <th></th>\n",
              "      <th>id</th>\n",
              "      <th>best_parameters</th>\n",
              "      <th>accuracy</th>\n",
              "      <th>precision</th>\n",
              "      <th>recall</th>\n",
              "      <th>roc_auc</th>\n",
              "      <th>r2_score</th>\n",
              "      <th>f1-score</th>\n",
              "      <th>train_time(s)</th>\n",
              "    </tr>\n",
              "  </thead>\n",
              "  <tbody>\n",
              "    <tr>\n",
              "      <th>0</th>\n",
              "      <td>000</td>\n",
              "      <td>&lt;bound method BaseEstimator.get_params of Grid...</td>\n",
              "      <td>0.922297</td>\n",
              "      <td>0.955556</td>\n",
              "      <td>0.883562</td>\n",
              "      <td>0.921781</td>\n",
              "      <td>0.689132</td>\n",
              "      <td>0.918149</td>\n",
              "      <td>0.13857404900045367</td>\n",
              "    </tr>\n",
              "  </tbody>\n",
              "</table>\n",
              "</div>"
            ],
            "text/plain": [
              "    id  ...        train_time(s)\n",
              "0  000  ...  0.13857404900045367\n",
              "\n",
              "[1 rows x 9 columns]"
            ]
          },
          "metadata": {
            "tags": []
          },
          "execution_count": 361
        }
      ]
    },
    {
      "cell_type": "code",
      "metadata": {
        "id": "3D5_YGA2kSrO",
        "colab_type": "code",
        "colab": {}
      },
      "source": [
        "X_train, X_test, y_train, y_test = train_test_split(X_resampled, y_resampled, test_size=0.3, random_state=42)\n",
        "y_pred_probs = fitted_model.predict_proba(X_test)\n",
        "y_pred_probs_max = get_max_probas(y_pred_probs)"
      ],
      "execution_count": 0,
      "outputs": []
    },
    {
      "cell_type": "code",
      "metadata": {
        "id": "f4sjFjww3ekS",
        "colab_type": "code",
        "outputId": "4cd2ebca-5ed0-433e-88c9-ae549f0b52b8",
        "colab": {
          "base_uri": "https://localhost:8080/",
          "height": 294
        }
      },
      "source": [
        "plot_roc(y_test, y_pred_probs_max)"
      ],
      "execution_count": 0,
      "outputs": [
        {
          "output_type": "display_data",
          "data": {
            "image/png": "[encoded data removed]",
            "text/plain": [
              "<Figure size 432x288 with 1 Axes>"
            ]
          },
          "metadata": {
            "tags": []
          }
        }
      ]
    },
    {
      "cell_type": "markdown",
      "metadata": {
        "id": "kES7HV3z8RRn",
        "colab_type": "text"
      },
      "source": [
        "When we plot the probabilities on the ROC curbe, we get a crappy model. When we plot the class predictions themselves, we get something that looks more awesome but incorrect.\n",
        "\n",
        "We can test this model against randomly sampled non-fraud cases and see how well this model performs."
      ]
    },
    {
      "cell_type": "code",
      "metadata": {
        "colab_type": "code",
        "id": "27FDKrCnS-ZQ",
        "colab": {}
      },
      "source": [
        "# only non-fraudulent cases for this test\n",
        "X_test, y_test = sample_for_test_set(principalDf, include_minority=False)"
      ],
      "execution_count": 0,
      "outputs": []
    },
    {
      "cell_type": "code",
      "metadata": {
        "colab_type": "code",
        "id": "9hEUHn4CS-ZX",
        "colab": {}
      },
      "source": [
        "y_pred = fitted_model.predict(X_test)\n",
        "y_pred_probs = fitted_model.predict_proba(X_test)\n",
        "y_pred_probs_max = get_max_probas(y_pred_probs)"
      ],
      "execution_count": 0,
      "outputs": []
    },
    {
      "cell_type": "code",
      "metadata": {
        "colab_type": "code",
        "outputId": "bb7ce19e-6ee0-4d44-a75a-f0b3f9bd11bd",
        "id": "6Sp5-lAIS-Za",
        "colab": {
          "base_uri": "https://localhost:8080/",
          "height": 70
        }
      },
      "source": [
        "y_pred = pd.Series(y_pred)\n",
        "y_pred.value_counts()"
      ],
      "execution_count": 0,
      "outputs": [
        {
          "output_type": "execute_result",
          "data": {
            "text/plain": [
              "0.0    83564\n",
              "1.0     1730\n",
              "dtype: int64"
            ]
          },
          "metadata": {
            "tags": []
          },
          "execution_count": 372
        }
      ]
    },
    {
      "cell_type": "code",
      "metadata": {
        "id": "-DNpHOjLTSrA",
        "colab_type": "code",
        "outputId": "363bda5f-e5ff-4b03-872e-73b91dbd8a11",
        "colab": {
          "base_uri": "https://localhost:8080/",
          "height": 247
        }
      },
      "source": [
        "detailed_confusion_matrix(y_test, y_pred)"
      ],
      "execution_count": 0,
      "outputs": [
        {
          "output_type": "stream",
          "text": [
            "                           *Fraudulent Cases are considered Positive Cases\n",
            "============================================================================================\n",
            "######################### Predicted Non-Fraudulent ### | ### Predicted Fraudulent ##########\n",
            "\n",
            "\n",
            "Actually Non-Fraudulent | TN = 83564                   | FP = 1730\n",
            "\n",
            "\n",
            "Actually Fraudulent     | FN = 0                       | TP = 0 \n",
            "\n",
            "\n",
            "Specificity: nan\n",
            "Sensitivity (aka. Recall): 0.979717213403053\n"
          ],
          "name": "stdout"
        }
      ]
    },
    {
      "cell_type": "code",
      "metadata": {
        "id": "CrZpVZmZoHLQ",
        "colab_type": "code",
        "outputId": "857ed7ab-bf99-444e-a4fa-748fc9e088d0",
        "colab": {
          "base_uri": "https://localhost:8080/",
          "height": 294
        }
      },
      "source": [
        "plot_roc(y_test, y_pred_probs_max)"
      ],
      "execution_count": 0,
      "outputs": [
        {
          "output_type": "display_data",
          "data": {
            "image/png": "[encoded data removed]",
            "text/plain": [
              "<Figure size 432x288 with 1 Axes>"
            ]
          },
          "metadata": {
            "tags": []
          }
        }
      ]
    },
    {
      "cell_type": "code",
      "metadata": {
        "id": "aqVoQWcPVc-l",
        "colab_type": "code",
        "outputId": "b43377a4-06a1-4bd5-fd0f-d606b548a226",
        "colab": {
          "base_uri": "https://localhost:8080/",
          "height": 34
        }
      },
      "source": [
        "print(f\"{1753/(1753+83541)} %\")"
      ],
      "execution_count": 0,
      "outputs": [
        {
          "output_type": "stream",
          "text": [
            "0.020552442141299504 %\n"
          ],
          "name": "stdout"
        }
      ]
    },
    {
      "cell_type": "markdown",
      "metadata": {
        "id": "pqUhr1wbVCKS",
        "colab_type": "text"
      },
      "source": [
        "There were no fraudulent cases in this step, however, there alarm in the model went off in the cases of 1753 cases, with this type of naive sampling in this instance. This model therefore would cause unncessary harm and arm in its clients 2% of the time, which is too shockingly high of a number. This needs to be lowered because the harm and alarm of false positive cases can be enough for your clients to end their relationship with you."
      ]
    },
    {
      "cell_type": "code",
      "metadata": {
        "colab_type": "code",
        "outputId": "b0ac5159-0df5-484e-dfa2-80649eeb3fbf",
        "id": "uWKh_DpfS-Zc",
        "colab": {
          "base_uri": "https://localhost:8080/",
          "height": 294
        }
      },
      "source": [
        "plot_roc(y_test, y_pred)"
      ],
      "execution_count": 0,
      "outputs": [
        {
          "output_type": "display_data",
          "data": {
            "image/png": "[encoded data removed]",
            "text/plain": [
              "<Figure size 432x288 with 1 Axes>"
            ]
          },
          "metadata": {
            "tags": []
          }
        }
      ]
    },
    {
      "cell_type": "markdown",
      "metadata": {
        "id": "k_2bVffTAQSq",
        "colab_type": "text"
      },
      "source": [
        "### Undersampling of majority class with a meta-estimator\n",
        "\n",
        "With an instance hardness threshold approach, we can use a meta-estimator in the form of a logistic regressor, to filter out noisy examples that do not reach a probability threshold for inclusion in the dataset. This method employs cross validation as well"
      ]
    },
    {
      "cell_type": "code",
      "metadata": {
        "id": "6tuUnhzbAUYs",
        "colab_type": "code",
        "outputId": "dd618998-6f04-4554-aa42-17bc6cb1cef5",
        "colab": {
          "base_uri": "https://localhost:8080/",
          "height": 34
        }
      },
      "source": [
        "from sklearn.linear_model import LogisticRegression\n",
        "from imblearn.under_sampling import InstanceHardnessThreshold\n",
        "from collections import Counter\n",
        "iht = InstanceHardnessThreshold(random_state=0,\n",
        "                                estimator=LogisticRegression(\n",
        "                                    solver='lbfgs', multi_class='auto'))\n",
        "X_resampled, y_resampled = iht.fit_resample(X, y)\n",
        "print(sorted(Counter(y_resampled).items()))"
      ],
      "execution_count": 0,
      "outputs": [
        {
          "output_type": "stream",
          "text": [
            "[(0, 493), (1, 492)]\n"
          ],
          "name": "stdout"
        }
      ]
    },
    {
      "cell_type": "code",
      "metadata": {
        "colab_type": "code",
        "id": "sAs_F3wlAqVg",
        "colab": {}
      },
      "source": [
        "IHTUS_df = pd.DataFrame(np.c_[X_resampled, y_resampled], columns=principalDf.columns)"
      ],
      "execution_count": 0,
      "outputs": []
    },
    {
      "cell_type": "code",
      "metadata": {
        "colab_type": "code",
        "outputId": "183655cc-891e-4417-af09-1a2815665ad1",
        "id": "meAeZJWDAqVl",
        "colab": {
          "base_uri": "https://localhost:8080/",
          "height": 52
        }
      },
      "source": [
        "param_grid = {\n",
        "    \"n_neighbors\":[3, 4, 5]\n",
        "}\n",
        "\n",
        "knn_data_bundle, fitted_model, elapsed_time = fit_get_predictions_with_CV(IHTUS_df, \"KNN\", param_grid)\n",
        "\n",
        "y_pred = knn_data_bundle[4]\n",
        "y_test = knn_data_bundle[3]"
      ],
      "execution_count": 0,
      "outputs": [
        {
          "output_type": "stream",
          "text": [
            "Training, Validation and Testing are complete.\n",
            "Elapsed Time: 0.14205102900086786s\n"
          ],
          "name": "stdout"
        }
      ]
    },
    {
      "cell_type": "code",
      "metadata": {
        "colab_type": "code",
        "outputId": "d43af432-6e45-4b0c-fef8-b2ae7551ed5b",
        "id": "GMWQHUw6AqVn",
        "colab": {
          "base_uri": "https://localhost:8080/",
          "height": 540
        }
      },
      "source": [
        "report_df = report_performance_scores(fitted_model, y_test, y_pred, elapsed_time)\n",
        "report_df.head()"
      ],
      "execution_count": 0,
      "outputs": [
        {
          "output_type": "stream",
          "text": [
            "('              precision    recall  f1-score   support\\n'\n",
            " '\\n'\n",
            " '           0       1.00      0.03      0.05     85306\\n'\n",
            " '           1       0.00      1.00      0.00       136\\n'\n",
            " '\\n'\n",
            " '    accuracy                           0.03     85442\\n'\n",
            " '   macro avg       0.50      0.51      0.03     85442\\n'\n",
            " 'weighted avg       1.00      0.03      0.05     85442\\n')\n",
            "\n",
            "\n",
            "ROC Score: 0.5137563594588892\n",
            "\n",
            "\n",
            "                           *Fraudulent Cases are considered Positive Cases\n",
            "============================================================================================\n",
            "######################### Predicted Non-Fraudulent ### | ### Predicted Fraudulent ##########\n",
            "\n",
            "\n",
            "Actually Non-Fraudulent | TN = 2347                   | FP = 82959\n",
            "\n",
            "\n",
            "Actually Fraudulent     | FN = 0                       | TP = 136 \n",
            "\n",
            "\n",
            "Specificity: 1.0\n",
            "Sensitivity (aka. Recall): 0.027512718917778352\n"
          ],
          "name": "stdout"
        },
        {
          "output_type": "execute_result",
          "data": {
            "text/html": [
              "<div>\n",
              "<style scoped>\n",
              "    .dataframe tbody tr th:only-of-type {\n",
              "        vertical-align: middle;\n",
              "    }\n",
              "\n",
              "    .dataframe tbody tr th {\n",
              "        vertical-align: top;\n",
              "    }\n",
              "\n",
              "    .dataframe thead th {\n",
              "        text-align: right;\n",
              "    }\n",
              "</style>\n",
              "<table border=\"1\" class=\"dataframe\">\n",
              "  <thead>\n",
              "    <tr style=\"text-align: right;\">\n",
              "      <th></th>\n",
              "      <th>id</th>\n",
              "      <th>best_parameters</th>\n",
              "      <th>accuracy</th>\n",
              "      <th>precision</th>\n",
              "      <th>recall</th>\n",
              "      <th>roc_auc</th>\n",
              "      <th>r2_score</th>\n",
              "      <th>f1-score</th>\n",
              "      <th>train_time(s)</th>\n",
              "    </tr>\n",
              "  </thead>\n",
              "  <tbody>\n",
              "    <tr>\n",
              "      <th>0</th>\n",
              "      <td>000</td>\n",
              "      <td>&lt;bound method BaseEstimator.get_params of Grid...</td>\n",
              "      <td>0.029061</td>\n",
              "      <td>0.001637</td>\n",
              "      <td>1.0</td>\n",
              "      <td>0.513756</td>\n",
              "      <td>-609.965134</td>\n",
              "      <td>0.003268</td>\n",
              "      <td>0.14205102900086786</td>\n",
              "    </tr>\n",
              "  </tbody>\n",
              "</table>\n",
              "</div>"
            ],
            "text/plain": [
              "    id  ...        train_time(s)\n",
              "0  000  ...  0.14205102900086786\n",
              "\n",
              "[1 rows x 9 columns]"
            ]
          },
          "metadata": {
            "tags": []
          },
          "execution_count": 297
        }
      ]
    },
    {
      "cell_type": "code",
      "metadata": {
        "colab_type": "code",
        "outputId": "dfc46c77-b799-45b5-f18e-e0f38ad16705",
        "id": "EIDDNqLAAqVo",
        "colab": {
          "base_uri": "https://localhost:8080/",
          "height": 294
        }
      },
      "source": [
        "plot_roc(y_test, y_pred)"
      ],
      "execution_count": 0,
      "outputs": [
        {
          "output_type": "display_data",
          "data": {
            "image/png": "[encoded data removed]",
            "text/plain": [
              "<Figure size 432x288 with 1 Axes>"
            ]
          },
          "metadata": {
            "tags": []
          }
        }
      ]
    },
    {
      "cell_type": "markdown",
      "metadata": {
        "id": "Ucw-ZBVQA7BM",
        "colab_type": "text"
      },
      "source": [
        "As we can see, running this sampling method out of the box gives us perfect scores across the board.... WOOHOO! We don't want to be using this type of resampling method because of overfitting, if you cannot tell by the sarcasm. And even if we did, we would have to employ a much more stringent regularization mechanism.\n",
        "\n",
        "Now we generate samples to test against. Again, no fraudulent cases in this sampling."
      ]
    },
    {
      "cell_type": "code",
      "metadata": {
        "id": "HJvaLWOQW7UM",
        "colab_type": "code",
        "colab": {}
      },
      "source": [
        "X_test, y_test = sample_for_test_set(principalDf, include_minority=True)"
      ],
      "execution_count": 0,
      "outputs": []
    },
    {
      "cell_type": "code",
      "metadata": {
        "id": "s6Qc4eRlXTnC",
        "colab_type": "code",
        "colab": {}
      },
      "source": [
        "y_pred = fitted_model.predict(X_test)"
      ],
      "execution_count": 0,
      "outputs": []
    },
    {
      "cell_type": "code",
      "metadata": {
        "id": "QUhzXJ8XXUx_",
        "colab_type": "code",
        "outputId": "03f4d5a8-cfcb-4c33-94af-769e652d9c44",
        "colab": {
          "base_uri": "https://localhost:8080/",
          "height": 247
        }
      },
      "source": [
        "detailed_confusion_matrix(y_test, y_pred)"
      ],
      "execution_count": 0,
      "outputs": [
        {
          "output_type": "stream",
          "text": [
            "                           *Fraudulent Cases are considered Positive Cases\n",
            "============================================================================================\n",
            "######################### Predicted Non-Fraudulent ### | ### Predicted Fraudulent ##########\n",
            "\n",
            "\n",
            "Actually Non-Fraudulent | TN = 2503                   | FP = 82787\n",
            "\n",
            "\n",
            "Actually Fraudulent     | FN = 0                       | TP = 152 \n",
            "\n",
            "\n",
            "Specificity: 1.0\n",
            "Sensitivity (aka. Recall): 0.029346933989916755\n"
          ],
          "name": "stdout"
        }
      ]
    },
    {
      "cell_type": "markdown",
      "metadata": {
        "id": "jMwQ6cU6X591",
        "colab_type": "text"
      },
      "source": [
        "From the examples that we have above, in general, it seems like undersampling the majority class and castrating essentially the entire dataset (70%), this decision function was not able to learn from enough non-fraud examples and pings for a lot of non-fraud cases as fraud cases. This sampling method seems to probably be the most detrimental to this model, in anycase.\n",
        "\n",
        "**VERDICT**: we do not use undersampling of the majority with a meta-estimator."
      ]
    },
    {
      "cell_type": "markdown",
      "metadata": {
        "id": "W7OipSgA8wIY",
        "colab_type": "text"
      },
      "source": [
        "## Undersampling of the Majority Class with OneSidedSelection\n",
        "\n",
        "In the contrary, OneSidedSelection will use TomekLinks to remove noisy samples [KM1997]. In addition, the 1 nearest neighbor rule is applied to all samples and the one which are misclassified will be added to the set C. No iteration on the set S will take place."
      ]
    },
    {
      "cell_type": "code",
      "metadata": {
        "id": "UO_MQkXu9IOT",
        "colab_type": "code",
        "outputId": "ded24fb6-c49a-4a96-a529-4103666c61b4",
        "colab": {
          "base_uri": "https://localhost:8080/",
          "height": 34
        }
      },
      "source": [
        "from imblearn.under_sampling import OneSidedSelection\n",
        "oss = OneSidedSelection(random_state=0)\n",
        "X_resampled, y_resampled = oss.fit_resample(X, y)\n",
        "print(sorted(Counter(y_resampled).items()))"
      ],
      "execution_count": 0,
      "outputs": [
        {
          "output_type": "stream",
          "text": [
            "[(0, 272567), (1, 492)]\n"
          ],
          "name": "stdout"
        }
      ]
    },
    {
      "cell_type": "code",
      "metadata": {
        "id": "GHHF_90w9I7Y",
        "colab_type": "code",
        "colab": {}
      },
      "source": [
        "OSS_df = pd.DataFrame(np.c_[X_resampled, y_resampled], columns=principalDf.columns)"
      ],
      "execution_count": 0,
      "outputs": []
    },
    {
      "cell_type": "code",
      "metadata": {
        "id": "Av2hTIIg9JTm",
        "colab_type": "code",
        "outputId": "05777b80-eb4d-469e-c99c-f0812add777d",
        "colab": {
          "base_uri": "https://localhost:8080/",
          "height": 52
        }
      },
      "source": [
        "param_grid = {\n",
        "    \"n_neighbors\":[3, 4, 5]\n",
        "}\n",
        "\n",
        "knn_data_bundle, fitted_model, elapsed_time = fit_get_predictions_with_CV(OSS_df, \"KNN\", param_grid)\n",
        "\n",
        "y_pred = knn_data_bundle[4]\n",
        "y_test = knn_data_bundle[3]"
      ],
      "execution_count": 0,
      "outputs": [
        {
          "output_type": "stream",
          "text": [
            "Training, Validation and Testing are complete.\n",
            "Elapsed Time: 113.29935899099974s\n"
          ],
          "name": "stdout"
        }
      ]
    },
    {
      "cell_type": "code",
      "metadata": {
        "id": "pcex1k7u9K9h",
        "colab_type": "code",
        "outputId": "11d90736-d108-48c0-e5a3-b42b478a22b1",
        "colab": {
          "base_uri": "https://localhost:8080/",
          "height": 362
        }
      },
      "source": [
        "report_df = report_performance_scores(fitted_model, y_test, y_pred, elapsed_time)\n",
        "report_df.head()"
      ],
      "execution_count": 0,
      "outputs": [
        {
          "output_type": "stream",
          "text": [
            "('              precision    recall  f1-score   support\\n'\n",
            " '\\n'\n",
            " '         0.0       1.00      1.00      1.00     81781\\n'\n",
            " '         1.0       0.90      0.77      0.83       137\\n'\n",
            " '\\n'\n",
            " '    accuracy                           1.00     81918\\n'\n",
            " '   macro avg       0.95      0.88      0.91     81918\\n'\n",
            " 'weighted avg       1.00      1.00      1.00     81918\\n')\n",
            "\n",
            "\n",
            "ROC Score: 0.8831383121577057\n",
            "Confusion matrix\n",
            "[[81769    12]\n",
            " [   32   105]]\n",
            "Recall: 0.7664233576642335\n",
            "Precision score: 0.8974358974358975\n"
          ],
          "name": "stdout"
        },
        {
          "output_type": "execute_result",
          "data": {
            "text/html": [
              "<div>\n",
              "<style scoped>\n",
              "    .dataframe tbody tr th:only-of-type {\n",
              "        vertical-align: middle;\n",
              "    }\n",
              "\n",
              "    .dataframe tbody tr th {\n",
              "        vertical-align: top;\n",
              "    }\n",
              "\n",
              "    .dataframe thead th {\n",
              "        text-align: right;\n",
              "    }\n",
              "</style>\n",
              "<table border=\"1\" class=\"dataframe\">\n",
              "  <thead>\n",
              "    <tr style=\"text-align: right;\">\n",
              "      <th></th>\n",
              "      <th>id</th>\n",
              "      <th>best_parameters</th>\n",
              "      <th>accuracy</th>\n",
              "      <th>precision</th>\n",
              "      <th>recall</th>\n",
              "      <th>roc_auc</th>\n",
              "      <th>r2_score</th>\n",
              "      <th>f1-score</th>\n",
              "      <th>train_time(s)</th>\n",
              "    </tr>\n",
              "  </thead>\n",
              "  <tbody>\n",
              "    <tr>\n",
              "      <th>0</th>\n",
              "      <td>000</td>\n",
              "      <td>&lt;bound method BaseEstimator.get_params of Grid...</td>\n",
              "      <td>0.999463</td>\n",
              "      <td>0.897436</td>\n",
              "      <td>0.766423</td>\n",
              "      <td>0.883138</td>\n",
              "      <td>0.678294</td>\n",
              "      <td>0.826772</td>\n",
              "      <td>113.29935899099974</td>\n",
              "    </tr>\n",
              "  </tbody>\n",
              "</table>\n",
              "</div>"
            ],
            "text/plain": [
              "    id  ...       train_time(s)\n",
              "0  000  ...  113.29935899099974\n",
              "\n",
              "[1 rows x 9 columns]"
            ]
          },
          "metadata": {
            "tags": []
          },
          "execution_count": 53
        }
      ]
    },
    {
      "cell_type": "code",
      "metadata": {
        "id": "JX9d_rGy9Lb0",
        "colab_type": "code",
        "outputId": "96ea89fa-aad3-4ea0-e923-4a07451e9669",
        "colab": {
          "base_uri": "https://localhost:8080/",
          "height": 294
        }
      },
      "source": [
        "plot_roc(y_test, y_pred)"
      ],
      "execution_count": 0,
      "outputs": [
        {
          "output_type": "display_data",
          "data": {
            "image/png": "[encoded data removed]",
            "text/plain": [
              "<Figure size 432x288 with 1 Axes>"
            ]
          },
          "metadata": {
            "tags": []
          }
        }
      ]
    },
    {
      "cell_type": "markdown",
      "metadata": {
        "id": "CMhnoBct9MTY",
        "colab_type": "text"
      },
      "source": [
        "This method seems like a more balanced approach to undersampling the minority case. We see that we've kept the same number of majority cases somehow, but achieved much better performance with this type of sampling strategy. I've not read in depth about how the sampling strategy employed but I think it will be important to know how it is done. Something about Tomek links."
      ]
    },
    {
      "cell_type": "markdown",
      "metadata": {
        "id": "DP9r4U6lOiwO",
        "colab_type": "text"
      },
      "source": [
        "## Test Modeling against Test dataset (previous majority down sampling)\n",
        "\n",
        "Create a test data set by resampling a portion of the non-fraud cases and make that the entire test dataset."
      ]
    },
    {
      "cell_type": "code",
      "metadata": {
        "id": "zs7Ip-4yxQ6y",
        "colab_type": "code",
        "colab": {}
      },
      "source": [
        "# only non-fraudulent cases for this test\n",
        "X_test, y_test = sample_for_test_set(principalDf, include_minority=False)"
      ],
      "execution_count": 0,
      "outputs": []
    },
    {
      "cell_type": "code",
      "metadata": {
        "id": "FGuPKBi7OJbE",
        "colab_type": "code",
        "colab": {}
      },
      "source": [
        "y_pred = fitted_model.predict(X_test)"
      ],
      "execution_count": 0,
      "outputs": []
    },
    {
      "cell_type": "code",
      "metadata": {
        "id": "dk4BQUTfe_Pj",
        "colab_type": "code",
        "outputId": "e1eaea08-f2b8-4688-9647-70c28866dbe9",
        "colab": {
          "base_uri": "https://localhost:8080/",
          "height": 70
        }
      },
      "source": [
        "y_pred = pd.Series(y_pred)\n",
        "y_pred.value_counts()"
      ],
      "execution_count": 0,
      "outputs": [
        {
          "output_type": "execute_result",
          "data": {
            "text/plain": [
              "0.0    85285\n",
              "1.0        9\n",
              "dtype: int64"
            ]
          },
          "metadata": {
            "tags": []
          },
          "execution_count": 188
        }
      ]
    },
    {
      "cell_type": "code",
      "metadata": {
        "id": "iW2dBSJ2P6ar",
        "colab_type": "code",
        "outputId": "3a727f02-33f8-4582-d8c4-f9ad39229742",
        "colab": {
          "base_uri": "https://localhost:8080/",
          "height": 294
        }
      },
      "source": [
        "plot_roc(y_test, y_pred)"
      ],
      "execution_count": 0,
      "outputs": [
        {
          "output_type": "display_data",
          "data": {
            "image/png": "[encoded data removed]",
            "text/plain": [
              "<Figure size 432x288 with 1 Axes>"
            ]
          },
          "metadata": {
            "tags": []
          }
        }
      ]
    },
    {
      "cell_type": "code",
      "metadata": {
        "colab_type": "code",
        "id": "jHEES27c_TdN",
        "colab": {}
      },
      "source": [
        "# Include minority cases in the sampling\n",
        "X_test, y_test = sample_for_test_set(principalDf, fraction=0.5, include_minority=True)"
      ],
      "execution_count": 0,
      "outputs": []
    },
    {
      "cell_type": "code",
      "metadata": {
        "colab_type": "code",
        "id": "44gFrzbn_TdU",
        "colab": {}
      },
      "source": [
        "y_pred_probs = fitted_model.predict_proba(X_test)\n",
        "y_pred = fitted_model.predict(X_test)"
      ],
      "execution_count": 0,
      "outputs": []
    },
    {
      "cell_type": "code",
      "metadata": {
        "colab_type": "code",
        "outputId": "af62d453-613f-4cac-ec0f-ce256003afc7",
        "id": "2BqBjWxV_TdW",
        "colab": {
          "base_uri": "https://localhost:8080/",
          "height": 70
        }
      },
      "source": [
        "y_pred = pd.Series(y_pred)\n",
        "y_pred.value_counts()"
      ],
      "execution_count": 0,
      "outputs": [
        {
          "output_type": "execute_result",
          "data": {
            "text/plain": [
              "1.0    82939\n",
              "0.0     2503\n",
              "dtype: int64"
            ]
          },
          "metadata": {
            "tags": []
          },
          "execution_count": 306
        }
      ]
    },
    {
      "cell_type": "code",
      "metadata": {
        "id": "cfSz9rmm_0sr",
        "colab_type": "code",
        "outputId": "40ef8d4c-9ab8-495a-87e2-5a1cd8839825",
        "colab": {
          "base_uri": "https://localhost:8080/",
          "height": 540
        }
      },
      "source": [
        "report = report_performance_scores(fitted_model, y_test, y_pred, elapsed_time)\n",
        "report.head()"
      ],
      "execution_count": 0,
      "outputs": [
        {
          "output_type": "stream",
          "text": [
            "('              precision    recall  f1-score   support\\n'\n",
            " '\\n'\n",
            " '           0       1.00      0.03      0.06     85290\\n'\n",
            " '           1       0.00      1.00      0.00       152\\n'\n",
            " '\\n'\n",
            " '    accuracy                           0.03     85442\\n'\n",
            " '   macro avg       0.50      0.51      0.03     85442\\n'\n",
            " 'weighted avg       1.00      0.03      0.06     85442\\n')\n",
            "\n",
            "\n",
            "ROC Score: 0.5146734669949584\n",
            "\n",
            "\n",
            "                           *Fraudulent Cases are considered Positive Cases\n",
            "============================================================================================\n",
            "######################### Predicted Non-Fraudulent ### | ### Predicted Fraudulent ##########\n",
            "\n",
            "\n",
            "Actually Non-Fraudulent | TN = 2503                   | FP = 82787\n",
            "\n",
            "\n",
            "Actually Fraudulent     | FN = 0                       | TP = 152 \n",
            "\n",
            "\n",
            "Specificity: 1.0\n",
            "Sensitivity (aka. Recall): 0.029346933989916755\n"
          ],
          "name": "stdout"
        },
        {
          "output_type": "execute_result",
          "data": {
            "text/html": [
              "<div>\n",
              "<style scoped>\n",
              "    .dataframe tbody tr th:only-of-type {\n",
              "        vertical-align: middle;\n",
              "    }\n",
              "\n",
              "    .dataframe tbody tr th {\n",
              "        vertical-align: top;\n",
              "    }\n",
              "\n",
              "    .dataframe thead th {\n",
              "        text-align: right;\n",
              "    }\n",
              "</style>\n",
              "<table border=\"1\" class=\"dataframe\">\n",
              "  <thead>\n",
              "    <tr style=\"text-align: right;\">\n",
              "      <th></th>\n",
              "      <th>id</th>\n",
              "      <th>best_parameters</th>\n",
              "      <th>accuracy</th>\n",
              "      <th>precision</th>\n",
              "      <th>recall</th>\n",
              "      <th>roc_auc</th>\n",
              "      <th>r2_score</th>\n",
              "      <th>f1-score</th>\n",
              "      <th>train_time(s)</th>\n",
              "    </tr>\n",
              "  </thead>\n",
              "  <tbody>\n",
              "    <tr>\n",
              "      <th>0</th>\n",
              "      <td>000</td>\n",
              "      <td>&lt;bound method BaseEstimator.get_params of Grid...</td>\n",
              "      <td>0.031074</td>\n",
              "      <td>0.001833</td>\n",
              "      <td>1.0</td>\n",
              "      <td>0.514673</td>\n",
              "      <td>-544.621969</td>\n",
              "      <td>0.003659</td>\n",
              "      <td>0.14205102900086786</td>\n",
              "    </tr>\n",
              "  </tbody>\n",
              "</table>\n",
              "</div>"
            ],
            "text/plain": [
              "    id  ...        train_time(s)\n",
              "0  000  ...  0.14205102900086786\n",
              "\n",
              "[1 rows x 9 columns]"
            ]
          },
          "metadata": {
            "tags": []
          },
          "execution_count": 307
        }
      ]
    },
    {
      "cell_type": "code",
      "metadata": {
        "id": "1SYOTwZBgDUE",
        "colab_type": "code",
        "colab": {}
      },
      "source": [
        "y_pred = fitted_model.predict(X_test)\n",
        "y_pred_probs = fitted_model.predict_proba(X_test)\n",
        "y_pred_probs_max = get_max_probas(y_pred_probs)"
      ],
      "execution_count": 0,
      "outputs": []
    },
    {
      "cell_type": "code",
      "metadata": {
        "id": "MzSRU8xRhsHT",
        "colab_type": "code",
        "outputId": "935b7abe-26d2-4642-c620-df7ddc3abc3d",
        "colab": {
          "base_uri": "https://localhost:8080/",
          "height": 294
        }
      },
      "source": [
        "plot_roc(y_test, y_pred_probs_max)"
      ],
      "execution_count": 0,
      "outputs": [
        {
          "output_type": "display_data",
          "data": {
            "image/png": "[encoded data removed]",
            "text/plain": [
              "<Figure size 432x288 with 1 Axes>"
            ]
          },
          "metadata": {
            "tags": []
          }
        }
      ]
    },
    {
      "cell_type": "code",
      "metadata": {
        "id": "K1HHhv5SBmCB",
        "colab_type": "code",
        "outputId": "8abc8a10-8131-41d6-ee7a-c55a366e305f",
        "colab": {
          "base_uri": "https://localhost:8080/",
          "height": 247
        }
      },
      "source": [
        "detailed_confusion_matrix(y_test, y_pred)"
      ],
      "execution_count": 0,
      "outputs": [
        {
          "output_type": "stream",
          "text": [
            "                           *Fraudulent Cases are considered Positive Cases\n",
            "============================================================================================\n",
            "######################### Predicted Non-Fraudulent ### | ### Predicted Fraudulent ##########\n",
            "\n",
            "\n",
            "Actually Non-Fraudulent | TN = 85288                   | FN = 5\n",
            "\n",
            "\n",
            "Actually Fraudulent     | TP = 119                     | FP = 30\n",
            "\n",
            "\n",
            "Sensitivity: 0.9596774193548387\n",
            "Specificity or Precision: 0.9996483743172602\n"
          ],
          "name": "stdout"
        }
      ]
    },
    {
      "cell_type": "markdown",
      "metadata": {
        "id": "w9YtyQCx74U3",
        "colab_type": "text"
      },
      "source": [
        "# Conclusion of Down Sampling Strategy\n",
        "\n",
        "Using the OneSideSelection down sampling strategy, fitting a model to this dataset, and then testing on a purely majority-class dataset yields positive expected values (i.e., almost 0 fraudulent cases predicted), meaning that the decision function has learned of some of the patterns for fraudulent activity.\n",
        "\n",
        "Having a higher Sensitivity score here is important because we want to capture as much of the fraudulent activity as possible, while mitigating the number of missed-detections and the number of false-alarms. In this case, there were 30 missed fraudulent cases that went under the radar and 5 false alarms for the 124 pings for frauduldent activity.\n",
        "\n",
        "This is a start but this is certainly not good enough. We need to get that False-Positive rate/Missed-Fraudulent number as low as possible."
      ]
    },
    {
      "cell_type": "markdown",
      "metadata": {
        "id": "i6C6ybFg0F-F",
        "colab_type": "text"
      },
      "source": [
        "### Over sampling of the Minority Class\n",
        "\n",
        "We over sample the minority class to have more examples to learn from, but rather than just randomly doing it, there are some technicality to the approaches that we can choose. I'll go through training a decision function with resampling using two powerful methods offered by the imbalanced-learn library:\n",
        "\n",
        "1) SMOTE - Synthetic Minority Oversampling Technique\n",
        "\n",
        "2) ADASYN - Adaptive Synthetic sampling\n",
        "\n",
        "These two oversampling approaches use methods of interpolation to generate synthetic samples as opposed to the type of sampling done with Random over sampling, which duplicates examples.\n",
        "\n",
        "Formula for SMOTE sample generation:\n",
        "\n",
        "![Formula for SMOTE sample generation](https://imbalanced-learn.readthedocs.io/en/stable/_images/math/7d17f8d1d74c655eb15821661276d94c82d0e5b4.png)\n",
        "\n",
        "Lambda is a value between 0 and 1 and a sample is interpolated along the line between Xi and Xzi.\n",
        "\n",
        "<br>\n",
        "\n",
        "![Sampling](https://imbalanced-learn.readthedocs.io/en/stable/_images/sphx_glr_plot_illustration_generation_sample_0011.png)\n",
        "\n"
      ]
    },
    {
      "cell_type": "code",
      "metadata": {
        "id": "cAGhw1fM0FHq",
        "colab_type": "code",
        "outputId": "a8ed6760-1de0-48e1-b781-35fda9f7df67",
        "colab": {
          "base_uri": "https://localhost:8080/",
          "height": 34
        }
      },
      "source": [
        "from imblearn.over_sampling import SMOTE\n",
        "X_resampled, y_resampled = SMOTE().fit_resample(X, y)\n",
        "print(sorted(Counter(y_resampled).items()))"
      ],
      "execution_count": 0,
      "outputs": [
        {
          "output_type": "stream",
          "text": [
            "[(0, 284315), (1, 284315)]\n"
          ],
          "name": "stdout"
        }
      ]
    },
    {
      "cell_type": "code",
      "metadata": {
        "colab_type": "code",
        "id": "vz4bVsdHJUMn",
        "colab": {}
      },
      "source": [
        "smote_df = pd.DataFrame(np.c_[X_resampled, y_resampled], columns=principalDf.columns)"
      ],
      "execution_count": 0,
      "outputs": []
    },
    {
      "cell_type": "code",
      "metadata": {
        "colab_type": "code",
        "outputId": "b3d7fb7f-ce99-4d6f-b2eb-238b74183d64",
        "id": "_jFdktwFJUMt",
        "colab": {
          "base_uri": "https://localhost:8080/",
          "height": 52
        }
      },
      "source": [
        "param_grid = {\n",
        "    \"n_neighbors\":[3, 4, 5]\n",
        "}\n",
        "\n",
        "knn_data_bundle, fitted_model, elapsed_time = fit_get_predictions_with_CV(smote_df, \"KNN\", param_grid)\n",
        "\n",
        "y_pred = knn_data_bundle[4]\n",
        "y_test = knn_data_bundle[3]"
      ],
      "execution_count": 0,
      "outputs": [
        {
          "output_type": "stream",
          "text": [
            "Training, Validation and Testing are complete.\n",
            "Elapsed Time: 267.16128286299863s\n"
          ],
          "name": "stdout"
        }
      ]
    },
    {
      "cell_type": "code",
      "metadata": {
        "colab_type": "code",
        "outputId": "cfbf39cf-3f21-4e28-d206-84b365f20e5f",
        "id": "lSZL9E0MJUMw",
        "colab": {
          "base_uri": "https://localhost:8080/",
          "height": 540
        }
      },
      "source": [
        "report_df = report_performance_scores(fitted_model, y_test, y_pred, elapsed_time)\n",
        "report_df.head()"
      ],
      "execution_count": 0,
      "outputs": [
        {
          "output_type": "stream",
          "text": [
            "('              precision    recall  f1-score   support\\n'\n",
            " '\\n'\n",
            " '         0.0       1.00      1.00      1.00     85149\\n'\n",
            " '         1.0       1.00      1.00      1.00     85440\\n'\n",
            " '\\n'\n",
            " '    accuracy                           1.00    170589\\n'\n",
            " '   macro avg       1.00      1.00      1.00    170589\\n'\n",
            " 'weighted avg       1.00      1.00      1.00    170589\\n')\n",
            "\n",
            "\n",
            "ROC Score: 0.9987845236690844\n",
            "\n",
            "\n",
            "                           *Fraudulent Cases are considered Positive Cases\n",
            "============================================================================================\n",
            "######################### Predicted Non-Fraudulent ### | ### Predicted Fraudulent ##########\n",
            "\n",
            "\n",
            "Actually Non-Fraudulent | TN = 84944                   | FP = 205\n",
            "\n",
            "\n",
            "Actually Fraudulent     | FN = 2                       | TP = 85438 \n",
            "\n",
            "\n",
            "Specificity: 0.9999765917602996\n",
            "Sensitivity (aka. Recall): 0.9975924555778694\n"
          ],
          "name": "stdout"
        },
        {
          "output_type": "execute_result",
          "data": {
            "text/html": [
              "<div>\n",
              "<style scoped>\n",
              "    .dataframe tbody tr th:only-of-type {\n",
              "        vertical-align: middle;\n",
              "    }\n",
              "\n",
              "    .dataframe tbody tr th {\n",
              "        vertical-align: top;\n",
              "    }\n",
              "\n",
              "    .dataframe thead th {\n",
              "        text-align: right;\n",
              "    }\n",
              "</style>\n",
              "<table border=\"1\" class=\"dataframe\">\n",
              "  <thead>\n",
              "    <tr style=\"text-align: right;\">\n",
              "      <th></th>\n",
              "      <th>id</th>\n",
              "      <th>best_parameters</th>\n",
              "      <th>accuracy</th>\n",
              "      <th>precision</th>\n",
              "      <th>recall</th>\n",
              "      <th>roc_auc</th>\n",
              "      <th>r2_score</th>\n",
              "      <th>f1-score</th>\n",
              "      <th>train_time(s)</th>\n",
              "    </tr>\n",
              "  </thead>\n",
              "  <tbody>\n",
              "    <tr>\n",
              "      <th>0</th>\n",
              "      <td>000</td>\n",
              "      <td>&lt;bound method BaseEstimator.get_params of Grid...</td>\n",
              "      <td>0.998787</td>\n",
              "      <td>0.997606</td>\n",
              "      <td>0.999977</td>\n",
              "      <td>0.998785</td>\n",
              "      <td>0.995146</td>\n",
              "      <td>0.99879</td>\n",
              "      <td>267.16128286299863</td>\n",
              "    </tr>\n",
              "  </tbody>\n",
              "</table>\n",
              "</div>"
            ],
            "text/plain": [
              "    id  ...       train_time(s)\n",
              "0  000  ...  267.16128286299863\n",
              "\n",
              "[1 rows x 9 columns]"
            ]
          },
          "metadata": {
            "tags": []
          },
          "execution_count": 378
        }
      ]
    },
    {
      "cell_type": "code",
      "metadata": {
        "id": "E5iri_NloyRg",
        "colab_type": "code",
        "colab": {}
      },
      "source": [
        "X_train, X_test, y_train, y_test = train_test_split(X_resampled, y_resampled, train_size=0.3, random_state=42)\n",
        "y_pred_probs = fitted_model.predict_proba(X_test)\n",
        "y_pred_probs_max = get_max_probas(y_pred_probs)"
      ],
      "execution_count": 0,
      "outputs": []
    },
    {
      "cell_type": "code",
      "metadata": {
        "colab_type": "code",
        "outputId": "c5b98804-999a-48d0-890c-228543151dd4",
        "id": "QcIsZCM9JUMy",
        "colab": {
          "base_uri": "https://localhost:8080/",
          "height": 294
        }
      },
      "source": [
        "plot_roc(y_test, y_pred_probs_max)"
      ],
      "execution_count": 0,
      "outputs": [
        {
          "output_type": "display_data",
          "data": {
            "image/png": "[encoded data removed]",
            "text/plain": [
              "<Figure size 432x288 with 1 Axes>"
            ]
          },
          "metadata": {
            "tags": []
          }
        }
      ]
    },
    {
      "cell_type": "code",
      "metadata": {
        "id": "4T94pt7AI7jg",
        "colab_type": "code",
        "outputId": "64c8088e-ab70-49e7-895b-cef506136a06",
        "colab": {
          "base_uri": "https://localhost:8080/",
          "height": 34
        }
      },
      "source": [
        "from imblearn.over_sampling import ADASYN\n",
        "\n",
        "X_resampled, y_resampled = ADASYN().fit_resample(X, y)\n",
        "print(sorted(Counter(y_resampled).items()))"
      ],
      "execution_count": 0,
      "outputs": [
        {
          "output_type": "stream",
          "text": [
            "[(0, 284315), (1, 284323)]\n"
          ],
          "name": "stdout"
        }
      ]
    },
    {
      "cell_type": "code",
      "metadata": {
        "colab_type": "code",
        "id": "PCZjcsIXJVIw",
        "colab": {}
      },
      "source": [
        "adasyn_df = pd.DataFrame(np.c_[X_resampled, y_resampled], columns=principalDf.columns)"
      ],
      "execution_count": 0,
      "outputs": []
    },
    {
      "cell_type": "code",
      "metadata": {
        "colab_type": "code",
        "outputId": "bf8b717f-dfbe-4cb4-9be8-457e33fad58f",
        "id": "Rj4xfgrPJVI1",
        "colab": {
          "base_uri": "https://localhost:8080/",
          "height": 52
        }
      },
      "source": [
        "param_grid = {\n",
        "    \"n_neighbors\":[3, 4, 5]\n",
        "}\n",
        "\n",
        "knn_data_bundle, fitted_model, elapsed_time = fit_get_predictions_with_CV(adasyn_df, \"KNN\", param_grid)\n",
        "\n",
        "y_pred = knn_data_bundle[4]\n",
        "y_test = knn_data_bundle[3]"
      ],
      "execution_count": 0,
      "outputs": [
        {
          "output_type": "stream",
          "text": [
            "Training, Validation and Testing are complete.\n",
            "Elapsed Time: 233.5579051370005s\n"
          ],
          "name": "stdout"
        }
      ]
    },
    {
      "cell_type": "code",
      "metadata": {
        "colab_type": "code",
        "outputId": "65a296ad-dd66-401f-960d-1e5d2814f3da",
        "id": "c7SeWTlNJVI3",
        "colab": {
          "base_uri": "https://localhost:8080/",
          "height": 593
        }
      },
      "source": [
        "report_df = report_performance_scores(fitted_model, y_test, y_pred, elapsed_time)\n",
        "report_df.head()"
      ],
      "execution_count": 0,
      "outputs": [
        {
          "output_type": "stream",
          "text": [
            "('              precision    recall  f1-score   support\\n'\n",
            " '\\n'\n",
            " '         0.0       1.00      1.00      1.00     85199\\n'\n",
            " '         1.0       1.00      1.00      1.00     85393\\n'\n",
            " '\\n'\n",
            " '    accuracy                           1.00    170592\\n'\n",
            " '   macro avg       1.00      1.00      1.00    170592\\n'\n",
            " 'weighted avg       1.00      1.00      1.00    170592\\n')\n",
            "\n",
            "\n",
            "ROC Score: 0.9987499853284664\n",
            "\n",
            "\n",
            "                           *Fraudulent Cases are considered Positive Cases\n",
            "============================================================================================\n",
            "######################### Predicted Non-Fraudulent ### | ### Predicted Fraudulent ##########\n",
            "\n",
            "\n",
            "Actually Non-Fraudulent | TN = 84986                   | FP = 0\n",
            "\n",
            "\n",
            "Actually Fraudulent     | FN = 213                       | TP = 85393 \n",
            "\n",
            "\n",
            "Sensitivity (aka. Recall): 0.9975118566455622\n",
            "Specificity: 1.0\n",
            "Precision: 1.0\n",
            "Recall: 1.0\n",
            "Precision score: 0.9975118566455622\n"
          ],
          "name": "stdout"
        },
        {
          "output_type": "execute_result",
          "data": {
            "text/html": [
              "<div>\n",
              "<style scoped>\n",
              "    .dataframe tbody tr th:only-of-type {\n",
              "        vertical-align: middle;\n",
              "    }\n",
              "\n",
              "    .dataframe tbody tr th {\n",
              "        vertical-align: top;\n",
              "    }\n",
              "\n",
              "    .dataframe thead th {\n",
              "        text-align: right;\n",
              "    }\n",
              "</style>\n",
              "<table border=\"1\" class=\"dataframe\">\n",
              "  <thead>\n",
              "    <tr style=\"text-align: right;\">\n",
              "      <th></th>\n",
              "      <th>id</th>\n",
              "      <th>best_parameters</th>\n",
              "      <th>accuracy</th>\n",
              "      <th>precision</th>\n",
              "      <th>recall</th>\n",
              "      <th>roc_auc</th>\n",
              "      <th>r2_score</th>\n",
              "      <th>f1-score</th>\n",
              "      <th>train_time(s)</th>\n",
              "    </tr>\n",
              "  </thead>\n",
              "  <tbody>\n",
              "    <tr>\n",
              "      <th>0</th>\n",
              "      <td>000</td>\n",
              "      <td>&lt;bound method BaseEstimator.get_params of Grid...</td>\n",
              "      <td>0.998751</td>\n",
              "      <td>0.997512</td>\n",
              "      <td>1.0</td>\n",
              "      <td>0.99875</td>\n",
              "      <td>0.995006</td>\n",
              "      <td>0.998754</td>\n",
              "      <td>233.5579051370005</td>\n",
              "    </tr>\n",
              "  </tbody>\n",
              "</table>\n",
              "</div>"
            ],
            "text/plain": [
              "    id  ...      train_time(s)\n",
              "0  000  ...  233.5579051370005\n",
              "\n",
              "[1 rows x 9 columns]"
            ]
          },
          "metadata": {
            "tags": []
          },
          "execution_count": 255
        }
      ]
    },
    {
      "cell_type": "code",
      "metadata": {
        "colab_type": "code",
        "outputId": "966f8518-93a3-49dd-c413-ededa78aca52",
        "id": "r-Ui_D6iJVI4",
        "colab": {
          "base_uri": "https://localhost:8080/",
          "height": 294
        }
      },
      "source": [
        "plot_roc(y_test, y_pred)"
      ],
      "execution_count": 0,
      "outputs": [
        {
          "output_type": "display_data",
          "data": {
            "image/png": "[encoded data removed]",
            "text/plain": [
              "<Figure size 432x288 with 1 Axes>"
            ]
          },
          "metadata": {
            "tags": []
          }
        }
      ]
    },
    {
      "cell_type": "markdown",
      "metadata": {
        "id": "LMxiHe6ONbbN",
        "colab_type": "text"
      },
      "source": [
        "### Outlier and Novelty Detection"
      ]
    },
    {
      "cell_type": "code",
      "metadata": {
        "id": "admdSB6ZHpuU",
        "colab_type": "code",
        "colab": {}
      },
      "source": [
        "!pip install pyod"
      ],
      "execution_count": 0,
      "outputs": []
    },
    {
      "cell_type": "code",
      "metadata": {
        "id": "iCaH7PdeG9j8",
        "colab_type": "code",
        "colab": {}
      },
      "source": [
        "# we can do some unsupervised learning targetted around and outlier detection"
      ],
      "execution_count": 0,
      "outputs": []
    },
    {
      "cell_type": "markdown",
      "metadata": {
        "id": "v7YSYxFbxMIu",
        "colab_type": "text"
      },
      "source": [
        "## Explainablility of the Features for the Predicted Values using LIME"
      ]
    }
  ]
}