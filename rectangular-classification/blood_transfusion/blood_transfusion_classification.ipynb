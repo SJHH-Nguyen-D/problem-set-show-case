{
  "nbformat": 4,
  "nbformat_minor": 0,
  "metadata": {
    "colab": {
      "name": "blood_transfusion_classification.ipynb",
      "provenance": [],
      "collapsed_sections": []
    },
    "kernelspec": {
      "name": "python3",
      "display_name": "Python 3"
    }
  },
  "cells": [
    {
      "cell_type": "markdown",
      "metadata": {
        "id": "KLUHSnJRnCbM",
        "colab_type": "text"
      },
      "source": [
        "# Blood Transfusion Donations"
      ]
    },
    {
      "cell_type": "markdown",
      "metadata": {
        "id": "u1A4MJ7QDyHB",
        "colab_type": "text"
      },
      "source": [
        "## About Dataset\n",
        "\n",
        "This blood donation dataset came from the UCI repository. They provide a wide range of datasets for testing machine learning algorithms. Finding a subject matter you're interested in can be a great way to test yourself on real-world data problems. Given our mission, we're interested in predicting if a blood donor will donate within a given time window.\n",
        "\n",
        "Use information about each donor's history\n",
        "\n",
        "* Months since Last Donation: this is the number of monthis since this donor's most recent donation.\n",
        "\n",
        "* Number of Donations: this is the total number of donations that the donor has made.\n",
        "Total Volume Donated: this is the total amound of blood that the donor has donated in cubuc centimeters.\n",
        "\n",
        "* Months since First Donation: this is the number of months since the donor's first donation.\n",
        "Submission format\n",
        "\n",
        "This competitions uses log loss as its evaluation metric, so the predictions you submit are the probability that a donor made a donation in March 2007."
      ]
    },
    {
      "cell_type": "markdown",
      "metadata": {
        "id": "tzcu8AV6D09Q",
        "colab_type": "text"
      },
      "source": [
        "# Task\n",
        "\n",
        "\n",
        "Predict if the donor will give in March 2007\n",
        "The goal is to predict the last column, whether he/she donated blood in March 2007 with log-probabilities. Build out multiple classifiers with a variety of models, with validation, and keep track of the scores and performances via a pandas dataframe and writeout to csv. \n",
        "\n"
      ]
    },
    {
      "cell_type": "markdown",
      "metadata": {
        "id": "ZJlDxZ2Wm5oB",
        "colab_type": "text"
      },
      "source": [
        "# Loading Data"
      ]
    },
    {
      "cell_type": "code",
      "metadata": {
        "id": "n023izP_9tOe",
        "colab_type": "code",
        "outputId": "df29ecc6-a8d5-4548-b848-1011a6226140",
        "colab": {
          "base_uri": "https://localhost:8080/",
          "height": 125
        }
      },
      "source": [
        "import numpy as np \n",
        "import pandas as pd \n",
        "import pandas_profiling\n",
        "import matplotlib.pyplot as plt\n",
        "%matplotlib inline\n",
        "\n",
        "import seaborn as sns\n",
        "import pprint\n",
        "import os\n",
        "from timeit import default_timer\n",
        "from sklearn.decomposition import PCA \n",
        "from google.colab import drive\n",
        "from sklearn.metrics import (classification_report, \n",
        " f1_score, accuracy_score, \n",
        " recall_score, precision_score, \n",
        " roc_auc_score,\n",
        " confusion_matrix)\n",
        "from sklearn.model_selection import train_test_split, GridSearchCV\n",
        "\n",
        "FILENAME = \"/content/drive/My Drive/problem_set_challenges_for_job_postings/transfusion.data\"\n",
        "DRIVE = \"/content/drive/\"\n",
        "\n",
        "drive.mount(DRIVE)\n",
        "df = pd.read_csv(FILENAME, header=\"infer\")\n",
        "df.rename(columns={\"whether he/she donated blood in March 2007\" : \"target\"}, inplace=True)"
      ],
      "execution_count": 1,
      "outputs": [
        {
          "output_type": "stream",
          "text": [
            "Go to this URL in a browser: https://accounts.google.com/o/oauth2/auth?client_id=947318989803-6bn6qk8qdgf4n4g3pfee6491hc0brc4i.apps.googleusercontent.com&redirect_uri=urn%3aietf%3awg%3aoauth%3a2.0%3aoob&response_type=code&scope=email%20https%3a%2f%2fwww.googleapis.com%2fauth%2fdocs.test%20https%3a%2f%2fwww.googleapis.com%2fauth%2fdrive%20https%3a%2f%2fwww.googleapis.com%2fauth%2fdrive.photos.readonly%20https%3a%2f%2fwww.googleapis.com%2fauth%2fpeopleapi.readonly\n",
            "\n",
            "Enter your authorization code:\n",
            "··········\n",
            "Mounted at /content/drive/\n"
          ],
          "name": "stdout"
        }
      ]
    },
    {
      "cell_type": "markdown",
      "metadata": {
        "id": "S7AAHbVdN7VP",
        "colab_type": "text"
      },
      "source": [
        "# Exploratory Data Analysis"
      ]
    },
    {
      "cell_type": "markdown",
      "metadata": {
        "id": "9Q5NS-H3C3Z3",
        "colab_type": "text"
      },
      "source": [
        "## Quick profilling with Pandas Profiler\n",
        "\n",
        "What can be gleened:\n",
        "\n",
        "* data not normally distributed\n",
        "* nice and clean and little to no preprocessing is required for this dataset\n",
        "* no encoding needed\n",
        "* no missing values\n",
        "* all numeric variables and one binary target attribute\n",
        "* one highly correlated feature rejected\n",
        "    * Amount of blood is highly correlated with the Frequency (times) attribute and the frequency column is rejected\n",
        "* We will have to drop the frequency column\n",
        "* the majority of values are non-zero"
      ]
    },
    {
      "cell_type": "code",
      "metadata": {
        "id": "MdnPSIIY-TwI",
        "colab_type": "code",
        "outputId": "a4c3de94-8acf-4a3b-865b-24fdda4ec493",
        "colab": {
          "base_uri": "https://localhost:8080/",
          "height": 1000
        }
      },
      "source": [
        "report = pandas_profiling.ProfileReport(df)\n",
        "report"
      ],
      "execution_count": 2,
      "outputs": [
        {
          "output_type": "stream",
          "text": [
            "/usr/local/lib/python3.6/dist-packages/pandas_profiling/describe.py:392: FutureWarning: The join_axes-keyword is deprecated. Use .reindex or .reindex_like on the result to achieve the same functionality.\n",
            "  variable_stats = pd.concat(ldesc, join_axes=pd.Index([names]), axis=1)\n"
          ],
          "name": "stderr"
        },
        {
          "output_type": "execute_result",
          "data": {
            "text/html": [
              "<meta charset=\"UTF-8\">\n",
              "\n",
              "<style>\n",
              "\n",
              "        .variablerow {\n",
              "            border: 1px solid #e1e1e8;\n",
              "            border-top: hidden;\n",
              "            padding-top: 2em;\n",
              "            padding-bottom: 2em;\n",
              "            padding-left: 1em;\n",
              "            padding-right: 1em;\n",
              "        }\n",
              "\n",
              "        .headerrow {\n",
              "            border: 1px solid #e1e1e8;\n",
              "            background-color: #f5f5f5;\n",
              "            padding: 2em;\n",
              "        }\n",
              "        .namecol {\n",
              "            margin-top: -1em;\n",
              "            overflow-x: auto;\n",
              "        }\n",
              "\n",
              "        .dl-horizontal dt {\n",
              "            text-align: left;\n",
              "            padding-right: 1em;\n",
              "            white-space: normal;\n",
              "        }\n",
              "\n",
              "        .dl-horizontal dd {\n",
              "            margin-left: 0;\n",
              "        }\n",
              "\n",
              "        .ignore {\n",
              "            opacity: 0.4;\n",
              "        }\n",
              "\n",
              "        .container.pandas-profiling {\n",
              "            max-width:975px;\n",
              "        }\n",
              "\n",
              "        .col-md-12 {\n",
              "            padding-left: 2em;\n",
              "        }\n",
              "\n",
              "        .indent {\n",
              "            margin-left: 1em;\n",
              "        }\n",
              "\n",
              "        .center-img {\n",
              "            margin-left: auto !important;\n",
              "            margin-right: auto !important;\n",
              "            display: block;\n",
              "        }\n",
              "\n",
              "        /* Table example_values */\n",
              "            table.example_values {\n",
              "                border: 0;\n",
              "            }\n",
              "\n",
              "            .example_values th {\n",
              "                border: 0;\n",
              "                padding: 0 ;\n",
              "                color: #555;\n",
              "                font-weight: 600;\n",
              "            }\n",
              "\n",
              "            .example_values tr, .example_values td{\n",
              "                border: 0;\n",
              "                padding: 0;\n",
              "                color: #555;\n",
              "            }\n",
              "\n",
              "        /* STATS */\n",
              "            table.stats {\n",
              "                border: 0;\n",
              "            }\n",
              "\n",
              "            .stats th {\n",
              "                border: 0;\n",
              "                padding: 0 2em 0 0;\n",
              "                color: #555;\n",
              "                font-weight: 600;\n",
              "            }\n",
              "\n",
              "            .stats tr {\n",
              "                border: 0;\n",
              "            }\n",
              "\n",
              "            .stats td{\n",
              "                color: #555;\n",
              "                padding: 1px;\n",
              "                border: 0;\n",
              "            }\n",
              "\n",
              "\n",
              "        /* Sample table */\n",
              "            table.sample {\n",
              "                border: 0;\n",
              "                margin-bottom: 2em;\n",
              "                margin-left:1em;\n",
              "            }\n",
              "            .sample tr {\n",
              "                border:0;\n",
              "            }\n",
              "            .sample td, .sample th{\n",
              "                padding: 0.5em;\n",
              "                white-space: nowrap;\n",
              "                border: none;\n",
              "\n",
              "            }\n",
              "\n",
              "            .sample thead {\n",
              "                border-top: 0;\n",
              "                border-bottom: 2px solid #ddd;\n",
              "            }\n",
              "\n",
              "            .sample td {\n",
              "                width:100%;\n",
              "            }\n",
              "\n",
              "\n",
              "        /* There is no good solution available to make the divs equal height and then center ... */\n",
              "            .histogram {\n",
              "                margin-top: 3em;\n",
              "            }\n",
              "        /* Freq table */\n",
              "\n",
              "            table.freq {\n",
              "                margin-bottom: 2em;\n",
              "                border: 0;\n",
              "            }\n",
              "            table.freq th, table.freq tr, table.freq td {\n",
              "                border: 0;\n",
              "                padding: 0;\n",
              "            }\n",
              "\n",
              "            .freq thead {\n",
              "                font-weight: 600;\n",
              "                white-space: nowrap;\n",
              "                overflow: hidden;\n",
              "                text-overflow: ellipsis;\n",
              "\n",
              "            }\n",
              "\n",
              "            td.fillremaining{\n",
              "                width:auto;\n",
              "                max-width: none;\n",
              "            }\n",
              "\n",
              "            td.number, th.number {\n",
              "                text-align:right ;\n",
              "            }\n",
              "\n",
              "        /* Freq mini */\n",
              "            .freq.mini td{\n",
              "                width: 50%;\n",
              "                padding: 1px;\n",
              "                font-size: 12px;\n",
              "\n",
              "            }\n",
              "            table.freq.mini {\n",
              "                 width:100%;\n",
              "            }\n",
              "            .freq.mini th {\n",
              "                overflow: hidden;\n",
              "                text-overflow: ellipsis;\n",
              "                white-space: nowrap;\n",
              "                max-width: 5em;\n",
              "                font-weight: 400;\n",
              "                text-align:right;\n",
              "                padding-right: 0.5em;\n",
              "            }\n",
              "\n",
              "            .missing {\n",
              "                color: #a94442;\n",
              "            }\n",
              "            .alert, .alert > th, .alert > td {\n",
              "                color: #a94442;\n",
              "            }\n",
              "\n",
              "\n",
              "        /* Bars in tables */\n",
              "            .freq .bar{\n",
              "                float: left;\n",
              "                width: 0;\n",
              "                height: 100%;\n",
              "                line-height: 20px;\n",
              "                color: #fff;\n",
              "                text-align: center;\n",
              "                background-color: #337ab7;\n",
              "                border-radius: 3px;\n",
              "                margin-right: 4px;\n",
              "            }\n",
              "            .other .bar {\n",
              "                background-color: #999;\n",
              "            }\n",
              "            .missing .bar{\n",
              "                background-color: #a94442;\n",
              "            }\n",
              "            .tooltip-inner {\n",
              "                width: 100%;\n",
              "                white-space: nowrap;\n",
              "                text-align:left;\n",
              "            }\n",
              "\n",
              "            .extrapadding{\n",
              "                padding: 2em;\n",
              "            }\n",
              "\n",
              "            .pp-anchor{\n",
              "\n",
              "            }\n",
              "\n",
              "</style>\n",
              "\n",
              "<div class=\"container pandas-profiling\">\n",
              "    <div class=\"row headerrow highlight\">\n",
              "        <h1>Overview</h1>\n",
              "    </div>\n",
              "    <div class=\"row variablerow\">\n",
              "    <div class=\"col-md-6 namecol\">\n",
              "        <p class=\"h4\">Dataset info</p>\n",
              "        <table class=\"stats\" style=\"margin-left: 1em;\">\n",
              "            <tbody>\n",
              "            <tr>\n",
              "                <th>Number of variables</th>\n",
              "                <td>5 </td>\n",
              "            </tr>\n",
              "            <tr>\n",
              "                <th>Number of observations</th>\n",
              "                <td>748 </td>\n",
              "            </tr>\n",
              "            <tr>\n",
              "                <th>Total Missing (%)</th>\n",
              "                <td>0.0% </td>\n",
              "            </tr>\n",
              "            <tr>\n",
              "                <th>Total size in memory</th>\n",
              "                <td>29.3 KiB </td>\n",
              "            </tr>\n",
              "            <tr>\n",
              "                <th>Average record size in memory</th>\n",
              "                <td>40.2 B </td>\n",
              "            </tr>\n",
              "            </tbody>\n",
              "        </table>\n",
              "    </div>\n",
              "    <div class=\"col-md-6 namecol\">\n",
              "        <p class=\"h4\">Variables types</p>\n",
              "        <table class=\"stats\" style=\"margin-left: 1em;\">\n",
              "            <tbody>\n",
              "            <tr>\n",
              "                <th>Numeric</th>\n",
              "                <td>3 </td>\n",
              "            </tr>\n",
              "            <tr>\n",
              "                <th>Categorical</th>\n",
              "                <td>0 </td>\n",
              "            </tr>\n",
              "            <tr>\n",
              "                <th>Boolean</th>\n",
              "                <td>1 </td>\n",
              "            </tr>\n",
              "            <tr>\n",
              "                <th>Date</th>\n",
              "                <td>0 </td>\n",
              "            </tr>\n",
              "            <tr>\n",
              "                <th>Text (Unique)</th>\n",
              "                <td>0 </td>\n",
              "            </tr>\n",
              "            <tr>\n",
              "                <th>Rejected</th>\n",
              "                <td>1 </td>\n",
              "            </tr>\n",
              "            <tr>\n",
              "                <th>Unsupported</th>\n",
              "                <td>0 </td>\n",
              "            </tr>\n",
              "            </tbody>\n",
              "        </table>\n",
              "    </div>\n",
              "    <div class=\"col-md-12\" style=\"padding-left: 1em;\">\n",
              "        \n",
              "        <p class=\"h4\">Warnings</p>\n",
              "        <ul class=\"list-unstyled\"><li><a href=\"#pp_var_Monetary (c.c. blood)\"><code>Monetary (c.c. blood)</code></a> is highly correlated with <a href=\"#pp_var_Frequency (times)\"><code>Frequency (times)</code></a> (ρ = 1) <span class=\"label label-primary\">Rejected</span></li><li>Dataset has 215 duplicate rows <span class=\"label label-warning\">Warning</span></li> </ul>\n",
              "    </div>\n",
              "</div>\n",
              "    <div class=\"row headerrow highlight\">\n",
              "        <h1>Variables</h1>\n",
              "    </div>\n",
              "    <div class=\"row variablerow\">\n",
              "    <div class=\"col-md-3 namecol\">\n",
              "        <p class=\"h4 pp-anchor\" id=\"pp_var_Recency (months)\">Recency (months)<br/>\n",
              "            <small>Numeric</small>\n",
              "        </p>\n",
              "    </div><div class=\"col-md-6\">\n",
              "    <div class=\"row\">\n",
              "        <div class=\"col-sm-6\">\n",
              "            <table class=\"stats \">\n",
              "                <tr>\n",
              "                    <th>Distinct count</th>\n",
              "                    <td>31</td>\n",
              "                </tr>\n",
              "                <tr>\n",
              "                    <th>Unique (%)</th>\n",
              "                    <td>4.1%</td>\n",
              "                </tr>\n",
              "                <tr class=\"ignore\">\n",
              "                    <th>Missing (%)</th>\n",
              "                    <td>0.0%</td>\n",
              "                </tr>\n",
              "                <tr class=\"ignore\">\n",
              "                    <th>Missing (n)</th>\n",
              "                    <td>0</td>\n",
              "                </tr>\n",
              "                <tr class=\"ignore\">\n",
              "                    <th>Infinite (%)</th>\n",
              "                    <td>0.0%</td>\n",
              "                </tr>\n",
              "                <tr class=\"ignore\">\n",
              "                    <th>Infinite (n)</th>\n",
              "                    <td>0</td>\n",
              "                </tr>\n",
              "            </table>\n",
              "\n",
              "        </div>\n",
              "        <div class=\"col-sm-6\">\n",
              "            <table class=\"stats \">\n",
              "\n",
              "                <tr>\n",
              "                    <th>Mean</th>\n",
              "                    <td>9.5067</td>\n",
              "                </tr>\n",
              "                <tr>\n",
              "                    <th>Minimum</th>\n",
              "                    <td>0</td>\n",
              "                </tr>\n",
              "                <tr>\n",
              "                    <th>Maximum</th>\n",
              "                    <td>74</td>\n",
              "                </tr>\n",
              "                <tr class=\"ignore\">\n",
              "                    <th>Zeros (%)</th>\n",
              "                    <td>0.7%</td>\n",
              "                </tr>\n",
              "            </table>\n",
              "        </div>\n",
              "    </div>\n",
              "</div>\n",
              "<div class=\"col-md-3 collapse in\" id=\"minihistogram-1014795980803932702\">\n",
              "    <img src=\"data:image/png;base64,iVBORw0KGgoAAAANSUhEUgAAAMgAAABLCAYAAAA1fMjoAAAABHNCSVQICAgIfAhkiAAAAAlwSFlzAAAPYQAAD2EBqD%2BnaQAAADh0RVh0U29mdHdhcmUAbWF0cGxvdGxpYiB2ZXJzaW9uMy4xLjEsIGh0dHA6Ly9tYXRwbG90bGliLm9yZy8QZhcZAAABG0lEQVR4nO3cwQkCMRBAURVLsgh78mxPFmFP8S7ycRdko753X5jLZ5YQsh9jjB3w0mHrAWBmx60HeHa63BZ/c7%2BePzAJ2CCQBAJBIBAEAkEgEAQCQSAQBAJBIBAEAkEgEAQCQSAQBAJBIBAEAkEgEAQCQSAQBAJBIBCme9VkDS%2Bh8Ck2CASBQBAIBIFAEAgEgUAQCASBQBAIBIFA%2BImrJmu4nsI7bBAIAoEgEAgCgSAQCAKB8LfHvGssPRp2LPz9bBAIAoEgEAgCgSAQCE6xJuMS5Vz2Y4yx9RAwK79YEAQCQSAQBAJBIBAEAkEgEAQCQSAQBAJBIBAEAkEgEAQCQSAQBAJBIBAEAkEgEAQCQSAQBAJBIBAEAkEgEB58jheX8GAPYgAAAABJRU5ErkJggg%3D%3D\">\n",
              "\n",
              "</div>\n",
              "<div class=\"col-md-12 text-right\">\n",
              "    <a role=\"button\" data-toggle=\"collapse\" data-target=\"#descriptives-1014795980803932702,#minihistogram-1014795980803932702\"\n",
              "       aria-expanded=\"false\" aria-controls=\"collapseExample\">\n",
              "        Toggle details\n",
              "    </a>\n",
              "</div>\n",
              "<div class=\"row collapse col-md-12\" id=\"descriptives-1014795980803932702\">\n",
              "    <ul class=\"nav nav-tabs\" role=\"tablist\">\n",
              "        <li role=\"presentation\" class=\"active\"><a href=\"#quantiles-1014795980803932702\"\n",
              "                                                  aria-controls=\"quantiles-1014795980803932702\" role=\"tab\"\n",
              "                                                  data-toggle=\"tab\">Statistics</a></li>\n",
              "        <li role=\"presentation\"><a href=\"#histogram-1014795980803932702\" aria-controls=\"histogram-1014795980803932702\"\n",
              "                                   role=\"tab\" data-toggle=\"tab\">Histogram</a></li>\n",
              "        <li role=\"presentation\"><a href=\"#common-1014795980803932702\" aria-controls=\"common-1014795980803932702\"\n",
              "                                   role=\"tab\" data-toggle=\"tab\">Common Values</a></li>\n",
              "        <li role=\"presentation\"><a href=\"#extreme-1014795980803932702\" aria-controls=\"extreme-1014795980803932702\"\n",
              "                                   role=\"tab\" data-toggle=\"tab\">Extreme Values</a></li>\n",
              "\n",
              "    </ul>\n",
              "\n",
              "    <div class=\"tab-content\">\n",
              "        <div role=\"tabpanel\" class=\"tab-pane active row\" id=\"quantiles-1014795980803932702\">\n",
              "            <div class=\"col-md-4 col-md-offset-1\">\n",
              "                <p class=\"h4\">Quantile statistics</p>\n",
              "                <table class=\"stats indent\">\n",
              "                    <tr>\n",
              "                        <th>Minimum</th>\n",
              "                        <td>0</td>\n",
              "                    </tr>\n",
              "                    <tr>\n",
              "                        <th>5-th percentile</th>\n",
              "                        <td>2</td>\n",
              "                    </tr>\n",
              "                    <tr>\n",
              "                        <th>Q1</th>\n",
              "                        <td>2.75</td>\n",
              "                    </tr>\n",
              "                    <tr>\n",
              "                        <th>Median</th>\n",
              "                        <td>7</td>\n",
              "                    </tr>\n",
              "                    <tr>\n",
              "                        <th>Q3</th>\n",
              "                        <td>14</td>\n",
              "                    </tr>\n",
              "                    <tr>\n",
              "                        <th>95-th percentile</th>\n",
              "                        <td>23</td>\n",
              "                    </tr>\n",
              "                    <tr>\n",
              "                        <th>Maximum</th>\n",
              "                        <td>74</td>\n",
              "                    </tr>\n",
              "                    <tr>\n",
              "                        <th>Range</th>\n",
              "                        <td>74</td>\n",
              "                    </tr>\n",
              "                    <tr>\n",
              "                        <th>Interquartile range</th>\n",
              "                        <td>11.25</td>\n",
              "                    </tr>\n",
              "                </table>\n",
              "            </div>\n",
              "            <div class=\"col-md-4 col-md-offset-2\">\n",
              "                <p class=\"h4\">Descriptive statistics</p>\n",
              "                <table class=\"stats indent\">\n",
              "                    <tr>\n",
              "                        <th>Standard deviation</th>\n",
              "                        <td>8.0954</td>\n",
              "                    </tr>\n",
              "                    <tr>\n",
              "                        <th>Coef of variation</th>\n",
              "                        <td>0.85155</td>\n",
              "                    </tr>\n",
              "                    <tr>\n",
              "                        <th>Kurtosis</th>\n",
              "                        <td>9.3913</td>\n",
              "                    </tr>\n",
              "                    <tr>\n",
              "                        <th>Mean</th>\n",
              "                        <td>9.5067</td>\n",
              "                    </tr>\n",
              "                    <tr>\n",
              "                        <th>MAD</th>\n",
              "                        <td>6.5513</td>\n",
              "                    </tr>\n",
              "                    <tr class=\"\">\n",
              "                        <th>Skewness</th>\n",
              "                        <td>1.8805</td>\n",
              "                    </tr>\n",
              "                    <tr>\n",
              "                        <th>Sum</th>\n",
              "                        <td>7111</td>\n",
              "                    </tr>\n",
              "                    <tr>\n",
              "                        <th>Variance</th>\n",
              "                        <td>65.535</td>\n",
              "                    </tr>\n",
              "                    <tr>\n",
              "                        <th>Memory size</th>\n",
              "                        <td>6.0 KiB</td>\n",
              "                    </tr>\n",
              "                </table>\n",
              "            </div>\n",
              "        </div>\n",
              "        <div role=\"tabpanel\" class=\"tab-pane col-md-8 col-md-offset-2\" id=\"histogram-1014795980803932702\">\n",
              "            <img src=\"data:image/png;base64,iVBORw0KGgoAAAANSUhEUgAAAlgAAAGQCAYAAAByNR6YAAAABHNCSVQICAgIfAhkiAAAAAlwSFlzAAAPYQAAD2EBqD%2BnaQAAADh0RVh0U29mdHdhcmUAbWF0cGxvdGxpYiB2ZXJzaW9uMy4xLjEsIGh0dHA6Ly9tYXRwbG90bGliLm9yZy8QZhcZAAAgAElEQVR4nO3df1SUdd7/8RcwiamAYKK7ZFEpFoK/FSMLpdTU1cpUtFNqaalRJGlqZmVHU1v19i7pmLard2VnI7wtf6y/tvVHWWxtP6wBtU3UzbgxSJlQQhO4vn/0lW1EE%2BWj18zF83EOp/hcM9f1fjmj5zXXNQwBlmVZAgAAgDGBdg8AAADgNBQsAAAAwyhYAAAAhlGwAAAADKNgAQAAGEbBAgAAMIyCBQAAYBgFCwAAwDAKFgAAgGEULAAAAMMoWAAAAIZRsAAAAAyjYAEAABhGwQIAADCMggUAAGAYBQsAAMAwChYAAIBhFCwAAADDKFgAAACGUbAAAAAMo2ABAAAYRsECAAAwjIIFAABgGAULAADAMAoWAACAYRQsAAAAwyhYAAAAhlGwAAAADKNgAQAAGEbBAgAAMIyCBQAAYBgFCwAAwDAKFgAAgGEULAAAAMMoWAAAAIZRsAAAAAyjYAEAABhGwQIAADCMggUAAGCYy%2B4B6oqioqPG9xkYGKCIiIY6cqRUlZWW8f37ErI6E1mdiazO5K9ZmzYNseW4nMHyY4GBAQoICFBgYIDdo1x0ZHUmsjoTWZ2pLmU1gYIFAABgGAULAADAMAoWAACAYRQsAAAAwyhYAAAAhlGwAAAADKNgAQAAGEbBAgAAMIyCBQAAYBgFCwAAwDAKFgAAgGEULAAAAMMoWAAAAIa57B4AtdP5qY12j1BjGybcZPcIAABcEpzBAgAAMIyCBQAAYBgFCwAAwDAKFgAAgGEULAAAAMMoWAAAAIZRsAAAAAyjYAEAABhGwQIAADCMggUAAGAYBQsAAMAwChYAAIBhFCwAAADDKFgAAACGUbAAAAAMc2zB2rNnj0aOHKlOnTopMTFREyZMUFFRkT7%2B%2BGO1bt1a8fHxXl8bNmyouu/rr7%2BuPn36qGPHjho%2BfLhycnJsTAIAAPyNIwvWzz//rAceeEBdu3ZVdna21q1bp8OHD2vGjBmSpKioKLndbq%2Bvvn37SpK2bNmiRYsW6Y9//KM%2B%2Bugj9ezZU%2BPGjdNPP/1kYyIAAOBPHFmwysrKlJ6errFjx6pevXqKiIhQr1699M0335zzvpmZmRo0aJDatWun%2BvXra8yYMZKkrVu3XuyxAQCAQziyYIWFhWnIkCFyuVySpH379umdd96pOktVWlqq1NRUJSQk6Oabb9by5ctlWZYkKTc3V7GxsVX7CgwM1A033CC3233pgwAAAL/ksnuAiyk/P199%2BvRReXm5hg4dqrS0NO3Zs0cxMTEaOXKkFi5cqE8%2B%2BUSPPfaYQkJCNHjwYHk8HoWFhXntJywsTMXFxTU%2BbmFhoYqKirzWXK4GioyMNJLrlKAg/%2BrHLteFz3sqq79lvhBkdSayOhNZcTaOLlin3mv173//W88884wmT56sBQsW6I033qi6Tffu3TVs2DCtWrVKgwcPlqSqs1kXKjMzUxkZGV5rqampSktLq9V%2B/V14eMNa7yM09HIDk/gHsjoTWZ2JrDidowuWJAUEBCg6Olrp6ekaNmyYnnrqKUVERHjdJioqSps2bZIkhYeHy%2BPxeG33eDxq1apVjY%2BZkpKi5ORkrzWXq4GKi0svMMWZ%2BduriNrkDwoKVGjo5SopKVNFRaXBqXwPWZ2JrM5EVt9n4sX9hXBkwcrOztaMGTO0YcMGBQb%2BUkJO/Xf79u0qKyvTPffcU3X7ffv2qUWLFpKkuLg45ebm6q677pIkVVRUaNeuXVVnt2oiMjKy2uXAoqKjKi/3nyfkxWAif0VFZZ35cySrM5HVmciK0/nXKZAaiouL07FjxzRv3jyVlZXpyJEjWrRokTp37qyQkBC98MIL2rFjh06ePKkPP/xQ//u//6vhw4dLkoYPH653331XO3fuVFlZmRYvXqx69eqpR48e9oYCAAB%2Bw5FnsEJCQrRs2TLNmjVL3bp1U4MGDdStWzc9//zzatasmaZNm6aZM2eqoKBAV1xxhaZNm6bevXtLkm655RY9/vjjmjBhgg4fPqz4%2BHgtXbpU9evXtzkVAADwFwFWbd/RjRopKjpqfJ8uV6B6zf/A%2BH4vlg0Tbrrg%2B7pcgQoPb6ji4lLHn5omqzOR1ZnI6vuaNg2x5biOvEQIAABgJwoWAACAYRQsAAAAwyhYAAAAhlGwAAAADKNgAQAAGEbBAgAAMIyCBQAAYBgFCwAAwDAKFgAAgGEULAAAAMMoWAAAAIZRsAAAAAyjYAEAABhGwQIAADCMggUAAGAYBQsAAMAwChYAAIBhFCwAAADDKFgAAACGUbAAAAAMo2ABAAAYRsECAAAwjIIFAABgGAULAADAMAoWAACAYRQsAAAAwyhYAAAAhlGwAAAADKNgAQAAGObYgrVnzx6NHDlSnTp1UmJioiZMmKCioiJJUnZ2tgYPHqyOHTuqf//%2BWrNmjdd9X3/9dfXp00cdO3bU8OHDlZOTY0cEAADgpxxZsH7%2B%2BWc98MAD6tq1q7Kzs7Vu3TodPnxYM2bMUGFhoR5%2B%2BGENGzZM2dnZeuqpp/T000/L7XZLkrZs2aJFixbpj3/8oz766CP17NlT48aN008//WRzKgAA4C8cWbDKysqUnp6usWPHql69eoqIiFCvXr30zTffaO3atYqOjtbgwYMVHBysxMREJScnKysrS5KUmZmpQYMGqV27dqpfv77GjBkjSdq6daudkQAAgB9x2T3AxRAWFqYhQ4ZUfb9v3z6988476tu3r3JzcxUbG%2Bt1%2B9jYWG3YsEGSlJubq379%2BlVtCwwM1A033CC3263%2B/fvX6PiFhYVVlyNPcbkaKDIy8kIjnVFQkH/1Y5frwuc9ldXfMl8IsjoTWZ2JrDgbRxasU/Lz89WnTx%2BVl5dr6NChSktL04MPPqhmzZp53a5x48YqLi6WJHk8HoWFhXltDwsLq9peE5mZmcrIyPBaS01NVVpa2gUmcYbw8Ia13kdo6OUGJvEPZHUmsjoTWXE6RxesqKgoud1u/fvf/9YzzzyjyZMn1%2Bh%2BlmXV6rgpKSlKTk72WnO5Gqi4uLRW%2Bz2dv72KqE3%2BoKBAhYZerpKSMlVUVBqcyveQ1ZnI6kxk9X0mXtxfCEcXLEkKCAhQdHS00tPTNWzYMCUlJcnj8Xjdpri4WBEREZKk8PDwats9Ho9atWpV42NGRkZWuxxYVHRU5eX%2B84S8GEzkr6iorDN/jmR1JrI6E1lxOv86BVJD2dnZ6tOnjyor//MECAz8JWrbtm2rfexCTk6O2rVrJ0mKi4tTbm5u1baKigrt2rWrajsAAMC5OLJgxcXF6dixY5o3b57Kysp05MgRLVq0SJ07d9bw4cOVn5%2BvrKwsnThxQtu3b9f27ds1dOhQSdLw4cP17rvvaufOnSorK9PixYtVr1499ejRw95QAADAbziyYIWEhGjZsmXKyclRt27d1L9/f4WEhOi//uu/1KRJEy1ZskQrVqxQp06dNHv2bM2bN0/XX3%2B9JOmWW27R448/rgkTJqhr16766KOPtHTpUtWvX9/mVAAAwF849j1YrVu31htvvHHGbV26dNHq1avPet977rlH99xzz8UaDQAAOJwjz2ABAADYiYIFAABgGAULAADAMAoWAACAYRQsAAAAwyhYAAAAhlGwAAAADKNgAQAAGEbBAgAAMIyCBQAAYBgFCwAAwDAKFgAAgGEULAAAAMMoWAAAAIZRsAAAAAyjYAEAABhGwQIAADCMggUAAGAYBQsAAMAwChYAAIBhFCwAAADDKFgAAACGUbAAAAAMo2ABAAAYRsECAAAwjIIFAABgGAULAADAMAoWAACAYRQsAAAAwxxbsPLz85WamqqEhAQlJiZq6tSpKikp0XfffafWrVsrPj7e6%2BvPf/5z1X3Xr1%2BvAQMGqEOHDho0aJB27NhhYxIAAOBvXHYPcLGMGzdOcXFx2rJli44eParU1FS98MILGj9%2BvCTJ7Xaf8X67d%2B/WlClTlJGRoW7dumnTpk165JFHtHHjRjVv3vxSRgAAAH7KkWewSkpKFBcXp4kTJ6phw4Zq3ry57rrrLn366afnvG9WVpaSkpKUlJSk4OBgDRw4UDExMVqzZs0lmBwAADiBIwtWaGio5syZoyuuuKJqraCgQJGRkVXfT548Wd27d1e3bt20YMECnTx5UpKUm5ur2NhYr/3Fxsae9YwXAADA6Rx7ifDX3G63VqxYocWLF6tevXrq0KGDevXqpeeff167d%2B/Wo48%2BKpfLpccee0wej0dhYWFe9w8LC9PevXtrfLzCwkIVFRV5rblcDbwKnglBQf7Vj12uC5/3VFZ/y3whyOpMZHUmsuJsHF%2BwPvvsM40fP14TJ05UYmKiJOmtt96q2t62bVuNHTtWS5Ys0WOPPSZJsiyrVsfMzMxURkaG11pqaqrS0tJqtV9/Fx7esNb7CA293MAk/oGszkRWZyIrTufogrVlyxY98cQTevrpp3XnnXee9XZRUVH64YcfZFmWwsPD5fF4vLZ7PB5FRETU%2BLgpKSlKTk72WnO5Gqi4uPT8ApyDv72KqE3%2BoKBAhYZerpKSMlVUVBqcyveQ1ZnI6kxk9X0mXtxfCMcWrM8//1xTpkzRiy%2B%2BqO7du1etZ2dna%2BfOnVU/TShJ%2B/btU1RUlAICAhQXF6ecnByvfbndbvXv37/Gx46MjKx2ObCo6KjKy/3nCXkxmMhfUVFZZ/4cyepMZHUmsuJ0/nUKpIbKy8s1ffp0TZo0yatcSVJISIhefvllrV69WidPnpTb7daf//xnDR8%2BXJI0dOhQffTRR9q2bZtOnDihlStX6sCBAxo4cKAdUQAAgB9y5BmsnTt3Ki8vT7NmzdKsWbO8tm3cuFELFy5URkaGnnnmGYWEhOi%2B%2B%2B7TyJEjJUkxMTGaP3%2B%2B5syZo/z8fLVs2VJLlixR06ZN7YgCAAD8kCMLVufOnfX111%2BfdXtUVJR69ep11u29e/dW7969L8ZoAACgDnDkJUIAAAA7UbAAAAAMo2ABAAAYRsECAAAwzOcKVnJysjIyMlRQUGD3KAAAABfE5wrW3XffrfXr1%2Bu2227TmDFjtHnzZpWXl9s9FgAAQI35XMFKTU3V%2BvXr9fbbb6tVq1aaPXu2kpKSNG/ePO3fv9/u8QAAAM7J5wrWKW3atNGUKVO0detWTZs2TW%2B//bb69eun0aNH66uvvrJ7PAAAgLPy2YJ18uRJrV%2B/Xg8%2B%2BKCmTJmiZs2a6cknn9QNN9ygUaNGae3atXaPCAAAcEY%2B90nueXl5Wrlypd59912VlpaqT58%2Beu2119SpU6eq23Tp0kUzZszQgAEDbJwUAADgzHyuYPXv31/XXHONxo4dqzvvvFONGzeudpukpCQdOXLEhukAAADOzecK1uuvv66uXbue83ZffvnlJZgGAADg/Pnce7Bat26tcePG6b333qta%2B5//%2BR89%2BOCD8ng8Nk4GAABQMz5XsObMmaOjR4%2BqZcuWVWs9evRQZWWl5s6da%2BNkAAAANeNzlwh37NihtWvXKjw8vGotOjpa8%2BfP1x/%2B8AcbJwMAAKgZnzuDdfz4cQUHB1dbDwwMVFlZmQ0TAQAAnB%2BfK1hdunTR3Llz9eOPP1atff/993ruuee8PqoBAADAV/ncJcJp06bpgQce0I033qhGjRqpsrJSpaWlatGihd544w27xwMAADgnnytYLVq00F//%2Ble9//77%2BvbbbxUYGKhrrrlG3bt3V1BQkN3jAQAAnJPPFSxJqlevnm677Ta7xwAAALggPlewDh48qAULFuibb77R8ePHq23/%2B9//bsNUAAAANedzBWvatGkqLCxU9%2B7d1aBBA7vHAQAAOG8%2BV7BycnL097//XREREXaPAgAAcEF87mMamjRpwpkrAADg13yuYI0dO1YZGRmyLMvuUQAAAC6Iz10ifP/99/X5559r1apVuvLKKxUY6N0B33rrLZsmAwAAqBmfK1iNGjXSLbfcYvcYAAAAF8znCtacOXPsHgEAAKBWfO49WJK0b98%2BLVq0SE8%2B%2BWTV2hdffGHjRAAAADXncwUrOztbAwcO1ObNm7Vu3TpJv3z46IgRI/iQUQAA4Bd8rmAtXLhQTzzxhNauXauAgABJv/x%2Bwrlz5%2Brll1%2Bu8X7y8/OVmpqqhIQEJSYmaurUqSopKZEk7d69W/fee686deqk3r17a9myZV73Xb9%2BvQYMGKAOHTpo0KBB2rFjh7mAAADA8XyuYP3rX//S8OHDJamqYEnS7bffrry8vBrvZ9y4cQoNDdWWLVu0atUqffPNN3rhhRd0/PhxjR07Vt26ddMHH3yghQsXasmSJdq8ebOkX8rXlClTNGnSJP3jH//QqFGj9Mgjj%2BjQoUNmgwIAAMfyuYIVEhJyxt9BWFhYqHr16tVoHyUlJYqLi9PEiRPVsGFDNW/eXHfddZc%2B/fRTbdu2TSdPntT48ePVoEEDtWnTRkOGDFFmZqYkKSsrS0lJSUpKSlJwcLAGDhyomJgYrVmzxmhOAADgXD73U4QdO3bU7NmzNX369Kq1/fv369lnn9WNN95Yo32EhoZW%2B2nEgoICRUZGKjc3V61bt1ZQUFDVttjYWGVlZUmScnNzlZSU5HXf2NhYud3uGmcoLCxUUVGR15rL1UCRkZE13kdNBAX5XD/%2BTS7Xhc97Kqu/Zb4QZHUmsjoTWXE2PlewnnzySY0cOVIJCQmqqKhQx44dVVZWplatWmnu3LkXtE%2B3260VK1Zo8eLF2rBhg0JDQ722N27cWB6PR5WVlfJ4PAoLC/PaHhYWpr1799b4eJmZmcrIyPBaS01NVVpa2gXN7xS95n9g9wjn5dPnb7f1%2BKGhl9t6/EuJrM5EVmeqS1lrw%2BcKVvPmzbVu3Tpt375d%2B/fvV/369XXNNdfopptu8npPVk199tlnGj9%2BvCZOnKjExERt2LDhjLf79b5r%2B2t6UlJSlJyc7LXmcjVQcXFprfZ7Ol5FXFymH6%2BaCgoKVGjo5SopKVNFRaUtM1wqZHUmsjqTv2YND29oy3F9rmBJ0mWXXabbbrut1vvZsmWLnnjiCT399NO68847JUkRERE6cOCA1%2B08Ho8aN26swMBAhYeHy%2BPxVNseERFR4%2BNGRkZWuxxYVHRU5eX%2B84SEbH%2B8KioqbZ/hUiGrM5HVmepS1trwuYKVnJz8m2eqavpZWJ9//rmmTJmiF198Ud27d69aj4uL01/%2B8heVl5fL5folvtvtVrt27aq25%2BTkeO3L7Xarf//%2B5xsFAADUUT5XsPr16%2BdVsCoqKrR//3653W6NHDmyRvsoLy/X9OnTNWnSJK9yJUlJSUlq1KiRFi9erDFjxuhf//qXVq5cqXnz5kmShg4dqsGDB2vbtm268cYbtXbtWh04cEADBw40FxIAADiazxWsSZMmnXF906ZN%2Bvjjj2u0j507dyovL0%2BzZs3SrFmzvLZt3LhRr7zyip599lktXbpUV1xxhdLT09WjRw9JUkxMjObPn685c%2BYoPz9fLVu21JIlS9S0adNa5QIAAHVHgFXbd3RfIhUVFUpMTKxxyfI1RUVHje/T5Qr0u5/M8ycbJtxky3FdrkCFhzdUcXGp49/nQFZnIqsz%2BWvWpk1DbDmu3/wY2q5du2r9030AAACXgs9dIhw2bFi1tbKyMuXl5al37942TAQAAHB%2BfK5gRUdHV/spwuDgYA0ePFhDhgyxaSoAAICa87mCdaGf1g4AAOArfK5gvfvuuzW%2B7akPDwUAAPAlPlewnnrqKVVWVlZ7Q3tAQIDXWkBAAAULAAD4JJ8rWH/605%2B0bNkyjRs3Tq1bt5ZlWfr666/16quv6t5771VCQoLdIwIAAPwmnytYc%2BfO1dKlS9WsWbOqtc6dO6tFixYaPXq01q1bZ%2BN0AAAA5%2BZzn4N14MABhYWFVVsPDQ1Vfn6%2BDRMBAACcH58rWFFRUZo7d66Ki4ur1kpKSrRgwQJdddVVNk4GAABQMz53iXDatGmaOHGiMjMz1bBhQwUGBurYsWOqX7%2B%2BXn75ZbvHAwAAOCefK1jdu3fXtm3btH37dh06dEiWZalZs2a6%2BeabFRJiz%2B8TAgAAOB8%2BV7Ak6fLLL9ett96qQ4cOqUWLFnaPAwAAcF587j1Yx48f15QpU9ShQwf17dtX0i/vwRozZoxKSkpsng4AAODcfK5gzZs3T7t379b8%2BfMVGPif8SoqKjR//nwbJwMAAKgZnytYmzZt0ksvvaTbb7%2B96pc%2Bh4aGas6cOdq8ebPN0wEAAJybzxWs0tJSRUdHV1uPiIjQTz/9dOkHAgAAOE8%2BV7Cuuuoqffzxx5Lk9bsHN27cqN///vd2jQUAAFBjPvdThPfcc48effRR3X333aqsrNTy5cuVk5OjTZs26amnnrJ7PAAAgHPyuYKVkpIil8ulFStWKCgoSK%2B88oquueYazZ8/X7fffrvd4wEAAJyTzxWsI0eO6O6779bdd99t9ygAAAAXxOfeg3Xrrbd6vfcKAADA3/hcwUpISNCGDRvsHgMAAOCC%2Bdwlwt/97nd6/vnntXTpUl111VW67LLLvLYvWLDApskAAABqxucK1t69e3XttddKkoqLi22eBgAA4Pz5TMFKT0/XwoUL9cYbb1Stvfzyy0pNTbVxKgAAgPPnM%2B/B2rJlS7W1pUuX2jAJAABA7fhMwTrTTw7y04QAAMAf%2BUzBOvWLnc%2B1BgAA4Ot8pmABAAA4hWML1gcffKDExESlp6d7ra9atUrXX3%2B94uPjvb6%2B%2BuorSVJlZaUWLlyoW2%2B9VV26dNHo0aN18OBBOyIAAAA/5TM/RXjy5ElNnDjxnGs1%2BRysV199VStXrtTVV199xu1dunTx%2BmnFX3vzzTe1du1avfrqq2rWrJkWLlyo1NRUrV69mkuWAACgRnzmDFanTp1UWFjo9XWmtZoIDg7%2BzYL1WzIzMzVq1Chdd911atSokdLT05WXl6cvv/zyvPcFAADqJp85g3W2M0oXYsSIEb%2B5vaCgQPfff79ycnIUGhqqtLQ03XHHHTp%2B/Lj27t2r2NjYqts2atRIV199tdxut9q3b1%2Bj4xcWFqqoqMhrzeVqoMjIyPMP8xuCgnymHzuSy2XPn%2B%2Bpx7UuPL5kdSayOlNdymqCzxSsSyUiIkLR0dF6/PHH1bJlS/3tb3/T5MmTFRkZqWuvvVaWZSksLMzrPmFhYef1qfKZmZnKyMjwWktNTVVaWpqRDLg0wsMb2nr80NDLbT3%2BpURWZyKrM9WlrLVR5wpWjx491KNHj6rv%2B/fvr7/97W9atWqVJk2aJKn2n7%2BVkpKi5ORkrzWXq4GKi0trtd/T8Sri4jL9eNVUUFCgQkMvV0lJmSoqKm2Z4VIhqzOR1Zn8NatdL5brXME6k6ioKOXk5Khx48YKDAyUx%2BPx2u7xeNSkSZMa7y8yMrLa5cCioqMqL/efJyRk%2B%2BNVUVFp%2BwyXClmdiazOVJey1kadOwXyl7/8RevXr/day8vLU4sWLRQcHKxWrVopNze3altJSYm%2B/fZbtW3b9lKPCgAA/FSdK1g///yzZs6cKbfbrZMnT2rdunV6//33NWzYMEnS8OHD9frrrysvL0/Hjh3T/PnzdcMNNyg%2BPt7myQEAgL9w5CXCU2WovLxckvTee%2B9Jktxut0aMGKHS0lI99thjKioq0pVXXqmXX35ZcXFxkqRhw4apqKhI9913n0pLS5WQkFDtDesAAAC/JcDiNypfEkVFR43v0%2BUKVK/5HxjfL36xYcJNthzX5QpUeHhDFReXOv59DmR1JrI6k79mbdo0xJbj1rlLhAAAABcbBQsAAMAwChYAAIBhFCwAAADDKFgAAACGUbAAAAAMo2ABAAAYRsECAAAwjIIFAABgGAULAADAMAoWAACAYRQsAAAAwyhYAAAAhlGwAAAADKNgAQAAGEbBAgAAMIyCBQAAYBgFCwAAwDAKFgAAgGEULAAAAMMoWAAAAIZRsAAAAAxz2T0A4Kv6/veHdo9wXjZMuMnuEQAA/x9nsAAAAAyjYAEAABhGwQIAADCMggUAAGAYBQsAAMAwChYAAIBhji1YH3zwgRITE5Wenl5t2/r16zVgwAB16NBBgwYN0o4dO6q2VVZWauHChbr11lvVpUsXjR49WgcPHryUowMAAD/nyIL16quvatasWbr66qurbdu9e7emTJmiSZMm6R//%2BIdGjRqlRx55RIcOHZIkvfnmm1q7dq2WLl2qrVu3Kjo6WqmpqbIs61LHAAAAfsqRBSs4OFgrV648Y8HKyspSUlKSkpKSFBwcrIEDByomJkZr1qyRJGVmZmrUqFG67rrr1KhRI6WnpysvL09ffvnlpY4BAAD8lCML1ogRIxQSEnLGbbm5uYqNjfVai42Nldvt1vHjx7V3716v7Y0aNdLVV18tt9t9UWcGAADOUed%2BVY7H41FYWJjXWlhYmPbu3asff/xRlmWdcXtxcXGNj1FYWKiioiKvNZergSIjIy988DMICnJkP8YFcrn87/lw6jlcF57LZHUmsuJs6lzBknTO91PV9v1WmZmZysjI8FpLTU1VWlparfYL/Jbw8IZ2j3DBQkMvt3uES4aszkRWnK7OFazw8HB5PB6vNY/Ho4iICDVu3FiBgYFn3N6kSZMaHyMlJUXJycleay5XAxUXl1744GfAqwj8munn16UQFBSo0NDLVVJSpoqKSrvHuajI6kxk9X12vfiscwUrLi5OOTk5Xmtut1v9%2B/dXcHCwWrVqpdzcXHXt2lWSVFJSom%2B//VZt27at8TEiIyOrXQ4sKjqq8nL/eULC//jz86uiotKv5z8fZHUmsuJ0de4UyNChQ/XRRx9p27ZtOnHihFauXKkDBw5o4MCBkqThw4fr9ddfV15eno4dO6b58%2BfrhhtuUHx8vM2TAwAAf%2BHIM1inylB5ebkk6b333pP0y5mqmJgYzZ8/X3PmzFF%2Bfr5atmypJUuWqGnTppKkYcOGqaioSPfdd59KS0uVkJBQ7f1UAAAAvyXA4hM0L4mioqPG9%2BlyBarX/A%2BM7xf%2Baa%2BKcJEAAA8nSURBVMOEm%2Bwe4by5XIEKD2%2Bo4uJSx19yIKszkdX3NW165o9tutjq3CVCAACAi42CBQAAYBgFCwAAwDAKFgAAgGEULAAAAMMoWAAAAIZRsAAAAAyjYAEAABhGwQIAADCMggUAAGAYBQsAAMAwChYAAIBhFCwAAADDKFgAAACGUbAAAAAMo2ABAAAYRsECAAAwjIIFAABgGAULAADAMAoWAACAYRQsAAAAwyhYAAAAhlGwAAAADKNgAQAAGEbBAgAAMIyCBQAAYBgFCwAAwDAKFgAAgGEULAAAAMMoWAAAAIa57B7ADq1bt9Zll12mgICAqrWhQ4fq6aefVnZ2thYsWKB9%2B/bpd7/7ncaOHauBAwfaOC0AAPA3dbJgSdLGjRt15ZVXeq0VFhbq4Ycf1lNPPaUBAwbos88%2B0/jx43XNNdcoPj7epkkBAIC/4RLhr6xdu1bR0dEaPHiwgoODlZiYqOTkZGVlZdk9GgAA8CN19gzWggUL9MUXX%2BjYsWPq27evpk6dqtzcXMXGxnrdLjY2Vhs2bDivfRcWFqqoqMhrzeVqoMjIyFrP/WtBQfRj/Eff//7Q7hFq7G%2BTbpb0n%2BdwXXguk9WZyIqzqZMFq3379kpMTNQLL7yggwcPasKECXruuefk8XjUrFkzr9s2btxYxcXF57X/zMxMZWRkeK2lpqYqLS2t1rMDThAe3tDr%2B9DQy22a5NIjqzORFaerkwUrMzOz6v%2Bvu%2B46TZo0SePHj1enTp2M7D8lJUXJycleay5XAxUXlxrZ/ym8ioC/OvV3ISgoUKGhl6ukpEwVFZU2T3VxkdWZyOr7Tn9Bd6nUyYJ1uiuvvFIVFRUKDAyUx%2BPx2lZcXKyIiIjz2l9kZGS1y4FFRUdVXu4/T0jgYjr970JFRWWd%2BftBVmciK05X506B7Nq1S3PnzvVay8vLU7169ZSUlKScnByvbTk5OWrXrt2lHBEAAPi5OlewmjRposzMTC1dulQ///yz9u/frxdffFEpKSm64447lJ%2Bfr6ysLJ04cULbt2/X9u3bNXToULvHBgAAfqTOFaxmzZpp6dKl2rJlixISEjRs2DDdfPPNeuKJJ9SkSRMtWbJEK1asUKdOnTR79mzNmzdP119/vd1jAwAAP1In34PVpUsXvfXWW2fdtnr16ks8EQAAcJI6dwYLAADgYqNgAQAAGEbBAgAAMIyCBQAAYBgFCwAAwDAKFgAAgGEULAAAAMMoWAAAAIZRsAAAAAyjYAEAABhGwQIAADCMggUAAGAYBQsAAMAwChYAAIBhFCwAAADDKFgAAACGUbAAAAAMo2ABAAAYRsECAAAwjIIFAABgGAULAADAMAoWAACAYRQsAAAAwyhYAAAAhlGwAAAADKNgAQAAGEbBAgAAMIyCBQAAYBgFCwAAwDAKFgAAgGEUrDPIz8/XQw89pISEBPXs2VPz5s1TZWWl3WMBAAA/4bJ7AF/06KOPqk2bNnrvvfd0%2BPBhjR07VldccYXuv/9%2Bu0cDYIO%2B//2h3SOclw0TbrJ7BKDOo2Cdxu12a8%2BePVq%2BfLlCQkIUEhKiUaNG6bXXXqNgAQD8ij%2B9OHDaCwMK1mlyc3MVFRWlsLCwqrU2bdpo//79OnbsmBo1anTOfRQWFqqoqMhrzeVqoMjISKOzBgVxhRf%2ByZ/%2B0fdHLpe9/zac%2BrepLvwbVZeyXmx2P29No2CdxuPxKDQ01GvtVNkqLi6uUcHKzMxURkaG19ojjzyiRx991Nyg%2BqXIjWz%2BjVJSUoyXN19TWFiozMxMsjoMWZ2psLBQr732J7L6gE%2Bfv93YvurSc9gEZ9VFQyzLqtX9U1JStGrVKq%2BvlJQUQ9P9R1FRkTIyMqqdLXMisjoTWZ2JrM5Ul7KawBms00RERMjj8XiteTweBQQEKCIiokb7iIyMpN0DAFCHcQbrNHFxcSooKNCRI0eq1txut1q2bKmGDRvaOBkAAPAXFKzTxMbGKj4%2BXgsWLNCxY8eUl5en5cuXa/jw4XaPBgAA/ETQjBkzZtg9hK%2B5%2BeabtW7dOs2cOVN//etfNXjwYI0ePVoBAQF2j1ZNw4YN1bVr1zpxdo2szkRWZyKrM9WlrLUVYNX2Hd0AAADwwiVCAAAAwyhYAAAAhlGwAAAADKNgAQAAGEbBAgAAMIyCBQAAYBgFCwAAwDAKFgAAgGEULAAAAMMoWH4oPz9fDz30kBISEtSzZ0/NmzdPlZWVdo9lzAcffKDExESlp6dX27Z%2B/XoNGDBAHTp00KBBg7Rjxw4bJjQnPz9fqampSkhIUGJioqZOnaqSkhJJ0u7du3XvvfeqU6dO6t27t5YtW2bztLWzZ88ejRw5Up06dVJiYqImTJigoqIiSVJ2drYGDx6sjh07qn///lqzZo3N05oxe/ZstW7duup7p%2BVs3bq14uLiFB8fX/U1c%2BZMSc7LesrixYvVvXt3tW/fXqNGjdJ3330nyVl5//nPf3o9pvHx8YqLi6t6Ljsp60Vlwe/cdddd1vTp062SkhJr//79Vu/eva1ly5bZPZYRS5cutXr37m0NGzbMmjBhgte2Xbt2WXFxcda2bdus48ePW6tXr7batWtnFRQU2DRt7f3hD3%2Bwpk6dah07dswqKCiwBg0aZE2bNs0qKyuzbr75ZmvRokVWaWmplZOTY3Xt2tXatGmT3SNfkBMnTlg33nijlZGRYZ04ccI6fPiwde%2B991oPP/yw9f3331vt27e3srKyrOPHj1sffvih1bZtW%2Burr76ye%2Bxa2bVrl9W1a1crJibGsizLkTljYmKsgwcPVlt3YlbLsqwVK1ZYt99%2Bu5WXl2cdPXrUmjlzpjVz5kzH5v21xYsXW4899lidyGoKZ7D8jNvt1p49ezRp0iSFhIQoOjpao0aNUmZmpt2jGREcHKyVK1fq6quvrrYtKytLSUlJSkpKUnBwsAYOHKiYmBi/ffVUUlKiuLg4TZw4UQ0bNlTz5s1111136dNPP9W2bdt08uRJjR8/Xg0aNFCbNm00ZMgQv32cy8rKlJ6errFjx6pevXqKiIhQr1699M0332jt2rWKjo7W4MGDFRwcrMTERCUnJysrK8vusS9YZWWlnn32WY0aNapqzYk5z8apWZctW6b09HRde%2B21atSokaZPn67p06c7Nu8p//d//6fly5dr8uTJjs9qEgXLz%2BTm5ioqKkphYWFVa23atNH%2B/ft17NgxGyczY8SIEQoJCTnjttzcXMXGxnqtxcbGyu12X4rRjAsNDdWcOXN0xRVXVK0VFBQoMjJSubm5at26tYKCgqq2xcbGKicnx45Ray0sLExDhgyRy%2BWSJO3bt0/vvPOO%2Bvbte9bH1V%2BzStJbb72l4OBgDRgwoGrNiTklacGCBerRo4c6d%2B6sp59%2BWqWlpY7M%2Bv333%2Bu7777Tjz/%2BqH79%2BikhIUFpaWk6cuSII/P%2B2osvvqi7775bv//97x2f1SQKlp/xeDwKDQ31WjtVtoqLi%2B0Y6ZLxeDxexVL6JbtTcrvdbq1YsULjx48/4%2BPcuHFjeTwev36/XX5%2BvuLi4tSvXz/Fx8crLS3trFn99XH94YcftGjRIj377LNe607LKUnt27dXYmKiNm/erMzMTO3cuVPPPfecI7MeOnRIkrRx40YtX75cq1ev1qFDhzR9%2BnRH5j3lu%2B%2B%2B0%2BbNm3X//fdLcubz%2BGKhYPkhy7LsHsE2Ts3%2B2WefafTo0Zo4caISExPPeruAgIBLOJV5UVFRcrvd2rhxow4cOKDJkyfbPZJxc%2BbM0aBBg9SyZUu7R7noMjMzNWTIENWrV0/XXXedJk2apHXr1unkyZN2j2bcqX97xowZo2bNmql58%2BZ69NFHtWXLFpsnu7jefPNN9e7dW02bNrV7FL9DwfIzERER8ng8Xmsej0cBAQGKiIiwaapLIzw8/IzZ/T33li1b9NBDD2natGkaMWKEpF8e59NfEXo8HjVu3FiBgf791zYgIEDR0dFKT0/XunXr5HK5qj2uxcXFfvm4Zmdn64svvlBqamq1bWd6/vprzrO58sorVVFRocDAQMdlPXUp/9dnb6KiomRZlk6ePOm4vKds2rRJycnJVd/XheexKf79L3UdFBcXp4KCAh05cqRqze12q2XLlmrYsKGNk118cXFx1a7zu91utWvXzqaJau/zzz/XlClT9OKLL%2BrOO%2B%2BsWo%2BLi9PXX3%2Bt8vLyqjV/zpqdna0%2Bffp4Xd48VRTbtm1b7XHNycnxy6xr1qzR4cOH1bNnTyUkJGjQoEGSpISEBMXExDgmpyTt2rVLc%2BfO9VrLy8tTvXr1lJSU5KisktS8eXM1atRIu3fvrlrLz8/XZZdd5si80i8fFZOfn6%2Bbbrqpai0%2BPt6RWS8Ke3%2BIERdiyJAh1rRp06yjR49ae/futZKTk60VK1bYPZZRU6ZMqfYxDV9//bUVHx9vbd261Tp%2B/LiVlZVldejQwSosLLRpyto5efKk1bdvX%2Butt96qtu3EiRNWz549rZdeesn66aefrJ07d1qdO3e2tm7deukHNaCkpMRKTEy05s6da/3000/W4cOHrdGjR1v33HOP9cMPP1gdOnSw3n77bev48ePWtm3brLZt21q7d%2B%2B2e%2Bzz5vF4rIKCgqqvL774woqJibEKCgqs/Px8x%2BS0LMs6dOiQ1b59e2vJkiXWiRMnrH379ln9%2BvWzZs6c6ajH9Ndmz55t3XrrrdaBAwesH374wUpJSbGmTp3q2LwrV660unbt6rXm1KwXAwXLDxUUFFhjxoyx2rZtayUmJlovvfSSVVlZafdYRsTFxVlxcXHW9ddfb11//fVV35%2ByadMmq3fv3labNm2sO%2B64w/rkk09snLZ2/vnPf1oxMTFVGX/99d1331lff/21NWzYMCsuLs7q0aOH9eabb9o9cq3s2bPHuvfee622bdta3bp1syZMmGAdOnTIsizL%2BuSTT6yBAwdabdq0sXr37u23n/d1uoMHD1Z9DpZlOS/nJ598YqWkpFjt27e3unbtas2ZM8c6fvx41TYnZbWsX174zJgxw%2BrSpYvVvn17a8qUKdaxY8csy3Jm3ldeecXq379/tXUnZr0YAizLoe8aBgAAsAnvwQIAADCMggUAAGAYBQsAAMAwChYAAIBhFCwAAADDKFgAAACGUbAAAAAMo2ABAAAYRsECAAAwjIIFAABgGAULAADAMAoWAACAYRQsAAAAw/4f5Z18ae3qgnQAAAAASUVORK5CYII%3D\"/>\n",
              "        </div>\n",
              "        <div role=\"tabpanel\" class=\"tab-pane col-md-12\" id=\"common-1014795980803932702\">\n",
              "            \n",
              "<table class=\"freq table table-hover\">\n",
              "    <thead>\n",
              "    <tr>\n",
              "        <td class=\"fillremaining\">Value</td>\n",
              "        <td class=\"number\">Count</td>\n",
              "        <td class=\"number\">Frequency (%)</td>\n",
              "        <td style=\"min-width:200px\">&nbsp;</td>\n",
              "    </tr>\n",
              "    </thead>\n",
              "    <tr class=\"\">\n",
              "        <td class=\"fillremaining\">2</td>\n",
              "        <td class=\"number\">173</td>\n",
              "        <td class=\"number\">23.1%</td>\n",
              "        <td>\n",
              "            <div class=\"bar\" style=\"width:100%\">&nbsp;</div>\n",
              "        </td>\n",
              "</tr><tr class=\"\">\n",
              "        <td class=\"fillremaining\">4</td>\n",
              "        <td class=\"number\">156</td>\n",
              "        <td class=\"number\">20.9%</td>\n",
              "        <td>\n",
              "            <div class=\"bar\" style=\"width:90%\">&nbsp;</div>\n",
              "        </td>\n",
              "</tr><tr class=\"\">\n",
              "        <td class=\"fillremaining\">11</td>\n",
              "        <td class=\"number\">84</td>\n",
              "        <td class=\"number\">11.2%</td>\n",
              "        <td>\n",
              "            <div class=\"bar\" style=\"width:49%\">&nbsp;</div>\n",
              "        </td>\n",
              "</tr><tr class=\"\">\n",
              "        <td class=\"fillremaining\">14</td>\n",
              "        <td class=\"number\">76</td>\n",
              "        <td class=\"number\">10.2%</td>\n",
              "        <td>\n",
              "            <div class=\"bar\" style=\"width:44%\">&nbsp;</div>\n",
              "        </td>\n",
              "</tr><tr class=\"\">\n",
              "        <td class=\"fillremaining\">16</td>\n",
              "        <td class=\"number\">63</td>\n",
              "        <td class=\"number\">8.4%</td>\n",
              "        <td>\n",
              "            <div class=\"bar\" style=\"width:37%\">&nbsp;</div>\n",
              "        </td>\n",
              "</tr><tr class=\"\">\n",
              "        <td class=\"fillremaining\">23</td>\n",
              "        <td class=\"number\">50</td>\n",
              "        <td class=\"number\">6.7%</td>\n",
              "        <td>\n",
              "            <div class=\"bar\" style=\"width:29%\">&nbsp;</div>\n",
              "        </td>\n",
              "</tr><tr class=\"\">\n",
              "        <td class=\"fillremaining\">21</td>\n",
              "        <td class=\"number\">44</td>\n",
              "        <td class=\"number\">5.9%</td>\n",
              "        <td>\n",
              "            <div class=\"bar\" style=\"width:26%\">&nbsp;</div>\n",
              "        </td>\n",
              "</tr><tr class=\"\">\n",
              "        <td class=\"fillremaining\">9</td>\n",
              "        <td class=\"number\">20</td>\n",
              "        <td class=\"number\">2.7%</td>\n",
              "        <td>\n",
              "            <div class=\"bar\" style=\"width:12%\">&nbsp;</div>\n",
              "        </td>\n",
              "</tr><tr class=\"\">\n",
              "        <td class=\"fillremaining\">3</td>\n",
              "        <td class=\"number\">13</td>\n",
              "        <td class=\"number\">1.7%</td>\n",
              "        <td>\n",
              "            <div class=\"bar\" style=\"width:8%\">&nbsp;</div>\n",
              "        </td>\n",
              "</tr><tr class=\"\">\n",
              "        <td class=\"fillremaining\">1</td>\n",
              "        <td class=\"number\">9</td>\n",
              "        <td class=\"number\">1.2%</td>\n",
              "        <td>\n",
              "            <div class=\"bar\" style=\"width:6%\">&nbsp;</div>\n",
              "        </td>\n",
              "</tr><tr class=\"other\">\n",
              "        <td class=\"fillremaining\">Other values (21)</td>\n",
              "        <td class=\"number\">60</td>\n",
              "        <td class=\"number\">8.0%</td>\n",
              "        <td>\n",
              "            <div class=\"bar\" style=\"width:35%\">&nbsp;</div>\n",
              "        </td>\n",
              "</tr>\n",
              "</table>\n",
              "        </div>\n",
              "        <div role=\"tabpanel\" class=\"tab-pane col-md-12\"  id=\"extreme-1014795980803932702\">\n",
              "            <p class=\"h4\">Minimum 5 values</p>\n",
              "            \n",
              "<table class=\"freq table table-hover\">\n",
              "    <thead>\n",
              "    <tr>\n",
              "        <td class=\"fillremaining\">Value</td>\n",
              "        <td class=\"number\">Count</td>\n",
              "        <td class=\"number\">Frequency (%)</td>\n",
              "        <td style=\"min-width:200px\">&nbsp;</td>\n",
              "    </tr>\n",
              "    </thead>\n",
              "    <tr class=\"\">\n",
              "        <td class=\"fillremaining\">0</td>\n",
              "        <td class=\"number\">5</td>\n",
              "        <td class=\"number\">0.7%</td>\n",
              "        <td>\n",
              "            <div class=\"bar\" style=\"width:3%\">&nbsp;</div>\n",
              "        </td>\n",
              "</tr><tr class=\"\">\n",
              "        <td class=\"fillremaining\">1</td>\n",
              "        <td class=\"number\">9</td>\n",
              "        <td class=\"number\">1.2%</td>\n",
              "        <td>\n",
              "            <div class=\"bar\" style=\"width:6%\">&nbsp;</div>\n",
              "        </td>\n",
              "</tr><tr class=\"\">\n",
              "        <td class=\"fillremaining\">2</td>\n",
              "        <td class=\"number\">173</td>\n",
              "        <td class=\"number\">23.1%</td>\n",
              "        <td>\n",
              "            <div class=\"bar\" style=\"width:100%\">&nbsp;</div>\n",
              "        </td>\n",
              "</tr><tr class=\"\">\n",
              "        <td class=\"fillremaining\">3</td>\n",
              "        <td class=\"number\">13</td>\n",
              "        <td class=\"number\">1.7%</td>\n",
              "        <td>\n",
              "            <div class=\"bar\" style=\"width:8%\">&nbsp;</div>\n",
              "        </td>\n",
              "</tr><tr class=\"\">\n",
              "        <td class=\"fillremaining\">4</td>\n",
              "        <td class=\"number\">156</td>\n",
              "        <td class=\"number\">20.9%</td>\n",
              "        <td>\n",
              "            <div class=\"bar\" style=\"width:90%\">&nbsp;</div>\n",
              "        </td>\n",
              "</tr>\n",
              "</table>\n",
              "            <p class=\"h4\">Maximum 5 values</p>\n",
              "            \n",
              "<table class=\"freq table table-hover\">\n",
              "    <thead>\n",
              "    <tr>\n",
              "        <td class=\"fillremaining\">Value</td>\n",
              "        <td class=\"number\">Count</td>\n",
              "        <td class=\"number\">Frequency (%)</td>\n",
              "        <td style=\"min-width:200px\">&nbsp;</td>\n",
              "    </tr>\n",
              "    </thead>\n",
              "    <tr class=\"\">\n",
              "        <td class=\"fillremaining\">38</td>\n",
              "        <td class=\"number\">2</td>\n",
              "        <td class=\"number\">0.3%</td>\n",
              "        <td>\n",
              "            <div class=\"bar\" style=\"width:100%\">&nbsp;</div>\n",
              "        </td>\n",
              "</tr><tr class=\"\">\n",
              "        <td class=\"fillremaining\">39</td>\n",
              "        <td class=\"number\">1</td>\n",
              "        <td class=\"number\">0.1%</td>\n",
              "        <td>\n",
              "            <div class=\"bar\" style=\"width:50%\">&nbsp;</div>\n",
              "        </td>\n",
              "</tr><tr class=\"\">\n",
              "        <td class=\"fillremaining\">40</td>\n",
              "        <td class=\"number\">1</td>\n",
              "        <td class=\"number\">0.1%</td>\n",
              "        <td>\n",
              "            <div class=\"bar\" style=\"width:50%\">&nbsp;</div>\n",
              "        </td>\n",
              "</tr><tr class=\"\">\n",
              "        <td class=\"fillremaining\">72</td>\n",
              "        <td class=\"number\">1</td>\n",
              "        <td class=\"number\">0.1%</td>\n",
              "        <td>\n",
              "            <div class=\"bar\" style=\"width:50%\">&nbsp;</div>\n",
              "        </td>\n",
              "</tr><tr class=\"\">\n",
              "        <td class=\"fillremaining\">74</td>\n",
              "        <td class=\"number\">1</td>\n",
              "        <td class=\"number\">0.1%</td>\n",
              "        <td>\n",
              "            <div class=\"bar\" style=\"width:50%\">&nbsp;</div>\n",
              "        </td>\n",
              "</tr>\n",
              "</table>\n",
              "        </div>\n",
              "    </div>\n",
              "</div>\n",
              "</div><div class=\"row variablerow\">\n",
              "    <div class=\"col-md-3 namecol\">\n",
              "        <p class=\"h4 pp-anchor\" id=\"pp_var_Frequency (times)\">Frequency (times)<br/>\n",
              "            <small>Numeric</small>\n",
              "        </p>\n",
              "    </div><div class=\"col-md-6\">\n",
              "    <div class=\"row\">\n",
              "        <div class=\"col-sm-6\">\n",
              "            <table class=\"stats \">\n",
              "                <tr>\n",
              "                    <th>Distinct count</th>\n",
              "                    <td>33</td>\n",
              "                </tr>\n",
              "                <tr>\n",
              "                    <th>Unique (%)</th>\n",
              "                    <td>4.4%</td>\n",
              "                </tr>\n",
              "                <tr class=\"ignore\">\n",
              "                    <th>Missing (%)</th>\n",
              "                    <td>0.0%</td>\n",
              "                </tr>\n",
              "                <tr class=\"ignore\">\n",
              "                    <th>Missing (n)</th>\n",
              "                    <td>0</td>\n",
              "                </tr>\n",
              "                <tr class=\"ignore\">\n",
              "                    <th>Infinite (%)</th>\n",
              "                    <td>0.0%</td>\n",
              "                </tr>\n",
              "                <tr class=\"ignore\">\n",
              "                    <th>Infinite (n)</th>\n",
              "                    <td>0</td>\n",
              "                </tr>\n",
              "            </table>\n",
              "\n",
              "        </div>\n",
              "        <div class=\"col-sm-6\">\n",
              "            <table class=\"stats \">\n",
              "\n",
              "                <tr>\n",
              "                    <th>Mean</th>\n",
              "                    <td>5.5147</td>\n",
              "                </tr>\n",
              "                <tr>\n",
              "                    <th>Minimum</th>\n",
              "                    <td>1</td>\n",
              "                </tr>\n",
              "                <tr>\n",
              "                    <th>Maximum</th>\n",
              "                    <td>50</td>\n",
              "                </tr>\n",
              "                <tr class=\"ignore\">\n",
              "                    <th>Zeros (%)</th>\n",
              "                    <td>0.0%</td>\n",
              "                </tr>\n",
              "            </table>\n",
              "        </div>\n",
              "    </div>\n",
              "</div>\n",
              "<div class=\"col-md-3 collapse in\" id=\"minihistogram-1629608109520113801\">\n",
              "    <img src=\"data:image/png;base64,iVBORw0KGgoAAAANSUhEUgAAAMgAAABLCAYAAAA1fMjoAAAABHNCSVQICAgIfAhkiAAAAAlwSFlzAAAPYQAAD2EBqD%2BnaQAAADh0RVh0U29mdHdhcmUAbWF0cGxvdGxpYiB2ZXJzaW9uMy4xLjEsIGh0dHA6Ly9tYXRwbG90bGliLm9yZy8QZhcZAAABHklEQVR4nO3dwQnCQBBAURVLsgh78mxPFmFP613kYwIhMb53D0wOn2WyhxzHGOMAfHRaewDYsvPaA7y73B6Tn3nerwtMAk4QSAKBIBAIAoEgEAgCgSAQCAKBIBAIAoEgEAgCgSAQCAKBIBAIAoEgEAgCgSAQCAKBIBAIAoEgEAgCgSAQCAKBIBAIAoEgEAgCgbC53x/M4ZcJLMUJAkEgEAQCQSAQBAJBIBAEAkEgEAQCYRc36XO4fecbThAIAoEgEAh/u4PMMXVvsbP8PoEsaE8fAvb0LlMcxxhj7SFgq%2BwgEAQCQSAQBAJBIBAEAkEgEAQCQSAQBAJBIBAEAkEgEAQCQSAQBAJBIBAEAkEgEAQCQSAQBAJBIBAEAkEgEF6vJhqX67j7FQAAAABJRU5ErkJggg%3D%3D\">\n",
              "\n",
              "</div>\n",
              "<div class=\"col-md-12 text-right\">\n",
              "    <a role=\"button\" data-toggle=\"collapse\" data-target=\"#descriptives-1629608109520113801,#minihistogram-1629608109520113801\"\n",
              "       aria-expanded=\"false\" aria-controls=\"collapseExample\">\n",
              "        Toggle details\n",
              "    </a>\n",
              "</div>\n",
              "<div class=\"row collapse col-md-12\" id=\"descriptives-1629608109520113801\">\n",
              "    <ul class=\"nav nav-tabs\" role=\"tablist\">\n",
              "        <li role=\"presentation\" class=\"active\"><a href=\"#quantiles-1629608109520113801\"\n",
              "                                                  aria-controls=\"quantiles-1629608109520113801\" role=\"tab\"\n",
              "                                                  data-toggle=\"tab\">Statistics</a></li>\n",
              "        <li role=\"presentation\"><a href=\"#histogram-1629608109520113801\" aria-controls=\"histogram-1629608109520113801\"\n",
              "                                   role=\"tab\" data-toggle=\"tab\">Histogram</a></li>\n",
              "        <li role=\"presentation\"><a href=\"#common-1629608109520113801\" aria-controls=\"common-1629608109520113801\"\n",
              "                                   role=\"tab\" data-toggle=\"tab\">Common Values</a></li>\n",
              "        <li role=\"presentation\"><a href=\"#extreme-1629608109520113801\" aria-controls=\"extreme-1629608109520113801\"\n",
              "                                   role=\"tab\" data-toggle=\"tab\">Extreme Values</a></li>\n",
              "\n",
              "    </ul>\n",
              "\n",
              "    <div class=\"tab-content\">\n",
              "        <div role=\"tabpanel\" class=\"tab-pane active row\" id=\"quantiles-1629608109520113801\">\n",
              "            <div class=\"col-md-4 col-md-offset-1\">\n",
              "                <p class=\"h4\">Quantile statistics</p>\n",
              "                <table class=\"stats indent\">\n",
              "                    <tr>\n",
              "                        <th>Minimum</th>\n",
              "                        <td>1</td>\n",
              "                    </tr>\n",
              "                    <tr>\n",
              "                        <th>5-th percentile</th>\n",
              "                        <td>1</td>\n",
              "                    </tr>\n",
              "                    <tr>\n",
              "                        <th>Q1</th>\n",
              "                        <td>2</td>\n",
              "                    </tr>\n",
              "                    <tr>\n",
              "                        <th>Median</th>\n",
              "                        <td>4</td>\n",
              "                    </tr>\n",
              "                    <tr>\n",
              "                        <th>Q3</th>\n",
              "                        <td>7</td>\n",
              "                    </tr>\n",
              "                    <tr>\n",
              "                        <th>95-th percentile</th>\n",
              "                        <td>16</td>\n",
              "                    </tr>\n",
              "                    <tr>\n",
              "                        <th>Maximum</th>\n",
              "                        <td>50</td>\n",
              "                    </tr>\n",
              "                    <tr>\n",
              "                        <th>Range</th>\n",
              "                        <td>49</td>\n",
              "                    </tr>\n",
              "                    <tr>\n",
              "                        <th>Interquartile range</th>\n",
              "                        <td>5</td>\n",
              "                    </tr>\n",
              "                </table>\n",
              "            </div>\n",
              "            <div class=\"col-md-4 col-md-offset-2\">\n",
              "                <p class=\"h4\">Descriptive statistics</p>\n",
              "                <table class=\"stats indent\">\n",
              "                    <tr>\n",
              "                        <th>Standard deviation</th>\n",
              "                        <td>5.8393</td>\n",
              "                    </tr>\n",
              "                    <tr>\n",
              "                        <th>Coef of variation</th>\n",
              "                        <td>1.0589</td>\n",
              "                    </tr>\n",
              "                    <tr>\n",
              "                        <th>Kurtosis</th>\n",
              "                        <td>15.876</td>\n",
              "                    </tr>\n",
              "                    <tr>\n",
              "                        <th>Mean</th>\n",
              "                        <td>5.5147</td>\n",
              "                    </tr>\n",
              "                    <tr>\n",
              "                        <th>MAD</th>\n",
              "                        <td>3.8812</td>\n",
              "                    </tr>\n",
              "                    <tr class=\"\">\n",
              "                        <th>Skewness</th>\n",
              "                        <td>3.2113</td>\n",
              "                    </tr>\n",
              "                    <tr>\n",
              "                        <th>Sum</th>\n",
              "                        <td>4125</td>\n",
              "                    </tr>\n",
              "                    <tr>\n",
              "                        <th>Variance</th>\n",
              "                        <td>34.098</td>\n",
              "                    </tr>\n",
              "                    <tr>\n",
              "                        <th>Memory size</th>\n",
              "                        <td>6.0 KiB</td>\n",
              "                    </tr>\n",
              "                </table>\n",
              "            </div>\n",
              "        </div>\n",
              "        <div role=\"tabpanel\" class=\"tab-pane col-md-8 col-md-offset-2\" id=\"histogram-1629608109520113801\">\n",
              "            <img src=\"data:image/png;base64,iVBORw0KGgoAAAANSUhEUgAAAlgAAAGQCAYAAAByNR6YAAAABHNCSVQICAgIfAhkiAAAAAlwSFlzAAAPYQAAD2EBqD%2BnaQAAADh0RVh0U29mdHdhcmUAbWF0cGxvdGxpYiB2ZXJzaW9uMy4xLjEsIGh0dHA6Ly9tYXRwbG90bGliLm9yZy8QZhcZAAAgAElEQVR4nO3df3RU9Z3/8Vcm0wQTyC80uBvUUPlRQwLKr2hEA9GCSKGCgRDXVVapgFGWCBUKssAxAm3IsW7ioaQeXNG2zgnH8kt%2BbYvEX7ErKnYSkGqEreZAk0LGmBiQJPP9w6/ZjkGZhM/l3gzPxzmclM%2BdufO%2Br87BV%2B6d3IT5/X6/AAAAYIzL7gEAAABCDQULAADAMAoWAACAYRQsAAAAwyhYAAAAhlGwAAAADKNgAQAAGEbBAgAAMIyCBQAAYBgFCwAAwDAKFgAAgGEULAAAAMMoWAAAAIZRsAAAAAyjYAEAABhGwQIAADCMggUAAGAYBQsAAMAwChYAAIBhFCwAAADDKFgAAACGUbAAAAAMo2ABAAAYRsECAAAwjIIFAABgGAULAADAMAoWAACAYRQsAAAAwyhYAAAAhlGwAAAADKNgAQAAGEbBAgAAMIyCBQAAYBgFCwAAwDAKFgAAgGEULAAAAMMoWAAAAIZRsAAAAAwL2YI1aNAgpaamKi0trf3P448/LkmqqKhQdna2hg0bpokTJ2rr1q0Bz924caPGjx%2BvYcOGKTc3V5WVlXYcAgAA6Kbcdg9gpV27dqlv374Ba7W1tXrwwQe1dOlSTZo0Se%2B8847mzp2rfv36KS0tTXv37lVxcbGeeeYZDRo0SBs3btScOXO0Z88eRUVFdXmWurrPO/V4lytMCQnROnmySW1t/i6/Lr4dGVuPjK1HxtYjY%2BtZmfFll/Uyur9ghewZrG%2Bzbds2JScnKzs7W5GRkcrIyFBWVpbKysokSR6PR1OnTtXQoUPVo0cPzZo1S5L0yiuvXNA5Xa4whYWFyeUKu6CvezEhY%2BuRsfXI2HpkbL1QzDikz2AVFRXpvffeU2NjoyZMmKDFixerqqpKKSkpAY9LSUnRzp07JUlVVVW6/fbb27e5XC5dc8018nq9mjhxYlCvW1tbq7q6uoA1tztKiYmJQc8eHu4K%2BArzyNh6ZGw9MrYeGVsvFDMO2YJ17bXXKiMjQz//%2Bc/1ySefaP78%2BVq5cqV8Pp/69OkT8Ni4uDjV19dLknw%2Bn2JjYwO2x8bGtm8PhsfjUUlJScBaXl6e5s2b1%2BnjiIm5pNPPQeeQsfXI2HpkbD0ytl4oZRyyBcvj8bT/76uvvloLFy7U3LlzNXz48HM%2B1%2B8/v%2Bu/OTk5ysrKClhzu6NUX98U9D7Cw12KiblEDQ3Nam1tO695cHZkbD0yth4ZW4%2BMrWdlxvHx0Ub3F6yQLVjf1LdvX7W2tsrlcsnn8wVsq6%2BvV0JCgiQpPj6%2Bw3afz6cBAwYE/VqJiYkdLgfW1X2ulpbOv2laW9u69DwEj4ytR8bWI2PrkbH1Qinj0LnY%2BQ8OHjyoNWvWBKxVV1crIiJCmZmZHW67UFlZqaFDh0qSUlNTVVVV1b6ttbVVBw8ebN8OAABwLiFZsHr37i2Px6PS0lJ9%2BeWXOnLkiJ566inl5OToxz/%2BsWpqalRWVqbTp0%2BrvLxc5eXlmj59uiQpNzdXmzdv1oEDB9Tc3Kx169YpIiJCY8aMsfegAABAtxHmP98PHDnU22%2B/raKiIh0%2BfFgRERGaMmWK8vPzFRkZqbffflsFBQWqrq5WUlKSFixYoHHjxrU/97e//a1KS0t14sQJpaWlacWKFRo4cOB5zdPZ%2B2C53S7Fx0ervr4pZE6XOg0ZW4%2BMrUfG1iNj61mZsV33wQrZguU0FCznIWPrkbH1yNh6ZGy9UCxYIXmJEAAAwE4ULAAAAMMoWAAAAIZRsAAAAAyjYAEAABh20dzJPVRN%2BOUbdo8QtJ3zb7R7BAAALgjOYAEAABhGwQIAADCMggUAAGAYBQsAAMAwChYAAIBhFCwAAADDKFgAAACGUbAAAAAMo2ABAAAYRsECAAAwjIIFAABgGAULAADAMAoWAACAYRQsAAAAwyhYAAAAhlGwAAAADKNgAQAAGEbBAgAAMIyCBQAAYBgFCwAAwDAKFgAAgGEULAAAAMMoWAAAAIZRsAAAAAyjYAEAABhGwQIAADCMggUAAGAYBQsAAMAwChYAAIBhFCwAAADDKFgAAACGUbAAAAAMo2ABAAAYRsECAAAwjIIFAABgGAULAADAMAoWAACAYRQsAAAAwyhYAAAAhlGwAAAADKNgAQAAGEbBAgAAMIyCBQAAYBgFCwAAwDAKFgAAgGEULAAAAMMuioK1atUqDRo0qP3vFRUVys7O1rBhwzRx4kRt3bo14PEbN27U%2BPHjNWzYMOXm5qqysvJCjwwAALqxkC9Yhw4d0pYtW9r/XltbqwcffFAzZsxQRUWFli5dqmXLlsnr9UqS9u7dq%2BLiYv3iF7/Qm2%2B%2BqbFjx2rOnDn64osv7DoEAADQzYR0wWpra9Py5cs1c%2BbM9rVt27YpOTlZ2dnZioyMVEZGhrKyslRWViZJ8ng8mjp1qoYOHaoePXpo1qxZkqRXXnnFjkMAAADdUEgXrBdffFGRkZGaNGlS%2B1pVVZVSUlICHpeSktJ%2BGfCb210ul6655pr2M1wAAADn4rZ7AKv8/e9/V3FxsZ5//vmAdZ/Ppz59%2BgSsxcXFqb6%2Bvn17bGxswPbY2Nj27cGora1VXV1dwJrbHaXExMSg9xEe7gr4GgrcbmcdSyhm7DRkbD0yth4ZWy8UMw7ZgrV69WpNnTpV/fv316efftqp5/r9/vN6bY/Ho5KSkoC1vLw8zZs3r9P7iom55LxmcZL4%2BGi7RzirUMrYqcjYemRsPTK2XihlHJIFq6KiQu%2B99562b9/eYVt8fLx8Pl/AWn19vRISEr51u8/n04ABA4J%2B/ZycHGVlZQWsud1Rqq9vCnof4eEuxcRcooaGZrW2tgX9PCfrzPFfCKGYsdOQsfXI2HpkbD0rM7brm/uQLFhbt27ViRMnNHbsWEn/d0YqPT1d9913X4fiVVlZqaFDh0qSUlNTVVVVpSlTpkiSWltbdfDgQWVnZwf9%2BomJiR0uB9bVfa6Wls6/aVpb27r0PCdy6nGEUsZORcbWI2PrkbH1Qinj0LnY%2BQ8WL16s3bt3a8uWLdqyZYtKS0slSVu2bNGkSZNUU1OjsrIynT59WuXl5SovL9f06dMlSbm5udq8ebMOHDig5uZmrVu3ThERERozZoyNRwQAALqTkDyDFRsbG/BB9ZaWFknS5ZdfLklav369CgoKtHLlSiUlJamwsFA/%2BMEPJEk333yzHnnkEc2fP18nTpxQWlqaSktL1aNHjwt/IAAAoFsKyYL1TX379tXhw4fb/z5y5MiAm49%2B01133aW77rrrQowGAABCUEheIgQAALATBQsAAMAwChYAAIBhFCwAAADDKFgAAACGUbAAAAAMo2ABAAAYRsECAAAwjIIFAABgGAULAADAMAoWAACAYRQsAAAAwyhYAAAAhlGwAAAADKNgAQAAGEbBAgAAMIyCBQAAYBgFCwAAwDAKFgAAgGEULAAAAMMoWAAAAIZRsAAAAAyjYAEAABhGwQIAADCMggUAAGAYBQsAAMAwChYAAIBhFCwAAADDKFgAAACGUbAAAAAMo2ABAAAYRsECAAAwjIIFAABgGAULAADAMAoWAACAYRQsAAAAwyhYAAAAhlGwAAAADKNgAQAAGEbBAgAAMIyCBQAAYBgFCwAAwDAKFgAAgGEULAAAAMMoWAAAAIZRsAAAAAyjYAEAABhGwQIAADCMggUAAGAYBQsAAMAwChYAAIBhFCwAAADDQrZgffDBB7r33ns1fPhwZWRkaP78%2Baqrq5MkVVRUKDs7W8OGDdPEiRO1devWgOdu3LhR48eP17Bhw5Sbm6vKyko7DgEAAHRTIVmwvvzyS913330aNWqUKioqtH37dp04cUIrVqxQbW2tHnzwQc2YMUMVFRVaunSpli1bJq/XK0nau3eviouL9Ytf/EJvvvmmxo4dqzlz5uiLL76w%2BagAAEB34biClZWVpZKSEh07dqzL%2B2hublZ%2Bfr5mz56tiIgIJSQk6Ic//KE%2B/PBDbdu2TcnJycrOzlZkZKQyMjKUlZWlsrIySZLH49HUqVM1dOhQ9ejRQ7NmzZIkvfLKK0aODwAAhD7HFaw777xTO3bs0K233qpZs2Zpz549amlp6dQ%2BYmNjNW3aNLndbknSxx9/rN///veaMGGCqqqqlJKSEvD4lJSU9suA39zucrl0zTXXtJ/hAgAAOBe33QN8U15envLy8lRVVaXt27dr1apVWrlype644w5lZ2erX79%2BQe%2BrpqZG48ePV0tLi6ZPn6558%2BbpJz/5ifr06RPwuLi4ONXX10uSfD6fYmNjA7bHxsa2bw9GbW1t%2B%2Be9vuZ2RykxMTHofYSHuwK%2BhgK321nHEooZOw0ZW4%2BMrUfG1gvFjB1XsL42ePBgDR48WI8%2B%2Bqh27NihFStWaMOGDcrIyNC///u/a8iQIefcR1JSkrxer/73f/9X//Ef/6FHH300qNf2%2B/3nNbvH41FJSUnAWl5enubNm9fpfcXEXHJeszhJfHy03SOcVShl7FRkbD0yth4ZWy%2BUMnZswTpz5oz%2B%2B7//Wy%2B99JLeeustJScn6%2BGHH1Ztba1mzpyplStXatKkSefcT1hYmJKTk5Wfn68ZM2YoMzNTPp8v4DH19fVKSEiQJMXHx3fY7vP5NGDAgKBnz8nJUVZWVsCa2x2l%2BvqmoPcRHu5STMwlamhoVmtrW9DPc7LOHP%2BFEIoZOw0ZW4%2BMrUfG1rMyY7u%2BuXdcwaqurtamTZu0efNmNTU1afz48Xruuec0fPjw9seMHDlSK1as%2BNaCVVFRoRUrVmjnzp1yub463fj11yFDhmj37t0Bj6%2BsrNTQoUMlSampqaqqqtKUKVMkSa2trTp48KCys7ODPobExMQOlwPr6j5XS0vn3zStrW1dep4TOfU4QiljpyJj65Gx9cjYeqGUseMudk6cOFH79u3T7Nmz9eqrr6qwsDCgXElSZmamTp48%2Ba37SE1NVWNjowoLC9Xc3KyTJ0%2BquLhYI0aMUG5urmpqalRWVqbTp0%2BrvLxc5eXlmj59uiQpNzdXmzdv1oEDB9Tc3Kx169YpIiJCY8aMsfKwAQBACHHcGayNGzdq1KhR53zc%2B%2B%2B//63bevXqpQ0bNqigoEDXX3%2B9oqKidP311%2BuJJ55Q7969tX79ehUUFGjlypVKSkpSYWGhfvCDH0iSbr75Zj3yyCOaP3%2B%2BTpw4obS0NJWWlqpHjx7GjhEAAIS2MP/5fqLbsM8%2B%2B0yLFi1Sdna2br31VknSf/3Xf%2BmNN95QYWGh4uLibJ6wa%2BrqPu/U491ul%2BLjo1Vf3/Sdp0sn/PKN8x3tgtk5/0a7RwgQbMboOjK2Hhlbj4ytZ2XGl13Wy%2Bj%2BguW4S4SrV6/W559/rv79%2B7evjRkzRm1tbVqzZo2NkwEAAATHcZcIX3/9dW3btk3x8fHta8nJyVq7dq1%2B9KMf2TgZAABAcBx3BuvUqVOKjIzssO5yudTc3GzDRAAAAJ3juII1cuRIrVmzRp999ln72t/%2B9jetXLmyw08TAgAAOJHjLhEuWbJE9913n2644Qb17NlTbW1tampq0hVXXKHnn3/e7vEAAADOyXEF64orrtDLL7%2BsV199VX/961/lcrnUr18/jR49WuHh4XaPBwAAcE6OK1iSFBER0X6LBgAAgO7GcQXrk08%2BUVFRkT788EOdOnWqw/Y//vGPNkwFAAAQPMcVrCVLlqi2tlajR49WVFSU3eMAAAB0muMKVmVlpf74xz8qISHB7lEAAAC6xHG3aejduzdnrgAAQLfmuII1e/ZslZSUyGG/IhEAACBojrtE%2BOqrr%2Brdd9/VSy%2B9pL59%2B8rlCuyAL774ok2TAQAABMdxBatnz566%2Beab7R4DAACgyxxXsFavXm33CAAAAOfFcZ/BkqSPP/5YxcXF%2BtnPfta%2B9t5779k4EQAAQPAcV7AqKio0efJk7dmzR9u3b5f01c1H77nnHm4yCgAAugXHFawnn3xSP/3pT7Vt2zaFhYVJ%2Bur3E65Zs0ZPP/20zdMBAACcm%2BMK1l/%2B8hfl5uZKUnvBkqTbbrtN1dXVdo0FAAAQNMcVrF69ep31dxDW1tYqIiLChokAAAA6x3EFa9iwYVq1apUaGxvb144cOaJFixbphhtusHEyAACA4DjuNg0/%2B9nPdO%2B99yo9PV2tra0aNmyYmpubNWDAAK1Zs8bu8QAAAM7JcQXr8ssv1/bt21VeXq4jR46oR48e6tevn2688caAz2QBAAA4leMKliR973vf06233mr3GAAAAF3iuIKVlZX1nWequBcWAABwOscVrNtvvz2gYLW2turIkSPyer269957bZwMAAAgOI4rWAsXLjzr%2Bu7du/WnP/3pAk8DAADQeY67TcO3ufXWW/Xyyy/bPQYAAMA5dZuCdfDgQfn9frvHAAAAOCfHXSKcMWNGh7Xm5mZVV1dr3LhxNkwEAADQOY4rWMnJyR1%2BijAyMlLZ2dmaNm2aTVMBAAAEz3EFi7u1AwCA7s5xBWvz5s1BP/aOO%2B6wcBIAAICucVzBWrp0qdra2jp8oD0sLCxgLSwsjIIFAAAcyXEF65lnntGGDRs0Z84cDRo0SH6/X4cPH9avf/1r3X333UpPT7d7RAAAgO/kuIK1Zs0alZaWqk%2BfPu1rI0aM0BVXXKH7779f27dvt3E6AACAc3PcfbCOHj2q2NjYDusxMTGqqamxYSIAAIDOcVzBSkpK0po1a1RfX9%2B%2B1tDQoKKiIl155ZU2TgYAABAcx10iXLJkiRYsWCCPx6Po6Gi5XC41NjaqR48eevrpp%2B0eDwAA4JwcV7BGjx6tffv2qby8XMePH5ff71efPn100003qVevXnaPBwAAcE6OK1iSdMkll%2BiWW27R8ePHdcUVV9g9DgAAQKc47jNYp06d0qJFi3TddddpwoQJkr76DNasWbPU0NBg83QAAADn5riCVVhYqEOHDmnt2rVyuf5vvNbWVq1du9bGyQAAAILjuIK1e/du/ed//qduu%2B229l/6HBMTo9WrV2vPnj02TwcAAHBujitYTU1NSk5O7rCekJCgL7744sIPBAAA0EmOK1hXXnml/vSnP0lSwO8e3LVrl/75n//ZrrEAAACC5rifIrzrrrv08MMP684771RbW5ueffZZVVZWavfu3Vq6dKnd4wEAAJyT4wpWTk6O3G63XnjhBYWHh%2BtXv/qV%2BvXrp7Vr1%2Bq2226zezwAAIBzclzBOnnypO68807deeeddo8CAADQJY77DNYtt9wS8NkrAACA7sZxBSs9PV07d%2B60ewwAAIAuc9wlwn/6p3/SE088odLSUl155ZX63ve%2BF7C9qKjIpskAAACC47iC9dFHH%2Bn73/%2B%2BJKm%2Bvt7maQAAADrPMQUrPz9fTz75pJ5//vn2taefflp5eXld2l9NTY1WrVql/fv3Kzw8XDfffLOWLFmimJgYHTp0SE888YQOHTqk3r17a8aMGbrvvvvan7tjxw6tW7dOn376qfr166dHHnlEo0ePPu9jBAAAFwfHfAZr7969HdZKS0u7vL85c%2BYoJiZGe/fu1UsvvaQPP/xQP//5z3Xq1CnNnj1b119/vV577TU9%2BeSTWr9%2Bffuv4Tl06JAWLVqkhQsX6q233tLMmTP10EMP6fjx412eBQAAXFwcU7DO9pODXf1pwoaGBqWmpmrBggWKjo7W5ZdfrilTpmj//v3at2%2Bfzpw5o7lz5yoqKkqDBw/WtGnT5PF4JEllZWXKzMxUZmamIiMjNXnyZA0cOFBbt249r%2BMDAAAXD8dcIvz6Fzufay0YX/9y6H907NgxJSYmqqqqSoMGDVJ4eHj7tpSUFJWVlUmSqqqqlJmZGfDclJQUeb3eoF%2B/trZWdXV1AWtud5QSExOD3kd4uCvgayhwu511LKGYsdOQsfXI2HpkbL1QzNgxBctKXq9XL7zwgtatW6edO3cqJiYmYHtcXJx8Pp/a2trk8/kUGxsbsD02NlYfffRR0K/n8XhUUlISsJaXl6d58%2BZ1evaYmEs6/Rynio%2BPtnuEswqljJ2KjK1HxtYjY%2BuFUsYhX7DeeecdzZ07VwsWLFBGRsa33mPrH8%2BWne%2BNTnNycpSVlRWw5nZHqb6%2BKeh9hIe7FBNziRoamtXa2nZe8zhFZ47/QgjFjJ2GjK1HxtYjY%2BtZmbFd39w7pmCdOXNGCxYsOOdaZ%2B6DtXfvXv30pz/VsmXLdMcdd0iSEhISdPTo0YDH%2BXw%2BxcXFyeVyKT4%2BXj6fr8P2hISEoF83MTGxw%2BXAurrP1dLS%2BTdNa2tbl57nRE49jlDK2KnI2HpkbD0ytl4oZeyYgjV8%2BHDV1taecy1Y7777rhYtWqSnnnoq4BYLqamp%2Bt3vfqeWlha53V8dvtfr1dChQ9u3V1ZWBuzL6/Vq4sSJXZoDAABcfBxTsP7x/lfnq6WlRY899pgWLlzY4f5VmZmZ6tmzp9atW6dZs2bpL3/5izZt2qTCwkJJ0vTp05Wdna19%2B/bphhtu0LZt23T06FFNnjzZ2HwAACC0OaZgmXTgwAFVV1eroKBABQUFAdt27dqlX/3qV1q%2BfLlKS0t16aWXKj8/X2PGjJEkDRw4UGvXrtXq1atVU1Oj/v37a/369brssstsOBIAANAdhWTBGjFihA4fPvydj/nd7373rdvGjRuncePGmR4LAABcJELnhhMAAAAOQcECAAAwjIIFAABgGAULAADAMAoWAACAYRQsAAAAwyhYAAAAhlGwAAAADKNgAQAAGEbBAgAAMIyCBQAAYBgFCwAAwDAKFgAAgGEULAAAAMMoWAAAAIZRsAAAAAxz2z0ALh4TfvmG3SN0ys75N9o9AgCgm%2BIMFgAAgGEULAAAAMMoWAAAAIZRsAAAAAyjYAEAABhGwQIAADCMggUAAGAYBQsAAMAwChYAAIBhFCwAAADDKFgAAACGUbAAAAAMo2ABAAAYRsECAAAwjIIFAABgGAULAADAMAoWAACAYRQsAAAAwyhYAAAAhlGwAAAADKNgAQAAGEbBAgAAMIyCBQAAYBgFCwAAwDAKFgAAgGEULAAAAMMoWAAAAIZRsAAAAAyjYAEAABhGwQIAADCMggUAAGAYBQsAAMAwChYAAIBhFCwAAADDKFgAAACGhWzBeu2115SRkaH8/PwO23bs2KFJkybpuuuu09SpU/X666%2B3b2tra9OTTz6pW265RSNHjtT999%2BvTz755EKODgAAurmQLFi//vWvVVBQoKuuuqrDtkOHDmnRokVauHCh3nrrLc2cOVMPPfSQjh8/Lkn6zW9%2Bo23btqm0tFSvvPKKkpOTlZeXJ7/ff6EPAwAAdFMhWbAiIyO1adOmsxassrIyZWZmKjMzU5GRkZo8ebIGDhyorVu3SpI8Ho9mzpypq6%2B%2BWj179lR%2Bfr6qq6v1/vvvX%2BjDAAAA3VRIFqx77rlHvXr1Ouu2qqoqpaSkBKylpKTI6/Xq1KlT%2BuijjwK29%2BzZU1dddZW8Xq%2BlMwMAgNDhtnuAC83n8yk2NjZgLTY2Vh999JE%2B%2B%2Bwz%2Bf3%2Bs26vr68P%2BjVqa2tVV1cXsOZ2RykxMTHofYSHuwK%2B4sJzu8n%2BfPE%2Bth4ZW4%2BMrReKGV90BUvSOT9Pdb6ft/J4PCopKQlYy8vL07x58zq9r5iYS85rFnRdfHy03SOEDN7H1iNj65Gx9UIp44uuYMXHx8vn8wWs%2BXw%2BJSQkKC4uTi6X66zbe/fuHfRr5OTkKCsrK2DN7Y5SfX1T0PsID3cpJuYSNTQ0q7W1LejnwZzO/P%2BFs%2BN9bD0yth4ZW8/KjO36ZvmiK1ipqamqrKwMWPN6vZo4caIiIyM1YMAAVVVVadSoUZKkhoYG/fWvf9WQIUOCfo3ExMQOlwPr6j5XS0vn3zStrW1deh7OH7mbw/vYemRsPTK2XihlHDoXO4M0ffp0vfnmm9q3b59Onz6tTZs26ejRo5o8ebIkKTc3Vxs3blR1dbUaGxu1du1aXXPNNUpLS7N5cgAA0F2E5Bmsr8tQS0uLJOkPf/iDpK/OVA0cOFBr167V6tWrVVNTo/79%2B2v9%2BvW67LLLJEkzZsxQXV2d/vVf/1VNTU1KT0/v8HkqAACA7xLm5w6aF0Rd3eederzb7VJ8fLTq65u%2B83TphF%2B%2Bcb6j4VvsnH%2Bj3SN0e8G%2Bj9F1ZGw9MraelRlfdtnZb9tktYvuEiEAAIDVKFgAAACGUbAAAAAMo2ABAAAYRsECAAAwjIIFAABgGAULAADAMAoWAACAYRQsAAAAwyhYAAAAhlGwAAAADKNgAQAAGEbBAgAAMIyCBQAAYBgFCwAAwDAKFgAAgGFuuwcAnGrCL9%2Bwe4RO2Tn/RrtHAAD8f5zBAgAAMIyCBQAAYBgFCwAAwDAKFgAAgGEULAAAAMMoWAAAAIZRsAAAAAyjYAEAABhGwQIAADCMggUAAGAYBQsAAMAwChYAAIBhFCwAAADDKFgAAACGUbAAAAAMo2ABAAAYRsECAAAwjIIFAABgGAULAADAMAoWAACAYRQsAAAAwyhYAAAAhlGwAAAADKNgAQAAGEbBAgAAMIyCBQAAYJjb7gEAmDHhl2/YPULQds6/0e4RAMBSnMECAAAwjIIFAABgGAULAADAMAoWAACAYRQsAAAAwyhYAAAAhlGwAAAADKNgAQAAGMaNRgFccN3ppqgSN0YF0HmcwTqLmpoaPfDAA0pPT9fYsWNVWFiotrY2u8cCAADdBGewzuLhhx/W4MGD9Yc//EEnTpzQ7Nmzdemll%2Brf/u3f7B4NAAB0AxSsb/B6vfrggw/07LPPqlevXurVq5dmzpyp5557joIFABc5Lm8jWBSsb6iqqlJSUpJiY2Pb1wYPHqwjR46osbFRPXv2POc%2BamtrVVdXF7DmdkcpMTEx6DnCw10BXwHYp7v9RxX4Wnd67%2B5/4raQ%2Bm8eBesbfD6fYmJiAta%2BLlv19fVBFSyPx6OSkpKAtYceekgPP/xw0HPU1tbqueeeUU5OzncWs/1P3Bb0PhGotrZWHo/nnIaFDl0AAAhLSURBVBmj68jYemRsPTK2Xm1trYqLi0Mq49Cpigb5/f7zen5OTo5eeumlgD85OTmd2kddXZ1KSko6nAmDOWRsPTK2Hhlbj4ytF4oZcwbrGxISEuTz%2BQLWfD6fwsLClJCQENQ%2BEhMTQ6aBAwCAzuMM1jekpqbq2LFjOnnyZPua1%2BtV//79FR0dbeNkAACgu6BgfUNKSorS0tJUVFSkxsZGVVdX69lnn1Vubq7dowEAgG4ifMWKFSvsHsJpbrrpJm3fvl2PP/64Xn75ZWVnZ%2Bv%2B%2B%2B9XWFjYBZ0jOjpao0aN4syZhcjYemRsPTK2HhlbL9QyDvOf7ye6AQAAEIBLhAAAAIZRsAAAAAyjYAEAABhGwQIAADCMggUAAGAYBQsAAMAwChYAAIBhFCwAAADDKFgAAACGUbAcqKamRg888IDS09M1duxYFRYWqq2tze6xurXXXntNGRkZys/P77Btx44dmjRpkq677jpNnTpVr7/%2Bug0Tdn81NTXKy8tTenq6MjIytHjxYjU0NEiSDh06pLvvvlvDhw/XuHHjtGHDBpun7Z4%2B%2BOAD3XvvvRo%2BfLgyMjI0f/581dXVSZIqKiqUnZ2tYcOGaeLEidq6davN03Z/q1at0qBBg9r/TsZmDBo0SKmpqUpLS2v/8/jjj0sKsYz9cJwpU6b4H3vsMX9DQ4P/yJEj/nHjxvk3bNhg91jdVmlpqX/cuHH%2BGTNm%2BOfPnx%2Bw7eDBg/7U1FT/vn37/KdOnfJv2bLFP3ToUP%2BxY8dsmrb7%2BtGPfuRfvHixv7Gx0X/s2DH/1KlT/UuWLPE3Nzf7b7rpJn9xcbG/qanJX1lZ6R81apR/9%2B7ddo/crZw%2Bfdp/ww03%2BEtKSvynT5/2nzhxwn/33Xf7H3zwQf/f/vY3/7XXXusvKyvznzp1yv/GG2/4hwwZ4v/zn/9s99jd1sGDB/2jRo3yDxw40O/3%2B8nYoIEDB/o/%2BeSTDuuhljFnsBzG6/Xqgw8%2B0MKFC9WrVy8lJydr5syZ8ng8do/WbUVGRmrTpk266qqrOmwrKytTZmamMjMzFRkZqcmTJ2vgwIHd%2B7smGzQ0NCg1NVULFixQdHS0Lr/8ck2ZMkX79%2B/Xvn37dObMGc2dO1dRUVEaPHiwpk2bxnu6k5qbm5Wfn6/Zs2crIiJCCQkJ%2BuEPf6gPP/xQ27ZtU3JysrKzsxUZGamMjAxlZWWprKzM7rG7pba2Ni1fvlwzZ85sXyNj64VaxhQsh6mqqlJSUpJiY2Pb1wYPHqwjR46osbHRxsm6r3vuuUe9evU667aqqiqlpKQErKWkpMjr9V6I0UJGTEyMVq9erUsvvbR97dixY0pMTFRVVZUGDRqk8PDw9m0pKSmqrKy0Y9RuKzY2VtOmTZPb7ZYkffzxx/r973%2BvCRMmfOv7mIy75sUXX1RkZKQmTZrUvkbGZhUVFWnMmDEaMWKEli1bpqamppDLmILlMD6fTzExMQFrX5et%2Bvp6O0YKaT6fL6DMSl/lTdbnx%2Bv16oUXXtDcuXPP%2Bp6Oi4uTz%2Bfjs4VdUFNTo9TUVN1%2B%2B%2B1KS0vTvHnzvjVj3sed9/e//13FxcVavnx5wDoZm3PttdcqIyNDe/bskcfj0YEDB7Ry5cqQy5iC5UB%2Bv9/uES4q5G3WO%2B%2B8o/vvv18LFixQRkbGtz4uLCzsAk4VOpKSkuT1erVr1y4dPXpUjz76qN0jhZTVq1dr6tSp6t%2B/v92jhCyPx6Np06YpIiJCV199tRYuXKjt27frzJkzdo9mFAXLYRISEuTz%2BQLWfD6fwsLClJCQYNNUoSs%2BPv6seZN11%2Bzdu1cPPPCAlixZonvuuUfSV%2B/pb34H6vP5FBcXJ5eLf4K6IiwsTMnJycrPz9f27dvldrs7vI/r6%2Bt5H3dSRUWF3nvvPeXl5XXYdrZ/K8jYjL59%2B6q1tVUulyukMuZfN4dJTU3VsWPHdPLkyfY1r9er/v37Kzo62sbJQlNqamqH6/ter1dDhw61aaLu691339WiRYv01FNP6Y477mhfT01N1eHDh9XS0tK%2BRsadV1FRofHjxwdcVv26oA4ZMqTD%2B7iyspKMO2nr1q06ceKExo4dq/T0dE2dOlWSlJ6eroEDB5KxAQcPHtSaNWsC1qqrqxUREaHMzMyQypiC5TApKSlKS0tTUVGRGhsbVV1drWeffVa5ubl2jxaSpk%2BfrjfffFP79u3T6dOntWnTJh09elSTJ0%2B2e7RupaWlRY899pgWLlyo0aNHB2zLzMxUz549tW7dOjU3N%2Bv999/Xpk2beE93UmpqqhobG1VYWKjm5madPHlSxcXFGjFihHJzc1VTU6OysjKdPn1a5eXlKi8v1/Tp0%2B0eu1tZvHixdu/erS1btmjLli0qLS2VJG3ZskWTJk0iYwN69%2B4tj8ej0tJSffnllzpy5Iieeuop5eTk6Mc//nFIZRzm5wMojnP8%2BHEtW7ZM//M//6OePXtqxowZeuihh/jMShelpaVJUvsZlK9/CuvrnxTcs2ePioqKVFNTo/79%2B2vp0qUaOXKkPcN2U/v379e//Mu/KCIiosO2Xbt2qampScuXL1dlZaUuvfRS/eQnP9Fdd91lw6Td2%2BHDh1VQUKA///nPioqK0vXXX6/FixerT58%2Bevvtt1VQUKDq6molJSVpwYIFGjdunN0jd2uffvqpbrnlFh0%2BfFiSyNiQt99%2BW0VFRTp8%2BLAiIiI0ZcoU5efnKzIyMqQypmABAAAYxiVCAAAAwyhYAAAAhlGwAAAADKNgAQAAGEbBAgAAMIyCBQAAYBgFCwAAwDAKFgAAgGEULAAAAMMoWAAAAIZRsAAAAAyjYAEAABhGwQIAADDs/wGLt3UzICJxzwAAAABJRU5ErkJggg%3D%3D\"/>\n",
              "        </div>\n",
              "        <div role=\"tabpanel\" class=\"tab-pane col-md-12\" id=\"common-1629608109520113801\">\n",
              "            \n",
              "<table class=\"freq table table-hover\">\n",
              "    <thead>\n",
              "    <tr>\n",
              "        <td class=\"fillremaining\">Value</td>\n",
              "        <td class=\"number\">Count</td>\n",
              "        <td class=\"number\">Frequency (%)</td>\n",
              "        <td style=\"min-width:200px\">&nbsp;</td>\n",
              "    </tr>\n",
              "    </thead>\n",
              "    <tr class=\"\">\n",
              "        <td class=\"fillremaining\">1</td>\n",
              "        <td class=\"number\">158</td>\n",
              "        <td class=\"number\">21.1%</td>\n",
              "        <td>\n",
              "            <div class=\"bar\" style=\"width:100%\">&nbsp;</div>\n",
              "        </td>\n",
              "</tr><tr class=\"\">\n",
              "        <td class=\"fillremaining\">2</td>\n",
              "        <td class=\"number\">112</td>\n",
              "        <td class=\"number\">15.0%</td>\n",
              "        <td>\n",
              "            <div class=\"bar\" style=\"width:71%\">&nbsp;</div>\n",
              "        </td>\n",
              "</tr><tr class=\"\">\n",
              "        <td class=\"fillremaining\">3</td>\n",
              "        <td class=\"number\">87</td>\n",
              "        <td class=\"number\">11.6%</td>\n",
              "        <td>\n",
              "            <div class=\"bar\" style=\"width:55%\">&nbsp;</div>\n",
              "        </td>\n",
              "</tr><tr class=\"\">\n",
              "        <td class=\"fillremaining\">4</td>\n",
              "        <td class=\"number\">62</td>\n",
              "        <td class=\"number\">8.3%</td>\n",
              "        <td>\n",
              "            <div class=\"bar\" style=\"width:39%\">&nbsp;</div>\n",
              "        </td>\n",
              "</tr><tr class=\"\">\n",
              "        <td class=\"fillremaining\">5</td>\n",
              "        <td class=\"number\">62</td>\n",
              "        <td class=\"number\">8.3%</td>\n",
              "        <td>\n",
              "            <div class=\"bar\" style=\"width:39%\">&nbsp;</div>\n",
              "        </td>\n",
              "</tr><tr class=\"\">\n",
              "        <td class=\"fillremaining\">6</td>\n",
              "        <td class=\"number\">52</td>\n",
              "        <td class=\"number\">7.0%</td>\n",
              "        <td>\n",
              "            <div class=\"bar\" style=\"width:33%\">&nbsp;</div>\n",
              "        </td>\n",
              "</tr><tr class=\"\">\n",
              "        <td class=\"fillremaining\">7</td>\n",
              "        <td class=\"number\">43</td>\n",
              "        <td class=\"number\">5.7%</td>\n",
              "        <td>\n",
              "            <div class=\"bar\" style=\"width:27%\">&nbsp;</div>\n",
              "        </td>\n",
              "</tr><tr class=\"\">\n",
              "        <td class=\"fillremaining\">8</td>\n",
              "        <td class=\"number\">31</td>\n",
              "        <td class=\"number\">4.1%</td>\n",
              "        <td>\n",
              "            <div class=\"bar\" style=\"width:20%\">&nbsp;</div>\n",
              "        </td>\n",
              "</tr><tr class=\"\">\n",
              "        <td class=\"fillremaining\">9</td>\n",
              "        <td class=\"number\">24</td>\n",
              "        <td class=\"number\">3.2%</td>\n",
              "        <td>\n",
              "            <div class=\"bar\" style=\"width:16%\">&nbsp;</div>\n",
              "        </td>\n",
              "</tr><tr class=\"\">\n",
              "        <td class=\"fillremaining\">11</td>\n",
              "        <td class=\"number\">22</td>\n",
              "        <td class=\"number\">2.9%</td>\n",
              "        <td>\n",
              "            <div class=\"bar\" style=\"width:14%\">&nbsp;</div>\n",
              "        </td>\n",
              "</tr><tr class=\"other\">\n",
              "        <td class=\"fillremaining\">Other values (23)</td>\n",
              "        <td class=\"number\">95</td>\n",
              "        <td class=\"number\">12.7%</td>\n",
              "        <td>\n",
              "            <div class=\"bar\" style=\"width:60%\">&nbsp;</div>\n",
              "        </td>\n",
              "</tr>\n",
              "</table>\n",
              "        </div>\n",
              "        <div role=\"tabpanel\" class=\"tab-pane col-md-12\"  id=\"extreme-1629608109520113801\">\n",
              "            <p class=\"h4\">Minimum 5 values</p>\n",
              "            \n",
              "<table class=\"freq table table-hover\">\n",
              "    <thead>\n",
              "    <tr>\n",
              "        <td class=\"fillremaining\">Value</td>\n",
              "        <td class=\"number\">Count</td>\n",
              "        <td class=\"number\">Frequency (%)</td>\n",
              "        <td style=\"min-width:200px\">&nbsp;</td>\n",
              "    </tr>\n",
              "    </thead>\n",
              "    <tr class=\"\">\n",
              "        <td class=\"fillremaining\">1</td>\n",
              "        <td class=\"number\">158</td>\n",
              "        <td class=\"number\">21.1%</td>\n",
              "        <td>\n",
              "            <div class=\"bar\" style=\"width:100%\">&nbsp;</div>\n",
              "        </td>\n",
              "</tr><tr class=\"\">\n",
              "        <td class=\"fillremaining\">2</td>\n",
              "        <td class=\"number\">112</td>\n",
              "        <td class=\"number\">15.0%</td>\n",
              "        <td>\n",
              "            <div class=\"bar\" style=\"width:71%\">&nbsp;</div>\n",
              "        </td>\n",
              "</tr><tr class=\"\">\n",
              "        <td class=\"fillremaining\">3</td>\n",
              "        <td class=\"number\">87</td>\n",
              "        <td class=\"number\">11.6%</td>\n",
              "        <td>\n",
              "            <div class=\"bar\" style=\"width:55%\">&nbsp;</div>\n",
              "        </td>\n",
              "</tr><tr class=\"\">\n",
              "        <td class=\"fillremaining\">4</td>\n",
              "        <td class=\"number\">62</td>\n",
              "        <td class=\"number\">8.3%</td>\n",
              "        <td>\n",
              "            <div class=\"bar\" style=\"width:39%\">&nbsp;</div>\n",
              "        </td>\n",
              "</tr><tr class=\"\">\n",
              "        <td class=\"fillremaining\">5</td>\n",
              "        <td class=\"number\">62</td>\n",
              "        <td class=\"number\">8.3%</td>\n",
              "        <td>\n",
              "            <div class=\"bar\" style=\"width:39%\">&nbsp;</div>\n",
              "        </td>\n",
              "</tr>\n",
              "</table>\n",
              "            <p class=\"h4\">Maximum 5 values</p>\n",
              "            \n",
              "<table class=\"freq table table-hover\">\n",
              "    <thead>\n",
              "    <tr>\n",
              "        <td class=\"fillremaining\">Value</td>\n",
              "        <td class=\"number\">Count</td>\n",
              "        <td class=\"number\">Frequency (%)</td>\n",
              "        <td style=\"min-width:200px\">&nbsp;</td>\n",
              "    </tr>\n",
              "    </thead>\n",
              "    <tr class=\"\">\n",
              "        <td class=\"fillremaining\">41</td>\n",
              "        <td class=\"number\">1</td>\n",
              "        <td class=\"number\">0.1%</td>\n",
              "        <td>\n",
              "            <div class=\"bar\" style=\"width:100%\">&nbsp;</div>\n",
              "        </td>\n",
              "</tr><tr class=\"\">\n",
              "        <td class=\"fillremaining\">43</td>\n",
              "        <td class=\"number\">1</td>\n",
              "        <td class=\"number\">0.1%</td>\n",
              "        <td>\n",
              "            <div class=\"bar\" style=\"width:100%\">&nbsp;</div>\n",
              "        </td>\n",
              "</tr><tr class=\"\">\n",
              "        <td class=\"fillremaining\">44</td>\n",
              "        <td class=\"number\">1</td>\n",
              "        <td class=\"number\">0.1%</td>\n",
              "        <td>\n",
              "            <div class=\"bar\" style=\"width:100%\">&nbsp;</div>\n",
              "        </td>\n",
              "</tr><tr class=\"\">\n",
              "        <td class=\"fillremaining\">46</td>\n",
              "        <td class=\"number\">1</td>\n",
              "        <td class=\"number\">0.1%</td>\n",
              "        <td>\n",
              "            <div class=\"bar\" style=\"width:100%\">&nbsp;</div>\n",
              "        </td>\n",
              "</tr><tr class=\"\">\n",
              "        <td class=\"fillremaining\">50</td>\n",
              "        <td class=\"number\">1</td>\n",
              "        <td class=\"number\">0.1%</td>\n",
              "        <td>\n",
              "            <div class=\"bar\" style=\"width:100%\">&nbsp;</div>\n",
              "        </td>\n",
              "</tr>\n",
              "</table>\n",
              "        </div>\n",
              "    </div>\n",
              "</div>\n",
              "</div><div class=\"row variablerow ignore\">\n",
              "    <div class=\"col-md-3 namecol\">\n",
              "        <p class=\"h4 pp-anchor\" id=\"pp_var_Monetary (c.c. blood)\"><s>Monetary (c.c. blood)</s><br/>\n",
              "            <small>Highly correlated</small>\n",
              "        </p>\n",
              "    </div><div class=\"col-md-3\">\n",
              "    <p><em>This variable is highly correlated with <a href=\"#pp_var_Frequency (times)\"><code>Frequency (times)</code></a> and should be ignored for analysis</em></p>\n",
              "</div>\n",
              "<div class=\"col-md-6\">\n",
              "    <table class=\"stats \">\n",
              "        <tr>\n",
              "            <th>Correlation</th>\n",
              "            <td>1</td>\n",
              "        </tr>\n",
              "    </table>\n",
              "</div>\n",
              "</div><div class=\"row variablerow\">\n",
              "    <div class=\"col-md-3 namecol\">\n",
              "        <p class=\"h4 pp-anchor\" id=\"pp_var_Time (months)\">Time (months)<br/>\n",
              "            <small>Numeric</small>\n",
              "        </p>\n",
              "    </div><div class=\"col-md-6\">\n",
              "    <div class=\"row\">\n",
              "        <div class=\"col-sm-6\">\n",
              "            <table class=\"stats \">\n",
              "                <tr>\n",
              "                    <th>Distinct count</th>\n",
              "                    <td>78</td>\n",
              "                </tr>\n",
              "                <tr>\n",
              "                    <th>Unique (%)</th>\n",
              "                    <td>10.4%</td>\n",
              "                </tr>\n",
              "                <tr class=\"ignore\">\n",
              "                    <th>Missing (%)</th>\n",
              "                    <td>0.0%</td>\n",
              "                </tr>\n",
              "                <tr class=\"ignore\">\n",
              "                    <th>Missing (n)</th>\n",
              "                    <td>0</td>\n",
              "                </tr>\n",
              "                <tr class=\"ignore\">\n",
              "                    <th>Infinite (%)</th>\n",
              "                    <td>0.0%</td>\n",
              "                </tr>\n",
              "                <tr class=\"ignore\">\n",
              "                    <th>Infinite (n)</th>\n",
              "                    <td>0</td>\n",
              "                </tr>\n",
              "            </table>\n",
              "\n",
              "        </div>\n",
              "        <div class=\"col-sm-6\">\n",
              "            <table class=\"stats \">\n",
              "\n",
              "                <tr>\n",
              "                    <th>Mean</th>\n",
              "                    <td>34.282</td>\n",
              "                </tr>\n",
              "                <tr>\n",
              "                    <th>Minimum</th>\n",
              "                    <td>2</td>\n",
              "                </tr>\n",
              "                <tr>\n",
              "                    <th>Maximum</th>\n",
              "                    <td>98</td>\n",
              "                </tr>\n",
              "                <tr class=\"ignore\">\n",
              "                    <th>Zeros (%)</th>\n",
              "                    <td>0.0%</td>\n",
              "                </tr>\n",
              "            </table>\n",
              "        </div>\n",
              "    </div>\n",
              "</div>\n",
              "<div class=\"col-md-3 collapse in\" id=\"minihistogram8854750520802668396\">\n",
              "    <img src=\"data:image/png;base64,iVBORw0KGgoAAAANSUhEUgAAAMgAAABLCAYAAAA1fMjoAAAABHNCSVQICAgIfAhkiAAAAAlwSFlzAAAPYQAAD2EBqD%2BnaQAAADh0RVh0U29mdHdhcmUAbWF0cGxvdGxpYiB2ZXJzaW9uMy4xLjEsIGh0dHA6Ly9tYXRwbG90bGliLm9yZy8QZhcZAAABNklEQVR4nO3cwW2DQBRAwRC5pBSRnnJOTy7CPa0bsJ5wZMwGZu5Ie%2BDpLyxiGWOMD%2BChz70XADO77L2AV/j6uT59ze33e4OVcDTLbFusv9zs7yKq87HFgiAQCAKBIBAIAoEgEAgCgSAQCAKBcIhPTd7l2VN%2BJ%2B//nwkCQSAQBAJBIBAEAkEgEAQCQSAQBAJBIBAEAkEgEAQCwde8k/ETvLmYIBAEAsEWa0Mz/0aVdUwQCAKBYIt1Qt6UrWeCQBAIBIFAEAgED%2BkH4LxlOyYIBBOEVc76atgEgWCCsJkjTB0TBIJAIAgEgkAgCASCQCAsY4yx9yJgViYIBIFAEAgEgUAQCASBQBAIBIFAEAgEgUAQCASBQBAIBIFAEAgEgUAQCASBQBAIBIFAEAgEgUAQCASBQBAIhDuGJiRmuSmmSwAAAABJRU5ErkJggg%3D%3D\">\n",
              "\n",
              "</div>\n",
              "<div class=\"col-md-12 text-right\">\n",
              "    <a role=\"button\" data-toggle=\"collapse\" data-target=\"#descriptives8854750520802668396,#minihistogram8854750520802668396\"\n",
              "       aria-expanded=\"false\" aria-controls=\"collapseExample\">\n",
              "        Toggle details\n",
              "    </a>\n",
              "</div>\n",
              "<div class=\"row collapse col-md-12\" id=\"descriptives8854750520802668396\">\n",
              "    <ul class=\"nav nav-tabs\" role=\"tablist\">\n",
              "        <li role=\"presentation\" class=\"active\"><a href=\"#quantiles8854750520802668396\"\n",
              "                                                  aria-controls=\"quantiles8854750520802668396\" role=\"tab\"\n",
              "                                                  data-toggle=\"tab\">Statistics</a></li>\n",
              "        <li role=\"presentation\"><a href=\"#histogram8854750520802668396\" aria-controls=\"histogram8854750520802668396\"\n",
              "                                   role=\"tab\" data-toggle=\"tab\">Histogram</a></li>\n",
              "        <li role=\"presentation\"><a href=\"#common8854750520802668396\" aria-controls=\"common8854750520802668396\"\n",
              "                                   role=\"tab\" data-toggle=\"tab\">Common Values</a></li>\n",
              "        <li role=\"presentation\"><a href=\"#extreme8854750520802668396\" aria-controls=\"extreme8854750520802668396\"\n",
              "                                   role=\"tab\" data-toggle=\"tab\">Extreme Values</a></li>\n",
              "\n",
              "    </ul>\n",
              "\n",
              "    <div class=\"tab-content\">\n",
              "        <div role=\"tabpanel\" class=\"tab-pane active row\" id=\"quantiles8854750520802668396\">\n",
              "            <div class=\"col-md-4 col-md-offset-1\">\n",
              "                <p class=\"h4\">Quantile statistics</p>\n",
              "                <table class=\"stats indent\">\n",
              "                    <tr>\n",
              "                        <th>Minimum</th>\n",
              "                        <td>2</td>\n",
              "                    </tr>\n",
              "                    <tr>\n",
              "                        <th>5-th percentile</th>\n",
              "                        <td>4</td>\n",
              "                    </tr>\n",
              "                    <tr>\n",
              "                        <th>Q1</th>\n",
              "                        <td>16</td>\n",
              "                    </tr>\n",
              "                    <tr>\n",
              "                        <th>Median</th>\n",
              "                        <td>28</td>\n",
              "                    </tr>\n",
              "                    <tr>\n",
              "                        <th>Q3</th>\n",
              "                        <td>50</td>\n",
              "                    </tr>\n",
              "                    <tr>\n",
              "                        <th>95-th percentile</th>\n",
              "                        <td>82.65</td>\n",
              "                    </tr>\n",
              "                    <tr>\n",
              "                        <th>Maximum</th>\n",
              "                        <td>98</td>\n",
              "                    </tr>\n",
              "                    <tr>\n",
              "                        <th>Range</th>\n",
              "                        <td>96</td>\n",
              "                    </tr>\n",
              "                    <tr>\n",
              "                        <th>Interquartile range</th>\n",
              "                        <td>34</td>\n",
              "                    </tr>\n",
              "                </table>\n",
              "            </div>\n",
              "            <div class=\"col-md-4 col-md-offset-2\">\n",
              "                <p class=\"h4\">Descriptive statistics</p>\n",
              "                <table class=\"stats indent\">\n",
              "                    <tr>\n",
              "                        <th>Standard deviation</th>\n",
              "                        <td>24.377</td>\n",
              "                    </tr>\n",
              "                    <tr>\n",
              "                        <th>Coef of variation</th>\n",
              "                        <td>0.71106</td>\n",
              "                    </tr>\n",
              "                    <tr>\n",
              "                        <th>Kurtosis</th>\n",
              "                        <td>-0.24563</td>\n",
              "                    </tr>\n",
              "                    <tr>\n",
              "                        <th>Mean</th>\n",
              "                        <td>34.282</td>\n",
              "                    </tr>\n",
              "                    <tr>\n",
              "                        <th>MAD</th>\n",
              "                        <td>19.862</td>\n",
              "                    </tr>\n",
              "                    <tr class=\"\">\n",
              "                        <th>Skewness</th>\n",
              "                        <td>0.74945</td>\n",
              "                    </tr>\n",
              "                    <tr>\n",
              "                        <th>Sum</th>\n",
              "                        <td>25643</td>\n",
              "                    </tr>\n",
              "                    <tr>\n",
              "                        <th>Variance</th>\n",
              "                        <td>594.22</td>\n",
              "                    </tr>\n",
              "                    <tr>\n",
              "                        <th>Memory size</th>\n",
              "                        <td>6.0 KiB</td>\n",
              "                    </tr>\n",
              "                </table>\n",
              "            </div>\n",
              "        </div>\n",
              "        <div role=\"tabpanel\" class=\"tab-pane col-md-8 col-md-offset-2\" id=\"histogram8854750520802668396\">\n",
              "            <img src=\"data:image/png;base64,iVBORw0KGgoAAAANSUhEUgAAAlgAAAGQCAYAAAByNR6YAAAABHNCSVQICAgIfAhkiAAAAAlwSFlzAAAPYQAAD2EBqD%2BnaQAAADh0RVh0U29mdHdhcmUAbWF0cGxvdGxpYiB2ZXJzaW9uMy4xLjEsIGh0dHA6Ly9tYXRwbG90bGliLm9yZy8QZhcZAAAgAElEQVR4nO3dfXAUdZ7H8U8mI5E8J2rCHatE5UFCEEFDbgMSCIoIFxSMBlyXzS6gaCQrJlsgYIErK1iEY73EQnAXFLV0DOfJg6KsIogavUM9TAJ6ksNVUmBmYcZANhGS6fvDIndjQCbhl3lI3q8qKpVf9/TvO9/qzHzo7ukJsyzLEgAAAIyxBboAAACAroaABQAAYBgBCwAAwDACFgAAgGEELAAAAMMIWAAAAIYRsAAAAAwjYAEAABhGwAIAADCMgAUAAGAYAQsAAMAwAhYAAIBhBCwAAADDCFgAAACGEbAAAAAMI2ABAAAYRsACAAAwjIAFAABgGAELAADAMAIWAACAYQQsAAAAwwhYAAAAhhGwAAAADCNgAQAAGEbAAgAAMIyABQAAYBgBCwAAwDACFgAAgGEELAAAAMMIWAAAAIYRsAAAAAwjYAEAABhGwAIAADCMgAUAAGAYAQsAAMAwAhYAAIBhBCwAAADDCFgAAACGddmAtXv3bmVmZmru3LlnXaehoUGjR4/W/PnzW8c8Ho9WrVqlsWPHKj09XTNmzNA333zjj5IBAEAXYQ90AZ3h6aef1saNG9WnT5%2BfXK%2B0tFQnTpzwGnvhhRe0ZcsWPf3000pOTtaqVatUUFCgTZs2KSwsrMM1OZ3H27W%2BzRamxMQoHTvWII/H6vC8ODd67T/02j/os//Qa//paK8vuSSmE6s6uy55BCsiIuKcAevzzz/X1q1bNXnyZK9xh8Oh/Px8XXnllYqOjtbcuXNVU1OjvXv3dnbZXmy2MIWFhclm63iog2/otf/Qa/%2Bgz/5Dr/0n1HrdJQPW9OnTFRNz9sRqWZaWLFmiuXPnKjY2tnW8qalJBw4cUGpqautYdHS0%2BvTpo8rKyk6tGQAAdB1d8hThuTgcDoWFhWnKlCkqKytrHf/uu%2B9kWZbi4uK81o%2BLi5PL5fJ5%2B3V1dXI6nV5jdnukkpKSfN5GeLjN6yc6D732H3rtH/TZf%2Bi1/4Rar7tdwDp69KieeOIJPfPMM2e9psqyzu88usPh8ApuklRQUKDCwsJ2bys2tud51QLf0Wv/odf%2BQZ/9h177T6j0utsFrOXLl%2BvWW2/VgAED2iyLj4%2BXzWaT2%2B32Gne73brooot8niMvL0/Z2dleY3Z7pFyuBp%2B3ER5uU2xsT9XXN6qlxePz49B%2B9Np/6LV/0Gf/odf%2B09FeJyREdWJVZ9ftAtbmzZsVGxurV155RdIP1115PB698847%2Buijj9SvXz9VV1dr%2BPDhkqT6%2Bnp9/fXXuvrqq32eIykpqc3pQKfzuJqb2//H19Li6dDj0H702n/otX/QZ/%2Bh1/4TKr3udgFr165dXr%2BvX79eR44c0UMPPSRJmjZtmtauXatRo0YpOTlZJSUlGjhwoAYPHhyIcgEAQAjqkgHrdBhqbm6WJL311luSpMrKSvXq1ctr3ejoaPXs2bN1fOrUqXI6nfrlL3%2BphoYGZWRktLmeCgAA4KeEWed7RTd80t4bjdrtNiUkRMnlagiJQ6GhjF77D732D/rsP/Tafzraa240CgAA0EUQsAAAAAwjYAEAABhGwAIAADCMgAUAAGBYl7xNA4LTzX98P9AltMu2B0YEugQAQIjiCBYAAIBhBCwAAADDCFgAAACGEbAAAAAM4yL3EBdqF44DANAdcAQLAADAMI5gAWcRakcHua0EAAQPjmABAAAYRsACAAAwjIAFAABgGAELAADAMAIWAACAYQQsAAAAwwhYAAAAhhGwAAAADCNgAQAAGEbAAgAAMIyABQAAYBgBCwAAwDACFgAAgGEELAAAAMMIWAAAAIYRsAAAAAwjYAEAABhGwAIAADCMgAUAAGAYAQsAAMAwAhYAAIBhBCwAAADDumzA2r17tzIzMzV37tw2y7Zv365JkyZp6NChuummm/Tyyy97Ld%2BwYYNuuukmDRs2TNOmTVNVVZW/ygYAAF2APdAFdIann35aGzduVJ8%2Bfdos%2B%2Byzz1RcXKx/%2BZd/0ejRo/X%2B%2B%2B%2BroKBAV1xxha677jrt2LFDpaWl%2BtOf/qQBAwZow4YNmj17trZv367IyMgAPBsAABBquuQRrIiIiLMGLLfbrXvuuUc33HCD7Ha7srKy1L9/f%2B3Zs0eS5HA4NGXKFA0ZMkQXXnihZs6cKUl65513/PocAABA6OqSR7CmT59%2B1mWjRo3SqFGjWn9vbm6W0%2BlUcnKyJKm6uloTJkxoXW6z2TRw4EBVVlZq4sSJPs1fV1cnp9PpNWa3RyopKcnn5xAebvP6CZyL3R78%2Bwr7tX/QZ/%2Bh1/4Tar3ukgGrPUpKShQZGdkaqtxut%2BLi4rzWiYuLk8vl8nmbDodDZWVlXmMFBQUqLCxsd32xsT3b/Rh0TwkJUYEuwWfs1/5Bn/2HXvtPqPS62wYsy7JUUlKirVu3asOGDYqIiPBadj7y8vKUnZ3tNWa3R8rlavB5G%2BHhNsXG9lR9faNaWjznVQ%2B6h/bsX4HCfu0f9Nl/6LX/dLTXgfrPZ7cMWB6PRw899JA%2B%2B%2Bwzvfjii7r00ktblyUkJMjtdnut73a71a9fP5%2B3n5SU1OZ0oNN5XM3N7f/ja2nxdOhx6H5CaT9hv/YP%2Buw/9Np/QqXXoXEi07DHHntMX375ZZtwJUlpaWmqrq5u/b2lpUX79u3TkCFD/F0mAAAIUd0uYH388cfavHmz1q5dq/j4%2BDbLp02bpldffVX/9V//pcbGRq1evVo9evTQ6NGj/V8sAAAISV3yFOHgwYMl/fAJQUl66623JEmVlZX6t3/7Nx0/flxjxozxekx6errWrVunUaNG6cEHH9QDDzygo0ePavDgwVq7dq0uvPBC/z4JAAAQssKs872iGz5xOo%2B3a3273aaEhCi5XA0/ea755j%2B%2Bf76loYvY9sCIQJdwTr7u1zg/9Nl/6LX/dLTXl1wS04lVnV23O0UIAADQ2QhYAAAAhhGwAAAADCNgAQAAGEbAAgAAMIyABQAAYBgBCwAAwDACFgAAgGEELAAAAMMIWAAAAIYRsAAAAAwjYAEAABhGwAIAADCMgAUAAGAYAQsAAMAwAhYAAIBhBCwAAADDCFgAAACGEbAAAAAMI2ABAAAYRsACAAAwjIAFAABgGAELAADAMAIWAACAYQQsAAAAwwhYAAAAhhGwAAAADCNgAQAAGEbAAgAAMMwe6AIAmHHzH98PdAk%2B%2B0vx9YEuAQA6FUewAAAADCNgAQAAGEbAAgAAMIyABQAAYFiXDVi7d%2B9WZmam5s6d22bZ66%2B/rpycHA0dOlRTpkzRe%2B%2B917rM4/Fo1apVGjt2rNLT0zVjxgx98803/iwdAACEuC4ZsJ5%2B%2BmktXbpUffr0abNs//79mjdvnoqLi/Xhhx8qPz9f999/v44cOSJJeuGFF7RlyxatXbtW77zzjlJSUlRQUCDLsvz9NAAAQIjqkgErIiJCGzduPGPAKi8vV1ZWlrKyshQREaFJkyapf//%2B2rx5syTJ4XAoPz9fV155paKjozV37lzV1NRo7969/n4aAAAgRHXJ%2B2BNnz79rMuqq6uVlZXlNZaamqrKyko1NTXpwIEDSk1NbV0WHR2tPn36qLKyUtdcc41P89fV1cnpdHqN2e2RSkpK8vk5hIfbvH4CXQn7defi9cN/6LX/hFqvu2TA%2Bilut1txcXFeY3FxcTpw4IC%2B%2B%2B47WZZ1xuUul8vnORwOh8rKyrzGCgoKVFhY2O56Y2N7tvsxQLBjv/YP%2Buw/9Np/QqXX3S5gSTrn9VTne71VXl6esrOzvcbs9ki5XA0%2BbyM83KbY2J6qr29US4vnvOoBgg37defi9cN/6LX/dLTXCQlRnVjV2XW7gJWQkCC32%2B015na7lZiYqPj4eNlstjMuv%2Biii3yeIykpqc3pQKfzuJqb2//H19Li6dDjgGDGfu0f9Nl/6LX/hEqvQ%2BNEpkFpaWmqqqryGqusrNSQIUMUERGhfv36qbq6unVZfX29vv76a1199dX%2BLhUAAISobhew7rjjDn3wwQfauXOnvv/%2Be23cuFFfffWVJk2aJEmaNm2aNmzYoJqaGp04cUIlJSUaOHCgBg8eHODKAQBAqOiSpwhPh6Hm5mZJ0ltvvSXphyNV/fv3V0lJiZYtW6ba2lr17dtXa9as0SWXXCJJmjp1qpxOp375y1%2BqoaFBGRkZbS5YBwAA%2BClhFnfQ9Aun83i71rfbbUpIiJLL1fCT55pv/uP751sa4Hd/Kb4%2BJK6hCFW%2Bvn7g/NFr/%2Blory%2B5JKYTqzq7bneKEAAAoLMRsAAAAAwjYAEAABhGwAIAADCMgAUAAGAYAQsAAMAwAhYAAIBhBCwAAADDCFgAAACGEbAAAAAMI2ABAAAYRsACAAAwjIAFAABgGAELAADAMAIWAACAYQQsAAAAwwhYAAAAhhGwAAAADCNgAQAAGEbAAgAAMIyABQAAYBgBCwAAwDACFgAAgGEELAAAAMMIWAAAAIYRsAAAAAwLuoCVnZ2tsrIyHT58ONClAAAAdEjQBazbbrtNr7/%2Bum644QbNnDlT27dvV3Nzc6DLAgAA8FnQBayCggK9/vrrevnll9WvXz899thjysrK0ooVK3Tw4MFAlwcAAHBOQRewThs0aJDmzZund955RwsWLNDLL7%2BsCRMmaMaMGfrss88CXR4AAMBZBW3AOnXqlF5//XXNmjVL8%2BbNU3Jysh566CENHDhQ%2Bfn52rJlS6BLBAAAOCN7oAv4sZqaGm3cuFGvvvqqGhoadNNNN%2BnZZ5/Vtdde27pOenq6lixZopycnABWCgAAcGZBF7AmTpyoyy%2B/XPfcc49uvfVWxcfHt1knKytLx44dC0B1AAAA5xZ0AWvDhg0aPnz4Odfbu3evH6oBAABov6C7BmvAgAGaPXu23nrrrdaxZ555RrNmzZLb7TY2z759%2BzR9%2BnRdd911GjFihIqLi1uPilVUVCg3N1fDhg3TxIkTtXnzZmPzAgCAri/oAtayZct0/Phx9e3bt3Vs9OjR8ng8Wr58uZE5mpubdffdd%2Buaa67RBx98oK1bt%2BrYsWNasmSJ6urqdN9992nq1KmqqKjQwoUL9fDDD6uystLI3AAAoOsLuoD13nvvqaysTCkpKa1jKSkpKikp0e7du43M4XQ65XQ6dcstt6hHjx5KSEjQjTfeqP3792vLli1KSUlRbm6uIiIilJmZqezsbJWXlxuZGwAAdH1Bdw1WU1OTIiIi2ozbbDY1NjYamSM5OVkDBw6Uw%2BHQb3/7WzU1NWn79u0aPXq0qqurlZqa6rV%2Bamqqtm3b5vP26%2Brq5HQ6vcbs9kglJSX5vI3wcJvXT6ArYb/uXLx%2B%2BA%2B99p9Q63XQBaz09HQtX75cRUVFiouLkyR9%2B%2B23evzxx71u1XA%2BbDabSktLlZ%2Bfr2effVaSNHz4cBUVFem%2B%2B%2B5TcnKy1/rx8fFyuVw%2Bb9/hcKisrMxrrKCgQIWFhe2uNTa2Z7sfAwQ79mv/oM/%2BQ6/9J1R6HXQBa8GCBfrNb36jn//854qOjpbH41FDQ4MuvfRSPffcc0bmOHnypGbPnq3x48dr9uzZ%2Bvvf/65HHnlExcXFRrafl5en7OxsrzG7PVIuV4PP2wgPtyk2tqfq6xvV0uIxUhcQLNivOxevH/5Dr/2no71OSIjqxKrOLugC1qWXXqrXXntN7777rr7%2B%2BmvZbDZdfvnlGjlypMLDw43MUVFRoUOHDunBBx9UeHi4YmJiVFhYqFtuuUXXX399m08rulwuJSYm%2Brz9pKSkNqcDnc7jam5u/x9fS4unQ48Dghn7tX/QZ/%2Bh1/4TKr0OuoAlST169NANN9zQadtvaWmRx%2BORZVmtYydPnpQkZWZm6t///d%2B91q%2BqqtKQIUM6rR4AANC1BF3A%2Buabb7Ry5Up9%2BeWXampqarP87bffPu85hg4dqsjISJWWlmr27NlqamrS6tWrlZ6erltuuUVlZWUqLy/XpEmT9OGHH2rXrl1yOBznPS8AAOgegi5gLViwQHV1dRo5cqQiIyM7ZY6EhAT9%2Bc9/1uOPP65Ro0apR48eGj58uJYsWaKLLrpIa9as0dKlS/XII4%2Bod%2B/eWrFiha666qpOqQUAAHQ9QRewqqqq9Pbbb7frmqeOSEtLO%2BtF8%2Bnp6dq0aVOnzg8AALquoLuZxEUXXdRpR64AAAD8IegC1j333KOysjKvC9ABAABCSdCdInz33Xf1ySef6JVXXtHPfvYz2WzeGfCll14KUGUAAAC%2BCbqAFR0drVGjRgW6DAAAgA4LuoC1bNmyQJcAAABwXoLuGixJ%2Bp//%2BR%2BVlpbqoYceah379NNPA1gRAACA74IuYFVUVGjSpEnavn27tm7dKumHm49Onz7dyE1GAQAAOlvQBaxVq1bpd7/7nbZs2aKwsDBJP3w/4fLly/Xkk08GuDoAAIBzC7qA9d///d%2BaNm2aJLUGLEkaP368ampqAlUWAACAz4IuYMXExJzxOwjr6urUo0ePAFQEAADQPkEXsIYNG6bHHntMJ06caB07ePCg5s2bp5///OcBrAwAAMA3QXebhoceeki/%2BtWvlJGRoZaWFg0bNkyNjY3q16%2Bfli9fHujyAAAAzinoAlavXr20detW7dq1SwcPHtSFF16oyy%2B/XCNGjPC6JgsAACBYBV3AkqQLLrhAN9xwQ6DLAAAA6JCgC1jZ2dk/eaSKe2EBAIBgF3QBa8KECV4Bq6WlRQcPHlRlZaV%2B9atfBbAyAAAA3wRdwCouLj7j%2BJtvvqmPPvrIz9UAAAC0X9DdpuFsbrjhBr322muBLgMAAOCcQiZg7du3T5ZlBboMAACAcwq6U4RTp05tM9bY2KiamhqNGzcuABUBAAC0T9AFrJSUlDafIoyIiFBubq5uv/32AFUFAADgu6ALWNytHQAAhLqgC1ivvvqqz%2BveeuutnVgJAABAxwRdwFq4cKE8Hk%2BbC9rDwsK8xsLCwghYAAAgKAVdwPrTn/6kdevWafbs2RowYIAsy9IXX3yhp59%2BWnfddZcyMjICXSIAAMBPCrqAtXz5cq1du1bJycmtY9ddd50uvfRSzZgxQ1u3bg1gdQAAAOcWdPfB%2BuqrrxQXF9dmPDY2VrW1tQGoCAAAoH2CLmD17t1by5cvl8vlah2rr6/XypUrddlllwWwMgAAAN8E3SnCBQsWqKioSA6HQ1FRUbLZbDpx4oQuvPBCPfnkk4EuDwAA4JyCLmCNHDlSO3fu1K5du3TkyBFZlqXk5GRdf/31iomJCXR5AAAA5xR0AUuSevbsqbFjx%2BrIkSO69NJLA10OgG7u5j%2B%2BH%2BgS2uUvxdcHugSg2wu6a7Campo0b948DR06VDfffLOkH67Bmjlzpurr6wNcHQAAwLkFXcBasWKF9u/fr5KSEtls/1deS0uLSkpKAlgZAACAb4IuYL355pv613/9V40fP771S59jY2O1bNkybd%2B%2BPcDVAQAAnFvQBayGhgalpKS0GU9MTNTf//53o3OtXr1aI0eO1DXXXKP8/HwdOnRIklRRUaHc3FwNGzZMEydO1ObNm43OCwAAuragC1iXXXaZPvroI0ny%2Bu7BN954Q//4j/9obJ4XXnhBmzdv1oYNG/Tee%2B%2Bpb9%2B%2BeuaZZ1RXV6f77rtPU6dOVUVFhRYuXKiHH35YlZWVxuYGAABdW9B9ivDOO%2B/UnDlzdNttt8nj8Wj9%2BvWqqqrSm2%2B%2BqYULFxqbZ926dZo3b56uuOIKSdKiRYskSX/%2B85%2BVkpKi3NxcSVJmZqays7NVXl6uwYMHG5sfAAB0XUEXsPLy8mS32/X8888rPDxcTz31lC6//HKVlJRo/PjxRub49ttvdejQIX333XeaMGGCjh49qoyMDC1ZskTV1dVKTU31Wj81NVXbtm0zMjcAAOj6gi5gHTt2TLfddptuu%2B22TpvjyJEjkn447bh%2B/XpZlqXCwkItWrRITU1NXl80LUnx8fFeX91zLnV1dXI6nV5jdnukkpKSfN5GeLjN6yfQlbBfdy5eP/yHXvtPqPU66ALW2LFj9cknn7R%2BgrAznL62a%2BbMma1has6cOZo1a5YyMzPPe/sOh0NlZWVeYwUFBSosLGz3tmJje553PUCwYb/uXKf7S5/9h177T6j0OugCVkZGhrZt26YJEyZ02hwXX3yxpB9u/3Ba7969ZVmWTp06Jbfb7bW%2By%2BVSYmKiz9vPy8tTdna215jdHimXq8HnbYSH2xQb21P19Y1qafH4/DggFLBfd676%2BkZeP/yE12r/6WivExKiOrGqswu6gPUP//AP%2BsMf/qC1a9fqsssu0wUXXOC1fOXKlec9R69evRQdHa39%2B/dr0KBBkqTa2lpdcMEFysrK0qZNm7zWr6qq0pAhQ3zeflJSUpvTgU7ncTU3t/%2BPr6XF06HHAcGM/bpznX7zoc/%2BQ6/9J1R6HXQnMg8cOKArrrhCMTExcrlcqqur8/pngt1uV25urp566in99a9/1dGjR/Xkk08qJydHkydPVm1trcrLy/X9999r165d2rVrl%2B644w4jcwMAgK4vaI5gzZ07V6tWrdJzzz3XOvbkk0%2BqoKCgU%2BYrKirSyZMndfvtt%2BvUqVO66aabtGjRIkVFRWnNmjVaunSpHnnkEfXu3VsrVqzQVVdd1Sl1AACAridoAtaOHTvajK1du7bTAlaPHj20ePFiLV68uM2y9PT0NqcJAQAAfBU0pwj//13bf2oMAAAg2AVNwDrTbRk681YNAAAAnSVoAhYAAEBXQcACAAAwLGgucj916pSKiorOOWbiPlgAAACdKWgC1rXXXtvmPldnGgMQ%2Bm4s2R3oEgCgUwVNwPr/978CAAAIZVyDBQAAYBgBCwAAwDACFgAAgGEELAAAAMMIWAAAAIYRsAAAAAwjYAEAABhGwAIAADCMgAUAAGAYAQsAAMAwAhYAAIBhBCwAAADDCFgAAACGEbAAAAAMI2ABAAAYRsACAAAwzB7oAgAA3dfNf3w/0CW0y7YHRgS6BIQIjmABAAAYRsACAAAwjIAFAABgGAELAADAMAIWAACAYQQsAAAAwwhYAAAAhhGwAAAADCNgAQAAGEbAAgAAMKzbB6zHHntMAwYMaP29oqJCubm5GjZsmCZOnKjNmzcHsDoAABCKuvV3Ee7fv1%2BbNm1q/b2urk733XefFi5cqJycHH388ce69957dfnll2vw4MEBrBQAAISSbnsEy%2BPxaPHixcrPz28d27Jli1JSUpSbm6uIiAhlZmYqOztb5eXlgSsUAACEnG4bsF566SVFREQoJyenday6ulqpqale66Wmpqqqqsrf5QEAgBDWLU8R/u1vf1Npaamee%2B45r3G3263k5GSvsfj4eLlcrnZtv66uTk6n02vMbo9UUlKSz9sID7d5/QQAX/H60Xnsdu%2Be0mv/CbVed8uAtWzZMk2ZMkV9%2B/bVoUOHjG/f4XCorKzMa6ygoECFhYXt3lZsbE9TZQHoJk6/bvD6YV5CQtQZx%2Bm1/4RKr7tdwKqoqNCnn36qrVu3tlmWkJAgt9vtNeZyuZSYmNiuOfLy8pSdne01ZrdHyuVq8Hkb4eE2xcb2VH19o1paPO2aH0D3Vl/fyOtHJ/nx6ziv1f7T0V6fLRR3tm4XsDZv3qyjR49qzJgxkiTLsiRJGRkZ%2Bs1vftMmeFVVVWnIkCHtmiMpKanN6UCn87iam9v/x9fS4unQ4wB0X6fffHj9MO9s/aTX/hMqve52AWv%2B/Pn67W9/2/r7kSNHlJeXp02bNsnj8WjNmjUqLy/XpEmT9OGHH2rXrl1yOBwBrBgAAISabhew4uLiFBcX1/p7c3OzJKlXr16SpDVr1mjp0qV65JFH1Lt3b61YsUJXXXVVQGoFAAChqdsFrB/72c9%2Bpi%2B%2B%2BKL19/T0dK%2BbjwIAALRXaHzWEQAAIIQQsAAAAAwjYAEAABhGwAIAADCMgAUAAGAYAQsAAMAwAhYAAIBhBCwAAADDCFgAAACGEbAAAAAMI2ABAAAYRsACAAAwjIAFAABgGAELAADAMHugCwAAmHVjye5AlwB0exzBAgAAMIyABQAAYBgBCwAAwDACFgAAgGEELAAAAMMIWAAAAIYRsAAAAAwjYAEAABhGwAIAADCMgAUAAGAYX5UDAICPbv7j%2B4EuoV22PTAi0CV0WxzBAgAAMIyABQAAYBgBCwAAwDACFgAAgGEELAAAAMMIWAAAAIYRsAAAAAwjYAEAABjWbQNWbW2tCgoKlJGRoczMTM2fP1/19fWSpP379%2Buuu%2B7Stddeq3HjxmndunUBrhYAAISSbhuwZs%2BerdjYWO3YsUOvvPKKvvzySz3%2B%2BONqamrSPffco3/6p3/S7t27tWrVKq1Zs0bbt28PdMkAACBEdMuAVV9fr7S0NBUVFSkqKkq9evXS5MmTtWfPHu3cuVOnTp3Svffeq8jISA0aNEi33367HA5HoMsGAAAholt%2BF2FsbKyWLVvmNXb48GElJSWpurpaAwYMUHh4eOuy1NRUlZeX%2B7tMAADOSyh9d2JX%2B97EbhmwfqyyslLPP/%2B8Vq9erW3btik2NtZreXx8vNxutzwej2y2cx/0q6urk9Pp9Bqz2yOVlJTkc03h4TavnwAAdGV2%2B0%2B/34Xa%2B2K3D1gff/yx7r33XhUVFSkzM1Pbtm0743phYWE%2Bb9PhcKisrMxrrKCgQIWFhe2uLza2Z7sfAwBAqElIiPJpvVB5X%2BzWAWvHjh363e9%2Bp4cffli33nqrJCkxMVFfffWV13put1vx8fE%2BHb2SpLy8PGVnZ3uN2e2RcrkafK4tPNym2Nieqq9vVEuLx%2BfHAQAQis71HtnR90Vfg5tp3TZgffLJJ5o3b56eeOIJjRw5snU8LS1NL774opqbm2W3/9CeyspKDRkyxOdtJyUltTkd6HQeV3Nz%2B4NSS4unQ48DACCU%2BPpeFyrvi6FxItOw5uZmLVq0SMXFxV7hSpKysrIUHR2t1atXq7GxUXv37tXGjRs1bdq0AFULAABCTZhlWVagi/C3PXv26Be/%2BBFhT/YAAAuaSURBVIV69OjRZtkbb7yhhoYGLV68WFVVVbr44os1a9Ys3Xnnnec1p9N5vF3r2%2B02JSREyeVq%2BMmkHkqfEAEA4GzO9SlCX98Xf%2BySS2LOt7QO6ZanCK%2B77jp98cUXP7nOiy%2B%2B6KdqAABAV9MtTxECAAB0JgIWAACAYQQsAAAAwwhYAAAAhhGwAAAADCNgAQAAGEbAAgAAMIyABQAAYBgBCwAAwDACFgAAgGEELAAAAMMIWAAAAIYRsAAAAAwjYAEAABhGwAIAADCMgAUAAGAYAQsAAMAwAhYAAIBhBCwAAADDCFgAAACGEbAAAAAMI2ABAAAYRsACAAAwjIAFAABgGAELAADAMAIWAACAYQQsAAAAwwhYAAAAhhGwAAAADCNgAQAAGEbAAgAAMIyABQAAYBgBCwAAwDACFgAAgGEELAAAAMMIWGdQW1uru%2B%2B%2BWxkZGRozZoxWrFghj8cT6LIAAECIsAe6gGA0Z84cDRo0SG%2B99ZaOHj2qe%2B65RxdffLF%2B/etfB7o0AAAQAjiC9SOVlZX6/PPPVVxcrJiYGKWkpCg/P18OhyPQpQEAgBDBEawfqa6uVu/evRUXF9c6NmjQIB08eFAnTpxQdHT0ObdRV1cnp9PpNWa3RyopKcnnOsLDbV4/AQDoyuz2n36/C7X3RQLWj7jdbsXGxnqNnQ5bLpfLp4DlcDhUVlbmNXb//fdrzpw5PtdRV1enZ5/9k/Ly8n4ymO35w3ift4kzq6urk8PhOGevcf7otX/QZ/%2Bh1/7j6/tisAiNGOhnlmWd1%2BPz8vL0yiuveP3Ly8tr1zacTqfKysraHAmDefTaf%2Bi1f9Bn/6HX/hNqveYI1o8kJibK7XZ7jbndboWFhSkxMdGnbSQlJYVEugYAAJ2DI1g/kpaWpsOHD%2BvYsWOtY5WVlerbt6%2BioqICWBkAAAgVBKwfSU1N1eDBg7Vy5UqdOHFCNTU1Wr9%2BvaZNmxbo0gAAQIgIX7JkyZJAFxFsrr/%2Bem3dulWPPvqoXnvtNeXm5mrGjBkKCwvzax1RUVEaPnw4R878gF77D732D/rsP/Taf0Kp12HW%2BV7RDQAAAC%2BcIgQAADCMgAUAAGAYAQsAAMAwAhYAAIBhBCwAAADDCFgAAACGEbAAAAAMI2ABAAAYRsACAAAwjIAVZGpra3X33XcrIyNDY8aM0YoVK%2BTxeAJdVpdRW1urgoICZWRkKDMzU/Pnz1d9fb0kaf/%2B/brrrrt07bXXaty4cVq3bl2Aq%2B0aHnvsMQ0YMKD194qKCuXm5mrYsGGaOHGiNm/eHMDquobVq1dr5MiRuuaaa5Sfn69Dhw5Jotem7du3T9OnT9d1112nESNGqLi4WMeOHZNEr03YvXu3MjMzNXfu3DbLXn/9deXk5Gjo0KGaMmWK3nvvvdZlHo9Hq1at0tixY5Wenq4ZM2bom2%2B%2B8WfpZ2YhqEyePNlatGiRVV9fbx08eNAaN26ctW7dukCX1WX88z//szV//nzrxIkT1uHDh60pU6ZYCxYssBobG63rr7/eKi0ttRoaGqyqqipr%2BPDh1ptvvhnokkPavn37rOHDh1v9%2B/e3LMuyvv32W%2Buaa66xysvLraamJuv999%2B3rr76auuzzz4LcKWh6/nnn7fGjx9v1dTUWMePH7ceffRR69FHH6XXhp06dcoaMWKEtXLlSuv777%2B3jh07Zv3617%2B25syZQ68NWLt2rTVu3Dhr6tSp1gMPPOC1bN%2B%2BfVZaWpq1c%2BdOq6mpydq0aZM1ZMgQ6/Dhw5ZlWdaGDRusMWPGWAcOHLCOHz9u/f73v7dycnIsj8cTiKfSiiNYQaSyslKff/65iouLFRMTo5SUFOXn58vhcAS6tC6hvr5eaWlpKioqUlRUlHr16qXJkydrz5492rlzp06dOqV7771XkZGRGjRokG6//XZ6fx48Ho8WL16s/Pz81rEtW7YoJSVFubm5ioiIUGZmprKzs1VeXh64QkPcunXrNHfuXF1xxRWKjo7WokWLtGjRInptmNPplNPp1C233KIePXooISFBN954o/bv30%2BvDYiIiNDGjRvVp0%2BfNsvKy8uVlZWlrKwsRUREaNKkSerfv3/rUUKHw6H8/HxdeeWVio6O1ty5c1VTU6O9e/f6%2B2l4IWAFkerqavXu3VtxcXGtY4MGDdLBgwd14sSJAFbWNcTGxmrZsmW6%2BOKLW8cOHz6spKQkVVdXa8CAAQoPD29dlpqaqqqqqkCU2iW89NJLioiIUE5OTutYdXW1UlNTvdajzx337bff6tChQ/ruu%2B80YcIEZWRkqLCwUMeOHaPXhiUnJ2vgwIFyOBxqaGjQ0aNHtX37do0ePZpeGzB9%2BnTFxMSccdnZ%2BltZWammpiYdOHDAa3l0dLT69OmjysrKTq35XAhYQcTtdis2NtZr7HTYcrlcgSipS6usrNTzzz%2Bve%2B%2B994y9j4%2BPl9vt5hq4Dvjb3/6m0tJSLV682Gv8bH1m/%2B6YI0eOSJLeeOMNrV%2B/Xps2bdKRI0e0aNEiem2YzWZTaWmp3n77bQ0bNkyZmZlqbm5WUVERve5kbrfb68CD9MN7o8vl0nfffSfLss66PJAIWEHGsqxAl9AtfPzxx5oxY4aKioqUmZl51vXCwsL8WFXXsWzZMk2ZMkV9%2B/YNdCld2unXi5kzZyo5OVm9evXSnDlztGPHjgBX1vWcPHlSs2fP1vjx47Vnzx69%2B%2B67iomJUXFxcaBL6xbO9d4YjO%2BdBKwgkpiYKLfb7TXmdrsVFhamxMTEAFXV9ezYsUN33323FixYoOnTp0v6ofc//t%2BO2%2B1WfHy8bDb%2BTNqjoqJCn376qQoKCtosS0hIaLOPu1wu9u8OOn26%2B/8fPendu7csy9KpU6fotUEVFRU6dOiQHnzwQcXExCg5OVmFhYX6y1/%2BIpvNRq870ZleN9xutxITE1tfo8%2B0/KKLLvJnmW3wzhFE0tLSdPjw4daP/Uo/nMbq27evoqKiAlhZ1/HJJ59o3rx5euKJJ3Trrbe2jqelpemLL75Qc3Nz61hlZaWGDBkSiDJD2ubNm3X06FGNGTNGGRkZmjJliiQpIyND/fv3b3NdSlVVFX3uoF69eik6Olr79%2B9vHautrdUFF1ygrKwsem1QS0uLPB6P15GSkydPSpIyMzPpdSdKS0tr09/Tr88RERHq16%2BfqqurW5fV19fr66%2B/1tVXX%2B3vUr0QsIJIamqqBg8erJUrV%2BrEiROqqanR%2BvXrNW3atECX1iU0Nzdr0aJFKi4u1siRI72WZWVlKTo6WqtXr1ZjY6P27t2rjRs30vsOmD9/vt58801t2rRJmzZt0tq1ayVJmzZtUk5Ojmpra1VeXq7vv/9eu3bt0q5du3THHXcEuOrQZLfblZubq6eeekp//etfdfToUT355JPKycnR5MmT6bVBQ4cOVWRkpEpLS9XY2CiXy6XVq1crPT1dt9xyC73uRHfccYc%2B%2BOAD7dy5U99//702btyor776SpMmTZIkTZs2TRs2bFBNTY1OnDihkpISDRw4UIMHDw5o3WFWMJ647MaOHDmihx9%2BWP/xH/%2Bh6OhoTZ06Vffffz/XAhmwZ88e/eIXv1CPHj3aLHvjjTfU0NCgxYsXq6qqShdffLFmzZqlO%2B%2B8MwCVdi2HDh3S2LFj9cUXX0iS/vM//1NLly5VTU2NevfuraKiIo0bNy7AVYaukydPatmyZXrttdd06tQp3XTTTXr44YcVFRVFrw2rqqrS448/rs8//1w9evTQ8OHDNX/%2BfCUnJ9Pr83Q6DJ0%2Bi2C32yWp9ZOA27dv18qVK1VbW6u%2Bfftq4cKFSk9Pl/TD9VelpaV66aWX1NDQoIyMDP3%2B979Xr169AvBM/g8BCwAAwDBOEQIAABhGwAIAADCMgAUAAGAYAQsAAMAwAhYAAIBhBCwAAADDCFgAAACGEbAAAAAMI2ABAAAYRsACAAAwjIAFAABgGAELAADAMAIWAACAYf8LozRlQRf8ZZsAAAAASUVORK5CYII%3D\"/>\n",
              "        </div>\n",
              "        <div role=\"tabpanel\" class=\"tab-pane col-md-12\" id=\"common8854750520802668396\">\n",
              "            \n",
              "<table class=\"freq table table-hover\">\n",
              "    <thead>\n",
              "    <tr>\n",
              "        <td class=\"fillremaining\">Value</td>\n",
              "        <td class=\"number\">Count</td>\n",
              "        <td class=\"number\">Frequency (%)</td>\n",
              "        <td style=\"min-width:200px\">&nbsp;</td>\n",
              "    </tr>\n",
              "    </thead>\n",
              "    <tr class=\"\">\n",
              "        <td class=\"fillremaining\">4</td>\n",
              "        <td class=\"number\">57</td>\n",
              "        <td class=\"number\">7.6%</td>\n",
              "        <td>\n",
              "            <div class=\"bar\" style=\"width:16%\">&nbsp;</div>\n",
              "        </td>\n",
              "</tr><tr class=\"\">\n",
              "        <td class=\"fillremaining\">16</td>\n",
              "        <td class=\"number\">51</td>\n",
              "        <td class=\"number\">6.8%</td>\n",
              "        <td>\n",
              "            <div class=\"bar\" style=\"width:14%\">&nbsp;</div>\n",
              "        </td>\n",
              "</tr><tr class=\"\">\n",
              "        <td class=\"fillremaining\">14</td>\n",
              "        <td class=\"number\">44</td>\n",
              "        <td class=\"number\">5.9%</td>\n",
              "        <td>\n",
              "            <div class=\"bar\" style=\"width:12%\">&nbsp;</div>\n",
              "        </td>\n",
              "</tr><tr class=\"\">\n",
              "        <td class=\"fillremaining\">2</td>\n",
              "        <td class=\"number\">36</td>\n",
              "        <td class=\"number\">4.8%</td>\n",
              "        <td>\n",
              "            <div class=\"bar\" style=\"width:10%\">&nbsp;</div>\n",
              "        </td>\n",
              "</tr><tr class=\"\">\n",
              "        <td class=\"fillremaining\">23</td>\n",
              "        <td class=\"number\">36</td>\n",
              "        <td class=\"number\">4.8%</td>\n",
              "        <td>\n",
              "            <div class=\"bar\" style=\"width:10%\">&nbsp;</div>\n",
              "        </td>\n",
              "</tr><tr class=\"\">\n",
              "        <td class=\"fillremaining\">28</td>\n",
              "        <td class=\"number\">35</td>\n",
              "        <td class=\"number\">4.7%</td>\n",
              "        <td>\n",
              "            <div class=\"bar\" style=\"width:10%\">&nbsp;</div>\n",
              "        </td>\n",
              "</tr><tr class=\"\">\n",
              "        <td class=\"fillremaining\">26</td>\n",
              "        <td class=\"number\">33</td>\n",
              "        <td class=\"number\">4.4%</td>\n",
              "        <td>\n",
              "            <div class=\"bar\" style=\"width:9%\">&nbsp;</div>\n",
              "        </td>\n",
              "</tr><tr class=\"\">\n",
              "        <td class=\"fillremaining\">11</td>\n",
              "        <td class=\"number\">31</td>\n",
              "        <td class=\"number\">4.1%</td>\n",
              "        <td>\n",
              "            <div class=\"bar\" style=\"width:9%\">&nbsp;</div>\n",
              "        </td>\n",
              "</tr><tr class=\"\">\n",
              "        <td class=\"fillremaining\">35</td>\n",
              "        <td class=\"number\">30</td>\n",
              "        <td class=\"number\">4.0%</td>\n",
              "        <td>\n",
              "            <div class=\"bar\" style=\"width:9%\">&nbsp;</div>\n",
              "        </td>\n",
              "</tr><tr class=\"\">\n",
              "        <td class=\"fillremaining\">21</td>\n",
              "        <td class=\"number\">28</td>\n",
              "        <td class=\"number\">3.7%</td>\n",
              "        <td>\n",
              "            <div class=\"bar\" style=\"width:8%\">&nbsp;</div>\n",
              "        </td>\n",
              "</tr><tr class=\"other\">\n",
              "        <td class=\"fillremaining\">Other values (68)</td>\n",
              "        <td class=\"number\">367</td>\n",
              "        <td class=\"number\">49.1%</td>\n",
              "        <td>\n",
              "            <div class=\"bar\" style=\"width:100%\">&nbsp;</div>\n",
              "        </td>\n",
              "</tr>\n",
              "</table>\n",
              "        </div>\n",
              "        <div role=\"tabpanel\" class=\"tab-pane col-md-12\"  id=\"extreme8854750520802668396\">\n",
              "            <p class=\"h4\">Minimum 5 values</p>\n",
              "            \n",
              "<table class=\"freq table table-hover\">\n",
              "    <thead>\n",
              "    <tr>\n",
              "        <td class=\"fillremaining\">Value</td>\n",
              "        <td class=\"number\">Count</td>\n",
              "        <td class=\"number\">Frequency (%)</td>\n",
              "        <td style=\"min-width:200px\">&nbsp;</td>\n",
              "    </tr>\n",
              "    </thead>\n",
              "    <tr class=\"\">\n",
              "        <td class=\"fillremaining\">2</td>\n",
              "        <td class=\"number\">36</td>\n",
              "        <td class=\"number\">4.8%</td>\n",
              "        <td>\n",
              "            <div class=\"bar\" style=\"width:63%\">&nbsp;</div>\n",
              "        </td>\n",
              "</tr><tr class=\"\">\n",
              "        <td class=\"fillremaining\">3</td>\n",
              "        <td class=\"number\">1</td>\n",
              "        <td class=\"number\">0.1%</td>\n",
              "        <td>\n",
              "            <div class=\"bar\" style=\"width:2%\">&nbsp;</div>\n",
              "        </td>\n",
              "</tr><tr class=\"\">\n",
              "        <td class=\"fillremaining\">4</td>\n",
              "        <td class=\"number\">57</td>\n",
              "        <td class=\"number\">7.6%</td>\n",
              "        <td>\n",
              "            <div class=\"bar\" style=\"width:100%\">&nbsp;</div>\n",
              "        </td>\n",
              "</tr><tr class=\"\">\n",
              "        <td class=\"fillremaining\">9</td>\n",
              "        <td class=\"number\">6</td>\n",
              "        <td class=\"number\">0.8%</td>\n",
              "        <td>\n",
              "            <div class=\"bar\" style=\"width:11%\">&nbsp;</div>\n",
              "        </td>\n",
              "</tr><tr class=\"\">\n",
              "        <td class=\"fillremaining\">10</td>\n",
              "        <td class=\"number\">2</td>\n",
              "        <td class=\"number\">0.3%</td>\n",
              "        <td>\n",
              "            <div class=\"bar\" style=\"width:4%\">&nbsp;</div>\n",
              "        </td>\n",
              "</tr>\n",
              "</table>\n",
              "            <p class=\"h4\">Maximum 5 values</p>\n",
              "            \n",
              "<table class=\"freq table table-hover\">\n",
              "    <thead>\n",
              "    <tr>\n",
              "        <td class=\"fillremaining\">Value</td>\n",
              "        <td class=\"number\">Count</td>\n",
              "        <td class=\"number\">Frequency (%)</td>\n",
              "        <td style=\"min-width:200px\">&nbsp;</td>\n",
              "    </tr>\n",
              "    </thead>\n",
              "    <tr class=\"\">\n",
              "        <td class=\"fillremaining\">88</td>\n",
              "        <td class=\"number\">3</td>\n",
              "        <td class=\"number\">0.4%</td>\n",
              "        <td>\n",
              "            <div class=\"bar\" style=\"width:30%\">&nbsp;</div>\n",
              "        </td>\n",
              "</tr><tr class=\"\">\n",
              "        <td class=\"fillremaining\">89</td>\n",
              "        <td class=\"number\">5</td>\n",
              "        <td class=\"number\">0.7%</td>\n",
              "        <td>\n",
              "            <div class=\"bar\" style=\"width:50%\">&nbsp;</div>\n",
              "        </td>\n",
              "</tr><tr class=\"\">\n",
              "        <td class=\"fillremaining\">93</td>\n",
              "        <td class=\"number\">2</td>\n",
              "        <td class=\"number\">0.3%</td>\n",
              "        <td>\n",
              "            <div class=\"bar\" style=\"width:20%\">&nbsp;</div>\n",
              "        </td>\n",
              "</tr><tr class=\"\">\n",
              "        <td class=\"fillremaining\">95</td>\n",
              "        <td class=\"number\">4</td>\n",
              "        <td class=\"number\">0.5%</td>\n",
              "        <td>\n",
              "            <div class=\"bar\" style=\"width:40%\">&nbsp;</div>\n",
              "        </td>\n",
              "</tr><tr class=\"\">\n",
              "        <td class=\"fillremaining\">98</td>\n",
              "        <td class=\"number\">10</td>\n",
              "        <td class=\"number\">1.3%</td>\n",
              "        <td>\n",
              "            <div class=\"bar\" style=\"width:100%\">&nbsp;</div>\n",
              "        </td>\n",
              "</tr>\n",
              "</table>\n",
              "        </div>\n",
              "    </div>\n",
              "</div>\n",
              "</div><div class=\"row variablerow\">\n",
              "    <div class=\"col-md-3 namecol\">\n",
              "        <p class=\"h4 pp-anchor\" id=\"pp_var_target\">target<br/>\n",
              "            <small>Boolean</small>\n",
              "        </p>\n",
              "    </div><div class=\"col-md-6\">\n",
              "    <div class=\"row\">\n",
              "        <div class=\"col-sm-6\">\n",
              "            <table class=\"stats \">\n",
              "                <tr class=\"\">\n",
              "                    <th>Distinct count</th>\n",
              "                    <td>2</td>\n",
              "                </tr>\n",
              "                <tr>\n",
              "                    <th>Unique (%)</th>\n",
              "                    <td>0.3%</td>\n",
              "                </tr>\n",
              "                <tr class=\"ignore\">\n",
              "                    <th>Missing (%)</th>\n",
              "                    <td>0.0%</td>\n",
              "                </tr>\n",
              "                <tr class=\"ignore\">\n",
              "                    <th>Missing (n)</th>\n",
              "                    <td>0</td>\n",
              "                </tr>\n",
              "            </table>\n",
              "        </div>\n",
              "        <div class=\"col-sm-6\">\n",
              "            <table class=\"stats \">\n",
              "                <tr>\n",
              "                    <th>Mean</th>\n",
              "                    <td>0.23797</td>\n",
              "                </tr>\n",
              "            </table>\n",
              "        </div>\n",
              "    </div>\n",
              "</div>\n",
              "<div class=\"col-md-3 collapse in\" id=\"minifreqtable3226028375164982693\">\n",
              "    <table class=\"mini freq\">\n",
              "        <tr class=\"\">\n",
              "    <th>0</th>\n",
              "    <td>\n",
              "        <div class=\"bar\" style=\"width:100%\" data-toggle=\"tooltip\" data-placement=\"right\" data-html=\"true\"\n",
              "             data-delay=500 title=\"Percentage: 76.2%\">\n",
              "            570\n",
              "        </div>\n",
              "        \n",
              "    </td>\n",
              "</tr><tr class=\"\">\n",
              "    <th>1</th>\n",
              "    <td>\n",
              "        <div class=\"bar\" style=\"width:31%\" data-toggle=\"tooltip\" data-placement=\"right\" data-html=\"true\"\n",
              "             data-delay=500 title=\"Percentage: 23.8%\">\n",
              "            178\n",
              "        </div>\n",
              "        \n",
              "    </td>\n",
              "</tr>\n",
              "    </table>\n",
              "</div>\n",
              "<div class=\"col-md-12 text-right\">\n",
              "    <a role=\"button\" data-toggle=\"collapse\" data-target=\"#freqtable3226028375164982693, #minifreqtable3226028375164982693\"\n",
              "        aria-expanded=\"true\" aria-controls=\"collapseExample\">\n",
              "        Toggle details\n",
              "    </a>\n",
              "</div>\n",
              "<div class=\"col-md-12 extrapadding collapse\" id=\"freqtable3226028375164982693\">\n",
              "    \n",
              "<table class=\"freq table table-hover\">\n",
              "    <thead>\n",
              "    <tr>\n",
              "        <td class=\"fillremaining\">Value</td>\n",
              "        <td class=\"number\">Count</td>\n",
              "        <td class=\"number\">Frequency (%)</td>\n",
              "        <td style=\"min-width:200px\">&nbsp;</td>\n",
              "    </tr>\n",
              "    </thead>\n",
              "    <tr class=\"\">\n",
              "        <td class=\"fillremaining\">0</td>\n",
              "        <td class=\"number\">570</td>\n",
              "        <td class=\"number\">76.2%</td>\n",
              "        <td>\n",
              "            <div class=\"bar\" style=\"width:100%\">&nbsp;</div>\n",
              "        </td>\n",
              "</tr><tr class=\"\">\n",
              "        <td class=\"fillremaining\">1</td>\n",
              "        <td class=\"number\">178</td>\n",
              "        <td class=\"number\">23.8%</td>\n",
              "        <td>\n",
              "            <div class=\"bar\" style=\"width:31%\">&nbsp;</div>\n",
              "        </td>\n",
              "</tr>\n",
              "</table>\n",
              "</div>\n",
              "</div>\n",
              "    <div class=\"row headerrow highlight\">\n",
              "        <h1>Correlations</h1>\n",
              "    </div>\n",
              "    <div class=\"row variablerow\">\n",
              "    <img src=\"data:image/png;base64,iVBORw0KGgoAAAANSUhEUgAAAvsAAAJNCAYAAACvEromAAAABHNCSVQICAgIfAhkiAAAAAlwSFlzAAAPYQAAD2EBqD%2BnaQAAADh0RVh0U29mdHdhcmUAbWF0cGxvdGxpYiB2ZXJzaW9uMy4xLjEsIGh0dHA6Ly9tYXRwbG90bGliLm9yZy8QZhcZAAAgAElEQVR4nOzdd3yN5//H8XdCxAghJKEELWKL0IhdxIwR1ZotVVpUxKjRUv2p2WXVXl%2BrLU2LKlpFqC609bVSe8SsJkaCIBJxfn%2Bkub9OE4STyJ3j9Xw8ziMn170%2B93Wq%2BZzPfd3X7WCxWCwCAAAAYHccMzsAAAAAABmDZB8AAACwUyT7AAAAgJ0i2QcAAADsFMk%2BAAAAYKdI9gEAAAA7RbIPAAAA2CmSfQAAAMBOkewDAAAAdopkHwAAALBT2TM7AABASmXLlr3nMicnJ%2BXPn1%2BVKlVS27Zt1axZMzk4ODzG6AAAWYWDxWKxZHYQAABrycl%2BlSpV5O7ubrXs1q1bOnHihP766y9JUsOGDTVt2jTlyJHjsccJADA3kn0AMKHkZH/mzJlq3LhxquuEhYVp6NChunHjhnr06KG33nrrcYYIAMgCGLMPAFlU48aNNXjwYEnS8uXLdevWrUyOCABgNozZB4AsrGnTpho7dqxu3rypAwcOyNfX12r59u3b9fnnn2vPnj2KiYmRi4uLypUrpxdeeEGtW7dOdZ8xMTFatGiRfvzxR506dUrx8fFydXVVlSpV9Oqrr8rf3z/FNo0aNdK5c%2Bc0f/583bp1S1OmTNGZM2e0ePFiVa9eXZJ05MgRLVy4UDt37lRkZKSyZ88uDw8P1ahRQy%2B//HKq9ylcu3ZNS5Ys0ebNm3Xq1CklJCSoUKFCqlatmrp3767KlStbrX/27FkFBARIkvbt26fjx49r9uzZ2r17t2JiYuTh4aGAgAANGjRIuXPnfqQ%2BB4CshMo%2BAGRh%2BfPnN95fvXrVatmUKVPUvXt3bdq0SS4uLvL395ebm5u2b9%2BuIUOGaODAgUpMTLTa5sKFC2rXrp3mzJmjEydOqEKFCqpZs6Zy5MihH374Qa%2B88opWrlx5z3hOnDihQYMGycnJSTVr1lTOnDklSb///rteeOEFff3117p165aqV68uX19fxcbG6ssvv1SHDh20fft2q32dO3dOzz//vKZPn65jx46pXLlyqlmzpiwWi9atW6cOHTpoxYoV94xl165d6tKli/bv369y5crp6aef1rlz57R06VKFhISkuY8BIEuzAABMx9vb2%2BLt7W3ZtGnTfdc7fvy4se6%2BffuM9o0bN1q8vb0tfn5%2Blt9%2B%2B81qm99//91Su3Zti7e3t2XRokVWy8aNG2fx9va2NGvWzHLx4kWj/fbt25bx48dbvL29LdWrV7fExsZabdewYUOLt7e3pVGjRpbZs2eniLN9%2B/YWb29vywcffGBJTEy02u%2BUKVMs3t7ellatWllt06VLF4u3t7elXbt2lsjISKM9MTHRMn36dIu3t7elUqVKlhMnThjLzpw5Y/RHgwYNLPPmzbPcuXPHWP71118byw8ePHi/rgUAu0BlHwCysI0bN0qSXF1dVb58eaN99uzZkqS33npLNWrUsNrGz89Pw4YNkyQtWbLEapmHh4datmypfv36qWDBgkZ7tmzZNGjQIDk6OuratWvas2dPqvHcuXNHvXr1StF%2B8OBBSVK7du3k6Pi/Pz3ZsmVT//791b9/f3Xt2lXx8fGSpL1792rnzp2SpI8%2B%2BkgeHh7GNo6OjurXr58qVqyo%2BPh4ffHFF6nGUqZMGb3%2B%2ButW05IGBQXJzc3NOAYA2DuSfQDIon788UfNnTtXkvTaa68pe/ak27AiIyO1f/9%2BSVKTJk1S3bZx48ZycHDQX3/9pYiICKP99ddf1%2BTJk9WqVasU2%2BTKlcv4AnDhwoVU91uzZk2rZD5Zvnz5JEnfffddimWOjo4KDg5Whw4djOlDf/75Z0lJsxKVKlXqnucgKcXwn2Sp3ZPg4OAgLy8vSVJ0dHSq2wHAg/z888%2BqXbu2Bg0adN/17ty5oylTpiggIEB%2Bfn7q2bOnzpw5YyyPiYnRwIEDVbt2bdWtW1fvvPOO4uLi0jVWbtAFABObO3euVq1aZdUWHx%2BvkydPGn8w2rVrp9dee81YfuTIEeP922%2B/fc99Z8%2BeXQkJCTp58qSefvppq/3/%2BOOP%2BvPPPxUVFaWrV6/K8s8szdeuXZOU9AcsNZ6enqm2v/LKK5o0aZJmzZqln3/%2BWa1atVKtWrXu%2BfCwY8eOSUqqzt/LM888IynpPoHUFC9ePNV2Z2dnSVJCQsI99w0A9zJ//nytWLFCJUqUeOC6n3/%2BudauXav58%2BfL09NTU6ZMUXBwsL755hs5ODjo3XffVXx8vNatW6eEhAQNGDBAEydO1MiRI9MtXpJ9ADCxffv2pWjLli2bChQooICAAHXs2FHPPfec1fIrV64Y7zdv3vzAYyQn8JJ06NAhBQcH6%2BzZs48Ur6ura6rtyUN75s6dq/DwcIWHh0uS3N3d1bx5c73yyitGxf3umJKvCKQmb968kpKS9ri4OONm4GQ8ZAxARnB2dtaKFSs0fvz4B055HBoaqu7duxtXKAcNGiR/f3/t3btXxYoVU1hYmL7%2B%2BmtjeGHfvn01YMAAvfXWW3JyckqXeEn2AcDE7vdQrXtJHqPu5OSk8PBwqzHr9xMXF6c33nhDf/31l0qWLKm%2BffuqVq1aKlCggPFHJ3mKzQcdOzW9evVSp06dFBYWph9//FHbtm3ThQsX9Omnnyo0NFQfffSRWrRokebztNz1TMjUhg4BwL1ERUWlGI7o7u5udX/QvXTr1i1Nx4iLi9OxY8dUoUIFo83FxUUlSpRQeHi4rl27pmzZslld4axYsaJu3LihEydO3PPK58Mi2QcAO5M8HWdCQoKio6ONitGD/PTTT/rrr7/k4OCgefPmpXqJ2taxpPny5VO7du3Url07JSYmatu2bZo5c6Z2796td955RzVr1lSBAgWMKwT/nk70bsnLcubMSRUfsFdpLFY8rNBp0zRjxgyrtn79%2BqXrtLxXrlyRxWJJccXT1dVV0dHRyp8/v1xcXKyKJMnrpuc9RST7AGBnvL29jfdHjx5N9SFYqTl58qSkpLHuqSX6p0%2Bf1qVLl9IlRilpOFK9evXk7%2B%2Bvxo0bKzIyUvv27dNzzz1njNW/%2B/6Df0tedr9x/QCQmo4dO6pRo0ZWbe7u7hlyrLuvQj7MsvTCdU8AsDPu7u6qWLGiJOnLL79MdZ2IiAgFBQUZU3RK/xsDf68xqDNnzjTe//thXPezd%2B9ejRgxQgsXLkx1eY4cOVSoUCFJ/7tykHwfwpEjR1JN%2BO/cuWNMO1qvXr00xwIAUtI0wxUrVrR6pWUIz8PInz%2B/HB0dFRMTY9UeExOjggULys3NTbGxsVb/P01e9%2B6pj21Fsg8AdqhPnz6SpHXr1mnx4sVW1aNTp06pf//%2BOnTokM6fP2%2B0lytXTpL0999/KywszGi/efOmxo0bp/DwcPn6%2Bkq69ww4qcmWLZtWrlypadOmaevWrSmWb9q0SQcPHpSTk5OqVasmSapQoYLq1q0rSRoxYoQuX75srH/79m19/PHHOn78uPLmzatOnTqlORYAWYyjY8a8HgNnZ2eVKVPGmApZShp%2BePr0aVWpUkXly5eXxWLRoUOHjOXh4eHKly%2Bf1QxptmIYDwDYoaZNm6pXr16aN2%2Be3n//fS1dulTPPPOMoqOjdfDgQSUmJqpChQoaMmSIsY2vr6/q1q2rX375RSEhIfLx8ZGzs7P%2B/PNPZc%2BeXYsWLdK3336r3bt3a%2BnSpTp8%2BLDeeOMN%2Bfn53TeWSpUqqUePHlq4cKF69%2B6tokWLqkSJEnJ0dNTZs2eN4UPvvPOO1WX0CRMm6JVXXlF4eLgaNWokb29vOTs76%2BjRo4qOjlbOnDk1adKke073CcAOZLGb7yMjI/XKK69o/vz58vLyUufOnTVv3jzVr19fnp6emjhxosqXL6/KlStLkpo1a6apU6fqww8/VHx8vGbOnKkXX3zReG5KeiDZBwA7NXjwYNWuXVufffaZ9uzZo%2B3bt8vZ2VmVKlVSYGCgunTpkuLG1qlTp2rixInavHmz/vzzT3l4eKhZs2bq06ePihcvrsKFC%2BvAgQPatWuXjh49muaZft566y35%2Bflp9erV%2BvPPP7V7927dvn1b7u7uatWqlV5%2B%2BWXjqkEyT09PrVixQosXL9amTZt09OhR3b59W56enmratKl69uyZpnmuASA9JSfqt2/fliTjSmh4eLgSEhIUERFhPA28U6dOunDhgrp27arr16/L39/f6sbgMWPGaNSoUQoICJCTk5NatWr1wAd1PSwHy%2BO4MwAAAAB4WP88BC/dPWB%2BfHuSta6NAAAAAEgzhvEAAADAnLLYmH0zogczWEJCgtq3b68VK1Zkahxnz55V2bJldfz48YfaLiIiQrVr1zZuoAMAAHhssvBsPGaRKZX9Ro0aKTIy0urx5u7u7mrSpIn69%2B%2BvPHnyZEZYGWLatGkqUKCAXnzxxcd%2B7I0bN6ps2bI23cD29NNPq1evXnrzzTe1YsUKHkkPAACQhWRa5jZy5EiFh4crPDxc%2B/bt09y5c/Xrr7/qww8/zKyQ0t2lS5e0dOlSBQcHZ8rxp02bplOnTtm8n86dO6eYdxsAACDDUdm3mSnO1sHBQWXKlNHrr7%2BuTZs2Ge3nzp1Tnz595O/vLz8/Pw0bNkyxsbHG8l9%2B%2BUVt2rRR1apVFRQUpO3btxvLtm/fro4dO8rX11f16tWzevLj9OnT9cYbb2j%2B/PmqU6eO/Pz8NG7cOGP5zZs39e6778rf3181a9bUu%2B%2B%2Ba8x92q5dO6vYd%2B7cqSpVqljFlWzVqlUqXry4fHx8JP1vKM3WrVvVokUL%2Bfj4aPjw4Tp9%2BrQ6deqkqlWrqmvXrrpy5Yqxjy%2B%2B%2BMJYt3nz5vruu%2B%2BMZV27dtWcOXM0dOhQVatWTfXq1dM333wjSWrTpo2OHj2qvn37avjw4cY2EREReuGFF1S5cmV17NhRf//9tyTp4sWLCg4Olr%2B/v6pVq6bu3bvrzJkzkpIeChEUFKQvvvgiLR8nAABA%2BiDZt5mpzjYhIcF4b7FY1LdvXxUpUkRbt27V999/r8jISKPyHxkZqZCQEPXp00d//PGHXnnlFQUHBysmJkZ///23%2Bvbtq86dO2vnzp1asGCBvvjiC61du9bY/65du3T79m398MMPmjZtmj799FPt27dPkjR58mQdO3ZM69ev13fffaf9%2B/dr5syZCgoK0oEDB6zGvW/YsEENGzaUi4tLivPZsWOHatasmaJ99erV%2BvLLL7VgwQKtWrVKb7/9tj7%2B%2BGNt2rRJERERWrlypSRpy5Yt%2BvjjjzV27Fjt3LlT/fv319ChQ3X48GFjX59//rnatGmj3377TR06dNCYMWOUkJCgNWvWSJJmzZql999/31j/q6%2B%2B0uzZs/Xjjz8qNjZWCxYskCR98skncnV11U8//aRffvlFxYsXt7rK4u/vr127dhnzxj5IVFSU9u/fb/WKiopK07YAAABIH6ZI9u/cuaODBw9q/vz5at26taSkBxMcPXpUQ4cOVa5cuVSwYEGFhIRozZo1slgsWr9%2Bvby8vBQYGCgnJye1a9dOY8eO1Z07d7Ru3TqVKVNGbdu2VbZs2VS2bFl16tTJqHpLSY9v7927t3LkyKFatWrJzc1Nx48fl8Vi0erVq9WjRw%2B5ubnJzc1NEyZMUJ06dVSsWDE9%2B%2ByzVl8awsLCjJj/7ejRo/L29k7R/sILLyhv3rzy8/NT3rx5VadOHXl5ecnd3V1VqlQxboZdsWKFWrVqpWeffVZOTk4KDAxU%2BfLltWHDBmNfyVcunJyc1KJFC8XGxt43qe7SpYs8PDzk5uamWrVqKSIiQlLS45udnJyUI0cO5c6dW%2B%2B9957VQx/KlCmjmzdvGtX%2BBwkNDVW7du2sXqHLl6dpWwAAYB53pR2PH5V9m2Xa1Jvjxo3ThAkTJCUl%2B7ly5VLXrl2N8e1nzpxRYmKi/P39rbZLTExUdHS0Tp8%2BrWLFilkta9mypSTp9OnTCg8PN55wJiVdKXj66aeN35966imrm01z5cqluLg4RUdH6%2BrVq1b7LleunPE%2BKChIc%2BfO1cCBAxUeHq7r16%2Brfv36qZ5jTEyM8ufPn6K9SJEixntnZ2erR707Ozsb1fOzZ8%2BmuDJQokQJnTt3zvj97jhz5swpSYqLi0s1ntTWTz7Wa6%2B9pjfeeEM///yz6tatqxYtWqhWrVrGugUKFJAkRUdH33Pfd%2BvYsaMaNWpk1ebeurW0ZEmatjetcuWkZcukLl2kQ4cyO5pHduSLXZkdgs2cnaUSJaRTp56oZ6OYkj19Ft5OEZkdgu1y5JCKFpXOnZPSeDXWjLadf/rBK5lcnjySj4%2B0d690/XpmR4MnVaYl%2ByNHjlTnzp0lJY29Dw4OVlBQkLJnTwrJ2dlZuXPn1u7du1Pd3tHRUXfu3El1Wc6cOfXcc89pzpw59zz%2BvWaVSW6/175btGihcePGac%2BePfrhhx/UvHnzFI%2Bbv1tqj5L/d9u9YrnXkJm7t0%2Bv2XEqV66sLVu26Oeff9bWrVvVr18/dejQQW%2B99ZbVMdP6wGUPDw95eHhYN0bYwR/RZIcOSff4bzMruHkzsyNIP7du2df5ZGV28Vkk3rtYkuXEx0v3Kf6Y3bVrmR1B%2Brl%2B3b7O57F6wqrwGcEUPVi3bl0FBATo3XffNZLJ4sWL68aNG1bDRmJjY43KcrFixYwhKMk%2B%2B%2BwznTlzRsWLF9eRI0esEtMLFy6kabx5/vz5lS9fPqt979%2B/3xgC5OLiooCAAH3//fdav3692rRpc999pbUSnprixYvrxIkTVm0nTpyQl5fXI%2B/zXmJiYuTk5KSAgACNHTtWs2fPtroh9/Lly5IkNze3dD82AABAqhjGYzPTnO2IESN06NAhhYaGSpK8vb3l6%2Bur8ePH6/Lly7p69apGjRqlYcOGSZJatWql8%2BfP68svv1R8fLy%2B/fZbTZ48WXny5FHLli0VExOjWbNmKS4uTmfOnFGPHj20JI1DSNq1a6cFCxYoMjJS0dHRGjt2rI4ePWosDwoK0ldffaWEhARVr179nvspU6aM1XYPKygoSGvXrtWePXuUkJCgVatW6ejRo8ZwpQdxdnbWqVOnUp0p6N86deqk%2BfPn69atW0pISNDevXut5uc/duyYcubMmSFfNAAAAJAxTJPsFypUSG%2B%2B%2BaY%2B/vhjRUZGSpImTZoki8WigIAANWnSRImJifrggw%2BM9f/zn/9o8eLF8vPz07x58zRz5ky5ubmpQIECmjVrljZv3iw/Pz%2B9/PLLatiwoXr06JGmWAYPHqwqVaooMDBQgYGBKlOmjPr162csr1u3rnLlyqVWrVqlOkwnWc2aNbVjx45H7pOWLVuqd%2B/eGjZsmPz9/bVs2TItXLhQJUuWTNP2nTp10kcffaShQ4c%2BcN2pU6fqhx9%2BUM2aNVW7dm1t375dEydONJb/9ttvql69%2Bn2HLAEAAKQrKvs2c7CkdRA2DLGxsXruuee0atWq%2Bz6d9tKlS2rUqJE%2B/fRTValS5TFGmL7i4%2BPVsGFDjRo1Sk2bNn30Hd3ni1GW4esr7dolVauWpcfs792T9f/Z58oleXtLR47YwTjxLM6ePgufHAczOwTb5cwpPf100n1SWXjM/obT5TM7BJvlzSvVri1t25b1x%2Bw3a5ZJB75rEpN09U9h%2BUnwZH21SQe3bt3SmDFjVLdu3fsm%2BpJUsGBBdevWTbNmzXpM0WWM5cuXy9PTU40bN87sUAAAwJOEyr7NnqyztdHOnTvl5%2BenS5cuadSoUWnapn///rp06ZJWrFiRwdFljJMnT2ru3LmaPHlyus38AwAAkCYk%2BzbLtKk3s6Jnn33WeMpuWjk5Oemrr77KoIgyXsmSJbVt27bMDgMAAACPgGQfAAAA5vSEVeEzAj0IAAAA2Ckq%2BwAAADAnKvs2I9kHAACAOZHs24weBAAAAOwUlX0AAACYE5V9m9GDAAAAgJ2isg8AAABzorJvM5J9AAAAmBPJvs3oQQAAAMBOUdkHAACAOVHZtxk9CAAAANgpKvsAAAAwJyr7NiPZBwAAgDmR7NuMHgQAAADsFJV9AAAAmBOVfZvRgwAAAICdorIPAAAAc6KybzOSfQAAAJgTyb7N6EEAAADATlHZBwAAgDlR2bcZPQgAAADYKSr7AAAAMCcq%2BzYj2QcAAIA5kezbjB4EAAAA7BSVfQAAAJiTSSv7586d0%2BjRo7V3717lzp1bgYGBGjx4sBz/FW%2BPHj30xx9/WLXdvn1bwcHB6tevn7p27apdu3ZZbff0009rzZo16RYryT4AAADwEEJCQlSxYkWFhYXp0qVL6t27twoVKqRXX33Var2FCxda/X716lUFBgaqSZMmRtvYsWPVrl27DIvVnF%2BXAAAAAEfHjHnZIDw8XIcOHdKQIUOUN29elSxZUt27d1doaOgDt506daqaNGmismXL2hTDw6CyDwAAAHPKoGE8UVFRunDhglWbu7u7PDw8Hrjt/v37VbRoUbm6uhptFStWVEREhGJjY%2BXi4pLqdqdOndLq1asVFhZm1f7dd99pwYIFOn/%2BvHx8fDRmzBgVL178Ec4qdVT2AQAA8EQJDQ1Vu3btrF5pqcxLUkxMjPLly2fVlpz4R0dH33O7efPm6YUXXpCbm5vRVqpUKZUpU0bLli3T5s2b5ebmptdee03x8fGPcFapo7IPAAAAc8qgyn7Hjh3VqFEjqzZ3d/c0b2%2BxWB7qeDExMfrmm2%2B0fv16q/b33nvP6vcxY8bI399f//3vf1WrVq2HOsa9kOwDAADAnDIo2ffw8EjTkJ3UuLm5KSYmxqotJiZGDg4OVlX7u23evFlPP/20vLy87rtvFxcXubq6KjIy8pFiSw3DeAAAAIA0qlSpks6fP6/Lly8bbeHh4SpdurTy5MmT6jabN29WnTp1rNpiY2P13nvvWSX2ly9f1uXLlx/4peBhkOwDAADAnEw4G0%2BFChVUuXJlTZo0SbGxsTp%2B/LgWLVqkzp07S5KaN2%2BunTt3Wm1z8OBBFStWzKrNxcVFe/fu1bhx4xQTE6MrV65o9OjRKlu2rHx9fW2K8W4k%2BwAAAMBDmDZtmqKiolSnTh1169ZNbdu2VZcuXSRJERERunHjhtX6Fy5cUKFChVLsZ%2BbMmbJYLGrWrJkaNGighIQEzZs3L8XDuWzBmH0AAACYk0mfoFu4cGHNnz8/1WWHDx9O0fbnn3%2Bmuu5TTz2lGTNmpGts/0ayDwAAAHMyabKfldCDAAAAgJ2isg8AAABzorJvM5J9PDZ79zzcAyjMKFcuyVvSkS926ebNzI7m0flUdcjsEGzn6yvt2iXvTtWk3bszO5onmz19Fi%2B/nNkR2K5ECWncOOk//5FOncrsaB5Zs379MjsE2%2BXOLamyaucNl7LdeODq5uaf2QHgEZHsAwAAwJyo7NuMZB8AAADmRLJvM3oQAAAAsFNU9gEAAGBOVPZtRg8CAAAAdorKPgAAAMyJyr7NSPYBAABgTiT7NqMHAQAAADtFZR8AAADmRGXfZvQgAAAAYKeo7AMAAMCcqOzbjGQfAAAA5kSybzN6EAAAALBTVPYBAABgTlT2bUYPAgAAAHaKyj4AAADMicq%2BzUj2AQAAYE4k%2BzajBwEAAAA7RWUfAAAA5kRl32b0IAAAAGCnqOwDAADAnKjs24xkHwAAAOZEsm8zehAAAACwU1T2AQAAYE5U9m1GDwIAAAB2iso%2BAAAAzInKvs1I9gEAAGBOJPs2owcBAAAAO0VlHwAAAOZEZd9m9CAAAABgp6jsAwAAwJyo7NuMZB8AAADmRLJvM3oQAAAAsFNU9gEAAGBOVPZtRrIPAAAAcyLZtxk9CAAAANgpKvsAAAAwJyr7NqMHAQAAADtFZR8AAADmZNLK/rlz5zR69Gjt3btXuXPnVmBgoAYPHizHf8U7ffp0zZo1S9mzW6fcP/zwgwoVKqRbt25p/Pjx2rp1q27duiV/f3%2BNHj1aBQoUSLdYzdmDAAAAgKNjxrxsFBISIk9PT4WFhWnRokUKCwvTkiVLUl03KChI4eHhVq9ChQpJkqZMmaL9%2B/crNDRUGzZskMVi0fDhw22O724k%2BwAAAEAahYeH69ChQxoyZIjy5s2rkiVLqnv37goNDX2o/dy%2BfVsrVqxQ3759VaRIEeXPn18DBw7U1q1bFRkZmW7xMowHAAAA5pRBw3iioqJ04cIFqzZ3d3d5eHg8cNv9%2B/eraNGicnV1NdoqVqyoiIgIxcbGysXFxWr9w4cPq1OnTjpy5IiKFCmi4cOHq27dujp9%2BrSuXbumihUrGuuWKlVKOXPm1P79%2B%2BXp6WnjWSYh2QcAAMATJTQ0VDNmzLBq69evn0JCQh64bUxMjPLly2fVlpz4R0dHWyX7hQsXlpeXlwYPHiwPDw%2BFhoaqT58%2BWrNmjWJiYiQpxb7y5cun6OjoRzqv1JDsAwAAwJwyqLLfsWNHNWrUyKrN3d09zdtbLJY0rde%2BfXu1b9/e%2BL179%2B769ttvtWbNGtWvX/%2Bh9vWoSPZN5uzZs%2BrUqZMWLVqkMmXKWC0bOXKk4uPj9dFHHz2WWCwWi3r06KGaNWuqd%2B/ej%2BWYAAAAhgxK9j08PNI0ZCc1bm5uRlU%2BWUxMjBwcHOTm5vbA7YsWLaqoqChj3ZiYGOXJk8dYfuXKFRUsWPCRYktNpiT7jRo1UmRkZIrpiQoXLqxNmzZlRkimYLFYNGTIEHXv3l1lypRRYmKili5dqldffVWSNG7cuMcaj4ODg95//321atVKderUUaVKlR7r8QEAAMymUqVKOn/%2BvC5fvmwk7OHh4SpdurRV0i5Js2bNkq%2Bvr2rVqmW0HT9%2BXIGBgfLy8pKrq6txD4AkHTlyRPHx8emac2XabDwjR45MMQ3Rk5zoS0lzrkZEROill16SJB04cEALFizI1JgKFy6stm3bphjXBgAAkOFMOPVmhQoVVLlyZU2aNEmxsbE6fvy4Fi1apM6dO0uSmjdvrp07d0pKqtqPHj1aJ06c0K1bt7Rw4UKdPn1azz//vLJly6YOHTpozpw5On/%2BvO4V0sYAACAASURBVKKjozV58mQ1adLEmJozPZhy6s3p06erd%2B/eGjhwoKpVqyZJiouL05gxY9SgQQNVrVpVXbt21bFjx4xttm/frqZNm8rHx0c9e/bUggULjLFYq1atUp06dayO0aFDB02fPt34/bPPPlOLFi3k4%2BOjli1bKiwszFjWtWtXzZkzR0OHDlW1atVUr149ffPNN8byM2fOqEePHvL19VXDhg21dOlSSdIrr7yiDz74wOq4M2fOVKdOnVI97%2BXLl6t169bKlSuX9u3bp06dOunixYuqXLmyduzYobfffluDBg0yzql169YKDQ1VnTp1VKNGDS1btkw//vijmjZtqmrVqmnUqFHGvh/Uf/PmzVPDhg3l4%2BOjZs2aWZ1fx44d030aKAAAgKxq2rRpioqKUp06ddStWze1bdtWXbp0kSRFREToxo0bkqTBgwerfv366t69u/z8/LRu3TotXrxYhQsXliT1799fPj4%2BCgoKUkBAgPLkyaPx48ena6ymHbO/Z88eDRgwQJMmTZIkTZw4UQcOHFBoaKhcXV01bdo09evXT%2BvXr9edO3f01ltvqWXLlho4cKAOHDigQYMGpRgmdC8bN27UjBkztGDBApUrV05btmzRwIEDtXHjRj311FOSpM8//1wTJkzQhAkTNGfOHI0ZM0aBgYFycnJSv379VKNGDc2cOVMnT57USy%2B9pFKlSqlt27aaPHmyhg0bZsSyceNGdejQIUUMt2/f1s6dO9WxY0dJUpUqVTR27FhNmjRJv/76qyRp9erVVtucO3dOkZGR%2BuGHH7RgwQJ9/PHHCggI0Ndff639%2B/era9euat%2B%2BvSpVqnTf/tu9e7eWLl2qL7/8UkWKFNGvv/6qkJAQ1a1bVwULFlSZMmVUoEAB7dixQ0FBQWnq09SmtIqNdZe7%2B6ONjzMLZ2frn1mWr29mR2C7cuWsfyLz2NNnUaJEZkdguyJFrH9mVblzZ3YEtsuZ0/pnVvVP4popTPoE3cKFC2v%2B/PmpLjt8%2BLDx3tnZWSNGjNCIESNSXTdHjhwaNWqUVYE2vZk22c%2BWLZs6d%2B4sBwcH3blzR6tWrdLUqVONOUcHDhyozz77TPv27ZPFYlFUVJR69%2B4tZ2dn%2Bfr6qnHjxtqyZUuajrVixQq9%2BOKLxviopk2bqnr16lq3bp169eolSfL19VW9evUkSS1atNCMGTMUFRWlK1eu6PDhw1qyZIly5cql8uXLa8aMGfL09FTVqlU1ZswY/fbbb6pVq5bOnDmj48ePq0WLFiliOHfunG7cuCFvb%2B8091FcXJxef/115ciRQw0bNtQnn3yiTp06KU%2BePKpRo4by5s2rU6dOqUKFCvftv2vXrsnR0VE5c%2BaUg4OD6tatq//%2B979WX5ZKly6to0ePpjm21Ka0Cg7up/79HzylVVaQ5fOBXbsyO4L0s2xZZkeAZHwW5hIcnNkRINm/JtzIcn77LfOObdJkPyvJtGR/3LhxmjBhglVbzZo1jW9JhQsXloODgyTp0qVLun79uvr27Wu0SdKdO3d0/vx5SZKLi4vy589vLCvxENnY6dOn9euvv1o95thisah06dLG78WKFTPe5/znG3pcXJxOnz6d4ti1a9c23jdu3Fhr1qxRrVq1tHHjRtWpUyfVO7WT7%2Bq%2B%2BwEND%2BLq6qpcuXJJSvpmKMnqAQzOzs66devWA/uvUaNGqlChgho1aqRatWqpfv36CgoKUu67qioFChTQ5cuX0xxbalNaxcS468iRNO/ClJydkxL9U6ekW7cyO5pH592pWmaHYLty5ZKSyy5dpEOHMjuaJ5s9fRaBgZkdge2KFElK9GfOlP75G5kl/XOlO0vLmTMp0T96VIqLy%2Bxo8ITKtGR/5MiRxo0Mqcme/X%2BhJSfXX3zxRap3J69fvz5F2507d%2B57/MTERKv9Dx48WD169Ljn%2BvcaEuTo6HjfY7Vt21b9%2B/fX6NGjtWnTJr388sv3jevuZPxBUospte0f1H%2BSNGfOHB06dEibN2/W559/roULF2rVqlXKmzevsd%2BHmQc2tSmt9u6Vbt5M8y5M7datLH4uu3dndgTp59Ah%2BzqfrMwePou7nmSZ5Z0/n1SZyKoyc%2BhIeouLs6/zeZyo7NssS/Rg3rx5lT9/fqsxUFLSnPRSUmIZGxurq1evGsvuHnLi7Oysm3dlZomJiTp37pzxe/HixVPs%2B6%2B//kpTcuvl5aXr168rKirKaAsLC9Pvv/8uSapVq5by5Mmjr776SkePHlVAQECq%2B0m%2BMvDveVvTw4P6LyEhQbGxsSpXrpyCg4O1evVqOTg4aNu2bca6d08vBQAAgKwhSyT7ktSpUyfNnj1bx48fV0JCghYvXqwXX3xRN2/eVJUqVVSgQAHNmzdP8fHx2r17t7Zu3WpsW6JECV2/fl2//PKL4uPjNXfuXKtEvmPHjvruu%2B%2B0detW3b59Wzt27FCrVq20d%2B/eB8ZVvnx5VahQQVOnTtX169d15MgRvfPOO4r753Kdo6OjWrdurcmTJysgIMAYdvNvTz31lHLnzq0jd41zyZkzp65du6bIyEhjf4/qfv23cOFCvf766/r7778lJc3/euXKFRUvXtzY/vjx4w91PwEAAIDNTDj1ZlZj2ht0/61v3766evWqunTpooSEBJUvX17z5883kuepU6dqzJgx%2BvTTT1W9enW99NJL%2BuqrryQlPfyge/fuGjRokLJly2ZMk5msTp06euuttzRmzBhdvHhRxYoV03vvvaeqVaumKbY5c%2BZo2LBhql27tgoWLKi%2Bffsaj0CWkobyLFiwQK1bt77nPpycnPTss89qx44daty4saSkexiKFSumxo0b68MPP3zoPrvb/frv1Vdf1V9//aW2bdsqLi5ORYoU0ZAhQ1S%2BfHlJ0rFjx3T58mXVrFnTphgAAAAeyhOWmGcEB8vDDMTOQpYvX6758%2BeneUaejLRjxw6NGDFCYWFh950OdMuWLRoxYoS2bt1qjLM3g/Hjx%2BvMmTOaM2eOTftJw4US08uVS/L2lo4cydpj9n2qpv3eENPy9U2aVahataw/Tjyrs6fP4gH3VWUJJUpI48ZJI0dm7TH7/fpldgS2y51bqlxZCg/P%2BmP2/f0z57hTpmTMfv95btGTgK9LGSwqKkoTJkxQz549Hzjvf8OGDVWyZEktM9H0dZGRkVq9erX62cP/dAEAQNbCMB6bPVln%2B5jNnTtXLVq0kJ%2Bf331nHkrm4OCgiRMnauHChVZPt80sFotFw4cP12uvvXbPWXwAAABgXllmzP7D6ty5c5oS7IzUu3dv9e7d%2B6G2KVasmH755ZcMiujhODg4aOHChZkdBgAAeFI9YVX4jGC3yT4AAACyOJJ9m9GDAAAAgJ2isg8AAABzorJvM3oQAAAAsFNU9gEAAGBOVPZtRrIPAAAAcyLZtxk9CAAAANgpKvsAAAAwJyr7NqMHAQAAADtFZR8AAADmRGXfZiT7AAAAMCeSfZvRgwAAAICdorIPAAAAc6KybzN6EAAAALBTVPYBAABgTlT2bUayDwAAAHMi2bcZPQgAAADYKSr7AAAAMCcq%2BzajBwEAAAA7RWUfAAAA5kRl32Yk%2BwAAADAnkn2b0YMAAACAnaKyDwAAAHOism8zkn0AAACYE8m%2BzehBAAAAwE5R2QcAAIA5Udm3GT0IAAAA2Ckq%2BwAAADAnKvs2I9kHAACAOZHs24weBAAAAOwUlX0AAACYE5V9m9GDAAAAgJ2isg8AAABzMmll/9y5cxo9erT27t2r3LlzKzAwUIMHD5ZjKvEuX75cixcvVlRUlIoXL66QkBA1btxYkvT2229rzZo1ypYtm7G%2Bs7Ozdu7cmW6xkuwDAADAnEya7IeEhKhixYoKCwvTpUuX1Lt3bxUqVEivvvqq1XobNmzQpEmTNHfuXFWpUkWrV6/WwIEDtX79enl5eUmS3njjDYWEhGRYrObsQQAAAMCEwsPDdejQIQ0ZMkR58%2BZVyZIl1b17d4WGhqZYNy4uTm%2B%2B%2BaaqV68uJycntW/fXnny5NGePXseW7xU9gEAAGBOGVTZj4qK0oULF6za3N3d5eHh8cBt9%2B/fr6JFi8rV1dVoq1ixoiIiIhQbGysXFxejPSgoyGrbq1ev6vr16/L09DTaduzYoc2bN%2BvUqVMqVaqU3nvvPVWqVOlRTy0Fkn0AAAA8UUJDQzVjxgyrtn79%2BqVpOE1MTIzy5ctn1Zac%2BEdHR1sl%2B3ezWCwaOXKkfHx8VKNGDUmSl5eXHB0dNWDAAOXJk0czZsxQjx49tGHDBhUoUOBRTi0Fkn0AAACYUwZV9jt27KhGjRpZtbm7u6d5e4vF8lDHS0hI0Ntvv61jx45p6dKlRntwcLDVekOHDtW6desUFham9u3bP9Qx7oVkHwAAAOaUQcm%2Bh4dHmobspMbNzU0xMTFWbTExMXJwcJCbm1uK9ePi4tS3b1/dvHlTn3/%2B%2BX0r9tmyZVORIkUUFRX1SLGlhht0AQAAgDSqVKmSzp8/r8uXLxtt4eHhKl26tPLkyWO1rsVi0aBBg5Q9e3YtXrzYKtG3WCx6//33dejQIaMtPj5ep0%2BfNmbqSQ8k%2BwAAADAnR8eMedmgQoUKqly5siZNmqTY2FgdP35cixYtUufOnSVJzZs3N%2BbJX7t2rY4dO6ZPPvlEzs7OVvtxcHDQ2bNnNXr0aEVGRur69euaOHGinJycjHn40wPJPgAAAPAQpk2bpqioKNWpU0fdunVT27Zt1aVLF0lSRESEbty4IUlauXKlzp07pxo1aqhy5crGa%2BTIkZKk8ePHq2TJkmrXrp1q166tgwcPasmSJcqdO3e6xcqYfQAAAJiTSR%2BqVbhwYc2fPz/VZYcPHzbeL1my5L77yZ8/v95///10je3fSPYBAABgTiZN9rMSehAAAACwU1T2AQAAYE5U9m1GDwIAAAB2iso%2BAAAAzInKvs1I9gEAAGBOJPs2owcBAAAAO0VlHwAAAOZEZd9m9CAAAABgp6jsAwAAwJyo7NuMZB8AAADmRLJvM3oQAAAAsFNU9gEAAGBOVPZtRg8CAAAAdorKPgAAAMyJyr7NSPYBAABgTiT7NqMHAQAAADtFZR8AAADmRGXfZvQgAAAAYKeo7AMAAMCcqOzbjGQfAAAA5kSybzN6EAAAALBTVPYBAABgTlT2bUayDwAAAHMi2bcZPQgAAADYKSr7AAAAMCcq%2BzajBwEAAAA7RWUfAAAA5kRl32Yk%2BwAAADAnkn2b0YMAAACAnaKyDwAAAHOism8zehAAAACwU1T2AQAAYE5U9m1Gsg8AAABzItm3GT0IAAAA2Ckq%2BwAAADAnKvs2owcBAAAAO0VlHwAAAOZEZd9mJPsAAAAwJ5J9m9GDAAAAgJ2isg8AAABzorJvM3owja5evarGjRtr27Ztj%2B2YZcuW1U8//ZTqst9%2B%2B01ly5bVrVu3MuTYderU0apVq/TNN9%2BoTZs2GXYcAAAAZJyHSvYbNWqkqlWr6vr16ymWLV68WGXLltWqVavSLbj7WbRokW7fvv1YjiVJ7733nurVq6fatWs/tmOaQVBQkIoWLapJkyZldigAAOBJ4%2BiYMS8bnTt3Tr169ZK/v78aNmyojz/%2BWHfu3El13aVLl6pZs2aqVq2aOnfurD///NNYduvWLf3f//2f6tevL39/f/Xv31/R0dE2x3e3hz7b3LlzKywsLEX72rVr5ebmli5BPcjly5f14YcfKjEx8bEc7/Dhw9q4caN69%2B79WI5nNv369dPy5csVFRWV2aEAAIAniUmT/ZCQEHl6eiosLEyLFi1SWFiYlixZkmK9LVu2aPr06froo4%2B0bds2NWzYUH369NGNGzckSVOmTNH%2B/fsVGhqqDRs2yGKxaPjw4TbHd7eHPtvnnntOa9assWo7deqUoqOjVbp0aav2L774Qi1atJCPj4%2BaN2%2Bu7777zljWtWtXzZkzR0OHDlW1atVUr149ffPNN8byc%2BfOqU%2BfPvL395efn5%2BGDRum2NhYXbx4UfXr15fFYtGzzz5rXElYvHixGjduLF9fX7Vo0UIbN2409vX222/rnXfeUdeuXdWqVSuNGDFCISEhVrGuXr1azz33XKrfypYvX666deuqcOHCRtsvv/yiNm3aqGrVqgoKCtL27dvv2WcLFy5Uw4YNVa1aNfXs2VNnz569XxdbOXPmjDp27KiqVavqxRdf1LFjx1Jd7%2B%2B//9Ybb7whf39/Va9eXYMGDVJMTIyxfOfOnerQoYN8fX1Vt25dTZkyxTjX27dva%2BzYsfL391e9evX01VdfWe27YsWK8vb2fmxXbQAAAMwqPDxchw4d0pAhQ5Q3b16VLFlS3bt3V2hoaIp1Q0ND1a5dO/n4%2BChnzpx67bXXJEk//PCDbt%2B%2BrRUrVqhv374qUqSI8ufPr4EDB2rr1q2KjIxMt3gf%2BgbdRo0aaejQobp48aIKFSokKamq36xZM6vLElu2bNHHH3%2BsuXPnysfHR5s2bdLQoUNVqlQplS1bVpL0%2Beefa8KECZowYYLmzJmjMWPGKDAwUNmzZ1ffvn1VrVo1TZkyRTdu3NCbb76pDz/8UGPHjtV//vMfdevWTTt37pSzs7P%2B%2BOMPTZo0SStXrlSZMmX09ddfa8iQIdq6datxtWHz5s16//331aBBA/3xxx/q2bOnrl27prx580qSNm7cqJYtW8oxlW9727dvV%2BfOnY3fIyMjFRISovHjx6tJkyZau3atgoODtWXLFuXPn99q27CwMM2fP1%2BLFi3SM888ozFjxmjIkCH64osv0tTfy5Yt09SpU/XUU0/p3Xff1YABA/Ttt9%2BmWK9v374qXbq0Nm/erLi4OA0YMECjRo3SJ598oosXL6pnz54aNmyY2rdvr2PHjun111%2BXh4eHXnrpJa1cuVLff/%2B9li1bpiJFiujDDz/UlStXrPZfo0YN7dixQ3369ElT3FFRUbpw4YJVW2ysu9zdPdK0vVk5O1v/zLJ8fTM7AtuVK2f9E5nHnj6LEiUyOwLbFSli/TOryp07syOwXc6c1j%2Bzqn%2Bq0Jkig27QTS1PcXd3l4fHg/OU/fv3q2jRonJ1dTXaKlasqIiICMXGxsrFxcVq3cDAQON3R0dHlS9fXuHh4SpfvryuXbumihUrGstLlSqlnDlzav/%2B/fL09LTlFA0Pnezny5dPdevW1Xfffadu3bpJkr799ltNnjzZKtlfsWKFWrVqpWeffVaSFBgYqIULF2rDhg1Gsu/r66t69epJklq0aKEZM2YoKipKly5d0tGjR7V8%2BXLlypVLuXLlUkhIiHr27KkxY8akiKl69er69ddflS9fPklSq1atNHz4cB05ckQ1a9aUJBUtWlQNGzaUJPn5%2Bcnd3V3ff/%2B92rdvrxs3bujXX39V//79U%2Bw7ISFBJ0%2BeNGKWpPXr18vLy8v48Nq1aydnZ%2BdUrwqsXLlSLVu2VLl//ggOGjRIv//%2Bu%2B7cuZPqF4t/CwoKUpkyZSRJvXr1UlBQkM6dO2e1zsGDB7V//37NnTtXLi4ucnFxUa9evRQcHKz4%2BHitW7dOTz31lF566SVJUoUKFRQUFKT169frpZde0qZNm9S6dWuVKlVKkjRgwIAU3069vb1TXNG5n9DQUM2YMcOqLTi4n/r3D7nHFllLls8Hdu3K7AjSz7JlmR0BkvFZmEtwcGZHgGT//B3Psn77LbMjSHep5Sn9%2BvVLMfIjNTExMUbOmSw58Y%2BOjrZK9mNiYqy%2BFCSvGx0dbYzA%2BPe%2B8uXLl67j9h9p6s22bdtqzpw56tatmw4cOGB8S7nb2bNnjUQ7WYkSJawS1WLFihnvc/7zrTcuLk5nzpxRYmKi/P39rbZPTExM9eQTExM1c%2BZMff/997p8%2BbLRHh8fb7wvWrSo8d7BwUFt2rTR2rVr1b59e/3000/y8vIyEvK7JVe47/6gTp8%2BbRW7JLVs2TLFtlLSMJy7z6NgwYJq0aJFquumJjkBlyQvLy9JSnFp5%2BzZs3J1dZW7u7vRVrx4cSUkJCgyMlJnz5612o%2BU9FmsX7/e2F%2BDBg2MZW5ubin%2BwyxQoICio6NlsVjk4ODwwLg7duyoRo0aWbXFxLjryJEHbmpqzs5Jif6pU1JWnqDIu1O1zA7BduXKJSWXXbpIhw5ldjRPNnv6LO6qwGVZRYokJfozZ0rnz2d2NI%2BuY8fMjsB2OXMmJfpHj0pxcZkdTZZk0YNzjkeRWp5ydx71IBaLJd3WfZh9PYpHSvbr16%2Bvd955RydPntTatWvVunXrFOvcnWjf7e5E8V6VbWdnZ%2BXOnVu7d%2B9OUzwzZ87U%2BvXrNWfOHJUrV04Wi0UVKlSwWidbtmxWv7dt21Zz585VZGSkUdm%2Bn3/Hfa87rlPbzpYP8e4%2BSt6Ps7OzEhISjPZ79XXy8R/0WcTHx6eY2ejf55eWBP9uHh4eKS6F7d0r3bz5ULsxrVu3svi5pPHfVpZw6JB9nU9WZg%2BfxV2X07O88%2BeTKhNZVWYOHUlvcXH2dT6PURrTrYeWWp6SVm5ublb3RUpJFXwHB4cUk9UUKFAg1XXLlCljrBsTE6M8efIYy69cuaKCBQs%2BUmypeaSBUDly5FCLFi20YcMGbdiwQa1atUqxTvHixXXixAmrthMnThjV6fspXry4bty4oTNnzhhtsbGx97ykER4eroCAAFWoUEGOjo7av3//A49RsmRJValSRWvWrNHWrVvvmewnV7jv/qCKFSumiIgIq/U%2B%2B%2Bwzq3iTeXl5Wa17%2BfJlLVy40CpZv5%2B7t03e/7/HcHl5eenKlSu6ePGi0XbixAk5OzvL09PzgZ%2BFh4eH/v77b2NZVFSUrl69arX%2B5cuXlT9//odO%2BgEAAOxJpUqVdP78eavRJOHh4SpdurRV0p687t15aWJiog4cOCAfHx95eXnJ1dXVavmRI0cUHx%2BvSpUqpVu8j3zXQ9u2bRUaGipPT88UQ1qkpLHma9eu1Z49e5SQkKBVq1bp6NGj9xzucjdvb2/5%2Bvpq/Pjxunz5sq5evapRo0Zp2LBhkv435CciIkI3btxQ0aJFdejQId28eVPHjh3TggULlDdv3gfeyRwUFGRcDXjqqadSXcfJyUklS5bUkbvGn7Rq1Urnz5/Xl19%2Bqfj4eOOeheQPuHnz5tq5c6ck6YUXXtC3336rvXv3Kj4%2B3hhu5OTkpH379ql58%2Bb3rcyvXr1ap06dUlxcnBYsWCBfX1/jxuhklStXVqlSpTRp0iTduHFDkZGRmj17tlq2bCknJye1aNFCZ86cUWhoqG7fvq19%2B/bp66%2B/1vPPPy9JqlevntatW6eTJ08qNjZWU6ZMkfO/7kA9evSovL2979ufAAAA6enOnYx52aJChQqqXLmyJk2apNjYWB0/flyLFi0yJnO5Ow/s3LmzVq9erT179ujmzZuaPXu2cuTIoQYNGihbtmzq0KGD5syZo/Pnzys6OlqTJ09WkyZNUuR6tnjkZL9q1apycnK6Z0W8ZcuW6t27t4YNGyZ/f38tW7ZMCxcuVMmSJdO0/0mTJslisSggIEBNmjRRYmKiPvjgA0lS%2BfLl5evrqxdffFHLly9X7969lZiYqJo1a%2Brtt99WSEiInn/%2BeY0bN06bN2%2B%2B5zFatmypW7duPXAIT61atbRjxw7j90KFCuk///mPFi9eLD8/P82bN08zZ840LsckfwmRpICAAA0aNEjBwcGqWbOmTp48aTyg6ubNm4qIiLjvMJ%2BuXbtq8ODBqlmzps6ePWv0wd0cHBw0a9YsRUVFqUGDBurQoYN8fHz0f//3f5KS7leYMWOGQkND5efnp6FDh2rAgAFq27atJKl79%2B5q2LChOnTooObNm8vX19dqmlFJ%2Bv3331PcgwEAAPAkmjZtmqKiolSnTh1169ZNbdu2VZcuXSRZ54H169fXm2%2B%2BqYEDB6pGjRratm2b5s2bZxSu%2B/fvLx8fHwUFBSkgIEB58uTR%2BPHj0zVWB0tG3xVgYqdPn1bbtm31008/Wd05/W%2BHDh3Siy%2B%2BqM2bN6fbNEhZycGDB9WhQwdt3rz5kce3SUlj9rO6XLkkb2/pyJGsPWbfp6odDMfy9U2aVahataw/Tjyrs6fP4uWXMzsC25UoIY0bJ40cmbXH7Pfrl9kR2C53bqlyZSk8POuP2f/XpCmPS0ZNhpHlp9B%2BCBkzeWkWcO3aNY0aNUqdOnW6b6IvSeXKlVPTpk01b968xxSducyYMUOdO3e2KdEHAAB4WGYcxpPVPJHJ/tq1a1WvXj0VKFAgTfOpStJ7772nH3/88b5PyrVHa9as0ZkzZzR48ODMDgUAAAAP6ZGm3szqWrdu/cBx%2Bv%2BWL18%2BhYWFZVBE5tWmTRu1adMms8MAAABPoCetCp8RnsjKPgAAAPAkeCIr%2BwAAADA/Kvu2I9kHAACAKZHs245hPAAAAICdorIPAAAAU6Kybzsq%2BwAAAICdorIPAAAAU6KybzuSfQAAAJgSyb7tGMYDAAAA2Ckq%2BwAAADAlKvu2I9kHAACAKZHs245hPAAAAICdorIPAAAAU6Kybzsq%2BwAAAICdorIPAAAAU6KybzuSfQAAAJgSyb7tGMYDAAAA2Ckq%2BwAAADAlKvu2o7IPAAAA2Ckq%2BwAAADAlKvu2I9kHAACAKZHs245hPAAAAICdorIPAAAAU6Kybzsq%2BwAAAICdorIPAAAAU6KybzuSfQAAAJgSyb7tGMYDAAAA2Ckq%2BwAAADAlKvu2o7IPAAAA2Ckq%2BwAAADAlKvu2I9kHAACAKZHs245hPAAAAICdorIPAAAAU6Kybzsq%2BwAAAICdorIPAAAAU6KybzuSfQAAAJgSyb7tGMYDAAAA2Ckq%2BwAAADAlKvu2o7IPAAAA2CmSfQAAAJjSnTsZ88pIMTExGjhwoGrXrq26devqnXfeUVxc3D3X37hxo9q0aSNfX181a9ZMX375pbFs%2BvTpKl%2B%2BvCpXrmz1unjxYprjYRgPHhufHAczOwTbOeWU9LS8nSKkxHv/wzW9l1/O7AhsNd4prgAAIABJREFUV6JE0s/AQKlixcyN5UlnT5/FZ59ldgS28/WVxo2TvvtO2r07s6N5ZDfnfZrZIdjMwUHKKSmuTGVZLJkdjW1yZdJxs%2BIwnnfffVfx8fFat26dEhISNGDAAE2cOFEjR45Mse6%2Bffs0ZMgQTZ48WQ0aNNCvv/6q4OBgPfPMM3r22WclSUFBQfrggw8eOR4q%2BwAAAEA6uHjxosLCwjRo0CC5ubnJ09NTffv21cqVK5WQkJBi/ZiYGPXu3VuNGzdW9uzZ9dxzz8nb21s7d%2B5Mt5io7AMAAMCUMqqyHxUVpQsXLli1ubu7y8PDw6b9Hjx4UNmyZVPZsmWNtooVK%2BrGjRs6ceKEVbsk1a9fX/Xr1zd%2Bv337ti5cuCBPT0%2Bj7fDhw%2BrUqZOOHDmiIkWKaPjw4apbt26aYyLZBwAAwBMlNDRUM2bMsGrr16%2BfQkJCbNpvTEyMXFxc5ODgYLS5urpKkqKjox%2B4/cSJE5U7d24FBgZKkgoXLiwvLy8NHjxYHh4eCg0NVZ8%2BfbRmzRo988wz/8/e3cfVeP9/AH%2BdkiLdCDUqMdQyd1kUYsrcq2RuYl/mZ24mhczcbl%2BxG7bFGJoRs9koI7rBKIwvk2lshRoiEnXSfdE53ZzfH%2BbMUTvi6Fynrtfz8fCg67rOOa921ul93ud9fa4aZWKxT0REREQ6qbY6%2B%2BPGjYOHh4fKthYtWtTotpGRkViwYEG1%2BwIDA6F4jhM0FAoFgoODERMTg%2B%2B//x6GhoYAgDFjxmDMmDHK4yZPnowDBw4gKioKc%2BfOrdF9s9gnIiIiIp1UW8W%2BpaXlc4/seHt7w9vbu9p9p0%2BfRnFxMSoqKqCvrw/gYbcfAJo1a1btbSorK7F48WIkJiZi165dsLW1Vfv41tbWkEqlNc7LE3SJiIiIiF4AR0dHKBQKpKSkKLclJSXB1NQUbdu2rfY2n376Ka5evVptoR8SEoIzZ86obEtNTX3qG4LHsdgnIiIiIp1U19bZt7CwwODBg7F27Vrk5uYiMzMTGzduxOjRo9GgwcOBmrfffhsHDx4EAPz%2B%2B%2B%2BIiorC5s2bYW5uXuX%2B8vPzsXz5cly/fh0ymQzbtm3DrVu34OPjU%2BNMHOMhIiIiInpBVqxYgWXLlmHAgAEwMDDAiBEjEBgYqNyfnp6OgoICAMDevXtRVFQEd3d3lfvo0aMHtm3bhvfeew/Aw1n9/Px8tG/fHtu3b8dLL71U4zws9omIiIhIJ9XFi2qZmJhgzZo1/7r/2LFjyn9/%2Bumn%2BPTTT//1WENDQyxZsgRLlix57jws9omIiIhIJ9XFYl/XcGafiIiIiKieYmefiIiIiHQSO/uaY2efiIiIiKieYmefiIiIiHQSO/uaY7FPRERERDqJxb7mOMZDRERERFRPsbNPRERERDqJnX3NsdgnIiIiIp3EYl9zHOMhIiIiIqqn2NknIiIiIp3Ezr7m2NknIiIiIqqn2NknIiIiIp3Ezr7mWOwTERERkU5isa85jvEQEREREdVT7OwTERERkU5iZ19z7OwTEREREdVT7OwTERERkU5iZ19zLPaJiIiISCex2Nccx3iIiIiIiOopdvaJiIiISCexs685dvaJiIiIiOopdvaJiIiISCexs685FvtEREREpJNY7GuOYzxERERERPUUO/tEREREpJPY2dccO/tERERERPUUO/tEREREpJPY2dcci30iIiIi0kks9jXHMR4iIiIionqKnX0iIiIi0kns7GuOnX0iIiIionqKnX0iIiIi0kns7GuOxT4RERER6SQW%2B5oT3RjPBx98gAULFmjt8W7fvg03NzdcvXpVa49ZnYiICPTp0%2BeZbxcZGQkvLy/IZLJaSEVEREREtaledfanTJmCc%2BfOAQAqKipQWVkJAwMD5f6ff/4ZH3/8sdbyKBQKzJ8/H5MnT0aHDh209riPfPvtt5g4cSIaNHj%2Bp9nb2xs///wzVq9ejSVLlrzAdERERETqsbOvuXrV2d%2B2bRuSkpKQlJSEmTNnokuXLsqvk5KSYG1trdU8x48fx40bN/DWW29p9XEBIDc3F5999hkqKio0vi9/f3/s2rULUqn0BSQjIiIiIm2pV8V%2BTSxatAiBgYEAHo62eHp6Ijw8HH369EHPnj2xc%2BdOnDhxAoMGDUL37t2xbNky5W1LS0uxYsUK9O/fH926dcPEiRNx7dq1f32sXbt2wdPTE40aNXqux5PJZPj444/Rv39/dO3aFW%2B99RaSk5OV%2Bx0cHHDkyBGMHz8e3bp1g6enJy5fvox79%2B6hX79%2BUCgUcHZ2RkREhPI2sbGxGDBgADp37owFCxagrKwMAPDnn39i7NixcHJygouLC5YuXYrS0lIAwKuvvgp7e3uV%2ByEiIiKqbZWVtfNHTOrVGM/zyMjIQFZWFo4fP47Q0FB88cUXGDBgAPbt24dLly5h4sSJGDNmDDp16oTg4GBcvnwZ4eHhMDMzw1dffQV/f38cOnQIEolE5X7Ly8uRkJCAcePGPffjffnllzh37hx%2B%2BOEHNG/eHKtXr8aMGTMQFxeHhg0bAgBCQ0OxatUqtGzZEv7%2B/vjyyy%2BxZcsWbN26FZMmTUJCQgIMDQ0RERGBkpIS/P7774iOjkZaWhrGjh2LN954A4MGDcKCBQswdepUvPnmm7h37x78/PwQHh6Ot99%2BGwDQs2dPxMfH4913363Rf1epVIrs7GyVbS1KSmDZosXzPlW64e//7sq/6yo7O6ETaK5lS9W/STj16blwchI6geZeeUX17zrqiV%2BrddKj76Gufy8KhXCPLbbCvDaIvtgvLS3FtGnT0LBhQ7i7u2PdunXw9fWFsbExevbsCRMTE9y8eRMdO3ZEREQE1q5dCysrKwDA3Llz8cMPPyAxMRFdu3ZVud%2BMjAzcv38f9vb2z/V4nTp1wp49e7BixQrY2NioPN758%2Bfh6uoK4OFM/csvvwwA8PDwwNatW//1e5XJZAgICEDjxo3RsWNHvPzyy7hx4wYAoLCwEI0bN4aenh4sLS2xe/du6On988GPvb09oqKiavzfNTw8HBs2bFDZ5j9rFgJmz67xfeg0LY%2BEvXBaPHel1s2aJXQCeqQ%2BPBf16Wdj506hE2jESOgAL5ChodAJNPPggdAJSBOiL/bNzMyUYzaPuuWPinkAMDQ0hEwmQ05ODkpKSuDn56fSxa%2BsrMTdu3erFPv5%2BfnK%2B3%2BexysoKEBRUZGykAcAY2NjNGvWDBkZGcptj94IAECjRo3UrprTtGlTGBsbK782MjKCXC4HAMybNw9LlizB1q1b4ebmBm9vb7Rr107ltnl5eVAoFFU%2BxajOuHHj4OHhobKtRUkJ8PebizqrYcOHhX5GBvD3f7s6Sc2bwjqjZcuHxeXGjcDdu0KnEbf69FwcPCh0As298srDQn/CBCAlReg0z6301/NCR9CYRPKw0JfJhO2O12Xs7GtO9MX%2B493rR6orZo2MHvYYwsLC0KlTpxrf/5P3VdPHk6spJB8/viaFd02OHTNmDN544w0cO3YMR48exciRI/Hll1/ijTfeeObHAQBLS0tYWlqqbkxOBv4%2BD6DOk8vr9vdy86bQCV6cu3fr1/dTl9WH5%2BLCBaETvDgpKXX6%2B6lPxbFCUb%2B%2BH6pbRHeC7vMyMTGBubk5/vrrL5Xtt2/frvZ4c3NzAP90%2BJ9Vs2bNYGxsjOvXryu3FRQUICcnB61bt36u%2B1QnLy8PTZs2xZtvvomQkBDMmDEDe/bsUe7Pzc2Fubn5Mxf9RERERM%2BrLp6gm5%2Bfj7lz56J3795wc3NTWfTkSREREXjllVfQuXNnlT%2BJiYl/f/%2BV%2BPLLLzFgwAD06NED77zzDtLT058pD4v9Z%2BDr64uvv/4aqampKCsrw/bt2zF69Gg8qGaYrVWrVmjcuDGuXLnyXI%2Blp6eHESNGYPPmzcjMzMT9%2B/cRHBwMW1tbONXgBLJHn0TcuHED9%2B/fV3tsZmYmPDw8cOrUKVRWVqKoqAhXrlxReVNx9erVKucfEBEREdWmuljsf/jhh3jw4AFiYmKwd%2B9epKamIjg4%2BF%2BP79Gjh8pS8UlJSejSpQsA4Mcff0R0dDQ2b96M48ePo02bNpg1axYUz/BREYv9Z%2BDn54e%2BfftiwoQJcHFxQWxsLLZs2aKcwX%2BcgYEBnJ2dER8f/9yPt2jRIjg6OmLMmDFwd3dHdnY2vv32W%2Bjr6z/1to6OjnBycsLo0aOxa9cutce%2B9NJL%2BOSTT/DJJ5/AyckJQ4YMgbGxMWY/djLtb7/9pjwpmIiIiIiqunfvHuLi4hAYGAgLCwtYWVnBz88Pe/fuVS53/izCw8MxefJktGvXDk2aNEFgYCBSU1Px559/1vg%2BJIpneWtAz%2BTYsWNYsmQJfvnlF2WnvS5KTk7G2LFjcfTo0apz%2BM92Ry8ulFCMjIC2bR%2BeaFyXZ/Y//VToBJqzs3u4csoHH9T9OfG6rj49Fz/8IHQCzTk5AefPA9271%2BmZ/Qf36355IpE8/LVRWlr3Z/ar6WtqxfLltXO/M2dWs0R4ixaa1TkA/ve//2HmzJlISkpSjj7n5OSgd%2B/eiIqKgoODg8rxERERCAkJga2tLS5evAhTU1PMnj0b3t7eKC0tRbdu3fDDDz/A2dlZeZthw4Zh/PjxmDhxYo0yif4E3drk7u6ONm3aYOfOnZgyZYrQcZ7bhg0bMH78eI1/AIiIiIh0QbVLhPv7IyAgQKP7zc/PR5MmTVTOcXy0MmNeXl6V4y0sLNCmTRvMmzcP7du3R2xsLBYsWABLS0u8/PLLUCgU1a7sWN19/RsW%2B7VIIpEgODgYvr6%2B6NevH9q3by90pGcWFRWF9PR0rFmzRugoREREJDK1NV9f7RLhNbzwZ2RkJBYsWFDtvsDAwGeap%2B/fvz/69%2B%2Bv/Hr48OGIjY1FREQE5s%2BfDwDPdH/VYbFfy2xsbHDq1CmhYzw3Ly8veHl5CR2DiIiIRKi2iv1qlwivIW9vb3h7e1e77/Tp0yguLkZFRYXyHMtHKzM2a9asRvdvbW2NixcvwtzcHHp6elVWdszPz6/xfQE8QZeIiIiI6IVwdHSEQqFAymMXtEtKSoKpqSnatm1b5fhdu3bh4BMX80tNTYWtrS0MDQ3RoUMHXLp0SbmvsLAQt27dUq7WUxMs9omIiIhIJ9W1pTctLCwwePBgrF27Frm5ucjMzMTGjRsxevRoNGjwcKDm7bffVhb4crkcH330EZKSklBWVoaYmBicPHkSvr6%2BAIDx48fj%2B%2B%2B/R2pqKoqLixEcHAxHR0d07ty5xpk4xkNEREREOqm218SvDStWrMCyZcswYMAAGBgYYMSIEQgMDFTuT09PR0FBAQBg0qRJKCkpwZw5c5CdnQ0bGxts3LgRnTp1AvDwGk/Z2dmYOHEiSkpK4OLiUuXE4qdhsU9ERERE9IKYmJioXdjk2LFjyn9LJBL4%2BfnBz8%2Bv2mMlEglmz56tcu2jZ8Vin4iIiIh0Ul3s7OsazuwTEREREdVT7OwTERERkU5iZ19zLPaJiIiISCex2Nccx3iIiIiIiOopdvaJiIiISCexs685dvaJiIiIiOopdvaJiIiISCexs685FvtEREREpJNY7GuOYzxERERERPUUO/tEREREpJPY2dccO/tERERERPUUO/tEREREpJPY2dcci30iIiIi0kks9jXHMR4iIiIionqKnX0iIiIi0kns7GuOnX0iIiIionqKnX0iIiIi0kns7GuOxT4RERER6SQW%2B5rjGA8RERERUT3Fzj4RERER6SR29jXHzj4RERERUT3Fzj4RERER6SR29jXHYp%2BIiIiIdBKLfc1xjIeIiIiIqJ5iZ5%2BIiIiIdBI7%2B5pjZ5%2BIiIiIqJ5iZ5%2BIiIiIdBI7%2B5pjsU9EREREOonFvuY4xkNEREREVE%2Bxs09EREREOomdfc2xs09EREREVE%2Bxs09EREREOomdfc2x2CciIiIincRiX3Mc4yEiIiIiqqfY2SciIiIincTOvuZY7JPWHL7lKHQEjZmYAL3bAr/ebYuiIqHTPL/B/v5CR9Bc48YP/x43Drh/X9gsYlePnosHm3cIHUFjEglgBKD01/NQKIRO8/waNZYIHUFzTk7A%2BfMw6t0duHBB6DSaqcv/M4kci30iIiIi0kns7GuOxT4RERER6SQW%2B5rjCbpERERERPUUO/tEREREpJPY2dcci30iIiIi0kks9jXHYp%2BIiIiI6AXJz89HUFAQfvvtN%2Bjp6eH111/Hhx9%2BCCMjoyrHfvDBB4iMjFTZVlFRAW9vb6xcuRKLFi1CVFQU9PX1lfsNDQ2RkJBQ4zyc2SciIiIinVRZWTt/atOHH36IBw8eICYmBnv37kVqaiqCg4OrPfbjjz9GUlKS8s%2BFCxfw8ssvY8iQIcpjZs6cqXLMsxT6AIt9IiIiIqIX4t69e4iLi0NgYCAsLCxgZWUFPz8/7N27F2VlZU%2B9/XfffYdWrVrh9ddff2GZOMZDRERERDqptrrwUqkU2dnZKttatGgBS0tLje43OTkZ%2Bvr6cHBwUG579dVXcf/%2BfVy/fl1l%2B5MKCwuxadMm7Ny5U2V7fHw8jh49ips3b6Jdu3YICgpCp06dapyJxT4RERER6aTaKvbDw8OxYcMGlW3%2B/v4ICAjQ6H7z8/PRpEkTSCT/XAHazMwMAJCXl6f2tj/88AN69OiBDh06KLfZ2tpCT08Pc%2BbMgbGxMTZs2IApU6bg8OHDaNq0aY0ysdgnIiIiIlEZN24cPDw8VLa1aNGiRreNjIzEggULqt0XGBgIhULxzHkqKirw448/YvXq1SrbZ82apfL1%2B%2B%2B/j5iYGMTFxWHMmDE1um8W%2B0RERESkk2qrs29pafncIzve3t7w9vaudt/p06dRXFyMiooK5Qo6%2Bfn5AIBmzZr9632eO3cOcrkczs7Oah9bX18fLVu2hFQqrXFenqBLRERERPQCODo6QqFQICUlRbktKSkJpqamaNu27b/e7ujRo3B1dUWDBv/04RUKBVauXKlyX3K5HLdu3YKtrW2NM7HYJyIiIiKdVNeW3rSwsMDgwYOxdu1a5ObmIjMzExs3bsTo0aOVhfzbb7%2BNgwcPqtwuOTkZNjY2KtskEglu376N5cuXIysrCyUlJQgODoaBgQHeeOONGmdisU9EREREOqmuFfsAsGLFCpiYmGDAgAHw8vJCly5dEBgYqNyfnp6OgoICldtkZ2ejefPmVe7rk08%2BQZs2bTBq1Cj07t0bycnJ%2BO6779C4ceMa5%2BHMPhERERHRC2JiYoI1a9b86/5jx45V2Xb48OFqjzU3N8fKlSs1ysNin4iIiIh0Um134cWAYzxERERERPUUO/tEREREpJPY2dcci30iIiIi0kks9jXHMR4iIiIionqKnX0iIiIi0kns7GuOnX0iIiIionqKnX0iIiIi0kns7GuOxT4RERER6SQW%2B5rjGA8RERERUT3Fzj4RERER6SR29jXHzj4RERERUT3Fzj4RERER6SR29jXHYp%2BIiIiIdBKLfc1xjIeIiIiIqJ5iZ5%2BIiIiIdBI7%2B5pjZ5%2BIiIiIqJ5iZ5%2BIiIiIdBI7%2B5pjsU9EREREOonFvuY4xkNEREREVE%2Bxs09EREREOomdfc2xs09EREREVE%2Bxs09EREREOomdfc2x2CciIiIincRiX3Mc4yEiIiIiqqfY2SciIiIincTOvubY2SciIiIiqqfY2SciIiIincTOvuZY7BMRERGRTmKxrzmO8dQRR44cwc2bNwV57D179iA3N1eQxyYiIiKi58div4746quvBCn2KyoqsGrVKuTl5Wn9sYmIiEjcKitr54%2BYsNivA7y8vHD16lX4%2Bflh8eLFOHXqFEaNGgUnJyf07dsXX331lfLYiIgIjBgxAqtWrUK3bt2QlZWFBw8eYM6cOejSpQsGDx6MM2fO4NVXX8XZs2cBAPn5%2BZg/fz7c3Nzg5OSEmTNnIisrCwDQs2dPFBUVwdvbGxs2bBDk%2ByciIiKi58OZ/TogKioKDg4OCAkJgbOzM/r06YMlS5Zg9OjRuHLlCnx9fdGpUyd4eHgAAKRSKQwNDXHu3DkYGBjg448/xl9//YUjR45AT08PixYtQnl5ufL%2BFy1ahAYNGuDAgQPQ19fHsmXLsHjxYmzbtg2RkZEYMGAAIiMj0a5duxpnlkqlyM7OVtkmk7VA8%2BaWL%2BY/ikCMjVX/rrMaNxY6geaMjFT/JuHUo%2BdCIhE6geYefQ91/ntxchI6geZeeUX177rqwgXBHlpsXfjawGK/jmncuDFOnjwJY2NjSCQSODg4wMHBARcvXlQW%2B0VFRZg2bRoMDAwAACdPnsSECRPw0ksvAQCmTJmC06dPAwBycnJw/PhxHDx4EGZmZgCA%2BfPno3///lWK9WcRHh5e5ZMAf39/eHkFPPd96gKpVIr168Mxbtw4WFrW5TcunYUOoDGpVIrw9esfPhcdOggdR9Tq03NR99%2Bu/P18hNeD16nz54VOoDHlz8batXX7uRAQi33Nsdivgw4dOoTt27cjIyMDlZWVKCsrg7Ozs3K/qakpmjRpovw6OzsbNjY2yq87d/6n0EtPTwcAjBw5UuUx9PX1cffuXVhYWDxXxnHjxinffDzSokWL57ovXZKdnY0NGzbAw8ODL9wC43OhO/hc6BY%2BH7qDzwXpAhb7dcyZM2cQFBSE4OBgDBw4EAYGBpgwYYLKMQ0aqD6tlZWVKtv09P45VcPo74/dT548iaZNm1Z5vNu3bz9XTktLS76wERERkUbY2dccT9CtYxITE9G2bVsMGzYMBgYGkMlkSE1NVXubZs2aISMjQ/l1UlKS8t/W1tbQ09PDX3/9pdxWVlamPEGXiIiISChcjUdzLPbrCENDQ9y8eROWlpbIzMzE3bt3ce/ePQQFBcHS0lJtce7i4oKwsDBIpVJIpVJs375duc/ExATDhg1DcHAwMjMzUVpaijVr1mDKlClQKBTKzn9aWhqKi4tr%2B9skIiIioheIxX4d4evri88//xyHDh1Cv379MGzYMIwbNw79%2B/fHzJkzERcXhy%2B%2B%2BKLa2y5YsADNmjXDgAEDMG3aNLzzzjsA/hnn%2BfDDD2FnZ4fhw4ejb9%2B%2BuHbtGkJCQiCRSNC8eXMMHjwYc%2BbMwdq1a7X2/eqqFi1awN/fv16cf1DX8bnQHXwudAufD93B50Jz7OxrTqJQKBRCh6DaJ5fL0bBhQwAPT8p94403EBsbi9atWwucjIiIiKh6jRrVzv0%2BeFA796uL2NkXgY0bN8LHxwdSqRSlpaXYvHkz2rVrp7JCDxEREZGuYWdfc1yNRwTeeecdZGZmwtvbG2VlZejYsSO%2B%2BuorlVV5iIiIiHSN2Arz2sAxHiIiIiLSSX9fH/SFKyurnft9JCkpCfPmzUPTpk2xe/dutcd%2B//33%2BPHHH5GdnQ0HBwcsXboUnTp1AgDIZDJ88skn%2BOWXXyCTyeDi4oLly5dXu1z6v2Frl4iIiIh0Ul0c44mKikJAQADs7OyeeuyxY8ewfv16fP755/j111/h7u6Od999F/fv3wcAfPnll7h06RLCw8Nx%2BPBhKBQKLF68%2BJnysNgnIiIiInpBZDIZwsPD0bVr16ceGx4ejlGjRqFr164wMjLC1KlTAQDHjx9HeXk59uzZAz8/P7Rs2RLm5uaYO3cufvnll2e6HhJn9omIiIhIJ9VWF14qlSI7O1tlW4sWLWBpaanxfY8ZM6bGx166dAnDhg1Tfq2npwdHR0ckJSXB0dERRUVFePXVV5X727VrByMjI1y6dAlWVlY1egwW%2B0RERESkk2rrzNL168OxYcMGlW3%2B/v4ICAionQf8F/n5%2BTAzM1PZZmZmhry8POTn5wMATE1NVfabmpoiLy%2Bvxo/BYp%2BIiIiIRGXcuHHw8PBQ2VbTi59FRkZiwYIF1e5buXIlRo0a9UxZnrZWjqZr6bDYJyIiIiJRsbS0fO6RHW9vb3h7e7%2BQHE2bNlV28B/Jz89Hhw4dYGFhofza2NhYub%2BgoADNmjWr8WOw2Cd6ivLycqSnpyM3NxcKhQIWFhZo3bo1GjTgj482SaVSnD17FlevXlV5Luzt7eHi4vJC5iyJiDSxceNGzJo1q8r2kpISrF27FkuXLhUgFemyTp064dKlS/Dx8QEAVFRU4PLlyxg9ejRsbW1hZmaGS5cuwdraGgBw5coVyOVy5dKcNcFqhehfxMXFYdeuXTh//jwePHFd7UaNGqF79%2B4YP3483njjDYESisPly5exfv16/PLLL2jatCnat2%2BPpk2bQiKRID09HREREcjLy0P//v0REBAAR0dHoSPXa/fu3UNERATi4%2BNx5coVZUfK3Nwc9vb2cHV1xahRo9C8eXOBk4oDnw/dkJ%2Bfj9zcXHzzzTcYPnx4lbGLtLQ0hIeHs9gnAMCQIUPw8ccfw9nZGePHj8e8efMwYsQIODg4YOvWrWjYsCH69%2B8PfX19jB07Fps2bULnzp1hZGSENWvWYODAgc/0M82LahE94datWwgMDERWVha8vLzg4uKCDh06KAvM3NxcXL16Fb/99hsiIyNhZWWFtWvXwtbWVujo9c7mzZuxZcsWeHt7w9fXF%2B3bt6/2uGvXriE8PByRkZGYNm0apk2bpuWk9Z9cLsfq1auxa9cu2Nvbo2fPnrC3t1de2CUvL0/5c3HlyhVMmDABgYGBaNiwocDJ6yc%2BH7pl7969WLVqFYqLiwH8M2MtkUiU/x40aBC%2B%2BuorwTKS9gwePBh37txBRUUFKisrYfD3lcF%2B/vlnWFtbw8HBAVu2bEG/fv0AADt37sTmzZuRk5ODzp07IygoCPb29gAe/qyvXLkSBw4cQHl5Odzd3REUFAQTE5Ma52GxT/SEPn36YPr06Rg/fvxTfzHK5XLs2rULW7ZswalTp7SUUDymTJmClStX1nh5saysLCxZsgRbt26t5WTi4%2B3tDWtra/j7%2B6Njx45qj01OTsbGjRtx%2B/Zt7N%2B/X0sJxcXb2xs2NjaYNWsWnw8dUVFRARd97MgyAAAgAElEQVQXF0RGRlbZZ2Rk9Ewz1kQvEot9oiekpaWhTZs2z3Sbmzdv1uhKeaSZ3Nxc5QlLxcXFOHPmDGxtbfHKK68InKz%2Bi4qKgpeX1zPdJjo6Gp6enrWUSNz4fOi2nJwc3L1795nmqolqC4t9IjXS09PxxRdfKD96/fzzzxEeHg47Ozt88cUXaNeuncAJxSMqKgpBQUHKcyhGjhwJ4OGqBO%2B//z7efPNNgRPWb8/SEX703JB2yGQy7N69GxMnTgQAHD16FHv27IGdnR0CAgJUVvGg2iWVSrF48WKcPn0aDRo0wMWLFyGVSvHOO%2B8gJCSE454kCBb7RGpMmTIFtra2WL58OeLj4xEQEICQkBD88ccfiI%2BP57iIFg0dOhQffPAB%2BvTpg7CwMPz444/Yv38/rl27hnnz5uHAgQNCR6zX3NzcVL4uLCxEWVkZTE1NoVAoUFhYCCMjI1hZWeHw4cMCpRSnDz74AFeuXMHu3btx/fp1%2BPj4YNq0abhy5QqaNGmCTz/9VOiIouHn5wdjY2PMmzcPgwcPRmJiIsrLy7F69Wpcv34d33zzjdARSYS4Gg%2BRGomJiQgJCQEAHDp0CEOHDkWPHj3QrVs3hIaGCpxOXDIzM9GnTx8AwMmTJzFs2DDo6%2BvDwcEBd%2B7cEThd/ff4OSk//fQTLl26hDlz5ihPCJVKpVi7di2cnJyEiihaR48eRXR0NICHF/txc3ODv78/ioqKMHToUIHTicvZs2dx8uRJGBsbQyKRAAAaNGiAOXPm4PXXXxc4HYmVntABiHSZvr4%2B9PX1ATwsdtzd3QE8XGmhrKxMyGii07RpU2RlZSEvLw9nzpxRXvkwKysLRkZGAqcTlw0bNmDRokXKQh94eIGaJUuWYP369QImEyeZTKZchu/06dPK5YCbNGmCkpISIaOJTqNGjaq92mlBQQEqKioESETEzj6RWj169MDy5cthYGAAuVyuHGXYvn07TwrVMl9fX4wePRr6%2BvpwcXGBg4MDiouLERgYiCFDhggdT1RKS0tx9%2B5dtG3bVmV7Tk4OZDKZQKnEq0OHDoiIiICRkRGuXbumfCP866%2B/omXLlgKnExdXV1csWbIEgYGBAB6Ou6WkpCA4OBj9%2B/cXNhyJFmf2idTIycnBunXrUFhYiKlTp6JTp04oKCiAr68v1q5dCwcHB6Ejisr58%2BdRVFSEXr16oWHDhigvL8e2bdswefJkrh%2BuRR999BEOHz4MT09P2NjYoKKiAnfv3sWBAwfQv39/rFixQuiIopKYmIj3338fRUVFCAwMxJgxY5Cfnw93d3d8%2BumnHOXRooKCAixcuBC//PILgIfr7EskEgwbNgwffvghzMzMhA1IosRin4jqlMTERGRmZmLQoEEAHo4wGBoaCpxKXCoqKrBnzx7ExcUhMzMTcrkclpaW6NevHyZPnqy8gAwJKysrq8bXqKAXKzc3F%2Bnp6TA0NISNjQ2aNGkidCQSMRb7RGpkZWUhNDQUN27cgFwur7L/%2B%2B%2B/FyCVOKWmpsLf3195VcKLFy8iIyMDY8aMQWho6FMvLERUX1VUVOD48eO4fv16ta9T/v7%2BAqQSp3Pnzv3rPolEAisrKy6/SVrHYp9IDV9fXxQXF6NXr17VngT63nvvCZBKnN5%2B%2B2107twZs2fPhrOzMxITEwE8PH/i6NGj2LFjh8AJxWXXrl04ePAgMjIyIJFI0Lp1a/j4%2BDzzhZ5IcwsXLsSBAwfQrl27Kq9TEokEYWFhAiUTn06dOilPxH1UXj1alUehUEAikaBdu3ZYt24dr9NCWsNin0iNLl264MSJEyqrjpAwnJyccPbsWTRs2BBdu3bFn3/%2BCQAoLy%2BHq6srEhISBE4oHmvXrsWePXvg7e2tvHJ0amoq9u/fj8DAQPj6%2BgqcUFy6dOmC8PBwODo6Ch1F9M6cOYPQ0FBMmTIFnTt3hp6eHhITE/Hdd99h6tSpeOmll7B582akp6dj%2B/btQsclkeBqPERq2Nvbo7KyUugYBMDc3ByFhYXKJQYfuXXrFho04EuZNkVERGDLli1Visvhw4dj4cKFLPa1zNLSssrKSCSMFStWYMeOHSqvU71790b79u0xY8YM7Nu3D0uXLkW/fv0ETEliw9%2BQRE%2B4ceOG8t/vvvsuli5dirfeegvW1tbKj2Mf4S9Y7XF3d8fs2bPh5%2BcHhUKB5ORkpKSk4Ouvv8bw4cOFjicqxcXF6NChQ5Xtr776KqRSqQCJxG3RokVYt24d5syZw2tOCOzOnTvVNogkEgmuX78OACgqKmKDgrSKYzxET3jllVcgkUiqvTAKAOU%2BiUSC5ORkLacTL5lMhi%2B%2B%2BAL79u1TXijI3Nwc48aNw6xZs7j0phaNGzcOPj4%2BVTr4P/30E3bt2oWIiAiBkonHo2t%2BPFJSUgK5XF7tyOHjVz%2Bm2jVnzhxcvXoVvr6%2BsLa2RoMGDXDnzh2EhYWhWbNm2LRpE0aNGoXu3btziVrSGhb7RE/IyMio8bHW1ta1mISqo1AokJOTAyMjIy5nJ5CEhARMnToV1tbWypMMr1%2B/jvT0dKxfv54jClqwb9%2B%2BGh/r4%2BNTi0nocaWlpQgODsb//vc/SKVSKBQKWFhYwNXVFQsXLoSZmRlCQkIwdepUNihIa1jsE6mxdOlSfPLJJ1W2FxcXY%2BHChdi4caMAqcTr8uXLSEtLq3Z5wZEjRwqQSLzu3buHmJgYZGRkQC6Xo3Xr1hg6dChatWoldDTR2b9/f7X//z948ABhYWH4v//7PwFSiVN2djZatGghdAwiFSz2iaqRnp6OtLQ0%2BPn5YdOmTVVGem7evInPP/9cuSIM1b6goCCEhYXBxMSk2otocVRB%2B8rKyiCVSpXrh%2Bvr6wsdSVQqKytRXl6OHj16ICEhocrr1PXr1zF27FjlMrVU%2B5ycnPD7779DT09P6ChESjxDhKgaKSkp%2BOqrr1BWVoZ33nmnyn5DQ0OuOKJl0dHR2LFjB3r06CF0FNErKChAUFAQ4uLiUF5eDuDhz8SIESPw4Ycf8orGWvL999/js88%2BA/Bw%2Bc3qdOvWTZuRRM/X1xfr16/H1KlTYWxsLHQcIgDs7BOp5e3tjcjISKFjEIDBgwdj//79aNSokdBRRG/evHmQSqWYNm2ayjr7mzZtQrdu3bB06VKBE4pHbm4u%2BvXrh23btlXZZ2RkBEdHRxgYGAiQTJw8PT0hlUpRXFwMU1PTKp928RNIEgKLfaKnqKiogFQqRWlpaZV9XHpTe06ePImYmBj4%2BvrC0tKyysfknBXXnh49euDw4cOwsLBQ2Z6VlQVfX18cP35coGTilJOTg2bNmgkdg/D0E6d5sjQJgWM8RGpER0djxYoVKC4urjIPy6U3tSsjIwNxcXGIjo5W2c5lULVPX1%2B/2k9YTE1Ncf/%2BfQESiVt2djaWLFmC1NTUapsS7CZrj7pifvXq1VpMQvQPdvaJ1OjXrx/Gjh2LoUOHVnuxGi69qT0uLi6YPHky3N3dq12y7uWXXxYglTj5%2BfnBzMwM77//vrK7n5ubi%2BDgYEilUoSGhgqcUFw8PT1hZWUFDw%2BPat%2BEsZusXb/88gsuXryosmpYVlYWYmNjcf78eQGTkVix2CdS47XXXsNvv/3GVUZ0gJubG44fP875Yx2QlZWFmTNnIjk5GaampgCAwsJCtGvXDiEhIWjdurXACcXFyckJ8fHxPDFaB6xfvx7btm2Dg4MDEhMT4eTkhNTUVFhZWeHdd9/F0KFDhY5IIsQxHiI1BgwYgLNnz6J3795CRxG92bNn45tvvsH06dN5MRqBWVlZISIiAsnJycp19m1tbdG5c2eho4mSo6MjMjMzlSdLk3D27NmD3bt3o0OHDujSpQt%2B/PFHyGQyLF%2B%2BHA0asOQiYbCzT6TGN998g507d8LJyQk2NjZVTgqdN2%2BeQMnEx8vLCxkZGZDJZDAzM4NEIlHZz7nk2lXdhcz%2BDd%2BMaVdsbCy2bt0Kb29vWFtbV3mdcnNzEyiZ%2BHTv3l05quPk5ISEhATo6%2Bvj3r17GD9%2BPGJjYwVOSGLEt5lEapw6dQqtW7dGTk4OcnJyVPY9WWxS7eJVQIXVpUuXp/4/z5OlhREQEAAA%2BOOPP6rs4/OhXW3atEFERAR8fHzQqlUrxMXFYfDgwSgvL6/yO4RIW9jZJyKip/rtt99qfGzPnj1rMQmR7jp9%2BjQCAgJw8uRJHDx4EMuXL8fLL7%2BMzMxM9OvXjyvykCDY2Sd6iqtXr%2BLw4cPIyMgAANjZ2WH48OGwtbUVOFn9t2jRIqxatQoA8N5776k9lr9Ea1d1Bfzdu3eRlZUFQ0NDWFlZVVl3n7SnvLwc58%2BfR0ZGBiQSCVq3bg0nJyd%2BAqllBw8exOnTp9GoUSOMHTsWtra2SEpKgqWlJX7%2B%2BWeh45FIsdgnUuPgwYNYsGABHB0dlSuMHDlyBCEhIdi2bRucnZ0FTli/Pb7yDufAdUdqairmzp2La9euKa8/IZFI4OTkhFWrVnE1Hi1LSUnBjBkzkJ2drby4Vk5ODmxtbbF9%2B3a0bNlS4IT1X3p6OtLS0hAVFYVhw4apXJelY8eOuHnzJs6cOSNgQhIzjvEQqTFs2DD4%2B/tj2LBhKtsjIiIQFhaG3bt3C5RMfH777bdqu8symQzHjh3jknZa9KhjOW3aNLRu3RoKhQK3bt1CaGgoMjIyEBYWJnREUZk4cSIcHR0xd%2B5cNG7cGABQUFCA4OBg3Lt3D19//bXACeu/2NhYfPXVV7h69Wq1%2Bw0NDeHr64vFixdrORkRi30itbp164bff/%2B9yjr75eXlcHV1RUJCgkDJxKdr1674888/q2yXSqUYOHBgtfuodjg5OeHXX3%2BtcgGn0tJS9OrVCxcuXBAomTg5OTnh7NmzVT79un//Pjw8PBAfHy9QMvHx9vZGZGSk0DGIVHCMh0iNVq1a4c8//0T37t1Vtl%2B6dEn5cTnVru3btyM0NBRyubzaJQSLi4thY2MjQDLxcnBwwJ07d9CuXTuV7VKpFO3btxcolXiZm5sjJyenyrhOUVERx9%2B0jIU%2B6SIW%2B0RqTJo0CdOnT4enp6eysLl%2B/Tqio6MxY8YMgdOJw6RJk/Daa69h/Pjx1Z6ka2hoiF69egmQTFwev46Bp6cn5s6dC29vb7Rr1w56enq4ceMG9u/fj4kTJwqYUpwGDBgAPz8/zJgxAy%2B//DKAh69TmzdvRt%2B%2BfQVOR0RC4xgP0VMcO3YMe/fuxe3btyGXy9G6dWt4e3tXmeOnFy81NVX5JisxMRFdunR5ptvQi/PKK6/U6Diu6659crkca9aswd69e1FUVAQAMDY2xogRI7Bo0aIq41ZEJC4s9olIZ/Xt2xdTpkzBhAkTYGhoqPZYuVyOH3/8Ed9%2B%2By1OnjyppYREuqWwsBByuRzNmjXjsptEBIDFPpFaRUVF2Lt3L9LS0iCTyarsX7lypQCpxOP27duYP38%2B0tLS4OnpCVdXV9jb28Pc3BwSiQR5eXm4evUq4uPjERMTAzs7OwQHB8Pa2lro6ERadfnyZaSlpUEul1fZN3LkSAESEZGuYLFPpMakSZNw48YNdOnSpdrO8po1awRIJT7Hjh1DWFgYzp07h9LSUpV9RkZG6NGjB8aPHw93d3eBEhIJJygoCGFhYTAxMan2derx8y2ISHxY7BOp4eTkhLi4OK68oyMqKiqQkZGB/Px8AA9XIWnVqhUaNOBaAyRer732GjZt2oQePXoIHYWIdBB/QxKp4eDgUO34DglDX18frVu35hVaiR7TvHlzdOrUSegYRKSj2NknUiM9PR2LFy9Gnz59YGVlBT09PZX9nIUl%2Bkd5eTkqKyu5truWnTx5EjExMfD19YWlpWWV16lWrVoJlIyIdAE7%2B0RqfP3110hISMBff/1V7Swsi32if3h6eiItLY1Lb2pZRkYG4uLiEB0drbJdoVBwKVQiYmefSJ1u3bohNDQUzs7OQkch0nmJiYkoLS1Fz549hY4iKi4uLpg8eTLc3d2r/VTl0YW2iEic2NknUqNVq1Y1vpgQ1a7x48fD29sbQ4YMgbm5udBx6AkVFRU1uugZvXgGBgaYOnUqDAwMhI5CRDpIPygoKEjoEES6ysbGBps2bYKJiQnkcjkKCgqQn5%2Bv/NO0aVOhI4pGVlYWoqKisHr1aiQmJkJPTw%2BtW7fmSjwCyMjIwLvvvosmTZqgffv2AIDvvvsOn332GXr16gVTU1OBE4pLkyZNcPLkSXTr1g36%2BvpCxyEiHcMxHiI1quvqSyQSzsIKKD09HbGxsYiNjcW1a9fwxhtvwNPTE7179xY6mmhMnToVLVu2RGBgICwsLAAAubm52LhxI27duoUtW7YInFBcvLy8kJGRAZlMBjMzsypXzuU6%2B0TixmKfSI2MjAy1%2B3mlVuHI5XLs2bMHa9asQXFxMaytrTFt2jT4%2BvoKHa3ec3Z2xpkzZ6qMjcjlcvTu3RsJCQkCJROnffv2qd3v4%2BOjpSREpIv4%2BTfREyIiIjBq1CgANS/mH78N1a74%2BHhER0fjyJEjMDY2hq%2BvL0aOHIl79%2B5h5cqVSE1NxdKlS4WOWa%2BZmprixo0bsLe3V9mekpKCRo0aCZRKXFJTU9GuXTsANS/mH78NEYkHO/tETxg7diwsLCwwa9YsdO7cWe2xFy9exIYNG5CXl4fw8HAtJRSnzz77DAcPHkRhYSEGDhyIkSNHolevXiojC1KpFMOHD8e5c%2BcETFr/bdu2DVu3bsXw4cNhY2ODyspK3LhxAwcPHsTcuXPx1ltvCR2x3uvbty%2BmTJmCCRMmVLss8OPkcjl%2B/PFHfPvttzh58qSWEhKRrmCxT/SE8vJyrFu3Djt27ICdnR1cXV1hb2%2BvnIXNz8/H1atXER8fj5s3b2LSpEkICAjgiaK1bPLkyRg5ciQGDRqExo0b/%2BtxmzdvxvTp07WYTJzi4uIQERGB9PR0SCQS2Nra4s0334SHh4fQ0UTh9u3bmD9/PtLS0uDp6al8nTI3N4dEIkFeXp7ydSomJgZ2dnYIDg7m6CGRCLHYJ/oXubm52Lt3L%2BLj43Ht2jXk5%2BcDAMzNzdG%2BfXv06tULo0aNUp6gSLXvzJkzsLKyUq4bfu7cOchkMri5uQmcjEgYx44dQ1hYGM6dO4fS0lKVfUZGRujRowfGjx8Pd3d3gRISkdBY7BNRnbBjxw6sW7cO69evR69evQAAR48exZIlSxAQEID//Oc/Aiek8%2BfP4/79%2B3zzJYCKigpkZGSoNCVatWrFTxyJiMU%2BEdUNHh4eCAkJqbIc6pUrVzBz5kwcPXpUoGT0yNChQ5GWlsYlaYmIdAjf8hNRnZCXl6cc33mcjY0NcnNzBUhETzp06JDQEYiI6Al6QgcgIqqJ7t27Y82aNSgqKlJuu3fvHj799FN07dpVwGTiVFhYiLy8POXXt2/fVvmaiIh0A4t9IjVKSkqEjkB/CwoKQnx8PFxcXNCzZ084Ozujb9%2B%2BuHz5Mj7//HOh44lKfHw8PDw8cObMGeW2EydOYODAgTh79qyAyYiI6Emc2SdSo2vXrvDw8ICXlxf69u3Lk910wOXLl5Geng49PT3Y2tpWmeGn2ufj44NJkyZVuZjTgQMHEBoa%2BtQrulLtSExMRGZmJgYNGgQAkMlkT12Dn4jqPxb7RGokJCTgyJEjiIuLQ0lJCYYMGQIvLy%2B89tprQkcTpYqKCkil0ipLDAJA27ZtBUgkTk5OTkhISIC%2Bvr7K9rKyMvTs2RMXLlwQKJk4paamwt/fH3fu3EFFRQUuXryIjIwMjBkzBqGhoejYsaPQEYlIQCz2iWooKSkJcXFx%2BPnnn1FWVgZPT0%2BMHj0atra2QkcThaioKHz00UcoLi5W2a5QKCCRSLgCjBZ5e3tj5syZGDJkiMr2n376Cdu3b8eBAwcESiZOb7/9Njp37ozZs2fD2dkZiYmJAIDt27fj6NGj2LFjh8AJiUhILPaJnkFiYiIOHTqEn376CUZGRpDJZOjbty8%2B/PBDNG3aVOh49drrr7%2BOMWPGYOjQoTAyMqqyn1cG1Z5Tp04hICAAdnZ2sLGxQWVlJW7cuIG7d%2B8iNDQUzs7OQkcUFScnJ5w9exYNGzZE165d8eeffwJ4eDVwV1dXJCQkCJyQiITEAWSip7hx4waio6MRExOD7OxseHh4YM2aNXBzc8P9%2B/exYsUKLFiwAFu2bBE6ar1WXFyMmTNnVhkdIe1zc3PDzz//jEOHDiE9PR0SiQQuLi4YMWIEmjVrJnQ80TE3N0dhYSGaN2%2Busv3WrVs8z4iIWOwTqTNq1CikpKTgtddew/Tp0zFkyBA0adJEub9Jkyb46KOP0LNnTwFTisOAAQNw9uxZ9O7dW%2BgoonTmzBnllYsBwMrKCpMnT1Z7m/j4eLi6utZyMnJ3d8fs2bPh5%2BcHhUKB5ORkpKSk4Ouvv8bw4cOFjkdEAuMYD5EaISEh8Pb2fuqIyO%2B//86TdmvZN998g507d8LJyQk2NjbQ01NdOXjevHkCJROHgQMH4vXXX8f06dNhaWmp9lipVIrNmzfj5MmTOHLkiJYSipdMJsMXX3yBffv2KZcLNjc3x7hx4zBr1iw0bNhQ4IREJCQW%2B0RqyOVyhISEwM3NTTmHHBUVhWvXrsHf35%2B/RLVo4sSJ/7pPIpHg%2B%2B%2B/12Ia8SkqKsKyZcsQFxcHNzc3uLq6wt7eHubm5gCA/Px8XL16FfHx8fjf//6HgQMHIigoCCYmJgInFw%2BFQoGcnBwYGRmpfAJJROLGYp9Ijf/%2B97%2B4ePEiVq1aBXt7ewAP13lfsWIFHBwcsHz5coETEmnXX3/9hbCwMJw5cwZpaWkq%2B9q0aYNevXrB19cXDg4OwgQUqcuXLyMtLQ1yubzKvpEjRwqQiIh0BYt9IjV69%2B6NAwcOVFlpJy8vDyNGjMDp06cFSiZOmZmZiImJQVZWFpYuXQrg4QpJXbp0ETiZOJWXl6OgoAAAYGZmxpNBBRIUFISwsDCYmJhUexGtU6dOCZCKiHQFX5mJ1KioqIBEIqmyvaysDDKZTIBE4nX06FEEBgaie/fu%2BP3337F06VLcvXsX//d//4cVK1bwREQBNGjQgKvv6IDo6Gjs2LEDPXr0EDoKEekgvacfQiRegwYNwqxZs3D06FGkpKQgOTkZBw8exLvvvsviUsvWrl2LNWvWYPv27co3YC1btsTGjRvx9ddfC5yOSDjNmzdHp06dhI5BRDqKYzxEapSWlmL16tWIjIxEYWEhAMDU1BSjRo3Ce%2B%2B9BwMDA4ETike3bt1w/vx56OnpqVw4qKKiAq%2B99hr%2B%2BOMPgRMSCePkyZOIiYmBr68vLC0tq6xU1apVK4GSEZEu4BgPkRpGRkZYunQpli5diry8POjp6cHMzEzoWKLUqlUr/PXXX3B0dFTZfurUKY6SkKhlZGQgLi4O0dHRKtsVCgUkEgmSk5MFSkZEuoDFPtFTJCUlITU1tdoZ/XHjxgmQSJwmTJiAd955B6NHj0ZFRQW2b9%2BOv/76CwcPHsSCBQuEjicq/fv3h6enJ0aMGMFVd3TA2rVrMW3aNLi7u3M5YCKqgmM8RGp88skn2LFjBywsLGBkZKSyTyKR4OjRowIlE6cjR45g7969uHXrFoyMjGBrawtfX19eVVfL9u/fj9jYWJw%2BfRq2trbw9PSEl5cXXnrpJaGjiZKbmxuOHz/OsUIiqhaLfSI1evbsiXXr1qFXr15CRyHSOQ8ePMCJEycQFxeHEydO4JVXXoGXlxeGDRsGY2NjoeOJxu7duyGVSjF9%2BnR29omoChb7RGqwY6Y7NmzYoHa/v7%2B/lpLQk7KzsxEZGYlNmzZBJpPB0NAQ48ePh7%2B/f7XrvtOL5eXlhYyMDMhkMpiZmVVZLpjr7BOJG4t9IjVCQ0NRUVGBGTNmCB1F9J48P6KiogIZGRkAACcnJ4SEhAgRS7SKi4tx%2BPBhREdH49y5c%2BjcuTO8vb0xfPhw5OfnIygoCBYWFggODhY6ar23b98%2Btft9fHy0lISIdBGLfSI1/Pz8cP78eTRo0ACtWrWqsqRdWFiYQMkIACorK7Fp0yY0bNgQU6dOFTqOaMyePRsnTpxA8%2BbN4eXlhZEjR8LOzk7lmKKiIvTr1w8XLlwQKCUREQFcjYdIrY4dO6Jjx45Cx6B/oaenh2nTpuH1119nsa9FJiYmCA0NVXvFVhMTE3z00UdaTCUuixYtwqpVqwAA7733ntpjV69erY1IRKSjWOwTqcE5cN137tw5lJeXCx1DVBITE/HJJ5889bgRI0ZoIY04PX4eEU/KJSJ1OMZD9BQHDhxAZGQkpFIp9u/fD7lcjh07dmDKlClVToSj2uPm5lZlW2lpKUpKSjB58mQsXLhQgFTiNHHiREydOhWvv/660FFE7e7du2jZsqXQMYhIx7GzT6RGSEgIwsPDMW7cOGzatAkAUFhYiP3796OoqAhz584VOKF4zJs3r8qbK0NDQ9jZ2eHVV18VKJU42dnZYfHixbC2tkarVq3QoIHqrxKOjWjHkCFD8Oeffwodg4h0HIt9IjXCw8MRGhqKDh064JtvvgEANG/eHCEhIZg0aRKLfS0aNWqU0BHobxUVFezq6wB%2BME9ENcFin0iNoqIidOjQocp2S0tL5ObmCpBIvDw8PGo8NsUrG9eulStX/uu%2B48ePazGJuHGMkIhqgsU%2BkRr29vaIioqCl5eXyvZt27ahXbt2AqUSp7feegs//PADBgwYgDZt2qCyshJXrlzBiRMn8J///AdmZmZCRxSVvLw8XL16FXK5XLktKysLH3/8MZfb1BK5XA5fX9%2BnHsclgonEjcU%2BkRpz5szBrFmzsHPnTpSVlWHmzJm4cuUKCgoKeBEnLTtz5gy%2B/PJLdOvWTWX7hQsXsGHDBmzdulWgZOITGxuL%2BfPnQyaTQSKRKMdJTE1NMWbMGIHTiYeenl61J64TET2Oq/EQPUVmZiYOHDiAW7duwcjICK1bt8bw4cNhbm4udDRRcXJywroszHkAAAlgSURBVNmzZ6ssMyiXy%2BHi4sJushYNHz4c06ZNw7Bhw%2BDs7Iw//vgDFy9eRGhoKObMmcNPvbSka9euPEGXiJ6KnX2ip2jcuDFGjRqFpk2bAgBu377NE%2BMEYGlpiXXr1mHGjBkwNTUFABQXF2Pz5s2wtrYWOJ243LlzByNHjgTwcG5cT08PXbp0wezZs7F48WLs3r1b4ITiwNchIqoJPaEDEOmy%2BPh4eHh44MyZM8ptJ06cwMCBA3H27FkBk4lPUFAQYmJi4Orqip49eyr/7N27F8uWLRM6nqg0b94cqampAICmTZsiJSUFAGBjY4OrV68KGU1U1F3BmIjoEY7xEKnh4%2BODSZMmwcfHR2X7gQMHEBoain379gmUTJwqKyuRlJSEzMxMKBQKWFpaokuXLlXWeafatX37dnz55Zc4ffo01q9fj8OHD2PAgAFISUlBeXk5wsPDhY5IRER/Y7FPpIaTkxMSEhKgr6%2Bvsr2srAw9e/bknLgAEhMTkZmZiUGDBgEAZDIZDA0NBU4lPgkJCXB2dkZ5eTk2bNiApKQkWFtbY%2BbMmbyqKxGRDuEYD5EarVu3RmxsbJXt%2B/fvR6tWrQRIJF6pqakYOnQoJk6ciPfeew8AkJGRAXd3d1y%2BfFngdOKyf/9%2BODs7AwAaNGiAuXPnYuvWrVi8eDF%2B/vlngdMREdHj2NknUuPUqVMICAiAnZ0dbGxsUFlZiRs3buDu3bsIDQ1VFjxU%2B95%2B%2B2107twZs2fPhrOzMxITEwE8HCk5evQoduzYIXDC%2Bq%2ByshLl5eXo0aMHEhISqpwgeuPGDYwZM0b53BARkfBY7BM9RVZWFg4dOoT09HRIJBLY2tpixIgRaNasmdDRROXxpTcfX3KwvLwcrq6uSEhIEDhh/bd9%2B3Z89tlnao/p1q0bdu3apaVERET0NDyrjegprKysMHnyZOTl5SmX3yTtMzc3R2FhIZo3b66y/datWzxBV0smT54MLy8v9OvXD9u2bYNCoYBEIlHuNzIygqOjo4AJiYjoSfwNSaRGSUkJPvvsM0RFRaG8vBwXL15Efn4%2BFi5ciJUrV8LCwkLoiKLh7u6O2bNnw8/PDwqFAsnJyUhJScHXX3%2BN4cOHCx1PNCwsLHDixAnlJ1t8E0xEpNt4gi6RGitWrEB6ejpCQ0Ohp/fwx8XAwABNmjTBxx9/LHA6cVm4cCE6duyIOXPmQC6Xw8fHB5999hmGDh2KhQsXCh1PVIyMjPDf//4X3bp1Q9%2B%2BfQEA%2Bfn5mDFjBnJzcwVOR0REj%2BPMPpEaLi4uOHToECwsLFTmxAsLCzF48GCVi22RdigUCuTk5MDIyAhNmjQROo4oLVy4EFKpFLNmzcKUKVOQmJiIkpIS/Pe//4VCocCaNWuEjkhERH/jGA%2BRGhKJpNqCsqKiAjKZTIBE4uXs7Ixz585BIpFUmdsn7frll1%2BUb4IfzewbGxtj2bJlGDx4sMDpiIjocRzjIVLDyckJn3/%2BOUpLS5XbMjIysHTpUvTs2VPAZOLTt29f7N69W%2BgYBL4JJiKqSzjGQ6TGnTt34Ofnh/9v7%2B5B2uoCMI4/t1EqZOhQaovVCBUh0qHNIA7BCnHwq4k6uemmDTi1BSkODuLgoEjpUEWhdFJB8atirQqCgwURIthCWxQktlCqXUQhVHkXlaixJn0xJ8T/bzz3DA9kyHMP557z7ds3/fnzR3a7Xbu7u3K5XOro6OCm0Dh68uSJAoGAbDab7ty5c%2BYEnv7%2BfkPJrh6/36%2B7d%2B/q%2BfPnKigoUCAQ0Obmptra2nRwcKDXr1%2BbjggAOETZB6KwsrKiYDCo69evy%2BFwKDc313SkK%2BfVq1d/fd7Y2BinJDjvJfjhw4fq7OzkJRgAEghlH/hHP3/%2BVHp6uukYgDG8BANA4mPPPhDB7u6uWlpa5Ha75Xa71d7eroODg%2BPnAwMDnO0eJ5E%2B%2BGxoaDCQBOH29/d169Yt5eXl6d69e0pJSdH6%2BrrW19dNRwMAhOE0HiCCly9fanl5WU1NTQqFQurt7ZXdbpfP51Nzc7O%2BfPmiZ8%2BemY55Jfz48ePM2OLiooEkODI2NqbW1lbt7OycGD%2B6Uffz58%2BGkgEATqPsAxF8%2BPBBPT09ysnJkSTdv39ftbW16uvrk8fjUVdX1/ENorhcR0c7InF0dHSorq5OZWVlSktLMx0HAPAXlH0ggl%2B/fh0XfUlyOp3a29tTd3e33G63wWSAeTs7O/L7/bLZbKajAAAuwJ59IAqWZclms1H0AUnFxcX6%2BPGj6RgAgCiwsg8goe3v72twcFDhB4dFGqupqTER70rKycnRixcv5HK5lJmZqWvXTq4bPX361FAyAMBplH0gAgpm4khPTz9zSdPpMcuy%2BC3iaGFhQQ6HQ1tbW9ra2jrxjG8sACCxcM4%2BEIHH47lwjmVZmp2djUMaAACAf0PZBwDE7OvXr3r//r02NzclSdnZ2aqoqFBWVpbhZACAcHygCwCIyeTkpKqrqzU/P69QKKRQKKTp6WlVVFRoaWnJdDwAQBhW9gEAMSkvL1djY6PKy8tPjA8PD6u/v1%2BDg4OGkgEATmNlHwAQk%2B/fv6ukpOTMuM/n09ramoFEAIDzUPYBADHJyMhQIBA4M766usrN0gCQYDh6EwAQk9raWtXX18vr9R7fNL22tqbx8XE1NDQYTgcACMeefQBAzObm5jQ0NKRgMKhQKCSHw6HKysoz%2B/gBAGZR9gEAAIAkxTYeAEBURkZGoppXVVV1yUkAANFiZR8AEBWn06mbN28e79OP9PdhWZbevn0b72gAgHNQ9gEAUXnz5o0mJib0%2B/dvlZaWyuv1yul0mo4FAPgLyj4AICYbGxsaHx/Xu3fvZLPZ5PV69fjxY2VkZJiOBgA4hbIPAPhnnz590sTEhKanp3X79m35fD7V1NSYjgUAOETZBwD8LxsbG5qamtLAwIBSU1M1NTVlOhIA4BBlHwAQs%2B3tbU1OTmp0dFTBYFBlZWWqrKzUgwcPTEcDAISh7AMAorK3t6eZmRmNjY1paWlJhYWF8vl8KioqUmpqqul4AIAIKPsAgKi4XC7Z7XY9evRIHo9HN27ciDgvPz8/zskAAOeh7AMAouLxeC6cY1mWZmdn45AGABANyj4AAACQpK6ZDgAAAADgclD2AQAAgCRF2QcAAACSFGUfAAAASFKUfQAAACBJUfYBAACAJEXZBwAAAJIUZR8AAABIUv8B8zl%2Bgl%2BcJPAAAAAASUVORK5CYII%3D\" class=\"center-img\">\n",
              "    <img src=\"data:image/png;base64,iVBORw0KGgoAAAANSUhEUgAAAvsAAAJNCAYAAACvEromAAAABHNCSVQICAgIfAhkiAAAAAlwSFlzAAAPYQAAD2EBqD%2BnaQAAADh0RVh0U29mdHdhcmUAbWF0cGxvdGxpYiB2ZXJzaW9uMy4xLjEsIGh0dHA6Ly9tYXRwbG90bGliLm9yZy8QZhcZAAAgAElEQVR4nOzdeXhNV9vH8W%2BiEUMIITFGteZZaCTGEhQxJNUaog9NdaCSKDVUW31MRbWmmqeaamhaVUWrJFR1QKtV0hCCIFQTJUEQiTjvH57s15EgnEROjt/nunIlWXvtve%2B9juE%2B91l7bTuTyWRCRERERERsjn1uByAiIiIiIjlDyb6IiIiIiI1Ssi8iIiIiYqOU7IuIiIiI2Cgl%2ByIiIiIiNkrJvoiIiIiIjVKyLyIiIiJio5Tsi4iIiIjYKCX7IiIiIiI2Ssm%2BiIiIiIiNeiy3AxARedTs37%2BftWvXsnfvXk6dOsXVq1dxdHTEzc2N2rVr4%2Bvri4%2BPD3Z2drkdqoiI5HF2JpPJlNtBiIg8CkwmE%2BPHj%2BfTTz8FwNnZmapVq%2BLk5ERSUhIHDx4kKSkJgFatWjFjxgzy58%2BfmyGLiEgep2RfROQhWblyJWPHjqVAgQKMGTOGzp07ky9fPmN7cnIyn332GZMmTeLGjRu89tprDBkyJBcjFhGRvE5z9kVEHpLVq1cD0KdPH/z9/c0SfYACBQoQGBjIq6%2B%2BCsCKFStITk5%2B6HGKiIjtULIvIvKQnDx5EoBq1ardtV9gYCCLFi0iLCyMAgUKADBixAiqVavGpEmTuHz5MhMnTsTHx4c6derg7e1NcHAwhw8fvuMxd%2B7cSXBwMM2aNaN27dp4e3sTGBjIhg0b7rhPYmIi06ZNw9/fHw8PD2rVqkWTJk3o378/u3fvznQfHx8fqlWrxo4dOwgLC8PX15c6derw%2B%2B%2B/AzBz5kyqVavGiBEjSElJYebMmbRr1466devy9NNPM27cOK5cuQJAdHQ0AwcOpGnTptSpU4fOnTuzfv36TM979epVFi5cSPfu3XnqqaeoWbMmXl5evPTSS4SFhWW6T%2B/evalWrRqrV6/m8uXLTJs2zYjF09OTV199lb/%2B%2BuuO4yMikhco2RcReUhcXFwA%2BPPPP%2B/Zr3nz5pQsWTLDtsuXLxMYGMjq1aspXrw4np6epKWlERYWRrdu3TJNTqdNm0ZgYCBhYWE4OTnh5eWFi4sLO3fuZOjQoQwaNIi0tDSzfc6ePUvXrl2ZN28ex44do2bNmnh7e5M/f36%2B//57XnzxRb788ss7XsOxY8cYPHgwDg4OeHt7G29abjVs2DAWL15MuXLlqFKlCvHx8axYsYK33nqLw4cPExAQQFRUFNWrV8fV1ZXDhw8zbNgwtm/fbnacq1ev0qtXLyZPnkxkZCSVKlWicePGODs788svvxAcHMzMmTPvGGtKSgqBgYEsW7aMMmXKUKtWLdLS0tixYwe9e/c23qSJiORFWo1HROQh8fb25quvvmLFihXkz5%2BfwMBA3Nzc7usY33zzDWXLliU8PNzY99KlS/Tt25f9%2B/czZswYvvjiC6N/WFgY8%2BbNw9nZmVmzZtGoUSNj22%2B//cagQYPYtGkT9evXJzAw0Ni2YMECTp8%2BzRNPPMHKlSspUaIEAGlpaUyaNIlly5YxceJE2rdvT%2BHChTPE%2BemnnxIcHEz//v0zvY6ff/4ZFxcXwsLCjDc14eHhBAUFERYWxpEjRwgMDCQoKAg7Oztu3LjBwIEDCQsLY8WKFbRs2dI4VmhoKAcOHMDFxYXVq1dTsWJFY9vSpUuZOHEic%2BfOxd/fH3d39wyxLF26lLJly7Jt2zbjDdnZs2d59tlnOXv2LCtXruTtt9%2B%2BxysjImKdVNkXEXlIBg0aRJkyZTCZTHzyySe0bNmS//znP0yfPp1ffvmFq1ev3vMYSUlJjB492uxNQpEiRRgxYgRwc1nP48ePG9vmzp0LwFtvvWWW6AN4enoyfPhwAJYtW2a2zc3NjY4dOxIcHGwk%2BgD58uVj8ODB2Nvbc%2BnSpTt%2BSpF%2Bg/GdxMfHM2bMGLNPL9q0aYOrqysmk4nHHnvMSPQB7O3t6dGjBwAHDhwwO1bhwoXp3Lkz/fv3N0v0AV588UVcXV1JS0tj586dmcZy9uxZpk6daiT6AK6urnTu3BmAffv23fE6RESsnZJ9EZGHpHTp0nzxxRf4%2BfmRL18%2B0tLS%2BO2335g7dy4vvfQSnp6evPzyy3z99ddcv34902O4ubnRsGHDDO0eHh5GhT09AY%2BLiyMyMhKAtm3bZnq8Nm3aYGdnx99//01MTIzR/uqrrzJ16lQ6deqUYZ%2BCBQsabwDOnj2b6XG9vb2xt7/zfzGurq7Ur18/Q3u5cuWAm0uP3v6cgfRtFy5cMGvv1q0bkydP5sUXX8xwPDs7O8qXL3/XWBs1akSpUqUytFeoUAGAhISEO16HiDyafvzxR5o0acLgwYPv2u/GjRtMmzaN1q1bG//Gx8bGGtsTExMZNGgQTZo0oVmzZrz77rvZvjCDpvGIiDxErq6ufPjhhwwfPpywsDB27tzJnj17OHfuHKmpqfz000/89NNPLFy4kDlz5hgJZ7qqVatmelx7e3vKlSvH4cOHOXXqFIDZDbvplf/MPPbYY6SmpnL8%2BHGeeOIJoz0lJYUffviBv/76i/j4eC5evEj6as2XLl0Cbv5HlpnMkudbpSfgt0t/rkB6Yp/ZtszeCN24cYOff/6ZvXv3Eh8fT2JiohFb%2BpuYO8Wa2dQeAEdHRwBSU1Pvdiki8ohZuHAha9as4fHHH79n35UrV7JhwwYWLlxIqVKlmDZtGkFBQXz99dfY2dnx3nvvkZKSwsaNG0lNTeWNN95g8uTJjBw5MtviVbIvIpILSpYsSUBAAAEBAcDNG1p3797N119/zd69e4mOjua1115jw4YNODg4GPs5Ozvf8ZhFihQBbt7EC%2BYV8K1bt94zpvQEHiAqKoqgoCDjjcP9ulucgNk1Pcj2W/39998EBQVlmN6TVXpwmYjcD0dHR9asWcP48eO5du3aXfuGhoYSGBhIpUqVABg8eDBeXl7s27eP8uXLEx4ezldffWVMIxwwYABvvPEGb7311n39O3g3SvZFRKzAk08%2ByZNPPklAQADLli1jwoQJxMTE8O233%2BLn52f0u9vUmPTKdXqf9GkwDg4OREREZJgWcyfJycm8/vrr/P3331SsWJEBAwbQuHFjihcvbvzn4%2BPjw%2BnTp%2B94jKyeKzsMHDiQAwcOULJkSUJCQmjRogUlS5Y0kvjevXvz66%2B/PrR4RMT6xcfHZ5ja5%2BrqmqVFE/r06ZOlcyQnJ3PkyBFq1qxptDk5OfH4448TERHBpUuXyJcvn9lyzLVq1eLKlSscO3bsnss0Z5WSfRERK/Piiy%2ByYsUKTp48SXR0tNm2pKSkO%2B6Xvi29wl%2BsWDHg5jSUhIQEsxtQ72bHjh38/fff2NnZsWDBgkw/qraWh31FRkYSEREBwOTJk2ncuHGGPtYSq4g8gBwqHITOmMGsWbPM2oKDgwkJCcm2c1y4cAGTyZThk05nZ2cSEhIoVqwYTk5OZsWR9L7Zea%2BQkn0RkYcgLCyMH3/8kfLly991lZp06f/gp88bT3fkyJFM%2B6elpRmV9vQ56LfO74%2BOjsbLyytLsaav5lOhQoVME/2TJ09y7ty5LB0rp504cQLAWM//dpcvX77rw8ZE5NHUo0cPfHx8zNpcXV1z5Fzp9zrd77bsotV4REQegoiICEJDQ1mwYAF///33XfvGxcURFRUFkGHFmtjYWA4ePJhhn99//9148qyHhwdw8z%2BuWrVqAfD5559neq6YmBj8/PyMJTrh/z8ZuNNc1NmzZxs/3/4wrofNyckJuDmFKbMbaT/55BOjsn%2BnFY5E5NHj5uZGrVq1zL7u97kn91KsWDHs7e1JTEw0a09MTKREiRK4uLiQlJRk9u9oet9blzy2lJJ9EZGH4KWXXsLV1ZVLly7x4osvsnv37gx9TCYTu3bt4pVXXiE1NZX69evTtGlTsz5FihRh5MiRZpX1xMREPvjgA%2BDmkpdly5Y1tqU/1Grjxo0sXbrUrIp04sQJBg4cSFRUFGfOnDHaq1evDsA///xDeHi40X716lXef/99IiIijDcUx44de%2BAxyQ5Vq1Y1ljFdtWqV0X79%2BnXmz59PaGgorVq1AjBbWlRE8gh7%2B5z5eggcHR2pUqWKsQQywMWLFzl58iR169alRo0amEwmo7gDNwtDRYsWNVsZzVKaxiMi8hAUL16cxYsXExISwvHjx%2BnTpw%2Burq48%2BeSTFCpUiMTERE6dOmXcMNawYUNmzZqV4YZcHx8fYmNjad26NXXq1MHBwYF9%2B/aRlJSEk5MT//3vf836P/PMM7z22mssWLCAiRMnsnz5cp588kkSEhI4ePAgaWlp1KxZk6FDhxr7eHh40KxZM3766SdCQkKoV68ejo6O/PXXXzz22GMsWbKEb775hr1797J8%2BXIOHTrE66%2B/jqenZ84P5G1Kly7N888/T2hoKBMnTmT9%2BvUUK1aMgwcPcvnyZWbNmsWpU6f4/vvv2bx5M71796ZXr1506NDhoccqIg/gISXm2SUuLo4XX3yRhQsX4u7uTkBAAAsWLKBFixaUKlWKyZMnU6NGDerUqQNAu3btmD59OpMmTSIlJYXZs2fz/PPP89hj2ZeiK9kXEXlIqlatyoYNG/jmm2/Ytm0bUVFR7N%2B/n5SUFAoUKECpUqVo3Lgxvr6%2BtGzZMtMVbezt7Vm8eDFz5sxhy5Yt/P333xQuXJh27doxePDgTKtBQ4YMoUmTJqxYsYI///yTnTt34ujoSO3atfH19aVXr14Zlp%2BcPn06kydPZuvWrfz111%2B4ubnRrl07%2BvfvT4UKFShdujQHDhzgjz/%2BIDo6%2BqGuvnO7kSNH4uzszMaNGzl8%2BDAlSpTAy8uLfv36UaNGDZKTk9m9ezc7duwgOjr6ocyRFRHblZ6op08NTP8ENCIigtTUVGJiYkhJSQGgZ8%2BenD17lt69e3P58mW8vLzMbgweO3Yso0aNonXr1jg4ONCpU6d7PqjrftmZ9K%2BeiIjVGzFiBF999RXPPvusMWVHRMTm3bZIQba5x/r4tiRvfTYiIiIiIiJZpmk8IiIiImKd8ticfWukEcxhqampdOvWjTVr1uRqHKdOnaJatWocPXr0vvaLiYmhSZMmxrrbIiIiIg9NHl6Nx1rkSmXfx8eHuLg4s1UmXF1dadu2LQMHDqRw4cK5EVaOmDFjBsWLF%2Bf5559/6OfesmUL1apVy/ShOFn1xBNP8Nprr/Hmm2%2ByZs2aDCuDiIiIiIj1yrXMbeTIkURERBAREcH%2B/fuZP38%2BP//8M5MmTcqtkLLduXPnWL58OUFBQbly/hkzZhhPl7REQEBAhvW2ReTh%2BuCDDzh06JBuzhWRR4sq%2Bxaziqu1s7OjSpUqvPrqq4SFhRntp0%2Bfpn///nh5eeHp6cnw4cNJSkoytv/000906dKF%2BvXr4%2Bfnx86dO41tO3fupEePHnh4eNC8eXOzJz7OnDmT119/nYULF9K0aVM8PT15//33je1Xr17lvffew8vLC29vb9577z1j7dOuXbuaxb5nzx7q1q1rFle6tWvXUqFCBerVqwf8/1Sa7du306FDB%2BrVq8fbb7/NyZMn6dmzJ/Xr16d3795cuHDBOMZnn31m9G3fvj3ffvutsa13797MmzePYcOG0aBBA5o3b87XX38NQJcuXYiOjmbAgAG8/fbbxj4xMTE899xz1KlThx49evDPP/8A8O%2B//xIUFISXlxcNGjQgMDCQ2NhY4OZDIfz8/Pjss8%2By8nKKiIiIZA8l%2Bxazqqu99VHnJpOJAQMGUKZMGbZv3853331HXFycUfmPi4sjJCSE/v3789tvv/Hiiy8SFBREYmIi//zzDwMGDCAgIIA9e/awaNEiPvvsMzZs2GAc/48//uD69et8//33zJgxg08//ZT9%2B/cDMHXqVI4cOcKmTZv49ttviYyMZPbs2fj5%2BXHgwAGzee%2BbN2%2BmVatWxiPbb7Vr1y68vb0ztK9bt47PP/%2BcRYsWsXbtWkaMGMFHH31EWFgYMTExfPnllwBs27aNjz76iHHjxrFnzx4GDhzIsGHDOHTokHGslStX0qVLF3bv3k337t0ZO3YsqamprF%2B/HoA5c%2BYwceJEo/8XX3zB3Llz%2BeGHH0hKSmLRokUAfPzxxzg7O7Njxw5%2B%2BuknKlSoYPYpi5eXF3/88Yexbuy9xMfHExkZafYVHx%2BfpX1FREREJHtYRbJ/48YNDh48yMKFC%2BncuTNw88EE0dHRDBs2jIIFC1KiRAlCQkJYv349JpOJTZs24e7ujq%2BvLw4ODnTt2pVx48Zx48YNNm7cSJUqVfD39ydfvnxUq1aNnj17GlVvgHz58tGvXz/y589P48aNcXFx4ejRo5hMJtatW0ffvn1xcXHBxcWFCRMm0LRpU8qXL89TTz1l9qYhPDzciPl20dHRVK1aNUP7c889R5EiRfD09KRIkSI0bdoUd3d3XF1dqVu3rnEz7Jo1a%2BjUqRNPPfUUDg4O%2BPr6UqNGDTZv3mwcK/2TCwcHBzp06EBSUtJdk%2BpevXrh5uaGi4sLjRs3Nh4ff/HiRRwcHMifPz%2BFChVi9OjRZg99qFKlClevXjWq/fcSGhpK165dzb5CV6/O0r4iIiJiPTZuzMWTq7JvsVxbevP9999nwoQJwM1kv2DBgvTu3duY3x4bG0taWhpeXl5m%2B6WlpZGQkMDJkycpX7682baOHTsCcPLkSSIiIownnMHNTwpufbJk2bJlzW42LViwIMnJySQkJHDx4kWzY1evXt342c/Pj/nz5zNo0CAiIiK4fPkyLVq0yPQaExMTKVasWIb2MmXKGD87OjpSqlQps9/Tq%2BenTp3K8MnA448/zunTp43fb42zQIECACQnJ2caT2b908/1yiuv8Prrr/Pjjz/SrFkzOnToQOPGjY2%2BxYsXByAhIeGOx75Vjx498PHxMWtz7dwZli3L0v5Wq3p1WLUKevWCqKjcjuaBRa36I7dDsJijIzzxBMTEPFLPRrFKtvRaVLc/nNshWM7RER5/HE6cyNMvyI5/MhbL8honJ2jQAP74AzKZ7SvyUORasj9y5EgCAgKAm3Pvg4KC8PPz47HHbobk6OhIoUKF2Lt3b6b729vbc%2BPGjUy3FShQgKeffpp58%2Bbd8fx3WlUmvf1Ox%2B7QoQPvv/8%2Bf/75J99//z3t27fP8Jj5W2X2CPnb2%2B4Uy52mzNy6f3atjlOnTh22bdvGjz/%2ByPbt2wkODqZ79%2B689dZbZufM6gOX3dzccHNzM2/836cINiEqCu7wZzMvuHo1tyPIPteu2db15GU28VrY5/ULuEUef0EuXsztCLJPUpJtXc9D9YhV4XOCVYxgs2bNaN26Ne%2B9956RTFaoUIErV66YTRtJSkoyKsvly5c3pqCkW7FiBbGxsVSoUIHDhw%2BbJaZnz57N0nzzYsWKUbRoUbNjR0ZGGlOAnJycaN26Nd999x2bNm2iS5cudz1WVivhmalQoQLHjh0zazt27Bju7u4PfMw7SUxMxMHBgdatWzNu3Djmzp1rdkPu%2BfPnAXBxccn2c4uIiIhkStN4LGY1V/vOO%2B8QFRVFaGgoAFWrVsXDw4Px48dz/vx5Ll68yKhRoxg%2BfDgAnTp14syZM3z%2B%2BeekpKTwzTffMHXqVAoXLkzHjh1JTExkzpw5JCcnExsbS9%2B%2BfVmWxSkkXbt2ZdGiRcTFxZGQkMC4ceOIjo42tvv5%2BfHFF1%2BQmppKw4YN73icKlWqmO13v/z8/NiwYQN//vknqamprF27lujoaGO60r04Ojpy4sSJTFcKul3Pnj1ZuHAh165dIzU1lX379pmtz3/kyBEKFCiQI280RERERCRnWE2yX7JkSd58800%2B%2Bugj4uLiAJgyZQomk4nWrVvTtm1b0tLSjDWmS5YsySeffMLSpUvx9PRkwYIFzJ49GxcXF4oXL86cOXPYunUrnp6e/Oc//6FVq1b07ds3S7EMGTKEunXr4uvri6%2BvL1WqVCE4ONjY3qxZMwoWLEinTp0ynaaTztvbm127dj3wmHTs2JF%2B/foxfPhwvLy8WLVqFYsXL6ZixYpZ2r9nz558%2BOGHDBs27J59p0%2Bfzvfff4%2B3tzdNmjRh586dTJ482di%2Be/duGjZseNcpSyIiIiLZSpV9i9mZsjoJWwxJSUk8/fTTrF279q5Ppz137hw%2BPj58%2Bumn1K1b9yFGmL1SUlJo1aoVo0aN4plnnnnwA93ljVGe4eFx806rBg3y9Jz9vX/k/b/2BQvevF86KipPT0u2Cbb0WnjY78vtECxXsCBUrQqHD%2BfpF2RjbL3cDsFiRYtCixawY0fen7PfqVMunfiWRUyy1f8Ky4%2BCR%2ButTTa4du0aY8eOpVmzZndN9AFKlChBnz59mDNnzkOKLmesXr2aUqVK0aZNm9wORURERB4lquxb7NG6Wgvt2bMHT09Pzp07x6hRo7K0z8CBAzl37hxr1qzJ4ehyxvHjx5k/fz5Tp07NtpV/RERERLJEyb7Fcm3pzbzoqaeeMp6ym1UODg588cUXORRRzqtYsSK//PJLbochIiIiIg9Ayb6IiIiIWKdHrAqfEzSCIiIiIiI2SpV9EREREbFOquxbTMm%2BiIiIiFgnJfsW0wiKiIiIiNgoVfZFRERExDqpsm8xjaCIiIiIiI1SZV9ERERErJMq%2BxZTsi8iIiIi1knJvsU0giIiIiIiNkqVfRERERGxTqrsW0wjKCIiIiJio1TZFxERERHrpMq%2BxZTsi4iIiIh1UrJvMY2giIiIiIiNUmVfRERERKyTKvsW0wiKiIiIiNgoVfZFRERExDqpsm8xJfsiIiIiYp2U7FtMIygiIiIiYqNU2RcRERER66TKvsU0giIiIiIiNkqVfRERERGxTqrsW0zJvoiIiIhYJyX7FtMIioiIiIjYKFX2RURERMQ6WWll//Tp04wZM4Z9%2B/ZRqFAhfH19GTJkCPa3xdu3b19%2B%2B%2B03s7br168TFBREcHAwvXv35o8//jDb74knnmD9%2BvXZFquSfRERERGR%2BxASEkKtWrUIDw/n3Llz9OvXj5IlS/LSSy%2BZ9Vu8eLHZ7xcvXsTX15e2bdsabePGjaNr1645Fqt1vl0SEREREbG3z5kvC0RERBAVFcXQoUMpUqQIFStWJDAwkNDQ0HvuO336dNq2bUu1atUsiuF%2BqLIvIiIiItYph6bxxMfHc/bsWbM2V1dX3Nzc7rlvZGQk5cqVw9nZ2WirVasWMTExJCUl4eTklOl%2BJ06cYN26dYSHh5u1f/vttyxatIgzZ85Qr149xo4dS4UKFR7gqjKnyr6IiIiIPFJCQ0Pp2rWr2VdWKvMAiYmJFC1a1KwtPfFPSEi4434LFizgueeew8XFxWirVKkSVapUYdWqVWzduhUXFxdeeeUVUlJSHuCqMqfKvoiIiIhYpxyq7Pfo0QMfHx%2BzNldX1yzvbzKZ7ut8iYmJfP3112zatMmsffTo0Wa/jx07Fi8vL37//XcaN258X%2Be4EyX7IiIiImKdcijZd3Nzy9KUncy4uLiQmJho1paYmIidnZ1Z1f5WW7du5YknnsDd3f2ux3ZycsLZ2Zm4uLgHii0zmsYjIiIiIpJFtWvX5syZM5w/f95oi4iIoHLlyhQuXDjTfbZu3UrTpk3N2pKSkhg9erRZYn/%2B/HnOnz9/zzcF90PJvoiIiIhYJytcjadmzZrUqVOHKVOmkJSUxNGjR1myZAkBAQEAtG/fnj179pjtc/DgQcqXL2/W5uTkxL59%2B3j//fdJTEzkwoULjBkzhmrVquHh4WFRjLdSsi8iIiIich9mzJhBfHw8TZs2pU%2BfPvj7%2B9OrVy8AYmJiuHLliln/s2fPUrJkyQzHmT17NiaTiXbt2tGyZUtSU1NZsGBBhodzWUJz9kVERETEOlnpE3RLly7NwoULM9126NChDG1//fVXpn3Lli3LrFmzsjW22ynZFxERERHrZKXJfl6iERQRERERsVGq7IuIiIiIdVJl32JK9uWh2fvH/T2AwhoVLAjVgahVf3D1am5H8%2BA8GtjldgiW8/CAP/6geq8GsHdvbkfzaLOl1%2BKZZ3I7AstVrgyzZ8PHH8ORI7kdzQPrNHZsbodguUKFgDq0KB4Bjlfu2d26eeV2APKAlOyLiIiIiHVSZd9iSvZFRERExDop2beYRlBERERExEapsi8iIiIi1kmVfYtpBEVEREREbJQq%2ByIiIiJinVTZt5iSfRERERGxTkr2LaYRFBERERGxUarsi4iIiIh1UmXfYhpBEREREREbpcq%2BiIiIiFgnVfYtpmRfRERERKyTkn2LaQRFRERERGyUKvsiIiIiYp1U2beYRlBERERExEapsi8iIiIi1kmVfYsp2RcRERER66Rk32IaQRERERERG6XKvoiIiIhYJ1X2LaYRFBERERGxUarsi4iIiIh1UmXfYkr2RURERMQ6Kdm3mEZQRERERMRGqbIvIiIiItZJlX2LaQRFRERERGyUKvsiIiIiYp1U2beYkn0RERERsU5K9i2mERQRERERsVGq7IuIiIiIdVJl32IaQRERERERG6XKvoiIiIhYJ1X2LaZkX0RERESsk5J9i2kERURERERslCr7IiIiImKdVNm3mJJ9EREREbFOSvYtphEUEREREbFRquyLiIiIiHVSZd9iGkERERERERulyr6IiIiIWCcrreyfPn2aMWPGsG/fPgoVKoSvry9DhgzB/rZ4Z86cyZw5c3jsMfOU%2B/vvv6dkyZJcu3aN8ePHs337dq5du4aXlxdjxoyhePHi2RardY6giIiIiIi9fc58WSgkJIRSpUoRHh7OkiVLCA8PZ9myZZn29fPzIyIiwuyrZMmSAEybNo3IyEhCQ0PZvHkzJpOJt99%2B2%2BL4bqVkX0REREQkiyIiIoiKimLo0KEUKVKEihUrEhgYSGho6H0d5/r166xZs4YBAwZQpkwZihUrxqBBg9i%2BfTtxcXHZFq%2Bm8YiIiIiIdcqhaTzx8fGcPXvWrM3V1RU3N7d77hsZGUm5cuVwdnY22mrVqkVMTAxJSUk4OTmZ9T906BA9e/bk8OHDlClThhyaRgYAACAASURBVLfffptmzZpx8uRJLl26RK1atYy%2BlSpVokCBAkRGRlKqVCkLr/ImJfsiIiIi8kgJDQ1l1qxZZm3BwcGEhITcc9/ExESKFi1q1pae%2BCckJJgl%2B6VLl8bd3Z0hQ4bg5uZGaGgo/fv3Z/369SQmJgJkOFbRokVJSEh4oOvKjJJ9EREREbFOOVTZ79GjBz4%2BPmZtrq6uWd7fZDJlqV%2B3bt3o1q2b8XtgYCDffPMN69evp0WLFvd1rAelZN/KnDp1ip49e7JkyRKqVKlitm3kyJGkpKTw4YcfPpRYTCYTffv2xdvbm379%2Bj2Uc4qIiIgYcijZd3Nzy9KUncy4uLgYVfl0iYmJ2NnZ4eLics/9y5UrR3x8vNE3MTGRwoULG9svXLhAiRIlHii2zORKsu/j40NcXFyG5YlKly5NWFhYboRkFUwmE0OHDiUwMJAqVaqQlpbG8uXLeemllwB4//33H2o8dnZ2TJw4kU6dOtG0aVNq1679UM8vIiIiYm1q167NmTNnOH/%2BvJGwR0REULlyZbOkHWDOnDl4eHjQuHFjo%2B3o0aP4%2Bvri7u6Os7OzcQ8AwOHDh0lJScnWnCvXVuMZOXJkhmWIHuVEH26uuRoTE8MLL7wAwIEDB1i0aFGuxlS6dGn8/f0zzGsTERERyXFWuPRmzZo1qVOnDlOmTCEpKYmjR4%2ByZMkSAgICAGjfvj179uwBblbtx4wZw7Fjx7h27RqLFy/m5MmTPPvss%2BTLl4/u3bszb948zpw5Q0JCAlOnTqVt27bG0pzZwSqX3pw5cyb9%2BvVj0KBBNGjQAIDk5GTGjh1Ly5YtqV%2B/Pr179%2BbIkSPGPjt37uSZZ56hXr16vPzyyyxatMiYi7V27VqaNm1qdo7u3bszc%2BZM4/cVK1bQoUMH6tWrR8eOHQkPDze29e7dm3nz5jFs2DAaNGhA8%2BbN%2Bfrrr43tsbGx9O3bFw8PD1q1asXy5csBePHFF/nggw/Mzjt79mx69uyZ6XWvXr2azp07U7BgQfbv30/Pnj35999/qVOnDrt27WLEiBEMHjzYuKbOnTsTGhpK06ZNadSoEatWreKHH37gmWeeoUGDBowaNco49r3Gb8GCBbRq1Yp69erRrl07s%2Bvr0aNHti8DJSIiIpJXzZgxg/j4eJo2bUqfPn3w9/enV69eAMTExHDlyhUAhgwZQosWLQgMDMTT05ONGzeydOlSSpcuDcDAgQOpV68efn5%2BtG7dmsKFCzN%2B/PhsjdVq5%2Bz/%2BeefvPHGG0yZMgWAyZMnc%2BDAAUJDQ3F2dmbGjBkEBwezadMmbty4wVtvvUXHjh0ZNGgQBw4cYPDgwRmmCd3Jli1bmDVrFosWLaJ69eps27aNQYMGsWXLFsqWLQvAypUrmTBhAhMmTGDevHmMHTsWX19fHBwcCA4OplGjRsyePZvjx4/zwgsvUKlSJfz9/Zk6dSrDhw83YtmyZQvdu3fPEMP169fZs2cPPXr0AKBu3bqMGzeOKVOm8PPPPwOwbt06s31Onz5NXFwc33//PYsWLeKjjz6idevWfPXVV0RGRtK7d2%2B6detG7dq17zp%2Be/fuZfny5Xz%2B%2BeeUKVOGn3/%2BmZCQEJo1a0aJEiWoUqUKxYsXZ9euXfj5%2BWVpTDNb0iopyRVX1webH2ctHB3Nv%2BdZHh65HYHlqlc3/y65x5Zei8qVczsCy7m7m3/PqwoVyu0ILFeggPn3vOp/iWuusNIn6JYuXZqFCxdmuu3QoUPGz46Ojrzzzju88847mfbNnz8/o0aNMivQZjerTfbz5ctHQEAAdnZ23Lhxg7Vr1zJ9%2BnRjzdFBgwaxYsUK9u/fj8lkIj4%2Bnn79%2BuHo6IiHhwdt2rRh27ZtWTrXmjVreP755435Uc888wwNGzZk48aNvPbaawB4eHjQvHlzADp06MCsWbOIj4/nwoULHDp0iGXLllGwYEFq1KjBrFmzKFWqFPXr12fs2LHs3r2bxo0bExsby9GjR%2BnQoUOGGE6fPs2VK1eoWrVqlscoOTmZV199lfz589OqVSs%2B/vhjevbsSeHChWnUqBFFihThxIkT1KxZ867jd%2BnSJezt7SlQoAB2dnY0a9aM33//3ezNUuXKlYmOjs5ybJktaRUUFMzAgfde0ioveOKJ3I7AQn/8kdsRZJ9Vq3I7Akmn18K6jBiR2xFIutsW3Mhzdu/OvXNbabKfl%2BRasv/%2B%2B%2B8zYcIEszZvb2/jXVLp0qWxs7MD4Ny5c1y%2BfJkBAwYYbQA3btzgzJkzADg5OVGsWDFj2%2BOPP57lWE6ePMnPP/9s9phjk8lE5VsqPOXLlzd%2BLvC/d%2BjJycmcPHkyw7mbNGli/NymTRvWr19P48aN2bJlC02bNs30Tu30u7pvfUDDvTg7O1OwYEHg5jtDwOwBDI6Ojly7du2e4%2Bfj40PNmjXx8fGhcePGtGjRAj8/PwrdUlUpXrw458%2Bfz3JsmS1pdf68K1FRWT6EVXJ0vJnox8TAtWu5Hc2Dq96rQW6HYLnq1W8ml716kef/YOV1tvRa3HITXZ7l7n4z0f/gA4iNze1oHlz//rkdgeUKFLiZ6EdHQ3Jybkcjj6hcS/ZHjhxp3MiQmcce%2B//Q0pPrzz77LNO7kzdt2pSh7caNG3c9f1pamtnxhwwZQt%2B%2Bfe/Y/05Tguzt7e96Ln9/fwYOHMiYMWMICwvjP//5z13jujUZv5fMYsps/3uNH8C8efOIiopi69atrFy5ksWLF7N27VqKFCliHPd%2B1oHNbEmrvXvh6tUsH8KqXbuWx69l797cjiD7REXZ1vXkZbbwWtzHOttWLzYWbrk3K8/Jzakj2S052bau52FSZd9ieWIEixQpQrFixczmQMHNNenhZmKZlJTExYsXjW23TjlxdHTk6i2ZWVpaGqdPnzZ%2Br1ChQoZj//3331lKbt3d3bl8%2BTLx8fFGW3h4OL/%2B%2BisAjRs3pnDhwnzxxRdER0fTunXrTI%2BT/snA7eu2Zod7jV9qaipJSUlUr16doKAg1q1bh52dHb/88ovR99blpUREREQkb8gTyT5Az549mTt3LkePHiU1NZWlS5fy/PPPc/XqVerWrUvx4sVZsGABKSkp7N27l%2B3btxv7Pv7441y%2BfJmffvqJlJQU5s%2Bfb5bI9%2BjRg2%2B//Zbt27dz/fp1du3aRadOndi3b98946pRowY1a9Zk%2BvTpXL58mcOHD/Puu%2B%2BS/L%2BP6%2Bzt7encuTNTp06ldevWxrSb25UtW5ZChQpx%2BPBho61AgQJcunSJuLg443gP6m7jt3jxYl599VX%2B%2Becf4Ob6rxcuXKBChQrG/kePHr2v%2BwlERERELGaFS2/mNVZ7g%2B7tBgwYwMWLF%2BnVqxepqanUqFGDhQsXGsnz9OnTGTt2LJ9%2B%2BikNGzbkhRde4IsvvgBuPvwgMDCQwYMHky9fPmOZzHRNmzblrbfeYuzYsfz777%2BUL1%2Be0aNHU79%2B/SzFNm/ePIYPH06TJk0oUaIEAwYMMB6BDDen8ixatIjOnTvf8RgODg489dRT7Nq1izZt2gA372EoX748bdq0YdKkSfc9Zre62/i99NJL/P333/j7%2B5OcnEyZMmUYOnQoNWrUAODIkSOcP38eb29vi2IQERERuS%2BPWGKeE%2BxM9zMROw9ZvXo1CxcuzPKKPDlp165dvPPOO4SHh991OdBt27bxzjvvsH37dmOevTUYP348sbGxzJs3z6Lj5PWpvAAFC968FzEqKm/P2fdokPV7Q6yWh8fNVYUaNLCNP1x5mS29Fs88k9sRWK5yZZg9G4KC8vac/bFjczsCyxUqBHXqQERE3p%2Bz7%2BWVO%2BedNi1njvu/5xY9CvR2KYfFx8czYcIEXn755Xuu%2B9%2BqVSsqVqzIKitavi4uLo5169YRHByc26GIiIjIo0bTeCz2aF3tQzZ//nw6dOiAp6fnXVceSmdnZ8fkyZNZvHix2dNtc4vJZOLtt9/mlVdeueMqPiIiIiJivfLMnP37FRAQkKUEOyf169ePfv363dc%2B5cuX56effsqhiO6PnZ0dixcvzu0wRERE5FH1iFXhc4LNJvsiIiIikscp2beYRlBERERExEapsi8iIiIi1kmVfYtpBEVEREREbJQq%2ByIiIiJinVTZt5iSfRERERGxTkr2LaYRFBERERGxUarsi4iIiIh1UmXfYhpBEREREREbpcq%2BiIiIiFgnVfYtpmRfRERERKyTkn2LaQRFRERERGyUKvsiIiIiYp1U2beYRlBERERExEapsi8iIiIi1kmVfYsp2RcRERER66Rk32IaQRERERERG6XKvoiIiIhYJ1X2LaYRFBERERGxUarsi4iIiIh1UmXfYkr2RURERMQ6Kdm3mEZQRERERMRGqbIvIiIiItZJlX2LKdkXEREREeukZN9iGkERERERERulyr6IiIiIWCdV9i2mERQRERERsVGq7IuIiIiIdVJl32JK9kVERETEOinZt5hGUERERETERqmyLyIiIiLWSZV9i2kERURERERslCr7IiIiImKdrLSyf/r0acaMGcO%2BffsoVKgQvr6%2BDBkyBPtM4l29ejVLly4lPj6eChUqEBISQps2bQAYMWIE69evJ1%2B%2BfEZ/R0dH9uzZk22xKtkXEREREetkpcl%2BSEgItWrVIjw8nHPnztGvXz9KlizJSy%2B9ZNZv8%2BbNTJkyhfnz51O3bl3WrVvHoEGD2LRpE%2B7u7gC8/vrrhISE5Fis1jmCIiIiIiJWKCIigqioKIYOHUqRIkWoWLEigYGBhIaGZuibnJzMm2%2B%2BScOGDXFwcKBbt24ULlyYP//886HFq8q%2BiIiIiFinHKrsx8fHc/bsWbM2V1dX3Nzc7rlvZGQk5cqVw9nZ2WirVasWMTExJCUl4eTkZLT7%2BfmZ7Xvx4kUuX75MqVKljLZdu3axdetWTpw4QaVKlRg9ejS1a9d%2B0EvLQMm%2BiIiIiDxSQkNDmTVrlllbcHBwlqbTJCYmUrRoUbO29MQ/ISHBLNm/lclkYuTIkdSrV49GjRoB4O7ujr29PW%2B88QaFCxdm1qxZ9O3bl82bN1O8ePEHubQMlOyLiIiIiHXKocp%2Bjx498PHxMWtzdXXN8v4mk%2Bm%2BzpeamsqIESM4cuQIy5cvN9qDgoLM%2Bg0bNoyNGzcSHh5Ot27d7uscd6JkX0RERESsUw4l%2B25ublmaspMZFxcXEhMTzdoSExOxs7PDxcUlQ//k5GQGDBjA1atXWbly5V0r9vny5aNMmTLEx8c/UGyZ0Q26IiIiIiJZVLt2bc6cOcP58%2BeNtoiICCpXrkzhwoXN%2BppMJgYPHsxjjz3G0qVLzRJ9k8nExIkTiYqKMtpSUlI4efKksVJPdlCyLyIiIiLWyd4%2BZ74sULNmTerUqcOUKVNISkri6NGjLFmyhICAAADat29vrJO/YcMGjhw5wscff4yjo6PZcezs7Dh16hRjxowhLi6Oy5cvM3nyZBwcHIx1%2BLODkn0RERERkfswY8YM4uPjadq0KX369MHf359evXoBEBMTw5UrVwD48ssvOX36NI0aNaJOnTrG18iRIwEYP348FStWpGvXrjRp0oSDBw%2BybNkyChUqlG2xas6%2BiIiIiFgnK32oVunSpVm4cGGm2w4dOmT8vGzZsrsep1ixYkycODFbY7udkn0RERERsU5WmuznJRpBEREREREbpcq%2BiIiIiFgnVfYtphEUEREREbFRquyLiIiIiHVSZd9iSvZFRERExDop2beYRlBERERExEapsi8iIiIi1kmVfYtpBEVEREREbJQq%2ByIiIiJinVTZt5iSfRERERGxTkr2LaYRFBERERGxUarsi4iIiIh1UmXfYhpBEREREREbpcq%2BiIiIiFgnVfYtpmRfRERERKyTkn2LaQRFRERERGyUKvsiIiIiYp1U2beYRlBERERExEapsi8iIiIi1kmVfYsp2RcRERER66Rk32IaQRERERERG6XKvoiIiIhYJ1X2LaZkX0RERESsk5J9i2kERURERERslCr7IiIiImKdVNm3mEZQRERERMRGqbIvIiIiItZJlX2LKdkXEREREeukZN9iGkERERERERulyr6IiIiIWCdV9i2mERQRERERsVGq7IuIiIiIdVJl32JK9kVERETEOinZt5hGUERERETERqmyLyIiIiLWSZV9i2kERURERERslCr7IiIiImKdVNm3mJJ9EREREbFOSvYtphEUEREREbFRquyLiIiIiHVSZd9iGsEsunjxIm3atOGXX355aOesVq0aO3bsyHTb7t27qVatGteuXcuRczdt2pS1a9fy9ddf06VLlxw7j4iIiIjknPtK9n18fKhfvz6XL1/OsG3p0qVUq1aNtWvXZltwd7NkyRKuX7/%2BUM4FMHr0aJo3b06TJk0e2jmtgZ%2BfH%2BXKlWPKlCm5HYqIiIg8auztc%2BbLQqdPn%2Ba1117Dy8uLVq1a8dFHH3Hjxo1M%2By5fvpx27drRoEEDAgIC%2BOuvv4xt165d47///S8tWrTAy8uLgQMHkpCQYHF8t7rvqy1UqBDh4eEZ2jds2ICLi0u2BHUv58%2BfZ9KkSaSlpT2U8x06dIgtW7bQr1%2B/h3I%2BaxMcHMzq1auJj4/P7VBERETkUWKlyX5ISAilSpUiPDycJUuWEB4ezrJlyzL027ZtGzNnzuTDDz/kl19%2BoVWrVvTv358rV64AMG3aNCIjIwkNDWXz5s2YTCbefvtti%2BO71X1f7dNPP8369evN2k6cOEFCQgKVK1c2a//ss8/o0KED9erVo3379nz77bfGtt69ezNv3jyGDRtGgwYNaN68OV9//bWx/fTp0/Tv3x8vLy88PT0ZPnw4SUlJ/Pvvv7Ro0QKTycRTTz1lfJKwdOlS2rRpg4eHBx06dGDLli3GsUaMGMG7775L79696dSpE%2B%2B88w4hISFmsa5bt46nn34603dlq1evplmzZpQuXdpo%2B%2Bmnn%2BjSpQv169fHz8%2BPnTt33nHMFi9eTKtWrWjQoAEvv/wyp06dutsQm4mNjaVHjx7Ur1%2Bf559/niNHjmTa759//uH111/Hy8uLhg0bMnjwYBITE43te/bsoXv37nh4eNCsWTOmTZtmXOv169cZN24cXl5eNG/enC%2B%2B%2BMLs2LVq1aJq1aoP7VMbEREREWsVERFBVFQUQ4cOpUiRIlSsWJHAwEBCQ0Mz9A0NDaVr167Uq1ePAgUK8MorrwDw/fffc/36ddasWcOAAQMoU6YMxYoVY9CgQWzfvp24uLhsi/e%2Bb9D18fFh2LBh/Pvvv5QsWRK4WdVv166d2ccS27Zt46OPPmL%2B/PnUq1ePsLAwhg0bRqVKlahWrRoAK1euZMKECUyYMIF58%2BYxduxYfH19eeyxxxgwYAANGjRg2rRpXLlyhTfffJNJkyYxbtw4PvnkE/r06cOePXtwdHTkt99%2BY8qUKXz55ZdUqVKFr776iqFDh7J9%2B3bj04atW7cyceJEWrZsyW%2B//cbLL7/MpUuXKFKkCABbtmyhY8eO2Gfybm/nzp0EBAQYv8fFxRESEsL48eNp27YtGzZsICgoiG3btlGsWDGzfcPDw1m4cCFLlizhySefZOzYsQwdOpTPPvssS%2BO9atUqpk%2BfTtmyZXnvvfd44403%2BOabbzL0GzBgAJUrV2br1q0kJyfzxhtvMGrUKD7%2B%2BGP%2B/fdfXn75ZYYPH063bt04cuQIr776Km5ubrzwwgt8%2BeWXfPfdd6xatYoyZcowadIkLly4YHb8Ro0asWvXLvr375%2BluOPj4zl79qxZW1KSK66ublna31o5Opp/z7M8PHI7AstVr27%2BXXKPLb0WtxWt8iR3d/PveVWhQrkdgeUKFDD/nlf9rwqdK3LoBt3M8hRXV1fc3O6dp0RGRlKuXDmcnZ2Ntlq1ahETE0NSUhJOTk5mfX19fY3f7e3tqVGjBhEREdSoUYNLly5Rq1YtY3ulSpUoUKAAkZGRlCpVypJLNNx3sl%2B0aFGaNWvGt99%2BS58%2BfQD45ptvmDp1qlmyv2bNGjp16sRTTz0FgK%2BvL4sXL2bz5s1Gsu/h4UHz5s0B6NChA7NmzSI%2BPp5z584RHR3N6tWrKViwIAULFiQkJISXX36ZsWPHZoipYcOG/PzzzxQtWhSATp068fbbb3P48GG8vb0BKFeuHK1atQLA09MTV1dXvvvuO7p168aVK1f4%2BeefGThwYIZjp6amcvz4cSNmgE2bNuHu7m68eF27dsXR0THTTwW%2B/PJLOnbsSPX//Sc4ePBgfv31V27cuJHpG4vb%2Bfn5UaVKFQBee%2B01/Pz8OH36tFmfgwcPEhkZyfz583FycsLJyYnXXnuNoKAgUlJS2LhxI2XLluWFF14AoGbNmvj5%2BbFp0yZeeOEFwsLC6Ny5M5UqVQLgjTfeyPDutGrVqhk%2B0bmb0NBQZs2aZdYWFBTMwIEhd9gjb3niidyOwEJ//JHbEWSfVatyOwJJp9fCuowYkdsRSLr//T%2BeZ%2B3endsRZLvM8pTg4OAMMz8yk5iYaOSc6dIT/4SEBLNkPzEx0exNQXrfhIQEYwbG7ccqWrRots7bf6ClN/39/Zk3bx59%2BvThwIEDxruUW506dcpItNM9/vjjZolq%2BfLljZ8L/O9db3JyMrGxsaSlpeHl5WW2f1paWqYXn5aWxuzZs/nuu%2B84f/680Z6SkmL8XK5cOeNnOzs7unTpwoYNG%2BjWrRs7duzA3d3dSMhvlV7hvvWFOnnypFnsAB07dsywL9ychnPrdZQoUYIOHTpk2jcz6Qk4gPv/qjS3f7Rz6tQpnJ2dcXV1NdoqVKhAamoqcXFxnDp1yuw4cPO12LRpk3G8li1bGttcXFwy/MEsXrw4CQkJmEwm7Ozs7hl3jx498PHxMWs7f96VqKh77mrVHB1vJvoxMZCXFyiq3qtBbodguerVbyaXvXqR5/9g5XW29Fo0bpzbEVjO3f1mov/BBxAbm9vRPLgsfpJs1QoUuJnoR0dDcnJuR5Mnmbh3zvEgMstTbs2j7sVkMmVb3/s51oN4oGS/RYsWvPvuuxw/fpwNGzbQuXPnDH1uTbRvdWuieKfKtqOjI4UKFWLv3r1Zimf27Nls2rSJefPmUb16dUwmEzVr1jTrky9fPrPf/f39mT9/PnFxcUZl%2B25uj/tOd1xntp8lL%2BKtY5R%2BHEdHR1JTU432O411%2Bvnv9VqkpKRkWNno9uvLSoJ/Kzc3twwfhe3dC1ev3tdhrNa1a3n8WrL4dytPiIqyrevJy2zhtbiP/%2BytXmws3OE%2BrzwhN6eOZLfkZNu6nocoi%2BnWfcssT8kqFxcXs/si4WYF387OLsNiNcWLF8%2B0b5UqVYy%2BiYmJFC5c2Nh%2B4cIFSpQo8UCxZeaBJkLlz5%2BfDh06sHnzZjZv3kynTp0y9KlQoQLHjh0zazt27JhRnb6bChUqcOXKFWJvqUgkJSXd8SONiIgIWrduTc2aNbG3tycyMvKe56hYsSJ169Zl/fr1bN%2B%2B/Y7JfnqF%2B9YXqnz58sTExJj1W7FihVm86dzd3c36nj9/nsWLF5sl63dz677px799Dpe7uzsXLlzg33//NdqOHTuGo6MjpUqVuudr4ebmxj///GNsi4%2BP5%2BLFi2b9z58/T7Fixe476RcRERGxJbVr1%2BbMmTNms0kiIiKoXLmyWdKe3vfWvDQtLY0DBw5Qr1493N3dcXZ2Ntt%2B%2BPBhUlJSqF27drbF%2B8B3Pfj7%2BxMaGkqpUqUyTGmBm3PNN2zYwJ9//klqaipr164lOjr6jtNdblW1alU8PDwYP34858%2Bf5%2BLFi4waNYrhw4cD/z/lJyYmhitXrlCuXDmioqK4evUqR44cYdGiRRQpUuSedzL7%2BfkZnwaULVs20z4ODg5UrFiRw4cPG22dOnXizJkzfP7556SkpBj3LKS/wO3bt2fPnj0APPfcc3zzzTfs27ePlJQUY7qRg4MD%2B/fvp3379netzK9bt44TJ06QnJzMokWL8PDwMG6MTlenTh0qVarElClTuHLlCnFxccydO5eOHTvi4OBAhw4diI2NJTQ0lOvXr7N//36%2B%2Buornn32WQCaN2/Oxo0bOX78OElJSUybNg3H2%2B5AjY6OpmrVqncdTxEREZHsdONGznxZombNmtSpU4cpU6aQlJTE0aNHWbJkibGYy615YEBAAOvWrePPP//k6tWrzJ07l/z589OyZUvy5ctH9%2B7dmTdvHmfOnCEhIYGpU6fStm3bDLmeJR442a9fvz4ODg53rIh37NiRfv36MXz4cLy8vFi1ahWLFy%2BmYsWKWTr%2BlClTMJlMtG7dmrZt25KWlsYHH3wAQI0aNfDw8OD5559n9erV9OvXj7S0NLy9vRkxYgQhISE8%2B%2ByzvP/%2B%2B2zduvWO5%2BjYsSPXrl275xSexo0bs2vXLuP3kiVL8sknn7B06VI8PT1ZsGABs2fPNj6OSX8TAtC6dWsGDx5MUFAQ3t7eHD9%2B3HhA1dWrV4mJibnrNJ/evXszZMgQvL29OXXqlDEGt7Kzs2POnDnEx8fTsmVLunfvTr169fjvf/8L3LxfYdasWYSGhuLp6cmwYcN444038Pf3ByAwMJBWrVrRvXt32rdvj4eHh9kyowC//vprhnswRERERB5FM2bMID4%2BnqZNm9KnTx/8/f3p1asXYJ4HtmjRgjfffJNBgwbRqFEjfvnlFxYsWGAUrgcOHEi9evXw8/OjdevWFC5cmPHjx2drrHamnL4rwIqdPHkSf39/duzYYXbn9O2ioqJ4/vnn2bp1a7Ytg5SXHDx4kO7du7N169YHnt8GeX8qL0DBgjfvRYyKyttz9j0a2MB0LA%2BPm6sKNWhgG3%2B48jJbei2eeSa3I7Bc5cowezYEBeXtOfuZrL6X5xQqBHXqQERE3p%2Bzf9uiKQ9LTi2GkeeX0L4PObN4aR5w6dIlRo0aRc%2BePe%2Ba6ANUr16dZ555hgULFjyk6KzLrFmzCAgIsCjRFxEREblf1jiNJ695JJP9DRs20Lx5c4oXL56l9VQBRo8ezQ8/LJqXNgAAIABJREFU/HDXJ%2BXaovXr1xMbG8uQIUNyOxQRERERuU8PtPRmXte5c%2Bd7ztO/XdGiRQkPD8%2BhiKxXly5d6NKlS26HISIiIo%2BgR60KnxMeycq%2BiIiIiMij4JGs7IuIiIiI9VNl33JK9kVERETEKinZt5ym8YiIiIiI2ChV9kVERETEKqmybzlV9kVEREREbJQq%2ByIiIiJilVTZt5ySfRERERGxSkr2LadpPCIiIiIiNkqVfRERERGxSqrsW07JvoiIiIhYJSX7ltM0HhERERERG6XKvoiIiIhYJVX2LafKvoiIiIiIjVJlX0RERESskir7llOyLyIiIiJWScm%2B5TSNR0RERETERqmyLyIiIiJWSZV9y6myLyIiIiJio1TZFxERERGrpMq%2B5ZTsi4iIiIhVUrJvOU3jERERERGxUarsi4iIiIhVUmXfcqrsi4iIiIjYKFX2RURERMQqqbJvOSX7IiIiImKVlOxbTtN4RERERERslCr7IiIiImKVVNm3nCr7IiIiIiI2SpV9EREREbFKquxbTsm%2BiIiIiFglJfuW0zQeEREREREbpcq%2BiIjI/7F353E15f8fwF%2B3RVlahBotGEsJIRNhspR9qTCWmK/la6wphDGW8ZuYMcxMdhpDjBmDMkSLPYy%2BfMtoGGUnIlE3LSp0b8v9/eHrjqtccdW5dV7Px6NH%2Bpxzz33lcHv3vp/zOUSkldjZ1xw7%2B0REREREVRQ7%2B0RERESkldjZ1xyLfSIiIiLSSiz2NcdpPEREREREVRQ7%2B0RERESkldjZ1xw7%2B0REREREVRSLfSIiIiLSSsXF5fNRnrKzszFz5kx07twZLi4uWLhwIfLz81%2B7/9GjR%2BHh4QFHR0f06dMHu3fvVm5bt24d7O3t4eDgoPLx6NGjMufhNB6qMI46F4WOoDmd6gBs0VznBqDzTOg07653b6ETaK5p0%2BefO3UC6tUTNovYVaVzcfSo0Ak0l57%2B/HNMDHDhgrBZNCALPyJ0BI1JJEA1AHI7BygUQqfRjIFAz1sZp/EsWrQIcrkckZGRKCgowIwZMxAQEIAvv/yyxL7x8fGYM2cOVq5cie7du%2BPMmTOYNm0aGjduDCcnJwCAp6cnli9f/s552NknIiIiInoPHj16hKioKPj5%2BcHMzAwWFhbw9vbG3r17UVBQUGL/7OxsTJ48GT179oSenh66desGW1tbxMXFvbdM7OwTERERkVYqr86%2BVCpF%2Bot3wf6nXr16MDc31%2Bi4V69eha6uLuzs7JRjLVu2xNOnT3H79m2VcQDo2rUrunbtqvy6sLAQ6enpsLCwUI5dv34dXl5euHHjBurXr4/58%2BfDxcWlzJlY7BMRERGRqISEhGD9%2BvUqYz4%2BPvD19dXouNnZ2ahVqxYkEolyzMTEBACQlZX1xscHBASgRo0a6N%2B/PwDggw8%2BgI2NDWbPng1zc3OEhIRgypQpCA8PR%2BPGjcuUicU%2BEREREWml8ursjxgxAm5ubipj9cp4zVFYWBjmzp1b6jY/Pz8o3uECDYVCgYCAAERGRuLXX3%2BFgcHzqySGDRuGYcOGKfcbN24cDhw4gPDwcMycObNMx2axT0RERERaqbyKfXNz83eesuPp6QlPT89St505cwZ5eXkoKiqCrq4ugOfdfgCoU6dOqY8pLi7G/PnzER8fj127dsHGxkbt81tZWUEqlZY5Ly/QJSIiIiJ6D%2Bzt7aFQKHDt2jXlWEJCAoyNjfHhhx%2BW%2Bphvv/0WN2/eLLXQDwwMRExMjMpYYmLiG38heBmLfSIiIiLSSpVtnX0zMzP06dMHq1evRmZmJlJTU7FhwwYMHToUenrPJ9SMHTsWBw8eBAD89ddfCA8Px6ZNm2BqalrieNnZ2Vi8eDFu374NmUyGrVu34t69exg8eHCZM3EaDxERERHRe7JkyRJ89dVX6NGjB/T19TFw4ED4%2BfkptycnJ%2BPx48cAgL179yI3Nxeurq4qx2jfvj22bt2K2bNnA3g%2BVz87OxtNmzbFtm3b8MEHH5Q5D4t9IiIiItJKlfGmWkZGRli5cuVrt584cUL552%2B//Rbffvvta/c1MDDAggULsGDBgnfOw2KfiIiIiLRSZSz2tQ3n7BMRERERVVHs7BMRERGRVmJnX3Ps7BMRERERVVHs7BMRERGRVmJnX3Ms9omIiIhIK7HY1xyn8RARERERVVHs7BMRERGRVmJnX3Ms9omIiIhIK7HY1xyn8RARERERVVHs7BMRERGRVmJnX3Ps7BMRERERVVHs7BMRERGRVmJnX3Ms9omIiIhIK7HY1xyn8RARERERVVHs7BMRERGRVmJnX3Ps7BMRERERVVHs7BMRERGRVmJnX3Ms9omIiIhIK7HY1xyn8RARERERVVHs7BMRERGRVmJnX3Ps7BMRERERVVHs7BMRERGRVmJnX3Ms9omIiIhIK7HY1xyn8RARERERVVHs7BMRERGRVmJnX3Ps7BMRERERVVHs7BMRERGRVmJnX3Ms9omIiIhIK7HY1xyn8RARERERVVHs7BMRERGRVmJnX3Ps7BMRERERVVHs7BMRERGRVmJnX3Ms9omIiIhIK7HY15zopvF8%2BeWXmDt3boU93/379%2BHi4oKbN29W2HOWJjQ0FB9//PFbPy4sLAweHh6QyWTlkIqIiIiIylOV6uyPHz8e586dAwAUFRWhuLgY%2Bvr6yu2HDx/GN998U2F5FAoF5syZg3HjxqFZs2YV9rwv/Pzzzxg9ejT09N79NHt6euLw4cNYsWIFFixY8B7TEREREanHzr7mqlRnf%2BvWrUhISEBCQgKmTp2K1q1bK79OSEiAlZVVheY5efIk7ty5g08//bRCnxcAMjMz8d1336GoqEjjY/n4%2BGDXrl2QSqXvIRkRERERVZQqVeyXxbx58%2BDn5wfg%2BdQWd3d3hISE4OOPP0aHDh2wc%2BdOnDp1Cr1790a7du3w1VdfKR%2Bbn5%2BPJUuWoHv37mjbti1Gjx6NW7duvfa5du3aBXd3d1SvXv2dnk8mk%2BGbb75B9%2B7d0aZNG3z66ae4evWqcrudnR2OHj2KkSNHom3btnB3d8eVK1fw6NEjdO3aFQqFAk5OTggNDVU%2B5tixY%2BjRowccHBwwd%2B5cFBQUAAAuXryI4cOHw9HREc7Ozli4cCHy8/MBAC1btoStra3KcYiIiIjKW3Fx%2BXyISZWaxvMuUlJSkJaWhpMnTyIoKAg//PADevTogX379uHy5csYPXo0hg0bhlatWiEgIABXrlxBSEgITExMsHbtWvj4%2BODQoUOQSCQqxy0sLERcXBxGjBjxzs%2B3atUqnDt3Dr/99hvq1q2LFStWYPLkyYiKikK1atUAAEFBQVi%2BfDnq168PHx8frFq1Cps3b8aWLVswZswYxMXFwcDAAKGhoXjy5An%2B%2BusvREREICkpCcOHD0fPnj3Ru3dvzJ07FxMmTMAnn3yCR48ewdvbGyEhIRg7diwAoEOHDoiNjcWUKVPK9PcqlUqRnp6uMlYvLw/m9eq966nSDgYGqp8rq6ZNhU6gORsb1c8knKp0Ll553aqUmjdX/VxJvfJjtVJ68T1U9u9FoRDuucVWmJcH0Rf7%2Bfn5mDhxIqpVqwZXV1esWbMGXl5eqFmzJjp06AAjIyPcvXsXLVq0QGhoKFavXg0LCwsAwMyZM/Hbb78hPj4ebdq0UTluSkoKnj59Cltb23d6vlatWmHPnj1YsmQJrK2tVZ7v/Pnz6NixI4Dnc%2BobN24MAHBzc8OWLVte%2B73KZDL4%2BvqiRo0aaNGiBRo3bow7d%2B4AAHJyclCjRg3o6OjA3Nwcu3fvho7OP2/82NraIjw8vMx/ryEhIVi/fr3KmM%2B0afCdPr3Mx9BqDRsKnUAzGzYIneD9mTdP6AT0As%2BFdtm5U%2BgEGqkmdID36KXLByslrtFRuYm%2B2DcxMVFOs3nRLX9RzAOAgYEBZDIZMjIy8OTJE3h7e6t08YuLi/Hw4cMSxX52drby%2BO/yfI8fP0Zubq6ykAeAmjVrok6dOkhJSVGOvfhFAACqV6%2BudtWc2rVro2bNmsqvDQ0NIZfLAQCzZs3CggULsGXLFri4uMDT0xNNmjRReWxWVhYUCkWJdzFKM2LECLi5uamM1cvOBm7ceONjtZqBwfNC/%2B7dyv3qt2aN0Ak0Z2PzvLhcvhxIThY6jbhVpXMREyN0As01b/680B81Crh2Teg070wee17oCBqTSJ4X%2BgUFwnbHKzN29jUn%2BmL/5e71C6UVs4aGhgCA4OBgtGrVqszHf/VYZX2%2BF0X4m45ZlsK7LPsOGzYMPXv2xIkTJ3D8%2BHEMGjQIq1atQs%2BePd/6eQDA3Nwc5ubmqoMXLwLPnr3VcbSWTFa5vxc115pUOsnJVev7qcyqwrm4cEHoBO/PtWuV%2BvupSsWxQlG1vh%2BqXER3ge67MjIygqmpKa5fv64yfv/%2B/VL3NzU1BfBPh/9t1alTBzVr1sTt27eVY48fP0ZGRgYaNGjwTsdUJysrC7Vr18Ynn3yCwMBATJ48GXv27FFuz8zMhKmp6VsX/URERETvqjJeoJudnY2ZM2eic%2BfOcHFxUVn05FWhoaFo3rw5HBwcVD7i4%2BP/9/0XY9WqVejRowfat2%2BPzz77DMlv%2BQ4qi/234OXlhR9//BGJiYkoKCjAtm3bMHToUDwrpcNraWmJGjVq4MY7TlvR0dHBwIEDsWnTJqSmpuLp06cICAiAjY0NHB0d3/j4F%2B9E3LlzB0%2BfPlW7b2pqKtzc3HD69GkUFxcjNzcXN27cUPml4ubNmyWuPyAiIiIqT5Wx2F%2B0aBGePXuGyMhI7N27F4mJiQgICHjt/u3bt1dZKj4hIQGtW7cGAOzYsQMRERHYtGkTTp48iUaNGmHatGlQvMVbRSz234K3tze6dOmCUaNGwdnZGceOHcPmzZuVc/Bfpq%2BvDycnJ8TGxr7z882bNw/29vYYNmwYXF1dkZ6ejp9//hm6urpvfKy9vT0cHR0xdOhQ7Nq1S%2B2%2BH3zwAZYuXYqlS5fC0dERffv2Rc2aNTH9pYtp//zzT%2BVFwURERERU0qNHjxAVFQU/Pz%2BYmZnBwsIC3t7e2Lt3r3K587cREhKCcePGoUmTJqhVqxb8/PyQmJiIixcvlvkYEsXb/GpAb%2BXEiRNYsGAB/vjjD2WnvTK6evUqhg8fjuPHj5ech/823uIfptaqXh2wtX1%2BoXFlnrM/d67QCTTXtOnzVYWmTav888Qru6p0Lo4eFTqB5hwdgfPngXbtKvWcfVl%2B5S9PJBKgWjVALq/8c/aFWnF68eLyOe7UqaUsEV6vnmZ1DoD//Oc/mDp1KhISEpRTnzMyMtC5c2eEh4fDzs5OZf/Q0FAEBgbCxsYGly5dgrGxMaZPnw5PT0/k5%2Bejbdu2%2BO233%2BDk5KR8TP/%2B/TFy5EiMHj26TJlEf4FueXJ1dUWjRo2wc%2BdOjB8/Xug472z9%2BvUYOXKkxv8BiIiIiLRBqUuE%2B/jA19dXo%2BNmZ2ejVq1aKtc4vliZMSsrq8T%2BZmZmaNSoEWbNmoWmTZvi2LFjmDt3LszNzdG4cWMoFIpSV3Ys7Vivw2K/HEkkEgQEBMDLywtdu3ZF00p4I6Pw8HAkJydj5cqVQkchIiIikSmv%2BfWlLhFexht/hoWFYe5r3iH38/N7q/n03bt3R/fu3ZVfDxgwAMeOHUNoaCjmzJkDAG91vNKw2C9n1tbWOH36tNAx3pmHhwc8PDyEjkFEREQiVF7FfqlLhJeRp6cnPD09S9125swZ5OXloaioSHmN5YuVGevUqVOm41tZWeHSpUswNTWFjo5OiZUds7Ozy3wsgBfoEhERERG9F/b29lAoFLj20g3tEhISYGxsjA8//LDE/rt27cLBgwdVxhITE2FjYwMDAwM0a9YMly9fVm7LycnBvXv3lKv1lAWLfSIiIiLSSpVt6U0zMzP06dMHq1evRmZmJlJTU7FhwwYMHToUenrPJ9SMHTtWWeDL5XJ8/fXXSEhIQEFBASIjIxEdHQ0vLy8AwMiRI/Hrr78iMTEReXl5CAgIgL29PRwcHMqcidN4iIiIiEgrlfea%2BOVhyZIl%2BOqrr9CjRw/o6%2Btj4MCB8PPzU25PTk7G48ePAQBjxozBkydPMGPGDKSnp8Pa2hobNmxAq1atADy/x1N6ejpGjx6NJ0%2BewNnZucSFxW/CYp%2BIiIiI6D0xMjJSu7DJiRMnlH%2BWSCTw9vaGt7d3qftKJBJMnz5d5d5Hb4vFPhERERFppcrY2dc2nLNPRERERFRFsbNPRERERFqJnX3NsdgnIiIiIq3EYl9znMZDRERERFRFsbNPRERERFqJnX3NsbNPRERERFRFsbNPRERERFqJnX3NsdgnIiIiIq3EYl9znMZDRERERFRFsbNPRERERFqJnX3NsbNPRERERFRFsbNPRERERFqJnX3NsdgnIiIiIq3EYl9znMZDRERERFRFsbNPRERERFqJnX3NsbNPRERERFRFsbNPRERERFqJnX3NsdgnIiIiIq3EYl9znMZDRERERFRFsbNPRERERFqJnX3NsbNPRERERFRFsbNPRERERFqJnX3NsdgnIiIiIq3EYl9znMZDRERERFRFsbNPRERERFqJnX3NsbNPRERERFRFsbNPRERERFqJnX3NsdgnIiIiIq3EYl9znMZDRERERFRFsbNPRERERFqJnX3NsbNPRERERFRFsbNPRERERFqJnX3NsdgnIiIiIq3EYl9znMZDRERERFRFsbNPRERERFqJnX3NSRQKhULoECQOkZFCJ9CcsTHQtSsQHQ3k5Aid5t0NrHdW6Aiaq1EDcHAAEhKAp0%2BFTiNuVehcyNo6Cx1BYxIJUK0aIJcDlfknvIGhROgImnN0BM6fB9q1Ay5cEDqNZgT6x%2BTuXj7HjYgon%2BNqI3b2iYiIiEgrsbOvORb7RERERKSVWOxrjhfoEhERERFVUezsExEREZFWYmdfcyz2iYiIiEgrsdjXHIt9IiIiIqL3JDs7G/7%2B/vjzzz%2Bho6ODbt26YdGiRTA0NCyx75dffomwsDCVsaKiInh6emLZsmWYN28ewsPDoaurq9xuYGCAuLi4MufhnH0iIiIi0krFxeXzUZ4WLVqEZ8%2BeITIyEnv37kViYiICAgJK3febb75BQkKC8uPChQto3Lgx%2Bvbtq9xn6tSpKvu8TaEPsNgnIiIiInovHj16hKioKPj5%2BcHMzAwWFhbw9vbG3r17UVBQ8MbH//LLL7C0tES3bt3eWyZO4yEiIiIirVReXXipVIr09HSVsXr16sHc3Fyj4169ehW6urqws7NTjrVs2RJPnz7F7du3VcZflZOTg40bN2Lnzp0q47GxsTh%2B/Dju3r2LJk2awN/fH61atSpzJhb7RERERKSVyqvYDwkJwfr161XGfHx84Ovrq9Fxs7OzUatWLUgk/9wB2sTEBACQlZWl9rG//fYb2rdvj2bNminHbGxsoKOjgxkzZqBmzZpYv349xo8fjyNHjqB27dplysRin4iIiIhEZcSIEXBzc1MZq1evXpkeGxYWhrlz55a6zc/PDwqF4q3zFBUVYceOHVixYoXK%2BLRp01S%2B/vzzzxEZGYmoqCgMGzasTMdmsU9EREREWqm8Ovvm5ubvPGXH09MTnp6epW47c%2BYM8vLyUFRUpFxBJzs7GwBQp06d1x7z3LlzkMvlcHJyUvvcurq6qF%2B/PqRSaZnz8gJdIiIiIqL3wN7eHgqFAteuXVOOJSQkwNjYGB9%2B%2BOFrH3f8%2BHF07NgRenr/9OEVCgWWLVumciy5XI579%2B7BxsamzJlY7BMRERGRVqpsS2%2BamZmhT58%2BWL16NTIzM5GamooNGzZg6NChykJ%2B7NixOHjwoMrjrl69Cmtra5UxiUSC%2B/fvY/HixUhLS8OTJ08QEBAAfX199OzZs8yZWOwTERERkVaqbMU%2BACxZsgRGRkbo0aMHPDw80Lp1a/j5%2BSm3Jycn4/HjxyqPSU9PR926dUsca%2BnSpWjUqBGGDBmCzp074%2BrVq/jll19Qo0aNMufhnH0iIiIiovfEyMgIK1eufO32EydOlBg7cuRIqfuamppi2bJlGuVhsU9EREREWqm8u/BiwGk8RERERERVFDv7RERERKSV2NnXHIt9IiIiItJKLPY1x2k8RERERERVFDv7RERERKSV2NnXHDv7RERERERVFDv7RERERKSV2NnXHIt9IiIiItJKLPY1x2k8RERERERVFDv7RERERKSV2NnXHDv7RERERERVFDv7RERERKSV2NnXHIt9IiIiItJKLPY1x2k8RERERERVFDv7RERERKSV2NnXHDv7RERERERVFDv7RERERKSV2NnXHIt9IiIiItJKLPY1x2k8RERERERVFDv7RERERKSV2NnXHDv7RERERERVFDv7RERERKSV2NnXHIt9IiIiItJKLPY1x2k8RERERERVFDv7RERERKSV2NnXHDv7RERERERVFDv7RERERKSV2NnXHIt9IiIiItJKLPY1x2k8lcTRo0dx9%2B5dQZ57z549yMzMFOS5iYiIiOjdsdivJNauXStIsV9UVITly5cjKyurwp%2BbiIiIxK24uHw%2BxITFfiXg4eGBmzdvwtvbG/Pnz8fp06cxZMgQODo6okuXLli7dq1y39DQUAwcOBDLly9H27ZtkZaWhmfPnmHGjBlo3bo1%2BvTpg5iYGLRs2RJnz54FAGRnZ2POnDlwcXGBo6Mjpk6dirS0NABAhw4dkJubC09PT6xfv16Q75%2BIiIiI3g3n7FcC4eHhsLOzQ2BgIJycnPDxxx9jwYIFGDp0KG7cuAEvLy%2B0atUKbm5uAACpVAoDAwOcO3cO%2Bvr6%2BOabb3D9%2BnUcPXoUOjo6mDdvHgoLC5XHnzdvHvT09HDgwAHo6uriq6%2B%2Bwvz587F161aEhYWhR48eCAsLQ5MmTcqcWSqVIj09XWWsoKAe6tQxfz9/KQKpVUv1c6VVo4bQCTRnaKj6mYRThc6FRCJ0As29%2BB4q/ffi6Ch0As01b676ubK6cEGwpxZbF748sNivZGrUqIHo6GjUrFkTEokEdnZ2sLOzw6VLl5TFfm5uLiZOnAh9fX0AQHR0NEaNGoUPPvgAADB%2B/HicOXMGAJCRkYGTJ0/i4MGDMDExAQDMmTMH3bt3L1Gsv42QkJAS7wT4%2BPhg8GDfdz6mNpBKpVi3LgQjRoyAuXll/sXFQegAGpNKpQhZt%2B75uWjWTOg4olaVzkU1oQO8B1KpFCEhVeB16vx5oRNoTPl/Y/Xqyn0uBMRiX3Ms9iuhQ4cOYdu2bUhJSUFxcTEKCgrg5OSk3G5sbIxaL7We09PTYW1trfzaweGfQi85ORkAMGjQIJXn0NXVxcOHD2FmZvZOGUeMGKH85eOFevXqvdOxtEl6ejrWr18PNzc3vnALjOdCe/BcaBeeD%2B3Bc0HagMV%2BJRMTEwN/f38EBASgV69e0NfXx6hRo1T20dNTPa3FxcUqYzo6/1yqYfi/t92jo6NRu3btEs93//79d8ppbm7OFzYiIiLSCDv7muMFupVMfHw8PvzwQ/Tv3x/6%2BvqQyWRITExU%2B5g6deogJSVF%2BXVCQoLyz1ZWVtDR0cH169eVYwUFBcoLdImIiIiEwtV4NMdiv5IwMDDA3bt3YW5ujtTUVDx8%2BBCPHj2Cv78/zM3N1Rbnzs7OCA4OhlQqhVQqxbZt25TbjIyM0L9/fwQEBCA1NRX5%2BflYuXIlxo8fD4VCoez8JyUlIS8vr7y/TSIiIiJ6j1jsVxJeXl74/vvvcejQIXTt2hX9%2B/fHiBEj0L17d0ydOhVRUVH44YcfSn3s3LlzUadOHfTo0QMTJ07EZ599BuCf6TyLFi1Cw4YNMWDAAHTp0gW3bt1CYGAgJBIJ6tatiz59%2BmDGjBlYvXp1hX2/2qpevXrw8fGpEtcfVHY8F9qD50K78HxoD54LzbGzrzmJQqFQCB2Cyp9cLke1as/XmUhOTkbPnj1x7NgxNGjQQOBkRERERKWrXr18jvvsWfkcVxuxsy8CGzZswODBgyGVSpGfn49NmzahSZMmKiv0EBEREWkbdvY1x9V4ROCzzz5DamoqPD09UVBQgBYtWmDt2rUqq/IQERERaRuxFeblgdN4iIiIiEgr/e/%2BoO9dQUH5HPeFhIQEzJo1C7Vr18bu3bvV7vvrr79ix44dSE9Ph52dHRYuXIhWrVoBAGQyGZYuXYo//vgDMpkMzs7OWLx4canLpb8OW7tEREREpJUq4zSe8PBw%2BPr6omHDhm/c98SJE1i3bh2%2B//57/Pe//4WrqyumTJmCp0%2BfAgBWrVqFy5cvIyQkBEeOHIFCocD8%2BfPfKg%2BLfSIiIiKi90QmkyEkJARt2rR5474hISEYMmQI2rRpA0NDQ0yYMAEAcPLkSRQWFmLPnj3w9vZG/fr1YWpqipkzZ%2BKPP/54q/shcc4%2BEREREWml8urCS6VSpKenq4zVq1cP5ubmGh972LBhZd738uXL6N%2B/v/JrHR0d2NvbIyEhAfb29sjNzUXLli2V25s0aQJDQ0NcvnwZFhYWZXoOFvtEREREpJXK68rSdetCsH79epUxHx8f%2BPr6ls8TvkZ2djZMTExUxkxMTJCVlYXs7GwAgLGxscp2Y2NjZGVllfk5WOwTERERkaiMGDECbm5uKmNlvflZWFgY5s6dW%2Bq2ZcuWYciQIW%2BV5U1r5Wi6lg6LfSIiIiISFXNz83eesuPp6QlPT8/3kqN27drKDv4L2dnZaNasGczMzJRf16xZU7n98ePHqFOnTpmfg8U%2B0RsUFhYiOTkZmZmZUCgUMDMzQ4MGDaCnx/8%2BFUkqleLs2bO4efOmyrmwtbWFs7Pze5lnSUSkiQ0bNmDatGklxp88eYLVq1dj4cKFAqQibdaqVStcvnwZgwcPBgAUFRXhypUrGDp0KGxsbGBiYoLLly/DysoKAHDjxg3I5XLl0pxlwWqF6DWioqKwa9cunD9/Hs9eua929erV0a5dO4wcORJ5kgg4AAAgAElEQVQ9e/YUKKE4XLlyBevWrcMff/yB2rVro2nTpqhduzYkEgmSk5MRGhqKrKwsdO/eHb6%2BvrC3txc6cpX26NEjhIaGIjY2Fjdu3FB2pExNTWFra4uOHTtiyJAhqFu3rsBJxYHnQztkZ2cjMzMTP/30EwYMGFBi2kVSUhJCQkJY7BMAoG/fvvjmm2/g5OSEkSNHYtasWRg4cCDs7OywZcsWVKtWDd27d4euri6GDx%2BOjRs3wsHBAYaGhli5ciV69er1Vv%2BneVMtolfcu3cPfn5%2BSEtLg4eHB5ydndGsWTNlgZmZmYmbN2/izz//RFhYGCwsLLB69WrY2NgIHb3K2bRpEzZv3gxPT094eXmhadOmpe5369YthISEICwsDBMnTsTEiRMrOGnVJ5fLsWLFCuzatQu2trbo0KEDbG1tlTd2ycrKUv6/uHHjBkaNGgU/Pz9Uq1ZN4ORVE8%2BHdtm7dy%2BWL1%2BOvLw8AP/MsZZIJMo/9%2B7dG2vXrhUsI1WcPn364MGDBygqKkJxcTH0/3dnsMOHD8PKygp2dnbYvHkzunbtCgDYuXMnNm3ahIyMDDg4OMDf3x%2B2trYAnv9fX7ZsGQ4cOIDCwkK4urrC398fRkZGZc7DYp/oFR9//DEmTZqEkSNHvvEHo1wux65du7B582acPn26ghKKx/jx47Fs2bIyLy%2BWlpaGBQsWYMuWLeWcTHw8PT1hZWUFHx8ftGjRQu2%2BV69exYYNG3D//n3s37%2B/ghKKi6enJ6ytrTFt2jSeDy1RVFQEZ2dnhIWFldhmaGj4VnOsid4nFvtEr0hKSkKjRo3e6jF3794t053ySDOZmZnKC5by8vIQExMDGxsbNG/eXOBkVV94eDg8PDze6jERERFwd3cvp0TixvOh3TIyMvDw4cO3mldNVF5Y7BOpkZycjB9%2B%2BEH51uv333%2BPkJAQNGzYED/88AOaNGkicELxCA8Ph7%2B/v/IaikGDBgF4virB559/jk8%2B%2BUTghFXb23SEX5wbqhgymQy7d%2B/G6NGjAQDHjx/Hnj170LBhQ/j6%2Bqqs4kHlSyqVYv78%2BThz5gz09PRw6dIlSKVSfPbZZwgMDOR0TxIEi30iNcaPHw8bGxssXrwYsbGx8PX1RWBgIP7%2B%2B2/ExsZyukgF6tevH7788kt8/PHHCA4Oxo4dO7B//37cunULs2bNwoEDB4SOWKW5uLiofJ2Tk4OCggIYGxtDoVAgJycHhoaGsLCwwJEjRwRKKU5ffvklbty4gd27d%2BP27dsYPHgwJk6ciBs3bqBWrVr49ttvhY4oGt7e3qhZsyZmzZqFPn36ID4%2BHoWFhVixYgVu376Nn376SeiIJEJcjYdIjfj4eAQGBgIADh06hH79%2BqF9%2B/Zo27YtgoKCBE4nLqmpqfj4448BANHR0ejfvz90dXVhZ2eHBw8eCJyu6nv5mpTff/8dly9fxowZM5QXhEqlUqxevRqOjo5CRRSt48ePIyIiAsDzm/24uLjAx8cHubm56Nevn8DpxOXs2bOIjo5GzZo1IZFIAAB6enqYMWMGunXrJnA6EisdoQMQaTNdXV3o6uoCeF7suLq6Ani%2B0kJBQYGQ0USndu3aSEtLQ1ZWFmJiYpR3PkxLS4OhoaHA6cRl/fr1mDdvnrLQB57foGbBggVYt26dgMnESSaTKZfhO3PmjHI54Fq1auHJkydCRhOd6tWrl3q308ePH6OoqEiARETs7BOp1b59eyxevBj6%2BvqQy%2BXKqQzbtm3jRaEVzMvLC0OHDoWuri6cnZ1hZ2eHvLw8%2BPn5oW/fvkLHE5X8/Hw8fPgQH374ocp4RkYGZDKZQKnEq1mzZggNDYWhoSFu3bql/EX4v//9L%2BrXry9wOnHp2LEjFixYAD8/PwDPp7tdu3YNAQEB6N69u7DhSLQ4Z59IjYyMDKxZswY5OTmYMGECWrVqhcePH8PLywurV6%2BGnZ2d0BFF5fz588jNzUWnTp1QrVo1FBYWYuvWrRg3bhzXD69AX3/9NY4cOQJ3d3dYW1ujqKgIDx8%2BxIEDB9C9e3csWbJE6IiiEh8fj88//xy5ubnw8/PDsGHDkJ2dDVdXV3z77becylOBHj9%2BjC%2B%2B%2BAJ//PEHgOfr7EskEvTv3x%2BLFi2CiYmJsAFJlFjsE1GlEh8fj9TUVPTu3RvA8ykMBgYGAqcSl6KiIuzZswdRUVFITU2FXC6Hubk5unbtinHjxilvIEPCSktLK/M9Kuj9yszMRHJyMgwMDGBtbY1atWoJHYlEjMU%2BkRppaWkICgrCnTt3IJfLS2z/9ddfBUglTomJifDx8VHelfDSpUtISUnBsGHDEBQU9MYbCxFVVUVFRTh58iRu375d6uuUj4%2BPAKnE6dy5c6/dJpFIYGFhweU3qcKx2CdSw8vLC3l5eejUqVOpF4HOnj1bgFTiNHbsWDg4OGD69OlwcnJCfHw8gOfXTxw/fhzbt28XOKG47Nq1CwcPHkRKSgokEgkaNGiAwYMHv/WNnkhzX3zxBQ4cOIAmTZqUeJ2SSCQIDg4WKJn4tGrVSnkh7ovy6sWqPAqFAhKJBE2aNMGaNWt4nxaqMCz2idRo3bo1Tp06pbLqCAnD0dERZ8%2BeRbVq1dCmTRtcvHgRAFBYWIiOHTsiLi5O4ITisXr1auzZsweenp7KO0cnJiZi//798PPzg5eXl8AJxaV169YICQmBvb290FFELyYmBkFBQRg/fjwcHBygo6OD%2BPh4/PLLL5gwYQI%2B%2BOADbNq0CcnJydi2bZvQcUkkuBoPkRq2trYoLi4WOgYBMDU1RU5OjnKJwRfu3bsHPT2%2BlFWk0NBQbN68uURxOWDAAHzxxRcs9iuYubl5iZWRSBhLlizB9u3bVV6nOnfujKZNm2Ly5MnYt28fFi5ciK5duwqYksSGPyGJXnHnzh3ln6dMmYKFCxfi008/hZWVlfLt2Bf4A7biuLq6Yvr06fD29oZCocDVq1dx7do1/PjjjxgwYIDQ8UQlLy8PzZo1KzHesmVLSKVSARKJ27x587BmzRrMmDGD95wQ2IMHD0ptEEkkEty%2BfRsAkJubywYFVShO4yF6RfPmzSGRSEq9MQoA5TaJRIKrV69WcDrxkslk%2BOGHH7Bv3z7ljYJMTU0xYsQITJs2jUtvVqARI0Zg8ODBJTr4v//%2BO3bt2oXQ0FCBkonHi3t%2BvPDkyRPI5fJSpxy%2BfPdjKl8zZszAzZs34eXlBSsrK%2Bjp6eHBgwcIDg5GnTp1sHHjRgwZMgTt2rXjErVUYVjsE70iJSWlzPtaWVmVYxIqjUKhQEZGBgwNDbmcnUDi4uIwYcIEWFlZKS8yvH37NpKTk7Fu3TpOUagA%2B/btK/O%2BgwcPLsck9LL8/HwEBATgP//5D6RSKRQKBczMzNCxY0d88cUXMDExQWBgICZMmMAGBVUYFvtEaixcuBBLly4tMZ6Xl4cvvvgCGzZsECCVeF25cgVJSUmlLi84aNAgARKJ16NHjxAZGYmUlBTI5XI0aNAA/fr1g6WlpdDRRGf//v2l/vt/9uwZgoOD8e9//1uAVOKUnp6OevXqCR2DSAWLfaJSJCcnIykpCd7e3ti4cWOJKT13797F999/r1wRhsqfv78/goODYWRkVOpNtDhVoeIVFBRAKpUq1w/X1dUVOpKoFBcXo7CwEO3bt0dcXFyJ16nbt29j%2BPDhymVqqfw5Ojrir7/%2Bgo6OjtBRiJR4hQhRKa5du4a1a9eioKAAn332WYntBgYGXHGkgkVERGD79u1o37690FFE7/Hjx/D390dUVBQKCwsBPP8/MXDgQCxatIh3NK4gv/76K7777jsAz5ffLE3btm0rMpLoeXl5Yd26dZgwYQJq1qwpdBwiAOzsE6nl6emJsLAwoWMQgD59%2BmD//v2oXr260FFEb9asWZBKpZg4caLKOvsbN25E27ZtsXDhQoETikdmZia6du2KrVu3lthmaGgIe3t76OvrC5BMnNzd3SGVSpGXlwdjY%2BMS73bxHUgSAot9ojcoKiqCVCpFfn5%2BiW1cerPiREdHIzIyEl5eXjA3Ny/xNjnnilec9u3b48iRIzAzM1MZT0tLg5eXF06ePClQMnHKyMhAnTp1hI5BePOF07xYmoTAaTxEakRERGDJkiXIy8srMR%2BWS29WrJSUFERFRSEiIkJlnMugVjxdXd1S32ExNjbG06dPBUgkbunp6ViwYAESExNLbUqwm1xx1BXzK1asqMAkRP9gZ59Ija5du2L48OHo169fqTer4dKbFcfZ2Rnjxo2Dq6trqUvWNW7cWIBU4uTt7Q0TExN8/vnnyu5%2BZmYmAgICIJVKERQUJHBCcXF3d4eFhQXc3NxK/SWM3eSK9ccff%2BDSpUsqq4alpaXh2LFjOH/%2BvIDJSKxY7BOp8dFHH%2BHPP//kKiNawMXFBSdPnuT8Yy2QlpaGqVOn4urVqzA2NgYA5OTkoEmTJggMDESDBg0ETigujo6OiI2N5YXRWmDdunXYunUr7OzsEB8fD0dHRyQmJsLCwgJTpkxBv379hI5IIsRpPERq9OjRA2fPnkXnzp2FjiJ606dPx08//YRJkybxZjQCs7CwQGhoKK5evapcZ9/GxgYODg5CRxMle3t7pKamKi%2BWJuHs2bMHu3fvRrNmzdC6dWvs2LEDMpkMixcvhp4eSy4SBjv7RGr89NNP2LlzJxwdHWFtbV3iotBZs2YJlEx8PDw8kJKSAplMBhMTE0gkEpXtnJdcvkq7kdnr8JexinXs2DFs2bIFnp6esLKyKvE65eLiIlAy8WnXrp1yqo6joyPi4uKgq6uLR48eYeTIkTh27JjACUmM%2BGsmkRqnT59GgwYNkJGRgYyMDJVtrxabVL54F1BhtW7d%2Bo3/5nmxtDB8fX0BAH///XeJbTwfFatRo0YIDQ3F4MGDYWlpiaioKPTp0weFhYUlfoYQVRR29omI6I3%2B/PPPMu/boUOHckxCpL3OnDkDX19fREdH4%2BDBg1i8eDEaN26M1NRUdO3alSvykCDY2Sd6g5s3b%2BLIkSNISUkBADRs2BADBgyAjY2NwMmqvnnz5mH58uUAgNmzZ6vdlz9Ey1dpBfzDhw%2BRlpYGAwMDWFhYlFh3nypOYWEhzp8/j5SUFEgkEjRo0ACOjo58B7KCHTx4EGfOnEH16tUxfPhw2NjYICEhAebm5jh8%2BLDQ8UikWOwTqXHw4EHMnTsX9vb2yhVGjh49isDAQGzduhVOTk4CJ6zaXl55h/PAtUdiYiJmzpyJW7duKe8/IZFI4OjoiOXLl3M1ngp27do1TJ48Genp6cqba2VkZMDGxgbbtm1D/fr1BU5Y9SUnJyMpKQnh4eHo37%2B/yn1ZWrRogbt37yImJkbAhCRmnMZDpEb//v3h4%2BOD/v37q4yHhoYiODgYu3fvFiiZ%2BPz555%2BldpdlMhlOnDjBJe0q0IuO5cSJE9GgQQMoFArcu3cPQUFBSElJQXBwsNARRWX06NGwt7fHzJkzUaNGDQDA48ePERAQgEePHuHHH38UOGHVd%2BzYMaxduxY3b94sdbuBgQG8vLwwf/78Ck5GxGKfSK22bdvir7/%2BKrHOfmFhITp27Ii4uDiBkolPmzZtcPHixRLjUqkUvXr1KnUblQ9HR0f897//LXEDp/z8fHTq1AkXLlwQKJk4OTo64uzZsyXe/Xr69Cnc3NwQGxsrUDLx8fT0RFhYmNAxiFRwGg%2BRGpaWlrh48SLatWunMn758mXl2%2BVUvrZt24agoCDI5fJSlxDMy8uDtbW1AMnEy87ODg8ePECTJk1UxqVSKZo2bSpQKvEyNTVFRkZGiek6ubm5nP5WwVjokzZisU%2BkxpgxYzBp0iS4u7srC5vbt28jIiICkydPFjidOIwZMwYfffQRRo4cWepFugYGBujUqZMAycTl5fsYuLu7Y%2BbMmfD09ESTJk2go6ODO3fuYP/%2B/Rg9erSAKcWpR48e8Pb2xuTJk9G4cWMAz1%2BnNm3ahC5dugicjoiExmk8RG9w4sQJ7N27F/fv34dcLkeDBg3g6elZYh4/vX%2BJiYnKX7Li4%2BPRunXrt3oMvT/Nmzcv035c173iyeVyrFy5Env37kVubi4AoGbNmhg4cCDmzZtXYroVEYkLi30i0lpdunTB%2BPHjMWrUKBgYGKjdVy6XY8eOHfj5558RHR1dQQmJtEtOTg7kcjnq1KnDZTeJCACLfSK1cnNzsXfvXiQlJUEmk5XYvmzZMgFSicf9%2B/cxZ84cJCUlwd3dHR07doStrS1MTU0hkUiQlZWFmzdvIjY2FpGRkWjYsCECAgJgZWUldHSiCnXlyhUkJSVBLpeX2DZo0CABEhGRtmCxT6TGmDFjcOfOHbRu3brUzvLKlSsFSCU%2BJ06cQHBwMM6dO4f8/HyVbYaGhmjfvj1GjhwJV1dXgRISCcff3x/BwcEwMjIq9XXq5estiEh8WOwTqeHo6IioqCiuvKMlioqKkJKSguzsbADPVyGxtLSEnh7XGiDx%2Buijj7Bx40a0b99e6ChEpIX4E5JIDTs7u1Kn75AwdHV10aBBA96hlegldevWRatWrYSOQURaip19IjWSk5Mxf/58fPzxx7CwsICOjo7Kds6FJfpHYWEhiouLubZ7BYuOjkZkZCS8vLxgbm5e4nXK0tJSoGREpA3Y2SdS48cff0RcXByuX79e6lxYFvtE/3B3d0dSUhKX3qxgKSkpiIqKQkREhMq4QqHgUqhExM4%2BkTpt27ZFUFAQnJychI5CpPXi4%2BORn5%2BPDh06CB1FVJydnTFu3Di4urqW%2Bq7KixttEZE4sbNPpIalpWWZbyZE5WvkyJHw9PRE3759YWpqKnQcekVRUVGZbnpG75%2B%2Bvj4mTJgAfX19oaMQkRbS9ff39xc6BJG2sra2xsaNG2FkZAS5XI7Hjx8jOztb%2BVG7dm2hI4pGWloawsPDsWLFCsTHx0NHRwcNGjTgSjwCSElJwZQpU1CrVi00bdoUAPDLL7/gu%2B%2B%2BQ6dOnWBsbCxwQnGpVasWoqOj0bZtW%2Bjq6godh4i0DKfxEKlRWldfIpFwLqyAkpOTcezYMRw7dgy3bt1Cz5494e7ujs6dOwsdTTQmTJiA%2BvXrw8/PD2ZmZgCAzMxMbNiwAffu3cPmzZsFTiguHh4eSElJgUwmg4mJSYk753KdfSJxY7FPpEZKSora7bxTq3Dkcjn27NmDlStXIi8vD1ZWVpg4cSK8vLyEjlblOTk5ISYmpsS0Eblcjs6dOyMuLk6gZOK0b98%2BtdsHDx5cQUmISBvx/W%2BiV4SGhmLIkCEAyl7Mv/wYKl%2BxsbGIiIjA0aNHUbNmTXh5eWHQoEF49OgRli1bhsTERCxcuFDomFWasbEx7ty5A1tbW5Xxa9euoXr16gKlEpfExEQ0adIEQNmL%2BZcfQ0Tiwc4%2B0SuGDx8OMzMzTJs2DQ4ODmr3vXTpEtavX4%2BsrCyEhIRUUEJx%2Bu6773Dw4EHk5OSgV69eGDRoEDp16qQyZUEqlWLAgAE4d%2B6cgEmrvq1bt2LLli0YMGAArK2tUVxcjDt37uDgwYOYOXMmPv30U6EjVnldunTB%2BPHjMWrUqFKXBX6ZXC7Hjh078PPPPyM6OrqCEhKRtmCxT/SKwsJCrFmzBtu3b0fDhg3RsWNH2NraKufCZmdn4%2BbNm4iNjcXdu3cxZswY%2BPr68kLRcjZu3DgMGjQIvXv3Ro0aNV6736ZNmzBp0qQKTCZOUVFRCA0NRXJyMiQSCWxsbPDJJ5/Azc1N6GiicP/%2BfcyZMwdJSUlwd3dXvk6ZmppCIpEgKytL%2BToVGRmJhg0bIiAggFMPiUSIxT7Ra2RmZmLv3r2IjY3FrVu3kJ2dDQAwNTVF06ZN0alTJwwZMkR5gSKVv5iYGFhYWCjXDT937hxkMhlcXFwETkYkjBMnTiA4OBjnzp1Dfn6%2ByjZDQ0O0b98eI0eOhKurq0AJiUhoLPaJqFLYvn071qxZg3Xr1qFTp04AgOPHj2PBggXw9fXFv/71L4ET0vnz5/H06VP%2B8iWAoqIipKSkqDQlLC0t%2BY4jEbHYJ6LKwc3NDYGBgSWWQ71x4wamTp2K48ePC5SMXujXrx%2BSkpK4JC0RkRbhr/xEVClkZWUpp%2B%2B8zNraGpmZmQIkolcdOnRI6AhERPQKHaEDEBGVRbt27bBy5Urk5uYqxx49eoRvv/0Wbdq0ETCZOOXk5CArK0v59f3791W%2BJiIi7cBin0iNJ0%2BeCB2B/sff3x%2BxsbFwdnZGhw4d4OTkhC5duuDKlSv4/vvvhY4nKrGxsXBzc0NMTIxy7NSpU%2BjVqxfOnj0rYDIiInoV5%2BwTqdGmTRu4ubnBw8MDXbp04cVuWuDKlStITk6Gjo4ObGxsSszhp/I3ePBgjBkzpsTNnA4cOICgoKA33tGVykd8fDxSU1PRu3dvAIBMJnvjGvxEVPWx2CdSIy4uDkePHkVUVBSePHmCvn37wsPDAx999JHQ0USpqKgIUqm0xBKDAPDhhx8KkEicHB0dERcXB11dXZXxgoICdOjQARcuXBAomTglJibCx8cHDx48QFFRES5duoSUlBQMGzYMQUFBaNGihdARiUhALPaJyighIQFRUVE4fPgwCgoK4O7ujqFDh8LGxkboaKIQHh6Or7/%2BGnl5eSrjCoUCEomEK8BUIE9PT0ydOhV9%2B/ZVGf/999%2Bxbds2HDhwQKBk4jR27Fg4ODhg%2BvTpcHJyQnx8PABg27ZtOH78OLZv3y5wQiISEot9orcQHx%2BPQ4cO4ffff4ehoSFkMhm6dOmCRYsWoXbt2kLHq9K6deuGYcOGoV%2B/fjA0NCyxnXcGrTinT5%2BGr68vGjZsCGtraxQXF%2BPOnTt4%2BPAhgoKC4OTkJHREUXF0dMTZs2dRrVo1tGnTBhcvXgTw/G7gHTt2RFxcnMAJiUhInIBM9AZ37txBREQEIiMjkZ6eDjc3N6xcuRIuLi54%2BvQplixZgrlz52Lz5s1CR63S8vLyMHXq1BJTR6jiubi44PDhwzh06BCSk5MhkUjg7OyMgQMHok6dOkLHEx1TU1Pk5OSgbt26KuP37t3jdUZExGKfSJ0hQ4bg2rVr%2BOijjzBp0iT07dsXtWrVUm6vVasWvv76a3To0EHAlOLQo0cPnD17Fp07dxY6iijFxMQo71wMABYWFhg3bpzax8TGxqJjx47lnIxcXV0xffp0eHt7Q6FQ4OrVq7h27Rp%2B/PFHDBgwQOh4RCQwTuMhUiMwMBCenp5vnCLy119/8aLdcvbTTz9h586dcHR0hLW1NXR0VFcOnjVrlkDJxKFXr17o1q0bJk2aBHNzc7X7SqVSbNq0CdHR0Th69GgFJRQvmUyGH374Afv27VMuF2xqaooRI0Zg2rRpqFatmsAJiUhILPaJ1JDL5QgMDISLi4tyHnJ4eDhu3boFHx8f/hCtQKNHj37tNolEgl9//bUC04hPbm4uvvrqK0RFRcHFxQUdO3aEra0tTE1NAQDZ2dm4efMmYmNj8Z///Ae9evWCv78/jIyMBE4uHgqFAhkZGTA0NFR5B5KIxI3FPpEa//d//4dLly5h%2BfLlsLW1BfB8nfclS5bAzs4OixcvFjghUcW6fv06goODERMTg6SkJJVtjRo1QqdOneDl5QU7OzthAorUlStXkJSUBLlcXmLboEGDBEhERNqCxT6RGp07d8aBAwdKrLSTlZWFgQMH4syZMwIlE6fU1FRERkYiLS0NCxcuBPB8haTWrVsLnEycCgsL8fjxYwCAiYkJLwYViL%2B/P4KDg2FkZFTqTbROnz4tQCoi0hZ8ZSZSo6ioCBKJpMR4QUEBZDKZAInE6/jx4/Dz80O7du3w119/YeHChXj48CH%2B/e9/Y8mSJbwQUQB6enpcfUcLREREYPv27Wjfvr3QUYhIC%2Bm8eRci8erduzemTZuG48eP49q1a7h69SoOHjyIKVOmsLisYKtXr8bKlSuxbds25S9g9evXx4YNG/Djjz8KnI5IOHXr1kWrVq2EjkFEWorTeIjUyM/Px4oVKxAWFoacnBwAgLGxMYYMGYLZs2dDX19f4ITi0bZtW5w/fx46OjoqNw4qKirCRx99hL///lvghETCiI6ORmRkJLy8vGBubl5ipSpLS0uBkhGRNuA0HiI1DA0NsXDhQixcuBBZWVnQ0dGBiYmJ0LFEydLSEtevX4e9vb3K%2BOnTpzmVhEQtJSUFUVFRiIiIUBlXKBSQSCS4evWqQMmISBuw2Cd6g4SEBCQmJpY6R3/EiBECJBKnUaNG4bPPPsPQoUNRVFSEbdu24fr16zh48CDmzp0rdDxR6d69O9zd3TFw4ECuuqMFVq9ejYkTJ8LV1ZXLARNRCZzGQ6TG0qVLsX37dpiZmcHQ0FBlm0QiwfHjxwVKJk5Hjx7F3r17ce/ePRgaGsLGxgZeXl68q24F279/P44dO4YzZ87AxsYG7u7u8PDwwAcffCB0NFFycXHByZMnOa2QiErFYp9IjQ4dOmDNmjXo1KmT0FGItM6zZ89w6tQpREVF4dSpU2jevDk8PDzQv39/1KxZU%2Bh4orF7925IpVJMmjSJnX0iKoHFPpEa7Jhpj/Xr16vd7uPjU0FJ6FXp6ekICwvDxo0bIZPJYGBggJEjR8LHx6fUdd/p/fLw8EBKSgpkMhlMTExKLBfMdfaJxI3FPpEaQUFBKCoqwuTJk4WOInqvXh9RVFSElJQUAICjoyMCAwOFiCVaeXl5OHLkCCIiInDu3Dk4ODjA09MTAwYMQHZ2Nvz9/WFmZoaAgACho1Z5%2B/btU7t98ODBFZSEiLQRi30iNby9vXH%2B/Hno6enB0tKyxJJ2wcHBAiUjACguLsbGjRtRrVo1TJgwQeg4ojF9%2BnScOnUKdevWhYeHBwYNGoSGDRuq7JObm4uuXbviwoULAqUkIiKAq/EQqdWiRQu0aNFC6Bj0Gjo6Opg4cSK6devGYr8CGRkZISgoSO0dW42MjPD1119XYCpxmTdvHpYvXw4AmLRcMmIAAAuuSURBVD17ttp9V6xYURGRiEhLsdgnUoPzwLXfuXPnUFhYKHQMUYmPj8fSpUvfuN/AgQMrII04vXwdES/KJSJ1OI2H6A0OHDiAsLAwSKVS7N%2B/H3K5HNu3b8f48eNLXAhH5cfFxaXEWH5%2BPp48eYJx48bhiy%2B%2BECCVOI0ePRoTJkxAt27dhI4iag8fPkT9%2BvWFjkFEWo6dfSI1AgMDERISghEjRmDjxo0AgJycHOzfvx%2B5ubmYOXOmwAnFY9asWSV%2BuTIwMEDDhg3RsmVLgVKJU8OGDTF//nxYWVnB0tISenqqP0o4baRi9O3bFxcvXhQ6BhFpORb7RGqEhIQgKCgIzZo1w08//QQAqFu3LgIDAzFmzBgW%2BxVoyJAhQkeg/ykqKmJXXwvwjXkiKgsW%2B0Rq5ObmolmzZiXGzc3NkZmZKUAi8XJzcyvztCne2bh8LVu27LXbTp48WYFJxI3TCImoLFjsE6lha2uL8PBweHh4qIxv3boVTZo0ESiVOH366af47bff0KNHDzRq1AjFxcW4ceMGTp06hX/9618wMTEROqKoZGVl4ebNm5DL5cqxtLQ0fPPNN1xus4LI5XJ4eXm9cT8uEUwkbiz2idSYMWMGpk2bhp07d6KgoABTp07FjRs38PjxY97EqYLFxMRg1apVaNu2rcr4hQsXsH79emzZskWgZOJz7NgxzJkzBzKZDBKJRDmdxNjYGMOGDRM4nXjo6OiUeuE6EdHLuBoP0RukpqbiwIEDuHfvHgwNDdGgQQMMGDAApqamQkcTFUdHR5w9e7bEMoNyuRzOzs7sJlegAQMGYOLEiejfvz%2BcnJzw999/49KlSwgKCsKMGTP4rlcFadOmDS/QJaI3Ymef6A1q1KiBIUOGoHbt2gCA%2B/fv88I4AZibm2PNmjWYPHkyjI2NAQB5eXnYtGkTrKysBE4nLg8ePMCgQYMAPJ83rqOjg9atW2P69OmYP38%2Bdu/eLXBCceDrEBGVhY7QAYi0WWxsLNzc3BATE6McO3XqFHr16oWzZ88KmEx8/P39ERkZiY4dO6JDhw7Kj7179%2BKrr74SOp6o1K1bF4mJiQCA2rVr49q1awAAa2tr3Lx5U8hooqLuDsZERC9wGg%2BRGoMHD8aYMWMwePBglfEDBw4gKCgI%2B/btEyiZOBUXFyMhIQGpqalQKBQwNzdH69atS6zzTuVr27ZtWLVqFc6cOYN169bhyJEj6NGjB65du4bCwkKEhIQIHZGIiP6HxT6RGo6OjoiLi4Ourq7KeEFBATp06MB54gKIj49HamoqevfuDQCQyWQwMDAQOJX4xMXFwcnJCYWFhVi/fj0SEhJgZWWFqVOn8q6uRERahNN4iNRo0KABjh07VmJ8//79sLS0FCCReCUmJqJfv34YPXo0Zs%2BeDQBISUmBq6srrly5InA6cdm/fz%2BcnJwAAHp6epg5cya2bNmC%2BfPn4/DhwwKnIyKil7GzT6TG6dOn4evri4YNG8La2hrFxcW4c%2BcOHj58iKCgIGXBQ%2BVv7NixcPj/9u4lJKr/D%2BP4czJpQKHQ0rA0SAItfqSgGYhGtjBvYy7CnUmLTBODCoYQFLoQBkpE0AULqUUqFKWmZhkJLYokUCqjQsFbJHlBvNQw6m/xK/GWl/40x7/zfi2/cxYPDDLPOX7O9/vPP8rJyVFYWJiam5sl/TdSUl9frzt37piccOUbHx%2BXw%2BFQeHi4GhsbZ70g2tbWpoMHD05%2BNwAA81H2gQV8/fpVNTU16ujokGEY8vf3V2Jiory9vc2O5lKmbr05dctBh8Oh3bt3q7Gx0eSEK19JSYkKCgrmvSYkJER37951UiIAwEJ4qw1YgK%2Bvr9LT09Xf3z%2B5/Sacb926dRocHNT69eunrbe3t/OCrpOkp6fLarUqOjpat27d0sTEhAzDmPzcYrEoODjYxIQAgJn4hQTmMTw8rIKCAlVUVMjhcOjt27caGBiQzWbThQsX5OXlZXZEl7F3717l5OQoKytLExMTamlp0YcPH3T16lUlJCSYHc9leHl5qaGhYfI/W9wEA8Dyxgu6wDzOnDmjjo4OFRcXa9Wq//5c3N3d5enpqXPnzpmczrXYbDZt375dx48fl91uV0pKigoKChQXFyebzWZ2PJdisViUl5enkJAQRUVFSZIGBgaUkZGhvr4%2Bk9MBAKZiZh%2BYR0REhGpqauTl5TVtTnxwcFCxsbHTDtuCc0xMTKi3t1cWi0Wenp5mx3FJNptNPT09OnbsmA4fPqzm5mYNDw8rLy9PExMTKioqMjsiAOAnxniAeRiGMWehHBsb048fP0xI5LrCwsL0%2BvVrGYYxa24fzvX8%2BfPJm%2BBfM/seHh7Kz89XbGysyekAAFMxxgPMIzQ0VBcvXtT3798n17q6upSbm6tdu3aZmMz1REVFqby83OwYEDfBAPD/hDEeYB7d3d3KysrS58%2Bf5XA45OHhoZGREYWGhqqwsJCTQp3o6NGjampqkpubmzZu3DhrB57S0lKTkrmezMxMbdq0SadOnVJERISamprU1dWl8%2BfPa3x8XNeuXTM7IgDgJ8o%2BsAjNzc3q7OzUmjVrFBAQoG3btpkdyeVcuXJl3s%2Bzs7OdlAS/uwkOCQlRUVERN8EAsIxQ9oE/1NPTIx8fH7NjAKbhJhgAlj9m9oE5jIyMKD8/X5GRkYqMjFRBQYHGx8cnPy8rK2NvdyeZ64XPjIwME5JgqrGxMW3YsEHBwcHaunWrVq9erba2NrW1tZkdDQAwBbvxAHO4fPmy3rx5I5vNJrvdruLiYnl4eMhqtSo3N1cfP37UyZMnzY7pEr58%2BTJr7eXLlyYkwS8VFRU6e/ashoaGpq3/OlG3paXFpGQAgJko%2B8Acnjx5ohs3bigwMFCStGPHDqWlpenmzZuKiYnRpUuXJk8Qxd/1a2tHLB%2BFhYU6dOiQ4uLiZLFYzI4DAJgHZR%2BYw7dv3yaLviQFBQVpdHRU169fV2RkpInJAPMNDQ0pMzNTbm5uZkcBACyAmX1gEQzDkJubG0UfkLRv3z69evXK7BgAgEXgyT6AZW1sbEzl5eWaunHYXGupqalmxHNJgYGBOn36tEJDQ7V582atWjX9udGJEydMSgYAmImyD8yBgrl8%2BPj4zDqkaeaaYRh8F0704sULBQQEqLe3V729vdM%2B4x0LAFhe2GcfmENMTMyC1xiGofr6eiekAQAA%2BDOUfQDAkn369EmPHz9WV1eXJGnLli1KSEiQv7%2B/yckAAFPxgi4AYEmqq6uVkpKihoYG2e122e121dXVKSEhQY2NjWbHAwBMwZN9AMCSxMfHKzs7W/Hx8dPW79%2B/r9LSUpWXl5uUDAAwE0/2AQBL0t3drdjY2FnrVqtVra2tJiQCAPwOZR8AsCR%2Bfn5qamqatf7u3TtOlgaAZYatNwEAS5KWlqYjR44oKSlp8qTp1tZWVVZWKiMjw%2BR0AICpmNkHACzZs2fPdO/ePXV2dsputysgIEDJycmz5vgBAOai7AMAAAArFGM8AIBFefDgwaKuO3DgwF9OAgBYLJ7sAwAWJSgoSN7e3pNz%2BnP9fBiGodu3bzs7GgDgNyj7AIBFKSkpUVVVlfr7%2B7V//34lJSUpKCjI7FgAgHlQ9gEAS9Le3q7Kyko9evRIbm5uSkpKUmJiovz8/MyOBgCYgbIPAPhj79%2B/V1VVlerq6uTr6yur1arU1FSzYwEAfqLsAwD%2BJ%2B3t7aqtrVVZWZnc3d1VW1trdiQAwE%2BUfQDAkvX19am6uloPHz5UZ2en4uLilJycrJ07d5odDQAwBWUfALAoo6Ojevr0qSoqKtTY2KioqChZrVbt2bNH7u7uZscDAMyBsg8AWJTQ0FB5eHgoOjpaMTExWrt27ZzXhYeHOzkZAOB3KPsAgEWJiYlZ8BrDMFRfX%2B%2BENACAxaDsAwAAACvUKrMDAAAAAPg7KPsAAADACkXZBwAAAFYoyj4AAACwQlH2AQAAgBWKsg8AAACsUJR9AAAAYIWi7AMAAAAr1L%2Bf8VV0ErxO6QAAAABJRU5ErkJggg%3D%3D\" class=\"center-img\">\n",
              "</div>\n",
              "    <div class=\"row headerrow highlight\">\n",
              "        <h1>Sample</h1>\n",
              "    </div>\n",
              "    <div class=\"row variablerow\">\n",
              "    <div class=\"col-md-12\" style=\"overflow:scroll; width: 100%%; overflow-y: hidden;\">\n",
              "        <table border=\"1\" class=\"dataframe sample\">\n",
              "  <thead>\n",
              "    <tr style=\"text-align: right;\">\n",
              "      <th></th>\n",
              "      <th>Recency (months)</th>\n",
              "      <th>Frequency (times)</th>\n",
              "      <th>Monetary (c.c. blood)</th>\n",
              "      <th>Time (months)</th>\n",
              "      <th>target</th>\n",
              "    </tr>\n",
              "  </thead>\n",
              "  <tbody>\n",
              "    <tr>\n",
              "      <th>0</th>\n",
              "      <td>2</td>\n",
              "      <td>50</td>\n",
              "      <td>12500</td>\n",
              "      <td>98</td>\n",
              "      <td>1</td>\n",
              "    </tr>\n",
              "    <tr>\n",
              "      <th>1</th>\n",
              "      <td>0</td>\n",
              "      <td>13</td>\n",
              "      <td>3250</td>\n",
              "      <td>28</td>\n",
              "      <td>1</td>\n",
              "    </tr>\n",
              "    <tr>\n",
              "      <th>2</th>\n",
              "      <td>1</td>\n",
              "      <td>16</td>\n",
              "      <td>4000</td>\n",
              "      <td>35</td>\n",
              "      <td>1</td>\n",
              "    </tr>\n",
              "    <tr>\n",
              "      <th>3</th>\n",
              "      <td>2</td>\n",
              "      <td>20</td>\n",
              "      <td>5000</td>\n",
              "      <td>45</td>\n",
              "      <td>1</td>\n",
              "    </tr>\n",
              "    <tr>\n",
              "      <th>4</th>\n",
              "      <td>1</td>\n",
              "      <td>24</td>\n",
              "      <td>6000</td>\n",
              "      <td>77</td>\n",
              "      <td>0</td>\n",
              "    </tr>\n",
              "  </tbody>\n",
              "</table>\n",
              "    </div>\n",
              "</div>\n",
              "</div>"
            ],
            "text/plain": [
              "<pandas_profiling.ProfileReport at 0x7fe7208be668>"
            ]
          },
          "metadata": {
            "tags": []
          },
          "execution_count": 2
        }
      ]
    },
    {
      "cell_type": "code",
      "metadata": {
        "id": "_hmkYzwr-V0R",
        "colab_type": "code",
        "colab": {}
      },
      "source": [
        "report.to_file(outputfile=\"blood_transfuion_classification_pandasprofiling.html\")"
      ],
      "execution_count": 0,
      "outputs": []
    },
    {
      "cell_type": "markdown",
      "metadata": {
        "id": "DOmYI2OXN0sN",
        "colab_type": "text"
      },
      "source": [
        "## Quick Distribution plotting"
      ]
    },
    {
      "cell_type": "code",
      "metadata": {
        "id": "yJuO1Rt-9u8h",
        "colab_type": "code",
        "outputId": "67029077-cff5-4268-97ed-c2aa5e46909c",
        "colab": {
          "base_uri": "https://localhost:8080/",
          "height": 1000
        }
      },
      "source": [
        "fig, (ax1, ax2, ax3, ax4) = plt.subplots(4, figsize=(25, 15))\n",
        "fig.suptitle('Distribution Plots for each feature', fontsize=20)\n",
        "sns.distplot(df['Monetary (c.c. blood)'], hist=True, norm_hist=True, ax=ax1)\n",
        "ax1.set_xlabel('Monetary (c.c. blood)', fontsize=10)\n",
        "sns.distplot(df['Recency (months)'], hist=True, norm_hist=True, ax=ax2)\n",
        "ax2.set_xlabel('Recency (months)', fontsize=10)\n",
        "sns.distplot(df['Frequency (times)'], hist=True, norm_hist=True, ax=ax3)\n",
        "ax3.set_xlabel('Frequency (times)', fontsize=10)\n",
        "sns.distplot(df['Time (months)'], hist=True, norm_hist=True, ax=ax4)\n",
        "plt.show()"
      ],
      "execution_count": 4,
      "outputs": [
        {
          "output_type": "display_data",
          "data": {
            "image/png": "[encoded data removed]",
            "text/plain": [
              "<Figure size 2500x1500 with 4 Axes>"
            ]
          },
          "metadata": {
            "tags": []
          }
        }
      ]
    },
    {
      "cell_type": "markdown",
      "metadata": {
        "id": "nVQfk4acN3PM",
        "colab_type": "text"
      },
      "source": [
        "## Quick histogram plotting"
      ]
    },
    {
      "cell_type": "code",
      "metadata": {
        "id": "yxkM5jUIs8y6",
        "colab_type": "code",
        "outputId": "aff6782e-accf-42c9-b170-cf114e239b14",
        "colab": {
          "base_uri": "https://localhost:8080/",
          "height": 1000
        }
      },
      "source": [
        "pd.DataFrame.hist(df.iloc[:, :-1], figsize = [15,15])"
      ],
      "execution_count": 5,
      "outputs": [
        {
          "output_type": "execute_result",
          "data": {
            "text/plain": [
              "array([[<matplotlib.axes._subplots.AxesSubplot object at 0x7fe70caa0198>,\n",
              "        <matplotlib.axes._subplots.AxesSubplot object at 0x7fe70c889cf8>],\n",
              "       [<matplotlib.axes._subplots.AxesSubplot object at 0x7fe70c77f1d0>,\n",
              "        <matplotlib.axes._subplots.AxesSubplot object at 0x7fe70c729b70>]],\n",
              "      dtype=object)"
            ]
          },
          "metadata": {
            "tags": []
          },
          "execution_count": 5
        },
        {
          "output_type": "display_data",
          "data": {
            "image/png": "[encoded data removed]",
            "text/plain": [
              "<Figure size 1500x1500 with 4 Axes>"
            ]
          },
          "metadata": {
            "tags": []
          }
        }
      ]
    },
    {
      "cell_type": "markdown",
      "metadata": {
        "id": "QDIT6zPIQnpX",
        "colab_type": "text"
      },
      "source": [
        "## Drop highly correlated variables"
      ]
    },
    {
      "cell_type": "code",
      "metadata": {
        "id": "xQUJ54MsQmqx",
        "colab_type": "code",
        "colab": {}
      },
      "source": [
        "df.drop('Frequency (times)', axis=1, inplace=True)"
      ],
      "execution_count": 0,
      "outputs": []
    },
    {
      "cell_type": "markdown",
      "metadata": {
        "id": "TTiSn_4zHqHZ",
        "colab_type": "text"
      },
      "source": [
        "## Feature selection"
      ]
    },
    {
      "cell_type": "markdown",
      "metadata": {
        "id": "TXn2og06-LET",
        "colab_type": "text"
      },
      "source": [
        "### Variance Threshold Feature Selection"
      ]
    },
    {
      "cell_type": "code",
      "metadata": {
        "id": "0gjg6_QmHpGh",
        "colab_type": "code",
        "outputId": "3f1b1346-87a2-4cfa-e19b-32bf18da06b7",
        "colab": {
          "base_uri": "https://localhost:8080/",
          "height": 158
        }
      },
      "source": [
        "def select_features_var_threshold(dataframe, threshold):\n",
        "    \"\"\" Features with a training-set variance lower than this threshold will be removed.  \"\"\"\n",
        "    from sklearn.feature_selection import VarianceThreshold\n",
        "    from timeit import default_timer\n",
        "\n",
        "    X, y = dataframe.iloc[:, :-1].values, dataframe.iloc[:, -1].values\n",
        "    start = default_timer()\n",
        "    var_threshold = VarianceThreshold(threshold)\n",
        "    var_threshold.fit(X)\n",
        "    X_new = var_threshold.transform(X)\n",
        "    end = default_timer()\n",
        "    print(\"Elapsed Time for feature selection: {}s\".format(end-start))\n",
        "    return X_new\n",
        "\n",
        "new_selected_features = select_features_var_threshold(df, threshold=0.7)\n",
        "print(f\"Variance Thresheld Selected Features: {new_selected_features}\")"
      ],
      "execution_count": 7,
      "outputs": [
        {
          "output_type": "stream",
          "text": [
            "Elapsed Time for feature selection: 0.00031017599985716515s\n",
            "Variance Thresheld Selected Features: [[    2 12500    98]\n",
            " [    0  3250    28]\n",
            " [    1  4000    35]\n",
            " ...\n",
            " [   23   750    62]\n",
            " [   39   250    39]\n",
            " [   72   250    72]]\n"
          ],
          "name": "stdout"
        }
      ]
    },
    {
      "cell_type": "markdown",
      "metadata": {
        "id": "Fe4gg6hp_qQc",
        "colab_type": "text"
      },
      "source": [
        "Using variance threshold feature selection, with a threshold of 0.7, our feature selection class kept all the features and the RandomForestClassifier returned the same scores as it out have produced without the feature selection, out of the box.\n",
        "\n",
        "The R-squared coefficient is 0.92+ which is really high, which means that this model does really well out of the box. Because the number of feature in this dataset are so little, we decide to just keep all the features in the dataset."
      ]
    },
    {
      "cell_type": "code",
      "metadata": {
        "id": "CAoXt4DwRKoE",
        "colab_type": "code",
        "outputId": "571ae13c-ebe4-4c5b-919c-a54fda339688",
        "colab": {
          "base_uri": "https://localhost:8080/",
          "height": 87
        }
      },
      "source": [
        "from sklearn.model_selection import train_test_split\n",
        "from sklearn.ensemble import RandomForestClassifier\n",
        "from timeit import default_timer\n",
        "\n",
        "dataframe = pd.DataFrame(new_selected_features)\n",
        "X = df.iloc[:, :-1].values\n",
        "y = df['target'].values\n",
        "X_train, X_test, y_train, y_test = train_test_split(X, y, test_size=0.3, random_state=123)\n",
        "\n",
        "rfc = RandomForestClassifier()\n",
        "start = default_timer()\n",
        "rfc.fit(X_train, y_train)\n",
        "y_pred = rfc.predict(X_test)\n",
        "print(\"coefficient of determination R^2 of our estimator out of the box: {}\".format(rfc.score(X_train, y_train)))\n",
        "end = default_timer()\n",
        "print(\"Total training time: {}s\".format(end-start))"
      ],
      "execution_count": 8,
      "outputs": [
        {
          "output_type": "stream",
          "text": [
            "coefficient of determination R^2 of our estimator out of the box: 0.9292543021032504\n",
            "Total training time: 0.01958760900015477s\n"
          ],
          "name": "stdout"
        },
        {
          "output_type": "stream",
          "text": [
            "/usr/local/lib/python3.6/dist-packages/sklearn/ensemble/forest.py:245: FutureWarning: The default value of n_estimators will change from 10 in version 0.20 to 100 in 0.22.\n",
            "  \"10 in version 0.20 to 100 in 0.22.\", FutureWarning)\n"
          ],
          "name": "stderr"
        }
      ]
    },
    {
      "cell_type": "code",
      "metadata": {
        "id": "6LWKxvvaI0bC",
        "colab_type": "code",
        "outputId": "32143a94-0a1c-4892-be20-5e210d4c5ec4",
        "colab": {
          "base_uri": "https://localhost:8080/",
          "height": 52
        }
      },
      "source": [
        "from sklearn.metrics import confusion_matrix as cm\n",
        "cm = cm(y_test, y_pred, labels=None, sample_weight=None)\n",
        "cm"
      ],
      "execution_count": 9,
      "outputs": [
        {
          "output_type": "execute_result",
          "data": {
            "text/plain": [
              "array([[143,  22],\n",
              "       [ 44,  16]])"
            ]
          },
          "metadata": {
            "tags": []
          },
          "execution_count": 9
        }
      ]
    },
    {
      "cell_type": "code",
      "metadata": {
        "id": "7UaT65CIK_Y2",
        "colab_type": "code",
        "outputId": "2b88bc56-6e76-4d78-d99c-9f3a9689f10c",
        "colab": {
          "base_uri": "https://localhost:8080/",
          "height": 527
        }
      },
      "source": [
        "# Compute ROC curve and ROC area for each class\n",
        "from sklearn.metrics import roc_curve, auc\n",
        "n_classes = 2\n",
        "fpr = dict()\n",
        "tpr = dict()\n",
        "roc_auc = dict()\n",
        "for i in range(n_classes):\n",
        "    fpr[i], tpr[i], _ = roc_curve(y_test, y_pred)\n",
        "    roc_auc[i] = auc(fpr[i], tpr[i])\n",
        "\n",
        "# Compute micro-average ROC curve and ROC area\n",
        "fpr[\"micro\"], tpr[\"micro\"], _ = roc_curve(y_test.ravel(), y_pred.ravel())\n",
        "roc_auc[\"micro\"] = auc(fpr[\"micro\"], tpr[\"micro\"])\n",
        "\n",
        "plt.figure()\n",
        "lw = 2\n",
        "plt.plot(fpr[1], tpr[1], color='darkorange',\n",
        "         lw=lw, label='ROC curve (area = %0.2f)' % roc_auc[1])\n",
        "plt.plot([0, 1], [0, 1], color='navy', lw=lw, linestyle='--')\n",
        "plt.xlim([0.0, 1.0])\n",
        "plt.ylim([0.0, 1.05])\n",
        "plt.xlabel('False Positive Rate')\n",
        "plt.ylabel('True Positive Rate')\n",
        "plt.title('Receiver Operator Characteristic Curce')\n",
        "plt.legend(loc=\"lower right\")\n",
        "plt.show()"
      ],
      "execution_count": 10,
      "outputs": [
        {
          "output_type": "display_data",
          "data": {
            "image/png": "[encoded data removed]",
            "text/plain": [
              "<Figure size 800x550 with 1 Axes>"
            ]
          },
          "metadata": {
            "tags": []
          }
        }
      ]
    },
    {
      "cell_type": "markdown",
      "metadata": {
        "id": "G5XBU1q7Mbfk",
        "colab_type": "text"
      },
      "source": [
        "We also find out from this ROC curve, that after our feature selection, we had built a simple Random Forest Classifier that achieved performance little better than a null model...This does not say a lot about our modeling process and that perhaps further testing, modeling and experimentation is in order. But at least we know out of the box, we can see that this problem might be more involved than we had thought at onset."
      ]
    },
    {
      "cell_type": "markdown",
      "metadata": {
        "id": "_jXxz9nv-WQs",
        "colab_type": "text"
      },
      "source": [
        "-----------------------------------------------------------------\n",
        "_________________________________________________________________"
      ]
    },
    {
      "cell_type": "markdown",
      "metadata": {
        "id": "lc5ecmGUB1Oz",
        "colab_type": "text"
      },
      "source": [
        "## Hypothesis testing\n",
        "\n",
        "I want to perform a little bit more data exploration and statistical testing of hypothesis testing to see whether or not a strong statistical relationship exists between dependent and independent variables. After having plotted the distribution of each of the feature values, we know that we are dealing with a non-normal distribution and therefore a non-parametric approach to hypothesis testing must be pursued.\n",
        "\n",
        "From the Kruskal Wallis test, we can see that there is a difference in the median  Recency and the total blood donated values, for those who have donated their blood in March 2007 and those who did not. There is, however, no difference between the donor and non-donor groups in terms of the months since last donation (as time since last donatio is intuitively independent)."
      ]
    },
    {
      "cell_type": "code",
      "metadata": {
        "id": "BLrnbdRbB0Ex",
        "colab_type": "code",
        "outputId": "8001ab18-451a-43b4-89c1-c6e612a6db0f",
        "colab": {
          "base_uri": "https://localhost:8080/",
          "height": 70
        }
      },
      "source": [
        "from scipy.stats import kruskal\n",
        "\n",
        "for col in df.columns[df.columns != \"target\"]:\n",
        "    print(\"{}: {}\".format(col, kruskal(df.loc[df.target==1, col],\n",
        "                            df.loc[df.target ==0, col])))"
      ],
      "execution_count": 11,
      "outputs": [
        {
          "output_type": "stream",
          "text": [
            "Recency (months): KruskalResult(statistic=65.28504036601454, pvalue=6.48114733861018e-16)\n",
            "Monetary (c.c. blood): KruskalResult(statistic=35.10221854273894, pvalue=3.128441735961902e-09)\n",
            "Time (months): KruskalResult(statistic=0.5894765141978687, pvalue=0.4426216188460801)\n"
          ],
          "name": "stdout"
        }
      ]
    },
    {
      "cell_type": "markdown",
      "metadata": {
        "id": "QJg6GGhcPXAM",
        "colab_type": "text"
      },
      "source": [
        "## Dimensionality Reduction with PCA"
      ]
    },
    {
      "cell_type": "code",
      "metadata": {
        "id": "Hx4FuYFSPZ_S",
        "colab_type": "code",
        "outputId": "fe78a431-d9e4-406d-9604-bee92fca03c1",
        "colab": {
          "base_uri": "https://localhost:8080/",
          "height": 642
        }
      },
      "source": [
        "from sklearn.decomposition import PCA\n",
        "from sklearn.pipeline import Pipeline\n",
        "from sklearn.model_selection import GridSearchCV\n",
        "from sklearn.linear_model import SGDClassifier\n",
        "\n",
        "logistic = SGDClassifier(loss='log', penalty='l2', early_stopping=True,\n",
        "                         max_iter=10000, tol=1e-5, random_state=0)\n",
        "pca = PCA()\n",
        "pipe = Pipeline(steps=[('pca', pca), ('logistic', logistic)])\n",
        "\n",
        "X = df.iloc[:, :-1].values\n",
        "y = df['target'].values\n",
        "\n",
        "# Parameters of pipelines can be set using ‘__’ separated parameter names:\n",
        "param_grid = {\n",
        "    'pca__n_components': [1, 2, 3],\n",
        "    'logistic__alpha': np.logspace(-4, 4, 5),\n",
        "}\n",
        "\n",
        "search = GridSearchCV(pipe, param_grid, iid=False, cv=10)\n",
        "search.fit(X, y)\n",
        "print(\"Best parameter (CV score=%0.3f):\" % search.best_score_)\n",
        "print(search.best_params_)\n",
        "\n",
        "# Plot the PCA spectrum\n",
        "pca.fit(X)\n",
        "\n",
        "fig, (ax0, ax1) = plt.subplots(nrows=2, sharex=True, figsize=(6, 6))\n",
        "ax0.plot(pca.explained_variance_ratio_, linewidth=2)\n",
        "ax0.set_ylabel('PCA explained variance')\n",
        "\n",
        "ax0.axvline(search.best_estimator_.named_steps['pca'].n_components,\n",
        "            linestyle=':', label='n_components chosen')\n",
        "ax0.legend(prop=dict(size=12))\n",
        "\n",
        "# For each number of components, find the best classifier results\n",
        "results = pd.DataFrame(search.cv_results_)\n",
        "components_col = 'param_pca__n_components'\n",
        "best_clfs = results.groupby(components_col).apply(\n",
        "    lambda g: g.nlargest(1, 'mean_test_score'))\n",
        "\n",
        "best_clfs.plot(x=components_col, y='mean_test_score', yerr='std_test_score',\n",
        "               legend=False, ax=ax1)\n",
        "ax1.set_ylabel('Classification accuracy (val)')\n",
        "ax1.set_xlabel('n_components')\n",
        "\n",
        "plt.tight_layout()\n",
        "plt.show()"
      ],
      "execution_count": 12,
      "outputs": [
        {
          "output_type": "stream",
          "text": [
            "Best parameter (CV score=0.675):\n",
            "{'logistic__alpha': 10000.0, 'pca__n_components': 1}\n"
          ],
          "name": "stdout"
        },
        {
          "output_type": "display_data",
          "data": {
            "image/png": "[encoded data removed]",
            "text/plain": [
              "<Figure size 600x600 with 2 Axes>"
            ]
          },
          "metadata": {
            "tags": []
          }
        }
      ]
    },
    {
      "cell_type": "markdown",
      "metadata": {
        "id": "zw9umJzbAOiB",
        "colab_type": "text"
      },
      "source": [
        "Dimensionality reduction with PCA reveals that only 1 principal component was chosen to explain the most variance. We, however, will not be using any principal components then for modeling our data, because that gives us too little information."
      ]
    },
    {
      "cell_type": "markdown",
      "metadata": {
        "id": "NKNF45sqzEE2",
        "colab_type": "text"
      },
      "source": [
        "## Prep the data for modelling"
      ]
    },
    {
      "cell_type": "code",
      "metadata": {
        "id": "mvjDoRLsUBeF",
        "colab_type": "code",
        "colab": {}
      },
      "source": [
        "from sklearn.model_selection import train_test_split\n",
        "from timeit import default_timer\n",
        "\n",
        "dataframe = pd.DataFrame(new_selected_features)\n",
        "\n",
        "features = df.iloc[:, :-1].values\n",
        "target = df.iloc[:, -1].values\n",
        "X_train, X_test, y_train, y_test = train_test_split(features, target, test_size=0.3, random_state=123)\n",
        "y_train = y_train.ravel()\n",
        "y_test = y_test.ravel()"
      ],
      "execution_count": 0,
      "outputs": []
    },
    {
      "cell_type": "code",
      "metadata": {
        "id": "FUdB5Uv3DSJc",
        "colab_type": "code",
        "colab": {}
      },
      "source": [
        "# scaled features\n",
        "from sklearn.preprocessing import StandardScaler\n",
        "\n",
        "scaled_features = StandardScaler().fit_transform(features)\n",
        "\n",
        "X_train, X_test, y_train, y_test = train_test_split(scaled_features, target, test_size=0.3, random_state=123)\n",
        "y_train = y_train.ravel()\n",
        "y_test = y_test.ravel()"
      ],
      "execution_count": 0,
      "outputs": []
    },
    {
      "cell_type": "markdown",
      "metadata": {
        "id": "rTfctKp0B5CD",
        "colab_type": "text"
      },
      "source": [
        "## Null Models\n",
        "\n",
        "Feed the data into a bunch of basic, classic machine learning models right out of the box, with some parameter optimization. We just want to see what we can get out of the box with some of the basic algorithms before going beyond further."
      ]
    },
    {
      "cell_type": "code",
      "metadata": {
        "id": "bMZmorweKM5Z",
        "colab_type": "code",
        "colab": {}
      },
      "source": [
        "model_performance_df = pd.DataFrame()\n",
        "model_ids = []\n",
        "model_type = []\n",
        "model_parameters = []\n",
        "model_evaluation_metrics = []\n",
        "model_score = []"
      ],
      "execution_count": 0,
      "outputs": []
    },
    {
      "cell_type": "markdown",
      "metadata": {
        "id": "CXzBvVWghMdb",
        "colab_type": "text"
      },
      "source": [
        "### Logistic Regression Classifier"
      ]
    },
    {
      "cell_type": "code",
      "metadata": {
        "id": "5o5kkvUVBj9I",
        "colab_type": "code",
        "colab": {
          "base_uri": "https://localhost:8080/",
          "height": 1000
        },
        "outputId": "48b34a33-c915-4218-9187-9a4a972a844f"
      },
      "source": [
        "from sklearn.linear_model import LogisticRegression\n",
        "from sklearn.model_selection import GridSearchCV\n",
        "from sklearn.metrics import roc_auc_score, balanced_accuracy_score, accuracy_score, f1_score, classification_report\n",
        "\n",
        "# model = LogisticRegression(solver='saga')\n",
        "\n",
        "param_grid = {\"penalty\": [\"l1\", \"l2\", \"elasticnet\"],\n",
        "              \"C\": np.arange(0., 1.1, 0.1)}\n",
        "\n",
        "start = default_timer()\n",
        "\n",
        "gscv = GridSearchCV(estimator=LogisticRegression(solver='saga'), \n",
        "                    param_grid=param_grid, \n",
        "                    scoring=\"balanced_accuracy\",\n",
        "                    cv=10,\n",
        "                    refit=True,\n",
        "                    error_score=np.nan)\n",
        "\n",
        "gscv.fit(X_train, y_train)\n",
        "\n",
        "y_pred = gscv.predict(X_test)\n",
        "print(\"coefficient of determination R^2 of our estimator out of the box: {}\".format(gscv.score(X_train, y_train)))\n",
        "end = default_timer()\n",
        "print(\"Total training time: {}s\".format(end-start))"
      ],
      "execution_count": 16,
      "outputs": [
        {
          "output_type": "stream",
          "text": [
            "/usr/local/lib/python3.6/dist-packages/sklearn/linear_model/logistic.py:974: RuntimeWarning: divide by zero encountered in double_scalars\n",
            "  beta = 1. / C\n",
            "/usr/local/lib/python3.6/dist-packages/sklearn/linear_model/logistic.py:974: RuntimeWarning: divide by zero encountered in double_scalars\n",
            "  beta = 1. / C\n",
            "/usr/local/lib/python3.6/dist-packages/sklearn/linear_model/logistic.py:974: RuntimeWarning: divide by zero encountered in double_scalars\n",
            "  beta = 1. / C\n",
            "/usr/local/lib/python3.6/dist-packages/sklearn/linear_model/logistic.py:974: RuntimeWarning: divide by zero encountered in double_scalars\n",
            "  beta = 1. / C\n",
            "/usr/local/lib/python3.6/dist-packages/sklearn/linear_model/logistic.py:974: RuntimeWarning: divide by zero encountered in double_scalars\n",
            "  beta = 1. / C\n",
            "/usr/local/lib/python3.6/dist-packages/sklearn/linear_model/logistic.py:974: RuntimeWarning: divide by zero encountered in double_scalars\n",
            "  beta = 1. / C\n",
            "/usr/local/lib/python3.6/dist-packages/sklearn/linear_model/logistic.py:974: RuntimeWarning: divide by zero encountered in double_scalars\n",
            "  beta = 1. / C\n",
            "/usr/local/lib/python3.6/dist-packages/sklearn/linear_model/logistic.py:974: RuntimeWarning: divide by zero encountered in double_scalars\n",
            "  beta = 1. / C\n",
            "/usr/local/lib/python3.6/dist-packages/sklearn/linear_model/logistic.py:974: RuntimeWarning: divide by zero encountered in double_scalars\n",
            "  beta = 1. / C\n",
            "/usr/local/lib/python3.6/dist-packages/sklearn/linear_model/logistic.py:974: RuntimeWarning: divide by zero encountered in double_scalars\n",
            "  beta = 1. / C\n",
            "/usr/local/lib/python3.6/dist-packages/sklearn/linear_model/logistic.py:976: RuntimeWarning: divide by zero encountered in double_scalars\n",
            "  alpha = 1. / C\n",
            "/usr/local/lib/python3.6/dist-packages/sklearn/linear_model/sag.py:313: RuntimeWarning: invalid value encountered in double_scalars\n",
            "  if step_size * alpha_scaled == 1:\n",
            "/usr/local/lib/python3.6/dist-packages/sklearn/model_selection/_validation.py:547: FitFailedWarning: Estimator fit failed. The score on this train-test partition for these parameters will be set to nan. Details: \n",
            "ValueError: Floating-point under-/overflow occurred at epoch #1. Scaling input data with StandardScaler or MinMaxScaler might help.\n",
            "\n",
            "  FitFailedWarning)\n",
            "/usr/local/lib/python3.6/dist-packages/sklearn/linear_model/logistic.py:976: RuntimeWarning: divide by zero encountered in double_scalars\n",
            "  alpha = 1. / C\n",
            "/usr/local/lib/python3.6/dist-packages/sklearn/linear_model/sag.py:313: RuntimeWarning: invalid value encountered in double_scalars\n",
            "  if step_size * alpha_scaled == 1:\n",
            "/usr/local/lib/python3.6/dist-packages/sklearn/model_selection/_validation.py:547: FitFailedWarning: Estimator fit failed. The score on this train-test partition for these parameters will be set to nan. Details: \n",
            "ValueError: Floating-point under-/overflow occurred at epoch #1. Scaling input data with StandardScaler or MinMaxScaler might help.\n",
            "\n",
            "  FitFailedWarning)\n",
            "/usr/local/lib/python3.6/dist-packages/sklearn/linear_model/logistic.py:976: RuntimeWarning: divide by zero encountered in double_scalars\n",
            "  alpha = 1. / C\n",
            "/usr/local/lib/python3.6/dist-packages/sklearn/linear_model/sag.py:313: RuntimeWarning: invalid value encountered in double_scalars\n",
            "  if step_size * alpha_scaled == 1:\n",
            "/usr/local/lib/python3.6/dist-packages/sklearn/model_selection/_validation.py:547: FitFailedWarning: Estimator fit failed. The score on this train-test partition for these parameters will be set to nan. Details: \n",
            "ValueError: Floating-point under-/overflow occurred at epoch #1. Scaling input data with StandardScaler or MinMaxScaler might help.\n",
            "\n",
            "  FitFailedWarning)\n",
            "/usr/local/lib/python3.6/dist-packages/sklearn/linear_model/logistic.py:976: RuntimeWarning: divide by zero encountered in double_scalars\n",
            "  alpha = 1. / C\n",
            "/usr/local/lib/python3.6/dist-packages/sklearn/linear_model/sag.py:313: RuntimeWarning: invalid value encountered in double_scalars\n",
            "  if step_size * alpha_scaled == 1:\n",
            "/usr/local/lib/python3.6/dist-packages/sklearn/model_selection/_validation.py:547: FitFailedWarning: Estimator fit failed. The score on this train-test partition for these parameters will be set to nan. Details: \n",
            "ValueError: Floating-point under-/overflow occurred at epoch #1. Scaling input data with StandardScaler or MinMaxScaler might help.\n",
            "\n",
            "  FitFailedWarning)\n",
            "/usr/local/lib/python3.6/dist-packages/sklearn/linear_model/logistic.py:976: RuntimeWarning: divide by zero encountered in double_scalars\n",
            "  alpha = 1. / C\n",
            "/usr/local/lib/python3.6/dist-packages/sklearn/linear_model/sag.py:313: RuntimeWarning: invalid value encountered in double_scalars\n",
            "  if step_size * alpha_scaled == 1:\n",
            "/usr/local/lib/python3.6/dist-packages/sklearn/model_selection/_validation.py:547: FitFailedWarning: Estimator fit failed. The score on this train-test partition for these parameters will be set to nan. Details: \n",
            "ValueError: Floating-point under-/overflow occurred at epoch #1. Scaling input data with StandardScaler or MinMaxScaler might help.\n",
            "\n",
            "  FitFailedWarning)\n",
            "/usr/local/lib/python3.6/dist-packages/sklearn/linear_model/logistic.py:976: RuntimeWarning: divide by zero encountered in double_scalars\n",
            "  alpha = 1. / C\n",
            "/usr/local/lib/python3.6/dist-packages/sklearn/linear_model/sag.py:313: RuntimeWarning: invalid value encountered in double_scalars\n",
            "  if step_size * alpha_scaled == 1:\n",
            "/usr/local/lib/python3.6/dist-packages/sklearn/model_selection/_validation.py:547: FitFailedWarning: Estimator fit failed. The score on this train-test partition for these parameters will be set to nan. Details: \n",
            "ValueError: Floating-point under-/overflow occurred at epoch #1. Scaling input data with StandardScaler or MinMaxScaler might help.\n",
            "\n",
            "  FitFailedWarning)\n",
            "/usr/local/lib/python3.6/dist-packages/sklearn/linear_model/logistic.py:976: RuntimeWarning: divide by zero encountered in double_scalars\n",
            "  alpha = 1. / C\n",
            "/usr/local/lib/python3.6/dist-packages/sklearn/linear_model/sag.py:313: RuntimeWarning: invalid value encountered in double_scalars\n",
            "  if step_size * alpha_scaled == 1:\n",
            "/usr/local/lib/python3.6/dist-packages/sklearn/model_selection/_validation.py:547: FitFailedWarning: Estimator fit failed. The score on this train-test partition for these parameters will be set to nan. Details: \n",
            "ValueError: Floating-point under-/overflow occurred at epoch #1. Scaling input data with StandardScaler or MinMaxScaler might help.\n",
            "\n",
            "  FitFailedWarning)\n",
            "/usr/local/lib/python3.6/dist-packages/sklearn/linear_model/logistic.py:976: RuntimeWarning: divide by zero encountered in double_scalars\n",
            "  alpha = 1. / C\n",
            "/usr/local/lib/python3.6/dist-packages/sklearn/linear_model/sag.py:313: RuntimeWarning: invalid value encountered in double_scalars\n",
            "  if step_size * alpha_scaled == 1:\n",
            "/usr/local/lib/python3.6/dist-packages/sklearn/model_selection/_validation.py:547: FitFailedWarning: Estimator fit failed. The score on this train-test partition for these parameters will be set to nan. Details: \n",
            "ValueError: Floating-point under-/overflow occurred at epoch #1. Scaling input data with StandardScaler or MinMaxScaler might help.\n",
            "\n",
            "  FitFailedWarning)\n",
            "/usr/local/lib/python3.6/dist-packages/sklearn/linear_model/logistic.py:976: RuntimeWarning: divide by zero encountered in double_scalars\n",
            "  alpha = 1. / C\n",
            "/usr/local/lib/python3.6/dist-packages/sklearn/linear_model/sag.py:313: RuntimeWarning: invalid value encountered in double_scalars\n",
            "  if step_size * alpha_scaled == 1:\n",
            "/usr/local/lib/python3.6/dist-packages/sklearn/model_selection/_validation.py:547: FitFailedWarning: Estimator fit failed. The score on this train-test partition for these parameters will be set to nan. Details: \n",
            "ValueError: Floating-point under-/overflow occurred at epoch #1. Scaling input data with StandardScaler or MinMaxScaler might help.\n",
            "\n",
            "  FitFailedWarning)\n",
            "/usr/local/lib/python3.6/dist-packages/sklearn/linear_model/logistic.py:976: RuntimeWarning: divide by zero encountered in double_scalars\n",
            "  alpha = 1. / C\n",
            "/usr/local/lib/python3.6/dist-packages/sklearn/linear_model/sag.py:313: RuntimeWarning: invalid value encountered in double_scalars\n",
            "  if step_size * alpha_scaled == 1:\n",
            "/usr/local/lib/python3.6/dist-packages/sklearn/model_selection/_validation.py:547: FitFailedWarning: Estimator fit failed. The score on this train-test partition for these parameters will be set to nan. Details: \n",
            "ValueError: Floating-point under-/overflow occurred at epoch #1. Scaling input data with StandardScaler or MinMaxScaler might help.\n",
            "\n",
            "  FitFailedWarning)\n",
            "/usr/local/lib/python3.6/dist-packages/sklearn/model_selection/_validation.py:547: FitFailedWarning: Estimator fit failed. The score on this train-test partition for these parameters will be set to nan. Details: \n",
            "ValueError: l1_ratio must be between 0 and 1; got (l1_ratio=None)\n",
            "\n",
            "  FitFailedWarning)\n",
            "/usr/local/lib/python3.6/dist-packages/sklearn/model_selection/_validation.py:547: FitFailedWarning: Estimator fit failed. The score on this train-test partition for these parameters will be set to nan. Details: \n",
            "ValueError: l1_ratio must be between 0 and 1; got (l1_ratio=None)\n",
            "\n",
            "  FitFailedWarning)\n",
            "/usr/local/lib/python3.6/dist-packages/sklearn/model_selection/_validation.py:547: FitFailedWarning: Estimator fit failed. The score on this train-test partition for these parameters will be set to nan. Details: \n",
            "ValueError: l1_ratio must be between 0 and 1; got (l1_ratio=None)\n",
            "\n",
            "  FitFailedWarning)\n",
            "/usr/local/lib/python3.6/dist-packages/sklearn/model_selection/_validation.py:547: FitFailedWarning: Estimator fit failed. The score on this train-test partition for these parameters will be set to nan. Details: \n",
            "ValueError: l1_ratio must be between 0 and 1; got (l1_ratio=None)\n",
            "\n",
            "  FitFailedWarning)\n",
            "/usr/local/lib/python3.6/dist-packages/sklearn/model_selection/_validation.py:547: FitFailedWarning: Estimator fit failed. The score on this train-test partition for these parameters will be set to nan. Details: \n",
            "ValueError: l1_ratio must be between 0 and 1; got (l1_ratio=None)\n",
            "\n",
            "  FitFailedWarning)\n",
            "/usr/local/lib/python3.6/dist-packages/sklearn/model_selection/_validation.py:547: FitFailedWarning: Estimator fit failed. The score on this train-test partition for these parameters will be set to nan. Details: \n",
            "ValueError: l1_ratio must be between 0 and 1; got (l1_ratio=None)\n",
            "\n",
            "  FitFailedWarning)\n",
            "/usr/local/lib/python3.6/dist-packages/sklearn/model_selection/_validation.py:547: FitFailedWarning: Estimator fit failed. The score on this train-test partition for these parameters will be set to nan. Details: \n",
            "ValueError: l1_ratio must be between 0 and 1; got (l1_ratio=None)\n",
            "\n",
            "  FitFailedWarning)\n"
          ],
          "name": "stderr"
        },
        {
          "output_type": "stream",
          "text": [
            "coefficient of determination R^2 of our estimator out of the box: 0.559688219292739\n",
            "Total training time: 0.6287780869997732s\n"
          ],
          "name": "stdout"
        },
        {
          "output_type": "stream",
          "text": [
            "/usr/local/lib/python3.6/dist-packages/sklearn/model_selection/_validation.py:547: FitFailedWarning: Estimator fit failed. The score on this train-test partition for these parameters will be set to nan. Details: \n",
            "ValueError: l1_ratio must be between 0 and 1; got (l1_ratio=None)\n",
            "\n",
            "  FitFailedWarning)\n",
            "/usr/local/lib/python3.6/dist-packages/sklearn/model_selection/_validation.py:547: FitFailedWarning: Estimator fit failed. The score on this train-test partition for these parameters will be set to nan. Details: \n",
            "ValueError: l1_ratio must be between 0 and 1; got (l1_ratio=None)\n",
            "\n",
            "  FitFailedWarning)\n",
            "/usr/local/lib/python3.6/dist-packages/sklearn/model_selection/_validation.py:547: FitFailedWarning: Estimator fit failed. The score on this train-test partition for these parameters will be set to nan. Details: \n",
            "ValueError: l1_ratio must be between 0 and 1; got (l1_ratio=None)\n",
            "\n",
            "  FitFailedWarning)\n",
            "/usr/local/lib/python3.6/dist-packages/sklearn/model_selection/_validation.py:547: FitFailedWarning: Estimator fit failed. The score on this train-test partition for these parameters will be set to nan. Details: \n",
            "ValueError: l1_ratio must be between 0 and 1; got (l1_ratio=None)\n",
            "\n",
            "  FitFailedWarning)\n",
            "/usr/local/lib/python3.6/dist-packages/sklearn/model_selection/_search.py:814: DeprecationWarning: The default of the `iid` parameter will change from True to False in version 0.22 and will be removed in 0.24. This will change numeric results when test-set sizes are unequal.\n",
            "  DeprecationWarning)\n"
          ],
          "name": "stderr"
        }
      ]
    },
    {
      "cell_type": "code",
      "metadata": {
        "id": "rYihJ1YQ89tf",
        "colab_type": "code",
        "outputId": "69cb4e6e-2654-432c-ec81-31b52d0c765d",
        "colab": {
          "base_uri": "https://localhost:8080/",
          "height": 230
        }
      },
      "source": [
        "# list of model attributes you print out\n",
        "print(\"Best Estimator: \\n{}\\nBest Score: \\n{}\\nBest Params: \\n{}\\nScorer: \\n{}\".format(\n",
        "gscv.best_estimator_, \n",
        "gscv.best_score_, \n",
        "gscv.best_params_, \n",
        "gscv.scorer_))"
      ],
      "execution_count": 17,
      "outputs": [
        {
          "output_type": "stream",
          "text": [
            "Best Estimator: \n",
            "LogisticRegression(C=1.0, class_weight=None, dual=False, fit_intercept=True,\n",
            "                   intercept_scaling=1, l1_ratio=None, max_iter=100,\n",
            "                   multi_class='warn', n_jobs=None, penalty='l2',\n",
            "                   random_state=None, solver='saga', tol=0.0001, verbose=0,\n",
            "                   warm_start=False)\n",
            "Best Score: \n",
            "0.5582485596062288\n",
            "Best Params: \n",
            "{'C': 1.0, 'penalty': 'l2'}\n",
            "Scorer: \n",
            "make_scorer(balanced_accuracy_score)\n"
          ],
          "name": "stdout"
        }
      ]
    },
    {
      "cell_type": "code",
      "metadata": {
        "id": "KVVtyp5KRnnp",
        "colab_type": "code",
        "outputId": "b0d25f63-f77b-463b-a0f8-f19fdb8f011f",
        "colab": {
          "base_uri": "https://localhost:8080/",
          "height": 158
        }
      },
      "source": [
        "import pprint\n",
        "\n",
        "pp = pprint.PrettyPrinter(indent=4)\n",
        "cr = classification_report(y_test, y_pred)\n",
        "pp.pprint(cr)"
      ],
      "execution_count": 18,
      "outputs": [
        {
          "output_type": "stream",
          "text": [
            "('              precision    recall  f1-score   support\\n'\n",
            " '\\n'\n",
            " '           0       0.74      0.98      0.84       165\\n'\n",
            " '           1       0.50      0.07      0.12        60\\n'\n",
            " '\\n'\n",
            " '    accuracy                           0.73       225\\n'\n",
            " '   macro avg       0.62      0.52      0.48       225\\n'\n",
            " 'weighted avg       0.68      0.73      0.65       225\\n')\n"
          ],
          "name": "stdout"
        }
      ]
    },
    {
      "cell_type": "markdown",
      "metadata": {
        "id": "tq3s6dSAhCEG",
        "colab_type": "text"
      },
      "source": [
        "### Random Forest Classifier"
      ]
    },
    {
      "cell_type": "code",
      "metadata": {
        "colab_type": "code",
        "id": "z_jSveDQBU2a",
        "outputId": "eb237cfa-ef5f-418e-9e12-88dccc693546",
        "colab": {
          "base_uri": "https://localhost:8080/",
          "height": 107
        }
      },
      "source": [
        "from sklearn.ensemble import RandomForestClassifier\n",
        "\n",
        "param_grid = {\"n_estimators\": [5, 10, 20],\n",
        "              \"max_depth\": [3, 4, 5], \n",
        "              \"min_samples_leaf\": [1, 2, 3, 4, 5]}\n",
        "\n",
        "\n",
        "gscv_rfc = GridSearchCV(estimator=RandomForestClassifier(random_state=123, verbose=0, warm_start=True), \n",
        "                    param_grid=param_grid, \n",
        "                    scoring=\"balanced_accuracy\",\n",
        "                    cv=10,\n",
        "                    refit=True,\n",
        "                    error_score=np.nan)\n",
        "\n",
        "start = default_timer()\n",
        "gscv_rfc.fit(X_train, y_train)\n",
        "y_pred = gscv_rfc.predict(X_test)\n",
        "print(\"coefficient of determination R^2 of our estimator out of the box: {}\".format(gscv_rfc.score(X_train, y_train)))\n",
        "end = default_timer()\n",
        "print(\"Total training time: {}s\".format(end-start))"
      ],
      "execution_count": 19,
      "outputs": [
        {
          "output_type": "stream",
          "text": [
            "coefficient of determination R^2 of our estimator out of the box: 0.6919439213224524\n",
            "Total training time: 7.5175696270002845s\n"
          ],
          "name": "stdout"
        },
        {
          "output_type": "stream",
          "text": [
            "/usr/local/lib/python3.6/dist-packages/sklearn/model_selection/_search.py:814: DeprecationWarning: The default of the `iid` parameter will change from True to False in version 0.22 and will be removed in 0.24. This will change numeric results when test-set sizes are unequal.\n",
            "  DeprecationWarning)\n"
          ],
          "name": "stderr"
        }
      ]
    },
    {
      "cell_type": "code",
      "metadata": {
        "id": "MYn2Gr1iFmiU",
        "colab_type": "code",
        "outputId": "3d5ccef1-ada8-4f7e-d8fe-34beb483db48",
        "colab": {
          "base_uri": "https://localhost:8080/",
          "height": 265
        }
      },
      "source": [
        "# random forest classifier class attributes\n",
        "\n",
        "print(\"Best Estimator: \\n{}\\nBest Score: \\n{}\\nBest Params: \\n{}\\nScorer: \\n{}\".format(\n",
        "gscv_rfc.best_estimator_, \n",
        "gscv_rfc.best_score_, \n",
        "gscv_rfc.best_params_, \n",
        "gscv_rfc.scorer_))"
      ],
      "execution_count": 20,
      "outputs": [
        {
          "output_type": "stream",
          "text": [
            "Best Estimator: \n",
            "RandomForestClassifier(bootstrap=True, class_weight=None, criterion='gini',\n",
            "                       max_depth=5, max_features='auto', max_leaf_nodes=None,\n",
            "                       min_impurity_decrease=0.0, min_impurity_split=None,\n",
            "                       min_samples_leaf=2, min_samples_split=2,\n",
            "                       min_weight_fraction_leaf=0.0, n_estimators=5,\n",
            "                       n_jobs=None, oob_score=False, random_state=123,\n",
            "                       verbose=0, warm_start=True)\n",
            "Best Score: \n",
            "0.6148481739467142\n",
            "Best Params: \n",
            "{'max_depth': 5, 'min_samples_leaf': 2, 'n_estimators': 5}\n",
            "Scorer: \n",
            "make_scorer(balanced_accuracy_score)\n"
          ],
          "name": "stdout"
        }
      ]
    },
    {
      "cell_type": "code",
      "metadata": {
        "id": "yfgEj_K8TJyL",
        "colab_type": "code",
        "outputId": "4f711da1-bdba-4c29-8c02-0b7f529a5687",
        "colab": {
          "base_uri": "https://localhost:8080/",
          "height": 52
        }
      },
      "source": [
        "from sklearn.metrics import confusion_matrix\n",
        "cm = confusion_matrix(y_test, y_pred)\n",
        "cm"
      ],
      "execution_count": 21,
      "outputs": [
        {
          "output_type": "execute_result",
          "data": {
            "text/plain": [
              "array([[152,  13],\n",
              "       [ 44,  16]])"
            ]
          },
          "metadata": {
            "tags": []
          },
          "execution_count": 21
        }
      ]
    },
    {
      "cell_type": "code",
      "metadata": {
        "id": "t5kgs5UNVQDv",
        "colab_type": "code",
        "outputId": "0b3bb9d6-c91b-42b5-c224-aa422a15082c",
        "colab": {
          "base_uri": "https://localhost:8080/",
          "height": 176
        }
      },
      "source": [
        "from sklearn.metrics import classification_report\n",
        "\n",
        "print(classification_report(y_test, y_pred))"
      ],
      "execution_count": 22,
      "outputs": [
        {
          "output_type": "stream",
          "text": [
            "              precision    recall  f1-score   support\n",
            "\n",
            "           0       0.78      0.92      0.84       165\n",
            "           1       0.55      0.27      0.36        60\n",
            "\n",
            "    accuracy                           0.75       225\n",
            "   macro avg       0.66      0.59      0.60       225\n",
            "weighted avg       0.72      0.75      0.71       225\n",
            "\n"
          ],
          "name": "stdout"
        }
      ]
    },
    {
      "cell_type": "code",
      "metadata": {
        "id": "qTkc_6QJVWOm",
        "colab_type": "code",
        "outputId": "759af538-c53e-46c0-b5f1-a05816819339",
        "colab": {
          "base_uri": "https://localhost:8080/",
          "height": 545
        }
      },
      "source": [
        "from sklearn.metrics import precision_recall_curve, average_precision_score\n",
        "import matplotlib.pyplot as plt\n",
        "from inspect import signature\n",
        "\n",
        "average_precision = average_precision_score(y_test, y_pred)\n",
        "precision, recall, _ = precision_recall_curve(y_test, y_pred)\n",
        "\n",
        "# In matplotlib < 1.5, plt.fill_between does not have a 'step' argument\n",
        "step_kwargs = ({'step': 'post'}\n",
        "               if 'step' in signature(plt.fill_between).parameters\n",
        "               else {})\n",
        "plt.step(recall, precision, color='b', alpha=0.2,\n",
        "         where='post')\n",
        "plt.fill_between(recall, precision, alpha=0.2, color='b', **step_kwargs)\n",
        "\n",
        "plt.xlabel('Recall')\n",
        "plt.ylabel('Precision')\n",
        "plt.ylim([0.0, 1.05])\n",
        "plt.xlim([0.0, 1.0])\n",
        "plt.title('2-class Precision-Recall curve: AP={0:0.2f}'.format(\n",
        "          average_precision))"
      ],
      "execution_count": 23,
      "outputs": [
        {
          "output_type": "execute_result",
          "data": {
            "text/plain": [
              "Text(0.5, 1.0, '2-class Precision-Recall curve: AP=0.34')"
            ]
          },
          "metadata": {
            "tags": []
          },
          "execution_count": 23
        },
        {
          "output_type": "display_data",
          "data": {
            "image/png": "[encoded data removed]",
            "text/plain": [
              "<Figure size 800x550 with 1 Axes>"
            ]
          },
          "metadata": {
            "tags": []
          }
        }
      ]
    },
    {
      "cell_type": "code",
      "metadata": {
        "id": "DY2lByhNTfR6",
        "colab_type": "code",
        "outputId": "b00f4ef2-97ec-4544-9f99-39a27ab31acf",
        "colab": {
          "base_uri": "https://localhost:8080/",
          "height": 70
        }
      },
      "source": [
        "df.target.value_counts()"
      ],
      "execution_count": 24,
      "outputs": [
        {
          "output_type": "execute_result",
          "data": {
            "text/plain": [
              "0    570\n",
              "1    178\n",
              "Name: target, dtype: int64"
            ]
          },
          "metadata": {
            "tags": []
          },
          "execution_count": 24
        }
      ]
    },
    {
      "cell_type": "markdown",
      "metadata": {
        "id": "XivAtWteSk_q",
        "colab_type": "text"
      },
      "source": [
        "From these null models (with a teensy bit of hyperparameter space searching), we can see that, given the imbalance in the class sizes, we were not able to get a model with a considerably good predictive accuracy score ( lots of negative cases compared to positive cases). We also did not achieve good recall, precision or f-1 scores. Therefore, our other unexplored option would be to employ synthetic data generation through over-sampling of the minority class."
      ]
    },
    {
      "cell_type": "markdown",
      "metadata": {
        "id": "fv0DOrmhg5_7",
        "colab_type": "text"
      },
      "source": [
        "## Over Sampling of Minority class to over comeclass imbalance"
      ]
    },
    {
      "cell_type": "code",
      "metadata": {
        "id": "P-Tx9SQPhC9I",
        "colab_type": "code",
        "colab": {}
      },
      "source": [
        "!pip install imbalanced-learn -qq"
      ],
      "execution_count": 0,
      "outputs": []
    },
    {
      "cell_type": "code",
      "metadata": {
        "id": "fAM_nhA7hGQ4",
        "colab_type": "code",
        "colab": {
          "base_uri": "https://localhost:8080/",
          "height": 72
        },
        "outputId": "65916a2c-37d6-4cac-d882-635ac8b499d3"
      },
      "source": [
        "# imbalanced learn processor\n",
        "from imblearn.over_sampling import SMOTE\n",
        "\n",
        "def over_sampler(features, target):\n",
        "    \"\"\" use grid search to pick best neighbors for \n",
        "    resampler via modeling after resampler and selecting best model\n",
        "    \n",
        "    :param features: scaled features\n",
        "    :param target: target is not scaled\n",
        "    \n",
        "     \"\"\"\n",
        "    from imblearn.over_sampling import SMOTE\n",
        "\n",
        "    sm = SMOTE(random_state=42, k_neighbors=21)\n",
        "    features_res, target_res = sm.fit_resample(features, target)\n",
        "    return features_res, target_res"
      ],
      "execution_count": 26,
      "outputs": [
        {
          "output_type": "stream",
          "text": [
            "/usr/local/lib/python3.6/dist-packages/sklearn/externals/six.py:31: DeprecationWarning: The module is deprecated in version 0.21 and will be removed in version 0.23 since we've dropped support for Python 2.7. Please rely on the official version of six (https://pypi.org/project/six/).\n",
            "  \"(https://pypi.org/project/six/).\", DeprecationWarning)\n"
          ],
          "name": "stderr"
        }
      ]
    },
    {
      "cell_type": "code",
      "metadata": {
        "id": "LANv4fAY28GK",
        "colab_type": "code",
        "colab": {}
      },
      "source": [
        "features_res, target_res = over_sampler(scaled_features, df.iloc[:, -1].values)"
      ],
      "execution_count": 0,
      "outputs": []
    },
    {
      "cell_type": "code",
      "metadata": {
        "id": "5V3-_d6cxJMg",
        "colab_type": "code",
        "outputId": "8b6ea122-9503-41ef-b931-9cecc6c72810",
        "colab": {
          "base_uri": "https://localhost:8080/",
          "height": 445
        }
      },
      "source": [
        "from timeit import default_timer\n",
        "\n",
        "X_train, X_test, y_train, y_test = train_test_split(features_res, target_res, train_size=0.3, random_state=42)\n",
        "\n",
        "param_grid = {\"n_estimators\": [40, 42, 43, 45, 50],\n",
        "              \"max_depth\": [3, 4, 5], \n",
        "              \"min_samples_leaf\": [1, 2, 3, 4, 5]}\n",
        "\n",
        "\n",
        "gv = GridSearchCV(RandomForestClassifier(), param_grid, cv=10)\n",
        "start_time = default_timer()\n",
        "gv.fit(X_train, y_train)\n",
        "y_pred = rfc.predict(X_test)\n",
        "end_time = default_timer()\n",
        "print(\"coefficient of determination R^2 of our estimator out of the box: {}\".format(gv.score(X_train, y_train)))\n",
        "print(\"ROC AUC score: {}\".format(roc_auc_score(y_test, y_pred)))\n",
        "print(classification_report(y_test, y_pred))\n",
        "print(\"Accuracy Score: {}\".format(accuracy_score(y_test, y_pred)))\n",
        "print(\"F1 Score: {}\".format(f1_score(y_test, y_pred)))\n",
        "print(\"Best Estimator: {}\".format(gv.best_estimator_))\n",
        "print(\"Time to train: {}s\".format(end_time - start_time))"
      ],
      "execution_count": 28,
      "outputs": [
        {
          "output_type": "stream",
          "text": [
            "coefficient of determination R^2 of our estimator out of the box: 0.8567251461988304\n",
            "ROC AUC score: 0.49753086419753084\n",
            "              precision    recall  f1-score   support\n",
            "\n",
            "           0       0.51      1.00      0.67       405\n",
            "           1       0.00      0.00      0.00       393\n",
            "\n",
            "    accuracy                           0.51       798\n",
            "   macro avg       0.25      0.50      0.34       798\n",
            "weighted avg       0.26      0.51      0.34       798\n",
            "\n",
            "Accuracy Score: 0.5050125313283208\n",
            "F1 Score: 0.0\n",
            "Best Estimator: RandomForestClassifier(bootstrap=True, class_weight=None, criterion='gini',\n",
            "                       max_depth=5, max_features='auto', max_leaf_nodes=None,\n",
            "                       min_impurity_decrease=0.0, min_impurity_split=None,\n",
            "                       min_samples_leaf=1, min_samples_split=2,\n",
            "                       min_weight_fraction_leaf=0.0, n_estimators=50,\n",
            "                       n_jobs=None, oob_score=False, random_state=None,\n",
            "                       verbose=0, warm_start=False)\n",
            "Time to train: 41.63667466600009s\n"
          ],
          "name": "stdout"
        },
        {
          "output_type": "stream",
          "text": [
            "/usr/local/lib/python3.6/dist-packages/sklearn/model_selection/_search.py:814: DeprecationWarning: The default of the `iid` parameter will change from True to False in version 0.22 and will be removed in 0.24. This will change numeric results when test-set sizes are unequal.\n",
            "  DeprecationWarning)\n"
          ],
          "name": "stderr"
        }
      ]
    },
    {
      "cell_type": "markdown",
      "metadata": {
        "id": "G4oLNfDFX-5c",
        "colab_type": "text"
      },
      "source": [
        "Got an F-1 score of 0.0... I don't know what happened there but that is horrifying."
      ]
    },
    {
      "cell_type": "code",
      "metadata": {
        "id": "k1SAUgz1Bowt",
        "colab_type": "code",
        "colab": {}
      },
      "source": [
        "model_ids = []\n",
        "best_estimators = []\n",
        "best_parameters = []\n",
        "precision = []\n",
        "recall = []\n",
        "accuracy = []\n",
        "roc_auc = []\n",
        "r2 = []\n",
        "train_time = []\n",
        "\n",
        "model_ids.append(\"001\")\n",
        "best_estimators.append(gv.best_estimator_)\n",
        "best_parameters.append(gv.best_params_)\n",
        "precision.append(precision_score(y_test, y_pred))\n",
        "recall.append(recall_score(y_test, y_pred))\n",
        "accuracy.append(accuracy_score(y_test, y_pred))\n",
        "roc_auc.append(roc_auc_score(y_test, y_pred))\n",
        "r2.append(gv.score(X_test, y_test))\n",
        "train_time.append(f\"{end_time-start_time}\")\n",
        "\n",
        "best_models_df = pd.DataFrame()\n",
        "best_models_df['id'] = model_ids\n",
        "best_models_df['best_estimator'] = best_estimators\n",
        "best_models_df['best_parameters'] = best_parameters\n",
        "best_models_df['accuracy'] = accuracy\n",
        "best_models_df['precision'] = precision\n",
        "best_models_df['recall'] = recall\n",
        "best_models_df['roc_auc'] = roc_auc\n",
        "best_models_df['r2_score'] = r2\n",
        "best_models_df['train_time(s)'] = train_time"
      ],
      "execution_count": 0,
      "outputs": []
    },
    {
      "cell_type": "code",
      "metadata": {
        "id": "s3SPoc5TQMDZ",
        "colab_type": "code",
        "outputId": "c5692c97-77bd-4179-abee-75d5b4ee89ee",
        "colab": {
          "base_uri": "https://localhost:8080/",
          "height": 77
        }
      },
      "source": [
        "best_models_df.head()"
      ],
      "execution_count": 30,
      "outputs": [
        {
          "output_type": "execute_result",
          "data": {
            "text/html": [
              "<div>\n",
              "<style scoped>\n",
              "    .dataframe tbody tr th:only-of-type {\n",
              "        vertical-align: middle;\n",
              "    }\n",
              "\n",
              "    .dataframe tbody tr th {\n",
              "        vertical-align: top;\n",
              "    }\n",
              "\n",
              "    .dataframe thead th {\n",
              "        text-align: right;\n",
              "    }\n",
              "</style>\n",
              "<table border=\"1\" class=\"dataframe\">\n",
              "  <thead>\n",
              "    <tr style=\"text-align: right;\">\n",
              "      <th></th>\n",
              "      <th>id</th>\n",
              "      <th>best_estimator</th>\n",
              "      <th>best_parameters</th>\n",
              "      <th>accuracy</th>\n",
              "      <th>precision</th>\n",
              "      <th>recall</th>\n",
              "      <th>roc_auc</th>\n",
              "      <th>r2_score</th>\n",
              "      <th>train_time(s)</th>\n",
              "    </tr>\n",
              "  </thead>\n",
              "  <tbody>\n",
              "    <tr>\n",
              "      <th>0</th>\n",
              "      <td>001</td>\n",
              "      <td>(DecisionTreeClassifier(class_weight=None, cri...</td>\n",
              "      <td>{'max_depth': 5, 'min_samples_leaf': 1, 'n_est...</td>\n",
              "      <td>0.505013</td>\n",
              "      <td>0.0</td>\n",
              "      <td>0.0</td>\n",
              "      <td>0.497531</td>\n",
              "      <td>0.720551</td>\n",
              "      <td>41.63667466600009</td>\n",
              "    </tr>\n",
              "  </tbody>\n",
              "</table>\n",
              "</div>"
            ],
            "text/plain": [
              "    id  ...      train_time(s)\n",
              "0  001  ...  41.63667466600009\n",
              "\n",
              "[1 rows x 9 columns]"
            ]
          },
          "metadata": {
            "tags": []
          },
          "execution_count": 30
        }
      ]
    },
    {
      "cell_type": "code",
      "metadata": {
        "colab_type": "code",
        "outputId": "edfd5c00-d603-4794-a414-85d0df499621",
        "id": "-tbEWovM24ED",
        "colab": {
          "base_uri": "https://localhost:8080/",
          "height": 52
        }
      },
      "source": [
        "from sklearn.metrics import confusion_matrix as cm\n",
        "cm = cm(y_test, y_pred, labels=None, sample_weight=None)\n",
        "cm"
      ],
      "execution_count": 31,
      "outputs": [
        {
          "output_type": "execute_result",
          "data": {
            "text/plain": [
              "array([[403,   2],\n",
              "       [393,   0]])"
            ]
          },
          "metadata": {
            "tags": []
          },
          "execution_count": 31
        }
      ]
    },
    {
      "cell_type": "code",
      "metadata": {
        "id": "bjRT5MhsgLy1",
        "colab_type": "code",
        "colab": {}
      },
      "source": [
        "def plot_roc(y_test, y_pred, n_classes=2):\n",
        "    from sklearn.metrics import roc_curve, auc\n",
        "    fpr = dict()\n",
        "    tpr = dict()\n",
        "    roc_auc = dict()\n",
        "    for i in range(n_classes):\n",
        "        fpr[i], tpr[i], _ = roc_curve(y_test, y_pred)\n",
        "        roc_auc[i] = auc(fpr[i], tpr[i])\n",
        "\n",
        "    # Compute micro-average ROC curve and ROC area\n",
        "    fpr[\"micro\"], tpr[\"micro\"], _ = roc_curve(y_test.ravel(), y_pred.ravel())\n",
        "    roc_auc[\"micro\"] = auc(fpr[\"micro\"], tpr[\"micro\"])\n",
        "\n",
        "    plt.figure()\n",
        "    lw = 2\n",
        "    plt.plot(fpr[0], tpr[0], color='darkorange',\n",
        "            lw=lw, label='ROC curve (area = %0.2f)' % roc_auc[0])\n",
        "    plt.plot([0, 1], [0, 1], color='navy', lw=lw, linestyle='--')\n",
        "    plt.xlim([0.0, 1.0])\n",
        "    plt.ylim([0.0, 1.05])\n",
        "    plt.xlabel('False Positive Rate')\n",
        "    plt.ylabel('True Positive Rate')\n",
        "    plt.title('Receiver Operator Characteristic Curce')\n",
        "    plt.legend(loc=\"lower right\")\n",
        "    plt.show()"
      ],
      "execution_count": 0,
      "outputs": []
    },
    {
      "cell_type": "code",
      "metadata": {
        "colab_type": "code",
        "outputId": "6df2ed44-58c0-4a11-a7d6-01cb078e6dcb",
        "id": "Lsc3rUcv24EJ",
        "colab": {
          "base_uri": "https://localhost:8080/",
          "height": 527
        }
      },
      "source": [
        "plot_roc(y_pred, y_test)"
      ],
      "execution_count": 33,
      "outputs": [
        {
          "output_type": "display_data",
          "data": {
            "image/png": "[encoded data removed]",
            "text/plain": [
              "<Figure size 800x550 with 1 Axes>"
            ]
          },
          "metadata": {
            "tags": []
          }
        }
      ]
    },
    {
      "cell_type": "markdown",
      "metadata": {
        "id": "k0q8fwYGSyYW",
        "colab_type": "text"
      },
      "source": [
        "We got back a model that is worse than the null model essentially... We would have had better performance if we predicted \"did not donate blood in May of 2007\" for every instance before class balancing."
      ]
    },
    {
      "cell_type": "markdown",
      "metadata": {
        "id": "S5HYCQGHake4",
        "colab_type": "text"
      },
      "source": [
        "## XGBoost"
      ]
    },
    {
      "cell_type": "code",
      "metadata": {
        "id": "hkR437OqbM1P",
        "colab_type": "code",
        "colab": {}
      },
      "source": [
        "!pip install xgboost -qq"
      ],
      "execution_count": 0,
      "outputs": []
    },
    {
      "cell_type": "code",
      "metadata": {
        "id": "wBf21RNQapMW",
        "colab_type": "code",
        "colab": {
          "base_uri": "https://localhost:8080/",
          "height": 72
        },
        "outputId": "83e7083e-185e-4000-eaed-c9c2da47ad51"
      },
      "source": [
        "from xgboost import XGBClassifier\n",
        "from xgboost.callback import early_stop\n",
        "\n",
        "X_train, X_test, y_train, y_test = train_test_split(features_res, target_res, train_size=0.3, random_state=42)\n",
        "\n",
        "param_grid = {\"n_estimators\": [50, 80, 100],\n",
        "              \"learning_rate\": [0.001, 0.01, 0.05],\n",
        "              \"max_depth\": [3, 4, 5], \n",
        "              \"booster\": [\"gbtree\", \"dart\"],\n",
        "              \"reg_lambda\": [0.4, 0.5, 0.8]\n",
        "              }\n",
        "\n",
        "gv_xgb = GridSearchCV(XGBClassifier(random_state=42, verbosity=1), param_grid, cv=10)\n",
        "start_time = default_timer()\n",
        "gv_xgb.fit(X_train, y_train, callbacks=[early_stop])\n",
        "y_pred = gv_xgb.predict(X_test)\n",
        "end_time = default_timer()"
      ],
      "execution_count": 35,
      "outputs": [
        {
          "output_type": "stream",
          "text": [
            "/usr/local/lib/python3.6/dist-packages/sklearn/model_selection/_search.py:814: DeprecationWarning: The default of the `iid` parameter will change from True to False in version 0.22 and will be removed in 0.24. This will change numeric results when test-set sizes are unequal.\n",
            "  DeprecationWarning)\n"
          ],
          "name": "stderr"
        }
      ]
    },
    {
      "cell_type": "code",
      "metadata": {
        "id": "ZV4LNNpk632I",
        "colab_type": "code",
        "colab": {
          "base_uri": "https://localhost:8080/",
          "height": 390
        },
        "outputId": "671e13a9-8876-4011-b974-f9208853d629"
      },
      "source": [
        "print(\"coefficient of determination R^2 of our estimator out of the box: {}\".format(gv_xgb.score(X_train, y_train)))\n",
        "print(\"ROC AUC score: {}\".format(roc_auc_score(y_test, y_pred)))\n",
        "print(classification_report(y_test, y_pred))\n",
        "print(\"Accuracy Score: {}\".format(accuracy_score(y_test, y_pred)))\n",
        "print(\"F1 Score: {}\".format(f1_score(y_test, y_pred)))\n",
        "print(\"Best Estimator: {}\".format(gv_xgb.best_estimator_))\n",
        "print(\"Time to train: {}s\".format(end_time - start_time))"
      ],
      "execution_count": 36,
      "outputs": [
        {
          "output_type": "stream",
          "text": [
            "coefficient of determination R^2 of our estimator out of the box: 0.9093567251461988\n",
            "ROC AUC score: 0.7448968052021487\n",
            "              precision    recall  f1-score   support\n",
            "\n",
            "           0       0.73      0.79      0.76       405\n",
            "           1       0.77      0.70      0.73       393\n",
            "\n",
            "    accuracy                           0.75       798\n",
            "   macro avg       0.75      0.74      0.74       798\n",
            "weighted avg       0.75      0.75      0.74       798\n",
            "\n",
            "Accuracy Score: 0.7456140350877193\n",
            "F1 Score: 0.729693741677763\n",
            "Best Estimator: XGBClassifier(base_score=0.5, booster='gbtree', colsample_bylevel=1,\n",
            "              colsample_bynode=1, colsample_bytree=1, gamma=0,\n",
            "              learning_rate=0.05, max_delta_step=0, max_depth=4,\n",
            "              min_child_weight=1, missing=None, n_estimators=100, n_jobs=1,\n",
            "              nthread=None, objective='binary:logistic', random_state=42,\n",
            "              reg_alpha=0, reg_lambda=0.4, scale_pos_weight=1, seed=None,\n",
            "              silent=None, subsample=1, verbosity=1)\n",
            "Time to train: 279.95699066099996s\n"
          ],
          "name": "stdout"
        }
      ]
    },
    {
      "cell_type": "code",
      "metadata": {
        "id": "3lPgCZ_w7A7J",
        "colab_type": "code",
        "colab": {
          "base_uri": "https://localhost:8080/",
          "height": 77
        },
        "outputId": "e8525d47-e1bc-4e12-933b-e981e5d851d2"
      },
      "source": [
        "xgb_perf = pd.DataFrame({\"id\":[\"002\"], \n",
        "        \"best_estimator\":f\"{gv_xgb.best_estimator_}\", \n",
        "        \"best_parameters\":f\"{gv_xgb.best_params_}\", \n",
        "        \"accuracy\":[accuracy_score(y_test, y_pred)], \n",
        "        \"precision\":[precision_score(y_test, y_pred)], \n",
        "        \"recall\":[recall_score(y_test, y_pred)], \n",
        "        \"roc_auc\":[roc_auc_score(y_test, y_pred)], \n",
        "        \"r2_score\":[gv_xgb.score(X_train, y_train)],\n",
        "        \"train_time(s)\": f\"{end_time-start_time}\"\n",
        "        })\n",
        "\n",
        "xgb_perf"
      ],
      "execution_count": 37,
      "outputs": [
        {
          "output_type": "execute_result",
          "data": {
            "text/html": [
              "<div>\n",
              "<style scoped>\n",
              "    .dataframe tbody tr th:only-of-type {\n",
              "        vertical-align: middle;\n",
              "    }\n",
              "\n",
              "    .dataframe tbody tr th {\n",
              "        vertical-align: top;\n",
              "    }\n",
              "\n",
              "    .dataframe thead th {\n",
              "        text-align: right;\n",
              "    }\n",
              "</style>\n",
              "<table border=\"1\" class=\"dataframe\">\n",
              "  <thead>\n",
              "    <tr style=\"text-align: right;\">\n",
              "      <th></th>\n",
              "      <th>id</th>\n",
              "      <th>best_estimator</th>\n",
              "      <th>best_parameters</th>\n",
              "      <th>accuracy</th>\n",
              "      <th>precision</th>\n",
              "      <th>recall</th>\n",
              "      <th>roc_auc</th>\n",
              "      <th>r2_score</th>\n",
              "      <th>train_time(s)</th>\n",
              "    </tr>\n",
              "  </thead>\n",
              "  <tbody>\n",
              "    <tr>\n",
              "      <th>0</th>\n",
              "      <td>002</td>\n",
              "      <td>XGBClassifier(base_score=0.5, booster='gbtree'...</td>\n",
              "      <td>{'booster': 'gbtree', 'learning_rate': 0.05, '...</td>\n",
              "      <td>0.745614</td>\n",
              "      <td>0.765363</td>\n",
              "      <td>0.697201</td>\n",
              "      <td>0.744897</td>\n",
              "      <td>0.909357</td>\n",
              "      <td>279.95699066099996</td>\n",
              "    </tr>\n",
              "  </tbody>\n",
              "</table>\n",
              "</div>"
            ],
            "text/plain": [
              "    id  ...       train_time(s)\n",
              "0  002  ...  279.95699066099996\n",
              "\n",
              "[1 rows x 9 columns]"
            ]
          },
          "metadata": {
            "tags": []
          },
          "execution_count": 37
        }
      ]
    },
    {
      "cell_type": "code",
      "metadata": {
        "id": "EArc7GHk775J",
        "colab_type": "code",
        "colab": {
          "base_uri": "https://localhost:8080/",
          "height": 107
        },
        "outputId": "df573e54-528d-4ad6-a85e-34c970082259"
      },
      "source": [
        "new_df = pd.concat([best_models_df, xgb_perf]).reset_index()\n",
        "new_df.head()"
      ],
      "execution_count": 38,
      "outputs": [
        {
          "output_type": "execute_result",
          "data": {
            "text/html": [
              "<div>\n",
              "<style scoped>\n",
              "    .dataframe tbody tr th:only-of-type {\n",
              "        vertical-align: middle;\n",
              "    }\n",
              "\n",
              "    .dataframe tbody tr th {\n",
              "        vertical-align: top;\n",
              "    }\n",
              "\n",
              "    .dataframe thead th {\n",
              "        text-align: right;\n",
              "    }\n",
              "</style>\n",
              "<table border=\"1\" class=\"dataframe\">\n",
              "  <thead>\n",
              "    <tr style=\"text-align: right;\">\n",
              "      <th></th>\n",
              "      <th>index</th>\n",
              "      <th>id</th>\n",
              "      <th>best_estimator</th>\n",
              "      <th>best_parameters</th>\n",
              "      <th>accuracy</th>\n",
              "      <th>precision</th>\n",
              "      <th>recall</th>\n",
              "      <th>roc_auc</th>\n",
              "      <th>r2_score</th>\n",
              "      <th>train_time(s)</th>\n",
              "    </tr>\n",
              "  </thead>\n",
              "  <tbody>\n",
              "    <tr>\n",
              "      <th>0</th>\n",
              "      <td>0</td>\n",
              "      <td>001</td>\n",
              "      <td>(DecisionTreeClassifier(class_weight=None, cri...</td>\n",
              "      <td>{'max_depth': 5, 'min_samples_leaf': 1, 'n_est...</td>\n",
              "      <td>0.505013</td>\n",
              "      <td>0.000000</td>\n",
              "      <td>0.000000</td>\n",
              "      <td>0.497531</td>\n",
              "      <td>0.720551</td>\n",
              "      <td>41.63667466600009</td>\n",
              "    </tr>\n",
              "    <tr>\n",
              "      <th>1</th>\n",
              "      <td>0</td>\n",
              "      <td>002</td>\n",
              "      <td>XGBClassifier(base_score=0.5, booster='gbtree'...</td>\n",
              "      <td>{'booster': 'gbtree', 'learning_rate': 0.05, '...</td>\n",
              "      <td>0.745614</td>\n",
              "      <td>0.765363</td>\n",
              "      <td>0.697201</td>\n",
              "      <td>0.744897</td>\n",
              "      <td>0.909357</td>\n",
              "      <td>279.95699066099996</td>\n",
              "    </tr>\n",
              "  </tbody>\n",
              "</table>\n",
              "</div>"
            ],
            "text/plain": [
              "   index   id  ...  r2_score       train_time(s)\n",
              "0      0  001  ...  0.720551   41.63667466600009\n",
              "1      0  002  ...  0.909357  279.95699066099996\n",
              "\n",
              "[2 rows x 10 columns]"
            ]
          },
          "metadata": {
            "tags": []
          },
          "execution_count": 38
        }
      ]
    },
    {
      "cell_type": "code",
      "metadata": {
        "id": "nPbGrYFxauJz",
        "colab_type": "code",
        "colab": {
          "base_uri": "https://localhost:8080/",
          "height": 527
        },
        "outputId": "184ec7a2-c643-4f03-957d-88ac1fc4b6e1"
      },
      "source": [
        "# Compute ROC curve and ROC area for each class\n",
        "from sklearn.metrics import roc_curve, auc\n",
        "n_classes = 2\n",
        "fpr = dict()\n",
        "tpr = dict()\n",
        "roc_auc = dict()\n",
        "for i in range(n_classes):\n",
        "    fpr[i], tpr[i], _ = roc_curve(y_test, y_pred)\n",
        "    roc_auc[i] = auc(fpr[i], tpr[i])\n",
        "\n",
        "# Compute micro-average ROC curve and ROC area\n",
        "fpr[\"micro\"], tpr[\"micro\"], _ = roc_curve(y_test.ravel(), y_pred.ravel())\n",
        "roc_auc[\"micro\"] = auc(fpr[\"micro\"], tpr[\"micro\"])\n",
        "\n",
        "plt.figure()\n",
        "lw = 2\n",
        "plt.plot(fpr[1], tpr[1], color='darkorange',\n",
        "         lw=lw, label='ROC curve (area = %0.2f)' % roc_auc[1])\n",
        "plt.plot([0, 1], [0, 1], color='navy', lw=lw, linestyle='--')\n",
        "plt.xlim([0.0, 1.0])\n",
        "plt.ylim([0.0, 1.05])\n",
        "plt.xlabel('False Positive Rate')\n",
        "plt.ylabel('True Positive Rate')\n",
        "plt.title('Receiver Operator Characteristic Curce')\n",
        "plt.legend(loc=\"lower right\")\n",
        "plt.show()"
      ],
      "execution_count": 39,
      "outputs": [
        {
          "output_type": "display_data",
          "data": {
            "image/png": "[encoded data removed]",
            "text/plain": [
              "<Figure size 800x550 with 1 Axes>"
            ]
          },
          "metadata": {
            "tags": []
          }
        }
      ]
    },
    {
      "cell_type": "markdown",
      "metadata": {
        "id": "partrNwdap2I",
        "colab_type": "text"
      },
      "source": [
        "## AdaBoost Classifier"
      ]
    },
    {
      "cell_type": "code",
      "metadata": {
        "id": "1cG82CfPar0U",
        "colab_type": "code",
        "colab": {
          "base_uri": "https://localhost:8080/",
          "height": 587
        },
        "outputId": "b504e231-a685-43ce-d2e4-d556712a8488"
      },
      "source": [
        "from sklearn.ensemble import AdaBoostClassifier\n",
        "from sklearn.tree import DecisionTreeClassifier\n",
        "from sklearn.naive_bayes import GaussianNB\n",
        "from sklearn.svm import SVC\n",
        "\n",
        "param_grid = {\"base_estimator\":[DecisionTreeClassifier(), SVC(gamma=\"auto\"), GaussianNB()],\n",
        "              \"n_estimators\": [20, 30, 40, 42],\n",
        "              \"learning_rate\": [0.001, 0.01, 0.1]\n",
        "              }\n",
        "\n",
        "gcv_adaboost = GridSearchCV(AdaBoostClassifier(algorithm=\"SAMME\", random_state=42), param_grid, cv=10)\n",
        "start_time = default_timer()\n",
        "gcv_adaboost.fit(X_train, y_train)\n",
        "y_pred = gcv_adaboost.predict(X_test)\n",
        "end_time = default_timer()\n",
        "print(\"coefficient of determination R^2 of our estimator out of the box: {}\".format(gcv_adaboost.score(X_train, y_train)))\n",
        "print(\"ROC AUC score: {}\".format(roc_auc_score(y_test, y_pred)))\n",
        "print(classification_report(y_test, y_pred))\n",
        "print(\"Accuracy Score: {}\".format(accuracy_score(y_test, y_pred)))\n",
        "print(\"F1 Score: {}\".format(f1_score(y_test, y_pred)))\n",
        "print(\"Best Estimator: {}\".format(gcv_adaboost.best_estimator_))\n",
        "print(\"Time to train: {}s\".format(end_time - start_time))"
      ],
      "execution_count": 40,
      "outputs": [
        {
          "output_type": "stream",
          "text": [
            "coefficient of determination R^2 of our estimator out of the box: 0.9766081871345029\n",
            "ROC AUC score: 0.7167561963999622\n",
            "              precision    recall  f1-score   support\n",
            "\n",
            "           0       0.69      0.80      0.74       405\n",
            "           1       0.76      0.63      0.69       393\n",
            "\n",
            "    accuracy                           0.72       798\n",
            "   macro avg       0.72      0.72      0.72       798\n",
            "weighted avg       0.72      0.72      0.72       798\n",
            "\n",
            "Accuracy Score: 0.7180451127819549\n",
            "F1 Score: 0.6879334257975034\n",
            "Best Estimator: AdaBoostClassifier(algorithm='SAMME',\n",
            "                   base_estimator=DecisionTreeClassifier(class_weight=None,\n",
            "                                                         criterion='gini',\n",
            "                                                         max_depth=None,\n",
            "                                                         max_features=None,\n",
            "                                                         max_leaf_nodes=None,\n",
            "                                                         min_impurity_decrease=0.0,\n",
            "                                                         min_impurity_split=None,\n",
            "                                                         min_samples_leaf=1,\n",
            "                                                         min_samples_split=2,\n",
            "                                                         min_weight_fraction_leaf=0.0,\n",
            "                                                         presort=False,\n",
            "                                                         random_state=None,\n",
            "                                                         splitter='best'),\n",
            "                   learning_rate=0.001, n_estimators=30, random_state=42)\n",
            "Time to train: 41.971122539000135s\n"
          ],
          "name": "stdout"
        },
        {
          "output_type": "stream",
          "text": [
            "/usr/local/lib/python3.6/dist-packages/sklearn/model_selection/_search.py:814: DeprecationWarning: The default of the `iid` parameter will change from True to False in version 0.22 and will be removed in 0.24. This will change numeric results when test-set sizes are unequal.\n",
            "  DeprecationWarning)\n"
          ],
          "name": "stderr"
        }
      ]
    },
    {
      "cell_type": "code",
      "metadata": {
        "id": "P2jH0l-h2uLl",
        "colab_type": "code",
        "colab": {
          "base_uri": "https://localhost:8080/",
          "height": 77
        },
        "outputId": "5d5c54d8-65a5-48cc-b559-ba9f64cb733a"
      },
      "source": [
        "adaboost_perf = pd.DataFrame({\"id\":[\"003\"], \n",
        "        \"best_estimator\":f\"{gcv_adaboost.best_estimator_}\", \n",
        "        \"best_parameters\":f\"{gcv_adaboost.best_params_}\", \n",
        "        \"accuracy\":[accuracy_score(y_test, y_pred)], \n",
        "        \"precision\":[precision_score(y_test, y_pred)], \n",
        "        \"recall\":[recall_score(y_test, y_pred)], \n",
        "        \"roc_auc\":[roc_auc_score(y_test, y_pred)], \n",
        "        \"r2_score\":[gcv_adaboost.score(X_train, y_train)],\n",
        "        \"train_time(s)\":f\"{end_time-start_time}\"\n",
        "        })\n",
        "\n",
        "adaboost_perf"
      ],
      "execution_count": 41,
      "outputs": [
        {
          "output_type": "execute_result",
          "data": {
            "text/html": [
              "<div>\n",
              "<style scoped>\n",
              "    .dataframe tbody tr th:only-of-type {\n",
              "        vertical-align: middle;\n",
              "    }\n",
              "\n",
              "    .dataframe tbody tr th {\n",
              "        vertical-align: top;\n",
              "    }\n",
              "\n",
              "    .dataframe thead th {\n",
              "        text-align: right;\n",
              "    }\n",
              "</style>\n",
              "<table border=\"1\" class=\"dataframe\">\n",
              "  <thead>\n",
              "    <tr style=\"text-align: right;\">\n",
              "      <th></th>\n",
              "      <th>id</th>\n",
              "      <th>best_estimator</th>\n",
              "      <th>best_parameters</th>\n",
              "      <th>accuracy</th>\n",
              "      <th>precision</th>\n",
              "      <th>recall</th>\n",
              "      <th>roc_auc</th>\n",
              "      <th>r2_score</th>\n",
              "      <th>train_time(s)</th>\n",
              "    </tr>\n",
              "  </thead>\n",
              "  <tbody>\n",
              "    <tr>\n",
              "      <th>0</th>\n",
              "      <td>003</td>\n",
              "      <td>AdaBoostClassifier(algorithm='SAMME',\\n       ...</td>\n",
              "      <td>{'base_estimator': DecisionTreeClassifier(clas...</td>\n",
              "      <td>0.718045</td>\n",
              "      <td>0.756098</td>\n",
              "      <td>0.631043</td>\n",
              "      <td>0.716756</td>\n",
              "      <td>0.976608</td>\n",
              "      <td>41.971122539000135</td>\n",
              "    </tr>\n",
              "  </tbody>\n",
              "</table>\n",
              "</div>"
            ],
            "text/plain": [
              "    id  ...       train_time(s)\n",
              "0  003  ...  41.971122539000135\n",
              "\n",
              "[1 rows x 9 columns]"
            ]
          },
          "metadata": {
            "tags": []
          },
          "execution_count": 41
        }
      ]
    },
    {
      "cell_type": "code",
      "metadata": {
        "id": "faOBm78a26wX",
        "colab_type": "code",
        "colab": {
          "base_uri": "https://localhost:8080/",
          "height": 137
        },
        "outputId": "2e8e9d6a-08b2-401a-9687-93abf0febfb5"
      },
      "source": [
        "performance_df = pd.concat([new_df, adaboost_perf], sort=False).reset_index()\n",
        "performance_df.head()"
      ],
      "execution_count": 47,
      "outputs": [
        {
          "output_type": "execute_result",
          "data": {
            "text/html": [
              "<div>\n",
              "<style scoped>\n",
              "    .dataframe tbody tr th:only-of-type {\n",
              "        vertical-align: middle;\n",
              "    }\n",
              "\n",
              "    .dataframe tbody tr th {\n",
              "        vertical-align: top;\n",
              "    }\n",
              "\n",
              "    .dataframe thead th {\n",
              "        text-align: right;\n",
              "    }\n",
              "</style>\n",
              "<table border=\"1\" class=\"dataframe\">\n",
              "  <thead>\n",
              "    <tr style=\"text-align: right;\">\n",
              "      <th></th>\n",
              "      <th>level_0</th>\n",
              "      <th>index</th>\n",
              "      <th>id</th>\n",
              "      <th>best_estimator</th>\n",
              "      <th>best_parameters</th>\n",
              "      <th>accuracy</th>\n",
              "      <th>precision</th>\n",
              "      <th>recall</th>\n",
              "      <th>roc_auc</th>\n",
              "      <th>r2_score</th>\n",
              "      <th>train_time(s)</th>\n",
              "    </tr>\n",
              "  </thead>\n",
              "  <tbody>\n",
              "    <tr>\n",
              "      <th>0</th>\n",
              "      <td>0</td>\n",
              "      <td>0.0</td>\n",
              "      <td>001</td>\n",
              "      <td>(DecisionTreeClassifier(class_weight=None, cri...</td>\n",
              "      <td>{'max_depth': 5, 'min_samples_leaf': 1, 'n_est...</td>\n",
              "      <td>0.505013</td>\n",
              "      <td>0.000000</td>\n",
              "      <td>0.000000</td>\n",
              "      <td>0.497531</td>\n",
              "      <td>0.720551</td>\n",
              "      <td>41.63667466600009</td>\n",
              "    </tr>\n",
              "    <tr>\n",
              "      <th>1</th>\n",
              "      <td>1</td>\n",
              "      <td>0.0</td>\n",
              "      <td>002</td>\n",
              "      <td>XGBClassifier(base_score=0.5, booster='gbtree'...</td>\n",
              "      <td>{'booster': 'gbtree', 'learning_rate': 0.05, '...</td>\n",
              "      <td>0.745614</td>\n",
              "      <td>0.765363</td>\n",
              "      <td>0.697201</td>\n",
              "      <td>0.744897</td>\n",
              "      <td>0.909357</td>\n",
              "      <td>279.95699066099996</td>\n",
              "    </tr>\n",
              "    <tr>\n",
              "      <th>2</th>\n",
              "      <td>0</td>\n",
              "      <td>NaN</td>\n",
              "      <td>003</td>\n",
              "      <td>AdaBoostClassifier(algorithm='SAMME',\\n       ...</td>\n",
              "      <td>{'base_estimator': DecisionTreeClassifier(clas...</td>\n",
              "      <td>0.718045</td>\n",
              "      <td>0.756098</td>\n",
              "      <td>0.631043</td>\n",
              "      <td>0.716756</td>\n",
              "      <td>0.976608</td>\n",
              "      <td>41.971122539000135</td>\n",
              "    </tr>\n",
              "  </tbody>\n",
              "</table>\n",
              "</div>"
            ],
            "text/plain": [
              "   level_0  index   id  ...   roc_auc  r2_score       train_time(s)\n",
              "0        0    0.0  001  ...  0.497531  0.720551   41.63667466600009\n",
              "1        1    0.0  002  ...  0.744897  0.909357  279.95699066099996\n",
              "2        0    NaN  003  ...  0.716756  0.976608  41.971122539000135\n",
              "\n",
              "[3 rows x 11 columns]"
            ]
          },
          "metadata": {
            "tags": []
          },
          "execution_count": 47
        }
      ]
    },
    {
      "cell_type": "code",
      "metadata": {
        "id": "9N2cR1x_axnA",
        "colab_type": "code",
        "colab": {
          "base_uri": "https://localhost:8080/",
          "height": 527
        },
        "outputId": "ae55063c-e785-4b52-b033-56bf6219298e"
      },
      "source": [
        "plot_roc(y_test, y_pred)"
      ],
      "execution_count": 48,
      "outputs": [
        {
          "output_type": "display_data",
          "data": {
            "image/png": "[encoded data removed]",
            "text/plain": [
              "<Figure size 800x550 with 1 Axes>"
            ]
          },
          "metadata": {
            "tags": []
          }
        }
      ]
    },
    {
      "cell_type": "markdown",
      "metadata": {
        "id": "PlmZEF-CbQF3",
        "colab_type": "text"
      },
      "source": [
        "### LIME algorithm and simple \n",
        "\n",
        "The Lime Algorithm allows us to have a little bit more interpretability in terms of the labels that we predict. LIME - Local Interpretable Model-Agnostic Explanations, meaning that our predicted explanations for our predictions can be explained through our prediction's relation to its neighboring (distance-wise) observations in a feature space.\n",
        "\n",
        "We can use the Tabular Explainer class in the LIME library to have a look at some of the predictions we have made and what features attribute the most neighborhood similarity to our predicted class."
      ]
    },
    {
      "cell_type": "code",
      "metadata": {
        "id": "etno3wuKbPti",
        "colab_type": "code",
        "outputId": "b430a593-c317-4f3b-a147-02bde8e063ac",
        "colab": {
          "base_uri": "https://localhost:8080/",
          "height": 52
        }
      },
      "source": [
        "!pip install lime -qq"
      ],
      "execution_count": 49,
      "outputs": [
        {
          "output_type": "stream",
          "text": [
            "\u001b[?25l\r\u001b[K     |█▏                              | 10kB 19.2MB/s eta 0:00:01\r\u001b[K     |██▍                             | 20kB 1.8MB/s eta 0:00:01\r\u001b[K     |███▋                            | 30kB 2.6MB/s eta 0:00:01\r\u001b[K     |████▊                           | 40kB 1.7MB/s eta 0:00:01\r\u001b[K     |██████                          | 51kB 2.1MB/s eta 0:00:01\r\u001b[K     |███████▏                        | 61kB 2.5MB/s eta 0:00:01\r\u001b[K     |████████▎                       | 71kB 2.9MB/s eta 0:00:01\r\u001b[K     |█████████▌                      | 81kB 3.3MB/s eta 0:00:01\r\u001b[K     |██████████▊                     | 92kB 3.7MB/s eta 0:00:01\r\u001b[K     |███████████▉                    | 102kB 2.8MB/s eta 0:00:01\r\u001b[K     |█████████████                   | 112kB 2.8MB/s eta 0:00:01\r\u001b[K     |██████████████▎                 | 122kB 2.8MB/s eta 0:00:01\r\u001b[K     |███████████████▍                | 133kB 2.8MB/s eta 0:00:01\r\u001b[K     |████████████████▋               | 143kB 2.8MB/s eta 0:00:01\r\u001b[K     |█████████████████▉              | 153kB 2.8MB/s eta 0:00:01\r\u001b[K     |███████████████████             | 163kB 2.8MB/s eta 0:00:01\r\u001b[K     |████████████████████▏           | 174kB 2.8MB/s eta 0:00:01\r\u001b[K     |█████████████████████▍          | 184kB 2.8MB/s eta 0:00:01\r\u001b[K     |██████████████████████▋         | 194kB 2.8MB/s eta 0:00:01\r\u001b[K     |███████████████████████▊        | 204kB 2.8MB/s eta 0:00:01\r\u001b[K     |█████████████████████████       | 215kB 2.8MB/s eta 0:00:01\r\u001b[K     |██████████████████████████▏     | 225kB 2.8MB/s eta 0:00:01\r\u001b[K     |███████████████████████████▎    | 235kB 2.8MB/s eta 0:00:01\r\u001b[K     |████████████████████████████▌   | 245kB 2.8MB/s eta 0:00:01\r\u001b[K     |█████████████████████████████▊  | 256kB 2.8MB/s eta 0:00:01\r\u001b[K     |██████████████████████████████▉ | 266kB 2.8MB/s eta 0:00:01\r\u001b[K     |████████████████████████████████| 276kB 2.8MB/s \n",
            "\u001b[?25h  Building wheel for lime (setup.py) ... \u001b[?25l\u001b[?25hdone\n"
          ],
          "name": "stdout"
        }
      ]
    },
    {
      "cell_type": "code",
      "metadata": {
        "id": "f1WC4ujanaiF",
        "colab_type": "code",
        "colab": {
          "base_uri": "https://localhost:8080/",
          "height": 197
        },
        "outputId": "c3e0d52e-4ced-41f2-9036-9b78a53b16ef"
      },
      "source": [
        "rescaled_df = pd.DataFrame(np.c_[features_res, target_res], columns=df.columns)\n",
        "rescaled_df.head()"
      ],
      "execution_count": 50,
      "outputs": [
        {
          "output_type": "execute_result",
          "data": {
            "text/html": [
              "<div>\n",
              "<style scoped>\n",
              "    .dataframe tbody tr th:only-of-type {\n",
              "        vertical-align: middle;\n",
              "    }\n",
              "\n",
              "    .dataframe tbody tr th {\n",
              "        vertical-align: top;\n",
              "    }\n",
              "\n",
              "    .dataframe thead th {\n",
              "        text-align: right;\n",
              "    }\n",
              "</style>\n",
              "<table border=\"1\" class=\"dataframe\">\n",
              "  <thead>\n",
              "    <tr style=\"text-align: right;\">\n",
              "      <th></th>\n",
              "      <th>Recency (months)</th>\n",
              "      <th>Monetary (c.c. blood)</th>\n",
              "      <th>Time (months)</th>\n",
              "      <th>target</th>\n",
              "    </tr>\n",
              "  </thead>\n",
              "  <tbody>\n",
              "    <tr>\n",
              "      <th>0</th>\n",
              "      <td>-0.927899</td>\n",
              "      <td>7.623346</td>\n",
              "      <td>2.615633</td>\n",
              "      <td>1.0</td>\n",
              "    </tr>\n",
              "    <tr>\n",
              "      <th>1</th>\n",
              "      <td>-1.175118</td>\n",
              "      <td>1.282738</td>\n",
              "      <td>-0.257881</td>\n",
              "      <td>1.0</td>\n",
              "    </tr>\n",
              "    <tr>\n",
              "      <th>2</th>\n",
              "      <td>-1.051508</td>\n",
              "      <td>1.796842</td>\n",
              "      <td>0.029471</td>\n",
              "      <td>1.0</td>\n",
              "    </tr>\n",
              "    <tr>\n",
              "      <th>3</th>\n",
              "      <td>-0.927899</td>\n",
              "      <td>2.482313</td>\n",
              "      <td>0.439973</td>\n",
              "      <td>1.0</td>\n",
              "    </tr>\n",
              "    <tr>\n",
              "      <th>4</th>\n",
              "      <td>-1.051508</td>\n",
              "      <td>3.167784</td>\n",
              "      <td>1.753579</td>\n",
              "      <td>0.0</td>\n",
              "    </tr>\n",
              "  </tbody>\n",
              "</table>\n",
              "</div>"
            ],
            "text/plain": [
              "   Recency (months)  Monetary (c.c. blood)  Time (months)  target\n",
              "0         -0.927899               7.623346       2.615633     1.0\n",
              "1         -1.175118               1.282738      -0.257881     1.0\n",
              "2         -1.051508               1.796842       0.029471     1.0\n",
              "3         -0.927899               2.482313       0.439973     1.0\n",
              "4         -1.051508               3.167784       1.753579     0.0"
            ]
          },
          "metadata": {
            "tags": []
          },
          "execution_count": 50
        }
      ]
    },
    {
      "cell_type": "code",
      "metadata": {
        "id": "syZZUltCmCB3",
        "colab_type": "code",
        "colab": {}
      },
      "source": [
        "from lime.lime_tabular import LimeTabularExplainer\n",
        "\n",
        "lte = LimeTabularExplainer(X_train, mode='classification', training_labels=[\"0\", \"1\"], feature_names=rescaled_df.columns[:-1], \n",
        "                           verbose=True, class_names=[\"target\"], feature_selection='auto')\n",
        "\n",
        "# lte.show_in_notebook(labels=None, predict_proba=True, show_predicted_value=True, **kwargs)"
      ],
      "execution_count": 0,
      "outputs": []
    },
    {
      "cell_type": "code",
      "metadata": {
        "id": "CJi3QAaItyGR",
        "colab_type": "code",
        "colab": {
          "base_uri": "https://localhost:8080/",
          "height": 871
        },
        "outputId": "251fed53-a891-4461-cbeb-7040f091d5a3"
      },
      "source": [
        "nb = GaussianNB().fit(X_train, y_train)\n",
        "\n",
        "exp = lte.explain_instance(X_test[3], nb.predict_proba,\n",
        "        num_features=rescaled_df.shape[1]-1, num_samples=rescaled_df.shape[0], \n",
        "        distance_metric='euclidean', model_regressor=None)\n",
        "\n",
        "exp.as_pyplot_figure()\n",
        "plt.tight_layout()"
      ],
      "execution_count": 52,
      "outputs": [
        {
          "output_type": "stream",
          "text": [
            "Intercept 0.5213086210720609\n",
            "Prediction_local [0.6511722]\n",
            "Right: 0.6734077906336553\n"
          ],
          "name": "stdout"
        },
        {
          "output_type": "error",
          "ename": "IndexError",
          "evalue": "ignored",
          "traceback": [
            "\u001b[0;31m---------------------------------------------------------------------------\u001b[0m",
            "\u001b[0;31mIndexError\u001b[0m                                Traceback (most recent call last)",
            "\u001b[0;32m<ipython-input-52-c5cc7b664a8b>\u001b[0m in \u001b[0;36m<module>\u001b[0;34m()\u001b[0m\n\u001b[1;32m      5\u001b[0m         distance_metric='euclidean', model_regressor=None)\n\u001b[1;32m      6\u001b[0m \u001b[0;34m\u001b[0m\u001b[0m\n\u001b[0;32m----> 7\u001b[0;31m \u001b[0mexp\u001b[0m\u001b[0;34m.\u001b[0m\u001b[0mas_pyplot_figure\u001b[0m\u001b[0;34m(\u001b[0m\u001b[0;34m)\u001b[0m\u001b[0;34m\u001b[0m\u001b[0;34m\u001b[0m\u001b[0m\n\u001b[0m\u001b[1;32m      8\u001b[0m \u001b[0mplt\u001b[0m\u001b[0;34m.\u001b[0m\u001b[0mtight_layout\u001b[0m\u001b[0;34m(\u001b[0m\u001b[0;34m)\u001b[0m\u001b[0;34m\u001b[0m\u001b[0;34m\u001b[0m\u001b[0m\n",
            "\u001b[0;32m/usr/local/lib/python3.6/dist-packages/lime/explanation.py\u001b[0m in \u001b[0;36mas_pyplot_figure\u001b[0;34m(self, label, **kwargs)\u001b[0m\n\u001b[1;32m    178\u001b[0m         \u001b[0mplt\u001b[0m\u001b[0;34m.\u001b[0m\u001b[0myticks\u001b[0m\u001b[0;34m(\u001b[0m\u001b[0mpos\u001b[0m\u001b[0;34m,\u001b[0m \u001b[0mnames\u001b[0m\u001b[0;34m)\u001b[0m\u001b[0;34m\u001b[0m\u001b[0;34m\u001b[0m\u001b[0m\n\u001b[1;32m    179\u001b[0m         \u001b[0;32mif\u001b[0m \u001b[0mself\u001b[0m\u001b[0;34m.\u001b[0m\u001b[0mmode\u001b[0m \u001b[0;34m==\u001b[0m \u001b[0;34m\"classification\"\u001b[0m\u001b[0;34m:\u001b[0m\u001b[0;34m\u001b[0m\u001b[0;34m\u001b[0m\u001b[0m\n\u001b[0;32m--> 180\u001b[0;31m             \u001b[0mtitle\u001b[0m \u001b[0;34m=\u001b[0m \u001b[0;34m'Local explanation for class %s'\u001b[0m \u001b[0;34m%\u001b[0m \u001b[0mself\u001b[0m\u001b[0;34m.\u001b[0m\u001b[0mclass_names\u001b[0m\u001b[0;34m[\u001b[0m\u001b[0mlabel\u001b[0m\u001b[0;34m]\u001b[0m\u001b[0;34m\u001b[0m\u001b[0;34m\u001b[0m\u001b[0m\n\u001b[0m\u001b[1;32m    181\u001b[0m         \u001b[0;32melse\u001b[0m\u001b[0;34m:\u001b[0m\u001b[0;34m\u001b[0m\u001b[0;34m\u001b[0m\u001b[0m\n\u001b[1;32m    182\u001b[0m             \u001b[0mtitle\u001b[0m \u001b[0;34m=\u001b[0m \u001b[0;34m'Local explanation'\u001b[0m\u001b[0;34m\u001b[0m\u001b[0;34m\u001b[0m\u001b[0m\n",
            "\u001b[0;31mIndexError\u001b[0m: list index out of range"
          ]
        },
        {
          "output_type": "display_data",
          "data": {
            "image/png": "[encoded data removed]",
            "text/plain": [
              "<Figure size 800x550 with 1 Axes>"
            ]
          },
          "metadata": {
            "tags": []
          }
        }
      ]
    },
    {
      "cell_type": "markdown",
      "metadata": {
        "id": "j6_w6gsN5uLr",
        "colab_type": "text"
      },
      "source": [
        "For the 4th test observation, the Receny of blood donation contributes the majority of the 'say' to the prediction swaying in favor of 'yes, did donate blood in May 2007\"."
      ]
    },
    {
      "cell_type": "code",
      "metadata": {
        "id": "5Pr5lKi65oSy",
        "colab_type": "code",
        "colab": {
          "base_uri": "https://localhost:8080/",
          "height": 871
        },
        "outputId": "6a885f4c-cba9-44d8-a220-8bfd5392ebcc"
      },
      "source": [
        "exp = lte.explain_instance(X_test[5], nb.predict_proba,\n",
        "        num_features=rescaled_df.shape[1]-1, num_samples=rescaled_df.shape[0], \n",
        "        distance_metric='euclidean', model_regressor=None)\n",
        "\n",
        "exp.as_pyplot_figure()\n",
        "plt.tight_layout()"
      ],
      "execution_count": 53,
      "outputs": [
        {
          "output_type": "stream",
          "text": [
            "Intercept 0.442697497011486\n",
            "Prediction_local [0.90316514]\n",
            "Right: 0.7862145901585166\n"
          ],
          "name": "stdout"
        },
        {
          "output_type": "error",
          "ename": "IndexError",
          "evalue": "ignored",
          "traceback": [
            "\u001b[0;31m---------------------------------------------------------------------------\u001b[0m",
            "\u001b[0;31mIndexError\u001b[0m                                Traceback (most recent call last)",
            "\u001b[0;32m<ipython-input-53-6602352e5e22>\u001b[0m in \u001b[0;36m<module>\u001b[0;34m()\u001b[0m\n\u001b[1;32m      3\u001b[0m         distance_metric='euclidean', model_regressor=None)\n\u001b[1;32m      4\u001b[0m \u001b[0;34m\u001b[0m\u001b[0m\n\u001b[0;32m----> 5\u001b[0;31m \u001b[0mexp\u001b[0m\u001b[0;34m.\u001b[0m\u001b[0mas_pyplot_figure\u001b[0m\u001b[0;34m(\u001b[0m\u001b[0;34m)\u001b[0m\u001b[0;34m\u001b[0m\u001b[0;34m\u001b[0m\u001b[0m\n\u001b[0m\u001b[1;32m      6\u001b[0m \u001b[0mplt\u001b[0m\u001b[0;34m.\u001b[0m\u001b[0mtight_layout\u001b[0m\u001b[0;34m(\u001b[0m\u001b[0;34m)\u001b[0m\u001b[0;34m\u001b[0m\u001b[0;34m\u001b[0m\u001b[0m\n",
            "\u001b[0;32m/usr/local/lib/python3.6/dist-packages/lime/explanation.py\u001b[0m in \u001b[0;36mas_pyplot_figure\u001b[0;34m(self, label, **kwargs)\u001b[0m\n\u001b[1;32m    178\u001b[0m         \u001b[0mplt\u001b[0m\u001b[0;34m.\u001b[0m\u001b[0myticks\u001b[0m\u001b[0;34m(\u001b[0m\u001b[0mpos\u001b[0m\u001b[0;34m,\u001b[0m \u001b[0mnames\u001b[0m\u001b[0;34m)\u001b[0m\u001b[0;34m\u001b[0m\u001b[0;34m\u001b[0m\u001b[0m\n\u001b[1;32m    179\u001b[0m         \u001b[0;32mif\u001b[0m \u001b[0mself\u001b[0m\u001b[0;34m.\u001b[0m\u001b[0mmode\u001b[0m \u001b[0;34m==\u001b[0m \u001b[0;34m\"classification\"\u001b[0m\u001b[0;34m:\u001b[0m\u001b[0;34m\u001b[0m\u001b[0;34m\u001b[0m\u001b[0m\n\u001b[0;32m--> 180\u001b[0;31m             \u001b[0mtitle\u001b[0m \u001b[0;34m=\u001b[0m \u001b[0;34m'Local explanation for class %s'\u001b[0m \u001b[0;34m%\u001b[0m \u001b[0mself\u001b[0m\u001b[0;34m.\u001b[0m\u001b[0mclass_names\u001b[0m\u001b[0;34m[\u001b[0m\u001b[0mlabel\u001b[0m\u001b[0;34m]\u001b[0m\u001b[0;34m\u001b[0m\u001b[0;34m\u001b[0m\u001b[0m\n\u001b[0m\u001b[1;32m    181\u001b[0m         \u001b[0;32melse\u001b[0m\u001b[0;34m:\u001b[0m\u001b[0;34m\u001b[0m\u001b[0;34m\u001b[0m\u001b[0m\n\u001b[1;32m    182\u001b[0m             \u001b[0mtitle\u001b[0m \u001b[0;34m=\u001b[0m \u001b[0;34m'Local explanation'\u001b[0m\u001b[0;34m\u001b[0m\u001b[0;34m\u001b[0m\u001b[0m\n",
            "\u001b[0;31mIndexError\u001b[0m: list index out of range"
          ]
        },
        {
          "output_type": "display_data",
          "data": {
            "image/png": "[encoded data removed]",
            "text/plain": [
              "<Figure size 800x550 with 1 Axes>"
            ]
          },
          "metadata": {
            "tags": []
          }
        }
      ]
    },
    {
      "cell_type": "markdown",
      "metadata": {
        "id": "Pye89pef6Azi",
        "colab_type": "text"
      },
      "source": [
        "The sixth test sample is predicted to have donated blood in May 2007 due to the amount of blood that they have donated as well as how recently they donated blood."
      ]
    },
    {
      "cell_type": "code",
      "metadata": {
        "id": "Vo2ml56f6TS9",
        "colab_type": "code",
        "colab": {
          "base_uri": "https://localhost:8080/",
          "height": 871
        },
        "outputId": "279f80e4-bcb1-4436-c947-3aa1f87e4e3b"
      },
      "source": [
        "exp = lte.explain_instance(X_test[19], nb.predict_proba,\n",
        "        num_features=rescaled_df.shape[1]-1, num_samples=X_test.shape[0], \n",
        "        distance_metric='euclidean', model_regressor=None)\n",
        "\n",
        "exp.as_pyplot_figure()\n",
        "plt.tight_layout()"
      ],
      "execution_count": 54,
      "outputs": [
        {
          "output_type": "stream",
          "text": [
            "Intercept 0.7022037945909345\n",
            "Prediction_local [0.02432061]\n",
            "Right: 0.010669774172572791\n"
          ],
          "name": "stdout"
        },
        {
          "output_type": "error",
          "ename": "IndexError",
          "evalue": "ignored",
          "traceback": [
            "\u001b[0;31m---------------------------------------------------------------------------\u001b[0m",
            "\u001b[0;31mIndexError\u001b[0m                                Traceback (most recent call last)",
            "\u001b[0;32m<ipython-input-54-7425b4a5e249>\u001b[0m in \u001b[0;36m<module>\u001b[0;34m()\u001b[0m\n\u001b[1;32m      3\u001b[0m         distance_metric='euclidean', model_regressor=None)\n\u001b[1;32m      4\u001b[0m \u001b[0;34m\u001b[0m\u001b[0m\n\u001b[0;32m----> 5\u001b[0;31m \u001b[0mexp\u001b[0m\u001b[0;34m.\u001b[0m\u001b[0mas_pyplot_figure\u001b[0m\u001b[0;34m(\u001b[0m\u001b[0;34m)\u001b[0m\u001b[0;34m\u001b[0m\u001b[0;34m\u001b[0m\u001b[0m\n\u001b[0m\u001b[1;32m      6\u001b[0m \u001b[0mplt\u001b[0m\u001b[0;34m.\u001b[0m\u001b[0mtight_layout\u001b[0m\u001b[0;34m(\u001b[0m\u001b[0;34m)\u001b[0m\u001b[0;34m\u001b[0m\u001b[0;34m\u001b[0m\u001b[0m\n",
            "\u001b[0;32m/usr/local/lib/python3.6/dist-packages/lime/explanation.py\u001b[0m in \u001b[0;36mas_pyplot_figure\u001b[0;34m(self, label, **kwargs)\u001b[0m\n\u001b[1;32m    178\u001b[0m         \u001b[0mplt\u001b[0m\u001b[0;34m.\u001b[0m\u001b[0myticks\u001b[0m\u001b[0;34m(\u001b[0m\u001b[0mpos\u001b[0m\u001b[0;34m,\u001b[0m \u001b[0mnames\u001b[0m\u001b[0;34m)\u001b[0m\u001b[0;34m\u001b[0m\u001b[0;34m\u001b[0m\u001b[0m\n\u001b[1;32m    179\u001b[0m         \u001b[0;32mif\u001b[0m \u001b[0mself\u001b[0m\u001b[0;34m.\u001b[0m\u001b[0mmode\u001b[0m \u001b[0;34m==\u001b[0m \u001b[0;34m\"classification\"\u001b[0m\u001b[0;34m:\u001b[0m\u001b[0;34m\u001b[0m\u001b[0;34m\u001b[0m\u001b[0m\n\u001b[0;32m--> 180\u001b[0;31m             \u001b[0mtitle\u001b[0m \u001b[0;34m=\u001b[0m \u001b[0;34m'Local explanation for class %s'\u001b[0m \u001b[0;34m%\u001b[0m \u001b[0mself\u001b[0m\u001b[0;34m.\u001b[0m\u001b[0mclass_names\u001b[0m\u001b[0;34m[\u001b[0m\u001b[0mlabel\u001b[0m\u001b[0;34m]\u001b[0m\u001b[0;34m\u001b[0m\u001b[0;34m\u001b[0m\u001b[0m\n\u001b[0m\u001b[1;32m    181\u001b[0m         \u001b[0;32melse\u001b[0m\u001b[0;34m:\u001b[0m\u001b[0;34m\u001b[0m\u001b[0;34m\u001b[0m\u001b[0m\n\u001b[1;32m    182\u001b[0m             \u001b[0mtitle\u001b[0m \u001b[0;34m=\u001b[0m \u001b[0;34m'Local explanation'\u001b[0m\u001b[0;34m\u001b[0m\u001b[0;34m\u001b[0m\u001b[0m\n",
            "\u001b[0;31mIndexError\u001b[0m: list index out of range"
          ]
        },
        {
          "output_type": "display_data",
          "data": {
            "image/png": "[encoded data removed]",
            "text/plain": [
              "<Figure size 800x550 with 1 Axes>"
            ]
          },
          "metadata": {
            "tags": []
          }
        }
      ]
    },
    {
      "cell_type": "markdown",
      "metadata": {
        "id": "eyFHy-B66eAf",
        "colab_type": "text"
      },
      "source": [
        "The 20th text observation is predicted to not have donated blood in May 2007, majorly attributable to the fact that the number of months since they donated blood is larger in comparison to the neighboring test observations."
      ]
    },
    {
      "cell_type": "markdown",
      "metadata": {
        "id": "jHuEF6GV64z4",
        "colab_type": "text"
      },
      "source": [
        "That was just a taste of the power of the LIME model and how we can explain some of the contributions of our predictions."
      ]
    },
    {
      "cell_type": "markdown",
      "metadata": {
        "id": "BB5PdYVPg-zk",
        "colab_type": "text"
      },
      "source": [
        "## Model Selection and Evaluation Pipeline"
      ]
    },
    {
      "cell_type": "code",
      "metadata": {
        "id": "VJc7O95_h39q",
        "colab_type": "code",
        "outputId": "8f0a6cf8-92aa-48a6-bece-b48c69a00e05",
        "colab": {
          "base_uri": "https://localhost:8080/",
          "height": 105
        }
      },
      "source": [
        "# install feature selection and model selection pipeline libraries\n",
        "!pip install mlxtend -qq\n",
        "!pip install tpot -qq"
      ],
      "execution_count": 55,
      "outputs": [
        {
          "output_type": "stream",
          "text": [
            "\u001b[K     |████████████████████████████████| 901kB 2.8MB/s \n",
            "\u001b[K     |████████████████████████████████| 153kB 57.1MB/s \n",
            "\u001b[K     |████████████████████████████████| 61kB 7.7MB/s \n",
            "\u001b[?25h  Building wheel for tpot (setup.py) ... \u001b[?25l\u001b[?25hdone\n",
            "  Building wheel for stopit (setup.py) ... \u001b[?25l\u001b[?25hdone\n"
          ],
          "name": "stdout"
        }
      ]
    },
    {
      "cell_type": "markdown",
      "metadata": {
        "id": "gwHcKaVDpWe8",
        "colab_type": "text"
      },
      "source": [
        "### Model Selection using TPOT"
      ]
    },
    {
      "cell_type": "code",
      "metadata": {
        "id": "4YyatmwYpbgN",
        "colab_type": "code",
        "outputId": "7554935f-4e10-4fe9-be99-5e11c62b6787",
        "colab": {
          "base_uri": "https://localhost:8080/",
          "height": 303
        }
      },
      "source": [
        "from tpot import TPOTClassifier\n",
        "\n",
        "tpot_classifier = TPOTClassifier(generations=30, population_size=100, cv=10, random_state=42, verbosity=1, memory='auto')\n",
        "\n",
        "start_time = default_timer()\n",
        "tpot_classifier.fit(X_train, y_train)\n",
        "print(\"TPOT Score: {}\".format(tpot_classifier.score(X_test, y_test)))\n",
        "y_pred = tpot_classifier.predict(X_test)\n",
        "end_time = default_timer()\n",
        "\n",
        "runtime = end_time - start_time\n",
        "\n",
        "print(f\"Total runtime for the Employee dataset: {runtime}s\")"
      ],
      "execution_count": 56,
      "outputs": [
        {
          "output_type": "stream",
          "text": [
            "Best pipeline: XGBClassifier(CombineDFs(LinearSVC(CombineDFs(CombineDFs(StandardScaler(input_matrix), input_matrix), input_matrix), C=0.0001, dual=False, loss=squared_hinge, penalty=l2, tol=1e-05), input_matrix), learning_rate=0.5, max_depth=9, min_child_weight=3, n_estimators=100, nthread=1, subsample=0.45)\n",
            "TPOT Score: 0.7418546365914787\n",
            "Total runtime for the Employee dataset: 3245.891771926s\n"
          ],
          "name": "stdout"
        },
        {
          "output_type": "stream",
          "text": [
            "/usr/local/lib/python3.6/dist-packages/sklearn/preprocessing/_function_transformer.py:97: FutureWarning: The default validate=True will be replaced by validate=False in 0.22.\n",
            "  \"validate=False in 0.22.\", FutureWarning)\n",
            "/usr/local/lib/python3.6/dist-packages/sklearn/preprocessing/_function_transformer.py:97: FutureWarning: The default validate=True will be replaced by validate=False in 0.22.\n",
            "  \"validate=False in 0.22.\", FutureWarning)\n",
            "/usr/local/lib/python3.6/dist-packages/sklearn/preprocessing/_function_transformer.py:97: FutureWarning: The default validate=True will be replaced by validate=False in 0.22.\n",
            "  \"validate=False in 0.22.\", FutureWarning)\n",
            "/usr/local/lib/python3.6/dist-packages/sklearn/preprocessing/_function_transformer.py:97: FutureWarning: The default validate=True will be replaced by validate=False in 0.22.\n",
            "  \"validate=False in 0.22.\", FutureWarning)\n",
            "/usr/local/lib/python3.6/dist-packages/sklearn/preprocessing/_function_transformer.py:97: FutureWarning: The default validate=True will be replaced by validate=False in 0.22.\n",
            "  \"validate=False in 0.22.\", FutureWarning)\n",
            "/usr/local/lib/python3.6/dist-packages/sklearn/preprocessing/_function_transformer.py:97: FutureWarning: The default validate=True will be replaced by validate=False in 0.22.\n",
            "  \"validate=False in 0.22.\", FutureWarning)\n"
          ],
          "name": "stderr"
        }
      ]
    },
    {
      "cell_type": "code",
      "metadata": {
        "id": "09SqX9NZWuu3",
        "colab_type": "code",
        "colab": {}
      },
      "source": [
        "tpot_classifier.export('tpot_exported_pipeline.py')"
      ],
      "execution_count": 0,
      "outputs": []
    },
    {
      "cell_type": "code",
      "metadata": {
        "id": "0KTgnalnULBY",
        "colab_type": "code",
        "colab": {}
      },
      "source": [
        "# 3809.0180992140013\n",
        "# XGBClassifier(CombineDFs(LinearSVC(CombineDFs(CombineDFs(StandardScaler(input_matrix), input_matrix), input_matrix), C=0.0001, dual=False, loss=squared_hinge, penalty=l2, tol=1e-05), input_matrix), learning_rate=0.5, max_depth=9, min_child_weight=3, n_estimators=100, nthread=1, subsample=0.45)"
      ],
      "execution_count": 0,
      "outputs": []
    },
    {
      "cell_type": "code",
      "metadata": {
        "id": "qAwvQHQpVhHR",
        "colab_type": "code",
        "colab": {}
      },
      "source": [
        "# print(\"Best Estimator: \\n{}\\nBest Score: \\n{}\\nBest Params: \\n{}\\nScorer: \\n{}\".format(\n",
        "# tpot_classifier.best_estimator_, \n",
        "# tpot_classifier.tpot_regressor.score, \n",
        "# tpot_classifier.best_params_, \n",
        "# tpot_classifier.scorer_))"
      ],
      "execution_count": 0,
      "outputs": []
    },
    {
      "cell_type": "code",
      "metadata": {
        "colab_type": "code",
        "outputId": "8b178d4a-8882-4e13-e614-7b4d5274d8a0",
        "id": "g0tmuqGSUsMh",
        "colab": {
          "base_uri": "https://localhost:8080/",
          "height": 184
        }
      },
      "source": [
        "from sklearn.metrics import r2_score\n",
        "\n",
        "tpot_perf = pd.DataFrame({\"id\":[\"004\"], \n",
        "        \"best_estimator\":f\"{tpot_classifier.fitted_pipeline_}\", \n",
        "        \"best_parameters\":f\"{tpot_classifier.get_params}\", \n",
        "        \"accuracy\":[tpot_classifier.score(X_train, y_train)], \n",
        "        \"precision\":[precision_score(y_test, y_pred)], \n",
        "        \"recall\":[recall_score(y_test, y_pred)], \n",
        "        \"roc_auc\":[roc_auc_score(y_test, y_pred)], \n",
        "        \"r2_score\":[r2_score(y_test, y_pred)],\n",
        "        \"train_time(s)\":f\"{end_time-start_time}\"\n",
        "        })\n",
        "\n",
        "tpot_perf"
      ],
      "execution_count": 69,
      "outputs": [
        {
          "output_type": "stream",
          "text": [
            "/usr/local/lib/python3.6/dist-packages/sklearn/preprocessing/_function_transformer.py:97: FutureWarning: The default validate=True will be replaced by validate=False in 0.22.\n",
            "  \"validate=False in 0.22.\", FutureWarning)\n",
            "/usr/local/lib/python3.6/dist-packages/sklearn/preprocessing/_function_transformer.py:97: FutureWarning: The default validate=True will be replaced by validate=False in 0.22.\n",
            "  \"validate=False in 0.22.\", FutureWarning)\n",
            "/usr/local/lib/python3.6/dist-packages/sklearn/preprocessing/_function_transformer.py:97: FutureWarning: The default validate=True will be replaced by validate=False in 0.22.\n",
            "  \"validate=False in 0.22.\", FutureWarning)\n"
          ],
          "name": "stderr"
        },
        {
          "output_type": "execute_result",
          "data": {
            "text/html": [
              "<div>\n",
              "<style scoped>\n",
              "    .dataframe tbody tr th:only-of-type {\n",
              "        vertical-align: middle;\n",
              "    }\n",
              "\n",
              "    .dataframe tbody tr th {\n",
              "        vertical-align: top;\n",
              "    }\n",
              "\n",
              "    .dataframe thead th {\n",
              "        text-align: right;\n",
              "    }\n",
              "</style>\n",
              "<table border=\"1\" class=\"dataframe\">\n",
              "  <thead>\n",
              "    <tr style=\"text-align: right;\">\n",
              "      <th></th>\n",
              "      <th>id</th>\n",
              "      <th>best_estimator</th>\n",
              "      <th>best_parameters</th>\n",
              "      <th>accuracy</th>\n",
              "      <th>precision</th>\n",
              "      <th>recall</th>\n",
              "      <th>roc_auc</th>\n",
              "      <th>r2_score</th>\n",
              "      <th>train_time(s)</th>\n",
              "    </tr>\n",
              "  </thead>\n",
              "  <tbody>\n",
              "    <tr>\n",
              "      <th>0</th>\n",
              "      <td>004</td>\n",
              "      <td>Pipeline(memory=Memory(location=/tmp/tmphuhixk...</td>\n",
              "      <td>&lt;bound method BaseEstimator.get_params of TPOT...</td>\n",
              "      <td>0.888889</td>\n",
              "      <td>0.753388</td>\n",
              "      <td>0.707379</td>\n",
              "      <td>0.741344</td>\n",
              "      <td>-0.032815</td>\n",
              "      <td>3245.891771926</td>\n",
              "    </tr>\n",
              "  </tbody>\n",
              "</table>\n",
              "</div>"
            ],
            "text/plain": [
              "    id  ...   train_time(s)\n",
              "0  004  ...  3245.891771926\n",
              "\n",
              "[1 rows x 9 columns]"
            ]
          },
          "metadata": {
            "tags": []
          },
          "execution_count": 69
        }
      ]
    },
    {
      "cell_type": "code",
      "metadata": {
        "colab_type": "code",
        "outputId": "b5e5d8f3-5212-497e-cb28-6f02f32b8f3e",
        "id": "yJXA-dt3UsMl",
        "colab": {
          "base_uri": "https://localhost:8080/",
          "height": 167
        }
      },
      "source": [
        "all_perf_df = pd.concat([performance_df, tpot_perf], sort=False, ignore_index=True).reset_index(drop=True)"
      ],
      "execution_count": 71,
      "outputs": [
        {
          "output_type": "execute_result",
          "data": {
            "text/html": [
              "<div>\n",
              "<style scoped>\n",
              "    .dataframe tbody tr th:only-of-type {\n",
              "        vertical-align: middle;\n",
              "    }\n",
              "\n",
              "    .dataframe tbody tr th {\n",
              "        vertical-align: top;\n",
              "    }\n",
              "\n",
              "    .dataframe thead th {\n",
              "        text-align: right;\n",
              "    }\n",
              "</style>\n",
              "<table border=\"1\" class=\"dataframe\">\n",
              "  <thead>\n",
              "    <tr style=\"text-align: right;\">\n",
              "      <th></th>\n",
              "      <th>level_0</th>\n",
              "      <th>index</th>\n",
              "      <th>id</th>\n",
              "      <th>best_estimator</th>\n",
              "      <th>best_parameters</th>\n",
              "      <th>accuracy</th>\n",
              "      <th>precision</th>\n",
              "      <th>recall</th>\n",
              "      <th>roc_auc</th>\n",
              "      <th>r2_score</th>\n",
              "      <th>train_time(s)</th>\n",
              "    </tr>\n",
              "  </thead>\n",
              "  <tbody>\n",
              "    <tr>\n",
              "      <th>0</th>\n",
              "      <td>0.0</td>\n",
              "      <td>0.0</td>\n",
              "      <td>001</td>\n",
              "      <td>(DecisionTreeClassifier(class_weight=None, cri...</td>\n",
              "      <td>{'max_depth': 5, 'min_samples_leaf': 1, 'n_est...</td>\n",
              "      <td>0.505013</td>\n",
              "      <td>0.000000</td>\n",
              "      <td>0.000000</td>\n",
              "      <td>0.497531</td>\n",
              "      <td>0.720551</td>\n",
              "      <td>41.63667466600009</td>\n",
              "    </tr>\n",
              "    <tr>\n",
              "      <th>1</th>\n",
              "      <td>1.0</td>\n",
              "      <td>0.0</td>\n",
              "      <td>002</td>\n",
              "      <td>XGBClassifier(base_score=0.5, booster='gbtree'...</td>\n",
              "      <td>{'booster': 'gbtree', 'learning_rate': 0.05, '...</td>\n",
              "      <td>0.745614</td>\n",
              "      <td>0.765363</td>\n",
              "      <td>0.697201</td>\n",
              "      <td>0.744897</td>\n",
              "      <td>0.909357</td>\n",
              "      <td>279.95699066099996</td>\n",
              "    </tr>\n",
              "    <tr>\n",
              "      <th>2</th>\n",
              "      <td>0.0</td>\n",
              "      <td>NaN</td>\n",
              "      <td>003</td>\n",
              "      <td>AdaBoostClassifier(algorithm='SAMME',\\n       ...</td>\n",
              "      <td>{'base_estimator': DecisionTreeClassifier(clas...</td>\n",
              "      <td>0.718045</td>\n",
              "      <td>0.756098</td>\n",
              "      <td>0.631043</td>\n",
              "      <td>0.716756</td>\n",
              "      <td>0.976608</td>\n",
              "      <td>41.971122539000135</td>\n",
              "    </tr>\n",
              "    <tr>\n",
              "      <th>3</th>\n",
              "      <td>NaN</td>\n",
              "      <td>NaN</td>\n",
              "      <td>004</td>\n",
              "      <td>Pipeline(memory=Memory(location=/tmp/tmphuhixk...</td>\n",
              "      <td>&lt;bound method BaseEstimator.get_params of TPOT...</td>\n",
              "      <td>0.888889</td>\n",
              "      <td>0.753388</td>\n",
              "      <td>0.707379</td>\n",
              "      <td>0.741344</td>\n",
              "      <td>-0.032815</td>\n",
              "      <td>3245.891771926</td>\n",
              "    </tr>\n",
              "  </tbody>\n",
              "</table>\n",
              "</div>"
            ],
            "text/plain": [
              "   level_0  index   id  ...   roc_auc  r2_score       train_time(s)\n",
              "0      0.0    0.0  001  ...  0.497531  0.720551   41.63667466600009\n",
              "1      1.0    0.0  002  ...  0.744897  0.909357  279.95699066099996\n",
              "2      0.0    NaN  003  ...  0.716756  0.976608  41.971122539000135\n",
              "3      NaN    NaN  004  ...  0.741344 -0.032815      3245.891771926\n",
              "\n",
              "[4 rows x 11 columns]"
            ]
          },
          "metadata": {
            "tags": []
          },
          "execution_count": 71
        }
      ]
    },
    {
      "cell_type": "code",
      "metadata": {
        "id": "3Dsv2kkeurDF",
        "colab_type": "code",
        "colab": {
          "base_uri": "https://localhost:8080/",
          "height": 167
        },
        "outputId": "ab4f2fd6-c300-485e-cffb-cc941d79e099"
      },
      "source": [
        "all_perf_df.drop(['level_0', 'index'], axis=1, inplace=True)\n",
        "all_perf_df.head()"
      ],
      "execution_count": 73,
      "outputs": [
        {
          "output_type": "execute_result",
          "data": {
            "text/html": [
              "<div>\n",
              "<style scoped>\n",
              "    .dataframe tbody tr th:only-of-type {\n",
              "        vertical-align: middle;\n",
              "    }\n",
              "\n",
              "    .dataframe tbody tr th {\n",
              "        vertical-align: top;\n",
              "    }\n",
              "\n",
              "    .dataframe thead th {\n",
              "        text-align: right;\n",
              "    }\n",
              "</style>\n",
              "<table border=\"1\" class=\"dataframe\">\n",
              "  <thead>\n",
              "    <tr style=\"text-align: right;\">\n",
              "      <th></th>\n",
              "      <th>id</th>\n",
              "      <th>best_estimator</th>\n",
              "      <th>best_parameters</th>\n",
              "      <th>accuracy</th>\n",
              "      <th>precision</th>\n",
              "      <th>recall</th>\n",
              "      <th>roc_auc</th>\n",
              "      <th>r2_score</th>\n",
              "      <th>train_time(s)</th>\n",
              "    </tr>\n",
              "  </thead>\n",
              "  <tbody>\n",
              "    <tr>\n",
              "      <th>0</th>\n",
              "      <td>001</td>\n",
              "      <td>(DecisionTreeClassifier(class_weight=None, cri...</td>\n",
              "      <td>{'max_depth': 5, 'min_samples_leaf': 1, 'n_est...</td>\n",
              "      <td>0.505013</td>\n",
              "      <td>0.000000</td>\n",
              "      <td>0.000000</td>\n",
              "      <td>0.497531</td>\n",
              "      <td>0.720551</td>\n",
              "      <td>41.63667466600009</td>\n",
              "    </tr>\n",
              "    <tr>\n",
              "      <th>1</th>\n",
              "      <td>002</td>\n",
              "      <td>XGBClassifier(base_score=0.5, booster='gbtree'...</td>\n",
              "      <td>{'booster': 'gbtree', 'learning_rate': 0.05, '...</td>\n",
              "      <td>0.745614</td>\n",
              "      <td>0.765363</td>\n",
              "      <td>0.697201</td>\n",
              "      <td>0.744897</td>\n",
              "      <td>0.909357</td>\n",
              "      <td>279.95699066099996</td>\n",
              "    </tr>\n",
              "    <tr>\n",
              "      <th>2</th>\n",
              "      <td>003</td>\n",
              "      <td>AdaBoostClassifier(algorithm='SAMME',\\n       ...</td>\n",
              "      <td>{'base_estimator': DecisionTreeClassifier(clas...</td>\n",
              "      <td>0.718045</td>\n",
              "      <td>0.756098</td>\n",
              "      <td>0.631043</td>\n",
              "      <td>0.716756</td>\n",
              "      <td>0.976608</td>\n",
              "      <td>41.971122539000135</td>\n",
              "    </tr>\n",
              "    <tr>\n",
              "      <th>3</th>\n",
              "      <td>004</td>\n",
              "      <td>Pipeline(memory=Memory(location=/tmp/tmphuhixk...</td>\n",
              "      <td>&lt;bound method BaseEstimator.get_params of TPOT...</td>\n",
              "      <td>0.888889</td>\n",
              "      <td>0.753388</td>\n",
              "      <td>0.707379</td>\n",
              "      <td>0.741344</td>\n",
              "      <td>-0.032815</td>\n",
              "      <td>3245.891771926</td>\n",
              "    </tr>\n",
              "  </tbody>\n",
              "</table>\n",
              "</div>"
            ],
            "text/plain": [
              "    id  ...       train_time(s)\n",
              "0  001  ...   41.63667466600009\n",
              "1  002  ...  279.95699066099996\n",
              "2  003  ...  41.971122539000135\n",
              "3  004  ...      3245.891771926\n",
              "\n",
              "[4 rows x 9 columns]"
            ]
          },
          "metadata": {
            "tags": []
          },
          "execution_count": 73
        }
      ]
    },
    {
      "cell_type": "code",
      "metadata": {
        "id": "JgdQzwGnumbc",
        "colab_type": "code",
        "colab": {}
      },
      "source": [
        "all_perf_df.to_csv(\"blood_transfusion_prediction_experiments.csv\")"
      ],
      "execution_count": 0,
      "outputs": []
    },
    {
      "cell_type": "markdown",
      "metadata": {
        "id": "V2RW13ftJnqw",
        "colab_type": "text"
      },
      "source": [
        "# Conclusion and Reflections\n",
        "\n",
        "All this, for what? This was a relatively contrive and simple dataset that I had initally thought would be fairly simple to explore and model, however, in the end, I made this little experiment to be much more complicated than it had to be with some testing of various null models, feature selection, profiling, EDA, data augmentation, over sampling, model selection, and hyperparameter selection.\n",
        "\n",
        "This is a good example of me just being a little curious and trying out new things and going that extra mile to have fun and curiosity in the types of modeling and tooling out there for predictive analytics that can be applied to any type of machine learning problem. This is just a simple flat file that wasn't too big of a deal, but it was fun going through all that.\n",
        "\n",
        "Note: That feeling when a model selection process throws an error or freezes because of a timeout or some other error...oof."
      ]
    }
  ]
}